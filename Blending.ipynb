{
 "cells": [
  {
   "cell_type": "code",
   "execution_count": 1,
   "id": "ca960dcc",
   "metadata": {},
   "outputs": [],
   "source": [
    "import pandas as pd\n",
    "import os"
   ]
  },
  {
   "cell_type": "code",
   "execution_count": 27,
   "id": "4853a306",
   "metadata": {},
   "outputs": [],
   "source": [
    "data_path = 'data'\n",
    "group_col = 'srch_id'\n",
    "\n",
    "file_1 = 'submission_18'\n",
    "w1 = 0.35\n",
    "file_2 = 'submission_19'\n",
    "w2 = 0.65\n",
    "\n",
    "total_name = 'submission_20'\n",
    "total_filename = f'submissions/{total_name}.csv'"
   ]
  },
  {
   "cell_type": "code",
   "execution_count": 3,
   "id": "b8c6a61d",
   "metadata": {
    "scrolled": true
   },
   "outputs": [
    {
     "name": "stdout",
     "output_type": "stream",
     "text": [
      "everything is ok to submit\n",
      "everything is ok to submit\n"
     ]
    }
   ],
   "source": [
    "from utils import validate_submission\n",
    "\n",
    "validate_submission(os.path.join(data_path, 'submission_sample.csv'),\n",
    "                    os.path.join('submissions', f'{file_1}.csv'),\n",
    "                    group_col)\n",
    "\n",
    "validate_submission(os.path.join(data_path, 'submission_sample.csv'),\n",
    "                    os.path.join('submissions', f'{file_2}.csv'),\n",
    "                    group_col)"
   ]
  },
  {
   "cell_type": "code",
   "execution_count": 4,
   "id": "a4e22580",
   "metadata": {},
   "outputs": [
    {
     "data": {
      "text/html": [
       "<div>\n",
       "<style scoped>\n",
       "    .dataframe tbody tr th:only-of-type {\n",
       "        vertical-align: middle;\n",
       "    }\n",
       "\n",
       "    .dataframe tbody tr th {\n",
       "        vertical-align: top;\n",
       "    }\n",
       "\n",
       "    .dataframe thead th {\n",
       "        text-align: right;\n",
       "    }\n",
       "</style>\n",
       "<table border=\"1\" class=\"dataframe\">\n",
       "  <thead>\n",
       "    <tr style=\"text-align: right;\">\n",
       "      <th></th>\n",
       "      <th>srch_id</th>\n",
       "      <th>prop_id</th>\n",
       "      <th>ord</th>\n",
       "    </tr>\n",
       "  </thead>\n",
       "  <tbody>\n",
       "    <tr>\n",
       "      <th>0</th>\n",
       "      <td>1</td>\n",
       "      <td>99484</td>\n",
       "      <td>0.676510</td>\n",
       "    </tr>\n",
       "    <tr>\n",
       "      <th>1</th>\n",
       "      <td>1</td>\n",
       "      <td>54937</td>\n",
       "      <td>0.563983</td>\n",
       "    </tr>\n",
       "    <tr>\n",
       "      <th>2</th>\n",
       "      <td>1</td>\n",
       "      <td>61934</td>\n",
       "      <td>0.543081</td>\n",
       "    </tr>\n",
       "    <tr>\n",
       "      <th>3</th>\n",
       "      <td>1</td>\n",
       "      <td>24194</td>\n",
       "      <td>0.258734</td>\n",
       "    </tr>\n",
       "    <tr>\n",
       "      <th>4</th>\n",
       "      <td>1</td>\n",
       "      <td>28181</td>\n",
       "      <td>0.248371</td>\n",
       "    </tr>\n",
       "  </tbody>\n",
       "</table>\n",
       "</div>"
      ],
      "text/plain": [
       "   srch_id  prop_id       ord\n",
       "0        1    99484  0.676510\n",
       "1        1    54937  0.563983\n",
       "2        1    61934  0.543081\n",
       "3        1    24194  0.258734\n",
       "4        1    28181  0.248371"
      ]
     },
     "execution_count": 4,
     "metadata": {},
     "output_type": "execute_result"
    }
   ],
   "source": [
    "subm_1 = pd.read_csv(f'submissions/{file_1}_scores.csv')\n",
    "subm_1.head()"
   ]
  },
  {
   "cell_type": "code",
   "execution_count": 5,
   "id": "af080020",
   "metadata": {},
   "outputs": [
    {
     "data": {
      "text/html": [
       "<div>\n",
       "<style scoped>\n",
       "    .dataframe tbody tr th:only-of-type {\n",
       "        vertical-align: middle;\n",
       "    }\n",
       "\n",
       "    .dataframe tbody tr th {\n",
       "        vertical-align: top;\n",
       "    }\n",
       "\n",
       "    .dataframe thead th {\n",
       "        text-align: right;\n",
       "    }\n",
       "</style>\n",
       "<table border=\"1\" class=\"dataframe\">\n",
       "  <thead>\n",
       "    <tr style=\"text-align: right;\">\n",
       "      <th></th>\n",
       "      <th>srch_id</th>\n",
       "      <th>prop_id</th>\n",
       "      <th>pred</th>\n",
       "    </tr>\n",
       "  </thead>\n",
       "  <tbody>\n",
       "    <tr>\n",
       "      <th>0</th>\n",
       "      <td>1</td>\n",
       "      <td>99484</td>\n",
       "      <td>3.080002</td>\n",
       "    </tr>\n",
       "    <tr>\n",
       "      <th>1</th>\n",
       "      <td>1</td>\n",
       "      <td>54937</td>\n",
       "      <td>2.781211</td>\n",
       "    </tr>\n",
       "    <tr>\n",
       "      <th>2</th>\n",
       "      <td>1</td>\n",
       "      <td>28181</td>\n",
       "      <td>2.651430</td>\n",
       "    </tr>\n",
       "    <tr>\n",
       "      <th>3</th>\n",
       "      <td>1</td>\n",
       "      <td>61934</td>\n",
       "      <td>2.534519</td>\n",
       "    </tr>\n",
       "    <tr>\n",
       "      <th>4</th>\n",
       "      <td>1</td>\n",
       "      <td>95031</td>\n",
       "      <td>2.388750</td>\n",
       "    </tr>\n",
       "  </tbody>\n",
       "</table>\n",
       "</div>"
      ],
      "text/plain": [
       "   srch_id  prop_id      pred\n",
       "0        1    99484  3.080002\n",
       "1        1    54937  2.781211\n",
       "2        1    28181  2.651430\n",
       "3        1    61934  2.534519\n",
       "4        1    95031  2.388750"
      ]
     },
     "execution_count": 5,
     "metadata": {},
     "output_type": "execute_result"
    }
   ],
   "source": [
    "subm_2 = pd.read_csv(f'submissions/{file_2}_scores.csv')\n",
    "subm_2.head()"
   ]
  },
  {
   "cell_type": "code",
   "execution_count": 7,
   "id": "f101e21b",
   "metadata": {
    "scrolled": true
   },
   "outputs": [
    {
     "data": {
      "image/png": "[encoded data removed]",
      "text/plain": [
       "<Figure size 432x288 with 1 Axes>"
      ]
     },
     "metadata": {
      "needs_background": "light"
     },
     "output_type": "display_data"
    }
   ],
   "source": [
    "subm_1['ord'].hist(alpha=0.3)\n",
    "subm_2['pred'].hist(alpha=0.3);"
   ]
  },
  {
   "cell_type": "code",
   "execution_count": 8,
   "id": "175e8a46",
   "metadata": {},
   "outputs": [],
   "source": [
    "def normalize_by_group(df, by):\n",
    "    groups = df.groupby(by)\n",
    "    # computes group-wise mean/std,\n",
    "    # then auto broadcasts to size of group chunk\n",
    "    mean = groups.transform(\"mean\")\n",
    "    std = groups.transform(\"std\")\n",
    "    normalized = (df[mean.columns] - mean) / std\n",
    "    return normalized"
   ]
  },
  {
   "cell_type": "code",
   "execution_count": 14,
   "id": "d4231be1",
   "metadata": {
    "scrolled": true
   },
   "outputs": [],
   "source": [
    "subm_1['ord'] = subm_1.groupby(group_col)['ord'].transform(lambda x: (x - x.mean()) / x.std())\n",
    "subm_2['pred'] = subm_2.groupby(group_col)['pred'].transform(lambda x: (x - x.mean()) / x.std())"
   ]
  },
  {
   "cell_type": "code",
   "execution_count": 15,
   "id": "38561ed7",
   "metadata": {},
   "outputs": [
    {
     "data": {
      "image/png": "[encoded data removed]",
      "text/plain": [
       "<Figure size 432x288 with 1 Axes>"
      ]
     },
     "metadata": {
      "needs_background": "light"
     },
     "output_type": "display_data"
    }
   ],
   "source": [
    "subm_1['ord'].hist(alpha=0.3)\n",
    "subm_2['pred'].hist(alpha=0.3);"
   ]
  },
  {
   "cell_type": "code",
   "execution_count": 16,
   "id": "54a201c4",
   "metadata": {},
   "outputs": [],
   "source": [
    "merged_df = pd.merge(subm_1, subm_2, on=[group_col, 'prop_id'], how='inner')"
   ]
  },
  {
   "cell_type": "code",
   "execution_count": 19,
   "id": "5f076feb",
   "metadata": {},
   "outputs": [
    {
     "data": {
      "text/plain": [
       "True"
      ]
     },
     "execution_count": 19,
     "metadata": {},
     "output_type": "execute_result"
    }
   ],
   "source": [
    "len(merged_df) == len(subm_1)"
   ]
  },
  {
   "cell_type": "code",
   "execution_count": 24,
   "id": "97b72898",
   "metadata": {},
   "outputs": [
    {
     "data": {
      "text/html": [
       "<div>\n",
       "<style scoped>\n",
       "    .dataframe tbody tr th:only-of-type {\n",
       "        vertical-align: middle;\n",
       "    }\n",
       "\n",
       "    .dataframe tbody tr th {\n",
       "        vertical-align: top;\n",
       "    }\n",
       "\n",
       "    .dataframe thead th {\n",
       "        text-align: right;\n",
       "    }\n",
       "</style>\n",
       "<table border=\"1\" class=\"dataframe\">\n",
       "  <thead>\n",
       "    <tr style=\"text-align: right;\">\n",
       "      <th></th>\n",
       "      <th>srch_id</th>\n",
       "      <th>prop_id</th>\n",
       "      <th>ord</th>\n",
       "      <th>pred</th>\n",
       "      <th>final_score</th>\n",
       "    </tr>\n",
       "  </thead>\n",
       "  <tbody>\n",
       "    <tr>\n",
       "      <th>0</th>\n",
       "      <td>1</td>\n",
       "      <td>99484</td>\n",
       "      <td>1.746829</td>\n",
       "      <td>1.846079</td>\n",
       "      <td>1.811342</td>\n",
       "    </tr>\n",
       "    <tr>\n",
       "      <th>1</th>\n",
       "      <td>1</td>\n",
       "      <td>54937</td>\n",
       "      <td>1.561529</td>\n",
       "      <td>1.490718</td>\n",
       "      <td>1.515502</td>\n",
       "    </tr>\n",
       "    <tr>\n",
       "      <th>2</th>\n",
       "      <td>1</td>\n",
       "      <td>61934</td>\n",
       "      <td>1.527110</td>\n",
       "      <td>1.197320</td>\n",
       "      <td>1.312746</td>\n",
       "    </tr>\n",
       "    <tr>\n",
       "      <th>3</th>\n",
       "      <td>1</td>\n",
       "      <td>24194</td>\n",
       "      <td>1.058872</td>\n",
       "      <td>0.892195</td>\n",
       "      <td>0.950532</td>\n",
       "    </tr>\n",
       "    <tr>\n",
       "      <th>4</th>\n",
       "      <td>1</td>\n",
       "      <td>28181</td>\n",
       "      <td>1.041808</td>\n",
       "      <td>1.336365</td>\n",
       "      <td>1.233270</td>\n",
       "    </tr>\n",
       "    <tr>\n",
       "      <th>...</th>\n",
       "      <td>...</td>\n",
       "      <td>...</td>\n",
       "      <td>...</td>\n",
       "      <td>...</td>\n",
       "      <td>...</td>\n",
       "    </tr>\n",
       "    <tr>\n",
       "      <th>4959178</th>\n",
       "      <td>332787</td>\n",
       "      <td>32019</td>\n",
       "      <td>0.158426</td>\n",
       "      <td>-0.176642</td>\n",
       "      <td>-0.059369</td>\n",
       "    </tr>\n",
       "    <tr>\n",
       "      <th>4959179</th>\n",
       "      <td>332787</td>\n",
       "      <td>29018</td>\n",
       "      <td>0.033662</td>\n",
       "      <td>-0.080091</td>\n",
       "      <td>-0.040277</td>\n",
       "    </tr>\n",
       "    <tr>\n",
       "      <th>4959180</th>\n",
       "      <td>332787</td>\n",
       "      <td>99509</td>\n",
       "      <td>-0.229726</td>\n",
       "      <td>0.294799</td>\n",
       "      <td>0.111215</td>\n",
       "    </tr>\n",
       "    <tr>\n",
       "      <th>4959181</th>\n",
       "      <td>332787</td>\n",
       "      <td>94437</td>\n",
       "      <td>-0.440834</td>\n",
       "      <td>-0.618314</td>\n",
       "      <td>-0.556196</td>\n",
       "    </tr>\n",
       "    <tr>\n",
       "      <th>4959182</th>\n",
       "      <td>332787</td>\n",
       "      <td>35240</td>\n",
       "      <td>-1.770416</td>\n",
       "      <td>-1.619981</td>\n",
       "      <td>-1.672633</td>\n",
       "    </tr>\n",
       "  </tbody>\n",
       "</table>\n",
       "<p>4959183 rows × 5 columns</p>\n",
       "</div>"
      ],
      "text/plain": [
       "         srch_id  prop_id       ord      pred  final_score\n",
       "0              1    99484  1.746829  1.846079     1.811342\n",
       "1              1    54937  1.561529  1.490718     1.515502\n",
       "2              1    61934  1.527110  1.197320     1.312746\n",
       "3              1    24194  1.058872  0.892195     0.950532\n",
       "4              1    28181  1.041808  1.336365     1.233270\n",
       "...          ...      ...       ...       ...          ...\n",
       "4959178   332787    32019  0.158426 -0.176642    -0.059369\n",
       "4959179   332787    29018  0.033662 -0.080091    -0.040277\n",
       "4959180   332787    99509 -0.229726  0.294799     0.111215\n",
       "4959181   332787    94437 -0.440834 -0.618314    -0.556196\n",
       "4959182   332787    35240 -1.770416 -1.619981    -1.672633\n",
       "\n",
       "[4959183 rows x 5 columns]"
      ]
     },
     "execution_count": 24,
     "metadata": {},
     "output_type": "execute_result"
    }
   ],
   "source": [
    "merged_df['final_score'] = merged_df['ord']*w1 + merged_df['pred']*w2\n",
    "merged_df"
   ]
  },
  {
   "cell_type": "code",
   "execution_count": 25,
   "id": "6c3a58fd",
   "metadata": {},
   "outputs": [
    {
     "data": {
      "text/html": [
       "<div>\n",
       "<style scoped>\n",
       "    .dataframe tbody tr th:only-of-type {\n",
       "        vertical-align: middle;\n",
       "    }\n",
       "\n",
       "    .dataframe tbody tr th {\n",
       "        vertical-align: top;\n",
       "    }\n",
       "\n",
       "    .dataframe thead th {\n",
       "        text-align: right;\n",
       "    }\n",
       "</style>\n",
       "<table border=\"1\" class=\"dataframe\">\n",
       "  <thead>\n",
       "    <tr style=\"text-align: right;\">\n",
       "      <th></th>\n",
       "      <th>srch_id</th>\n",
       "      <th>prop_id</th>\n",
       "      <th>ord</th>\n",
       "      <th>pred</th>\n",
       "      <th>final_score</th>\n",
       "    </tr>\n",
       "  </thead>\n",
       "  <tbody>\n",
       "    <tr>\n",
       "      <th>0</th>\n",
       "      <td>1</td>\n",
       "      <td>99484</td>\n",
       "      <td>1.746829</td>\n",
       "      <td>1.846079</td>\n",
       "      <td>1.811342</td>\n",
       "    </tr>\n",
       "    <tr>\n",
       "      <th>1</th>\n",
       "      <td>1</td>\n",
       "      <td>54937</td>\n",
       "      <td>1.561529</td>\n",
       "      <td>1.490718</td>\n",
       "      <td>1.515502</td>\n",
       "    </tr>\n",
       "    <tr>\n",
       "      <th>2</th>\n",
       "      <td>1</td>\n",
       "      <td>61934</td>\n",
       "      <td>1.527110</td>\n",
       "      <td>1.197320</td>\n",
       "      <td>1.312746</td>\n",
       "    </tr>\n",
       "    <tr>\n",
       "      <th>4</th>\n",
       "      <td>1</td>\n",
       "      <td>28181</td>\n",
       "      <td>1.041808</td>\n",
       "      <td>1.336365</td>\n",
       "      <td>1.233270</td>\n",
       "    </tr>\n",
       "    <tr>\n",
       "      <th>3</th>\n",
       "      <td>1</td>\n",
       "      <td>24194</td>\n",
       "      <td>1.058872</td>\n",
       "      <td>0.892195</td>\n",
       "      <td>0.950532</td>\n",
       "    </tr>\n",
       "    <tr>\n",
       "      <th>...</th>\n",
       "      <td>...</td>\n",
       "      <td>...</td>\n",
       "      <td>...</td>\n",
       "      <td>...</td>\n",
       "      <td>...</td>\n",
       "    </tr>\n",
       "    <tr>\n",
       "      <th>4959180</th>\n",
       "      <td>332787</td>\n",
       "      <td>99509</td>\n",
       "      <td>-0.229726</td>\n",
       "      <td>0.294799</td>\n",
       "      <td>0.111215</td>\n",
       "    </tr>\n",
       "    <tr>\n",
       "      <th>4959179</th>\n",
       "      <td>332787</td>\n",
       "      <td>29018</td>\n",
       "      <td>0.033662</td>\n",
       "      <td>-0.080091</td>\n",
       "      <td>-0.040277</td>\n",
       "    </tr>\n",
       "    <tr>\n",
       "      <th>4959178</th>\n",
       "      <td>332787</td>\n",
       "      <td>32019</td>\n",
       "      <td>0.158426</td>\n",
       "      <td>-0.176642</td>\n",
       "      <td>-0.059369</td>\n",
       "    </tr>\n",
       "    <tr>\n",
       "      <th>4959181</th>\n",
       "      <td>332787</td>\n",
       "      <td>94437</td>\n",
       "      <td>-0.440834</td>\n",
       "      <td>-0.618314</td>\n",
       "      <td>-0.556196</td>\n",
       "    </tr>\n",
       "    <tr>\n",
       "      <th>4959182</th>\n",
       "      <td>332787</td>\n",
       "      <td>35240</td>\n",
       "      <td>-1.770416</td>\n",
       "      <td>-1.619981</td>\n",
       "      <td>-1.672633</td>\n",
       "    </tr>\n",
       "  </tbody>\n",
       "</table>\n",
       "<p>4959183 rows × 5 columns</p>\n",
       "</div>"
      ],
      "text/plain": [
       "         srch_id  prop_id       ord      pred  final_score\n",
       "0              1    99484  1.746829  1.846079     1.811342\n",
       "1              1    54937  1.561529  1.490718     1.515502\n",
       "2              1    61934  1.527110  1.197320     1.312746\n",
       "4              1    28181  1.041808  1.336365     1.233270\n",
       "3              1    24194  1.058872  0.892195     0.950532\n",
       "...          ...      ...       ...       ...          ...\n",
       "4959180   332787    99509 -0.229726  0.294799     0.111215\n",
       "4959179   332787    29018  0.033662 -0.080091    -0.040277\n",
       "4959178   332787    32019  0.158426 -0.176642    -0.059369\n",
       "4959181   332787    94437 -0.440834 -0.618314    -0.556196\n",
       "4959182   332787    35240 -1.770416 -1.619981    -1.672633\n",
       "\n",
       "[4959183 rows x 5 columns]"
      ]
     },
     "execution_count": 25,
     "metadata": {},
     "output_type": "execute_result"
    }
   ],
   "source": [
    "merged_df.sort_values(by=[group_col, 'final_score'], ascending=[True, False], inplace=True)\n",
    "merged_df"
   ]
  },
  {
   "cell_type": "code",
   "execution_count": 28,
   "id": "1af11cf9",
   "metadata": {},
   "outputs": [
    {
     "data": {
      "text/html": [
       "<div>\n",
       "<style scoped>\n",
       "    .dataframe tbody tr th:only-of-type {\n",
       "        vertical-align: middle;\n",
       "    }\n",
       "\n",
       "    .dataframe tbody tr th {\n",
       "        vertical-align: top;\n",
       "    }\n",
       "\n",
       "    .dataframe thead th {\n",
       "        text-align: right;\n",
       "    }\n",
       "</style>\n",
       "<table border=\"1\" class=\"dataframe\">\n",
       "  <thead>\n",
       "    <tr style=\"text-align: right;\">\n",
       "      <th></th>\n",
       "      <th>srch_id</th>\n",
       "      <th>prop_id</th>\n",
       "    </tr>\n",
       "  </thead>\n",
       "  <tbody>\n",
       "    <tr>\n",
       "      <th>0</th>\n",
       "      <td>1</td>\n",
       "      <td>99484</td>\n",
       "    </tr>\n",
       "    <tr>\n",
       "      <th>1</th>\n",
       "      <td>1</td>\n",
       "      <td>54937</td>\n",
       "    </tr>\n",
       "    <tr>\n",
       "      <th>2</th>\n",
       "      <td>1</td>\n",
       "      <td>61934</td>\n",
       "    </tr>\n",
       "    <tr>\n",
       "      <th>3</th>\n",
       "      <td>1</td>\n",
       "      <td>28181</td>\n",
       "    </tr>\n",
       "    <tr>\n",
       "      <th>4</th>\n",
       "      <td>1</td>\n",
       "      <td>24194</td>\n",
       "    </tr>\n",
       "    <tr>\n",
       "      <th>5</th>\n",
       "      <td>1</td>\n",
       "      <td>95031</td>\n",
       "    </tr>\n",
       "    <tr>\n",
       "      <th>6</th>\n",
       "      <td>1</td>\n",
       "      <td>34263</td>\n",
       "    </tr>\n",
       "    <tr>\n",
       "      <th>7</th>\n",
       "      <td>1</td>\n",
       "      <td>82231</td>\n",
       "    </tr>\n",
       "    <tr>\n",
       "      <th>8</th>\n",
       "      <td>1</td>\n",
       "      <td>50162</td>\n",
       "    </tr>\n",
       "    <tr>\n",
       "      <th>9</th>\n",
       "      <td>1</td>\n",
       "      <td>63894</td>\n",
       "    </tr>\n",
       "  </tbody>\n",
       "</table>\n",
       "</div>"
      ],
      "text/plain": [
       "   srch_id  prop_id\n",
       "0        1    99484\n",
       "1        1    54937\n",
       "2        1    61934\n",
       "3        1    28181\n",
       "4        1    24194\n",
       "5        1    95031\n",
       "6        1    34263\n",
       "7        1    82231\n",
       "8        1    50162\n",
       "9        1    63894"
      ]
     },
     "execution_count": 28,
     "metadata": {},
     "output_type": "execute_result"
    }
   ],
   "source": [
    "merged_df[[group_col, 'prop_id']].to_csv(total_filename, index=False)\n",
    "pd.read_csv(total_filename, nrows=10)"
   ]
  },
  {
   "cell_type": "code",
   "execution_count": 31,
   "id": "5ae1a64b",
   "metadata": {},
   "outputs": [
    {
     "name": "stdout",
     "output_type": "stream",
     "text": [
      "everything is ok to submit\n"
     ]
    }
   ],
   "source": [
    "from utils import validate_submission\n",
    "validate_submission(os.path.join(data_path, 'submission_sample.csv'),\n",
    "                    total_filename, group_col)"
   ]
  },
  {
   "cell_type": "code",
   "execution_count": null,
   "id": "cfd7e266",
   "metadata": {},
   "outputs": [],
   "source": []
  }
 ],
 "metadata": {
  "kernelspec": {
   "display_name": "Python 3",
   "language": "python",
   "name": "python3"
  },
  "language_info": {
   "codemirror_mode": {
    "name": "ipython",
    "version": 3
   },
   "file_extension": ".py",
   "mimetype": "text/x-python",
   "name": "python",
   "nbconvert_exporter": "python",
   "pygments_lexer": "ipython3",
   "version": "3.8.8"
  },
  "latex_envs": {
   "LaTeX_envs_menu_present": true,
   "autoclose": false,
   "autocomplete": true,
   "bibliofile": "biblio.bib",
   "cite_by": "apalike",
   "current_citInitial": 1,
   "eqLabelWithNumbers": true,
   "eqNumInitial": 1,
   "hotkeys": {
    "equation": "Ctrl-E",
    "itemize": "Ctrl-I"
   },
   "labels_anchors": false,
   "latex_user_defs": false,
   "report_style_numbering": false,
   "user_envs_cfg": false
  },
  "toc": {
   "base_numbering": 1,
   "nav_menu": {},
   "number_sections": true,
   "sideBar": true,
   "skip_h1_title": false,
   "title_cell": "Table of Contents",
   "title_sidebar": "Contents",
   "toc_cell": false,
   "toc_position": {},
   "toc_section_display": true,
   "toc_window_display": false
  }
 },
 "nbformat": 4,
 "nbformat_minor": 5
}
