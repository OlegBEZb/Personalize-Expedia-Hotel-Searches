{
 "cells": [
  {
   "cell_type": "code",
   "execution_count": 58,
   "id": "5cc6a6f3",
   "metadata": {},
   "outputs": [],
   "source": [
    "import pandas as pd\n",
    "import numpy as np\n",
    "import matplotlib.pyplot as plt\n",
    "np.random.seed(42)"
   ]
  },
  {
   "cell_type": "code",
   "execution_count": 16,
   "id": "37fb53ce",
   "metadata": {},
   "outputs": [],
   "source": [
    "df = pd.read_csv('/Users/nedim.azar/Desktop/Personalize-Expedia-Hotel-Searches/data/training_set_VU_DM.csv')"
   ]
  },
  {
   "cell_type": "code",
   "execution_count": 30,
   "id": "05b6f156",
   "metadata": {},
   "outputs": [],
   "source": [
    "drop_cols = ['srch_id', 'site_id', 'visitor_location_country_id', 'prop_country_id', 'prop_id', 'prop_brand_bool', 'position', 'promotion_flag', 'srch_destination_id', 'srch_saturday_night_bool', 'srch_query_affinity_score', 'random_bool', 'click_bool', 'booking_bool', 'comp1_rate', 'comp1_inv',\n",
    "       'comp1_rate_percent_diff', 'comp2_rate', 'comp2_inv',\n",
    "       'comp2_rate_percent_diff', 'comp3_rate', 'comp3_inv',\n",
    "       'comp3_rate_percent_diff', 'comp4_rate', 'comp4_inv',\n",
    "       'comp4_rate_percent_diff', 'comp5_rate', 'comp5_inv',\n",
    "       'comp5_rate_percent_diff', 'comp6_rate', 'comp6_inv',\n",
    "       'comp6_rate_percent_diff', 'comp7_rate', 'comp7_inv',\n",
    "       'comp7_rate_percent_diff', 'comp8_rate', 'comp8_inv',\n",
    "       'comp8_rate_percent_diff']"
   ]
  },
  {
   "cell_type": "code",
   "execution_count": 31,
   "id": "b115b343",
   "metadata": {},
   "outputs": [],
   "source": [
    "small_df = df.drop(drop_cols, axis=1, inplace=False)"
   ]
  },
  {
   "cell_type": "code",
   "execution_count": 32,
   "id": "787b5734",
   "metadata": {},
   "outputs": [
    {
     "data": {
      "text/html": [
       "<div>\n",
       "<style scoped>\n",
       "    .dataframe tbody tr th:only-of-type {\n",
       "        vertical-align: middle;\n",
       "    }\n",
       "\n",
       "    .dataframe tbody tr th {\n",
       "        vertical-align: top;\n",
       "    }\n",
       "\n",
       "    .dataframe thead th {\n",
       "        text-align: right;\n",
       "    }\n",
       "</style>\n",
       "<table border=\"1\" class=\"dataframe\">\n",
       "  <thead>\n",
       "    <tr style=\"text-align: right;\">\n",
       "      <th></th>\n",
       "      <th>visitor_hist_starrating</th>\n",
       "      <th>visitor_hist_adr_usd</th>\n",
       "      <th>prop_starrating</th>\n",
       "      <th>prop_review_score</th>\n",
       "      <th>prop_location_score1</th>\n",
       "      <th>prop_location_score2</th>\n",
       "      <th>prop_log_historical_price</th>\n",
       "      <th>price_usd</th>\n",
       "      <th>srch_length_of_stay</th>\n",
       "      <th>srch_booking_window</th>\n",
       "      <th>srch_adults_count</th>\n",
       "      <th>srch_children_count</th>\n",
       "      <th>srch_room_count</th>\n",
       "      <th>orig_destination_distance</th>\n",
       "      <th>gross_bookings_usd</th>\n",
       "    </tr>\n",
       "  </thead>\n",
       "  <tbody>\n",
       "    <tr>\n",
       "      <th>count</th>\n",
       "      <td>251866.000000</td>\n",
       "      <td>252988.000000</td>\n",
       "      <td>4.958347e+06</td>\n",
       "      <td>4.950983e+06</td>\n",
       "      <td>4.958347e+06</td>\n",
       "      <td>3.867999e+06</td>\n",
       "      <td>4.958347e+06</td>\n",
       "      <td>4.958347e+06</td>\n",
       "      <td>4.958347e+06</td>\n",
       "      <td>4.958347e+06</td>\n",
       "      <td>4.958347e+06</td>\n",
       "      <td>4.958347e+06</td>\n",
       "      <td>4.958347e+06</td>\n",
       "      <td>3.350565e+06</td>\n",
       "      <td>138390.000000</td>\n",
       "    </tr>\n",
       "    <tr>\n",
       "      <th>mean</th>\n",
       "      <td>3.374334</td>\n",
       "      <td>176.022659</td>\n",
       "      <td>3.180525e+00</td>\n",
       "      <td>3.777777e+00</td>\n",
       "      <td>2.872589e+00</td>\n",
       "      <td>1.303852e-01</td>\n",
       "      <td>4.317913e+00</td>\n",
       "      <td>2.542096e+02</td>\n",
       "      <td>2.385427e+00</td>\n",
       "      <td>3.747417e+01</td>\n",
       "      <td>1.972637e+00</td>\n",
       "      <td>3.504918e-01</td>\n",
       "      <td>1.110525e+00</td>\n",
       "      <td>1.301234e+03</td>\n",
       "      <td>386.283316</td>\n",
       "    </tr>\n",
       "    <tr>\n",
       "      <th>std</th>\n",
       "      <td>0.692519</td>\n",
       "      <td>107.254493</td>\n",
       "      <td>1.051024e+00</td>\n",
       "      <td>1.050329e+00</td>\n",
       "      <td>1.531011e+00</td>\n",
       "      <td>1.594634e-01</td>\n",
       "      <td>1.834869e+00</td>\n",
       "      <td>1.600124e+04</td>\n",
       "      <td>2.053243e+00</td>\n",
       "      <td>5.199341e+01</td>\n",
       "      <td>8.570628e-01</td>\n",
       "      <td>7.325692e-01</td>\n",
       "      <td>4.172290e-01</td>\n",
       "      <td>2.023951e+03</td>\n",
       "      <td>821.190577</td>\n",
       "    </tr>\n",
       "    <tr>\n",
       "      <th>min</th>\n",
       "      <td>1.410000</td>\n",
       "      <td>0.000000</td>\n",
       "      <td>0.000000e+00</td>\n",
       "      <td>0.000000e+00</td>\n",
       "      <td>0.000000e+00</td>\n",
       "      <td>0.000000e+00</td>\n",
       "      <td>0.000000e+00</td>\n",
       "      <td>0.000000e+00</td>\n",
       "      <td>1.000000e+00</td>\n",
       "      <td>0.000000e+00</td>\n",
       "      <td>1.000000e+00</td>\n",
       "      <td>0.000000e+00</td>\n",
       "      <td>1.000000e+00</td>\n",
       "      <td>1.000000e-02</td>\n",
       "      <td>0.000000</td>\n",
       "    </tr>\n",
       "    <tr>\n",
       "      <th>25%</th>\n",
       "      <td>2.920000</td>\n",
       "      <td>109.810000</td>\n",
       "      <td>3.000000e+00</td>\n",
       "      <td>3.500000e+00</td>\n",
       "      <td>1.790000e+00</td>\n",
       "      <td>1.900000e-02</td>\n",
       "      <td>4.450000e+00</td>\n",
       "      <td>8.500000e+01</td>\n",
       "      <td>1.000000e+00</td>\n",
       "      <td>4.000000e+00</td>\n",
       "      <td>2.000000e+00</td>\n",
       "      <td>0.000000e+00</td>\n",
       "      <td>1.000000e+00</td>\n",
       "      <td>1.398000e+02</td>\n",
       "      <td>124.000000</td>\n",
       "    </tr>\n",
       "    <tr>\n",
       "      <th>50%</th>\n",
       "      <td>3.450000</td>\n",
       "      <td>152.240000</td>\n",
       "      <td>3.000000e+00</td>\n",
       "      <td>4.000000e+00</td>\n",
       "      <td>2.770000e+00</td>\n",
       "      <td>6.900000e-02</td>\n",
       "      <td>4.910000e+00</td>\n",
       "      <td>1.220000e+02</td>\n",
       "      <td>2.000000e+00</td>\n",
       "      <td>1.700000e+01</td>\n",
       "      <td>2.000000e+00</td>\n",
       "      <td>0.000000e+00</td>\n",
       "      <td>1.000000e+00</td>\n",
       "      <td>3.866000e+02</td>\n",
       "      <td>218.400000</td>\n",
       "    </tr>\n",
       "    <tr>\n",
       "      <th>75%</th>\n",
       "      <td>3.930000</td>\n",
       "      <td>213.490000</td>\n",
       "      <td>4.000000e+00</td>\n",
       "      <td>4.500000e+00</td>\n",
       "      <td>4.040000e+00</td>\n",
       "      <td>1.805000e-01</td>\n",
       "      <td>5.310000e+00</td>\n",
       "      <td>1.849600e+02</td>\n",
       "      <td>3.000000e+00</td>\n",
       "      <td>4.800000e+01</td>\n",
       "      <td>2.000000e+00</td>\n",
       "      <td>0.000000e+00</td>\n",
       "      <td>1.000000e+00</td>\n",
       "      <td>1.500670e+03</td>\n",
       "      <td>429.790000</td>\n",
       "    </tr>\n",
       "    <tr>\n",
       "      <th>max</th>\n",
       "      <td>5.000000</td>\n",
       "      <td>1958.700000</td>\n",
       "      <td>5.000000e+00</td>\n",
       "      <td>5.000000e+00</td>\n",
       "      <td>6.980000e+00</td>\n",
       "      <td>1.000000e+00</td>\n",
       "      <td>6.210000e+00</td>\n",
       "      <td>1.972633e+07</td>\n",
       "      <td>5.700000e+01</td>\n",
       "      <td>4.920000e+02</td>\n",
       "      <td>9.000000e+00</td>\n",
       "      <td>9.000000e+00</td>\n",
       "      <td>8.000000e+00</td>\n",
       "      <td>1.166664e+04</td>\n",
       "      <td>159292.380000</td>\n",
       "    </tr>\n",
       "  </tbody>\n",
       "</table>\n",
       "</div>"
      ],
      "text/plain": [
       "       visitor_hist_starrating  visitor_hist_adr_usd  prop_starrating  \\\n",
       "count            251866.000000         252988.000000     4.958347e+06   \n",
       "mean                  3.374334            176.022659     3.180525e+00   \n",
       "std                   0.692519            107.254493     1.051024e+00   \n",
       "min                   1.410000              0.000000     0.000000e+00   \n",
       "25%                   2.920000            109.810000     3.000000e+00   \n",
       "50%                   3.450000            152.240000     3.000000e+00   \n",
       "75%                   3.930000            213.490000     4.000000e+00   \n",
       "max                   5.000000           1958.700000     5.000000e+00   \n",
       "\n",
       "       prop_review_score  prop_location_score1  prop_location_score2  \\\n",
       "count       4.950983e+06          4.958347e+06          3.867999e+06   \n",
       "mean        3.777777e+00          2.872589e+00          1.303852e-01   \n",
       "std         1.050329e+00          1.531011e+00          1.594634e-01   \n",
       "min         0.000000e+00          0.000000e+00          0.000000e+00   \n",
       "25%         3.500000e+00          1.790000e+00          1.900000e-02   \n",
       "50%         4.000000e+00          2.770000e+00          6.900000e-02   \n",
       "75%         4.500000e+00          4.040000e+00          1.805000e-01   \n",
       "max         5.000000e+00          6.980000e+00          1.000000e+00   \n",
       "\n",
       "       prop_log_historical_price     price_usd  srch_length_of_stay  \\\n",
       "count               4.958347e+06  4.958347e+06         4.958347e+06   \n",
       "mean                4.317913e+00  2.542096e+02         2.385427e+00   \n",
       "std                 1.834869e+00  1.600124e+04         2.053243e+00   \n",
       "min                 0.000000e+00  0.000000e+00         1.000000e+00   \n",
       "25%                 4.450000e+00  8.500000e+01         1.000000e+00   \n",
       "50%                 4.910000e+00  1.220000e+02         2.000000e+00   \n",
       "75%                 5.310000e+00  1.849600e+02         3.000000e+00   \n",
       "max                 6.210000e+00  1.972633e+07         5.700000e+01   \n",
       "\n",
       "       srch_booking_window  srch_adults_count  srch_children_count  \\\n",
       "count         4.958347e+06       4.958347e+06         4.958347e+06   \n",
       "mean          3.747417e+01       1.972637e+00         3.504918e-01   \n",
       "std           5.199341e+01       8.570628e-01         7.325692e-01   \n",
       "min           0.000000e+00       1.000000e+00         0.000000e+00   \n",
       "25%           4.000000e+00       2.000000e+00         0.000000e+00   \n",
       "50%           1.700000e+01       2.000000e+00         0.000000e+00   \n",
       "75%           4.800000e+01       2.000000e+00         0.000000e+00   \n",
       "max           4.920000e+02       9.000000e+00         9.000000e+00   \n",
       "\n",
       "       srch_room_count  orig_destination_distance  gross_bookings_usd  \n",
       "count     4.958347e+06               3.350565e+06       138390.000000  \n",
       "mean      1.110525e+00               1.301234e+03          386.283316  \n",
       "std       4.172290e-01               2.023951e+03          821.190577  \n",
       "min       1.000000e+00               1.000000e-02            0.000000  \n",
       "25%       1.000000e+00               1.398000e+02          124.000000  \n",
       "50%       1.000000e+00               3.866000e+02          218.400000  \n",
       "75%       1.000000e+00               1.500670e+03          429.790000  \n",
       "max       8.000000e+00               1.166664e+04       159292.380000  "
      ]
     },
     "execution_count": 32,
     "metadata": {},
     "output_type": "execute_result"
    }
   ],
   "source": [
    "small_df.describe()"
   ]
  },
  {
   "cell_type": "code",
   "execution_count": 38,
   "id": "7f30ef5f",
   "metadata": {},
   "outputs": [
    {
     "data": {
      "text/plain": [
       "<AxesSubplot:>"
      ]
     },
     "execution_count": 38,
     "metadata": {},
     "output_type": "execute_result"
    },
    {
     "data": {
      "image/png": "[encoded data removed]",
      "text/plain": [
       "<Figure size 432x288 with 1 Axes>"
      ]
     },
     "metadata": {
      "needs_background": "light"
     },
     "output_type": "display_data"
    }
   ],
   "source": [
    "small_df['visitor_hist_starrating'][small_df['visitor_hist_starrating'] % 0.5 != 0].hist(bins=200, )"
   ]
  },
  {
   "cell_type": "code",
   "execution_count": 68,
   "id": "4a898124",
   "metadata": {},
   "outputs": [
    {
     "data": {
      "text/plain": [
       "<AxesSubplot:>"
      ]
     },
     "execution_count": 68,
     "metadata": {},
     "output_type": "execute_result"
    },
    {
     "data": {
      "image/png": "[encoded data removed]",
      "text/plain": [
       "<Figure size 432x288 with 1 Axes>"
      ]
     },
     "metadata": {
      "needs_background": "light"
     },
     "output_type": "display_data"
    }
   ],
   "source": [
    "all_columns = df['comp1_rate_percent_diff']\n",
    "\n",
    "df['comp1_rate_percent_diff'].hist(bins=200)"
   ]
  },
  {
   "cell_type": "code",
   "execution_count": 73,
   "id": "99efca05",
   "metadata": {},
   "outputs": [
    {
     "data": {
      "image/png": "[encoded data removed]",
      "text/plain": [
       "<Figure size 432x288 with 1 Axes>"
      ]
     },
     "metadata": {
      "needs_background": "light"
     },
     "output_type": "display_data"
    },
    {
     "data": {
      "image/png": "[encoded data removed]",
      "text/plain": [
       "<Figure size 432x288 with 1 Axes>"
      ]
     },
     "metadata": {
      "needs_background": "light"
     },
     "output_type": "display_data"
    }
   ],
   "source": [
    "all_values = small_df['visitor_hist_starrating']\n",
    "no_whole = small_df['visitor_hist_starrating'][small_df['visitor_hist_starrating'] % 0.5 != 0]\n",
    "\n",
    "\n",
    "_ = plt.hist(all_values, bins=100, color='#89CFF0')\n",
    "plt.show()\n",
    "_ = plt.hist(no_whole, bins=100, color='#89CFF0')\n",
    "plt.show()"
   ]
  }
 ],
 "metadata": {
  "kernelspec": {
   "display_name": "venv",
   "language": "python",
   "name": "venv"
  },
  "language_info": {
   "codemirror_mode": {
    "name": "ipython",
    "version": 3
   },
   "file_extension": ".py",
   "mimetype": "text/x-python",
   "name": "python",
   "nbconvert_exporter": "python",
   "pygments_lexer": "ipython3",
   "version": "3.8.9"
  }
 },
 "nbformat": 4,
 "nbformat_minor": 5
}
