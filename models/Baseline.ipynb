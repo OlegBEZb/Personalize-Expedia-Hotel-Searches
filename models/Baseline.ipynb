{
 "cells": [
  {
   "cell_type": "code",
   "execution_count": 16,
   "id": "b4072603",
   "metadata": {},
   "outputs": [],
   "source": [
    "import pandas as pd, pickle, numpy as np\n",
    "from sklearn.metrics import ndcg_score\n",
    "np.random.seed(42)"
   ]
  },
  {
   "cell_type": "markdown",
   "id": "d5b8d957",
   "metadata": {},
   "source": [
    "## Random Baseline"
   ]
  },
  {
   "cell_type": "code",
   "execution_count": 21,
   "id": "7b2ff562",
   "metadata": {},
   "outputs": [],
   "source": [
    "def dcg_score(gains):\n",
    "    return sum([g / np.log2(i + 2) for i, g in enumerate(gains)])\n",
    "\n",
    "\n",
    "def ndcg(gains, at=5):\n",
    "    assert len(gains) >= at, f\"Trying to calculate NDSG@{at} while having {len(gains)} objects\"\n",
    "    dcg = dcg_score(gains[:at])\n",
    "    idcg = dcg_score(sorted(gains, reverse=True)[:at])\n",
    "    if idcg == 0.:\n",
    "        return 0\n",
    "    else:\n",
    "        return dcg / idcg"
   ]
  },
  {
   "cell_type": "code",
   "execution_count": 11,
   "id": "48a853a0",
   "metadata": {},
   "outputs": [],
   "source": [
    "X_test = pd.read_feather('../data/X_test.feather')\n",
    "X_train = pd.read_feather('../data/X_train.feather')\n",
    "X_val = pd.read_feather('../data/X_val.feather')"
   ]
  },
  {
   "cell_type": "code",
   "execution_count": 17,
   "id": "120f831f",
   "metadata": {},
   "outputs": [],
   "source": [
    "y_test = pd.read_feather('../data/y_test.feather')\n",
    "y_train = pd.read_feather('../data/y_train.feather')\n",
    "y_val = pd.read_feather('../data/y_val.feather')"
   ]
  },
  {
   "cell_type": "code",
   "execution_count": 12,
   "id": "04c68128",
   "metadata": {},
   "outputs": [],
   "source": [
    "def random_baseline(df):\n",
    "    ordinals = np.arange(len(df))\n",
    "    np.random.shuffle(ordinals)\n",
    "\n",
    "    predictions = pandas.DataFrame({'SearchId': df[\"srch_id\"], 'PropertyId': df[\"prop_id\"], 'ord': ordinals})\n",
    "\n",
    "    predictions.sort_values(by=['SearchId', 'ord'], ascending=[True, False], inplace=True)\n",
    "    predictions.drop(['ord'], axis=1, inplace=True)\n",
    "    return predictions\n",
    "\n",
    "# We need to score each of these prediction sets\n",
    "pred_test = random_baseline(X_test)\n",
    "pred_train = random_baseline(X_train)\n",
    "pred_val = random_baseline(X_val)"
   ]
  }
 ],
 "metadata": {
  "kernelspec": {
   "display_name": "venv",
   "language": "python",
   "name": "venv"
  },
  "language_info": {
   "codemirror_mode": {
    "name": "ipython",
    "version": 3
   },
   "file_extension": ".py",
   "mimetype": "text/x-python",
   "name": "python",
   "nbconvert_exporter": "python",
   "pygments_lexer": "ipython3",
   "version": "3.8.9"
  }
 },
 "nbformat": 4,
 "nbformat_minor": 5
}
