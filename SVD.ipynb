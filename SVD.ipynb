{
 "cells": [
  {
   "cell_type": "code",
   "execution_count": 1,
   "id": "7b5e3615",
   "metadata": {},
   "outputs": [],
   "source": [
    "import pandas as pd\n",
    "from surprise import Dataset, Reader, SVD\n",
    "from surprise.model_selection import GridSearchCV\n",
    "from copy import deepcopy\n",
    "import pickle"
   ]
  },
  {
   "cell_type": "code",
   "execution_count": 2,
   "id": "7c32cc9f",
   "metadata": {},
   "outputs": [],
   "source": [
    "train = pd.read_csv('data/csv/train', index_col=0)\n",
    "test = pd.read_csv('data/csv/test', index_col=0)\n",
    "validate = pd.read_csv('data/csv/validate', index_col=0)\n",
    "\n",
    "grid_set = pd.concat([validate, train])"
   ]
  },
  {
   "cell_type": "code",
   "execution_count": 3,
   "id": "8255c56c",
   "metadata": {},
   "outputs": [],
   "source": [
    "reader = Reader(rating_scale=(0, 5))\n",
    "\n",
    "data = Dataset.load_from_df(grid_set[['srch_id', 'prop_id', 'target']], reader)"
   ]
  },
  {
   "cell_type": "code",
   "execution_count": 4,
   "id": "59d3e3e6",
   "metadata": {},
   "outputs": [
    {
     "name": "stdout",
     "output_type": "stream",
     "text": [
      "CPU times: user 2 µs, sys: 0 ns, total: 2 µs\n",
      "Wall time: 4.29 µs\n"
     ]
    }
   ],
   "source": [
    "%time\n",
    "param_grid = {\n",
    "    \"n_epochs\": [5, 10, 20],\n",
    "    \"n_factors\": [50, 100, 150],\n",
    "    \"lr_all\": [0.005],\n",
    "    \"reg_all\": [0.4, 0.6]\n",
    "}\n",
    "gs = GridSearchCV(SVD, param_grid, measures=[\"rmse\", \"mae\"], cv=3,)"
   ]
  },
  {
   "cell_type": "code",
   "execution_count": 5,
   "id": "cefff5a1",
   "metadata": {},
   "outputs": [
    {
     "name": "stdout",
     "output_type": "stream",
     "text": [
      "CPU times: user 2 µs, sys: 0 ns, total: 2 µs\n",
      "Wall time: 3.81 µs\n"
     ]
    }
   ],
   "source": [
    "%time\n",
    "gs.fit(data)"
   ]
  },
  {
   "cell_type": "code",
   "execution_count": 22,
   "id": "86e795a0",
   "metadata": {},
   "outputs": [],
   "source": [
    "best_rmse = gs.best_estimator['rmse']\n",
    "best_mae = gs.best_estimator['mae']"
   ]
  },
  {
   "cell_type": "code",
   "execution_count": 28,
   "id": "eb11a6ff",
   "metadata": {},
   "outputs": [],
   "source": [
    "with open('data/submission_df_preprocessed.pickle', 'rb') as file_contents:\n",
    "    test_sub = pickle.load(file_contents)\n",
    "test_sub = test_sub[['srch_id', 'prop_id']]"
   ]
  },
  {
   "cell_type": "code",
   "execution_count": 70,
   "id": "95b79a37",
   "metadata": {},
   "outputs": [
    {
     "data": {
      "text/plain": [
       "<surprise.prediction_algorithms.matrix_factorization.SVD at 0x17d51e310>"
      ]
     },
     "execution_count": 70,
     "metadata": {},
     "output_type": "execute_result"
    }
   ],
   "source": [
    "deep_rmse = deepcopy(gs.best_estimator['rmse'])\n",
    "\n",
    "deep_rmse.fit(data.build_full_trainset())"
   ]
  },
  {
   "cell_type": "code",
   "execution_count": 140,
   "id": "addbaaec",
   "metadata": {},
   "outputs": [
    {
     "name": "stdout",
     "output_type": "stream",
     "text": [
      "CPU times: user 3 µs, sys: 1e+03 ns, total: 4 µs\n",
      "Wall time: 6.2 µs\n",
      "0\n",
      "1000000\n",
      "2000000\n",
      "3000000\n",
      "4000000\n"
     ]
    }
   ],
   "source": [
    "predictions_best_rmse = []\n",
    "%time\n",
    "for i in test_sub.index:\n",
    "    row = test_sub.iloc[i]\n",
    "    uid = row['srch_id']\n",
    "    iid = row['prop_id']   \n",
    "    est = deep_rmse.predict(uid, iid).est\n",
    "    predictions_best_rmse.append([uid, iid, est])\n",
    "    if i % 1_000_000 == 0:\n",
    "        print(i)"
   ]
  },
  {
   "cell_type": "code",
   "execution_count": 142,
   "id": "68713471",
   "metadata": {},
   "outputs": [],
   "source": [
    "with open('SVD_predictions.csv', 'w') as out_file:\n",
    "    out_file.write(\"SearchId,PropertyId,Estimated\\n\")\n",
    "    for a, b, c in ppp:\n",
    "        out_file.write(f\"{a}, {b}, {c}\\n\")"
   ]
  },
  {
   "cell_type": "code",
   "execution_count": 143,
   "id": "6dca1d48",
   "metadata": {},
   "outputs": [],
   "source": [
    "prediction_df = pd.read_csv('SVD_predictions.csv')"
   ]
  },
  {
   "cell_type": "code",
   "execution_count": 147,
   "id": "bf0521ec",
   "metadata": {},
   "outputs": [],
   "source": [
    "prediction_df.sort_values(by=['SearchId', 'Estimated'], ascending=[True, False], inplace=True)"
   ]
  },
  {
   "cell_type": "code",
   "execution_count": 166,
   "id": "4d4fd42b",
   "metadata": {},
   "outputs": [],
   "source": [
    "prediction_df = prediction_df[['SearchId', 'PropertyId']]\n",
    "prediction_df.reset_index(inplace=True)\n",
    "prediction_df.to_csv('submission_13.csv', index=False)"
   ]
  },
  {
   "cell_type": "code",
   "execution_count": 170,
   "id": "c2967f72",
   "metadata": {},
   "outputs": [],
   "source": [
    "with open('pickled_models/SVD_gridsearch_cv.pickle', 'wb') as output_file:\n",
    "    pickle.dump(gs, )"
   ]
  },
  {
   "cell_type": "code",
   "execution_count": 176,
   "id": "5e3d4e74",
   "metadata": {},
   "outputs": [
    {
     "data": {
      "text/plain": [
       "<surprise.model_selection.search.GridSearchCV at 0x11b044640>"
      ]
     },
     "execution_count": 176,
     "metadata": {},
     "output_type": "execute_result"
    }
   ],
   "source": [
    "gs"
   ]
  },
  {
   "cell_type": "code",
   "execution_count": 175,
   "id": "be804592",
   "metadata": {},
   "outputs": [],
   "source": [
    "!mkdir pickled_models"
   ]
  }
 ],
 "metadata": {
  "kernelspec": {
   "display_name": "venv",
   "language": "python",
   "name": "venv"
  },
  "language_info": {
   "codemirror_mode": {
    "name": "ipython",
    "version": 3
   },
   "file_extension": ".py",
   "mimetype": "text/x-python",
   "name": "python",
   "nbconvert_exporter": "python",
   "pygments_lexer": "ipython3",
   "version": "3.8.9"
  }
 },
 "nbformat": 4,
 "nbformat_minor": 5
}
