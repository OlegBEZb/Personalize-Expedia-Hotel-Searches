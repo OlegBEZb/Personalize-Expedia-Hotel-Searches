{
  "cells": [
    {
      "cell_type": "markdown",
      "metadata": {
        "id": "view-in-github",
        "colab_type": "text"
      },
      "source": [
        "<a href=\"https://colab.research.google.com/github/OlegBEZb/Personalize-Expedia-Hotel-Searches/blob/main/AutoSklearnClf.ipynb\" target=\"_parent\"><img src=\"https://colab.research.google.com/assets/colab-badge.svg\" alt=\"Open In Colab\"/></a>"
      ]
    },
    {
      "cell_type": "code",
      "source": [
        "%%capture\n",
        "\n",
        "!pip install scipy -U\n",
        "!pip install auto-sklearn\n",
        "!pip install kaggle\n",
        "!pip install pandas-profiling -U\n",
        "!pip install category_encoders"
      ],
      "metadata": {
        "id": "tu0cu7MKi7UT"
      },
      "id": "tu0cu7MKi7UT",
      "execution_count": 1,
      "outputs": []
    },
    {
      "cell_type": "code",
      "execution_count": 2,
      "id": "5f2be5d1",
      "metadata": {
        "id": "5f2be5d1"
      },
      "outputs": [],
      "source": [
        "import os\n",
        "import sklearn\n",
        "import numpy as np\n",
        "import pandas as pd\n",
        "pd.set_option('display.max_colwidth', None)"
      ]
    },
    {
      "cell_type": "code",
      "source": [
        "from google.colab import drive\n",
        "drive.mount('/content/drive')"
      ],
      "metadata": {
        "id": "VAPXCblSBt4x",
        "outputId": "3a9c24a4-6f70-4d28-d5db-d1b72803273f",
        "colab": {
          "base_uri": "https://localhost:8080/"
        }
      },
      "id": "VAPXCblSBt4x",
      "execution_count": 3,
      "outputs": [
        {
          "output_type": "stream",
          "name": "stdout",
          "text": [
            "Drive already mounted at /content/drive; to attempt to forcibly remount, call drive.mount(\"/content/drive\", force_remount=True).\n"
          ]
        }
      ]
    },
    {
      "cell_type": "code",
      "source": [
        "data_path = '/content/drive/MyDrive/Personalize-Expedia-Hotel-Searches'  # data if local"
      ],
      "metadata": {
        "id": "rglO22rXB3cU"
      },
      "id": "rglO22rXB3cU",
      "execution_count": 4,
      "outputs": []
    },
    {
      "cell_type": "code",
      "execution_count": 5,
      "id": "3d2313f5",
      "metadata": {
        "id": "3d2313f5",
        "outputId": "4ecf0f4b-849a-4b9b-d99e-9c7f65c7d4c6",
        "colab": {
          "base_uri": "https://localhost:8080/"
        }
      },
      "outputs": [
        {
          "output_type": "execute_result",
          "data": {
            "text/plain": [
              "(495236, 54)"
            ]
          },
          "metadata": {},
          "execution_count": 5
        }
      ],
      "source": [
        "USE_FULL = False\n",
        "\n",
        "filename = os.path.join(data_path, 'training_set_VU_DM.csv')\n",
        "\n",
        "if USE_FULL:\n",
        "    df = pd.read_csv(filename)\n",
        "else:\n",
        "    import random\n",
        "    p = 0.1\n",
        "    df = pd.read_csv(filename,\n",
        "                     header=0,\n",
        "                     skiprows=lambda i: i > 0 and random.random() > p)\n",
        "\n",
        "df['date_time'] = pd.to_datetime(df['date_time'])\n",
        "df.shape"
      ]
    },
    {
      "cell_type": "markdown",
      "source": [
        "# Simple preproc + split\n",
        "\n"
      ],
      "metadata": {
        "id": "VkfQohutCO3H"
      },
      "id": "VkfQohutCO3H"
    },
    {
      "cell_type": "code",
      "source": [
        "def get_target(row):\n",
        "    \"\"\"\n",
        "    0=not clicked at all, 1=clicked but not booked, 5=booked\n",
        "    \"\"\"\n",
        "    if row.booking_bool>0:\n",
        "        return 5\n",
        "    if row.click_bool>0 :\n",
        "        return 1\n",
        "    return 0\n",
        "\n",
        "from sklearn.model_selection import train_test_split\n",
        "\n",
        "\n",
        "def train_test_group_split(*arrays,\n",
        "                           group_array=None,\n",
        "                           train_size=None):\n",
        "    \"\"\"\n",
        "\n",
        "\n",
        "    Example\n",
        "    X_train2, X_test2, y_train2, y_test2, groups_train2, groups_test2 = train_test_group_split(X, y, groups, group_array=groups, train_size=0.9)\n",
        "    \"\"\"\n",
        "\n",
        "    grp_changes = group_array.shift() != group_array\n",
        "    grp_changes_train_approx = grp_changes.iloc[:int(len(grp_changes) * train_size)]\n",
        "    split_index = grp_changes_train_approx[grp_changes_train_approx].last_valid_index()\n",
        "    return train_test_split(*arrays, train_size=split_index, shuffle=False)"
      ],
      "metadata": {
        "id": "SuDNXSEJCWy8"
      },
      "id": "SuDNXSEJCWy8",
      "execution_count": 6,
      "outputs": []
    },
    {
      "cell_type": "code",
      "source": [
        "CAT_FEATURES = ['site_id',\n",
        "            'visitor_location_country_id',\n",
        "            'prop_country_id',\n",
        "            'prop_id',\n",
        "            'srch_destination_id']\n",
        "\n",
        "bool_cols = ['prop_brand_bool',\n",
        "             'promotion_flag',\n",
        "             'srch_saturday_night_bool',\n",
        "             'random_bool']\n",
        "\n",
        "group_col = 'srch_id'\n",
        "\n",
        "\n",
        "clf_target = 'target'\n",
        "df[clf_target] = df.apply(get_target, axis=1)"
      ],
      "metadata": {
        "id": "W0OcUKbGCP0Z"
      },
      "id": "W0OcUKbGCP0Z",
      "execution_count": 7,
      "outputs": []
    },
    {
      "cell_type": "code",
      "source": [
        "def get_time_features(pdf: pd.DataFrame, time_col):\n",
        "    pdf['day'] = pdf[time_col].dt.day.astype(np.int8)\n",
        "    pdf['month'] = pdf[time_col].dt.month.astype(np.int8)\n",
        "    pdf['year'] = pdf[time_col].dt.year.astype(np.int16)\n",
        "    pdf['quarter'] = pdf[time_col].dt.quarter.astype(np.int8)\n",
        "    pdf['week'] = pdf[time_col].dt.isocalendar().week.astype(np.int8)\n",
        "    pdf['dow'] = (pdf[time_col].dt.dayofweek + 1).astype(np.int8)\n",
        "    pdf['doy'] = pdf[time_col].dt.dayofyear.astype(np.int16)\n",
        "    pdf['days_in_month'] = pdf[time_col].dt.days_in_month.astype(np.int8)\n",
        "\n",
        "    pdf[\"is_weekend\"] = pdf[\"dow\"].apply(lambda x: 1 if x in [6, 7] else 0).astype(np.int8)\n",
        "    pdf['is_month_start'] = pdf[time_col].dt.is_month_start.astype(np.int8)\n",
        "    pdf['is_month_end'] = pdf[time_col].dt.is_month_end.astype(np.int8)\n",
        "    pdf['is_quarter_start'] = pdf[time_col].dt.is_quarter_start.astype(np.int8)\n",
        "    pdf['is_quarter_end'] = pdf[time_col].dt.is_quarter_end.astype(np.int8)\n",
        "    pdf['is_year_start'] = pdf[time_col].dt.is_year_start.astype(np.int8)\n",
        "    pdf['is_year_end'] = pdf[time_col].dt.is_year_end.astype(np.int8)\n",
        "\n",
        "    print('basics are calculated')\n",
        "\n",
        "    def get_week_id(a_year, a_month, a_week):\n",
        "        y = a_year\n",
        "        if a_month == 12 and a_week == 1:\n",
        "            y = a_year + 1\n",
        "        elif a_month == 1 and a_week > 50:\n",
        "            y = a_year - 1\n",
        "        return y * 100 + a_week\n",
        "\n",
        "    pdf['week_id'] = pdf.apply(lambda row: get_week_id(row.year, row.month, row.week), axis=1).astype(np.int32)\n",
        "    # pdf['week_start'] = pdf.groupby(['week_id'])[time_col].transform('min')\n",
        "    # pdf['week_end'] = pdf.groupby(['week_id'])[time_col].transform('max')\n",
        "    pdf[\"season_num\"] = (((pdf[\"month\"]) // 3) % 4 + 1).astype(np.int8)\n",
        "    pdf[\"week_summer_index\"] = pdf[\"week\"].apply(\n",
        "        lambda w: w - 3 if w >= 3 and w <= 28 else 54 - w if w >= 29 else 0).astype(np.int8)\n",
        "\n",
        "    print('week-related are calculated')\n",
        "\n",
        "    return pdf"
      ],
      "metadata": {
        "id": "cdj6Zpj6Nor_"
      },
      "id": "cdj6Zpj6Nor_",
      "execution_count": 8,
      "outputs": []
    },
    {
      "cell_type": "code",
      "source": [
        "from copy import deepcopy\n",
        "df = get_time_features(deepcopy(df), 'date_time')\n",
        "\n",
        "import category_encoders as ce\n",
        "enc = ce.OrdinalEncoder(cols=['date_time'])\n",
        "df.sort_values(['date_time'], inplace=True)\n",
        "df = enc.fit_transform(df)\n",
        "# df.drop('date_time', axis=1, inplace=True)"
      ],
      "metadata": {
        "id": "HvGh1NkgNver",
        "outputId": "b1701031-1bca-4a96-9fc3-d7e14a103108",
        "colab": {
          "base_uri": "https://localhost:8080/"
        }
      },
      "id": "HvGh1NkgNver",
      "execution_count": 9,
      "outputs": [
        {
          "output_type": "stream",
          "name": "stdout",
          "text": [
            "basics are calculated\n",
            "week-related are calculated\n"
          ]
        },
        {
          "output_type": "stream",
          "name": "stderr",
          "text": [
            "/usr/local/lib/python3.7/dist-packages/statsmodels/tools/_testing.py:19: FutureWarning: pandas.util.testing is deprecated. Use the functions in the public API at pandas.testing instead.\n",
            "  import pandas.util.testing as tm\n"
          ]
        }
      ]
    },
    {
      "cell_type": "code",
      "source": [
        "df.head()"
      ],
      "metadata": {
        "id": "1LqqqYLURbcm",
        "outputId": "d8897df8-18e9-4da0-b36e-8aae5a65e595",
        "colab": {
          "base_uri": "https://localhost:8080/",
          "height": 299
        }
      },
      "id": "1LqqqYLURbcm",
      "execution_count": 10,
      "outputs": [
        {
          "output_type": "execute_result",
          "data": {
            "text/plain": [
              "        srch_id  date_time  site_id  visitor_location_country_id  \\\n",
              "121648    81578          1        5                          219   \n",
              "121649    81578          1        5                          219   \n",
              "121650    81578          1        5                          219   \n",
              "121651    81578          1        5                          219   \n",
              "265906   178890          2       16                           31   \n",
              "\n",
              "        visitor_hist_starrating  visitor_hist_adr_usd  prop_country_id  \\\n",
              "121648                      NaN                   NaN              219   \n",
              "121649                      NaN                   NaN              219   \n",
              "121650                      NaN                   NaN              219   \n",
              "121651                      NaN                   NaN              219   \n",
              "265906                      NaN                   NaN              215   \n",
              "\n",
              "        prop_id  prop_starrating  prop_review_score  ...  is_weekend  \\\n",
              "121648     5322                4                4.0  ...           0   \n",
              "121649    59721                4                4.5  ...           0   \n",
              "121650    69184                4                4.0  ...           0   \n",
              "121651    79475                3                4.0  ...           0   \n",
              "265906     2245                3                4.0  ...           0   \n",
              "\n",
              "        is_month_start  is_month_end  is_quarter_start  is_quarter_end  \\\n",
              "121648               1             0                 0               0   \n",
              "121649               1             0                 0               0   \n",
              "121650               1             0                 0               0   \n",
              "121651               1             0                 0               0   \n",
              "265906               1             0                 0               0   \n",
              "\n",
              "        is_year_start  is_year_end  week_id  season_num  week_summer_index  \n",
              "121648              0            0   201244           4                 10  \n",
              "121649              0            0   201244           4                 10  \n",
              "121650              0            0   201244           4                 10  \n",
              "121651              0            0   201244           4                 10  \n",
              "265906              0            0   201244           4                 10  \n",
              "\n",
              "[5 rows x 73 columns]"
            ],
            "text/html": [
              "\n",
              "  <div id=\"df-fd083081-ca73-4761-8a82-6a78315627a2\">\n",
              "    <div class=\"colab-df-container\">\n",
              "      <div>\n",
              "<style scoped>\n",
              "    .dataframe tbody tr th:only-of-type {\n",
              "        vertical-align: middle;\n",
              "    }\n",
              "\n",
              "    .dataframe tbody tr th {\n",
              "        vertical-align: top;\n",
              "    }\n",
              "\n",
              "    .dataframe thead th {\n",
              "        text-align: right;\n",
              "    }\n",
              "</style>\n",
              "<table border=\"1\" class=\"dataframe\">\n",
              "  <thead>\n",
              "    <tr style=\"text-align: right;\">\n",
              "      <th></th>\n",
              "      <th>srch_id</th>\n",
              "      <th>date_time</th>\n",
              "      <th>site_id</th>\n",
              "      <th>visitor_location_country_id</th>\n",
              "      <th>visitor_hist_starrating</th>\n",
              "      <th>visitor_hist_adr_usd</th>\n",
              "      <th>prop_country_id</th>\n",
              "      <th>prop_id</th>\n",
              "      <th>prop_starrating</th>\n",
              "      <th>prop_review_score</th>\n",
              "      <th>...</th>\n",
              "      <th>is_weekend</th>\n",
              "      <th>is_month_start</th>\n",
              "      <th>is_month_end</th>\n",
              "      <th>is_quarter_start</th>\n",
              "      <th>is_quarter_end</th>\n",
              "      <th>is_year_start</th>\n",
              "      <th>is_year_end</th>\n",
              "      <th>week_id</th>\n",
              "      <th>season_num</th>\n",
              "      <th>week_summer_index</th>\n",
              "    </tr>\n",
              "  </thead>\n",
              "  <tbody>\n",
              "    <tr>\n",
              "      <th>121648</th>\n",
              "      <td>81578</td>\n",
              "      <td>1</td>\n",
              "      <td>5</td>\n",
              "      <td>219</td>\n",
              "      <td>NaN</td>\n",
              "      <td>NaN</td>\n",
              "      <td>219</td>\n",
              "      <td>5322</td>\n",
              "      <td>4</td>\n",
              "      <td>4.0</td>\n",
              "      <td>...</td>\n",
              "      <td>0</td>\n",
              "      <td>1</td>\n",
              "      <td>0</td>\n",
              "      <td>0</td>\n",
              "      <td>0</td>\n",
              "      <td>0</td>\n",
              "      <td>0</td>\n",
              "      <td>201244</td>\n",
              "      <td>4</td>\n",
              "      <td>10</td>\n",
              "    </tr>\n",
              "    <tr>\n",
              "      <th>121649</th>\n",
              "      <td>81578</td>\n",
              "      <td>1</td>\n",
              "      <td>5</td>\n",
              "      <td>219</td>\n",
              "      <td>NaN</td>\n",
              "      <td>NaN</td>\n",
              "      <td>219</td>\n",
              "      <td>59721</td>\n",
              "      <td>4</td>\n",
              "      <td>4.5</td>\n",
              "      <td>...</td>\n",
              "      <td>0</td>\n",
              "      <td>1</td>\n",
              "      <td>0</td>\n",
              "      <td>0</td>\n",
              "      <td>0</td>\n",
              "      <td>0</td>\n",
              "      <td>0</td>\n",
              "      <td>201244</td>\n",
              "      <td>4</td>\n",
              "      <td>10</td>\n",
              "    </tr>\n",
              "    <tr>\n",
              "      <th>121650</th>\n",
              "      <td>81578</td>\n",
              "      <td>1</td>\n",
              "      <td>5</td>\n",
              "      <td>219</td>\n",
              "      <td>NaN</td>\n",
              "      <td>NaN</td>\n",
              "      <td>219</td>\n",
              "      <td>69184</td>\n",
              "      <td>4</td>\n",
              "      <td>4.0</td>\n",
              "      <td>...</td>\n",
              "      <td>0</td>\n",
              "      <td>1</td>\n",
              "      <td>0</td>\n",
              "      <td>0</td>\n",
              "      <td>0</td>\n",
              "      <td>0</td>\n",
              "      <td>0</td>\n",
              "      <td>201244</td>\n",
              "      <td>4</td>\n",
              "      <td>10</td>\n",
              "    </tr>\n",
              "    <tr>\n",
              "      <th>121651</th>\n",
              "      <td>81578</td>\n",
              "      <td>1</td>\n",
              "      <td>5</td>\n",
              "      <td>219</td>\n",
              "      <td>NaN</td>\n",
              "      <td>NaN</td>\n",
              "      <td>219</td>\n",
              "      <td>79475</td>\n",
              "      <td>3</td>\n",
              "      <td>4.0</td>\n",
              "      <td>...</td>\n",
              "      <td>0</td>\n",
              "      <td>1</td>\n",
              "      <td>0</td>\n",
              "      <td>0</td>\n",
              "      <td>0</td>\n",
              "      <td>0</td>\n",
              "      <td>0</td>\n",
              "      <td>201244</td>\n",
              "      <td>4</td>\n",
              "      <td>10</td>\n",
              "    </tr>\n",
              "    <tr>\n",
              "      <th>265906</th>\n",
              "      <td>178890</td>\n",
              "      <td>2</td>\n",
              "      <td>16</td>\n",
              "      <td>31</td>\n",
              "      <td>NaN</td>\n",
              "      <td>NaN</td>\n",
              "      <td>215</td>\n",
              "      <td>2245</td>\n",
              "      <td>3</td>\n",
              "      <td>4.0</td>\n",
              "      <td>...</td>\n",
              "      <td>0</td>\n",
              "      <td>1</td>\n",
              "      <td>0</td>\n",
              "      <td>0</td>\n",
              "      <td>0</td>\n",
              "      <td>0</td>\n",
              "      <td>0</td>\n",
              "      <td>201244</td>\n",
              "      <td>4</td>\n",
              "      <td>10</td>\n",
              "    </tr>\n",
              "  </tbody>\n",
              "</table>\n",
              "<p>5 rows × 73 columns</p>\n",
              "</div>\n",
              "      <button class=\"colab-df-convert\" onclick=\"convertToInteractive('df-fd083081-ca73-4761-8a82-6a78315627a2')\"\n",
              "              title=\"Convert this dataframe to an interactive table.\"\n",
              "              style=\"display:none;\">\n",
              "        \n",
              "  <svg xmlns=\"http://www.w3.org/2000/svg\" height=\"24px\"viewBox=\"0 0 24 24\"\n",
              "       width=\"24px\">\n",
              "    <path d=\"M0 0h24v24H0V0z\" fill=\"none\"/>\n",
              "    <path d=\"M18.56 5.44l.94 2.06.94-2.06 2.06-.94-2.06-.94-.94-2.06-.94 2.06-2.06.94zm-11 1L8.5 8.5l.94-2.06 2.06-.94-2.06-.94L8.5 2.5l-.94 2.06-2.06.94zm10 10l.94 2.06.94-2.06 2.06-.94-2.06-.94-.94-2.06-.94 2.06-2.06.94z\"/><path d=\"M17.41 7.96l-1.37-1.37c-.4-.4-.92-.59-1.43-.59-.52 0-1.04.2-1.43.59L10.3 9.45l-7.72 7.72c-.78.78-.78 2.05 0 2.83L4 21.41c.39.39.9.59 1.41.59.51 0 1.02-.2 1.41-.59l7.78-7.78 2.81-2.81c.8-.78.8-2.07 0-2.86zM5.41 20L4 18.59l7.72-7.72 1.47 1.35L5.41 20z\"/>\n",
              "  </svg>\n",
              "      </button>\n",
              "      \n",
              "  <style>\n",
              "    .colab-df-container {\n",
              "      display:flex;\n",
              "      flex-wrap:wrap;\n",
              "      gap: 12px;\n",
              "    }\n",
              "\n",
              "    .colab-df-convert {\n",
              "      background-color: #E8F0FE;\n",
              "      border: none;\n",
              "      border-radius: 50%;\n",
              "      cursor: pointer;\n",
              "      display: none;\n",
              "      fill: #1967D2;\n",
              "      height: 32px;\n",
              "      padding: 0 0 0 0;\n",
              "      width: 32px;\n",
              "    }\n",
              "\n",
              "    .colab-df-convert:hover {\n",
              "      background-color: #E2EBFA;\n",
              "      box-shadow: 0px 1px 2px rgba(60, 64, 67, 0.3), 0px 1px 3px 1px rgba(60, 64, 67, 0.15);\n",
              "      fill: #174EA6;\n",
              "    }\n",
              "\n",
              "    [theme=dark] .colab-df-convert {\n",
              "      background-color: #3B4455;\n",
              "      fill: #D2E3FC;\n",
              "    }\n",
              "\n",
              "    [theme=dark] .colab-df-convert:hover {\n",
              "      background-color: #434B5C;\n",
              "      box-shadow: 0px 1px 3px 1px rgba(0, 0, 0, 0.15);\n",
              "      filter: drop-shadow(0px 1px 2px rgba(0, 0, 0, 0.3));\n",
              "      fill: #FFFFFF;\n",
              "    }\n",
              "  </style>\n",
              "\n",
              "      <script>\n",
              "        const buttonEl =\n",
              "          document.querySelector('#df-fd083081-ca73-4761-8a82-6a78315627a2 button.colab-df-convert');\n",
              "        buttonEl.style.display =\n",
              "          google.colab.kernel.accessAllowed ? 'block' : 'none';\n",
              "\n",
              "        async function convertToInteractive(key) {\n",
              "          const element = document.querySelector('#df-fd083081-ca73-4761-8a82-6a78315627a2');\n",
              "          const dataTable =\n",
              "            await google.colab.kernel.invokeFunction('convertToInteractive',\n",
              "                                                     [key], {});\n",
              "          if (!dataTable) return;\n",
              "\n",
              "          const docLinkHtml = 'Like what you see? Visit the ' +\n",
              "            '<a target=\"_blank\" href=https://colab.research.google.com/notebooks/data_table.ipynb>data table notebook</a>'\n",
              "            + ' to learn more about interactive tables.';\n",
              "          element.innerHTML = '';\n",
              "          dataTable['output_type'] = 'display_data';\n",
              "          await google.colab.output.renderOutput(dataTable, element);\n",
              "          const docLink = document.createElement('div');\n",
              "          docLink.innerHTML = docLinkHtml;\n",
              "          element.appendChild(docLink);\n",
              "        }\n",
              "      </script>\n",
              "    </div>\n",
              "  </div>\n",
              "  "
            ]
          },
          "metadata": {},
          "execution_count": 10
        }
      ]
    },
    {
      "cell_type": "code",
      "source": [
        "df.sort_values([group_col, 'date_time'], inplace=True) \n",
        "\n",
        "y = df[clf_target]\n",
        "X = df.drop(['position', 'click_bool', 'gross_bookings_usd', 'booking_bool', clf_target], axis=1)\n",
        "# del df\n",
        "groups = X[group_col]\n",
        "\n",
        "\n",
        "X_train_val, X_test, y_train_val, y_test, groups_train_val, groups_test = train_test_group_split(X, y, groups,\n",
        "                                                                                     group_array=groups,\n",
        "                                                                                     train_size=0.9)\n",
        "# del X, y\n",
        "\n",
        "X_train, X_val, y_train, y_val, groups_train, groups_val = train_test_group_split(X_train_val, \n",
        "                                                                                  y_train_val,\n",
        "                                                                                  groups_train_val,\n",
        "                                                                                  group_array=groups_train_val,\n",
        "                                                                                  train_size=0.9)\n",
        "\n",
        "# from sklearn.model_selection import GroupShuffleSplit  # ignores time\n",
        "# gss = GroupShuffleSplit(n_splits=2, train_size=.7, random_state=42)\n",
        "# >>> gss.get_n_splits()\n",
        "# 2\n",
        "# >>> for train_idx, test_idx in gss.split(X, y, groups):\n",
        "# ...     print(\"TRAIN:\", train_idx, \"TEST:\", test_idx)"
      ],
      "metadata": {
        "id": "BbFPy-uZCVeS"
      },
      "id": "BbFPy-uZCVeS",
      "execution_count": 24,
      "outputs": []
    },
    {
      "cell_type": "code",
      "source": [
        "X_train.shape, X_val.shape, X_test.shape"
      ],
      "metadata": {
        "id": "5Fr8v46pELuR",
        "outputId": "a7608412-22ab-46a6-e2b9-001d2f6676d7",
        "colab": {
          "base_uri": "https://localhost:8080/"
        }
      },
      "id": "5Fr8v46pELuR",
      "execution_count": 25,
      "outputs": [
        {
          "output_type": "execute_result",
          "data": {
            "text/plain": [
              "((401137, 68), (44573, 68), (49526, 68))"
            ]
          },
          "metadata": {},
          "execution_count": 25
        }
      ]
    },
    {
      "cell_type": "markdown",
      "id": "dfd01026",
      "metadata": {
        "id": "dfd01026"
      },
      "source": [
        "# Modeling"
      ]
    },
    {
      "cell_type": "code",
      "source": [
        "minutes_limit = 20"
      ],
      "metadata": {
        "id": "1m2HhHJIh9th"
      },
      "id": "1m2HhHJIh9th",
      "execution_count": 26,
      "outputs": []
    },
    {
      "cell_type": "markdown",
      "id": "56b43cb7",
      "metadata": {
        "id": "56b43cb7"
      },
      "source": [
        "## auto-sklearn"
      ]
    },
    {
      "cell_type": "code",
      "source": [
        "logging_config = {\n",
        "    'version': 1,\n",
        "    'disable_existing_loggers': True,\n",
        "    'formatters': {\n",
        "        'custom': {\n",
        "            # More format options are available in the official\n",
        "            # `documentation <https://docs.python.org/3/howto/logging-cookbook.html>`_\n",
        "            'format': '%(asctime)s - %(name)s - %(levelname)s - %(message)s'\n",
        "        }\n",
        "    },\n",
        "\n",
        "    # Any INFO level msg will be printed to the console\n",
        "    'handlers': {\n",
        "        'console': {\n",
        "            'level': 'INFO',\n",
        "            'formatter': 'custom',\n",
        "            'class': 'logging.StreamHandler',\n",
        "            'stream': 'ext://sys.stdout',\n",
        "        },\n",
        "    },\n",
        "\n",
        "    'loggers': {\n",
        "        '': {  # root logger\n",
        "            'level': 'DEBUG',\n",
        "        },\n",
        "        'Client-EnsembleBuilder': {\n",
        "            'level': 'DEBUG',\n",
        "            'handlers': ['console'],\n",
        "        },\n",
        "    },\n",
        "}"
      ],
      "metadata": {
        "id": "R-3yUiaSoMX7"
      },
      "id": "R-3yUiaSoMX7",
      "execution_count": 27,
      "outputs": []
    },
    {
      "cell_type": "code",
      "execution_count": 28,
      "id": "849f1155",
      "metadata": {
        "id": "849f1155",
        "outputId": "cd1e8eac-5e83-479e-c289-2b4ca81d783a",
        "colab": {
          "base_uri": "https://localhost:8080/"
        }
      },
      "outputs": [
        {
          "output_type": "stream",
          "name": "stdout",
          "text": [
            "2022-05-03 21:24:17,191 - Client-EnsembleBuilder - INFO - <Future: pending, key: fit_and_return_ensemble-ce0576def12e0c0b06f195e3c17f1f64>/<Client: 'inproc://172.28.0.2/2455/14' processes=2 threads=2> Started Ensemble builder job at 2022.05.03-21.24.17 for iteration 0.\n",
            "2022-05-03 21:27:42,941 - Client-EnsembleBuilder - INFO - <Future: pending, key: fit_and_return_ensemble-75b15e7662b70490be0d7d91f4e28832>/<Client: 'inproc://172.28.0.2/2455/14' processes=2 threads=2> Started Ensemble builder job at 2022.05.03-21.27.42 for iteration 1.\n",
            "2022-05-03 21:28:18,946 - Client-EnsembleBuilder - INFO - <Future: pending, key: fit_and_return_ensemble-70c4f7cf96e08c994880cca7edd9b375>/<Client: 'inproc://172.28.0.2/2455/14' processes=2 threads=2> Started Ensemble builder job at 2022.05.03-21.28.18 for iteration 2.\n",
            "2022-05-03 21:28:24,816 - Client-EnsembleBuilder - INFO - <Future: pending, key: fit_and_return_ensemble-6b68fc83808308d1edc930eb7ac98bd8>/<Client: 'inproc://172.28.0.2/2455/14' processes=2 threads=2> Started Ensemble builder job at 2022.05.03-21.28.24 for iteration 3.\n",
            "2022-05-03 21:31:45,139 - Client-EnsembleBuilder - INFO - <Future: pending, key: fit_and_return_ensemble-58f12b1bcc72046859d743759b1fae06>/<Client: 'inproc://172.28.0.2/2455/14' processes=2 threads=2> Started Ensemble builder job at 2022.05.03-21.31.45 for iteration 4.\n",
            "2022-05-03 21:31:58,252 - Client-EnsembleBuilder - INFO - <Future: pending, key: fit_and_return_ensemble-985826a24409538f0e2104d11c6eba3c>/<Client: 'inproc://172.28.0.2/2455/14' processes=2 threads=2> Started Ensemble builder job at 2022.05.03-21.31.58 for iteration 5.\n",
            "2022-05-03 21:32:26,386 - Client-EnsembleBuilder - INFO - <Future: pending, key: fit_and_return_ensemble-ab0618a844e8166023024bfafcda191e>/<Client: 'inproc://172.28.0.2/2455/14' processes=2 threads=2> Started Ensemble builder job at 2022.05.03-21.32.26 for iteration 6.\n",
            "2022-05-03 21:32:46,559 - Client-EnsembleBuilder - INFO - <Future: pending, key: fit_and_return_ensemble-4373a79ea87d7d5384eb3d90845bc627>/<Client: 'inproc://172.28.0.2/2455/14' processes=2 threads=2> Started Ensemble builder job at 2022.05.03-21.32.46 for iteration 7.\n",
            "2022-05-03 21:32:57,921 - Client-EnsembleBuilder - INFO - <Future: pending, key: fit_and_return_ensemble-dae5f7815e2007ab3f5ead49e6d49b26>/<Client: 'inproc://172.28.0.2/2455/14' processes=2 threads=2> Started Ensemble builder job at 2022.05.03-21.32.57 for iteration 8.\n",
            "2022-05-03 21:35:59,831 - Client-EnsembleBuilder - INFO - <Future: pending, key: fit_and_return_ensemble-ecc319a880fc1950c1bf2bc7c9be2881>/<Client: 'inproc://172.28.0.2/2455/14' processes=2 threads=2> Started Ensemble builder job at 2022.05.03-21.35.59 for iteration 9.\n",
            "2022-05-03 21:36:59,486 - Client-EnsembleBuilder - INFO - <Future: pending, key: fit_and_return_ensemble-4494f5cf05c1b19a9b1f776e0b8f49a3>/<Client: 'inproc://172.28.0.2/2455/14' processes=2 threads=2> Started Ensemble builder job at 2022.05.03-21.36.59 for iteration 10.\n",
            "2022-05-03 21:37:53,389 - Client-EnsembleBuilder - INFO - <Future: pending, key: fit_and_return_ensemble-735cc371229fb749d25edc2e38423b2a>/<Client: 'inproc://172.28.0.2/2455/14' processes=2 threads=2> Started Ensemble builder job at 2022.05.03-21.37.53 for iteration 11.\n",
            "2022-05-03 21:39:47,995 - Client-EnsembleBuilder - INFO - <Future: pending, key: fit_and_return_ensemble-01d770490fb3f377ccf3c9be589494d4>/<Client: 'inproc://172.28.0.2/2455/14' processes=2 threads=2> Started Ensemble builder job at 2022.05.03-21.39.47 for iteration 12.\n"
          ]
        },
        {
          "output_type": "execute_result",
          "data": {
            "text/plain": [
              "AutoSklearnClassifier(ensemble_size=5,\n",
              "                      logging_config={'disable_existing_loggers': True,\n",
              "                                      'formatters': {'custom': {'format': '%(asctime)s '\n",
              "                                                                          '- '\n",
              "                                                                          '%(name)s '\n",
              "                                                                          '- '\n",
              "                                                                          '%(levelname)s '\n",
              "                                                                          '- '\n",
              "                                                                          '%(message)s'}},\n",
              "                                      'handlers': {'console': {'class': 'logging.StreamHandler',\n",
              "                                                               'formatter': 'custom',\n",
              "                                                               'level': 'INFO',\n",
              "                                                               'stream': 'ext://sys.stdout'},\n",
              "                                                   'distributed_logfile': {'class': 'logging.FileHand...\n",
              "                                                                    'filename': '/tmp/auto-sklearn_tmp_ca2a4998-cb26-11ec-8997-0242ac1c0002/AutoML(1):ca2a4306-cb26-11ec-8997-0242ac1c0002.log',\n",
              "                                                                    'level': 'DEBUG'}},\n",
              "                                      'loggers': {'': {'level': 'DEBUG'},\n",
              "                                                  'Client-EnsembleBuilder': {'handlers': ['console'],\n",
              "                                                                             'level': 'DEBUG'}},\n",
              "                                      'version': 1},\n",
              "                      memory_limit=5120, metric=f1_macro, n_jobs=-1,\n",
              "                      per_run_time_limit=240,\n",
              "                      scoring_functions=[balanced_accuracy, accuracy, precision,\n",
              "                                         recall],\n",
              "                      time_left_for_this_task=1200)"
            ]
          },
          "metadata": {},
          "execution_count": 28
        }
      ],
      "source": [
        "import autosklearn.classification\n",
        "import sklearn\n",
        "from autosklearn.metrics import balanced_accuracy, precision, recall, f1_macro, accuracy\n",
        "\n",
        "automl = autosklearn.classification.AutoSklearnClassifier(\n",
        "    logging_config=logging_config,\n",
        "    time_left_for_this_task=60*minutes_limit,\n",
        "    # per_run_time_limit=30,\n",
        "    ensemble_size=5,\n",
        "    n_jobs=-1,\n",
        "    memory_limit=5120,\n",
        "    # tmp_folder='/tmp/autosklearn_resampling_example_tmp',\n",
        "    disable_evaluator_output=False,\n",
        "    # resampling_strategy=sklearn.model_selection.StratifiedKFold(),\n",
        "    # resampling_strategy_arguments={'n_splits': 5},\n",
        "    metric=f1_macro,\n",
        "    scoring_functions=[balanced_accuracy, accuracy, precision, recall],\n",
        "    # include={\n",
        "    #     'classifier': [\n",
        "    #         'decision_tree',# 'lda', 'sgd'\n",
        "    #     ],\n",
        "    #     'feature_preprocessor': [\n",
        "    #         'no_preprocessing', #'polynomial', 'select_percentile_classification'\n",
        "    #     ]\n",
        "    # },\n",
        ")\n",
        "automl.fit(X_train, y_train, X_test=X_val, y_test=y_val)"
      ]
    },
    {
      "cell_type": "code",
      "source": [
        "print(automl.sprint_statistics())"
      ],
      "metadata": {
        "colab": {
          "base_uri": "https://localhost:8080/"
        },
        "id": "V2NzNHyE-XnE",
        "outputId": "53b5b653-fe41-4aa5-d96d-4d25881e5f14"
      },
      "id": "V2NzNHyE-XnE",
      "execution_count": 29,
      "outputs": [
        {
          "output_type": "stream",
          "name": "stdout",
          "text": [
            "auto-sklearn results:\n",
            "  Dataset name: ca2a4306-cb26-11ec-8997-0242ac1c0002\n",
            "  Metric: f1_macro\n",
            "  Best validation score: 0.351885\n",
            "  Number of target algorithm runs: 15\n",
            "  Number of successful target algorithm runs: 3\n",
            "  Number of crashed target algorithm runs: 0\n",
            "  Number of target algorithms that exceeded the time limit: 9\n",
            "  Number of target algorithms that exceeded the memory limit: 3\n",
            "\n"
          ]
        }
      ]
    },
    {
      "cell_type": "code",
      "source": [
        "automl.leaderboard(detailed = True, ensemble_only=False).head()"
      ],
      "metadata": {
        "colab": {
          "base_uri": "https://localhost:8080/",
          "height": 239
        },
        "id": "5tJ-utoC8B41",
        "outputId": "4b80da35-ae5b-4879-c011-cac1469a406f"
      },
      "id": "5tJ-utoC8B41",
      "execution_count": 30,
      "outputs": [
        {
          "output_type": "execute_result",
          "data": {
            "text/plain": [
              "          rank  ensemble_weight               type      cost    duration  \\\n",
              "model_id                                                                   \n",
              "11           1              0.8                qda  0.648115   19.704738   \n",
              "4            2              0.2  gradient_boosting  0.672518  204.548725   \n",
              "14           3              0.0                mlp  0.674252  113.037715   \n",
              "\n",
              "          config_id  train_loss  seed    start_time      end_time  budget  \\\n",
              "model_id                                                                    \n",
              "11               10    0.639234     0  1.651614e+09  1.651614e+09     0.0   \n",
              "4                 3    0.670424     0  1.651613e+09  1.651613e+09     0.0   \n",
              "14               13    0.674252     0  1.651614e+09  1.651614e+09     0.0   \n",
              "\n",
              "                      status data_preprocessors  \\\n",
              "model_id                                          \n",
              "11        StatusType.SUCCESS                 []   \n",
              "4         StatusType.SUCCESS                 []   \n",
              "14        StatusType.SUCCESS                 []   \n",
              "\n",
              "                  feature_preprocessors balancing_strategy   config_origin  \n",
              "model_id                                                                    \n",
              "11                   [no_preprocessing]          weighting  Initial design  \n",
              "4                            [fast_ica]               none  Initial design  \n",
              "14        [select_rates_classification]          weighting  Initial design  "
            ],
            "text/html": [
              "\n",
              "  <div id=\"df-e022e0b4-4b2f-4c02-82c5-9e8195e62901\">\n",
              "    <div class=\"colab-df-container\">\n",
              "      <div>\n",
              "<style scoped>\n",
              "    .dataframe tbody tr th:only-of-type {\n",
              "        vertical-align: middle;\n",
              "    }\n",
              "\n",
              "    .dataframe tbody tr th {\n",
              "        vertical-align: top;\n",
              "    }\n",
              "\n",
              "    .dataframe thead th {\n",
              "        text-align: right;\n",
              "    }\n",
              "</style>\n",
              "<table border=\"1\" class=\"dataframe\">\n",
              "  <thead>\n",
              "    <tr style=\"text-align: right;\">\n",
              "      <th></th>\n",
              "      <th>rank</th>\n",
              "      <th>ensemble_weight</th>\n",
              "      <th>type</th>\n",
              "      <th>cost</th>\n",
              "      <th>duration</th>\n",
              "      <th>config_id</th>\n",
              "      <th>train_loss</th>\n",
              "      <th>seed</th>\n",
              "      <th>start_time</th>\n",
              "      <th>end_time</th>\n",
              "      <th>budget</th>\n",
              "      <th>status</th>\n",
              "      <th>data_preprocessors</th>\n",
              "      <th>feature_preprocessors</th>\n",
              "      <th>balancing_strategy</th>\n",
              "      <th>config_origin</th>\n",
              "    </tr>\n",
              "    <tr>\n",
              "      <th>model_id</th>\n",
              "      <th></th>\n",
              "      <th></th>\n",
              "      <th></th>\n",
              "      <th></th>\n",
              "      <th></th>\n",
              "      <th></th>\n",
              "      <th></th>\n",
              "      <th></th>\n",
              "      <th></th>\n",
              "      <th></th>\n",
              "      <th></th>\n",
              "      <th></th>\n",
              "      <th></th>\n",
              "      <th></th>\n",
              "      <th></th>\n",
              "      <th></th>\n",
              "    </tr>\n",
              "  </thead>\n",
              "  <tbody>\n",
              "    <tr>\n",
              "      <th>11</th>\n",
              "      <td>1</td>\n",
              "      <td>0.8</td>\n",
              "      <td>qda</td>\n",
              "      <td>0.648115</td>\n",
              "      <td>19.704738</td>\n",
              "      <td>10</td>\n",
              "      <td>0.639234</td>\n",
              "      <td>0</td>\n",
              "      <td>1.651614e+09</td>\n",
              "      <td>1.651614e+09</td>\n",
              "      <td>0.0</td>\n",
              "      <td>StatusType.SUCCESS</td>\n",
              "      <td>[]</td>\n",
              "      <td>[no_preprocessing]</td>\n",
              "      <td>weighting</td>\n",
              "      <td>Initial design</td>\n",
              "    </tr>\n",
              "    <tr>\n",
              "      <th>4</th>\n",
              "      <td>2</td>\n",
              "      <td>0.2</td>\n",
              "      <td>gradient_boosting</td>\n",
              "      <td>0.672518</td>\n",
              "      <td>204.548725</td>\n",
              "      <td>3</td>\n",
              "      <td>0.670424</td>\n",
              "      <td>0</td>\n",
              "      <td>1.651613e+09</td>\n",
              "      <td>1.651613e+09</td>\n",
              "      <td>0.0</td>\n",
              "      <td>StatusType.SUCCESS</td>\n",
              "      <td>[]</td>\n",
              "      <td>[fast_ica]</td>\n",
              "      <td>none</td>\n",
              "      <td>Initial design</td>\n",
              "    </tr>\n",
              "    <tr>\n",
              "      <th>14</th>\n",
              "      <td>3</td>\n",
              "      <td>0.0</td>\n",
              "      <td>mlp</td>\n",
              "      <td>0.674252</td>\n",
              "      <td>113.037715</td>\n",
              "      <td>13</td>\n",
              "      <td>0.674252</td>\n",
              "      <td>0</td>\n",
              "      <td>1.651614e+09</td>\n",
              "      <td>1.651614e+09</td>\n",
              "      <td>0.0</td>\n",
              "      <td>StatusType.SUCCESS</td>\n",
              "      <td>[]</td>\n",
              "      <td>[select_rates_classification]</td>\n",
              "      <td>weighting</td>\n",
              "      <td>Initial design</td>\n",
              "    </tr>\n",
              "  </tbody>\n",
              "</table>\n",
              "</div>\n",
              "      <button class=\"colab-df-convert\" onclick=\"convertToInteractive('df-e022e0b4-4b2f-4c02-82c5-9e8195e62901')\"\n",
              "              title=\"Convert this dataframe to an interactive table.\"\n",
              "              style=\"display:none;\">\n",
              "        \n",
              "  <svg xmlns=\"http://www.w3.org/2000/svg\" height=\"24px\"viewBox=\"0 0 24 24\"\n",
              "       width=\"24px\">\n",
              "    <path d=\"M0 0h24v24H0V0z\" fill=\"none\"/>\n",
              "    <path d=\"M18.56 5.44l.94 2.06.94-2.06 2.06-.94-2.06-.94-.94-2.06-.94 2.06-2.06.94zm-11 1L8.5 8.5l.94-2.06 2.06-.94-2.06-.94L8.5 2.5l-.94 2.06-2.06.94zm10 10l.94 2.06.94-2.06 2.06-.94-2.06-.94-.94-2.06-.94 2.06-2.06.94z\"/><path d=\"M17.41 7.96l-1.37-1.37c-.4-.4-.92-.59-1.43-.59-.52 0-1.04.2-1.43.59L10.3 9.45l-7.72 7.72c-.78.78-.78 2.05 0 2.83L4 21.41c.39.39.9.59 1.41.59.51 0 1.02-.2 1.41-.59l7.78-7.78 2.81-2.81c.8-.78.8-2.07 0-2.86zM5.41 20L4 18.59l7.72-7.72 1.47 1.35L5.41 20z\"/>\n",
              "  </svg>\n",
              "      </button>\n",
              "      \n",
              "  <style>\n",
              "    .colab-df-container {\n",
              "      display:flex;\n",
              "      flex-wrap:wrap;\n",
              "      gap: 12px;\n",
              "    }\n",
              "\n",
              "    .colab-df-convert {\n",
              "      background-color: #E8F0FE;\n",
              "      border: none;\n",
              "      border-radius: 50%;\n",
              "      cursor: pointer;\n",
              "      display: none;\n",
              "      fill: #1967D2;\n",
              "      height: 32px;\n",
              "      padding: 0 0 0 0;\n",
              "      width: 32px;\n",
              "    }\n",
              "\n",
              "    .colab-df-convert:hover {\n",
              "      background-color: #E2EBFA;\n",
              "      box-shadow: 0px 1px 2px rgba(60, 64, 67, 0.3), 0px 1px 3px 1px rgba(60, 64, 67, 0.15);\n",
              "      fill: #174EA6;\n",
              "    }\n",
              "\n",
              "    [theme=dark] .colab-df-convert {\n",
              "      background-color: #3B4455;\n",
              "      fill: #D2E3FC;\n",
              "    }\n",
              "\n",
              "    [theme=dark] .colab-df-convert:hover {\n",
              "      background-color: #434B5C;\n",
              "      box-shadow: 0px 1px 3px 1px rgba(0, 0, 0, 0.15);\n",
              "      filter: drop-shadow(0px 1px 2px rgba(0, 0, 0, 0.3));\n",
              "      fill: #FFFFFF;\n",
              "    }\n",
              "  </style>\n",
              "\n",
              "      <script>\n",
              "        const buttonEl =\n",
              "          document.querySelector('#df-e022e0b4-4b2f-4c02-82c5-9e8195e62901 button.colab-df-convert');\n",
              "        buttonEl.style.display =\n",
              "          google.colab.kernel.accessAllowed ? 'block' : 'none';\n",
              "\n",
              "        async function convertToInteractive(key) {\n",
              "          const element = document.querySelector('#df-e022e0b4-4b2f-4c02-82c5-9e8195e62901');\n",
              "          const dataTable =\n",
              "            await google.colab.kernel.invokeFunction('convertToInteractive',\n",
              "                                                     [key], {});\n",
              "          if (!dataTable) return;\n",
              "\n",
              "          const docLinkHtml = 'Like what you see? Visit the ' +\n",
              "            '<a target=\"_blank\" href=https://colab.research.google.com/notebooks/data_table.ipynb>data table notebook</a>'\n",
              "            + ' to learn more about interactive tables.';\n",
              "          element.innerHTML = '';\n",
              "          dataTable['output_type'] = 'display_data';\n",
              "          await google.colab.output.renderOutput(dataTable, element);\n",
              "          const docLink = document.createElement('div');\n",
              "          docLink.innerHTML = docLinkHtml;\n",
              "          element.appendChild(docLink);\n",
              "        }\n",
              "      </script>\n",
              "    </div>\n",
              "  </div>\n",
              "  "
            ]
          },
          "metadata": {},
          "execution_count": 30
        }
      ]
    },
    {
      "cell_type": "code",
      "source": [
        "df_cv_results = pd.DataFrame(automl.cv_results_).sort_values(by = 'mean_test_score', ascending = False)\n",
        "df_cv_results[[c for c in df_cv_results.columns if not c.startswith('param_')]].head()"
      ],
      "metadata": {
        "id": "siIewBzGi5Sm",
        "outputId": "35541777-8405-49af-9afa-3334bd24b1e5",
        "colab": {
          "base_uri": "https://localhost:8080/",
          "height": 1000
        }
      },
      "id": "siIewBzGi5Sm",
      "execution_count": 31,
      "outputs": [
        {
          "output_type": "execute_result",
          "data": {
            "text/plain": [
              "    mean_test_score  metric_balanced_accuracy  metric_accuracy  \\\n",
              "9          0.351885                  0.384062         0.858245   \n",
              "2          0.327482                  0.334175         0.955468   \n",
              "12         0.325748                  0.333331         0.955498   \n",
              "0          0.000000                       NaN              NaN   \n",
              "1          0.000000                       NaN              NaN   \n",
              "\n",
              "    metric_precision  metric_recall  mean_fit_time  \\\n",
              "9                NaN            NaN      19.704738   \n",
              "2                NaN            NaN     204.548725   \n",
              "12               NaN            NaN     113.037715   \n",
              "0                NaN            NaN     240.741554   \n",
              "1                NaN            NaN     240.129007   \n",
              "\n",
              "                                                                                                                                                                                                                                                                                                                                                                                                                                                                                                                                                                                                                                                                                                                                                                                                                                                                                                                                                                                                                                                                                                                                                                                                                                                                                                                                                                                                                                                                                                                                                                                                                                                                                                                                                                                                                                      params  \\\n",
              "9                                                                                                                                                                                                                                                                                                                                                                                                                                                                                                                                                                                                                                                                                                                                                                                                                                                                                                                                                                                                                                                                                                                                                                                                    {'balancing:strategy': 'weighting', 'classifier:__choice__': 'qda', 'data_preprocessor:__choice__': 'feature_type', 'feature_preprocessor:__choice__': 'no_preprocessing', 'classifier:qda:reg_param': 0.585497512341966, 'data_preprocessor:feature_type:categorical_transformer:categorical_encoding:__choice__': 'no_encoding', 'data_preprocessor:feature_type:categorical_transformer:category_coalescence:__choice__': 'no_coalescense', 'data_preprocessor:feature_type:numerical_transformer:imputation:strategy': 'most_frequent', 'data_preprocessor:feature_type:numerical_transformer:rescaling:__choice__': 'standardize'}   \n",
              "2   {'balancing:strategy': 'none', 'classifier:__choice__': 'gradient_boosting', 'data_preprocessor:__choice__': 'feature_type', 'feature_preprocessor:__choice__': 'fast_ica', 'classifier:gradient_boosting:early_stop': 'valid', 'classifier:gradient_boosting:l2_regularization': 8.169372400434849e-10, 'classifier:gradient_boosting:learning_rate': 0.08115298296694816, 'classifier:gradient_boosting:loss': 'auto', 'classifier:gradient_boosting:max_bins': 255, 'classifier:gradient_boosting:max_depth': 'None', 'classifier:gradient_boosting:max_leaf_nodes': 17, 'classifier:gradient_boosting:min_samples_leaf': 42, 'classifier:gradient_boosting:scoring': 'loss', 'classifier:gradient_boosting:tol': 1e-07, 'data_preprocessor:feature_type:categorical_transformer:categorical_encoding:__choice__': 'no_encoding', 'data_preprocessor:feature_type:categorical_transformer:category_coalescence:__choice__': 'minority_coalescer', 'data_preprocessor:feature_type:numerical_transformer:imputation:strategy': 'mean', 'data_preprocessor:feature_type:numerical_transformer:rescaling:__choice__': 'robust_scaler', 'feature_preprocessor:fast_ica:algorithm': 'parallel', 'feature_preprocessor:fast_ica:fun': 'exp', 'feature_preprocessor:fast_ica:whiten': 'True', 'classifier:gradient_boosting:n_iter_no_change': 16, 'classifier:gradient_boosting:validation_fraction': 0.10064815838359044, 'data_preprocessor:feature_type:categorical_transformer:category_coalescence:minority_coalescer:minimum_fraction': 0.010000000000000004, 'data_preprocessor:feature_type:numerical_transformer:rescaling:robust_scaler:q_max': 0.7458662804459733, 'data_preprocessor:feature_type:numerical_transformer:rescaling:robust_scaler:q_min': 0.15415855732904085, 'feature_preprocessor:fast_ica:n_components': 175}   \n",
              "12                                                                        {'balancing:strategy': 'weighting', 'classifier:__choice__': 'mlp', 'data_preprocessor:__choice__': 'feature_type', 'feature_preprocessor:__choice__': 'select_rates_classification', 'classifier:mlp:activation': 'tanh', 'classifier:mlp:alpha': 6.159649866840956e-07, 'classifier:mlp:batch_size': 'auto', 'classifier:mlp:beta_1': 0.9, 'classifier:mlp:beta_2': 0.999, 'classifier:mlp:early_stopping': 'train', 'classifier:mlp:epsilon': 1e-08, 'classifier:mlp:hidden_layer_depth': 1, 'classifier:mlp:learning_rate_init': 0.0025137772119535008, 'classifier:mlp:n_iter_no_change': 32, 'classifier:mlp:num_nodes_per_layer': 34, 'classifier:mlp:shuffle': 'True', 'classifier:mlp:solver': 'adam', 'classifier:mlp:tol': 0.0001, 'data_preprocessor:feature_type:categorical_transformer:categorical_encoding:__choice__': 'no_encoding', 'data_preprocessor:feature_type:categorical_transformer:category_coalescence:__choice__': 'minority_coalescer', 'data_preprocessor:feature_type:numerical_transformer:imputation:strategy': 'median', 'data_preprocessor:feature_type:numerical_transformer:rescaling:__choice__': 'quantile_transformer', 'feature_preprocessor:select_rates_classification:alpha': 0.038914844572262304, 'feature_preprocessor:select_rates_classification:score_func': 'f_classif', 'data_preprocessor:feature_type:categorical_transformer:category_coalescence:minority_coalescer:minimum_fraction': 0.13326945272318613, 'data_preprocessor:feature_type:numerical_transformer:rescaling:quantile_transformer:n_quantiles': 593, 'data_preprocessor:feature_type:numerical_transformer:rescaling:quantile_transformer:output_distribution': 'normal', 'feature_preprocessor:select_rates_classification:mode': 'fdr'}   \n",
              "0                                                                                                                                                                                                                                                                                                                                                                                                                                                                                                                                                                                                                                                        {'balancing:strategy': 'none', 'classifier:__choice__': 'random_forest', 'data_preprocessor:__choice__': 'feature_type', 'feature_preprocessor:__choice__': 'no_preprocessing', 'classifier:random_forest:bootstrap': 'True', 'classifier:random_forest:criterion': 'gini', 'classifier:random_forest:max_depth': 'None', 'classifier:random_forest:max_features': 0.5, 'classifier:random_forest:max_leaf_nodes': 'None', 'classifier:random_forest:min_impurity_decrease': 0.0, 'classifier:random_forest:min_samples_leaf': 1, 'classifier:random_forest:min_samples_split': 2, 'classifier:random_forest:min_weight_fraction_leaf': 0.0, 'data_preprocessor:feature_type:categorical_transformer:categorical_encoding:__choice__': 'one_hot_encoding', 'data_preprocessor:feature_type:categorical_transformer:category_coalescence:__choice__': 'minority_coalescer', 'data_preprocessor:feature_type:numerical_transformer:imputation:strategy': 'mean', 'data_preprocessor:feature_type:numerical_transformer:rescaling:__choice__': 'standardize', 'data_preprocessor:feature_type:categorical_transformer:category_coalescence:minority_coalescer:minimum_fraction': 0.01}   \n",
              "1                                                                                                                                                                                                                                                                                                                                                    {'balancing:strategy': 'weighting', 'classifier:__choice__': 'random_forest', 'data_preprocessor:__choice__': 'feature_type', 'feature_preprocessor:__choice__': 'feature_agglomeration', 'classifier:random_forest:bootstrap': 'True', 'classifier:random_forest:criterion': 'entropy', 'classifier:random_forest:max_depth': 'None', 'classifier:random_forest:max_features': 0.5692764365708383, 'classifier:random_forest:max_leaf_nodes': 'None', 'classifier:random_forest:min_impurity_decrease': 0.0, 'classifier:random_forest:min_samples_leaf': 1, 'classifier:random_forest:min_samples_split': 2, 'classifier:random_forest:min_weight_fraction_leaf': 0.0, 'data_preprocessor:feature_type:categorical_transformer:categorical_encoding:__choice__': 'no_encoding', 'data_preprocessor:feature_type:categorical_transformer:category_coalescence:__choice__': 'minority_coalescer', 'data_preprocessor:feature_type:numerical_transformer:imputation:strategy': 'mean', 'data_preprocessor:feature_type:numerical_transformer:rescaling:__choice__': 'minmax', 'feature_preprocessor:feature_agglomeration:affinity': 'euclidean', 'feature_preprocessor:feature_agglomeration:linkage': 'ward', 'feature_preprocessor:feature_agglomeration:n_clusters': 323, 'feature_preprocessor:feature_agglomeration:pooling_func': 'max', 'data_preprocessor:feature_type:categorical_transformer:category_coalescence:minority_coalescer:minimum_fraction': 0.010000000000000004}   \n",
              "\n",
              "    rank_test_scores   status  budgets  \n",
              "9                  1  Success      0.0  \n",
              "2                  2  Success      0.0  \n",
              "12                 3  Success      0.0  \n",
              "0                  4  Timeout      0.0  \n",
              "1                  4  Timeout      0.0  "
            ],
            "text/html": [
              "\n",
              "  <div id=\"df-418681d1-b561-4956-a2ea-1ff10b259450\">\n",
              "    <div class=\"colab-df-container\">\n",
              "      <div>\n",
              "<style scoped>\n",
              "    .dataframe tbody tr th:only-of-type {\n",
              "        vertical-align: middle;\n",
              "    }\n",
              "\n",
              "    .dataframe tbody tr th {\n",
              "        vertical-align: top;\n",
              "    }\n",
              "\n",
              "    .dataframe thead th {\n",
              "        text-align: right;\n",
              "    }\n",
              "</style>\n",
              "<table border=\"1\" class=\"dataframe\">\n",
              "  <thead>\n",
              "    <tr style=\"text-align: right;\">\n",
              "      <th></th>\n",
              "      <th>mean_test_score</th>\n",
              "      <th>metric_balanced_accuracy</th>\n",
              "      <th>metric_accuracy</th>\n",
              "      <th>metric_precision</th>\n",
              "      <th>metric_recall</th>\n",
              "      <th>mean_fit_time</th>\n",
              "      <th>params</th>\n",
              "      <th>rank_test_scores</th>\n",
              "      <th>status</th>\n",
              "      <th>budgets</th>\n",
              "    </tr>\n",
              "  </thead>\n",
              "  <tbody>\n",
              "    <tr>\n",
              "      <th>9</th>\n",
              "      <td>0.351885</td>\n",
              "      <td>0.384062</td>\n",
              "      <td>0.858245</td>\n",
              "      <td>NaN</td>\n",
              "      <td>NaN</td>\n",
              "      <td>19.704738</td>\n",
              "      <td>{'balancing:strategy': 'weighting', 'classifier:__choice__': 'qda', 'data_preprocessor:__choice__': 'feature_type', 'feature_preprocessor:__choice__': 'no_preprocessing', 'classifier:qda:reg_param': 0.585497512341966, 'data_preprocessor:feature_type:categorical_transformer:categorical_encoding:__choice__': 'no_encoding', 'data_preprocessor:feature_type:categorical_transformer:category_coalescence:__choice__': 'no_coalescense', 'data_preprocessor:feature_type:numerical_transformer:imputation:strategy': 'most_frequent', 'data_preprocessor:feature_type:numerical_transformer:rescaling:__choice__': 'standardize'}</td>\n",
              "      <td>1</td>\n",
              "      <td>Success</td>\n",
              "      <td>0.0</td>\n",
              "    </tr>\n",
              "    <tr>\n",
              "      <th>2</th>\n",
              "      <td>0.327482</td>\n",
              "      <td>0.334175</td>\n",
              "      <td>0.955468</td>\n",
              "      <td>NaN</td>\n",
              "      <td>NaN</td>\n",
              "      <td>204.548725</td>\n",
              "      <td>{'balancing:strategy': 'none', 'classifier:__choice__': 'gradient_boosting', 'data_preprocessor:__choice__': 'feature_type', 'feature_preprocessor:__choice__': 'fast_ica', 'classifier:gradient_boosting:early_stop': 'valid', 'classifier:gradient_boosting:l2_regularization': 8.169372400434849e-10, 'classifier:gradient_boosting:learning_rate': 0.08115298296694816, 'classifier:gradient_boosting:loss': 'auto', 'classifier:gradient_boosting:max_bins': 255, 'classifier:gradient_boosting:max_depth': 'None', 'classifier:gradient_boosting:max_leaf_nodes': 17, 'classifier:gradient_boosting:min_samples_leaf': 42, 'classifier:gradient_boosting:scoring': 'loss', 'classifier:gradient_boosting:tol': 1e-07, 'data_preprocessor:feature_type:categorical_transformer:categorical_encoding:__choice__': 'no_encoding', 'data_preprocessor:feature_type:categorical_transformer:category_coalescence:__choice__': 'minority_coalescer', 'data_preprocessor:feature_type:numerical_transformer:imputation:strategy': 'mean', 'data_preprocessor:feature_type:numerical_transformer:rescaling:__choice__': 'robust_scaler', 'feature_preprocessor:fast_ica:algorithm': 'parallel', 'feature_preprocessor:fast_ica:fun': 'exp', 'feature_preprocessor:fast_ica:whiten': 'True', 'classifier:gradient_boosting:n_iter_no_change': 16, 'classifier:gradient_boosting:validation_fraction': 0.10064815838359044, 'data_preprocessor:feature_type:categorical_transformer:category_coalescence:minority_coalescer:minimum_fraction': 0.010000000000000004, 'data_preprocessor:feature_type:numerical_transformer:rescaling:robust_scaler:q_max': 0.7458662804459733, 'data_preprocessor:feature_type:numerical_transformer:rescaling:robust_scaler:q_min': 0.15415855732904085, 'feature_preprocessor:fast_ica:n_components': 175}</td>\n",
              "      <td>2</td>\n",
              "      <td>Success</td>\n",
              "      <td>0.0</td>\n",
              "    </tr>\n",
              "    <tr>\n",
              "      <th>12</th>\n",
              "      <td>0.325748</td>\n",
              "      <td>0.333331</td>\n",
              "      <td>0.955498</td>\n",
              "      <td>NaN</td>\n",
              "      <td>NaN</td>\n",
              "      <td>113.037715</td>\n",
              "      <td>{'balancing:strategy': 'weighting', 'classifier:__choice__': 'mlp', 'data_preprocessor:__choice__': 'feature_type', 'feature_preprocessor:__choice__': 'select_rates_classification', 'classifier:mlp:activation': 'tanh', 'classifier:mlp:alpha': 6.159649866840956e-07, 'classifier:mlp:batch_size': 'auto', 'classifier:mlp:beta_1': 0.9, 'classifier:mlp:beta_2': 0.999, 'classifier:mlp:early_stopping': 'train', 'classifier:mlp:epsilon': 1e-08, 'classifier:mlp:hidden_layer_depth': 1, 'classifier:mlp:learning_rate_init': 0.0025137772119535008, 'classifier:mlp:n_iter_no_change': 32, 'classifier:mlp:num_nodes_per_layer': 34, 'classifier:mlp:shuffle': 'True', 'classifier:mlp:solver': 'adam', 'classifier:mlp:tol': 0.0001, 'data_preprocessor:feature_type:categorical_transformer:categorical_encoding:__choice__': 'no_encoding', 'data_preprocessor:feature_type:categorical_transformer:category_coalescence:__choice__': 'minority_coalescer', 'data_preprocessor:feature_type:numerical_transformer:imputation:strategy': 'median', 'data_preprocessor:feature_type:numerical_transformer:rescaling:__choice__': 'quantile_transformer', 'feature_preprocessor:select_rates_classification:alpha': 0.038914844572262304, 'feature_preprocessor:select_rates_classification:score_func': 'f_classif', 'data_preprocessor:feature_type:categorical_transformer:category_coalescence:minority_coalescer:minimum_fraction': 0.13326945272318613, 'data_preprocessor:feature_type:numerical_transformer:rescaling:quantile_transformer:n_quantiles': 593, 'data_preprocessor:feature_type:numerical_transformer:rescaling:quantile_transformer:output_distribution': 'normal', 'feature_preprocessor:select_rates_classification:mode': 'fdr'}</td>\n",
              "      <td>3</td>\n",
              "      <td>Success</td>\n",
              "      <td>0.0</td>\n",
              "    </tr>\n",
              "    <tr>\n",
              "      <th>0</th>\n",
              "      <td>0.000000</td>\n",
              "      <td>NaN</td>\n",
              "      <td>NaN</td>\n",
              "      <td>NaN</td>\n",
              "      <td>NaN</td>\n",
              "      <td>240.741554</td>\n",
              "      <td>{'balancing:strategy': 'none', 'classifier:__choice__': 'random_forest', 'data_preprocessor:__choice__': 'feature_type', 'feature_preprocessor:__choice__': 'no_preprocessing', 'classifier:random_forest:bootstrap': 'True', 'classifier:random_forest:criterion': 'gini', 'classifier:random_forest:max_depth': 'None', 'classifier:random_forest:max_features': 0.5, 'classifier:random_forest:max_leaf_nodes': 'None', 'classifier:random_forest:min_impurity_decrease': 0.0, 'classifier:random_forest:min_samples_leaf': 1, 'classifier:random_forest:min_samples_split': 2, 'classifier:random_forest:min_weight_fraction_leaf': 0.0, 'data_preprocessor:feature_type:categorical_transformer:categorical_encoding:__choice__': 'one_hot_encoding', 'data_preprocessor:feature_type:categorical_transformer:category_coalescence:__choice__': 'minority_coalescer', 'data_preprocessor:feature_type:numerical_transformer:imputation:strategy': 'mean', 'data_preprocessor:feature_type:numerical_transformer:rescaling:__choice__': 'standardize', 'data_preprocessor:feature_type:categorical_transformer:category_coalescence:minority_coalescer:minimum_fraction': 0.01}</td>\n",
              "      <td>4</td>\n",
              "      <td>Timeout</td>\n",
              "      <td>0.0</td>\n",
              "    </tr>\n",
              "    <tr>\n",
              "      <th>1</th>\n",
              "      <td>0.000000</td>\n",
              "      <td>NaN</td>\n",
              "      <td>NaN</td>\n",
              "      <td>NaN</td>\n",
              "      <td>NaN</td>\n",
              "      <td>240.129007</td>\n",
              "      <td>{'balancing:strategy': 'weighting', 'classifier:__choice__': 'random_forest', 'data_preprocessor:__choice__': 'feature_type', 'feature_preprocessor:__choice__': 'feature_agglomeration', 'classifier:random_forest:bootstrap': 'True', 'classifier:random_forest:criterion': 'entropy', 'classifier:random_forest:max_depth': 'None', 'classifier:random_forest:max_features': 0.5692764365708383, 'classifier:random_forest:max_leaf_nodes': 'None', 'classifier:random_forest:min_impurity_decrease': 0.0, 'classifier:random_forest:min_samples_leaf': 1, 'classifier:random_forest:min_samples_split': 2, 'classifier:random_forest:min_weight_fraction_leaf': 0.0, 'data_preprocessor:feature_type:categorical_transformer:categorical_encoding:__choice__': 'no_encoding', 'data_preprocessor:feature_type:categorical_transformer:category_coalescence:__choice__': 'minority_coalescer', 'data_preprocessor:feature_type:numerical_transformer:imputation:strategy': 'mean', 'data_preprocessor:feature_type:numerical_transformer:rescaling:__choice__': 'minmax', 'feature_preprocessor:feature_agglomeration:affinity': 'euclidean', 'feature_preprocessor:feature_agglomeration:linkage': 'ward', 'feature_preprocessor:feature_agglomeration:n_clusters': 323, 'feature_preprocessor:feature_agglomeration:pooling_func': 'max', 'data_preprocessor:feature_type:categorical_transformer:category_coalescence:minority_coalescer:minimum_fraction': 0.010000000000000004}</td>\n",
              "      <td>4</td>\n",
              "      <td>Timeout</td>\n",
              "      <td>0.0</td>\n",
              "    </tr>\n",
              "  </tbody>\n",
              "</table>\n",
              "</div>\n",
              "      <button class=\"colab-df-convert\" onclick=\"convertToInteractive('df-418681d1-b561-4956-a2ea-1ff10b259450')\"\n",
              "              title=\"Convert this dataframe to an interactive table.\"\n",
              "              style=\"display:none;\">\n",
              "        \n",
              "  <svg xmlns=\"http://www.w3.org/2000/svg\" height=\"24px\"viewBox=\"0 0 24 24\"\n",
              "       width=\"24px\">\n",
              "    <path d=\"M0 0h24v24H0V0z\" fill=\"none\"/>\n",
              "    <path d=\"M18.56 5.44l.94 2.06.94-2.06 2.06-.94-2.06-.94-.94-2.06-.94 2.06-2.06.94zm-11 1L8.5 8.5l.94-2.06 2.06-.94-2.06-.94L8.5 2.5l-.94 2.06-2.06.94zm10 10l.94 2.06.94-2.06 2.06-.94-2.06-.94-.94-2.06-.94 2.06-2.06.94z\"/><path d=\"M17.41 7.96l-1.37-1.37c-.4-.4-.92-.59-1.43-.59-.52 0-1.04.2-1.43.59L10.3 9.45l-7.72 7.72c-.78.78-.78 2.05 0 2.83L4 21.41c.39.39.9.59 1.41.59.51 0 1.02-.2 1.41-.59l7.78-7.78 2.81-2.81c.8-.78.8-2.07 0-2.86zM5.41 20L4 18.59l7.72-7.72 1.47 1.35L5.41 20z\"/>\n",
              "  </svg>\n",
              "      </button>\n",
              "      \n",
              "  <style>\n",
              "    .colab-df-container {\n",
              "      display:flex;\n",
              "      flex-wrap:wrap;\n",
              "      gap: 12px;\n",
              "    }\n",
              "\n",
              "    .colab-df-convert {\n",
              "      background-color: #E8F0FE;\n",
              "      border: none;\n",
              "      border-radius: 50%;\n",
              "      cursor: pointer;\n",
              "      display: none;\n",
              "      fill: #1967D2;\n",
              "      height: 32px;\n",
              "      padding: 0 0 0 0;\n",
              "      width: 32px;\n",
              "    }\n",
              "\n",
              "    .colab-df-convert:hover {\n",
              "      background-color: #E2EBFA;\n",
              "      box-shadow: 0px 1px 2px rgba(60, 64, 67, 0.3), 0px 1px 3px 1px rgba(60, 64, 67, 0.15);\n",
              "      fill: #174EA6;\n",
              "    }\n",
              "\n",
              "    [theme=dark] .colab-df-convert {\n",
              "      background-color: #3B4455;\n",
              "      fill: #D2E3FC;\n",
              "    }\n",
              "\n",
              "    [theme=dark] .colab-df-convert:hover {\n",
              "      background-color: #434B5C;\n",
              "      box-shadow: 0px 1px 3px 1px rgba(0, 0, 0, 0.15);\n",
              "      filter: drop-shadow(0px 1px 2px rgba(0, 0, 0, 0.3));\n",
              "      fill: #FFFFFF;\n",
              "    }\n",
              "  </style>\n",
              "\n",
              "      <script>\n",
              "        const buttonEl =\n",
              "          document.querySelector('#df-418681d1-b561-4956-a2ea-1ff10b259450 button.colab-df-convert');\n",
              "        buttonEl.style.display =\n",
              "          google.colab.kernel.accessAllowed ? 'block' : 'none';\n",
              "\n",
              "        async function convertToInteractive(key) {\n",
              "          const element = document.querySelector('#df-418681d1-b561-4956-a2ea-1ff10b259450');\n",
              "          const dataTable =\n",
              "            await google.colab.kernel.invokeFunction('convertToInteractive',\n",
              "                                                     [key], {});\n",
              "          if (!dataTable) return;\n",
              "\n",
              "          const docLinkHtml = 'Like what you see? Visit the ' +\n",
              "            '<a target=\"_blank\" href=https://colab.research.google.com/notebooks/data_table.ipynb>data table notebook</a>'\n",
              "            + ' to learn more about interactive tables.';\n",
              "          element.innerHTML = '';\n",
              "          dataTable['output_type'] = 'display_data';\n",
              "          await google.colab.output.renderOutput(dataTable, element);\n",
              "          const docLink = document.createElement('div');\n",
              "          docLink.innerHTML = docLinkHtml;\n",
              "          element.appendChild(docLink);\n",
              "        }\n",
              "      </script>\n",
              "    </div>\n",
              "  </div>\n",
              "  "
            ]
          },
          "metadata": {},
          "execution_count": 31
        }
      ]
    },
    {
      "cell_type": "code",
      "execution_count": 32,
      "id": "ddb76e98",
      "metadata": {
        "id": "ddb76e98",
        "colab": {
          "base_uri": "https://localhost:8080/"
        },
        "outputId": "445a0f0f-3d49-49a0-c4da-37bd426a9062"
      },
      "outputs": [
        {
          "output_type": "stream",
          "name": "stdout",
          "text": [
            "Before re-fit\n",
            "NDCG which is used for competition evaluation\n"
          ]
        },
        {
          "output_type": "execute_result",
          "data": {
            "text/plain": [
              "0.08732617712309337"
            ]
          },
          "metadata": {},
          "execution_count": 32
        }
      ],
      "source": [
        "# One can use models trained during cross-validation directly to predict\n",
        "# for unseen data. For this, all k models trained during k-fold\n",
        "# cross-validation are considered as a single soft-voting ensemble inside\n",
        "# the ensemble constructed with ensemble selection.\n",
        "print('Before re-fit')\n",
        "test_preds = np.float32(np.squeeze(automl.predict(X_test)))\n",
        "test_preds[test_preds == 0.] = 0.01  # to make them orderable\n",
        "test_pred_probs = automl.predict_proba(X_test)\n",
        "test_preds_weighted = np.max(test_pred_probs, axis=1) * np.squeeze(test_preds)\n",
        "\n",
        "test_results_df = pd.DataFrame({group_col: groups_test,\n",
        "                        'prop_id': X_test['prop_id'],\n",
        "                        clf_target+'_pred': test_preds_weighted,\n",
        "                        clf_target+'_gt': y_test,\n",
        "                         })\n",
        "test_results_df.sort_values(by=[group_col, clf_target+'_pred'],\n",
        "                            ascending=[True, False], inplace=True)\n",
        "\n",
        "import numpy as np\n",
        "\n",
        "def dcg_score(gains):\n",
        "    return sum([g / np.log2(i + 2) for i, g in enumerate(gains)])\n",
        "\n",
        "\n",
        "def ndcg(gains, at=5):\n",
        "    assert len(gains) >= at, f\"Trying to calculate NDSG@{at} while having {len(gains)} objects\"\n",
        "    dcg = dcg_score(gains[:at])\n",
        "    idcg = dcg_score(sorted(gains, reverse=True)[:at])\n",
        "    if idcg == 0.:\n",
        "        return 0\n",
        "    else:\n",
        "        return dcg / idcg\n",
        "        \n",
        "print('NDCG which is used for competition evaluation')\n",
        "test_results_df.groupby('srch_id').filter(lambda x: x['prop_id'].count() >= 5).groupby('srch_id')[clf_target+'_gt'].apply(ndcg, at=5).mean()"
      ]
    },
    {
      "cell_type": "code",
      "source": [
        "# During fit(), models are fit on individual cross-validation folds. To use all \n",
        "# available data, we call refit() which trains all models in the final \n",
        "# ensemble on the whole dataset.\n",
        "print('After re-fit')\n",
        "automl.refit(X_train_val.copy(), y_train_val.copy())\n",
        "\n",
        "\n",
        "test_preds = np.float32(np.squeeze(automl.predict(X_test)))\n",
        "test_preds[test_preds == 0.] = 0.01  # to make them orderable\n",
        "test_pred_probs = automl.predict_proba(X_test)\n",
        "test_preds_weighted = np.max(test_pred_probs, axis=1) * np.squeeze(test_preds)\n",
        "\n",
        "test_results_df = pd.DataFrame({group_col: groups_test,\n",
        "                        'prop_id': X_test['prop_id'],\n",
        "                        clf_target+'_pred': test_preds_weighted,\n",
        "                        clf_target+'_gt': y_test,\n",
        "                         })\n",
        "test_results_df.sort_values(by=[group_col, clf_target+'_pred'],\n",
        "                            ascending=[True, False], inplace=True)\n",
        "\n",
        "print('NDCG which is used for competition evaluation')\n",
        "test_results_df.groupby('srch_id').filter(lambda x: x['prop_id'].count() >= 5).groupby('srch_id')[clf_target+'_gt'].apply(ndcg, at=5).mean()"
      ],
      "metadata": {
        "id": "T7VOH-4Pj13j",
        "outputId": "d6765cfe-ce8b-497d-8f6d-ecf07a389796",
        "colab": {
          "base_uri": "https://localhost:8080/"
        }
      },
      "id": "T7VOH-4Pj13j",
      "execution_count": 33,
      "outputs": [
        {
          "output_type": "stream",
          "name": "stdout",
          "text": [
            "After re-fit\n",
            "NDCG which is used for competition evaluation\n"
          ]
        },
        {
          "output_type": "execute_result",
          "data": {
            "text/plain": [
              "0.09068914370904013"
            ]
          },
          "metadata": {},
          "execution_count": 33
        }
      ]
    },
    {
      "cell_type": "code",
      "source": [
        "import matplotlib.pyplot as plt\n",
        "\n",
        "automl.performance_over_time_.plot(\n",
        "        x='Timestamp',\n",
        "        kind='line',\n",
        "        legend=True,\n",
        "        title='Auto-sklearn accuracy over time',\n",
        "        grid=True,\n",
        "    )\n",
        "plt.show()"
      ],
      "metadata": {
        "id": "sjzzqgT5j7RA",
        "outputId": "4ca13d08-560e-42cb-e817-9ff91ab49ac5",
        "colab": {
          "base_uri": "https://localhost:8080/",
          "height": 295
        }
      },
      "id": "sjzzqgT5j7RA",
      "execution_count": 34,
      "outputs": [
        {
          "output_type": "display_data",
          "data": {
            "text/plain": [
              "<Figure size 432x288 with 1 Axes>"
            ],
            "image/png": "[encoded data removed]"
          },
          "metadata": {
            "needs_background": "light"
          }
        }
      ]
    },
    {
      "cell_type": "code",
      "source": [
        "import pprint\n",
        "\n",
        "pp = pprint.PrettyPrinter(4)"
      ],
      "metadata": {
        "id": "gaRzygH1sCdN"
      },
      "id": "gaRzygH1sCdN",
      "execution_count": 35,
      "outputs": []
    },
    {
      "cell_type": "code",
      "source": [
        "pp.pprint(automl.show_models())"
      ],
      "metadata": {
        "id": "IC-N-S9BrLeb",
        "outputId": "dc09ee08-b03f-491f-f6d8-62bae0af484d",
        "colab": {
          "base_uri": "https://localhost:8080/"
        }
      },
      "id": "IC-N-S9BrLeb",
      "execution_count": 36,
      "outputs": [
        {
          "output_type": "stream",
          "name": "stdout",
          "text": [
            "{   4: {   'balancing': Balancing(random_state=1),\n",
            "           'classifier': <autosklearn.pipeline.components.classification.ClassifierChoice object at 0x7fabadcb7750>,\n",
            "           'cost': 0.6725179223276556,\n",
            "           'data_preprocessor': <autosklearn.pipeline.components.data_preprocessing.DataPreprocessorChoice object at 0x7fabadeb0050>,\n",
            "           'ensemble_weight': 0.2,\n",
            "           'feature_preprocessor': <autosklearn.pipeline.components.feature_preprocessing.FeaturePreprocessorChoice object at 0x7fabadcb70d0>,\n",
            "           'model_id': 4,\n",
            "           'rank': 2,\n",
            "           'sklearn_classifier': HistGradientBoostingClassifier(early_stopping=True,\n",
            "                               l2_regularization=8.169372400434849e-10,\n",
            "                               learning_rate=0.08115298296694816, max_iter=128,\n",
            "                               max_leaf_nodes=17, min_samples_leaf=42,\n",
            "                               n_iter_no_change=16, random_state=1,\n",
            "                               validation_fraction=0.10064815838359044,\n",
            "                               warm_start=True)},\n",
            "    11: {   'balancing': Balancing(random_state=1, strategy='weighting'),\n",
            "            'classifier': <autosklearn.pipeline.components.classification.ClassifierChoice object at 0x7fabadeb0710>,\n",
            "            'cost': 0.6481151378633361,\n",
            "            'data_preprocessor': <autosklearn.pipeline.components.data_preprocessing.DataPreprocessorChoice object at 0x7fabb2ce3450>,\n",
            "            'ensemble_weight': 0.8,\n",
            "            'feature_preprocessor': <autosklearn.pipeline.components.feature_preprocessing.FeaturePreprocessorChoice object at 0x7fabadeb0ad0>,\n",
            "            'model_id': 11,\n",
            "            'rank': 1,\n",
            "            'sklearn_classifier': QuadraticDiscriminantAnalysis(reg_param=0.585497512341966)}}\n"
          ]
        }
      ]
    },
    {
      "cell_type": "code",
      "source": [
        "from sklearn.inspection import plot_partial_dependence, permutation_importance\n",
        "\n",
        "r = permutation_importance(automl, X_test, y_test, n_repeats=3, random_state=0)\n",
        "sort_idx = r.importances_mean.argsort()[::-1]"
      ],
      "metadata": {
        "id": "_3hckCTzsHoS"
      },
      "id": "_3hckCTzsHoS",
      "execution_count": null,
      "outputs": []
    },
    {
      "cell_type": "code",
      "source": [
        "plt.figure(figsize=(15, 6))\n",
        "plt.boxplot(r.importances[sort_idx].T,\n",
        "            labels=[X_test.columns[i] for i in sort_idx])\n",
        "\n",
        "plt.xticks(rotation=90)\n",
        "plt.tight_layout()\n",
        "plt.show()\n",
        "\n",
        "for i in sort_idx[::-1]:\n",
        "    print(f\"{X_test.columns[i]:10s}: {r.importances_mean[i]:.3f} +/- \"\n",
        "          f\"{r.importances_std[i]:.3f}\")"
      ],
      "metadata": {
        "id": "roYMCutF6-xc",
        "outputId": "a34e5c3d-a8ab-4976-b7b5-ced57acd363a",
        "colab": {
          "base_uri": "https://localhost:8080/",
          "height": 1000
        }
      },
      "id": "roYMCutF6-xc",
      "execution_count": 40,
      "outputs": [
        {
          "output_type": "display_data",
          "data": {
            "text/plain": [
              "<Figure size 1080x432 with 1 Axes>"
            ],
            "image/png": "[encoded data removed]"
          },
          "metadata": {
            "needs_background": "light"
          }
        },
        {
          "output_type": "stream",
          "name": "stdout",
          "text": [
            "month     : -0.003 +/- 0.001\n",
            "prop_location_score1: -0.002 +/- 0.000\n",
            "doy       : -0.001 +/- 0.002\n",
            "week      : -0.001 +/- 0.001\n",
            "is_year_end: -0.001 +/- 0.000\n",
            "srch_destination_id: -0.001 +/- 0.000\n",
            "comp7_inv : -0.001 +/- 0.000\n",
            "day       : -0.001 +/- 0.000\n",
            "comp8_inv : -0.001 +/- 0.000\n",
            "comp3_inv : -0.001 +/- 0.000\n",
            "srch_query_affinity_score: -0.001 +/- 0.000\n",
            "quarter   : -0.001 +/- 0.000\n",
            "prop_country_id: -0.001 +/- 0.000\n",
            "comp6_rate: -0.001 +/- 0.000\n",
            "comp4_inv : -0.001 +/- 0.000\n",
            "dow       : -0.001 +/- 0.000\n",
            "prop_brand_bool: -0.001 +/- 0.001\n",
            "season_num: -0.001 +/- 0.000\n",
            "is_weekend: -0.001 +/- 0.000\n",
            "prop_id   : -0.001 +/- 0.001\n",
            "prop_review_score: -0.001 +/- 0.000\n",
            "comp6_rate_percent_diff: -0.001 +/- 0.000\n",
            "date_time : -0.001 +/- 0.001\n",
            "srch_saturday_night_bool: -0.000 +/- 0.000\n",
            "comp1_rate: -0.000 +/- 0.000\n",
            "comp2_inv : -0.000 +/- 0.000\n",
            "is_quarter_end: -0.000 +/- 0.000\n",
            "comp1_inv : -0.000 +/- 0.000\n",
            "comp5_rate_percent_diff: -0.000 +/- 0.000\n",
            "comp5_inv : -0.000 +/- 0.000\n",
            "comp1_rate_percent_diff: -0.000 +/- 0.000\n",
            "week_summer_index: -0.000 +/- 0.001\n",
            "prop_log_historical_price: -0.000 +/- 0.001\n",
            "srch_adults_count: -0.000 +/- 0.001\n",
            "comp7_rate_percent_diff: -0.000 +/- 0.000\n",
            "price_usd : -0.000 +/- 0.000\n",
            "orig_destination_distance: -0.000 +/- 0.000\n",
            "is_year_start: -0.000 +/- 0.000\n",
            "is_month_end: -0.000 +/- 0.000\n",
            "srch_id   : -0.000 +/- 0.000\n",
            "days_in_month: -0.000 +/- 0.000\n",
            "comp5_rate: -0.000 +/- 0.000\n",
            "comp8_rate_percent_diff: 0.000 +/- 0.000\n",
            "srch_room_count: 0.000 +/- 0.000\n",
            "comp2_rate_percent_diff: 0.000 +/- 0.000\n",
            "comp4_rate_percent_diff: 0.000 +/- 0.000\n",
            "is_month_start: 0.000 +/- 0.000\n",
            "visitor_location_country_id: 0.000 +/- 0.001\n",
            "comp3_rate_percent_diff: 0.000 +/- 0.000\n",
            "is_quarter_start: 0.000 +/- 0.000\n",
            "comp7_rate: 0.000 +/- 0.000\n",
            "comp6_inv : 0.000 +/- 0.000\n",
            "comp3_rate: 0.001 +/- 0.000\n",
            "visitor_hist_starrating: 0.001 +/- 0.001\n",
            "comp4_rate: 0.001 +/- 0.000\n",
            "site_id   : 0.001 +/- 0.001\n",
            "srch_booking_window: 0.001 +/- 0.001\n",
            "comp8_rate: 0.001 +/- 0.001\n",
            "visitor_hist_adr_usd: 0.001 +/- 0.000\n",
            "comp2_rate: 0.001 +/- 0.001\n",
            "srch_children_count: 0.002 +/- 0.000\n",
            "srch_length_of_stay: 0.002 +/- 0.002\n",
            "prop_starrating: 0.003 +/- 0.001\n",
            "year      : 0.003 +/- 0.001\n",
            "promotion_flag: 0.004 +/- 0.000\n",
            "prop_location_score2: 0.009 +/- 0.000\n",
            "random_bool: 0.011 +/- 0.001\n",
            "week_id   : 0.016 +/- 0.000\n"
          ]
        }
      ]
    },
    {
      "cell_type": "code",
      "source": [
        "# from sklearn.tree import DecisionTreeClassifier\n",
        "# from matplotlib import pyplot as plt\n",
        "\n",
        "# fig, axes = plt.subplots(nrows=1,\n",
        "#                         ncols=1,\n",
        "#                         figsize=(20, 7))\n",
        "\n",
        "# from sklearn import tree\n",
        "# tree.plot_tree(list(automl.show_models().values())[0]['sklearn_classifier'], \n",
        "#                feature_names=X_test.columns, \n",
        "#             #    class_names=automl.classes_\n",
        "#             filled=True,\n",
        "#             max_depth=4,\n",
        "#             fontsize=9,\n",
        "#                );"
      ],
      "metadata": {
        "id": "JOp_hH3pd7Ka"
      },
      "id": "JOp_hH3pd7Ka",
      "execution_count": null,
      "outputs": []
    },
    {
      "cell_type": "markdown",
      "source": [
        "## H2O"
      ],
      "metadata": {
        "id": "iJpTCkzSadFn"
      },
      "id": "iJpTCkzSadFn"
    },
    {
      "cell_type": "code",
      "source": [
        "! pip install h2o -q"
      ],
      "metadata": {
        "id": "oTdct-r0aept"
      },
      "id": "oTdct-r0aept",
      "execution_count": null,
      "outputs": []
    },
    {
      "cell_type": "code",
      "source": [
        "import h2o\n",
        "from h2o.automl import H2OAutoML\n",
        "\n",
        "h2o.init()"
      ],
      "metadata": {
        "id": "Ki8_S1pUbKma"
      },
      "id": "Ki8_S1pUbKma",
      "execution_count": null,
      "outputs": []
    },
    {
      "cell_type": "code",
      "source": [
        "aml = H2OAutoML(max_models=25,\n",
        "                stopping_metric='logloss',\n",
        "                balance_classes=True,\n",
        "                max_runtime_secs=minutes_limit*60,\n",
        "                seed=42)"
      ],
      "metadata": {
        "id": "9XjYozpjbijf"
      },
      "id": "9XjYozpjbijf",
      "execution_count": null,
      "outputs": []
    },
    {
      "cell_type": "code",
      "source": [
        "#to make the automl solve clf not regr\n",
        "training_frame = h2o.H2OFrame(pd.concat([X_train, y_train], axis=1))\n",
        "training_frame[target_col] = training_frame[target_col].asfactor()\n",
        "\n",
        "aml.train(training_frame=training_frame, \n",
        "          x = X_train.columns.tolist(),\n",
        "          y=target_col)"
      ],
      "metadata": {
        "id": "FYZp_5nGiBgV"
      },
      "id": "FYZp_5nGiBgV",
      "execution_count": null,
      "outputs": []
    },
    {
      "cell_type": "code",
      "source": [
        "# View the AutoML Leaderboard\n",
        "lb = aml.leaderboard\n",
        "lb.head(rows=10)  # Print all rows instead of default (10 rows)"
      ],
      "metadata": {
        "id": "_okts3vUomlU"
      },
      "id": "_okts3vUomlU",
      "execution_count": null,
      "outputs": []
    },
    {
      "cell_type": "code",
      "source": [
        "best_model = aml.get_best_model()\n",
        "print(best_model)"
      ],
      "metadata": {
        "id": "RZ2nLFsPo5eJ"
      },
      "id": "RZ2nLFsPo5eJ",
      "execution_count": null,
      "outputs": []
    },
    {
      "cell_type": "code",
      "source": [
        "predictions = aml.predict(h2o.H2OFrame(X_test))\n",
        "print(\"Accuracy score CV\", sklearn.metrics.accuracy_score(y_test, \n",
        "                                                          predictions.as_data_frame()['predict']))"
      ],
      "metadata": {
        "id": "L8GcWUn2bOaS"
      },
      "id": "L8GcWUn2bOaS",
      "execution_count": null,
      "outputs": []
    },
    {
      "cell_type": "code",
      "source": [
        "#to make the automl solve clf not regr\n",
        "testing_frame = h2o.H2OFrame(pd.concat([X_test, y_test], axis=1))\n",
        "testing_frame[target_col] = testing_frame[target_col].asfactor()\n",
        "\n",
        "explain_model = aml.explain(frame = testing_frame, \n",
        "                            figsize = (8,6))"
      ],
      "metadata": {
        "id": "BiW0m7_ypCst"
      },
      "id": "BiW0m7_ypCst",
      "execution_count": null,
      "outputs": []
    },
    {
      "cell_type": "markdown",
      "source": [
        "## tpot"
      ],
      "metadata": {
        "id": "v9VWlvxCafKm"
      },
      "id": "v9VWlvxCafKm"
    },
    {
      "cell_type": "code",
      "source": [
        "!pip install tpot"
      ],
      "metadata": {
        "id": "unV7ODpJagXJ"
      },
      "id": "unV7ODpJagXJ",
      "execution_count": null,
      "outputs": []
    },
    {
      "cell_type": "code",
      "source": [
        "from tpot import TPOTClassifier"
      ],
      "metadata": {
        "id": "LGmqyiHvsEzM"
      },
      "id": "LGmqyiHvsEzM",
      "execution_count": null,
      "outputs": []
    },
    {
      "cell_type": "code",
      "source": [
        "tpot = TPOTClassifier(generations=5, population_size=50, verbosity=2, \n",
        "                      random_state=42,\n",
        "                    #   config_dict='TPOT NN'\n",
        "                      )\n",
        "tpot.fit(X_train, y_train)\n",
        "print(tpot.score(X_test, y_test))\n",
        "\n",
        "# export the minimalized code for the best model found\n",
        "tpot.export('tpot_wine_pipeline.py')"
      ],
      "metadata": {
        "id": "B1KStLNig003"
      },
      "id": "B1KStLNig003",
      "execution_count": null,
      "outputs": []
    },
    {
      "cell_type": "code",
      "source": [
        "tpot = TPOTClassifier(generations=5, \n",
        "                      population_size=50, \n",
        "                      verbosity=2, \n",
        "                      random_state=42,\n",
        "                      config_dict='TPOT NN'\n",
        "                      )\n",
        "tpot.fit(X_train, y_train)\n",
        "print(tpot.score(X_test, y_test))\n",
        "\n",
        "# export the minimalized code for the best model found\n",
        "tpot.export('tpot_nn_wine_pipeline.py')"
      ],
      "metadata": {
        "id": "8jbSA64ajgdp"
      },
      "id": "8jbSA64ajgdp",
      "execution_count": null,
      "outputs": []
    },
    {
      "cell_type": "code",
      "source": [
        "tpot.evaluated_individuals_"
      ],
      "metadata": {
        "id": "HdSpW_2msIGS"
      },
      "id": "HdSpW_2msIGS",
      "execution_count": null,
      "outputs": []
    },
    {
      "cell_type": "code",
      "source": [
        "tpot.pareto_front_fitted_pipelines_"
      ],
      "metadata": {
        "id": "h9UWAD5J0k5B"
      },
      "id": "h9UWAD5J0k5B",
      "execution_count": null,
      "outputs": []
    }
  ],
  "metadata": {
    "kernelspec": {
      "display_name": "Python 3",
      "language": "python",
      "name": "python3"
    },
    "language_info": {
      "codemirror_mode": {
        "name": "ipython",
        "version": 3
      },
      "file_extension": ".py",
      "mimetype": "text/x-python",
      "name": "python",
      "nbconvert_exporter": "python",
      "pygments_lexer": "ipython3",
      "version": "3.8.8"
    },
    "latex_envs": {
      "LaTeX_envs_menu_present": true,
      "autoclose": false,
      "autocomplete": true,
      "bibliofile": "biblio.bib",
      "cite_by": "apalike",
      "current_citInitial": 1,
      "eqLabelWithNumbers": true,
      "eqNumInitial": 1,
      "hotkeys": {
        "equation": "Ctrl-E",
        "itemize": "Ctrl-I"
      },
      "labels_anchors": false,
      "latex_user_defs": false,
      "report_style_numbering": false,
      "user_envs_cfg": false
    },
    "toc": {
      "base_numbering": 1,
      "nav_menu": {},
      "number_sections": true,
      "sideBar": true,
      "skip_h1_title": false,
      "title_cell": "Table of Contents",
      "title_sidebar": "Contents",
      "toc_cell": false,
      "toc_position": {},
      "toc_section_display": true,
      "toc_window_display": false
    },
    "colab": {
      "name": "Wine quality dataset.ipynb",
      "provenance": [],
      "include_colab_link": true
    }
  },
  "nbformat": 4,
  "nbformat_minor": 5
}