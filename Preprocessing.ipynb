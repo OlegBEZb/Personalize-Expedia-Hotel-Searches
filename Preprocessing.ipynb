{
 "cells": [
  {
   "cell_type": "code",
   "execution_count": 1,
   "id": "52599131",
   "metadata": {
    "ExecuteTime": {
     "end_time": "2022-05-27T14:10:58.486374Z",
     "start_time": "2022-05-27T14:10:58.457239Z"
    },
    "scrolled": false
   },
   "outputs": [
    {
     "data": {
      "application/javascript": [
       "IPython.notebook.set_autosave_interval(180000)"
      ]
     },
     "metadata": {},
     "output_type": "display_data"
    },
    {
     "name": "stdout",
     "output_type": "stream",
     "text": [
      "Autosaving every 180 seconds\n"
     ]
    }
   ],
   "source": [
    "%autosave 180\n",
    "%load_ext autoreload\n",
    "%autoreload 2"
   ]
  },
  {
   "cell_type": "markdown",
   "id": "699b2d23",
   "metadata": {},
   "source": [
    "# Imports"
   ]
  },
  {
   "cell_type": "code",
   "execution_count": 2,
   "id": "e23a25c7",
   "metadata": {
    "ExecuteTime": {
     "end_time": "2022-05-27T14:11:12.603940Z",
     "start_time": "2022-05-27T14:10:58.603130Z"
    },
    "scrolled": true
   },
   "outputs": [
    {
     "name": "stdout",
     "output_type": "stream",
     "text": [
      "INFO: Pandarallel will run on 4 workers.\n",
      "INFO: Pandarallel will use standard multiprocessing data transfer (pipe) to transfer data between the main process and workers.\n"
     ]
    }
   ],
   "source": [
    "import random\n",
    "\n",
    "from features import get_time_features\n",
    "from utils import get_target\n",
    "import os\n",
    "import gc\n",
    "\n",
    "import pandas as pd\n",
    "pd.set_option('max_columns', None)\n",
    "\n",
    "import numpy as np\n",
    "from scipy import stats\n",
    "from copy import deepcopy\n",
    "import category_encoders as ce\n",
    "from feature_engine.creation import CyclicalTransformer\n",
    "from pandas_profiling import ProfileReport\n",
    "import matplotlib.pyplot as plt\n",
    "%matplotlib inline\n",
    "\n",
    "from reducing import Reducer\n",
    "from features import num_transformations\n",
    "from utils import downcast"
   ]
  },
  {
   "cell_type": "code",
   "execution_count": 3,
   "id": "e0a05b1f",
   "metadata": {
    "ExecuteTime": {
     "end_time": "2022-05-27T14:11:12.715275Z",
     "start_time": "2022-05-27T14:11:12.608294Z"
    }
   },
   "outputs": [
    {
     "name": "stdout",
     "output_type": "stream",
     "text": [
      "INFO: Pandarallel will run on 4 workers.\n",
      "INFO: Pandarallel will use standard multiprocessing data transfer (pipe) to transfer data between the main process and workers.\n"
     ]
    }
   ],
   "source": [
    "from pandarallel import pandarallel\n",
    "pandarallel.initialize(progress_bar=True)\n",
    "from utils import get_target"
   ]
  },
  {
   "cell_type": "markdown",
   "id": "081c4556",
   "metadata": {},
   "source": [
    "# Parameters"
   ]
  },
  {
   "cell_type": "code",
   "execution_count": 4,
   "id": "274a06ca",
   "metadata": {
    "ExecuteTime": {
     "end_time": "2022-05-27T14:11:12.786282Z",
     "start_time": "2022-05-27T14:11:12.725479Z"
    }
   },
   "outputs": [],
   "source": [
    "USE_FULL = True\n",
    "\n",
    "data_path = 'data'\n",
    "train_filename = 'training_set_VU_DM.csv'\n",
    "test_filename = 'test_set_VU_DM.csv'\n",
    "\n",
    "drop_cols = ['position', 'click_bool',\n",
    "             'gross_bookings_usd', 'booking_bool',\n",
    "#              'train', 'val', 'test', 'subm'\n",
    "             ]\n",
    "\n",
    "group_col = 'srch_id'\n",
    "time_col = 'date_time'\n",
    "\n",
    "CLIP_PRICE = 15000  # None\n",
    "FILTER_PRICE_SIGMA = None  # 4\n",
    "\n",
    "COMP_RATE_PERCENT_DIFF_SIGNED_FEATURES = True\n",
    "COMP_RATE_PERCENT_DIFF_TRANSFORMATION_FEATURES = False\n",
    "\n",
    "BOOKING_TIME_FEATURES = False\n",
    "BOOKING_TIME_CYCLICALS = False\n",
    "\n",
    "HOLIDAY_DURING_TRIP_FEATURE = False\n",
    "HOLIDAY_DURING_BOOKING_FEATURE = False\n",
    "if HOLIDAY_DURING_TRIP_FEATURE or HOLIDAY_DURING_BOOKING_FEATURE:\n",
    "    from pandas.tseries.holiday import USFederalHolidayCalendar as calendar"
   ]
  },
  {
   "cell_type": "markdown",
   "id": "6f33a398",
   "metadata": {},
   "source": [
    "# Data reading"
   ]
  },
  {
   "cell_type": "code",
   "execution_count": 5,
   "id": "d1bb70b4",
   "metadata": {
    "ExecuteTime": {
     "end_time": "2022-05-27T14:11:12.912898Z",
     "start_time": "2022-05-27T14:11:12.791243Z"
    },
    "code_folding": [
     0
    ]
   },
   "outputs": [],
   "source": [
    "dtps = {'srch_id': 'uint32',\n",
    "        'date_time': 'object',\n",
    "        'site_id': 'uint8',\n",
    "        'visitor_location_country_id': 'uint8',\n",
    "        'visitor_hist_starrating': 'float32',\n",
    "        'visitor_hist_adr_usd': 'float32',\n",
    "        'prop_country_id': 'uint8',\n",
    "        'prop_id': 'uint32',\n",
    "        'prop_starrating': 'float32',\n",
    "        'prop_review_score': 'float32',\n",
    "        'prop_brand_bool': 'uint8',\n",
    "        'prop_location_score1': 'float32',\n",
    "        'prop_location_score2': 'float32',\n",
    "        'prop_log_historical_price': 'float32',\n",
    "        'position': 'uint8',\n",
    "        'price_usd': 'float32',\n",
    "        'promotion_flag': 'uint8',\n",
    "        'srch_destination_id': 'uint16',\n",
    "        'srch_length_of_stay': 'uint8',\n",
    "        'srch_booking_window': 'uint16',\n",
    "        'srch_adults_count': 'uint8',\n",
    "        'srch_children_count': 'uint8',\n",
    "        'srch_room_count': 'uint8',\n",
    "        'srch_saturday_night_bool': 'uint8',\n",
    "        'srch_query_affinity_score': 'float32',\n",
    "        'orig_destination_distance': 'float32',\n",
    "        'random_bool': 'uint8',\n",
    "        'comp1_rate': 'Int8',\n",
    "        'comp1_inv': 'float32',\n",
    "        'comp1_rate_percent_diff': 'float32',\n",
    "        'comp2_rate': 'Int8',\n",
    "        'comp2_inv': 'float32',\n",
    "        'comp2_rate_percent_diff': 'float32',\n",
    "        'comp3_rate': 'Int8',\n",
    "        'comp3_inv': 'float32',\n",
    "        'comp3_rate_percent_diff': 'float32',\n",
    "        'comp4_rate': 'Int8',\n",
    "        'comp4_inv': 'float32',\n",
    "        'comp4_rate_percent_diff': 'float32',\n",
    "        'comp5_rate': 'Int8',\n",
    "        'comp5_inv': 'float32',\n",
    "        'comp5_rate_percent_diff': 'float32',\n",
    "        'comp6_rate': 'Int8',\n",
    "        'comp6_inv': 'float32',\n",
    "        'comp6_rate_percent_diff': 'float32',\n",
    "        'comp7_rate': 'Int8',\n",
    "        'comp7_inv': 'float32',\n",
    "        'comp7_rate_percent_diff': 'float32',\n",
    "        'comp8_rate': 'Int8',\n",
    "        'comp8_inv': 'float32',\n",
    "        'comp8_rate_percent_diff': 'float32',\n",
    "        'click_bool': 'uint8',\n",
    "        'gross_bookings_usd': 'float32',\n",
    "        'booking_bool': 'uint8'}"
   ]
  },
  {
   "cell_type": "code",
   "execution_count": 6,
   "id": "bad92bb1",
   "metadata": {
    "ExecuteTime": {
     "end_time": "2022-05-27T14:11:57.922169Z",
     "start_time": "2022-05-27T14:11:12.915896Z"
    },
    "scrolled": true
   },
   "outputs": [
    {
     "data": {
      "text/plain": [
       "(4958347, 54)"
      ]
     },
     "execution_count": 6,
     "metadata": {},
     "output_type": "execute_result"
    }
   ],
   "source": [
    "from features_dict import features\n",
    "\n",
    "if USE_FULL:\n",
    "    df = pd.read_csv(os.path.join(data_path, train_filename),\n",
    "                     dtype=dtps,\n",
    "                     )\n",
    "else:\n",
    "#     p = 0.01\n",
    "#     df = pd.read_csv(os.path.join(data_path, train_filename),\n",
    "#                      #                      usecols=features['original_cols'],\n",
    "#                      skiprows=lambda i: i > 0 and random.random() > p)\n",
    "    df = pd.read_csv(os.path.join(data_path, train_filename),\n",
    "                     dtype=dtps,\n",
    "                     )\n",
    "    df = df[df[group_col] < 33428]\n",
    "df.shape"
   ]
  },
  {
   "cell_type": "code",
   "execution_count": 7,
   "id": "63694caf",
   "metadata": {
    "ExecuteTime": {
     "end_time": "2022-05-27T14:11:58.247420Z",
     "start_time": "2022-05-27T14:11:57.924690Z"
    }
   },
   "outputs": [
    {
     "data": {
      "text/html": [
       "<div>\n",
       "<style scoped>\n",
       "    .dataframe tbody tr th:only-of-type {\n",
       "        vertical-align: middle;\n",
       "    }\n",
       "\n",
       "    .dataframe tbody tr th {\n",
       "        vertical-align: top;\n",
       "    }\n",
       "\n",
       "    .dataframe thead th {\n",
       "        text-align: right;\n",
       "    }\n",
       "</style>\n",
       "<table border=\"1\" class=\"dataframe\">\n",
       "  <thead>\n",
       "    <tr style=\"text-align: right;\">\n",
       "      <th></th>\n",
       "      <th>srch_id</th>\n",
       "      <th>date_time</th>\n",
       "      <th>site_id</th>\n",
       "      <th>visitor_location_country_id</th>\n",
       "      <th>visitor_hist_starrating</th>\n",
       "      <th>visitor_hist_adr_usd</th>\n",
       "      <th>prop_country_id</th>\n",
       "      <th>prop_id</th>\n",
       "      <th>prop_starrating</th>\n",
       "      <th>prop_review_score</th>\n",
       "      <th>prop_brand_bool</th>\n",
       "      <th>prop_location_score1</th>\n",
       "      <th>prop_location_score2</th>\n",
       "      <th>prop_log_historical_price</th>\n",
       "      <th>position</th>\n",
       "      <th>price_usd</th>\n",
       "      <th>promotion_flag</th>\n",
       "      <th>srch_destination_id</th>\n",
       "      <th>srch_length_of_stay</th>\n",
       "      <th>srch_booking_window</th>\n",
       "      <th>srch_adults_count</th>\n",
       "      <th>srch_children_count</th>\n",
       "      <th>srch_room_count</th>\n",
       "      <th>srch_saturday_night_bool</th>\n",
       "      <th>srch_query_affinity_score</th>\n",
       "      <th>orig_destination_distance</th>\n",
       "      <th>random_bool</th>\n",
       "      <th>comp1_rate</th>\n",
       "      <th>comp1_inv</th>\n",
       "      <th>comp1_rate_percent_diff</th>\n",
       "      <th>comp2_rate</th>\n",
       "      <th>comp2_inv</th>\n",
       "      <th>comp2_rate_percent_diff</th>\n",
       "      <th>comp3_rate</th>\n",
       "      <th>comp3_inv</th>\n",
       "      <th>comp3_rate_percent_diff</th>\n",
       "      <th>comp4_rate</th>\n",
       "      <th>comp4_inv</th>\n",
       "      <th>comp4_rate_percent_diff</th>\n",
       "      <th>comp5_rate</th>\n",
       "      <th>comp5_inv</th>\n",
       "      <th>comp5_rate_percent_diff</th>\n",
       "      <th>comp6_rate</th>\n",
       "      <th>comp6_inv</th>\n",
       "      <th>comp6_rate_percent_diff</th>\n",
       "      <th>comp7_rate</th>\n",
       "      <th>comp7_inv</th>\n",
       "      <th>comp7_rate_percent_diff</th>\n",
       "      <th>comp8_rate</th>\n",
       "      <th>comp8_inv</th>\n",
       "      <th>comp8_rate_percent_diff</th>\n",
       "      <th>click_bool</th>\n",
       "      <th>gross_bookings_usd</th>\n",
       "      <th>booking_bool</th>\n",
       "    </tr>\n",
       "  </thead>\n",
       "  <tbody>\n",
       "    <tr>\n",
       "      <th>0</th>\n",
       "      <td>1</td>\n",
       "      <td>2013-04-04 08:32:15</td>\n",
       "      <td>12</td>\n",
       "      <td>187</td>\n",
       "      <td>NaN</td>\n",
       "      <td>NaN</td>\n",
       "      <td>219</td>\n",
       "      <td>893</td>\n",
       "      <td>3.0</td>\n",
       "      <td>3.5</td>\n",
       "      <td>1</td>\n",
       "      <td>2.83</td>\n",
       "      <td>0.0438</td>\n",
       "      <td>4.95</td>\n",
       "      <td>27</td>\n",
       "      <td>104.769997</td>\n",
       "      <td>0</td>\n",
       "      <td>23246</td>\n",
       "      <td>1</td>\n",
       "      <td>0</td>\n",
       "      <td>4</td>\n",
       "      <td>0</td>\n",
       "      <td>1</td>\n",
       "      <td>1</td>\n",
       "      <td>NaN</td>\n",
       "      <td>NaN</td>\n",
       "      <td>1</td>\n",
       "      <td>&lt;NA&gt;</td>\n",
       "      <td>NaN</td>\n",
       "      <td>NaN</td>\n",
       "      <td>0</td>\n",
       "      <td>0.0</td>\n",
       "      <td>NaN</td>\n",
       "      <td>0</td>\n",
       "      <td>0.0</td>\n",
       "      <td>NaN</td>\n",
       "      <td>&lt;NA&gt;</td>\n",
       "      <td>NaN</td>\n",
       "      <td>NaN</td>\n",
       "      <td>0</td>\n",
       "      <td>0.0</td>\n",
       "      <td>NaN</td>\n",
       "      <td>&lt;NA&gt;</td>\n",
       "      <td>NaN</td>\n",
       "      <td>NaN</td>\n",
       "      <td>&lt;NA&gt;</td>\n",
       "      <td>NaN</td>\n",
       "      <td>NaN</td>\n",
       "      <td>0</td>\n",
       "      <td>0.0</td>\n",
       "      <td>NaN</td>\n",
       "      <td>0</td>\n",
       "      <td>NaN</td>\n",
       "      <td>0</td>\n",
       "    </tr>\n",
       "    <tr>\n",
       "      <th>1</th>\n",
       "      <td>1</td>\n",
       "      <td>2013-04-04 08:32:15</td>\n",
       "      <td>12</td>\n",
       "      <td>187</td>\n",
       "      <td>NaN</td>\n",
       "      <td>NaN</td>\n",
       "      <td>219</td>\n",
       "      <td>10404</td>\n",
       "      <td>4.0</td>\n",
       "      <td>4.0</td>\n",
       "      <td>1</td>\n",
       "      <td>2.20</td>\n",
       "      <td>0.0149</td>\n",
       "      <td>5.03</td>\n",
       "      <td>26</td>\n",
       "      <td>170.740005</td>\n",
       "      <td>0</td>\n",
       "      <td>23246</td>\n",
       "      <td>1</td>\n",
       "      <td>0</td>\n",
       "      <td>4</td>\n",
       "      <td>0</td>\n",
       "      <td>1</td>\n",
       "      <td>1</td>\n",
       "      <td>NaN</td>\n",
       "      <td>NaN</td>\n",
       "      <td>1</td>\n",
       "      <td>&lt;NA&gt;</td>\n",
       "      <td>NaN</td>\n",
       "      <td>NaN</td>\n",
       "      <td>&lt;NA&gt;</td>\n",
       "      <td>NaN</td>\n",
       "      <td>NaN</td>\n",
       "      <td>0</td>\n",
       "      <td>0.0</td>\n",
       "      <td>NaN</td>\n",
       "      <td>&lt;NA&gt;</td>\n",
       "      <td>NaN</td>\n",
       "      <td>NaN</td>\n",
       "      <td>0</td>\n",
       "      <td>1.0</td>\n",
       "      <td>NaN</td>\n",
       "      <td>&lt;NA&gt;</td>\n",
       "      <td>NaN</td>\n",
       "      <td>NaN</td>\n",
       "      <td>&lt;NA&gt;</td>\n",
       "      <td>NaN</td>\n",
       "      <td>NaN</td>\n",
       "      <td>0</td>\n",
       "      <td>0.0</td>\n",
       "      <td>NaN</td>\n",
       "      <td>0</td>\n",
       "      <td>NaN</td>\n",
       "      <td>0</td>\n",
       "    </tr>\n",
       "  </tbody>\n",
       "</table>\n",
       "</div>"
      ],
      "text/plain": [
       "   srch_id            date_time  site_id  visitor_location_country_id  \\\n",
       "0        1  2013-04-04 08:32:15       12                          187   \n",
       "1        1  2013-04-04 08:32:15       12                          187   \n",
       "\n",
       "   visitor_hist_starrating  visitor_hist_adr_usd  prop_country_id  prop_id  \\\n",
       "0                      NaN                   NaN              219      893   \n",
       "1                      NaN                   NaN              219    10404   \n",
       "\n",
       "   prop_starrating  prop_review_score  prop_brand_bool  prop_location_score1  \\\n",
       "0              3.0                3.5                1                  2.83   \n",
       "1              4.0                4.0                1                  2.20   \n",
       "\n",
       "   prop_location_score2  prop_log_historical_price  position   price_usd  \\\n",
       "0                0.0438                       4.95        27  104.769997   \n",
       "1                0.0149                       5.03        26  170.740005   \n",
       "\n",
       "   promotion_flag  srch_destination_id  srch_length_of_stay  \\\n",
       "0               0                23246                    1   \n",
       "1               0                23246                    1   \n",
       "\n",
       "   srch_booking_window  srch_adults_count  srch_children_count  \\\n",
       "0                    0                  4                    0   \n",
       "1                    0                  4                    0   \n",
       "\n",
       "   srch_room_count  srch_saturday_night_bool  srch_query_affinity_score  \\\n",
       "0                1                         1                        NaN   \n",
       "1                1                         1                        NaN   \n",
       "\n",
       "   orig_destination_distance  random_bool  comp1_rate  comp1_inv  \\\n",
       "0                        NaN            1        <NA>        NaN   \n",
       "1                        NaN            1        <NA>        NaN   \n",
       "\n",
       "   comp1_rate_percent_diff  comp2_rate  comp2_inv  comp2_rate_percent_diff  \\\n",
       "0                      NaN           0        0.0                      NaN   \n",
       "1                      NaN        <NA>        NaN                      NaN   \n",
       "\n",
       "   comp3_rate  comp3_inv  comp3_rate_percent_diff  comp4_rate  comp4_inv  \\\n",
       "0           0        0.0                      NaN        <NA>        NaN   \n",
       "1           0        0.0                      NaN        <NA>        NaN   \n",
       "\n",
       "   comp4_rate_percent_diff  comp5_rate  comp5_inv  comp5_rate_percent_diff  \\\n",
       "0                      NaN           0        0.0                      NaN   \n",
       "1                      NaN           0        1.0                      NaN   \n",
       "\n",
       "   comp6_rate  comp6_inv  comp6_rate_percent_diff  comp7_rate  comp7_inv  \\\n",
       "0        <NA>        NaN                      NaN        <NA>        NaN   \n",
       "1        <NA>        NaN                      NaN        <NA>        NaN   \n",
       "\n",
       "   comp7_rate_percent_diff  comp8_rate  comp8_inv  comp8_rate_percent_diff  \\\n",
       "0                      NaN           0        0.0                      NaN   \n",
       "1                      NaN           0        0.0                      NaN   \n",
       "\n",
       "   click_bool  gross_bookings_usd  booking_bool  \n",
       "0           0                 NaN             0  \n",
       "1           0                 NaN             0  "
      ]
     },
     "execution_count": 7,
     "metadata": {},
     "output_type": "execute_result"
    }
   ],
   "source": [
    "df.head(2)"
   ]
  },
  {
   "cell_type": "code",
   "execution_count": 8,
   "id": "1452047d",
   "metadata": {
    "ExecuteTime": {
     "end_time": "2022-05-27T14:12:38.581828Z",
     "start_time": "2022-05-27T14:11:58.255823Z"
    }
   },
   "outputs": [
    {
     "data": {
      "text/plain": [
       "(4959183, 50)"
      ]
     },
     "execution_count": 8,
     "metadata": {},
     "output_type": "execute_result"
    }
   ],
   "source": [
    "if USE_FULL:\n",
    "    subm_df = pd.read_csv(os.path.join(data_path, test_filename),\n",
    "                          dtype=dtps\n",
    "                          )\n",
    "else:\n",
    "    p = 0.01\n",
    "    subm_df = pd.read_csv(os.path.join(data_path, test_filename),\n",
    "#                           usecols=features['original_cols'],\n",
    "                          skiprows=lambda i: i > 0 and random.random() > p)\n",
    "subm_df.shape"
   ]
  },
  {
   "cell_type": "markdown",
   "id": "a6c72f98",
   "metadata": {},
   "source": [
    "# Split train, test, val (only add labels, keep the data in one df)"
   ]
  },
  {
   "cell_type": "code",
   "execution_count": 9,
   "id": "43a3e365",
   "metadata": {
    "ExecuteTime": {
     "end_time": "2022-05-27T14:12:38.748533Z",
     "start_time": "2022-05-27T14:12:38.597775Z"
    }
   },
   "outputs": [],
   "source": [
    "# df['test'] = False\n",
    "# df.loc[(df[group_col] % 100).isin([0,1,2,3,4,5]), 'test'] = True\n",
    "\n",
    "# df['val'] = False\n",
    "# df.loc[(df[group_col] % 100).isin([6,7,8,9,10]), 'val'] = True\n",
    "\n",
    "# df['train'] = False\n",
    "# df.loc[(~df['test']) & (~df['val']), 'train'] = True\n",
    "\n",
    "df['test'] = False\n",
    "df.loc[df[group_col] % 10 == 5, 'test'] = True\n",
    "\n",
    "df['val'] = False\n",
    "df.loc[df[group_col] % 10 == 1, 'val'] = True\n",
    "\n",
    "df['train'] = False\n",
    "df.loc[(~df['test']) & (~df['val']), 'train'] = True"
   ]
  },
  {
   "cell_type": "code",
   "execution_count": 10,
   "id": "fc2455c6",
   "metadata": {
    "ExecuteTime": {
     "end_time": "2022-05-27T14:12:40.511835Z",
     "start_time": "2022-05-27T14:12:38.752074Z"
    }
   },
   "outputs": [
    {
     "data": {
      "text/plain": [
       "(0.8005190036114859, 0.10016725332051185, 0.0993137430680023)"
      ]
     },
     "execution_count": 10,
     "metadata": {},
     "output_type": "execute_result"
    }
   ],
   "source": [
    "len_train = len(df[df['train']])\n",
    "len_val = len(df[df['val']])\n",
    "len_test = len(df[df['test']])\n",
    "\n",
    "total_len = len_train + len_val + len_test\n",
    "assert total_len == len(df)\n",
    "len_train/len(df), len_val/len(df), len_test/len(df)"
   ]
  },
  {
   "cell_type": "code",
   "execution_count": 11,
   "id": "9bb97135",
   "metadata": {
    "ExecuteTime": {
     "end_time": "2022-05-27T14:12:49.293969Z",
     "start_time": "2022-05-27T14:12:40.513944Z"
    },
    "scrolled": true
   },
   "outputs": [],
   "source": [
    "df['subm']= False\n",
    "subm_df['subm'] = True\n",
    "df = pd.concat([df, subm_df])\n",
    "\n",
    "df['date_time'] = pd.to_datetime(df['date_time'])\n",
    "\n",
    "df['train'].fillna(False, inplace=True)\n",
    "df['test'].fillna(False, inplace=True)\n",
    "df['val'].fillna(False, inplace=True)"
   ]
  },
  {
   "cell_type": "code",
   "execution_count": 12,
   "id": "dcf9b70e",
   "metadata": {
    "ExecuteTime": {
     "end_time": "2022-05-27T14:12:51.902243Z",
     "start_time": "2022-05-27T14:12:49.296152Z"
    },
    "scrolled": true
   },
   "outputs": [
    {
     "data": {
      "text/html": [
       "<div>\n",
       "<style scoped>\n",
       "    .dataframe tbody tr th:only-of-type {\n",
       "        vertical-align: middle;\n",
       "    }\n",
       "\n",
       "    .dataframe tbody tr th {\n",
       "        vertical-align: top;\n",
       "    }\n",
       "\n",
       "    .dataframe thead th {\n",
       "        text-align: right;\n",
       "    }\n",
       "</style>\n",
       "<table border=\"1\" class=\"dataframe\">\n",
       "  <thead>\n",
       "    <tr style=\"text-align: right;\">\n",
       "      <th></th>\n",
       "      <th>srch_id</th>\n",
       "      <th>train</th>\n",
       "      <th>val</th>\n",
       "      <th>test</th>\n",
       "      <th>subm</th>\n",
       "    </tr>\n",
       "  </thead>\n",
       "  <tbody>\n",
       "    <tr>\n",
       "      <th>86</th>\n",
       "      <td>11</td>\n",
       "      <td>False</td>\n",
       "      <td>True</td>\n",
       "      <td>False</td>\n",
       "      <td>False</td>\n",
       "    </tr>\n",
       "    <tr>\n",
       "      <th>87</th>\n",
       "      <td>11</td>\n",
       "      <td>False</td>\n",
       "      <td>True</td>\n",
       "      <td>False</td>\n",
       "      <td>False</td>\n",
       "    </tr>\n",
       "    <tr>\n",
       "      <th>88</th>\n",
       "      <td>11</td>\n",
       "      <td>False</td>\n",
       "      <td>True</td>\n",
       "      <td>False</td>\n",
       "      <td>False</td>\n",
       "    </tr>\n",
       "    <tr>\n",
       "      <th>89</th>\n",
       "      <td>11</td>\n",
       "      <td>False</td>\n",
       "      <td>True</td>\n",
       "      <td>False</td>\n",
       "      <td>False</td>\n",
       "    </tr>\n",
       "    <tr>\n",
       "      <th>90</th>\n",
       "      <td>11</td>\n",
       "      <td>False</td>\n",
       "      <td>True</td>\n",
       "      <td>False</td>\n",
       "      <td>False</td>\n",
       "    </tr>\n",
       "    <tr>\n",
       "      <th>...</th>\n",
       "      <td>...</td>\n",
       "      <td>...</td>\n",
       "      <td>...</td>\n",
       "      <td>...</td>\n",
       "      <td>...</td>\n",
       "    </tr>\n",
       "    <tr>\n",
       "      <th>4956444</th>\n",
       "      <td>332611</td>\n",
       "      <td>False</td>\n",
       "      <td>False</td>\n",
       "      <td>False</td>\n",
       "      <td>True</td>\n",
       "    </tr>\n",
       "    <tr>\n",
       "      <th>4956445</th>\n",
       "      <td>332611</td>\n",
       "      <td>False</td>\n",
       "      <td>False</td>\n",
       "      <td>False</td>\n",
       "      <td>True</td>\n",
       "    </tr>\n",
       "    <tr>\n",
       "      <th>4956446</th>\n",
       "      <td>332611</td>\n",
       "      <td>False</td>\n",
       "      <td>False</td>\n",
       "      <td>False</td>\n",
       "      <td>True</td>\n",
       "    </tr>\n",
       "    <tr>\n",
       "      <th>4956447</th>\n",
       "      <td>332611</td>\n",
       "      <td>False</td>\n",
       "      <td>False</td>\n",
       "      <td>False</td>\n",
       "      <td>True</td>\n",
       "    </tr>\n",
       "    <tr>\n",
       "      <th>4956448</th>\n",
       "      <td>332611</td>\n",
       "      <td>False</td>\n",
       "      <td>False</td>\n",
       "      <td>False</td>\n",
       "      <td>True</td>\n",
       "    </tr>\n",
       "  </tbody>\n",
       "</table>\n",
       "<p>100250 rows × 5 columns</p>\n",
       "</div>"
      ],
      "text/plain": [
       "         srch_id  train    val   test   subm\n",
       "86            11  False   True  False  False\n",
       "87            11  False   True  False  False\n",
       "88            11  False   True  False  False\n",
       "89            11  False   True  False  False\n",
       "90            11  False   True  False  False\n",
       "...          ...    ...    ...    ...    ...\n",
       "4956444   332611  False  False  False   True\n",
       "4956445   332611  False  False  False   True\n",
       "4956446   332611  False  False  False   True\n",
       "4956447   332611  False  False  False   True\n",
       "4956448   332611  False  False  False   True\n",
       "\n",
       "[100250 rows x 5 columns]"
      ]
     },
     "execution_count": 12,
     "metadata": {},
     "output_type": "execute_result"
    }
   ],
   "source": [
    "df[(df[group_col] % 100) == 11][[group_col, 'train', 'val', 'test', 'subm']]"
   ]
  },
  {
   "cell_type": "code",
   "execution_count": 13,
   "id": "0c0dc1c0",
   "metadata": {
    "ExecuteTime": {
     "end_time": "2022-05-27T14:12:51.950489Z",
     "start_time": "2022-05-27T14:12:51.906014Z"
    }
   },
   "outputs": [
    {
     "data": {
      "text/plain": [
       "1806.495885848999"
      ]
     },
     "execution_count": 13,
     "metadata": {},
     "output_type": "execute_result"
    }
   ],
   "source": [
    "df.memory_usage().sum() / 1024**2"
   ]
  },
  {
   "cell_type": "code",
   "execution_count": 14,
   "id": "8d4e6717",
   "metadata": {
    "ExecuteTime": {
     "end_time": "2022-05-27T14:12:56.430847Z",
     "start_time": "2022-05-27T14:12:51.953036Z"
    },
    "scrolled": true
   },
   "outputs": [],
   "source": [
    "assert set(df[df['train']].index).intersection(set(df[df['val']].index)) == set()\n",
    "assert set(df[df['train']].index).intersection(set(df[df['test']].index)) == set()\n",
    "assert set(df[df['val']].index).intersection(set(df[df['test']].index)) == set()"
   ]
  },
  {
   "cell_type": "code",
   "execution_count": 15,
   "id": "e6741c2c",
   "metadata": {
    "ExecuteTime": {
     "end_time": "2022-05-27T14:12:56.562542Z",
     "start_time": "2022-05-27T14:12:56.433046Z"
    }
   },
   "outputs": [],
   "source": [
    "assert df[df[['train', 'val', 'test', 'subm']].sum(axis=1) != 1].empty"
   ]
  },
  {
   "cell_type": "markdown",
   "id": "3d88b240",
   "metadata": {},
   "source": [
    "# Missing values"
   ]
  },
  {
   "cell_type": "markdown",
   "id": "818a474f",
   "metadata": {},
   "source": [
    "**srch_query_affinity_score** - The log of the probability a hotel will be clicked on in Internet searches (hence the values are negative). A null signifies there are no data (i.e. hotel did not register in any searches)  \n",
    "NO ACTION REQUIRED - ALREADY HAS NANS"
   ]
  },
  {
   "cell_type": "markdown",
   "id": "18821a20",
   "metadata": {},
   "source": [
    "**prop_log_historical_price** - The log of the probability a hotel will be clicked on in Internet searches (hence the values are negative)  A null signifies there are no data (i.e. hotel did not register in any searches)"
   ]
  },
  {
   "cell_type": "code",
   "execution_count": 16,
   "id": "043a6cb9",
   "metadata": {
    "ExecuteTime": {
     "end_time": "2022-05-27T14:12:56.616041Z",
     "start_time": "2022-05-27T14:12:56.564793Z"
    }
   },
   "outputs": [],
   "source": [
    "# df['was_sold_in_that_period'] = df['prop_log_historical_price'].apply(bool)\n",
    "df['prop_log_historical_price'].replace(0, np.nan, inplace=True)"
   ]
  },
  {
   "cell_type": "code",
   "execution_count": 17,
   "id": "2e04f68e",
   "metadata": {
    "ExecuteTime": {
     "end_time": "2022-05-27T14:12:56.676218Z",
     "start_time": "2022-05-27T14:12:56.617884Z"
    }
   },
   "outputs": [],
   "source": [
    "df['prop_starrating'].replace(0, np.nan, inplace=True)\n",
    "df['visitor_hist_adr_usd'].replace(0, np.nan, inplace=True)"
   ]
  },
  {
   "cell_type": "code",
   "execution_count": 18,
   "id": "47591f61",
   "metadata": {
    "ExecuteTime": {
     "end_time": "2022-05-27T14:12:56.928310Z",
     "start_time": "2022-05-27T14:12:56.678070Z"
    },
    "scrolled": true
   },
   "outputs": [
    {
     "data": {
      "text/plain": [
       "srch_id                        False\n",
       "date_time                      False\n",
       "site_id                        False\n",
       "visitor_location_country_id    False\n",
       "visitor_hist_starrating         True\n",
       "visitor_hist_adr_usd            True\n",
       "prop_country_id                False\n",
       "prop_id                        False\n",
       "prop_starrating                 True\n",
       "prop_review_score               True\n",
       "prop_brand_bool                False\n",
       "prop_location_score1           False\n",
       "prop_location_score2            True\n",
       "prop_log_historical_price       True\n",
       "position                        True\n",
       "price_usd                      False\n",
       "promotion_flag                 False\n",
       "srch_destination_id            False\n",
       "srch_length_of_stay            False\n",
       "srch_booking_window            False\n",
       "srch_adults_count              False\n",
       "srch_children_count            False\n",
       "srch_room_count                False\n",
       "srch_saturday_night_bool       False\n",
       "srch_query_affinity_score       True\n",
       "orig_destination_distance       True\n",
       "random_bool                    False\n",
       "comp1_rate                      True\n",
       "comp1_inv                       True\n",
       "comp1_rate_percent_diff         True\n",
       "comp2_rate                      True\n",
       "comp2_inv                       True\n",
       "comp2_rate_percent_diff         True\n",
       "comp3_rate                      True\n",
       "comp3_inv                       True\n",
       "comp3_rate_percent_diff         True\n",
       "comp4_rate                      True\n",
       "comp4_inv                       True\n",
       "comp4_rate_percent_diff         True\n",
       "comp5_rate                      True\n",
       "comp5_inv                       True\n",
       "comp5_rate_percent_diff         True\n",
       "comp6_rate                      True\n",
       "comp6_inv                       True\n",
       "comp6_rate_percent_diff         True\n",
       "comp7_rate                      True\n",
       "comp7_inv                       True\n",
       "comp7_rate_percent_diff         True\n",
       "comp8_rate                      True\n",
       "comp8_inv                       True\n",
       "comp8_rate_percent_diff         True\n",
       "click_bool                      True\n",
       "gross_bookings_usd              True\n",
       "booking_bool                    True\n",
       "test                           False\n",
       "val                            False\n",
       "train                          False\n",
       "subm                           False\n",
       "dtype: bool"
      ]
     },
     "execution_count": 18,
     "metadata": {},
     "output_type": "execute_result"
    }
   ],
   "source": [
    "df.isna().any(axis=0)"
   ]
  },
  {
   "cell_type": "markdown",
   "id": "c6d4e7a6",
   "metadata": {},
   "source": [
    "# Money fix"
   ]
  },
  {
   "cell_type": "markdown",
   "id": "24c210e8",
   "metadata": {},
   "source": [
    "Some Hotels use price/day, other use price/trip  \n",
    "Try to find what price hotels showed and create features price_per_day and price_per_trip"
   ]
  },
  {
   "cell_type": "markdown",
   "id": "813c0a46",
   "metadata": {},
   "source": [
    "**gross_booking_usd** - Total value of the transaction.  This can differ from the price_usd due to taxes, fees, conventions on multiple day bookings and purchase of a room type other than the one shown in the search\n",
    "ID of the destination where the hotel search was performed"
   ]
  },
  {
   "cell_type": "code",
   "execution_count": 19,
   "id": "ed9769a8",
   "metadata": {
    "ExecuteTime": {
     "end_time": "2022-05-27T14:12:57.038815Z",
     "start_time": "2022-05-27T14:12:56.930271Z"
    }
   },
   "outputs": [],
   "source": [
    "# calculate difference between gross_bookings_usd and price_usd\n",
    "# also calculate difference between gross_bookings_usd and srch_length_of_stay * price_usd\n",
    "\n",
    "df['gross_price_diff'] = df['gross_bookings_usd'] - df['price_usd']\n",
    "df['adj_price_diff'] = df['gross_bookings_usd'] - (df['srch_length_of_stay'] * df['price_usd'])"
   ]
  },
  {
   "cell_type": "code",
   "execution_count": 20,
   "id": "587bee27",
   "metadata": {
    "ExecuteTime": {
     "end_time": "2022-05-27T14:12:57.443597Z",
     "start_time": "2022-05-27T14:12:57.268922Z"
    }
   },
   "outputs": [],
   "source": [
    "# price is given per day if srch_length_of_stay * price_usd is closer to gross_bookings_usd than\n",
    "# price_usd\n",
    "\n",
    "df['price_per_day_given'] = abs(df['adj_price_diff']) < abs(df['gross_price_diff'])"
   ]
  },
  {
   "cell_type": "code",
   "execution_count": 21,
   "id": "7d90eb6c",
   "metadata": {
    "ExecuteTime": {
     "end_time": "2022-05-27T14:12:57.650633Z",
     "start_time": "2022-05-27T14:12:57.452422Z"
    }
   },
   "outputs": [
    {
     "data": {
      "text/plain": [
       "False    9848896\n",
       "True       68634\n",
       "Name: price_per_day_given, dtype: int64"
      ]
     },
     "execution_count": 21,
     "metadata": {},
     "output_type": "execute_result"
    }
   ],
   "source": [
    "df['price_per_day_given'].value_counts()"
   ]
  },
  {
   "cell_type": "code",
   "execution_count": 22,
   "id": "db12a5db",
   "metadata": {
    "ExecuteTime": {
     "end_time": "2022-05-27T14:12:58.589752Z",
     "start_time": "2022-05-27T14:12:57.664826Z"
    }
   },
   "outputs": [],
   "source": [
    "# only prop_id is correlated with price_per_day_given, other columns did not give good results\n",
    "# so we find the prop_id that use price per day\n",
    "\n",
    "prop_id_with_price_per_day = df.groupby(\n",
    "    'prop_id')['price_per_day_given'].mean().apply(lambda x: x > 0.5).index"
   ]
  },
  {
   "cell_type": "code",
   "execution_count": 23,
   "id": "13132400",
   "metadata": {
    "ExecuteTime": {
     "end_time": "2022-05-27T14:12:59.360513Z",
     "start_time": "2022-05-27T14:12:58.592655Z"
    }
   },
   "outputs": [],
   "source": [
    "# adjust price_per_day where price is given for whole trip\n",
    "# and adjust price_per_trip where price is given per day\n",
    "\n",
    "df['price_per_day'] = df['price_usd']\n",
    "df['price_per_trip'] = df['price_usd']\n",
    "\n",
    "df.loc[df['prop_id'].isin(prop_id_with_price_per_day), 'price_per_trip'] = df['price_per_day'] * df['srch_length_of_stay']\n",
    "df.loc[~df['prop_id'].isin(prop_id_with_price_per_day), 'price_per_day'] = df['price_per_day'] / df['srch_length_of_stay']\n"
   ]
  },
  {
   "cell_type": "code",
   "execution_count": 24,
   "id": "015f6440",
   "metadata": {
    "ExecuteTime": {
     "end_time": "2022-05-27T14:13:03.198499Z",
     "start_time": "2022-05-27T14:12:59.388815Z"
    }
   },
   "outputs": [],
   "source": [
    "# drop columns that helped creating price_per_day and price_per_trip but are not useful anymore\n",
    "\n",
    "df.drop(['gross_price_diff', 'adj_price_diff', 'price_per_day_given'], axis=1, inplace=True)"
   ]
  },
  {
   "cell_type": "markdown",
   "id": "756ab202",
   "metadata": {},
   "source": [
    "# Outliers detection"
   ]
  },
  {
   "cell_type": "markdown",
   "id": "cfba2d52",
   "metadata": {},
   "source": [
    "## Filter price_usd"
   ]
  },
  {
   "cell_type": "code",
   "execution_count": 25,
   "id": "99a78e6d",
   "metadata": {
    "ExecuteTime": {
     "end_time": "2022-05-27T14:13:03.400716Z",
     "start_time": "2022-05-27T14:13:03.236861Z"
    },
    "scrolled": false
   },
   "outputs": [
    {
     "data": {
      "text/plain": [
       "True     4959183\n",
       "False    4958347\n",
       "Name: subm, dtype: int64"
      ]
     },
     "execution_count": 25,
     "metadata": {},
     "output_type": "execute_result"
    }
   ],
   "source": [
    "df['subm'].value_counts()"
   ]
  },
  {
   "cell_type": "code",
   "execution_count": 26,
   "id": "be928fee",
   "metadata": {
    "ExecuteTime": {
     "end_time": "2022-05-27T14:13:03.823734Z",
     "start_time": "2022-05-27T14:13:03.413167Z"
    },
    "scrolled": false
   },
   "outputs": [
    {
     "data": {
      "text/plain": [
       "<AxesSubplot:>"
      ]
     },
     "execution_count": 26,
     "metadata": {},
     "output_type": "execute_result"
    },
    {
     "data": {
      "image/png": "[encoded data removed]",
      "text/plain": [
       "<Figure size 432x288 with 1 Axes>"
      ]
     },
     "metadata": {
      "needs_background": "light"
     },
     "output_type": "display_data"
    }
   ],
   "source": [
    "df['price_usd'].hist()"
   ]
  },
  {
   "cell_type": "code",
   "execution_count": 27,
   "id": "2c4a836f",
   "metadata": {
    "ExecuteTime": {
     "end_time": "2022-05-27T14:13:03.939770Z",
     "start_time": "2022-05-27T14:13:03.825326Z"
    }
   },
   "outputs": [
    {
     "name": "stdout",
     "output_type": "stream",
     "text": [
      "ratio of 15000+ prices 0.0003066\n"
     ]
    }
   ],
   "source": [
    "if CLIP_PRICE:\n",
    "    print(f'ratio of {CLIP_PRICE}+ prices', round(len(df[df['price_usd'] > CLIP_PRICE])/len(df), 7))\n",
    "    df['price_usd'] = df['price_usd'].clip(0, CLIP_PRICE)"
   ]
  },
  {
   "cell_type": "code",
   "execution_count": 28,
   "id": "853e67e9",
   "metadata": {
    "ExecuteTime": {
     "end_time": "2022-05-27T14:13:04.527403Z",
     "start_time": "2022-05-27T14:13:03.941906Z"
    }
   },
   "outputs": [
    {
     "data": {
      "text/plain": [
       "<AxesSubplot:>"
      ]
     },
     "execution_count": 28,
     "metadata": {},
     "output_type": "execute_result"
    },
    {
     "data": {
      "image/png": "[encoded data removed]",
      "text/plain": [
       "<Figure size 432x288 with 1 Axes>"
      ]
     },
     "metadata": {
      "needs_background": "light"
     },
     "output_type": "display_data"
    }
   ],
   "source": [
    "df['price_usd'].hist()"
   ]
  },
  {
   "cell_type": "code",
   "execution_count": 29,
   "id": "8e08e26c",
   "metadata": {
    "ExecuteTime": {
     "end_time": "2022-05-27T14:13:04.570218Z",
     "start_time": "2022-05-27T14:13:04.529716Z"
    },
    "scrolled": true
   },
   "outputs": [],
   "source": [
    "if FILTER_PRICE_SIGMA:\n",
    "    # DANGEROUS to calculate statistics based on everything\n",
    "    # filter outlieing prices per prop_id\n",
    "    # still some outlier_prop_ids left\n",
    "    mean = df.groupby(['prop_id'])['price_usd'].transform('mean')    \n",
    "    std = df.groupby(['prop_id'])['price_usd'].transform('std')\n",
    "    \n",
    "#     subm_df = deepcopy(df[df['subm'] == True])\n",
    "#     df = deepcopy(df[df['subm'] == False])\n",
    "    \n",
    "    # find rows and prop_id with outlieing prices compared to other prices per prop_id\n",
    "    df['sigma'] = abs((df['price_usd'] - mean) / std)\n",
    "    outlier_prop_ids = df[df['sigma'] > FILTER_PRICE_SIGMA]['prop_id']\n",
    "    print(f\"num and ratio of outlier props: {len(outlier_prop_ids)} ({round(len(outlier_prop_ids)/df['prop_id'].nunique(), 7)})\")\n",
    "    correct_entries = df[abs((df['price_usd'] - mean) / std) <= 2]['prop_id']\n",
    "    \n",
    "    # show the prices for the first property with an outlier\n",
    "    display(df[df['prop_id'].isin(outlier_prop_ids.sample(1))][['prop_id', 'date_time', 'price_usd', 'sigma']].sort_values('date_time'))\n",
    "    df.drop('sigma', axis=1, inplace=True)"
   ]
  },
  {
   "cell_type": "markdown",
   "id": "8800f6aa",
   "metadata": {},
   "source": [
    "if group is not in subm, if there is an outlier in a group, and the group is random, drop it"
   ]
  },
  {
   "cell_type": "code",
   "execution_count": 30,
   "id": "f3ca3a60",
   "metadata": {
    "ExecuteTime": {
     "end_time": "2022-05-27T14:13:04.606443Z",
     "start_time": "2022-05-27T14:13:04.572326Z"
    },
    "scrolled": true
   },
   "outputs": [],
   "source": [
    "if FILTER_PRICE_SIGMA:\n",
    "    affected_train_groups = df[(df['subm'] == False) & (df['prop_id'].isin(outlier_prop_ids)) & (df['random_bool'] == True)][group_col]\n",
    "    print('ratio of affected groups', len(set(affected_train_groups)) / df[group_col].nunique())"
   ]
  },
  {
   "cell_type": "code",
   "execution_count": 31,
   "id": "679d821f",
   "metadata": {
    "ExecuteTime": {
     "end_time": "2022-05-27T14:13:04.642062Z",
     "start_time": "2022-05-27T14:13:04.608724Z"
    }
   },
   "outputs": [
    {
     "data": {
      "text/plain": [
       "(9917530, 60)"
      ]
     },
     "execution_count": 31,
     "metadata": {},
     "output_type": "execute_result"
    }
   ],
   "source": [
    "df.shape"
   ]
  },
  {
   "cell_type": "code",
   "execution_count": 32,
   "id": "b9f2fadb",
   "metadata": {
    "ExecuteTime": {
     "end_time": "2022-05-27T14:13:04.736755Z",
     "start_time": "2022-05-27T14:13:04.644242Z"
    }
   },
   "outputs": [
    {
     "data": {
      "text/plain": [
       "0    6977878\n",
       "1    2939652\n",
       "Name: random_bool, dtype: int64"
      ]
     },
     "execution_count": 32,
     "metadata": {},
     "output_type": "execute_result"
    }
   ],
   "source": [
    "df['random_bool'].value_counts()"
   ]
  },
  {
   "cell_type": "code",
   "execution_count": 33,
   "id": "830c77e8",
   "metadata": {
    "ExecuteTime": {
     "end_time": "2022-05-27T14:13:04.774357Z",
     "start_time": "2022-05-27T14:13:04.738419Z"
    }
   },
   "outputs": [
    {
     "data": {
      "text/plain": [
       "(9917530, 60)"
      ]
     },
     "execution_count": 33,
     "metadata": {},
     "output_type": "execute_result"
    }
   ],
   "source": [
    "if FILTER_PRICE_SIGMA:\n",
    "    df = df[~df[group_col].isin(affected_train_groups)]\n",
    "df.shape"
   ]
  },
  {
   "cell_type": "code",
   "execution_count": 34,
   "id": "4a4c4c4e",
   "metadata": {
    "ExecuteTime": {
     "end_time": "2022-05-27T14:13:04.860383Z",
     "start_time": "2022-05-27T14:13:04.776341Z"
    }
   },
   "outputs": [
    {
     "data": {
      "text/plain": [
       "0    6977878\n",
       "1    2939652\n",
       "Name: random_bool, dtype: int64"
      ]
     },
     "execution_count": 34,
     "metadata": {},
     "output_type": "execute_result"
    }
   ],
   "source": [
    "df['random_bool'].value_counts()"
   ]
  },
  {
   "cell_type": "code",
   "execution_count": 35,
   "id": "34a224e6",
   "metadata": {
    "ExecuteTime": {
     "end_time": "2022-05-27T14:13:05.453372Z",
     "start_time": "2022-05-27T14:13:04.862331Z"
    },
    "scrolled": false
   },
   "outputs": [
    {
     "data": {
      "text/plain": [
       "<AxesSubplot:>"
      ]
     },
     "execution_count": 35,
     "metadata": {},
     "output_type": "execute_result"
    },
    {
     "data": {
      "image/png": "[encoded data removed]",
      "text/plain": [
       "<Figure size 432x288 with 1 Axes>"
      ]
     },
     "metadata": {
      "needs_background": "light"
     },
     "output_type": "display_data"
    }
   ],
   "source": [
    "df['price_usd'].hist()"
   ]
  },
  {
   "cell_type": "code",
   "execution_count": 36,
   "id": "e7ddd90f",
   "metadata": {
    "ExecuteTime": {
     "end_time": "2022-05-27T14:13:09.463614Z",
     "start_time": "2022-05-27T14:13:05.455892Z"
    }
   },
   "outputs": [
    {
     "data": {
      "text/plain": [
       "<AxesSubplot:>"
      ]
     },
     "execution_count": 36,
     "metadata": {},
     "output_type": "execute_result"
    },
    {
     "data": {
      "image/png": "[encoded data removed]",
      "text/plain": [
       "<Figure size 432x288 with 1 Axes>"
      ]
     },
     "metadata": {
      "needs_background": "light"
     },
     "output_type": "display_data"
    }
   ],
   "source": [
    "df[df['price_usd'] < 1000]['price_usd'].hist()"
   ]
  },
  {
   "cell_type": "code",
   "execution_count": 37,
   "id": "5ffb7fd2",
   "metadata": {
    "ExecuteTime": {
     "end_time": "2022-05-27T14:13:09.882868Z",
     "start_time": "2022-05-27T14:13:09.465891Z"
    },
    "scrolled": false
   },
   "outputs": [
    {
     "data": {
      "text/plain": [
       "<AxesSubplot:>"
      ]
     },
     "execution_count": 37,
     "metadata": {},
     "output_type": "execute_result"
    },
    {
     "data": {
      "image/png": "[encoded data removed]",
      "text/plain": [
       "<Figure size 432x288 with 1 Axes>"
      ]
     },
     "metadata": {
      "needs_background": "light"
     },
     "output_type": "display_data"
    }
   ],
   "source": [
    "df['price_usd'].apply(np.log1p).hist()"
   ]
  },
  {
   "cell_type": "code",
   "execution_count": 38,
   "id": "b9b38ca8",
   "metadata": {
    "ExecuteTime": {
     "end_time": "2022-05-27T14:13:09.919367Z",
     "start_time": "2022-05-27T14:13:09.884831Z"
    },
    "code_folding": []
   },
   "outputs": [],
   "source": [
    "# if FILTER_PRICE_SIGMA:\n",
    "#     # show the prices for the first property after removing the outlier\n",
    "# #     df[df['prop_id'].isin(outliers.values[:1])][df[df['prop_id'].isin(\n",
    "# #         outliers.values[:1])]['price_usd'].index.isin(correct_entries.index)][['prop_id','price_usd']].head()\n",
    "\n",
    "#     # calculate the mean price for properties with an outlier without the outlier\n",
    "#     mean_price_per_prop_id = df[df['prop_id'].isin(outliers.values)][df[df['prop_id'].isin(outliers.values)]['price_usd'].index.isin(\n",
    "#         correct_entries.index)][['prop_id','price_usd']].groupby('prop_id').mean()\n",
    "\n",
    "#     df2 = pd.merge(df.loc[outliers.index], mean_price_per_prop_id, right_index=True, left_on = 'prop_id', how='left')\n",
    "    \n",
    "#     # outliers within the first prop_id \n",
    "#     # price_usd_x: original\n",
    "#     # price_usd_y: after replaceing with mean\n",
    "#     df2[df2['prop_id'].isin(outliers.values[:1])][['prop_id','price_usd_x', 'price_usd_y']]\n",
    "    \n",
    "#     # keep only price_usd_y, drop price_usd_x\n",
    "#     df2 = df2.rename(columns={'price_usd_y': 'price_usd'}).drop('price_usd_x', axis=1)\n",
    "    \n",
    "#     # correct the outlieing prices in the original df\n",
    "#     df.loc[outliers.index, 'price_usd'] = df2['price_usd']\n",
    "    \n",
    "# #     df['price_usd'].hist(bins=100, log=True)\n",
    "\n",
    "#     assert df['price_usd'].isna().sum() == 0\n",
    "    \n",
    "#     # fill missing prices with mean\n",
    "#     df['price_usd'].fillna(df['price_usd'].mean(), inplace=True)\n",
    "    \n",
    "#     df.loc[stats.zscore(df['price_usd']) > 3, 'price_usd'] = df['price_usd'].mean()\n",
    "    \n",
    "#     # filter outlieing prices overall (based on train here)\n",
    "#     # the limit is around 20.000 USD, above that there is only 1 entry per price bracket -> mistake\n",
    "#     df['price_usd'].hist(bins=100, log=True)\n",
    "    \n",
    "#     df = pd.concat([df, subm_df])"
   ]
  },
  {
   "cell_type": "code",
   "execution_count": 39,
   "id": "19455c4b",
   "metadata": {
    "ExecuteTime": {
     "end_time": "2022-05-27T14:13:10.145890Z",
     "start_time": "2022-05-27T14:13:09.921404Z"
    }
   },
   "outputs": [
    {
     "data": {
      "text/plain": [
       "True     4959183\n",
       "False    4958347\n",
       "Name: subm, dtype: int64"
      ]
     },
     "execution_count": 39,
     "metadata": {},
     "output_type": "execute_result"
    }
   ],
   "source": [
    "df['subm'].value_counts()"
   ]
  },
  {
   "cell_type": "markdown",
   "id": "844c97e5",
   "metadata": {},
   "source": [
    "# Time-independent feature engineering"
   ]
  },
  {
   "cell_type": "markdown",
   "id": "5bcdde8f",
   "metadata": {},
   "source": [
    "## Booking time decomposition"
   ]
  },
  {
   "cell_type": "code",
   "execution_count": 40,
   "id": "9ca3c5bd",
   "metadata": {
    "ExecuteTime": {
     "end_time": "2022-05-27T14:13:18.196897Z",
     "start_time": "2022-05-27T14:13:10.151383Z"
    }
   },
   "outputs": [],
   "source": [
    "df.sort_values([time_col], inplace=True)"
   ]
  },
  {
   "cell_type": "code",
   "execution_count": 41,
   "id": "d1090f88",
   "metadata": {
    "ExecuteTime": {
     "end_time": "2022-05-27T14:13:18.395438Z",
     "start_time": "2022-05-27T14:13:18.208395Z"
    },
    "scrolled": true
   },
   "outputs": [],
   "source": [
    "if BOOKING_TIME_FEATURES:\n",
    "    booking_time_prefix = 'booking_time_'\n",
    "\n",
    "    # various time-related columns are added to the df\n",
    "    time_df = get_time_features(deepcopy(df[['date_time']]), time_col='date_time',\n",
    "                                prefix=booking_time_prefix,\n",
    "                                within_hour_features=False,\n",
    "                                hour_features=False,\n",
    "                                day_features=True,\n",
    "                                week_features=True,\n",
    "                                month_features=True,\n",
    "                                season_features=True,\n",
    "                                year_features=True,)\n",
    "\n",
    "    display(time_df.head(2))"
   ]
  },
  {
   "cell_type": "code",
   "execution_count": 42,
   "id": "fb026cba",
   "metadata": {
    "ExecuteTime": {
     "end_time": "2022-05-27T14:14:33.452764Z",
     "start_time": "2022-05-27T14:13:18.401795Z"
    }
   },
   "outputs": [
    {
     "data": {
      "text/html": [
       "<div>\n",
       "<style scoped>\n",
       "    .dataframe tbody tr th:only-of-type {\n",
       "        vertical-align: middle;\n",
       "    }\n",
       "\n",
       "    .dataframe tbody tr th {\n",
       "        vertical-align: top;\n",
       "    }\n",
       "\n",
       "    .dataframe thead th {\n",
       "        text-align: right;\n",
       "    }\n",
       "</style>\n",
       "<table border=\"1\" class=\"dataframe\">\n",
       "  <thead>\n",
       "    <tr style=\"text-align: right;\">\n",
       "      <th></th>\n",
       "      <th>srch_id</th>\n",
       "      <th>date_time</th>\n",
       "      <th>site_id</th>\n",
       "      <th>visitor_location_country_id</th>\n",
       "      <th>visitor_hist_starrating</th>\n",
       "      <th>visitor_hist_adr_usd</th>\n",
       "      <th>prop_country_id</th>\n",
       "      <th>prop_id</th>\n",
       "      <th>prop_starrating</th>\n",
       "      <th>prop_review_score</th>\n",
       "      <th>prop_brand_bool</th>\n",
       "      <th>prop_location_score1</th>\n",
       "      <th>prop_location_score2</th>\n",
       "      <th>prop_log_historical_price</th>\n",
       "      <th>position</th>\n",
       "      <th>price_usd</th>\n",
       "      <th>promotion_flag</th>\n",
       "      <th>srch_destination_id</th>\n",
       "      <th>srch_length_of_stay</th>\n",
       "      <th>srch_booking_window</th>\n",
       "      <th>srch_adults_count</th>\n",
       "      <th>srch_children_count</th>\n",
       "      <th>srch_room_count</th>\n",
       "      <th>srch_saturday_night_bool</th>\n",
       "      <th>srch_query_affinity_score</th>\n",
       "      <th>orig_destination_distance</th>\n",
       "      <th>random_bool</th>\n",
       "      <th>comp1_rate</th>\n",
       "      <th>comp1_inv</th>\n",
       "      <th>comp1_rate_percent_diff</th>\n",
       "      <th>comp2_rate</th>\n",
       "      <th>comp2_inv</th>\n",
       "      <th>comp2_rate_percent_diff</th>\n",
       "      <th>comp3_rate</th>\n",
       "      <th>comp3_inv</th>\n",
       "      <th>comp3_rate_percent_diff</th>\n",
       "      <th>comp4_rate</th>\n",
       "      <th>comp4_inv</th>\n",
       "      <th>comp4_rate_percent_diff</th>\n",
       "      <th>comp5_rate</th>\n",
       "      <th>comp5_inv</th>\n",
       "      <th>comp5_rate_percent_diff</th>\n",
       "      <th>comp6_rate</th>\n",
       "      <th>comp6_inv</th>\n",
       "      <th>comp6_rate_percent_diff</th>\n",
       "      <th>comp7_rate</th>\n",
       "      <th>comp7_inv</th>\n",
       "      <th>comp7_rate_percent_diff</th>\n",
       "      <th>comp8_rate</th>\n",
       "      <th>comp8_inv</th>\n",
       "      <th>comp8_rate_percent_diff</th>\n",
       "      <th>click_bool</th>\n",
       "      <th>gross_bookings_usd</th>\n",
       "      <th>booking_bool</th>\n",
       "      <th>test</th>\n",
       "      <th>val</th>\n",
       "      <th>train</th>\n",
       "      <th>subm</th>\n",
       "      <th>price_per_day</th>\n",
       "      <th>price_per_trip</th>\n",
       "      <th>date_time_ordinal</th>\n",
       "    </tr>\n",
       "  </thead>\n",
       "  <tbody>\n",
       "    <tr>\n",
       "      <th>485242</th>\n",
       "      <td>32491</td>\n",
       "      <td>2012-11-01 00:01:37</td>\n",
       "      <td>24</td>\n",
       "      <td>216</td>\n",
       "      <td>NaN</td>\n",
       "      <td>NaN</td>\n",
       "      <td>225</td>\n",
       "      <td>327</td>\n",
       "      <td>4.0</td>\n",
       "      <td>4.5</td>\n",
       "      <td>0</td>\n",
       "      <td>3.66</td>\n",
       "      <td>0.1358</td>\n",
       "      <td>5.31</td>\n",
       "      <td>NaN</td>\n",
       "      <td>142.710007</td>\n",
       "      <td>0</td>\n",
       "      <td>14083</td>\n",
       "      <td>2</td>\n",
       "      <td>16</td>\n",
       "      <td>1</td>\n",
       "      <td>0</td>\n",
       "      <td>1</td>\n",
       "      <td>1</td>\n",
       "      <td>NaN</td>\n",
       "      <td>NaN</td>\n",
       "      <td>0</td>\n",
       "      <td>&lt;NA&gt;</td>\n",
       "      <td>NaN</td>\n",
       "      <td>NaN</td>\n",
       "      <td>1</td>\n",
       "      <td>0.0</td>\n",
       "      <td>8.0</td>\n",
       "      <td>1</td>\n",
       "      <td>0.0</td>\n",
       "      <td>4.0</td>\n",
       "      <td>1</td>\n",
       "      <td>0.0</td>\n",
       "      <td>4.0</td>\n",
       "      <td>1</td>\n",
       "      <td>0.0</td>\n",
       "      <td>7.0</td>\n",
       "      <td>&lt;NA&gt;</td>\n",
       "      <td>NaN</td>\n",
       "      <td>NaN</td>\n",
       "      <td>&lt;NA&gt;</td>\n",
       "      <td>NaN</td>\n",
       "      <td>NaN</td>\n",
       "      <td>&lt;NA&gt;</td>\n",
       "      <td>NaN</td>\n",
       "      <td>NaN</td>\n",
       "      <td>NaN</td>\n",
       "      <td>NaN</td>\n",
       "      <td>NaN</td>\n",
       "      <td>False</td>\n",
       "      <td>False</td>\n",
       "      <td>False</td>\n",
       "      <td>True</td>\n",
       "      <td>142.710007</td>\n",
       "      <td>285.420013</td>\n",
       "      <td>1</td>\n",
       "    </tr>\n",
       "    <tr>\n",
       "      <th>485243</th>\n",
       "      <td>32491</td>\n",
       "      <td>2012-11-01 00:01:37</td>\n",
       "      <td>24</td>\n",
       "      <td>216</td>\n",
       "      <td>NaN</td>\n",
       "      <td>NaN</td>\n",
       "      <td>225</td>\n",
       "      <td>20797</td>\n",
       "      <td>3.0</td>\n",
       "      <td>3.0</td>\n",
       "      <td>0</td>\n",
       "      <td>4.65</td>\n",
       "      <td>0.1955</td>\n",
       "      <td>4.97</td>\n",
       "      <td>NaN</td>\n",
       "      <td>79.220001</td>\n",
       "      <td>0</td>\n",
       "      <td>14083</td>\n",
       "      <td>2</td>\n",
       "      <td>16</td>\n",
       "      <td>1</td>\n",
       "      <td>0</td>\n",
       "      <td>1</td>\n",
       "      <td>1</td>\n",
       "      <td>NaN</td>\n",
       "      <td>NaN</td>\n",
       "      <td>0</td>\n",
       "      <td>&lt;NA&gt;</td>\n",
       "      <td>NaN</td>\n",
       "      <td>NaN</td>\n",
       "      <td>&lt;NA&gt;</td>\n",
       "      <td>NaN</td>\n",
       "      <td>NaN</td>\n",
       "      <td>-1</td>\n",
       "      <td>0.0</td>\n",
       "      <td>2.0</td>\n",
       "      <td>1</td>\n",
       "      <td>0.0</td>\n",
       "      <td>9.0</td>\n",
       "      <td>&lt;NA&gt;</td>\n",
       "      <td>0.0</td>\n",
       "      <td>NaN</td>\n",
       "      <td>&lt;NA&gt;</td>\n",
       "      <td>NaN</td>\n",
       "      <td>NaN</td>\n",
       "      <td>&lt;NA&gt;</td>\n",
       "      <td>NaN</td>\n",
       "      <td>NaN</td>\n",
       "      <td>&lt;NA&gt;</td>\n",
       "      <td>NaN</td>\n",
       "      <td>NaN</td>\n",
       "      <td>NaN</td>\n",
       "      <td>NaN</td>\n",
       "      <td>NaN</td>\n",
       "      <td>False</td>\n",
       "      <td>False</td>\n",
       "      <td>False</td>\n",
       "      <td>True</td>\n",
       "      <td>79.220001</td>\n",
       "      <td>158.440002</td>\n",
       "      <td>1</td>\n",
       "    </tr>\n",
       "    <tr>\n",
       "      <th>485244</th>\n",
       "      <td>32491</td>\n",
       "      <td>2012-11-01 00:01:37</td>\n",
       "      <td>24</td>\n",
       "      <td>216</td>\n",
       "      <td>NaN</td>\n",
       "      <td>NaN</td>\n",
       "      <td>225</td>\n",
       "      <td>24202</td>\n",
       "      <td>3.0</td>\n",
       "      <td>0.0</td>\n",
       "      <td>0</td>\n",
       "      <td>4.73</td>\n",
       "      <td>0.3831</td>\n",
       "      <td>4.97</td>\n",
       "      <td>NaN</td>\n",
       "      <td>93.070000</td>\n",
       "      <td>1</td>\n",
       "      <td>14083</td>\n",
       "      <td>2</td>\n",
       "      <td>16</td>\n",
       "      <td>1</td>\n",
       "      <td>0</td>\n",
       "      <td>1</td>\n",
       "      <td>1</td>\n",
       "      <td>NaN</td>\n",
       "      <td>NaN</td>\n",
       "      <td>0</td>\n",
       "      <td>&lt;NA&gt;</td>\n",
       "      <td>NaN</td>\n",
       "      <td>NaN</td>\n",
       "      <td>&lt;NA&gt;</td>\n",
       "      <td>NaN</td>\n",
       "      <td>NaN</td>\n",
       "      <td>&lt;NA&gt;</td>\n",
       "      <td>NaN</td>\n",
       "      <td>NaN</td>\n",
       "      <td>1</td>\n",
       "      <td>0.0</td>\n",
       "      <td>9.0</td>\n",
       "      <td>&lt;NA&gt;</td>\n",
       "      <td>1.0</td>\n",
       "      <td>NaN</td>\n",
       "      <td>&lt;NA&gt;</td>\n",
       "      <td>NaN</td>\n",
       "      <td>NaN</td>\n",
       "      <td>&lt;NA&gt;</td>\n",
       "      <td>NaN</td>\n",
       "      <td>NaN</td>\n",
       "      <td>&lt;NA&gt;</td>\n",
       "      <td>NaN</td>\n",
       "      <td>NaN</td>\n",
       "      <td>NaN</td>\n",
       "      <td>NaN</td>\n",
       "      <td>NaN</td>\n",
       "      <td>False</td>\n",
       "      <td>False</td>\n",
       "      <td>False</td>\n",
       "      <td>True</td>\n",
       "      <td>93.070000</td>\n",
       "      <td>186.139999</td>\n",
       "      <td>1</td>\n",
       "    </tr>\n",
       "    <tr>\n",
       "      <th>485245</th>\n",
       "      <td>32491</td>\n",
       "      <td>2012-11-01 00:01:37</td>\n",
       "      <td>24</td>\n",
       "      <td>216</td>\n",
       "      <td>NaN</td>\n",
       "      <td>NaN</td>\n",
       "      <td>225</td>\n",
       "      <td>33813</td>\n",
       "      <td>5.0</td>\n",
       "      <td>4.5</td>\n",
       "      <td>1</td>\n",
       "      <td>4.76</td>\n",
       "      <td>0.3524</td>\n",
       "      <td>6.13</td>\n",
       "      <td>NaN</td>\n",
       "      <td>278.630005</td>\n",
       "      <td>0</td>\n",
       "      <td>14083</td>\n",
       "      <td>2</td>\n",
       "      <td>16</td>\n",
       "      <td>1</td>\n",
       "      <td>0</td>\n",
       "      <td>1</td>\n",
       "      <td>1</td>\n",
       "      <td>NaN</td>\n",
       "      <td>NaN</td>\n",
       "      <td>0</td>\n",
       "      <td>&lt;NA&gt;</td>\n",
       "      <td>NaN</td>\n",
       "      <td>NaN</td>\n",
       "      <td>0</td>\n",
       "      <td>0.0</td>\n",
       "      <td>7.0</td>\n",
       "      <td>1</td>\n",
       "      <td>0.0</td>\n",
       "      <td>3.0</td>\n",
       "      <td>1</td>\n",
       "      <td>0.0</td>\n",
       "      <td>15.0</td>\n",
       "      <td>0</td>\n",
       "      <td>0.0</td>\n",
       "      <td>7.0</td>\n",
       "      <td>&lt;NA&gt;</td>\n",
       "      <td>NaN</td>\n",
       "      <td>NaN</td>\n",
       "      <td>&lt;NA&gt;</td>\n",
       "      <td>NaN</td>\n",
       "      <td>NaN</td>\n",
       "      <td>&lt;NA&gt;</td>\n",
       "      <td>NaN</td>\n",
       "      <td>NaN</td>\n",
       "      <td>NaN</td>\n",
       "      <td>NaN</td>\n",
       "      <td>NaN</td>\n",
       "      <td>False</td>\n",
       "      <td>False</td>\n",
       "      <td>False</td>\n",
       "      <td>True</td>\n",
       "      <td>278.630005</td>\n",
       "      <td>557.260010</td>\n",
       "      <td>1</td>\n",
       "    </tr>\n",
       "    <tr>\n",
       "      <th>485246</th>\n",
       "      <td>32491</td>\n",
       "      <td>2012-11-01 00:01:37</td>\n",
       "      <td>24</td>\n",
       "      <td>216</td>\n",
       "      <td>NaN</td>\n",
       "      <td>NaN</td>\n",
       "      <td>225</td>\n",
       "      <td>36599</td>\n",
       "      <td>3.0</td>\n",
       "      <td>4.0</td>\n",
       "      <td>0</td>\n",
       "      <td>4.64</td>\n",
       "      <td>0.3488</td>\n",
       "      <td>5.13</td>\n",
       "      <td>NaN</td>\n",
       "      <td>100.919998</td>\n",
       "      <td>1</td>\n",
       "      <td>14083</td>\n",
       "      <td>2</td>\n",
       "      <td>16</td>\n",
       "      <td>1</td>\n",
       "      <td>0</td>\n",
       "      <td>1</td>\n",
       "      <td>1</td>\n",
       "      <td>NaN</td>\n",
       "      <td>NaN</td>\n",
       "      <td>0</td>\n",
       "      <td>&lt;NA&gt;</td>\n",
       "      <td>NaN</td>\n",
       "      <td>NaN</td>\n",
       "      <td>1</td>\n",
       "      <td>0.0</td>\n",
       "      <td>6.0</td>\n",
       "      <td>0</td>\n",
       "      <td>0.0</td>\n",
       "      <td>8.0</td>\n",
       "      <td>1</td>\n",
       "      <td>0.0</td>\n",
       "      <td>11.0</td>\n",
       "      <td>1</td>\n",
       "      <td>0.0</td>\n",
       "      <td>2.0</td>\n",
       "      <td>&lt;NA&gt;</td>\n",
       "      <td>NaN</td>\n",
       "      <td>NaN</td>\n",
       "      <td>&lt;NA&gt;</td>\n",
       "      <td>NaN</td>\n",
       "      <td>NaN</td>\n",
       "      <td>&lt;NA&gt;</td>\n",
       "      <td>NaN</td>\n",
       "      <td>NaN</td>\n",
       "      <td>NaN</td>\n",
       "      <td>NaN</td>\n",
       "      <td>NaN</td>\n",
       "      <td>False</td>\n",
       "      <td>False</td>\n",
       "      <td>False</td>\n",
       "      <td>True</td>\n",
       "      <td>100.919998</td>\n",
       "      <td>201.839996</td>\n",
       "      <td>1</td>\n",
       "    </tr>\n",
       "  </tbody>\n",
       "</table>\n",
       "</div>"
      ],
      "text/plain": [
       "        srch_id           date_time  site_id  visitor_location_country_id  \\\n",
       "485242    32491 2012-11-01 00:01:37       24                          216   \n",
       "485243    32491 2012-11-01 00:01:37       24                          216   \n",
       "485244    32491 2012-11-01 00:01:37       24                          216   \n",
       "485245    32491 2012-11-01 00:01:37       24                          216   \n",
       "485246    32491 2012-11-01 00:01:37       24                          216   \n",
       "\n",
       "        visitor_hist_starrating  visitor_hist_adr_usd  prop_country_id  \\\n",
       "485242                      NaN                   NaN              225   \n",
       "485243                      NaN                   NaN              225   \n",
       "485244                      NaN                   NaN              225   \n",
       "485245                      NaN                   NaN              225   \n",
       "485246                      NaN                   NaN              225   \n",
       "\n",
       "        prop_id  prop_starrating  prop_review_score  prop_brand_bool  \\\n",
       "485242      327              4.0                4.5                0   \n",
       "485243    20797              3.0                3.0                0   \n",
       "485244    24202              3.0                0.0                0   \n",
       "485245    33813              5.0                4.5                1   \n",
       "485246    36599              3.0                4.0                0   \n",
       "\n",
       "        prop_location_score1  prop_location_score2  prop_log_historical_price  \\\n",
       "485242                  3.66                0.1358                       5.31   \n",
       "485243                  4.65                0.1955                       4.97   \n",
       "485244                  4.73                0.3831                       4.97   \n",
       "485245                  4.76                0.3524                       6.13   \n",
       "485246                  4.64                0.3488                       5.13   \n",
       "\n",
       "        position   price_usd  promotion_flag  srch_destination_id  \\\n",
       "485242       NaN  142.710007               0                14083   \n",
       "485243       NaN   79.220001               0                14083   \n",
       "485244       NaN   93.070000               1                14083   \n",
       "485245       NaN  278.630005               0                14083   \n",
       "485246       NaN  100.919998               1                14083   \n",
       "\n",
       "        srch_length_of_stay  srch_booking_window  srch_adults_count  \\\n",
       "485242                    2                   16                  1   \n",
       "485243                    2                   16                  1   \n",
       "485244                    2                   16                  1   \n",
       "485245                    2                   16                  1   \n",
       "485246                    2                   16                  1   \n",
       "\n",
       "        srch_children_count  srch_room_count  srch_saturday_night_bool  \\\n",
       "485242                    0                1                         1   \n",
       "485243                    0                1                         1   \n",
       "485244                    0                1                         1   \n",
       "485245                    0                1                         1   \n",
       "485246                    0                1                         1   \n",
       "\n",
       "        srch_query_affinity_score  orig_destination_distance  random_bool  \\\n",
       "485242                        NaN                        NaN            0   \n",
       "485243                        NaN                        NaN            0   \n",
       "485244                        NaN                        NaN            0   \n",
       "485245                        NaN                        NaN            0   \n",
       "485246                        NaN                        NaN            0   \n",
       "\n",
       "        comp1_rate  comp1_inv  comp1_rate_percent_diff  comp2_rate  comp2_inv  \\\n",
       "485242        <NA>        NaN                      NaN           1        0.0   \n",
       "485243        <NA>        NaN                      NaN        <NA>        NaN   \n",
       "485244        <NA>        NaN                      NaN        <NA>        NaN   \n",
       "485245        <NA>        NaN                      NaN           0        0.0   \n",
       "485246        <NA>        NaN                      NaN           1        0.0   \n",
       "\n",
       "        comp2_rate_percent_diff  comp3_rate  comp3_inv  \\\n",
       "485242                      8.0           1        0.0   \n",
       "485243                      NaN          -1        0.0   \n",
       "485244                      NaN        <NA>        NaN   \n",
       "485245                      7.0           1        0.0   \n",
       "485246                      6.0           0        0.0   \n",
       "\n",
       "        comp3_rate_percent_diff  comp4_rate  comp4_inv  \\\n",
       "485242                      4.0           1        0.0   \n",
       "485243                      2.0           1        0.0   \n",
       "485244                      NaN           1        0.0   \n",
       "485245                      3.0           1        0.0   \n",
       "485246                      8.0           1        0.0   \n",
       "\n",
       "        comp4_rate_percent_diff  comp5_rate  comp5_inv  \\\n",
       "485242                      4.0           1        0.0   \n",
       "485243                      9.0        <NA>        0.0   \n",
       "485244                      9.0        <NA>        1.0   \n",
       "485245                     15.0           0        0.0   \n",
       "485246                     11.0           1        0.0   \n",
       "\n",
       "        comp5_rate_percent_diff  comp6_rate  comp6_inv  \\\n",
       "485242                      7.0        <NA>        NaN   \n",
       "485243                      NaN        <NA>        NaN   \n",
       "485244                      NaN        <NA>        NaN   \n",
       "485245                      7.0        <NA>        NaN   \n",
       "485246                      2.0        <NA>        NaN   \n",
       "\n",
       "        comp6_rate_percent_diff  comp7_rate  comp7_inv  \\\n",
       "485242                      NaN        <NA>        NaN   \n",
       "485243                      NaN        <NA>        NaN   \n",
       "485244                      NaN        <NA>        NaN   \n",
       "485245                      NaN        <NA>        NaN   \n",
       "485246                      NaN        <NA>        NaN   \n",
       "\n",
       "        comp7_rate_percent_diff  comp8_rate  comp8_inv  \\\n",
       "485242                      NaN        <NA>        NaN   \n",
       "485243                      NaN        <NA>        NaN   \n",
       "485244                      NaN        <NA>        NaN   \n",
       "485245                      NaN        <NA>        NaN   \n",
       "485246                      NaN        <NA>        NaN   \n",
       "\n",
       "        comp8_rate_percent_diff  click_bool  gross_bookings_usd  booking_bool  \\\n",
       "485242                      NaN         NaN                 NaN           NaN   \n",
       "485243                      NaN         NaN                 NaN           NaN   \n",
       "485244                      NaN         NaN                 NaN           NaN   \n",
       "485245                      NaN         NaN                 NaN           NaN   \n",
       "485246                      NaN         NaN                 NaN           NaN   \n",
       "\n",
       "         test    val  train  subm  price_per_day  price_per_trip  \\\n",
       "485242  False  False  False  True     142.710007      285.420013   \n",
       "485243  False  False  False  True      79.220001      158.440002   \n",
       "485244  False  False  False  True      93.070000      186.139999   \n",
       "485245  False  False  False  True     278.630005      557.260010   \n",
       "485246  False  False  False  True     100.919998      201.839996   \n",
       "\n",
       "        date_time_ordinal  \n",
       "485242                  1  \n",
       "485243                  1  \n",
       "485244                  1  \n",
       "485245                  1  \n",
       "485246                  1  "
      ]
     },
     "execution_count": 42,
     "metadata": {},
     "output_type": "execute_result"
    }
   ],
   "source": [
    "enc = ce.OrdinalEncoder(cols=['date_time'])\n",
    "\n",
    "if BOOKING_TIME_FEATURES:\n",
    "    # time column is encoded as some algorithms don't work with datetime. \n",
    "    # keep both. each specific model may load needed columns\n",
    "    time_df = enc.fit_transform(time_df)\n",
    "else:\n",
    "    time_df = enc.fit_transform(df['date_time'])\n",
    "\n",
    "time_df.rename(columns={\"date_time\": \"date_time_ordinal\"}, inplace=True)\n",
    "df = pd.concat([df, time_df], axis=1)\n",
    "    \n",
    "df.head()"
   ]
  },
  {
   "cell_type": "code",
   "execution_count": 43,
   "id": "95a45ebc",
   "metadata": {
    "ExecuteTime": {
     "end_time": "2022-05-27T14:14:33.497356Z",
     "start_time": "2022-05-27T14:14:33.455497Z"
    }
   },
   "outputs": [
    {
     "data": {
      "text/plain": [
       "(9917530, 61)"
      ]
     },
     "execution_count": 43,
     "metadata": {},
     "output_type": "execute_result"
    }
   ],
   "source": [
    "df.shape"
   ]
  },
  {
   "cell_type": "markdown",
   "id": "399c6428",
   "metadata": {},
   "source": [
    "### Time cyclicals"
   ]
  },
  {
   "cell_type": "code",
   "execution_count": 44,
   "id": "465e80c0",
   "metadata": {
    "ExecuteTime": {
     "end_time": "2022-05-27T14:14:33.536956Z",
     "start_time": "2022-05-27T14:14:33.499852Z"
    },
    "scrolled": true
   },
   "outputs": [],
   "source": [
    "if BOOKING_TIME_CYCLICALS:\n",
    "    max_values_dict = {\n",
    "        booking_time_prefix + 'day': 31,\n",
    "        booking_time_prefix + 'month': 12,\n",
    "        booking_time_prefix + 'quarter': 4,\n",
    "        booking_time_prefix + 'week': 52,\n",
    "        booking_time_prefix + 'dow': 7,\n",
    "        booking_time_prefix + 'doy': 366,\n",
    "        booking_time_prefix + 'season_num': 4\n",
    "    }\n",
    "\n",
    "    cyclical = CyclicalTransformer(variables=list(max_values_dict.keys()),\n",
    "                                   drop_original=False,\n",
    "                                   max_values=max_values_dict)\n",
    "\n",
    "    df = cyclical.fit_transform(df)\n",
    "    df.head()"
   ]
  },
  {
   "cell_type": "markdown",
   "id": "309b9ee9",
   "metadata": {},
   "source": [
    "## Distance and locations"
   ]
  },
  {
   "cell_type": "code",
   "execution_count": 45,
   "id": "26591375",
   "metadata": {
    "ExecuteTime": {
     "end_time": "2022-05-27T14:14:33.575582Z",
     "start_time": "2022-05-27T14:14:33.539817Z"
    }
   },
   "outputs": [],
   "source": [
    "# df['trans_ocean'] = df['orig_destination_distance'] > 3000\n",
    "# df['travel_inside'] = df['visitor_location_country_id'] == df['prop_country_id']"
   ]
  },
  {
   "cell_type": "code",
   "execution_count": 46,
   "id": "ce66ad0d",
   "metadata": {
    "ExecuteTime": {
     "end_time": "2022-05-27T14:14:33.669786Z",
     "start_time": "2022-05-27T14:14:33.578075Z"
    }
   },
   "outputs": [],
   "source": [
    "df['prop_location_score_diff'] = df['prop_location_score1'] - df['prop_location_score2']\n",
    "# df['prop_location_score_diff_7'] = df['prop_location_score1'] - df['prop_location_score2'] * 7\n",
    "df['prop_location_score_sum'] = df['prop_location_score1'] + df['prop_location_score2']\n",
    "# df['prop_location_score_sum_7'] = df['prop_location_score1'] + df['prop_location_score2'] * 7\n",
    "df['prop_location_score_mul'] = df['prop_location_score1'] * df['prop_location_score2']"
   ]
  },
  {
   "cell_type": "code",
   "execution_count": 47,
   "id": "caefd46f",
   "metadata": {
    "ExecuteTime": {
     "end_time": "2022-05-27T14:14:34.124159Z",
     "start_time": "2022-05-27T14:14:33.671336Z"
    }
   },
   "outputs": [],
   "source": [
    "df['prop_location_score_diff_log'] = df['prop_location_score1'] - (np.log(df['prop_location_score2'] + 1e-6) / np.log(2))\n",
    "df['prop_location_score_sum_log'] = df['prop_location_score1'] + (np.log(df['prop_location_score2'] + 1e-6) / np.log(2))\n",
    "df['prop_location_score_mul_log'] = df['prop_location_score1'] * (np.log(df['prop_location_score2'] + 1e-6) / np.log(2))"
   ]
  },
  {
   "cell_type": "markdown",
   "id": "ac06ba32",
   "metadata": {},
   "source": [
    "## Competitors"
   ]
  },
  {
   "cell_type": "markdown",
   "id": "92929e70",
   "metadata": {},
   "source": [
    "**comp1_rate** - +1 if Expedia has a lower price than competitor 1 for the hotel; 0 if the same; -1 if Expedia’s price is higher than competitor 1; null signifies there is no competitive data  \n",
    "\n",
    "**comp1_inv** - +1 if competitor 1 does not have availability in the hotel; 0 if both Expedia and competitor 1 have availability; null signifies there is no competitive data\n",
    "\n",
    "**comp1_rate_percent_diff** - The absolute percentage difference (if one exists) between Expedia and competitor 1’s price (Expedia’s price the denominator); null signifies there is no competitive data"
   ]
  },
  {
   "cell_type": "code",
   "execution_count": 48,
   "id": "2e9ef1fc",
   "metadata": {
    "ExecuteTime": {
     "end_time": "2022-05-27T14:14:34.162232Z",
     "start_time": "2022-05-27T14:14:34.126013Z"
    },
    "scrolled": true
   },
   "outputs": [],
   "source": [
    "# for i in range(1, 9):\n",
    "#     print(df[df[f'comp{i}_rate'] == 0][f'comp{i}_rate_percent_diff'].value_counts(dropna=False))"
   ]
  },
  {
   "cell_type": "code",
   "execution_count": 49,
   "id": "5b59daf7",
   "metadata": {
    "ExecuteTime": {
     "end_time": "2022-05-27T14:14:47.498917Z",
     "start_time": "2022-05-27T14:14:34.164167Z"
    },
    "scrolled": true
   },
   "outputs": [],
   "source": [
    "df['higher_price_than_expedia'] = 0  # 0 to nan\n",
    "df['lower_price_than_expedia'] = 0  # 0 to nan\n",
    "df['same_price_as_expedia'] = 0  # 0 to nan\n",
    "df['comp_num_avail'] = 0\n",
    "df['comp_num_avail_nan'] = 0\n",
    "\n",
    "for i in range(1, 9):\n",
    "    df.loc[df[f'comp{i}_rate'] == 1, 'higher_price_than_expedia'] += 1\n",
    "    df.loc[df[f'comp{i}_rate'] == -1, 'lower_price_than_expedia'] += 1\n",
    "    df.loc[df[f'comp{i}_rate'] == 0, 'same_price_as_expedia'] += 1 \n",
    "    \n",
    "    df.loc[df[f'comp{i}_inv'] == 0, 'comp_num_avail'] += 1 \n",
    "    df.loc[df[f'comp{i}_inv'].isna(), 'comp_num_avail_nan'] += 1 \n",
    "    \n",
    "df.loc[df['comp_num_avail_nan'] == 8, 'comp_num_avail'] = np.nan\n",
    "df.drop(['comp_num_avail_nan'], axis=1, inplace=True)\n",
    "\n",
    "df['higher_price_than_expedia'].replace(0, np.nan, inplace=True)\n",
    "df['lower_price_than_expedia'].replace(0, np.nan, inplace=True)\n",
    "df['same_price_as_expedia'].replace(0, np.nan, inplace=True)\n",
    "\n",
    "df['ratio_of_comp_with_higher_price_than_expedia'] = df['higher_price_than_expedia'] / df['comp_num_avail']\n",
    "df['ratio_of_comp_with_lower_price_than_expedia'] = df['lower_price_than_expedia'] / df['comp_num_avail']"
   ]
  },
  {
   "cell_type": "code",
   "execution_count": 50,
   "id": "9dfbaa1e",
   "metadata": {
    "ExecuteTime": {
     "end_time": "2022-05-27T14:15:01.958942Z",
     "start_time": "2022-05-27T14:14:47.509283Z"
    },
    "scrolled": true
   },
   "outputs": [],
   "source": [
    "if COMP_RATE_PERCENT_DIFF_SIGNED_FEATURES:\n",
    "    for i in range(1, 9):\n",
    "        df[f'comp{i}_rate_percent_diff_signed'] = df[f'comp{i}_rate'] * df[f'comp{i}_rate_percent_diff']\n",
    "        df.drop([f'comp{i}_rate'], axis=1, inplace=True)"
   ]
  },
  {
   "cell_type": "code",
   "execution_count": 51,
   "id": "8b449a0e",
   "metadata": {
    "ExecuteTime": {
     "end_time": "2022-05-27T14:15:01.993940Z",
     "start_time": "2022-05-27T14:15:01.960966Z"
    }
   },
   "outputs": [],
   "source": [
    "# if COMP_RATE_PERCENT_DIFF_TRANSFORMATION_FEATURES:\n",
    "#     df = num_transformations(df,\n",
    "#                          [f'comp{i}_rate_percent_diff' for i in range(1, 9)],\n",
    "#                          powers=[],\n",
    "#                          log_bases=[2, 10], \n",
    "#                          do_reciprocal=False,\n",
    "#                          do_exp=False)\n",
    "# else:\n",
    "#     for i in range(1, 9):\n",
    "#         df.drop([f'comp{i}_rate_percent_diff'], axis=1, inplace=True)  # bcs it's just a sign for the new feature"
   ]
  },
  {
   "cell_type": "code",
   "execution_count": 52,
   "id": "b3012c1b",
   "metadata": {
    "ExecuteTime": {
     "end_time": "2022-05-27T14:15:02.030662Z",
     "start_time": "2022-05-27T14:15:01.996039Z"
    }
   },
   "outputs": [
    {
     "data": {
      "text/plain": [
       "(9917530, 73)"
      ]
     },
     "execution_count": 52,
     "metadata": {},
     "output_type": "execute_result"
    }
   ],
   "source": [
    "df.shape"
   ]
  },
  {
   "cell_type": "code",
   "execution_count": 53,
   "id": "75b22955",
   "metadata": {
    "ExecuteTime": {
     "end_time": "2022-05-27T14:15:03.123861Z",
     "start_time": "2022-05-27T14:15:02.032771Z"
    },
    "scrolled": true
   },
   "outputs": [],
   "source": [
    "df.drop([\n",
    "    'comp1_inv',\n",
    "    'comp1_rate_percent_diff',\n",
    "    'comp2_inv',\n",
    "    'comp2_rate_percent_diff',\n",
    "    'comp3_inv',\n",
    "#     'comp3_rate_percent_diff',\n",
    "    'comp4_inv',\n",
    "    'comp4_rate_percent_diff',\n",
    "    'comp5_inv',\n",
    "    'comp5_rate_percent_diff',\n",
    "    'comp6_inv',\n",
    "    'comp6_rate_percent_diff',\n",
    "    'comp7_inv',\n",
    "    'comp7_rate_percent_diff',\n",
    "    'comp8_inv',\n",
    "    'comp8_rate_percent_diff',\n",
    "    'higher_price_than_expedia',\n",
    "    'lower_price_than_expedia',\n",
    "    'same_price_as_expedia',\n",
    "    'comp_num_avail',\n",
    "    'ratio_of_comp_with_higher_price_than_expedia',\n",
    "    'comp1_rate_percent_diff_signed',\n",
    "    'comp2_rate_percent_diff_signed',\n",
    "    'comp3_rate_percent_diff_signed',\n",
    "    'comp4_rate_percent_diff_signed',\n",
    "    'comp6_rate_percent_diff_signed',\n",
    "    'comp7_rate_percent_diff_signed',\n",
    "],\n",
    "        axis=1,\n",
    "        inplace=True)"
   ]
  },
  {
   "cell_type": "code",
   "execution_count": 54,
   "id": "7bdd19b0",
   "metadata": {
    "ExecuteTime": {
     "end_time": "2022-05-27T14:15:03.176259Z",
     "start_time": "2022-05-27T14:15:03.125558Z"
    },
    "scrolled": false
   },
   "outputs": [
    {
     "data": {
      "text/html": [
       "<div>\n",
       "<style scoped>\n",
       "    .dataframe tbody tr th:only-of-type {\n",
       "        vertical-align: middle;\n",
       "    }\n",
       "\n",
       "    .dataframe tbody tr th {\n",
       "        vertical-align: top;\n",
       "    }\n",
       "\n",
       "    .dataframe thead th {\n",
       "        text-align: right;\n",
       "    }\n",
       "</style>\n",
       "<table border=\"1\" class=\"dataframe\">\n",
       "  <thead>\n",
       "    <tr style=\"text-align: right;\">\n",
       "      <th></th>\n",
       "      <th>srch_id</th>\n",
       "      <th>date_time</th>\n",
       "      <th>site_id</th>\n",
       "      <th>visitor_location_country_id</th>\n",
       "      <th>visitor_hist_starrating</th>\n",
       "      <th>visitor_hist_adr_usd</th>\n",
       "      <th>prop_country_id</th>\n",
       "      <th>prop_id</th>\n",
       "      <th>prop_starrating</th>\n",
       "      <th>prop_review_score</th>\n",
       "      <th>prop_brand_bool</th>\n",
       "      <th>prop_location_score1</th>\n",
       "      <th>prop_location_score2</th>\n",
       "      <th>prop_log_historical_price</th>\n",
       "      <th>position</th>\n",
       "      <th>price_usd</th>\n",
       "      <th>promotion_flag</th>\n",
       "      <th>srch_destination_id</th>\n",
       "      <th>srch_length_of_stay</th>\n",
       "      <th>srch_booking_window</th>\n",
       "      <th>srch_adults_count</th>\n",
       "      <th>srch_children_count</th>\n",
       "      <th>srch_room_count</th>\n",
       "      <th>srch_saturday_night_bool</th>\n",
       "      <th>srch_query_affinity_score</th>\n",
       "      <th>orig_destination_distance</th>\n",
       "      <th>random_bool</th>\n",
       "      <th>comp3_rate_percent_diff</th>\n",
       "      <th>click_bool</th>\n",
       "      <th>gross_bookings_usd</th>\n",
       "      <th>booking_bool</th>\n",
       "      <th>test</th>\n",
       "      <th>val</th>\n",
       "      <th>train</th>\n",
       "      <th>subm</th>\n",
       "      <th>price_per_day</th>\n",
       "      <th>price_per_trip</th>\n",
       "      <th>date_time_ordinal</th>\n",
       "      <th>prop_location_score_diff</th>\n",
       "      <th>prop_location_score_sum</th>\n",
       "      <th>prop_location_score_mul</th>\n",
       "      <th>prop_location_score_diff_log</th>\n",
       "      <th>prop_location_score_sum_log</th>\n",
       "      <th>prop_location_score_mul_log</th>\n",
       "      <th>ratio_of_comp_with_lower_price_than_expedia</th>\n",
       "      <th>comp5_rate_percent_diff_signed</th>\n",
       "      <th>comp8_rate_percent_diff_signed</th>\n",
       "    </tr>\n",
       "  </thead>\n",
       "  <tbody>\n",
       "    <tr>\n",
       "      <th>485242</th>\n",
       "      <td>32491</td>\n",
       "      <td>2012-11-01 00:01:37</td>\n",
       "      <td>24</td>\n",
       "      <td>216</td>\n",
       "      <td>NaN</td>\n",
       "      <td>NaN</td>\n",
       "      <td>225</td>\n",
       "      <td>327</td>\n",
       "      <td>4.0</td>\n",
       "      <td>4.5</td>\n",
       "      <td>0</td>\n",
       "      <td>3.66</td>\n",
       "      <td>0.1358</td>\n",
       "      <td>5.31</td>\n",
       "      <td>NaN</td>\n",
       "      <td>142.710007</td>\n",
       "      <td>0</td>\n",
       "      <td>14083</td>\n",
       "      <td>2</td>\n",
       "      <td>16</td>\n",
       "      <td>1</td>\n",
       "      <td>0</td>\n",
       "      <td>1</td>\n",
       "      <td>1</td>\n",
       "      <td>NaN</td>\n",
       "      <td>NaN</td>\n",
       "      <td>0</td>\n",
       "      <td>4.0</td>\n",
       "      <td>NaN</td>\n",
       "      <td>NaN</td>\n",
       "      <td>NaN</td>\n",
       "      <td>False</td>\n",
       "      <td>False</td>\n",
       "      <td>False</td>\n",
       "      <td>True</td>\n",
       "      <td>142.710007</td>\n",
       "      <td>285.420013</td>\n",
       "      <td>1</td>\n",
       "      <td>3.5242</td>\n",
       "      <td>3.7958</td>\n",
       "      <td>0.497028</td>\n",
       "      <td>6.540434</td>\n",
       "      <td>0.779566</td>\n",
       "      <td>-10.542389</td>\n",
       "      <td>NaN</td>\n",
       "      <td>7.0</td>\n",
       "      <td>&lt;NA&gt;</td>\n",
       "    </tr>\n",
       "    <tr>\n",
       "      <th>485243</th>\n",
       "      <td>32491</td>\n",
       "      <td>2012-11-01 00:01:37</td>\n",
       "      <td>24</td>\n",
       "      <td>216</td>\n",
       "      <td>NaN</td>\n",
       "      <td>NaN</td>\n",
       "      <td>225</td>\n",
       "      <td>20797</td>\n",
       "      <td>3.0</td>\n",
       "      <td>3.0</td>\n",
       "      <td>0</td>\n",
       "      <td>4.65</td>\n",
       "      <td>0.1955</td>\n",
       "      <td>4.97</td>\n",
       "      <td>NaN</td>\n",
       "      <td>79.220001</td>\n",
       "      <td>0</td>\n",
       "      <td>14083</td>\n",
       "      <td>2</td>\n",
       "      <td>16</td>\n",
       "      <td>1</td>\n",
       "      <td>0</td>\n",
       "      <td>1</td>\n",
       "      <td>1</td>\n",
       "      <td>NaN</td>\n",
       "      <td>NaN</td>\n",
       "      <td>0</td>\n",
       "      <td>2.0</td>\n",
       "      <td>NaN</td>\n",
       "      <td>NaN</td>\n",
       "      <td>NaN</td>\n",
       "      <td>False</td>\n",
       "      <td>False</td>\n",
       "      <td>False</td>\n",
       "      <td>True</td>\n",
       "      <td>79.220001</td>\n",
       "      <td>158.440002</td>\n",
       "      <td>1</td>\n",
       "      <td>4.4545</td>\n",
       "      <td>4.8455</td>\n",
       "      <td>0.909075</td>\n",
       "      <td>7.004752</td>\n",
       "      <td>2.295248</td>\n",
       "      <td>-10.949597</td>\n",
       "      <td>0.333333</td>\n",
       "      <td>&lt;NA&gt;</td>\n",
       "      <td>&lt;NA&gt;</td>\n",
       "    </tr>\n",
       "    <tr>\n",
       "      <th>485244</th>\n",
       "      <td>32491</td>\n",
       "      <td>2012-11-01 00:01:37</td>\n",
       "      <td>24</td>\n",
       "      <td>216</td>\n",
       "      <td>NaN</td>\n",
       "      <td>NaN</td>\n",
       "      <td>225</td>\n",
       "      <td>24202</td>\n",
       "      <td>3.0</td>\n",
       "      <td>0.0</td>\n",
       "      <td>0</td>\n",
       "      <td>4.73</td>\n",
       "      <td>0.3831</td>\n",
       "      <td>4.97</td>\n",
       "      <td>NaN</td>\n",
       "      <td>93.070000</td>\n",
       "      <td>1</td>\n",
       "      <td>14083</td>\n",
       "      <td>2</td>\n",
       "      <td>16</td>\n",
       "      <td>1</td>\n",
       "      <td>0</td>\n",
       "      <td>1</td>\n",
       "      <td>1</td>\n",
       "      <td>NaN</td>\n",
       "      <td>NaN</td>\n",
       "      <td>0</td>\n",
       "      <td>NaN</td>\n",
       "      <td>NaN</td>\n",
       "      <td>NaN</td>\n",
       "      <td>NaN</td>\n",
       "      <td>False</td>\n",
       "      <td>False</td>\n",
       "      <td>False</td>\n",
       "      <td>True</td>\n",
       "      <td>93.070000</td>\n",
       "      <td>186.139999</td>\n",
       "      <td>1</td>\n",
       "      <td>4.3469</td>\n",
       "      <td>5.1131</td>\n",
       "      <td>1.812063</td>\n",
       "      <td>6.114203</td>\n",
       "      <td>3.345797</td>\n",
       "      <td>-6.547282</td>\n",
       "      <td>NaN</td>\n",
       "      <td>&lt;NA&gt;</td>\n",
       "      <td>&lt;NA&gt;</td>\n",
       "    </tr>\n",
       "    <tr>\n",
       "      <th>485245</th>\n",
       "      <td>32491</td>\n",
       "      <td>2012-11-01 00:01:37</td>\n",
       "      <td>24</td>\n",
       "      <td>216</td>\n",
       "      <td>NaN</td>\n",
       "      <td>NaN</td>\n",
       "      <td>225</td>\n",
       "      <td>33813</td>\n",
       "      <td>5.0</td>\n",
       "      <td>4.5</td>\n",
       "      <td>1</td>\n",
       "      <td>4.76</td>\n",
       "      <td>0.3524</td>\n",
       "      <td>6.13</td>\n",
       "      <td>NaN</td>\n",
       "      <td>278.630005</td>\n",
       "      <td>0</td>\n",
       "      <td>14083</td>\n",
       "      <td>2</td>\n",
       "      <td>16</td>\n",
       "      <td>1</td>\n",
       "      <td>0</td>\n",
       "      <td>1</td>\n",
       "      <td>1</td>\n",
       "      <td>NaN</td>\n",
       "      <td>NaN</td>\n",
       "      <td>0</td>\n",
       "      <td>3.0</td>\n",
       "      <td>NaN</td>\n",
       "      <td>NaN</td>\n",
       "      <td>NaN</td>\n",
       "      <td>False</td>\n",
       "      <td>False</td>\n",
       "      <td>False</td>\n",
       "      <td>True</td>\n",
       "      <td>278.630005</td>\n",
       "      <td>557.260010</td>\n",
       "      <td>1</td>\n",
       "      <td>4.4076</td>\n",
       "      <td>5.1124</td>\n",
       "      <td>1.677424</td>\n",
       "      <td>6.264710</td>\n",
       "      <td>3.255290</td>\n",
       "      <td>-7.162420</td>\n",
       "      <td>NaN</td>\n",
       "      <td>0.0</td>\n",
       "      <td>&lt;NA&gt;</td>\n",
       "    </tr>\n",
       "    <tr>\n",
       "      <th>485246</th>\n",
       "      <td>32491</td>\n",
       "      <td>2012-11-01 00:01:37</td>\n",
       "      <td>24</td>\n",
       "      <td>216</td>\n",
       "      <td>NaN</td>\n",
       "      <td>NaN</td>\n",
       "      <td>225</td>\n",
       "      <td>36599</td>\n",
       "      <td>3.0</td>\n",
       "      <td>4.0</td>\n",
       "      <td>0</td>\n",
       "      <td>4.64</td>\n",
       "      <td>0.3488</td>\n",
       "      <td>5.13</td>\n",
       "      <td>NaN</td>\n",
       "      <td>100.919998</td>\n",
       "      <td>1</td>\n",
       "      <td>14083</td>\n",
       "      <td>2</td>\n",
       "      <td>16</td>\n",
       "      <td>1</td>\n",
       "      <td>0</td>\n",
       "      <td>1</td>\n",
       "      <td>1</td>\n",
       "      <td>NaN</td>\n",
       "      <td>NaN</td>\n",
       "      <td>0</td>\n",
       "      <td>8.0</td>\n",
       "      <td>NaN</td>\n",
       "      <td>NaN</td>\n",
       "      <td>NaN</td>\n",
       "      <td>False</td>\n",
       "      <td>False</td>\n",
       "      <td>False</td>\n",
       "      <td>True</td>\n",
       "      <td>100.919998</td>\n",
       "      <td>201.839996</td>\n",
       "      <td>1</td>\n",
       "      <td>4.2912</td>\n",
       "      <td>4.9888</td>\n",
       "      <td>1.618432</td>\n",
       "      <td>6.159524</td>\n",
       "      <td>3.120476</td>\n",
       "      <td>-7.050591</td>\n",
       "      <td>NaN</td>\n",
       "      <td>2.0</td>\n",
       "      <td>&lt;NA&gt;</td>\n",
       "    </tr>\n",
       "  </tbody>\n",
       "</table>\n",
       "</div>"
      ],
      "text/plain": [
       "        srch_id           date_time  site_id  visitor_location_country_id  \\\n",
       "485242    32491 2012-11-01 00:01:37       24                          216   \n",
       "485243    32491 2012-11-01 00:01:37       24                          216   \n",
       "485244    32491 2012-11-01 00:01:37       24                          216   \n",
       "485245    32491 2012-11-01 00:01:37       24                          216   \n",
       "485246    32491 2012-11-01 00:01:37       24                          216   \n",
       "\n",
       "        visitor_hist_starrating  visitor_hist_adr_usd  prop_country_id  \\\n",
       "485242                      NaN                   NaN              225   \n",
       "485243                      NaN                   NaN              225   \n",
       "485244                      NaN                   NaN              225   \n",
       "485245                      NaN                   NaN              225   \n",
       "485246                      NaN                   NaN              225   \n",
       "\n",
       "        prop_id  prop_starrating  prop_review_score  prop_brand_bool  \\\n",
       "485242      327              4.0                4.5                0   \n",
       "485243    20797              3.0                3.0                0   \n",
       "485244    24202              3.0                0.0                0   \n",
       "485245    33813              5.0                4.5                1   \n",
       "485246    36599              3.0                4.0                0   \n",
       "\n",
       "        prop_location_score1  prop_location_score2  prop_log_historical_price  \\\n",
       "485242                  3.66                0.1358                       5.31   \n",
       "485243                  4.65                0.1955                       4.97   \n",
       "485244                  4.73                0.3831                       4.97   \n",
       "485245                  4.76                0.3524                       6.13   \n",
       "485246                  4.64                0.3488                       5.13   \n",
       "\n",
       "        position   price_usd  promotion_flag  srch_destination_id  \\\n",
       "485242       NaN  142.710007               0                14083   \n",
       "485243       NaN   79.220001               0                14083   \n",
       "485244       NaN   93.070000               1                14083   \n",
       "485245       NaN  278.630005               0                14083   \n",
       "485246       NaN  100.919998               1                14083   \n",
       "\n",
       "        srch_length_of_stay  srch_booking_window  srch_adults_count  \\\n",
       "485242                    2                   16                  1   \n",
       "485243                    2                   16                  1   \n",
       "485244                    2                   16                  1   \n",
       "485245                    2                   16                  1   \n",
       "485246                    2                   16                  1   \n",
       "\n",
       "        srch_children_count  srch_room_count  srch_saturday_night_bool  \\\n",
       "485242                    0                1                         1   \n",
       "485243                    0                1                         1   \n",
       "485244                    0                1                         1   \n",
       "485245                    0                1                         1   \n",
       "485246                    0                1                         1   \n",
       "\n",
       "        srch_query_affinity_score  orig_destination_distance  random_bool  \\\n",
       "485242                        NaN                        NaN            0   \n",
       "485243                        NaN                        NaN            0   \n",
       "485244                        NaN                        NaN            0   \n",
       "485245                        NaN                        NaN            0   \n",
       "485246                        NaN                        NaN            0   \n",
       "\n",
       "        comp3_rate_percent_diff  click_bool  gross_bookings_usd  booking_bool  \\\n",
       "485242                      4.0         NaN                 NaN           NaN   \n",
       "485243                      2.0         NaN                 NaN           NaN   \n",
       "485244                      NaN         NaN                 NaN           NaN   \n",
       "485245                      3.0         NaN                 NaN           NaN   \n",
       "485246                      8.0         NaN                 NaN           NaN   \n",
       "\n",
       "         test    val  train  subm  price_per_day  price_per_trip  \\\n",
       "485242  False  False  False  True     142.710007      285.420013   \n",
       "485243  False  False  False  True      79.220001      158.440002   \n",
       "485244  False  False  False  True      93.070000      186.139999   \n",
       "485245  False  False  False  True     278.630005      557.260010   \n",
       "485246  False  False  False  True     100.919998      201.839996   \n",
       "\n",
       "        date_time_ordinal  prop_location_score_diff  prop_location_score_sum  \\\n",
       "485242                  1                    3.5242                   3.7958   \n",
       "485243                  1                    4.4545                   4.8455   \n",
       "485244                  1                    4.3469                   5.1131   \n",
       "485245                  1                    4.4076                   5.1124   \n",
       "485246                  1                    4.2912                   4.9888   \n",
       "\n",
       "        prop_location_score_mul  prop_location_score_diff_log  \\\n",
       "485242                 0.497028                      6.540434   \n",
       "485243                 0.909075                      7.004752   \n",
       "485244                 1.812063                      6.114203   \n",
       "485245                 1.677424                      6.264710   \n",
       "485246                 1.618432                      6.159524   \n",
       "\n",
       "        prop_location_score_sum_log  prop_location_score_mul_log  \\\n",
       "485242                     0.779566                   -10.542389   \n",
       "485243                     2.295248                   -10.949597   \n",
       "485244                     3.345797                    -6.547282   \n",
       "485245                     3.255290                    -7.162420   \n",
       "485246                     3.120476                    -7.050591   \n",
       "\n",
       "        ratio_of_comp_with_lower_price_than_expedia  \\\n",
       "485242                                          NaN   \n",
       "485243                                     0.333333   \n",
       "485244                                          NaN   \n",
       "485245                                          NaN   \n",
       "485246                                          NaN   \n",
       "\n",
       "        comp5_rate_percent_diff_signed  comp8_rate_percent_diff_signed  \n",
       "485242                             7.0                            <NA>  \n",
       "485243                            <NA>                            <NA>  \n",
       "485244                            <NA>                            <NA>  \n",
       "485245                             0.0                            <NA>  \n",
       "485246                             2.0                            <NA>  "
      ]
     },
     "execution_count": 54,
     "metadata": {},
     "output_type": "execute_result"
    }
   ],
   "source": [
    "df.head()"
   ]
  },
  {
   "cell_type": "code",
   "execution_count": 55,
   "id": "627ce6f3",
   "metadata": {
    "ExecuteTime": {
     "end_time": "2022-05-27T14:15:03.212278Z",
     "start_time": "2022-05-27T14:15:03.177940Z"
    }
   },
   "outputs": [
    {
     "data": {
      "text/plain": [
       "(9917530, 47)"
      ]
     },
     "execution_count": 55,
     "metadata": {},
     "output_type": "execute_result"
    }
   ],
   "source": [
    "df.shape"
   ]
  },
  {
   "cell_type": "markdown",
   "id": "1d8d52f2",
   "metadata": {},
   "source": [
    "## Money features"
   ]
  },
  {
   "cell_type": "markdown",
   "id": "a2d317cb",
   "metadata": {},
   "source": [
    "### Money transformations"
   ]
  },
  {
   "cell_type": "code",
   "execution_count": 56,
   "id": "358822ec",
   "metadata": {
    "ExecuteTime": {
     "end_time": "2022-05-27T14:15:03.397906Z",
     "start_time": "2022-05-27T14:15:03.213804Z"
    }
   },
   "outputs": [],
   "source": [
    "df = num_transformations(df,\n",
    "                         [\n",
    "#                              'price_usd', \n",
    "                          'price_per_day'],\n",
    "                         powers=[2, 3],\n",
    "                         log_bases=[10])"
   ]
  },
  {
   "cell_type": "code",
   "execution_count": 57,
   "id": "bf32b279",
   "metadata": {
    "ExecuteTime": {
     "end_time": "2022-05-27T14:15:03.429767Z",
     "start_time": "2022-05-27T14:15:03.399615Z"
    }
   },
   "outputs": [],
   "source": [
    "# df = num_transformations(df,\n",
    "#                          [\n",
    "# #                              'visitor_hist_adr_usd',\n",
    "# #                           'price_per_trip'\n",
    "#                          ],\n",
    "#                          powers=[0.33, 0.5, 2, 3],\n",
    "#                          log_bases=[2, 10, round(np.e, 2)])"
   ]
  },
  {
   "cell_type": "code",
   "execution_count": 58,
   "id": "7a5ed7a4",
   "metadata": {
    "ExecuteTime": {
     "end_time": "2022-05-27T14:15:03.603673Z",
     "start_time": "2022-05-27T14:15:03.432016Z"
    }
   },
   "outputs": [],
   "source": [
    "df = num_transformations(df, ['prop_log_historical_price'],\n",
    "                         powers=[0.33],\n",
    "                         log_bases=[10],\n",
    "                         do_exp=False)"
   ]
  },
  {
   "cell_type": "markdown",
   "id": "3dcf40fb",
   "metadata": {},
   "source": [
    "**prop_log_historical_price** - The logarithm of the mean price of the hotel over the last trading period. A 0 will occur if the hotel was not sold in that period.  "
   ]
  },
  {
   "cell_type": "code",
   "execution_count": 59,
   "id": "96bce4f4",
   "metadata": {
    "ExecuteTime": {
     "end_time": "2022-05-27T14:15:03.655449Z",
     "start_time": "2022-05-27T14:15:03.605541Z"
    }
   },
   "outputs": [],
   "source": [
    "df['prop_historical_price'] = np.exp(df['prop_log_historical_price'])"
   ]
  },
  {
   "cell_type": "markdown",
   "id": "399971c7",
   "metadata": {},
   "source": [
    "**visitor_hist_adr_usd** - The mean price per night (in US$) of the hotels the customer has previously purchased; null signifies there is no purchase history on the customer  \n",
    "\n",
    "**price_usd** - Displayed price of the hotel for the given search.  Note that different countries have different conventions regarding displaying taxes and fees and the value may be per night or for the whole stay"
   ]
  },
  {
   "cell_type": "code",
   "execution_count": 60,
   "id": "d916c4ca",
   "metadata": {
    "ExecuteTime": {
     "end_time": "2022-05-27T14:15:03.979346Z",
     "start_time": "2022-05-27T14:15:03.657338Z"
    }
   },
   "outputs": [],
   "source": [
    "df['price_diff_to_usr_hist'] = df['price_usd'] - df['visitor_hist_adr_usd']\n",
    "df['price_ratio_to_usr_hist'] = df['price_usd'] / (df['visitor_hist_adr_usd'] + 1e-2)\n",
    "\n",
    "df['price_per_day_diff_to_usr_hist'] = df['price_per_day'] - df['visitor_hist_adr_usd']\n",
    "df['price_per_day_ratio_to_usr_hist'] = df['price_per_day'] / (df['visitor_hist_adr_usd'] + 1e-2)\n",
    "\n",
    "df['price_per_trip_diff_to_usr_hist'] = df['price_per_trip'] - df['visitor_hist_adr_usd']\n",
    "df['price_per_trip_ratio_to_usr_hist'] = df['price_per_trip'] / (df['visitor_hist_adr_usd'] + 1e-2)\n",
    "\n",
    "df['price_diff_to_place_hist_price'] = df['price_usd'] - np.exp(df['prop_log_historical_price'])\n",
    "df['price_per_day_diff_to_place_hist_price'] = df['price_per_day'] - np.exp(df['prop_log_historical_price'])\n",
    "df['price_per_trip_diff_to_place_hist_price'] = df['price_per_trip'] - np.exp(df['prop_log_historical_price'])\n",
    "df['place_hist_price_diff_usr_hist'] = np.exp(df['prop_log_historical_price']) - df['visitor_hist_adr_usd']"
   ]
  },
  {
   "cell_type": "code",
   "execution_count": 61,
   "id": "b30c9962",
   "metadata": {
    "ExecuteTime": {
     "end_time": "2022-05-27T14:15:04.011520Z",
     "start_time": "2022-05-27T14:15:03.981178Z"
    },
    "scrolled": true
   },
   "outputs": [],
   "source": [
    "# totally missed in submission df\n",
    "# df['usr_extra_pay'] = df['gross_bookings_usd'] - df['price_usd']"
   ]
  },
  {
   "cell_type": "markdown",
   "id": "39180d97",
   "metadata": {},
   "source": [
    "## Stars"
   ]
  },
  {
   "cell_type": "markdown",
   "id": "29eaf204",
   "metadata": {},
   "source": [
    "**visitor_hist_starrating** - The mean star rating of hotels the customer has previously purchased; null signifies there is no purchase history on the customer\n",
    "\n",
    "**prop_starrating** - The star rating of the hotel, from 1 to 5, in increments of 1.  A 0 indicates the property has no stars, the star rating is not known or cannot be publicized.\n",
    "\n",
    "**prop_review_score** - The mean customer review score for the hotel on a scale out of 5, rounded to 0.5 increments. A 0 means there have been no reviews, null that the information is not available."
   ]
  },
  {
   "cell_type": "code",
   "execution_count": 62,
   "id": "442b2aa5",
   "metadata": {
    "ExecuteTime": {
     "end_time": "2022-05-27T14:15:04.122855Z",
     "start_time": "2022-05-27T14:15:04.013790Z"
    }
   },
   "outputs": [],
   "source": [
    "df['prop_star_usr_hist_diff'] = df['prop_starrating'] - df['visitor_hist_starrating']\n",
    "df['prop_review_usr_hist_diff'] = df['prop_review_score'] - df['visitor_hist_starrating']\n",
    "\n",
    "df['prop_starrating_bonus_chain'] = df['prop_starrating'] + df['prop_brand_bool']"
   ]
  },
  {
   "cell_type": "code",
   "execution_count": 63,
   "id": "2464e390",
   "metadata": {
    "ExecuteTime": {
     "end_time": "2022-05-27T14:18:27.476081Z",
     "start_time": "2022-05-27T14:15:04.124815Z"
    },
    "scrolled": true
   },
   "outputs": [
    {
     "data": {
      "application/vnd.jupyter.widget-view+json": {
       "model_id": "5011c52282e54fbdaa1bdf63b368918b",
       "version_major": 2,
       "version_minor": 0
      },
      "text/plain": [
       "VBox(children=(HBox(children=(IntProgress(value=0, description='0.00%', max=2479383), Label(value='0 / 2479383…"
      ]
     },
     "metadata": {},
     "output_type": "display_data"
    },
    {
     "data": {
      "application/vnd.jupyter.widget-view+json": {
       "model_id": "bb81bb50d06a420c9d55678fd665c709",
       "version_major": 2,
       "version_minor": 0
      },
      "text/plain": [
       "VBox(children=(HBox(children=(IntProgress(value=0, description='0.00%', max=2479383), Label(value='0 / 2479383…"
      ]
     },
     "metadata": {},
     "output_type": "display_data"
    },
    {
     "data": {
      "application/vnd.jupyter.widget-view+json": {
       "model_id": "bfb71c879f5c4b20b869474d8061523e",
       "version_major": 2,
       "version_minor": 0
      },
      "text/plain": [
       "VBox(children=(HBox(children=(IntProgress(value=0, description='0.00%', max=2479383), Label(value='0 / 2479383…"
      ]
     },
     "metadata": {},
     "output_type": "display_data"
    }
   ],
   "source": [
    "df['prop_star_review_sum'] = df['prop_starrating'] + df['prop_review_score']\n",
    "df['prop_star_review_diff'] = df['prop_starrating'] - df['prop_review_score']\n",
    "df['prop_star_review_min'] = df[['prop_starrating', 'prop_review_score']].parallel_apply(min, axis=1)\n",
    "df['prop_star_review_max'] = df[['prop_starrating', 'prop_review_score']].parallel_apply(max, axis=1)\n",
    "df['prop_star_review_mean'] = df[['prop_starrating', 'prop_review_score']].parallel_apply(np.mean, axis=1)"
   ]
  },
  {
   "cell_type": "markdown",
   "id": "91fe5529",
   "metadata": {},
   "source": [
    "### Price\\star"
   ]
  },
  {
   "cell_type": "code",
   "execution_count": 64,
   "id": "32192ee2",
   "metadata": {
    "ExecuteTime": {
     "end_time": "2022-05-27T14:18:27.743901Z",
     "start_time": "2022-05-27T14:18:27.489455Z"
    }
   },
   "outputs": [],
   "source": [
    "df['price_per_star'] = df['price_per_day'] / (df['prop_starrating'] + 1e-6)\n",
    "df['price_per_review_score'] = df['price_per_day'] / (df['prop_review_score'] + 1e-6)\n",
    "\n",
    "# df['usr_price_per_star'] = df['visitor_hist_adr_usd'] / df['visitor_hist_starrating']\n",
    "\n",
    "# df['price_per_star_diff_with_usr'] = df['price_per_star'] - df['usr_price_per_star']\n",
    "# df['price_per_review_diff_with_usr'] = df['price_per_review_score'] - df['usr_price_per_star']"
   ]
  },
  {
   "cell_type": "code",
   "execution_count": 65,
   "id": "3647251a",
   "metadata": {
    "ExecuteTime": {
     "end_time": "2022-05-27T14:18:28.020179Z",
     "start_time": "2022-05-27T14:18:27.746726Z"
    }
   },
   "outputs": [],
   "source": [
    "df = num_transformations(df,\n",
    "                         ['price_per_star', 'price_per_review_score', \n",
    "#                           'usr_price_per_star'\n",
    "                         ],\n",
    "                         powers=[],\n",
    "                         log_bases=[10], \n",
    "                         do_reciprocal=False,\n",
    "                         do_exp=False)"
   ]
  },
  {
   "cell_type": "code",
   "execution_count": 66,
   "id": "0e7a0f64",
   "metadata": {
    "ExecuteTime": {
     "end_time": "2022-05-27T14:18:28.091306Z",
     "start_time": "2022-05-27T14:18:28.022616Z"
    }
   },
   "outputs": [
    {
     "data": {
      "text/html": [
       "<div>\n",
       "<style scoped>\n",
       "    .dataframe tbody tr th:only-of-type {\n",
       "        vertical-align: middle;\n",
       "    }\n",
       "\n",
       "    .dataframe tbody tr th {\n",
       "        vertical-align: top;\n",
       "    }\n",
       "\n",
       "    .dataframe thead th {\n",
       "        text-align: right;\n",
       "    }\n",
       "</style>\n",
       "<table border=\"1\" class=\"dataframe\">\n",
       "  <thead>\n",
       "    <tr style=\"text-align: right;\">\n",
       "      <th></th>\n",
       "      <th>srch_id</th>\n",
       "      <th>date_time</th>\n",
       "      <th>site_id</th>\n",
       "      <th>visitor_location_country_id</th>\n",
       "      <th>visitor_hist_starrating</th>\n",
       "      <th>visitor_hist_adr_usd</th>\n",
       "      <th>prop_country_id</th>\n",
       "      <th>prop_id</th>\n",
       "      <th>prop_starrating</th>\n",
       "      <th>prop_review_score</th>\n",
       "      <th>prop_brand_bool</th>\n",
       "      <th>prop_location_score1</th>\n",
       "      <th>prop_location_score2</th>\n",
       "      <th>prop_log_historical_price</th>\n",
       "      <th>position</th>\n",
       "      <th>price_usd</th>\n",
       "      <th>promotion_flag</th>\n",
       "      <th>srch_destination_id</th>\n",
       "      <th>srch_length_of_stay</th>\n",
       "      <th>srch_booking_window</th>\n",
       "      <th>srch_adults_count</th>\n",
       "      <th>srch_children_count</th>\n",
       "      <th>srch_room_count</th>\n",
       "      <th>srch_saturday_night_bool</th>\n",
       "      <th>srch_query_affinity_score</th>\n",
       "      <th>orig_destination_distance</th>\n",
       "      <th>random_bool</th>\n",
       "      <th>comp3_rate_percent_diff</th>\n",
       "      <th>click_bool</th>\n",
       "      <th>gross_bookings_usd</th>\n",
       "      <th>booking_bool</th>\n",
       "      <th>test</th>\n",
       "      <th>val</th>\n",
       "      <th>train</th>\n",
       "      <th>subm</th>\n",
       "      <th>price_per_day</th>\n",
       "      <th>price_per_trip</th>\n",
       "      <th>date_time_ordinal</th>\n",
       "      <th>prop_location_score_diff</th>\n",
       "      <th>prop_location_score_sum</th>\n",
       "      <th>prop_location_score_mul</th>\n",
       "      <th>prop_location_score_diff_log</th>\n",
       "      <th>prop_location_score_sum_log</th>\n",
       "      <th>prop_location_score_mul_log</th>\n",
       "      <th>ratio_of_comp_with_lower_price_than_expedia</th>\n",
       "      <th>comp5_rate_percent_diff_signed</th>\n",
       "      <th>comp8_rate_percent_diff_signed</th>\n",
       "      <th>price_per_day_pow_2</th>\n",
       "      <th>price_per_day_log_10</th>\n",
       "      <th>price_per_day_reciprocal</th>\n",
       "      <th>prop_log_historical_price_pow_0.33</th>\n",
       "      <th>prop_log_historical_price_log_10</th>\n",
       "      <th>prop_log_historical_price_reciprocal</th>\n",
       "      <th>prop_historical_price</th>\n",
       "      <th>price_diff_to_usr_hist</th>\n",
       "      <th>price_ratio_to_usr_hist</th>\n",
       "      <th>price_per_day_diff_to_usr_hist</th>\n",
       "      <th>price_per_day_ratio_to_usr_hist</th>\n",
       "      <th>price_per_trip_diff_to_usr_hist</th>\n",
       "      <th>price_per_trip_ratio_to_usr_hist</th>\n",
       "      <th>price_diff_to_place_hist_price</th>\n",
       "      <th>price_per_day_diff_to_place_hist_price</th>\n",
       "      <th>price_per_trip_diff_to_place_hist_price</th>\n",
       "      <th>place_hist_price_diff_usr_hist</th>\n",
       "      <th>prop_star_usr_hist_diff</th>\n",
       "      <th>prop_review_usr_hist_diff</th>\n",
       "      <th>prop_starrating_bonus_chain</th>\n",
       "      <th>prop_star_review_sum</th>\n",
       "      <th>prop_star_review_diff</th>\n",
       "      <th>prop_star_review_min</th>\n",
       "      <th>prop_star_review_max</th>\n",
       "      <th>prop_star_review_mean</th>\n",
       "      <th>price_per_star</th>\n",
       "      <th>price_per_review_score</th>\n",
       "      <th>price_per_star_log_10</th>\n",
       "      <th>price_per_review_score_log_10</th>\n",
       "    </tr>\n",
       "  </thead>\n",
       "  <tbody>\n",
       "    <tr>\n",
       "      <th>485242</th>\n",
       "      <td>32491</td>\n",
       "      <td>2012-11-01 00:01:37</td>\n",
       "      <td>24</td>\n",
       "      <td>216</td>\n",
       "      <td>NaN</td>\n",
       "      <td>NaN</td>\n",
       "      <td>225</td>\n",
       "      <td>327</td>\n",
       "      <td>4.0</td>\n",
       "      <td>4.5</td>\n",
       "      <td>0</td>\n",
       "      <td>3.66</td>\n",
       "      <td>0.1358</td>\n",
       "      <td>5.31</td>\n",
       "      <td>NaN</td>\n",
       "      <td>142.710007</td>\n",
       "      <td>0</td>\n",
       "      <td>14083</td>\n",
       "      <td>2</td>\n",
       "      <td>16</td>\n",
       "      <td>1</td>\n",
       "      <td>0</td>\n",
       "      <td>1</td>\n",
       "      <td>1</td>\n",
       "      <td>NaN</td>\n",
       "      <td>NaN</td>\n",
       "      <td>0</td>\n",
       "      <td>4.0</td>\n",
       "      <td>NaN</td>\n",
       "      <td>NaN</td>\n",
       "      <td>NaN</td>\n",
       "      <td>False</td>\n",
       "      <td>False</td>\n",
       "      <td>False</td>\n",
       "      <td>True</td>\n",
       "      <td>142.710007</td>\n",
       "      <td>285.420013</td>\n",
       "      <td>1</td>\n",
       "      <td>3.5242</td>\n",
       "      <td>3.7958</td>\n",
       "      <td>0.497028</td>\n",
       "      <td>6.540434</td>\n",
       "      <td>0.779566</td>\n",
       "      <td>-10.542389</td>\n",
       "      <td>NaN</td>\n",
       "      <td>7.0</td>\n",
       "      <td>&lt;NA&gt;</td>\n",
       "      <td>20366.146484</td>\n",
       "      <td>2.154454</td>\n",
       "      <td>0.007007</td>\n",
       "      <td>1.734927</td>\n",
       "      <td>0.725095</td>\n",
       "      <td>0.188324</td>\n",
       "      <td>202.350220</td>\n",
       "      <td>NaN</td>\n",
       "      <td>NaN</td>\n",
       "      <td>NaN</td>\n",
       "      <td>NaN</td>\n",
       "      <td>NaN</td>\n",
       "      <td>NaN</td>\n",
       "      <td>-59.640213</td>\n",
       "      <td>-59.640213</td>\n",
       "      <td>83.069794</td>\n",
       "      <td>NaN</td>\n",
       "      <td>NaN</td>\n",
       "      <td>NaN</td>\n",
       "      <td>4.0</td>\n",
       "      <td>8.5</td>\n",
       "      <td>-0.5</td>\n",
       "      <td>4.0</td>\n",
       "      <td>4.5</td>\n",
       "      <td>4.25</td>\n",
       "      <td>35.677493</td>\n",
       "      <td>31.713328</td>\n",
       "      <td>1.552394</td>\n",
       "      <td>1.501242</td>\n",
       "    </tr>\n",
       "    <tr>\n",
       "      <th>485243</th>\n",
       "      <td>32491</td>\n",
       "      <td>2012-11-01 00:01:37</td>\n",
       "      <td>24</td>\n",
       "      <td>216</td>\n",
       "      <td>NaN</td>\n",
       "      <td>NaN</td>\n",
       "      <td>225</td>\n",
       "      <td>20797</td>\n",
       "      <td>3.0</td>\n",
       "      <td>3.0</td>\n",
       "      <td>0</td>\n",
       "      <td>4.65</td>\n",
       "      <td>0.1955</td>\n",
       "      <td>4.97</td>\n",
       "      <td>NaN</td>\n",
       "      <td>79.220001</td>\n",
       "      <td>0</td>\n",
       "      <td>14083</td>\n",
       "      <td>2</td>\n",
       "      <td>16</td>\n",
       "      <td>1</td>\n",
       "      <td>0</td>\n",
       "      <td>1</td>\n",
       "      <td>1</td>\n",
       "      <td>NaN</td>\n",
       "      <td>NaN</td>\n",
       "      <td>0</td>\n",
       "      <td>2.0</td>\n",
       "      <td>NaN</td>\n",
       "      <td>NaN</td>\n",
       "      <td>NaN</td>\n",
       "      <td>False</td>\n",
       "      <td>False</td>\n",
       "      <td>False</td>\n",
       "      <td>True</td>\n",
       "      <td>79.220001</td>\n",
       "      <td>158.440002</td>\n",
       "      <td>1</td>\n",
       "      <td>4.4545</td>\n",
       "      <td>4.8455</td>\n",
       "      <td>0.909075</td>\n",
       "      <td>7.004752</td>\n",
       "      <td>2.295248</td>\n",
       "      <td>-10.949597</td>\n",
       "      <td>0.333333</td>\n",
       "      <td>&lt;NA&gt;</td>\n",
       "      <td>&lt;NA&gt;</td>\n",
       "      <td>6275.808594</td>\n",
       "      <td>1.898835</td>\n",
       "      <td>0.012623</td>\n",
       "      <td>1.697452</td>\n",
       "      <td>0.696356</td>\n",
       "      <td>0.201207</td>\n",
       "      <td>144.026855</td>\n",
       "      <td>NaN</td>\n",
       "      <td>NaN</td>\n",
       "      <td>NaN</td>\n",
       "      <td>NaN</td>\n",
       "      <td>NaN</td>\n",
       "      <td>NaN</td>\n",
       "      <td>-64.806854</td>\n",
       "      <td>-64.806854</td>\n",
       "      <td>14.413147</td>\n",
       "      <td>NaN</td>\n",
       "      <td>NaN</td>\n",
       "      <td>NaN</td>\n",
       "      <td>3.0</td>\n",
       "      <td>6.0</td>\n",
       "      <td>0.0</td>\n",
       "      <td>3.0</td>\n",
       "      <td>3.0</td>\n",
       "      <td>3.00</td>\n",
       "      <td>26.406658</td>\n",
       "      <td>26.406658</td>\n",
       "      <td>1.421713</td>\n",
       "      <td>1.421713</td>\n",
       "    </tr>\n",
       "  </tbody>\n",
       "</table>\n",
       "</div>"
      ],
      "text/plain": [
       "        srch_id           date_time  site_id  visitor_location_country_id  \\\n",
       "485242    32491 2012-11-01 00:01:37       24                          216   \n",
       "485243    32491 2012-11-01 00:01:37       24                          216   \n",
       "\n",
       "        visitor_hist_starrating  visitor_hist_adr_usd  prop_country_id  \\\n",
       "485242                      NaN                   NaN              225   \n",
       "485243                      NaN                   NaN              225   \n",
       "\n",
       "        prop_id  prop_starrating  prop_review_score  prop_brand_bool  \\\n",
       "485242      327              4.0                4.5                0   \n",
       "485243    20797              3.0                3.0                0   \n",
       "\n",
       "        prop_location_score1  prop_location_score2  prop_log_historical_price  \\\n",
       "485242                  3.66                0.1358                       5.31   \n",
       "485243                  4.65                0.1955                       4.97   \n",
       "\n",
       "        position   price_usd  promotion_flag  srch_destination_id  \\\n",
       "485242       NaN  142.710007               0                14083   \n",
       "485243       NaN   79.220001               0                14083   \n",
       "\n",
       "        srch_length_of_stay  srch_booking_window  srch_adults_count  \\\n",
       "485242                    2                   16                  1   \n",
       "485243                    2                   16                  1   \n",
       "\n",
       "        srch_children_count  srch_room_count  srch_saturday_night_bool  \\\n",
       "485242                    0                1                         1   \n",
       "485243                    0                1                         1   \n",
       "\n",
       "        srch_query_affinity_score  orig_destination_distance  random_bool  \\\n",
       "485242                        NaN                        NaN            0   \n",
       "485243                        NaN                        NaN            0   \n",
       "\n",
       "        comp3_rate_percent_diff  click_bool  gross_bookings_usd  booking_bool  \\\n",
       "485242                      4.0         NaN                 NaN           NaN   \n",
       "485243                      2.0         NaN                 NaN           NaN   \n",
       "\n",
       "         test    val  train  subm  price_per_day  price_per_trip  \\\n",
       "485242  False  False  False  True     142.710007      285.420013   \n",
       "485243  False  False  False  True      79.220001      158.440002   \n",
       "\n",
       "        date_time_ordinal  prop_location_score_diff  prop_location_score_sum  \\\n",
       "485242                  1                    3.5242                   3.7958   \n",
       "485243                  1                    4.4545                   4.8455   \n",
       "\n",
       "        prop_location_score_mul  prop_location_score_diff_log  \\\n",
       "485242                 0.497028                      6.540434   \n",
       "485243                 0.909075                      7.004752   \n",
       "\n",
       "        prop_location_score_sum_log  prop_location_score_mul_log  \\\n",
       "485242                     0.779566                   -10.542389   \n",
       "485243                     2.295248                   -10.949597   \n",
       "\n",
       "        ratio_of_comp_with_lower_price_than_expedia  \\\n",
       "485242                                          NaN   \n",
       "485243                                     0.333333   \n",
       "\n",
       "        comp5_rate_percent_diff_signed  comp8_rate_percent_diff_signed  \\\n",
       "485242                             7.0                            <NA>   \n",
       "485243                            <NA>                            <NA>   \n",
       "\n",
       "        price_per_day_pow_2  price_per_day_log_10  price_per_day_reciprocal  \\\n",
       "485242         20366.146484              2.154454                  0.007007   \n",
       "485243          6275.808594              1.898835                  0.012623   \n",
       "\n",
       "        prop_log_historical_price_pow_0.33  prop_log_historical_price_log_10  \\\n",
       "485242                            1.734927                          0.725095   \n",
       "485243                            1.697452                          0.696356   \n",
       "\n",
       "        prop_log_historical_price_reciprocal  prop_historical_price  \\\n",
       "485242                              0.188324             202.350220   \n",
       "485243                              0.201207             144.026855   \n",
       "\n",
       "        price_diff_to_usr_hist  price_ratio_to_usr_hist  \\\n",
       "485242                     NaN                      NaN   \n",
       "485243                     NaN                      NaN   \n",
       "\n",
       "        price_per_day_diff_to_usr_hist  price_per_day_ratio_to_usr_hist  \\\n",
       "485242                             NaN                              NaN   \n",
       "485243                             NaN                              NaN   \n",
       "\n",
       "        price_per_trip_diff_to_usr_hist  price_per_trip_ratio_to_usr_hist  \\\n",
       "485242                              NaN                               NaN   \n",
       "485243                              NaN                               NaN   \n",
       "\n",
       "        price_diff_to_place_hist_price  \\\n",
       "485242                      -59.640213   \n",
       "485243                      -64.806854   \n",
       "\n",
       "        price_per_day_diff_to_place_hist_price  \\\n",
       "485242                              -59.640213   \n",
       "485243                              -64.806854   \n",
       "\n",
       "        price_per_trip_diff_to_place_hist_price  \\\n",
       "485242                                83.069794   \n",
       "485243                                14.413147   \n",
       "\n",
       "        place_hist_price_diff_usr_hist  prop_star_usr_hist_diff  \\\n",
       "485242                             NaN                      NaN   \n",
       "485243                             NaN                      NaN   \n",
       "\n",
       "        prop_review_usr_hist_diff  prop_starrating_bonus_chain  \\\n",
       "485242                        NaN                          4.0   \n",
       "485243                        NaN                          3.0   \n",
       "\n",
       "        prop_star_review_sum  prop_star_review_diff  prop_star_review_min  \\\n",
       "485242                   8.5                   -0.5                   4.0   \n",
       "485243                   6.0                    0.0                   3.0   \n",
       "\n",
       "        prop_star_review_max  prop_star_review_mean  price_per_star  \\\n",
       "485242                   4.5                   4.25       35.677493   \n",
       "485243                   3.0                   3.00       26.406658   \n",
       "\n",
       "        price_per_review_score  price_per_star_log_10  \\\n",
       "485242               31.713328               1.552394   \n",
       "485243               26.406658               1.421713   \n",
       "\n",
       "        price_per_review_score_log_10  \n",
       "485242                       1.501242  \n",
       "485243                       1.421713  "
      ]
     },
     "execution_count": 66,
     "metadata": {},
     "output_type": "execute_result"
    }
   ],
   "source": [
    "df.head(2)"
   ]
  },
  {
   "cell_type": "code",
   "execution_count": 67,
   "id": "6de5c51a",
   "metadata": {
    "ExecuteTime": {
     "end_time": "2022-05-27T14:18:28.129486Z",
     "start_time": "2022-05-27T14:18:28.093979Z"
    }
   },
   "outputs": [
    {
     "data": {
      "text/plain": [
       "(9917530, 76)"
      ]
     },
     "execution_count": 67,
     "metadata": {},
     "output_type": "execute_result"
    }
   ],
   "source": [
    "df.shape"
   ]
  },
  {
   "cell_type": "markdown",
   "id": "d6bc9646",
   "metadata": {},
   "source": [
    "## Days of staying"
   ]
  },
  {
   "cell_type": "markdown",
   "id": "6ea4bec3",
   "metadata": {},
   "source": [
    "**srch_length_of_stay** - Number of nights stay that was searched\n",
    "\n",
    "\n",
    "**srch_booking_window** - Number of days in the future the hotel stay started from the search date"
   ]
  },
  {
   "cell_type": "code",
   "execution_count": 68,
   "id": "a4e948c5",
   "metadata": {
    "ExecuteTime": {
     "end_time": "2022-05-27T14:18:28.514740Z",
     "start_time": "2022-05-27T14:18:28.131501Z"
    }
   },
   "outputs": [],
   "source": [
    "df['booking_weeks_ahead'] = df['srch_booking_window'] / 7\n",
    "# df['booking_months_ahead'] = df['srch_booking_window'] / 30\n",
    "\n",
    "df['len_of_stay_to_booking_ahead_ratio'] = df['srch_booking_window'] / df['srch_length_of_stay']\n",
    "# df['len_of_stay_to_booking_ahead_diff'] = df['srch_booking_window'] - df['srch_length_of_stay']"
   ]
  },
  {
   "cell_type": "code",
   "execution_count": 69,
   "id": "41a7a50c",
   "metadata": {
    "ExecuteTime": {
     "end_time": "2022-05-27T14:18:28.752354Z",
     "start_time": "2022-05-27T14:18:28.703681Z"
    }
   },
   "outputs": [],
   "source": [
    "# df['srch_length_of_stay_in_weeks'] = df['srch_length_of_stay'] // 7\n",
    "# df['srch_length_of_stay_in_weeks'].value_counts()"
   ]
  },
  {
   "cell_type": "markdown",
   "id": "995b9b71",
   "metadata": {},
   "source": [
    "### Calculate date of trip\n",
    "from: date_time + srch_booking_window\\\n",
    "until: date_time + srch_booking_window + srch_length_of_stay"
   ]
  },
  {
   "cell_type": "code",
   "execution_count": 70,
   "id": "35e30599",
   "metadata": {
    "ExecuteTime": {
     "end_time": "2022-05-27T14:18:40.011720Z",
     "start_time": "2022-05-27T14:18:28.773736Z"
    }
   },
   "outputs": [],
   "source": [
    "df['date'] = df['date_time'].dt.floor('D')\n",
    "df['days_until_trip'] = pd.to_timedelta(df['srch_booking_window'], unit='D')\n",
    "\n",
    "df['trip_start_date'] = df['date'] + df['days_until_trip']\n",
    "df['trip_end_date'] = df['date'] + df['days_until_trip'] + pd.to_timedelta(df['srch_length_of_stay'], unit='D')\n",
    "\n",
    "df.drop(['days_until_trip'], axis=1, inplace=True)"
   ]
  },
  {
   "cell_type": "code",
   "execution_count": 71,
   "id": "221b58e6",
   "metadata": {
    "ExecuteTime": {
     "end_time": "2022-05-27T14:20:43.874831Z",
     "start_time": "2022-05-27T14:18:40.013862Z"
    },
    "scrolled": true
   },
   "outputs": [
    {
     "data": {
      "application/vnd.jupyter.widget-view+json": {
       "model_id": "5b4ea929966c4311bcb5b8fcf0f936b7",
       "version_major": 2,
       "version_minor": 0
      },
      "text/plain": [
       "VBox(children=(HBox(children=(IntProgress(value=0, description='0.00%', max=2479383), Label(value='0 / 2479383…"
      ]
     },
     "metadata": {},
     "output_type": "display_data"
    },
    {
     "data": {
      "application/vnd.jupyter.widget-view+json": {
       "model_id": "4a6b10a128d641ee91c58b08da3ef284",
       "version_major": 2,
       "version_minor": 0
      },
      "text/plain": [
       "VBox(children=(HBox(children=(IntProgress(value=0, description='0.00%', max=2479383), Label(value='0 / 2479383…"
      ]
     },
     "metadata": {},
     "output_type": "display_data"
    },
    {
     "data": {
      "text/html": [
       "<div>\n",
       "<style scoped>\n",
       "    .dataframe tbody tr th:only-of-type {\n",
       "        vertical-align: middle;\n",
       "    }\n",
       "\n",
       "    .dataframe tbody tr th {\n",
       "        vertical-align: top;\n",
       "    }\n",
       "\n",
       "    .dataframe thead th {\n",
       "        text-align: right;\n",
       "    }\n",
       "</style>\n",
       "<table border=\"1\" class=\"dataframe\">\n",
       "  <thead>\n",
       "    <tr style=\"text-align: right;\">\n",
       "      <th></th>\n",
       "      <th>trip_start_date_week</th>\n",
       "      <th>trip_start_date_week_mid_summer_index</th>\n",
       "      <th>trip_start_date_month</th>\n",
       "      <th>trip_start_date_days_in_month</th>\n",
       "      <th>trip_start_date_quarter</th>\n",
       "      <th>trip_start_date_season_num</th>\n",
       "      <th>trip_start_date_year</th>\n",
       "      <th>trip_start_date_week_id</th>\n",
       "    </tr>\n",
       "  </thead>\n",
       "  <tbody>\n",
       "    <tr>\n",
       "      <th>485242</th>\n",
       "      <td>46</td>\n",
       "      <td>8</td>\n",
       "      <td>11</td>\n",
       "      <td>30</td>\n",
       "      <td>4</td>\n",
       "      <td>4</td>\n",
       "      <td>2012</td>\n",
       "      <td>201246</td>\n",
       "    </tr>\n",
       "    <tr>\n",
       "      <th>485243</th>\n",
       "      <td>46</td>\n",
       "      <td>8</td>\n",
       "      <td>11</td>\n",
       "      <td>30</td>\n",
       "      <td>4</td>\n",
       "      <td>4</td>\n",
       "      <td>2012</td>\n",
       "      <td>201246</td>\n",
       "    </tr>\n",
       "  </tbody>\n",
       "</table>\n",
       "</div>"
      ],
      "text/plain": [
       "        trip_start_date_week  trip_start_date_week_mid_summer_index  \\\n",
       "485242                    46                                      8   \n",
       "485243                    46                                      8   \n",
       "\n",
       "        trip_start_date_month  trip_start_date_days_in_month  \\\n",
       "485242                     11                             30   \n",
       "485243                     11                             30   \n",
       "\n",
       "        trip_start_date_quarter  trip_start_date_season_num  \\\n",
       "485242                        4                           4   \n",
       "485243                        4                           4   \n",
       "\n",
       "        trip_start_date_year  trip_start_date_week_id  \n",
       "485242                  2012                   201246  \n",
       "485243                  2012                   201246  "
      ]
     },
     "execution_count": 71,
     "metadata": {},
     "output_type": "execute_result"
    }
   ],
   "source": [
    "trip_start = get_time_features(deepcopy(df[['trip_start_date']]), time_col='trip_start_date', \n",
    "                               prefix='trip_start_date_', \n",
    "                               within_hour_features=False, hour_features=False,\n",
    "                               day_features=False, week_features=True, month_features=True, \n",
    "                               season_features=True, year_features=True)\n",
    "trip_start.drop('trip_start_date', axis=1, inplace=True)\n",
    "# trip_start.drop([c for c in trip_start.columns if 'week' not in c], axis=1, inplace=True)\n",
    "trip_start.head(2)"
   ]
  },
  {
   "cell_type": "code",
   "execution_count": 72,
   "id": "dbf82e81",
   "metadata": {
    "ExecuteTime": {
     "end_time": "2022-05-27T14:22:51.042033Z",
     "start_time": "2022-05-27T14:20:43.880347Z"
    }
   },
   "outputs": [
    {
     "data": {
      "application/vnd.jupyter.widget-view+json": {
       "model_id": "8fe522b2764149caae53be47a4f2af35",
       "version_major": 2,
       "version_minor": 0
      },
      "text/plain": [
       "VBox(children=(HBox(children=(IntProgress(value=0, description='0.00%', max=2479383), Label(value='0 / 2479383…"
      ]
     },
     "metadata": {},
     "output_type": "display_data"
    },
    {
     "data": {
      "application/vnd.jupyter.widget-view+json": {
       "model_id": "b3ec6274ee1547e1beab2c37a11726b3",
       "version_major": 2,
       "version_minor": 0
      },
      "text/plain": [
       "VBox(children=(HBox(children=(IntProgress(value=0, description='0.00%', max=2479383), Label(value='0 / 2479383…"
      ]
     },
     "metadata": {},
     "output_type": "display_data"
    },
    {
     "data": {
      "text/html": [
       "<div>\n",
       "<style scoped>\n",
       "    .dataframe tbody tr th:only-of-type {\n",
       "        vertical-align: middle;\n",
       "    }\n",
       "\n",
       "    .dataframe tbody tr th {\n",
       "        vertical-align: top;\n",
       "    }\n",
       "\n",
       "    .dataframe thead th {\n",
       "        text-align: right;\n",
       "    }\n",
       "</style>\n",
       "<table border=\"1\" class=\"dataframe\">\n",
       "  <thead>\n",
       "    <tr style=\"text-align: right;\">\n",
       "      <th></th>\n",
       "      <th>trip_end_date_week</th>\n",
       "      <th>trip_end_date_week_mid_summer_index</th>\n",
       "      <th>trip_end_date_month</th>\n",
       "      <th>trip_end_date_days_in_month</th>\n",
       "      <th>trip_end_date_quarter</th>\n",
       "      <th>trip_end_date_season_num</th>\n",
       "      <th>trip_end_date_year</th>\n",
       "      <th>trip_end_date_week_id</th>\n",
       "    </tr>\n",
       "  </thead>\n",
       "  <tbody>\n",
       "    <tr>\n",
       "      <th>485242</th>\n",
       "      <td>47</td>\n",
       "      <td>7</td>\n",
       "      <td>11</td>\n",
       "      <td>30</td>\n",
       "      <td>4</td>\n",
       "      <td>4</td>\n",
       "      <td>2012</td>\n",
       "      <td>201247</td>\n",
       "    </tr>\n",
       "    <tr>\n",
       "      <th>485243</th>\n",
       "      <td>47</td>\n",
       "      <td>7</td>\n",
       "      <td>11</td>\n",
       "      <td>30</td>\n",
       "      <td>4</td>\n",
       "      <td>4</td>\n",
       "      <td>2012</td>\n",
       "      <td>201247</td>\n",
       "    </tr>\n",
       "  </tbody>\n",
       "</table>\n",
       "</div>"
      ],
      "text/plain": [
       "        trip_end_date_week  trip_end_date_week_mid_summer_index  \\\n",
       "485242                  47                                    7   \n",
       "485243                  47                                    7   \n",
       "\n",
       "        trip_end_date_month  trip_end_date_days_in_month  \\\n",
       "485242                   11                           30   \n",
       "485243                   11                           30   \n",
       "\n",
       "        trip_end_date_quarter  trip_end_date_season_num  trip_end_date_year  \\\n",
       "485242                      4                         4                2012   \n",
       "485243                      4                         4                2012   \n",
       "\n",
       "        trip_end_date_week_id  \n",
       "485242                 201247  \n",
       "485243                 201247  "
      ]
     },
     "execution_count": 72,
     "metadata": {},
     "output_type": "execute_result"
    }
   ],
   "source": [
    "trip_end = get_time_features(deepcopy(df[['trip_end_date']]), time_col='trip_end_date', \n",
    "                               prefix='trip_end_date_', \n",
    "                               within_hour_features=False, hour_features=False,\n",
    "                               day_features=False, week_features=True, month_features=True, \n",
    "                               season_features=True, year_features=True)\n",
    "trip_end.drop('trip_end_date', axis=1, inplace=True)\n",
    "# trip_end.drop([c for c in trip_end.columns if 'week' not in c], axis=1, inplace=True)\n",
    "trip_end.head(2)"
   ]
  },
  {
   "cell_type": "code",
   "execution_count": 73,
   "id": "8991be48",
   "metadata": {
    "ExecuteTime": {
     "end_time": "2022-05-27T14:23:00.534782Z",
     "start_time": "2022-05-27T14:22:51.045755Z"
    }
   },
   "outputs": [],
   "source": [
    "df = pd.concat([df, trip_start, trip_end], axis=1)"
   ]
  },
  {
   "cell_type": "code",
   "execution_count": 74,
   "id": "362cfff4",
   "metadata": {
    "ExecuteTime": {
     "end_time": "2022-05-27T14:23:00.679992Z",
     "start_time": "2022-05-27T14:23:00.549540Z"
    }
   },
   "outputs": [
    {
     "data": {
      "text/plain": [
       "(9917530, 97)"
      ]
     },
     "execution_count": 74,
     "metadata": {},
     "output_type": "execute_result"
    }
   ],
   "source": [
    "df.shape"
   ]
  },
  {
   "cell_type": "markdown",
   "id": "a9e78fe5",
   "metadata": {},
   "source": [
    "### Count holidays (work free day) during the trip"
   ]
  },
  {
   "cell_type": "code",
   "execution_count": 75,
   "id": "d861febd",
   "metadata": {
    "ExecuteTime": {
     "end_time": "2022-05-27T14:23:00.783185Z",
     "start_time": "2022-05-27T14:23:00.687895Z"
    },
    "code_folding": [
     0
    ]
   },
   "outputs": [],
   "source": [
    "if HOLIDAY_DURING_TRIP_FEATURE:\n",
    "    cal = calendar()\n",
    "    # holidays = cal.holidays(start=min(df['trip_start_date']), end=max(df['trip_end_date']))\n",
    "\n",
    "    holidays = cal.holidays(start=min(df['trip_start_date']), end=max(df['trip_end_date']), return_name=True)\n",
    "   \n",
    "    df['holidays_during_trip'] = np.nan\n",
    "    # for holiday in holidays:\n",
    "    #     df['holidays_during_trip'] += (df['trip_start_date'] <= holiday) & (df['trip_end_date'] >= holiday)\n",
    "\n",
    "    for holiday in holidays.items():\n",
    "        print(holiday[0], holiday[1])\n",
    "        df.loc[(df['trip_start_date'] <= holiday[0]) & (df['trip_end_date'] >= holiday[0]), 'holiday_during_trip'] = holiday[1]"
   ]
  },
  {
   "cell_type": "code",
   "execution_count": 76,
   "id": "ef562cb8",
   "metadata": {
    "ExecuteTime": {
     "end_time": "2022-05-27T14:23:00.868563Z",
     "start_time": "2022-05-27T14:23:00.799412Z"
    }
   },
   "outputs": [],
   "source": [
    "if HOLIDAY_DURING_TRIP_FEATURE:\n",
    "    df['holiday_during_trip'].value_counts(dropna=False)"
   ]
  },
  {
   "cell_type": "markdown",
   "id": "8fbaf7c7",
   "metadata": {},
   "source": [
    "add some number of days before and after. weight them"
   ]
  },
  {
   "cell_type": "markdown",
   "id": "66a106c7",
   "metadata": {},
   "source": [
    "### Holidays during the day of booking"
   ]
  },
  {
   "cell_type": "code",
   "execution_count": 77,
   "id": "38ea3f63",
   "metadata": {
    "ExecuteTime": {
     "end_time": "2022-05-27T14:23:00.910690Z",
     "start_time": "2022-05-27T14:23:00.871801Z"
    },
    "code_folding": [
     0
    ]
   },
   "outputs": [],
   "source": [
    "if HOLIDAY_DURING_BOOKING_FEATURE:\n",
    "    df['holiday_during_booking'] = np.nan\n",
    "\n",
    "    for holiday in holidays.items():\n",
    "        print(holiday[0], holiday[1])\n",
    "        df.loc[(df['date'] == holiday[0]), 'holiday_during_booking'] = holiday[1]        "
   ]
  },
  {
   "cell_type": "code",
   "execution_count": 78,
   "id": "12ebd0f0",
   "metadata": {
    "ExecuteTime": {
     "end_time": "2022-05-27T14:23:00.945868Z",
     "start_time": "2022-05-27T14:23:00.912695Z"
    }
   },
   "outputs": [],
   "source": [
    "if HOLIDAY_DURING_BOOKING_FEATURE:\n",
    "    df['holiday_during_booking'].value_counts(dropna=False)"
   ]
  },
  {
   "cell_type": "markdown",
   "id": "60ff2206",
   "metadata": {},
   "source": [
    "### Try to separate business trips from holidays\n",
    "\n",
    "sign for worktrip:\\\n",
    "srch_children_count = 0\\\n",
    "srch_adults_count = 1\\\n",
    "srch_saturday_night_bool = False\\\n",
    "srch_length_of_stay < avg\\\n",
    "orig_destination_distance < avg\\\n",
    "srch_booking_window < avg"
   ]
  },
  {
   "cell_type": "code",
   "execution_count": 79,
   "id": "b62348d7",
   "metadata": {
    "ExecuteTime": {
     "end_time": "2022-05-27T14:23:00.984056Z",
     "start_time": "2022-05-27T14:23:00.948425Z"
    }
   },
   "outputs": [],
   "source": [
    "# df['business_trip'] = False\n",
    "# df.loc[(df['srch_children_count'] == 0) & (df['srch_adults_count'] == 1) &\n",
    "#        (~df['srch_saturday_night_bool']) & (df['srch_length_of_stay'] <= 5), 'business_trip'] = True"
   ]
  },
  {
   "cell_type": "markdown",
   "id": "9101dd81",
   "metadata": {},
   "source": [
    "## Family"
   ]
  },
  {
   "cell_type": "markdown",
   "id": "3ab5ffd9",
   "metadata": {},
   "source": [
    "**srch_adults_count** - The number of adults specified in the hotel room\n",
    "\n",
    " \n",
    "**srch_children_count** - The number of (extra occupancy) children specified in the hotel room\n",
    "\n",
    " \n",
    "**srch_room_count** - Number of hotel rooms specified in the search"
   ]
  },
  {
   "cell_type": "code",
   "execution_count": 80,
   "id": "2aae3c34",
   "metadata": {
    "ExecuteTime": {
     "end_time": "2022-05-27T14:23:01.271309Z",
     "start_time": "2022-05-27T14:23:00.986636Z"
    }
   },
   "outputs": [],
   "source": [
    "df['children_per_adult'] = df['srch_children_count'] / df['srch_adults_count']\n",
    "df['total_people'] = df['srch_children_count'] + df['srch_adults_count']\n",
    "df['people_per_room'] = df['total_people'] / df['srch_room_count']\n",
    "\n",
    "df['separate_children_room'] = df['srch_children_count'] & (df['srch_room_count'] > 1)"
   ]
  },
  {
   "cell_type": "markdown",
   "id": "ebbbd545",
   "metadata": {},
   "source": [
    "## Normalize"
   ]
  },
  {
   "cell_type": "code",
   "execution_count": 81,
   "id": "52e7fd28",
   "metadata": {
    "ExecuteTime": {
     "end_time": "2022-05-27T14:23:01.534347Z",
     "start_time": "2022-05-27T14:23:01.402526Z"
    }
   },
   "outputs": [],
   "source": [
    "from features import normalize_features"
   ]
  },
  {
   "cell_type": "code",
   "execution_count": 82,
   "id": "5793cdfc",
   "metadata": {
    "ExecuteTime": {
     "end_time": "2022-05-27T14:23:12.195857Z",
     "start_time": "2022-05-27T14:23:01.538501Z"
    },
    "scrolled": false
   },
   "outputs": [
    {
     "data": {
      "text/plain": [
       "Series([], Name: price_usd, dtype: float32)"
      ]
     },
     "execution_count": 82,
     "metadata": {},
     "output_type": "execute_result"
    }
   ],
   "source": [
    "df[df['price_usd'] < 0]['price_usd']"
   ]
  },
  {
   "cell_type": "code",
   "execution_count": 83,
   "id": "30270ead",
   "metadata": {
    "ExecuteTime": {
     "end_time": "2022-05-27T14:24:56.029251Z",
     "start_time": "2022-05-27T14:23:12.198200Z"
    },
    "scrolled": true
   },
   "outputs": [
    {
     "data": {
      "text/html": [
       "<div>\n",
       "<style scoped>\n",
       "    .dataframe tbody tr th:only-of-type {\n",
       "        vertical-align: middle;\n",
       "    }\n",
       "\n",
       "    .dataframe tbody tr th {\n",
       "        vertical-align: top;\n",
       "    }\n",
       "\n",
       "    .dataframe thead th {\n",
       "        text-align: right;\n",
       "    }\n",
       "</style>\n",
       "<table border=\"1\" class=\"dataframe\">\n",
       "  <thead>\n",
       "    <tr style=\"text-align: right;\">\n",
       "      <th></th>\n",
       "      <th>srch_id</th>\n",
       "      <th>date_time</th>\n",
       "      <th>site_id</th>\n",
       "      <th>visitor_location_country_id</th>\n",
       "      <th>visitor_hist_starrating</th>\n",
       "      <th>visitor_hist_adr_usd</th>\n",
       "      <th>prop_country_id</th>\n",
       "      <th>prop_id</th>\n",
       "      <th>prop_starrating</th>\n",
       "      <th>prop_review_score</th>\n",
       "      <th>prop_brand_bool</th>\n",
       "      <th>prop_location_score1</th>\n",
       "      <th>prop_location_score2</th>\n",
       "      <th>prop_log_historical_price</th>\n",
       "      <th>position</th>\n",
       "      <th>price_usd</th>\n",
       "      <th>promotion_flag</th>\n",
       "      <th>srch_destination_id</th>\n",
       "      <th>srch_length_of_stay</th>\n",
       "      <th>srch_booking_window</th>\n",
       "      <th>srch_adults_count</th>\n",
       "      <th>srch_children_count</th>\n",
       "      <th>srch_room_count</th>\n",
       "      <th>srch_saturday_night_bool</th>\n",
       "      <th>srch_query_affinity_score</th>\n",
       "      <th>orig_destination_distance</th>\n",
       "      <th>random_bool</th>\n",
       "      <th>comp3_rate_percent_diff</th>\n",
       "      <th>click_bool</th>\n",
       "      <th>gross_bookings_usd</th>\n",
       "      <th>booking_bool</th>\n",
       "      <th>test</th>\n",
       "      <th>val</th>\n",
       "      <th>train</th>\n",
       "      <th>subm</th>\n",
       "      <th>price_per_day</th>\n",
       "      <th>price_per_trip</th>\n",
       "      <th>date_time_ordinal</th>\n",
       "      <th>prop_location_score_diff</th>\n",
       "      <th>prop_location_score_sum</th>\n",
       "      <th>prop_location_score_mul</th>\n",
       "      <th>prop_location_score_diff_log</th>\n",
       "      <th>prop_location_score_sum_log</th>\n",
       "      <th>prop_location_score_mul_log</th>\n",
       "      <th>ratio_of_comp_with_lower_price_than_expedia</th>\n",
       "      <th>comp5_rate_percent_diff_signed</th>\n",
       "      <th>comp8_rate_percent_diff_signed</th>\n",
       "      <th>price_per_day_pow_2</th>\n",
       "      <th>price_per_day_log_10</th>\n",
       "      <th>price_per_day_reciprocal</th>\n",
       "      <th>prop_log_historical_price_pow_0.33</th>\n",
       "      <th>prop_log_historical_price_log_10</th>\n",
       "      <th>prop_log_historical_price_reciprocal</th>\n",
       "      <th>prop_historical_price</th>\n",
       "      <th>price_diff_to_usr_hist</th>\n",
       "      <th>price_ratio_to_usr_hist</th>\n",
       "      <th>price_per_day_diff_to_usr_hist</th>\n",
       "      <th>price_per_day_ratio_to_usr_hist</th>\n",
       "      <th>price_per_trip_diff_to_usr_hist</th>\n",
       "      <th>price_per_trip_ratio_to_usr_hist</th>\n",
       "      <th>price_diff_to_place_hist_price</th>\n",
       "      <th>price_per_day_diff_to_place_hist_price</th>\n",
       "      <th>price_per_trip_diff_to_place_hist_price</th>\n",
       "      <th>place_hist_price_diff_usr_hist</th>\n",
       "      <th>prop_star_usr_hist_diff</th>\n",
       "      <th>prop_review_usr_hist_diff</th>\n",
       "      <th>prop_starrating_bonus_chain</th>\n",
       "      <th>prop_star_review_sum</th>\n",
       "      <th>prop_star_review_diff</th>\n",
       "      <th>prop_star_review_min</th>\n",
       "      <th>prop_star_review_max</th>\n",
       "      <th>prop_star_review_mean</th>\n",
       "      <th>price_per_star</th>\n",
       "      <th>price_per_review_score</th>\n",
       "      <th>price_per_star_log_10</th>\n",
       "      <th>price_per_review_score_log_10</th>\n",
       "      <th>booking_weeks_ahead</th>\n",
       "      <th>len_of_stay_to_booking_ahead_ratio</th>\n",
       "      <th>date</th>\n",
       "      <th>trip_start_date</th>\n",
       "      <th>trip_end_date</th>\n",
       "      <th>trip_start_date_week</th>\n",
       "      <th>trip_start_date_week_mid_summer_index</th>\n",
       "      <th>trip_start_date_month</th>\n",
       "      <th>trip_start_date_days_in_month</th>\n",
       "      <th>trip_start_date_quarter</th>\n",
       "      <th>trip_start_date_season_num</th>\n",
       "      <th>trip_start_date_year</th>\n",
       "      <th>trip_start_date_week_id</th>\n",
       "      <th>trip_end_date_week</th>\n",
       "      <th>trip_end_date_week_mid_summer_index</th>\n",
       "      <th>trip_end_date_month</th>\n",
       "      <th>trip_end_date_days_in_month</th>\n",
       "      <th>trip_end_date_quarter</th>\n",
       "      <th>trip_end_date_season_num</th>\n",
       "      <th>trip_end_date_year</th>\n",
       "      <th>trip_end_date_week_id</th>\n",
       "      <th>children_per_adult</th>\n",
       "      <th>total_people</th>\n",
       "      <th>people_per_room</th>\n",
       "      <th>separate_children_room</th>\n",
       "      <th>price_usd_log10_norm_by_srch_id</th>\n",
       "    </tr>\n",
       "  </thead>\n",
       "  <tbody>\n",
       "    <tr>\n",
       "      <th>0</th>\n",
       "      <td>32491</td>\n",
       "      <td>2012-11-01 00:01:37</td>\n",
       "      <td>24</td>\n",
       "      <td>216</td>\n",
       "      <td>NaN</td>\n",
       "      <td>NaN</td>\n",
       "      <td>225</td>\n",
       "      <td>327</td>\n",
       "      <td>4.0</td>\n",
       "      <td>4.5</td>\n",
       "      <td>0</td>\n",
       "      <td>3.66</td>\n",
       "      <td>0.1358</td>\n",
       "      <td>5.31</td>\n",
       "      <td>NaN</td>\n",
       "      <td>142.710007</td>\n",
       "      <td>0</td>\n",
       "      <td>14083</td>\n",
       "      <td>2</td>\n",
       "      <td>16</td>\n",
       "      <td>1</td>\n",
       "      <td>0</td>\n",
       "      <td>1</td>\n",
       "      <td>1</td>\n",
       "      <td>NaN</td>\n",
       "      <td>NaN</td>\n",
       "      <td>0</td>\n",
       "      <td>4.0</td>\n",
       "      <td>NaN</td>\n",
       "      <td>NaN</td>\n",
       "      <td>NaN</td>\n",
       "      <td>False</td>\n",
       "      <td>False</td>\n",
       "      <td>False</td>\n",
       "      <td>True</td>\n",
       "      <td>142.710007</td>\n",
       "      <td>285.420013</td>\n",
       "      <td>1</td>\n",
       "      <td>3.5242</td>\n",
       "      <td>3.7958</td>\n",
       "      <td>0.497028</td>\n",
       "      <td>6.540434</td>\n",
       "      <td>0.779566</td>\n",
       "      <td>-10.542389</td>\n",
       "      <td>NaN</td>\n",
       "      <td>7.0</td>\n",
       "      <td>&lt;NA&gt;</td>\n",
       "      <td>20366.146484</td>\n",
       "      <td>2.154454</td>\n",
       "      <td>0.007007</td>\n",
       "      <td>1.734927</td>\n",
       "      <td>0.725095</td>\n",
       "      <td>0.188324</td>\n",
       "      <td>202.350220</td>\n",
       "      <td>NaN</td>\n",
       "      <td>NaN</td>\n",
       "      <td>NaN</td>\n",
       "      <td>NaN</td>\n",
       "      <td>NaN</td>\n",
       "      <td>NaN</td>\n",
       "      <td>-59.640213</td>\n",
       "      <td>-59.640213</td>\n",
       "      <td>83.069794</td>\n",
       "      <td>NaN</td>\n",
       "      <td>NaN</td>\n",
       "      <td>NaN</td>\n",
       "      <td>4.0</td>\n",
       "      <td>8.5</td>\n",
       "      <td>-0.5</td>\n",
       "      <td>4.0</td>\n",
       "      <td>4.5</td>\n",
       "      <td>4.25</td>\n",
       "      <td>35.677493</td>\n",
       "      <td>31.713328</td>\n",
       "      <td>1.552394</td>\n",
       "      <td>1.501242</td>\n",
       "      <td>2.285714</td>\n",
       "      <td>8.0</td>\n",
       "      <td>2012-11-01</td>\n",
       "      <td>2012-11-17</td>\n",
       "      <td>2012-11-19</td>\n",
       "      <td>46</td>\n",
       "      <td>8</td>\n",
       "      <td>11</td>\n",
       "      <td>30</td>\n",
       "      <td>4</td>\n",
       "      <td>4</td>\n",
       "      <td>2012</td>\n",
       "      <td>201246</td>\n",
       "      <td>47</td>\n",
       "      <td>7</td>\n",
       "      <td>11</td>\n",
       "      <td>30</td>\n",
       "      <td>4</td>\n",
       "      <td>4</td>\n",
       "      <td>2012</td>\n",
       "      <td>201247</td>\n",
       "      <td>0.0</td>\n",
       "      <td>1</td>\n",
       "      <td>1.0</td>\n",
       "      <td>False</td>\n",
       "      <td>0.208951</td>\n",
       "    </tr>\n",
       "    <tr>\n",
       "      <th>1</th>\n",
       "      <td>32491</td>\n",
       "      <td>2012-11-01 00:01:37</td>\n",
       "      <td>24</td>\n",
       "      <td>216</td>\n",
       "      <td>NaN</td>\n",
       "      <td>NaN</td>\n",
       "      <td>225</td>\n",
       "      <td>20797</td>\n",
       "      <td>3.0</td>\n",
       "      <td>3.0</td>\n",
       "      <td>0</td>\n",
       "      <td>4.65</td>\n",
       "      <td>0.1955</td>\n",
       "      <td>4.97</td>\n",
       "      <td>NaN</td>\n",
       "      <td>79.220001</td>\n",
       "      <td>0</td>\n",
       "      <td>14083</td>\n",
       "      <td>2</td>\n",
       "      <td>16</td>\n",
       "      <td>1</td>\n",
       "      <td>0</td>\n",
       "      <td>1</td>\n",
       "      <td>1</td>\n",
       "      <td>NaN</td>\n",
       "      <td>NaN</td>\n",
       "      <td>0</td>\n",
       "      <td>2.0</td>\n",
       "      <td>NaN</td>\n",
       "      <td>NaN</td>\n",
       "      <td>NaN</td>\n",
       "      <td>False</td>\n",
       "      <td>False</td>\n",
       "      <td>False</td>\n",
       "      <td>True</td>\n",
       "      <td>79.220001</td>\n",
       "      <td>158.440002</td>\n",
       "      <td>1</td>\n",
       "      <td>4.4545</td>\n",
       "      <td>4.8455</td>\n",
       "      <td>0.909075</td>\n",
       "      <td>7.004752</td>\n",
       "      <td>2.295248</td>\n",
       "      <td>-10.949597</td>\n",
       "      <td>0.333333</td>\n",
       "      <td>&lt;NA&gt;</td>\n",
       "      <td>&lt;NA&gt;</td>\n",
       "      <td>6275.808594</td>\n",
       "      <td>1.898835</td>\n",
       "      <td>0.012623</td>\n",
       "      <td>1.697452</td>\n",
       "      <td>0.696356</td>\n",
       "      <td>0.201207</td>\n",
       "      <td>144.026855</td>\n",
       "      <td>NaN</td>\n",
       "      <td>NaN</td>\n",
       "      <td>NaN</td>\n",
       "      <td>NaN</td>\n",
       "      <td>NaN</td>\n",
       "      <td>NaN</td>\n",
       "      <td>-64.806854</td>\n",
       "      <td>-64.806854</td>\n",
       "      <td>14.413147</td>\n",
       "      <td>NaN</td>\n",
       "      <td>NaN</td>\n",
       "      <td>NaN</td>\n",
       "      <td>3.0</td>\n",
       "      <td>6.0</td>\n",
       "      <td>0.0</td>\n",
       "      <td>3.0</td>\n",
       "      <td>3.0</td>\n",
       "      <td>3.00</td>\n",
       "      <td>26.406658</td>\n",
       "      <td>26.406658</td>\n",
       "      <td>1.421713</td>\n",
       "      <td>1.421713</td>\n",
       "      <td>2.285714</td>\n",
       "      <td>8.0</td>\n",
       "      <td>2012-11-01</td>\n",
       "      <td>2012-11-17</td>\n",
       "      <td>2012-11-19</td>\n",
       "      <td>46</td>\n",
       "      <td>8</td>\n",
       "      <td>11</td>\n",
       "      <td>30</td>\n",
       "      <td>4</td>\n",
       "      <td>4</td>\n",
       "      <td>2012</td>\n",
       "      <td>201246</td>\n",
       "      <td>47</td>\n",
       "      <td>7</td>\n",
       "      <td>11</td>\n",
       "      <td>30</td>\n",
       "      <td>4</td>\n",
       "      <td>4</td>\n",
       "      <td>2012</td>\n",
       "      <td>201247</td>\n",
       "      <td>0.0</td>\n",
       "      <td>1</td>\n",
       "      <td>1.0</td>\n",
       "      <td>False</td>\n",
       "      <td>-0.773198</td>\n",
       "    </tr>\n",
       "  </tbody>\n",
       "</table>\n",
       "</div>"
      ],
      "text/plain": [
       "   srch_id           date_time  site_id  visitor_location_country_id  \\\n",
       "0    32491 2012-11-01 00:01:37       24                          216   \n",
       "1    32491 2012-11-01 00:01:37       24                          216   \n",
       "\n",
       "   visitor_hist_starrating  visitor_hist_adr_usd  prop_country_id  prop_id  \\\n",
       "0                      NaN                   NaN              225      327   \n",
       "1                      NaN                   NaN              225    20797   \n",
       "\n",
       "   prop_starrating  prop_review_score  prop_brand_bool  prop_location_score1  \\\n",
       "0              4.0                4.5                0                  3.66   \n",
       "1              3.0                3.0                0                  4.65   \n",
       "\n",
       "   prop_location_score2  prop_log_historical_price  position   price_usd  \\\n",
       "0                0.1358                       5.31       NaN  142.710007   \n",
       "1                0.1955                       4.97       NaN   79.220001   \n",
       "\n",
       "   promotion_flag  srch_destination_id  srch_length_of_stay  \\\n",
       "0               0                14083                    2   \n",
       "1               0                14083                    2   \n",
       "\n",
       "   srch_booking_window  srch_adults_count  srch_children_count  \\\n",
       "0                   16                  1                    0   \n",
       "1                   16                  1                    0   \n",
       "\n",
       "   srch_room_count  srch_saturday_night_bool  srch_query_affinity_score  \\\n",
       "0                1                         1                        NaN   \n",
       "1                1                         1                        NaN   \n",
       "\n",
       "   orig_destination_distance  random_bool  comp3_rate_percent_diff  \\\n",
       "0                        NaN            0                      4.0   \n",
       "1                        NaN            0                      2.0   \n",
       "\n",
       "   click_bool  gross_bookings_usd  booking_bool   test    val  train  subm  \\\n",
       "0         NaN                 NaN           NaN  False  False  False  True   \n",
       "1         NaN                 NaN           NaN  False  False  False  True   \n",
       "\n",
       "   price_per_day  price_per_trip  date_time_ordinal  prop_location_score_diff  \\\n",
       "0     142.710007      285.420013                  1                    3.5242   \n",
       "1      79.220001      158.440002                  1                    4.4545   \n",
       "\n",
       "   prop_location_score_sum  prop_location_score_mul  \\\n",
       "0                   3.7958                 0.497028   \n",
       "1                   4.8455                 0.909075   \n",
       "\n",
       "   prop_location_score_diff_log  prop_location_score_sum_log  \\\n",
       "0                      6.540434                     0.779566   \n",
       "1                      7.004752                     2.295248   \n",
       "\n",
       "   prop_location_score_mul_log  ratio_of_comp_with_lower_price_than_expedia  \\\n",
       "0                   -10.542389                                          NaN   \n",
       "1                   -10.949597                                     0.333333   \n",
       "\n",
       "   comp5_rate_percent_diff_signed  comp8_rate_percent_diff_signed  \\\n",
       "0                             7.0                            <NA>   \n",
       "1                            <NA>                            <NA>   \n",
       "\n",
       "   price_per_day_pow_2  price_per_day_log_10  price_per_day_reciprocal  \\\n",
       "0         20366.146484              2.154454                  0.007007   \n",
       "1          6275.808594              1.898835                  0.012623   \n",
       "\n",
       "   prop_log_historical_price_pow_0.33  prop_log_historical_price_log_10  \\\n",
       "0                            1.734927                          0.725095   \n",
       "1                            1.697452                          0.696356   \n",
       "\n",
       "   prop_log_historical_price_reciprocal  prop_historical_price  \\\n",
       "0                              0.188324             202.350220   \n",
       "1                              0.201207             144.026855   \n",
       "\n",
       "   price_diff_to_usr_hist  price_ratio_to_usr_hist  \\\n",
       "0                     NaN                      NaN   \n",
       "1                     NaN                      NaN   \n",
       "\n",
       "   price_per_day_diff_to_usr_hist  price_per_day_ratio_to_usr_hist  \\\n",
       "0                             NaN                              NaN   \n",
       "1                             NaN                              NaN   \n",
       "\n",
       "   price_per_trip_diff_to_usr_hist  price_per_trip_ratio_to_usr_hist  \\\n",
       "0                              NaN                               NaN   \n",
       "1                              NaN                               NaN   \n",
       "\n",
       "   price_diff_to_place_hist_price  price_per_day_diff_to_place_hist_price  \\\n",
       "0                      -59.640213                              -59.640213   \n",
       "1                      -64.806854                              -64.806854   \n",
       "\n",
       "   price_per_trip_diff_to_place_hist_price  place_hist_price_diff_usr_hist  \\\n",
       "0                                83.069794                             NaN   \n",
       "1                                14.413147                             NaN   \n",
       "\n",
       "   prop_star_usr_hist_diff  prop_review_usr_hist_diff  \\\n",
       "0                      NaN                        NaN   \n",
       "1                      NaN                        NaN   \n",
       "\n",
       "   prop_starrating_bonus_chain  prop_star_review_sum  prop_star_review_diff  \\\n",
       "0                          4.0                   8.5                   -0.5   \n",
       "1                          3.0                   6.0                    0.0   \n",
       "\n",
       "   prop_star_review_min  prop_star_review_max  prop_star_review_mean  \\\n",
       "0                   4.0                   4.5                   4.25   \n",
       "1                   3.0                   3.0                   3.00   \n",
       "\n",
       "   price_per_star  price_per_review_score  price_per_star_log_10  \\\n",
       "0       35.677493               31.713328               1.552394   \n",
       "1       26.406658               26.406658               1.421713   \n",
       "\n",
       "   price_per_review_score_log_10  booking_weeks_ahead  \\\n",
       "0                       1.501242             2.285714   \n",
       "1                       1.421713             2.285714   \n",
       "\n",
       "   len_of_stay_to_booking_ahead_ratio       date trip_start_date  \\\n",
       "0                                 8.0 2012-11-01      2012-11-17   \n",
       "1                                 8.0 2012-11-01      2012-11-17   \n",
       "\n",
       "  trip_end_date  trip_start_date_week  trip_start_date_week_mid_summer_index  \\\n",
       "0    2012-11-19                    46                                      8   \n",
       "1    2012-11-19                    46                                      8   \n",
       "\n",
       "   trip_start_date_month  trip_start_date_days_in_month  \\\n",
       "0                     11                             30   \n",
       "1                     11                             30   \n",
       "\n",
       "   trip_start_date_quarter  trip_start_date_season_num  trip_start_date_year  \\\n",
       "0                        4                           4                  2012   \n",
       "1                        4                           4                  2012   \n",
       "\n",
       "   trip_start_date_week_id  trip_end_date_week  \\\n",
       "0                   201246                  47   \n",
       "1                   201246                  47   \n",
       "\n",
       "   trip_end_date_week_mid_summer_index  trip_end_date_month  \\\n",
       "0                                    7                   11   \n",
       "1                                    7                   11   \n",
       "\n",
       "   trip_end_date_days_in_month  trip_end_date_quarter  \\\n",
       "0                           30                      4   \n",
       "1                           30                      4   \n",
       "\n",
       "   trip_end_date_season_num  trip_end_date_year  trip_end_date_week_id  \\\n",
       "0                         4                2012                 201247   \n",
       "1                         4                2012                 201247   \n",
       "\n",
       "   children_per_adult  total_people  people_per_room  separate_children_room  \\\n",
       "0                 0.0             1              1.0                   False   \n",
       "1                 0.0             1              1.0                   False   \n",
       "\n",
       "   price_usd_log10_norm_by_srch_id  \n",
       "0                         0.208951  \n",
       "1                        -0.773198  "
      ]
     },
     "execution_count": 83,
     "metadata": {},
     "output_type": "execute_result"
    }
   ],
   "source": [
    "df = normalize_features(df, group_key=\"srch_id\", \n",
    "                        target_column=\"price_usd\",\n",
    "                        take_log10=True,\n",
    "                       )\n",
    "df.head(2)"
   ]
  },
  {
   "cell_type": "code",
   "execution_count": 84,
   "id": "b6de83fd",
   "metadata": {
    "ExecuteTime": {
     "end_time": "2022-05-27T14:24:56.152479Z",
     "start_time": "2022-05-27T14:24:56.031203Z"
    }
   },
   "outputs": [
    {
     "data": {
      "text/plain": [
       "8.30852036747053e-05"
      ]
     },
     "execution_count": 84,
     "metadata": {},
     "output_type": "execute_result"
    }
   ],
   "source": [
    "df['price_usd_log10_norm_by_srch_id'].isna().mean()"
   ]
  },
  {
   "cell_type": "code",
   "execution_count": 85,
   "id": "76490843",
   "metadata": {
    "ExecuteTime": {
     "end_time": "2022-05-27T14:27:37.994810Z",
     "start_time": "2022-05-27T14:24:56.154318Z"
    }
   },
   "outputs": [
    {
     "data": {
      "text/html": [
       "<div>\n",
       "<style scoped>\n",
       "    .dataframe tbody tr th:only-of-type {\n",
       "        vertical-align: middle;\n",
       "    }\n",
       "\n",
       "    .dataframe tbody tr th {\n",
       "        vertical-align: top;\n",
       "    }\n",
       "\n",
       "    .dataframe thead th {\n",
       "        text-align: right;\n",
       "    }\n",
       "</style>\n",
       "<table border=\"1\" class=\"dataframe\">\n",
       "  <thead>\n",
       "    <tr style=\"text-align: right;\">\n",
       "      <th></th>\n",
       "      <th>srch_id</th>\n",
       "      <th>date_time</th>\n",
       "      <th>site_id</th>\n",
       "      <th>visitor_location_country_id</th>\n",
       "      <th>visitor_hist_starrating</th>\n",
       "      <th>visitor_hist_adr_usd</th>\n",
       "      <th>prop_country_id</th>\n",
       "      <th>prop_id</th>\n",
       "      <th>prop_starrating</th>\n",
       "      <th>prop_review_score</th>\n",
       "      <th>prop_brand_bool</th>\n",
       "      <th>prop_location_score1</th>\n",
       "      <th>prop_location_score2</th>\n",
       "      <th>prop_log_historical_price</th>\n",
       "      <th>position</th>\n",
       "      <th>price_usd</th>\n",
       "      <th>promotion_flag</th>\n",
       "      <th>srch_destination_id</th>\n",
       "      <th>srch_length_of_stay</th>\n",
       "      <th>srch_booking_window</th>\n",
       "      <th>srch_adults_count</th>\n",
       "      <th>srch_children_count</th>\n",
       "      <th>srch_room_count</th>\n",
       "      <th>srch_saturday_night_bool</th>\n",
       "      <th>srch_query_affinity_score</th>\n",
       "      <th>orig_destination_distance</th>\n",
       "      <th>random_bool</th>\n",
       "      <th>comp3_rate_percent_diff</th>\n",
       "      <th>click_bool</th>\n",
       "      <th>gross_bookings_usd</th>\n",
       "      <th>booking_bool</th>\n",
       "      <th>test</th>\n",
       "      <th>val</th>\n",
       "      <th>train</th>\n",
       "      <th>subm</th>\n",
       "      <th>price_per_day</th>\n",
       "      <th>price_per_trip</th>\n",
       "      <th>date_time_ordinal</th>\n",
       "      <th>prop_location_score_diff</th>\n",
       "      <th>prop_location_score_sum</th>\n",
       "      <th>prop_location_score_mul</th>\n",
       "      <th>prop_location_score_diff_log</th>\n",
       "      <th>prop_location_score_sum_log</th>\n",
       "      <th>prop_location_score_mul_log</th>\n",
       "      <th>ratio_of_comp_with_lower_price_than_expedia</th>\n",
       "      <th>comp5_rate_percent_diff_signed</th>\n",
       "      <th>comp8_rate_percent_diff_signed</th>\n",
       "      <th>price_per_day_pow_2</th>\n",
       "      <th>price_per_day_log_10</th>\n",
       "      <th>price_per_day_reciprocal</th>\n",
       "      <th>prop_log_historical_price_pow_0.33</th>\n",
       "      <th>prop_log_historical_price_log_10</th>\n",
       "      <th>prop_log_historical_price_reciprocal</th>\n",
       "      <th>prop_historical_price</th>\n",
       "      <th>price_diff_to_usr_hist</th>\n",
       "      <th>price_ratio_to_usr_hist</th>\n",
       "      <th>price_per_day_diff_to_usr_hist</th>\n",
       "      <th>price_per_day_ratio_to_usr_hist</th>\n",
       "      <th>price_per_trip_diff_to_usr_hist</th>\n",
       "      <th>price_per_trip_ratio_to_usr_hist</th>\n",
       "      <th>price_diff_to_place_hist_price</th>\n",
       "      <th>price_per_day_diff_to_place_hist_price</th>\n",
       "      <th>price_per_trip_diff_to_place_hist_price</th>\n",
       "      <th>place_hist_price_diff_usr_hist</th>\n",
       "      <th>prop_star_usr_hist_diff</th>\n",
       "      <th>prop_review_usr_hist_diff</th>\n",
       "      <th>prop_starrating_bonus_chain</th>\n",
       "      <th>prop_star_review_sum</th>\n",
       "      <th>prop_star_review_diff</th>\n",
       "      <th>prop_star_review_min</th>\n",
       "      <th>prop_star_review_max</th>\n",
       "      <th>prop_star_review_mean</th>\n",
       "      <th>price_per_star</th>\n",
       "      <th>price_per_review_score</th>\n",
       "      <th>price_per_star_log_10</th>\n",
       "      <th>price_per_review_score_log_10</th>\n",
       "      <th>booking_weeks_ahead</th>\n",
       "      <th>len_of_stay_to_booking_ahead_ratio</th>\n",
       "      <th>date</th>\n",
       "      <th>trip_start_date</th>\n",
       "      <th>trip_end_date</th>\n",
       "      <th>trip_start_date_week</th>\n",
       "      <th>trip_start_date_week_mid_summer_index</th>\n",
       "      <th>trip_start_date_month</th>\n",
       "      <th>trip_start_date_days_in_month</th>\n",
       "      <th>trip_start_date_quarter</th>\n",
       "      <th>trip_start_date_season_num</th>\n",
       "      <th>trip_start_date_year</th>\n",
       "      <th>trip_start_date_week_id</th>\n",
       "      <th>trip_end_date_week</th>\n",
       "      <th>trip_end_date_week_mid_summer_index</th>\n",
       "      <th>trip_end_date_month</th>\n",
       "      <th>trip_end_date_days_in_month</th>\n",
       "      <th>trip_end_date_quarter</th>\n",
       "      <th>trip_end_date_season_num</th>\n",
       "      <th>trip_end_date_year</th>\n",
       "      <th>trip_end_date_week_id</th>\n",
       "      <th>children_per_adult</th>\n",
       "      <th>total_people</th>\n",
       "      <th>people_per_room</th>\n",
       "      <th>separate_children_room</th>\n",
       "      <th>price_usd_log10_norm_by_srch_id</th>\n",
       "      <th>price_usd_log10_norm_by_prop_id</th>\n",
       "    </tr>\n",
       "  </thead>\n",
       "  <tbody>\n",
       "    <tr>\n",
       "      <th>0</th>\n",
       "      <td>32491</td>\n",
       "      <td>2012-11-01 00:01:37</td>\n",
       "      <td>24</td>\n",
       "      <td>216</td>\n",
       "      <td>NaN</td>\n",
       "      <td>NaN</td>\n",
       "      <td>225</td>\n",
       "      <td>327</td>\n",
       "      <td>4.0</td>\n",
       "      <td>4.5</td>\n",
       "      <td>0</td>\n",
       "      <td>3.66</td>\n",
       "      <td>0.1358</td>\n",
       "      <td>5.31</td>\n",
       "      <td>NaN</td>\n",
       "      <td>142.710007</td>\n",
       "      <td>0</td>\n",
       "      <td>14083</td>\n",
       "      <td>2</td>\n",
       "      <td>16</td>\n",
       "      <td>1</td>\n",
       "      <td>0</td>\n",
       "      <td>1</td>\n",
       "      <td>1</td>\n",
       "      <td>NaN</td>\n",
       "      <td>NaN</td>\n",
       "      <td>0</td>\n",
       "      <td>4.0</td>\n",
       "      <td>NaN</td>\n",
       "      <td>NaN</td>\n",
       "      <td>NaN</td>\n",
       "      <td>False</td>\n",
       "      <td>False</td>\n",
       "      <td>False</td>\n",
       "      <td>True</td>\n",
       "      <td>142.710007</td>\n",
       "      <td>285.420013</td>\n",
       "      <td>1</td>\n",
       "      <td>3.5242</td>\n",
       "      <td>3.7958</td>\n",
       "      <td>0.497028</td>\n",
       "      <td>6.540434</td>\n",
       "      <td>0.779566</td>\n",
       "      <td>-10.542389</td>\n",
       "      <td>NaN</td>\n",
       "      <td>7.0</td>\n",
       "      <td>&lt;NA&gt;</td>\n",
       "      <td>20366.146484</td>\n",
       "      <td>2.154454</td>\n",
       "      <td>0.007007</td>\n",
       "      <td>1.734927</td>\n",
       "      <td>0.725095</td>\n",
       "      <td>0.188324</td>\n",
       "      <td>202.350220</td>\n",
       "      <td>NaN</td>\n",
       "      <td>NaN</td>\n",
       "      <td>NaN</td>\n",
       "      <td>NaN</td>\n",
       "      <td>NaN</td>\n",
       "      <td>NaN</td>\n",
       "      <td>-59.640213</td>\n",
       "      <td>-59.640213</td>\n",
       "      <td>83.069794</td>\n",
       "      <td>NaN</td>\n",
       "      <td>NaN</td>\n",
       "      <td>NaN</td>\n",
       "      <td>4.0</td>\n",
       "      <td>8.5</td>\n",
       "      <td>-0.5</td>\n",
       "      <td>4.0</td>\n",
       "      <td>4.5</td>\n",
       "      <td>4.25</td>\n",
       "      <td>35.677493</td>\n",
       "      <td>31.713328</td>\n",
       "      <td>1.552394</td>\n",
       "      <td>1.501242</td>\n",
       "      <td>2.285714</td>\n",
       "      <td>8.0</td>\n",
       "      <td>2012-11-01</td>\n",
       "      <td>2012-11-17</td>\n",
       "      <td>2012-11-19</td>\n",
       "      <td>46</td>\n",
       "      <td>8</td>\n",
       "      <td>11</td>\n",
       "      <td>30</td>\n",
       "      <td>4</td>\n",
       "      <td>4</td>\n",
       "      <td>2012</td>\n",
       "      <td>201246</td>\n",
       "      <td>47</td>\n",
       "      <td>7</td>\n",
       "      <td>11</td>\n",
       "      <td>30</td>\n",
       "      <td>4</td>\n",
       "      <td>4</td>\n",
       "      <td>2012</td>\n",
       "      <td>201247</td>\n",
       "      <td>0.0</td>\n",
       "      <td>1</td>\n",
       "      <td>1.0</td>\n",
       "      <td>False</td>\n",
       "      <td>0.208951</td>\n",
       "      <td>-0.180289</td>\n",
       "    </tr>\n",
       "    <tr>\n",
       "      <th>1</th>\n",
       "      <td>84032</td>\n",
       "      <td>2013-05-30 14:07:47</td>\n",
       "      <td>24</td>\n",
       "      <td>216</td>\n",
       "      <td>NaN</td>\n",
       "      <td>NaN</td>\n",
       "      <td>225</td>\n",
       "      <td>327</td>\n",
       "      <td>4.0</td>\n",
       "      <td>4.5</td>\n",
       "      <td>0</td>\n",
       "      <td>3.66</td>\n",
       "      <td>0.0385</td>\n",
       "      <td>5.37</td>\n",
       "      <td>28.0</td>\n",
       "      <td>162.279999</td>\n",
       "      <td>1</td>\n",
       "      <td>11308</td>\n",
       "      <td>3</td>\n",
       "      <td>45</td>\n",
       "      <td>2</td>\n",
       "      <td>1</td>\n",
       "      <td>1</td>\n",
       "      <td>0</td>\n",
       "      <td>NaN</td>\n",
       "      <td>NaN</td>\n",
       "      <td>1</td>\n",
       "      <td>8.0</td>\n",
       "      <td>0.0</td>\n",
       "      <td>NaN</td>\n",
       "      <td>0.0</td>\n",
       "      <td>False</td>\n",
       "      <td>False</td>\n",
       "      <td>True</td>\n",
       "      <td>False</td>\n",
       "      <td>162.279999</td>\n",
       "      <td>486.839996</td>\n",
       "      <td>332340</td>\n",
       "      <td>3.6215</td>\n",
       "      <td>3.6985</td>\n",
       "      <td>0.140910</td>\n",
       "      <td>8.358960</td>\n",
       "      <td>-1.038960</td>\n",
       "      <td>-17.198195</td>\n",
       "      <td>NaN</td>\n",
       "      <td>NaN</td>\n",
       "      <td>&lt;NA&gt;</td>\n",
       "      <td>26334.798828</td>\n",
       "      <td>2.210265</td>\n",
       "      <td>0.006162</td>\n",
       "      <td>1.741372</td>\n",
       "      <td>0.729974</td>\n",
       "      <td>0.186220</td>\n",
       "      <td>214.862854</td>\n",
       "      <td>NaN</td>\n",
       "      <td>NaN</td>\n",
       "      <td>NaN</td>\n",
       "      <td>NaN</td>\n",
       "      <td>NaN</td>\n",
       "      <td>NaN</td>\n",
       "      <td>-52.582855</td>\n",
       "      <td>-52.582855</td>\n",
       "      <td>271.977142</td>\n",
       "      <td>NaN</td>\n",
       "      <td>NaN</td>\n",
       "      <td>NaN</td>\n",
       "      <td>4.0</td>\n",
       "      <td>8.5</td>\n",
       "      <td>-0.5</td>\n",
       "      <td>4.0</td>\n",
       "      <td>4.5</td>\n",
       "      <td>4.25</td>\n",
       "      <td>40.569990</td>\n",
       "      <td>36.062214</td>\n",
       "      <td>1.608205</td>\n",
       "      <td>1.557052</td>\n",
       "      <td>6.428571</td>\n",
       "      <td>15.0</td>\n",
       "      <td>2013-05-30</td>\n",
       "      <td>2013-07-14</td>\n",
       "      <td>2013-07-17</td>\n",
       "      <td>28</td>\n",
       "      <td>25</td>\n",
       "      <td>7</td>\n",
       "      <td>31</td>\n",
       "      <td>3</td>\n",
       "      <td>3</td>\n",
       "      <td>2013</td>\n",
       "      <td>201328</td>\n",
       "      <td>29</td>\n",
       "      <td>25</td>\n",
       "      <td>7</td>\n",
       "      <td>31</td>\n",
       "      <td>3</td>\n",
       "      <td>3</td>\n",
       "      <td>2013</td>\n",
       "      <td>201329</td>\n",
       "      <td>0.5</td>\n",
       "      <td>3</td>\n",
       "      <td>3.0</td>\n",
       "      <td>False</td>\n",
       "      <td>1.774799</td>\n",
       "      <td>0.728419</td>\n",
       "    </tr>\n",
       "  </tbody>\n",
       "</table>\n",
       "</div>"
      ],
      "text/plain": [
       "   srch_id           date_time  site_id  visitor_location_country_id  \\\n",
       "0    32491 2012-11-01 00:01:37       24                          216   \n",
       "1    84032 2013-05-30 14:07:47       24                          216   \n",
       "\n",
       "   visitor_hist_starrating  visitor_hist_adr_usd  prop_country_id  prop_id  \\\n",
       "0                      NaN                   NaN              225      327   \n",
       "1                      NaN                   NaN              225      327   \n",
       "\n",
       "   prop_starrating  prop_review_score  prop_brand_bool  prop_location_score1  \\\n",
       "0              4.0                4.5                0                  3.66   \n",
       "1              4.0                4.5                0                  3.66   \n",
       "\n",
       "   prop_location_score2  prop_log_historical_price  position   price_usd  \\\n",
       "0                0.1358                       5.31       NaN  142.710007   \n",
       "1                0.0385                       5.37      28.0  162.279999   \n",
       "\n",
       "   promotion_flag  srch_destination_id  srch_length_of_stay  \\\n",
       "0               0                14083                    2   \n",
       "1               1                11308                    3   \n",
       "\n",
       "   srch_booking_window  srch_adults_count  srch_children_count  \\\n",
       "0                   16                  1                    0   \n",
       "1                   45                  2                    1   \n",
       "\n",
       "   srch_room_count  srch_saturday_night_bool  srch_query_affinity_score  \\\n",
       "0                1                         1                        NaN   \n",
       "1                1                         0                        NaN   \n",
       "\n",
       "   orig_destination_distance  random_bool  comp3_rate_percent_diff  \\\n",
       "0                        NaN            0                      4.0   \n",
       "1                        NaN            1                      8.0   \n",
       "\n",
       "   click_bool  gross_bookings_usd  booking_bool   test    val  train   subm  \\\n",
       "0         NaN                 NaN           NaN  False  False  False   True   \n",
       "1         0.0                 NaN           0.0  False  False   True  False   \n",
       "\n",
       "   price_per_day  price_per_trip  date_time_ordinal  prop_location_score_diff  \\\n",
       "0     142.710007      285.420013                  1                    3.5242   \n",
       "1     162.279999      486.839996             332340                    3.6215   \n",
       "\n",
       "   prop_location_score_sum  prop_location_score_mul  \\\n",
       "0                   3.7958                 0.497028   \n",
       "1                   3.6985                 0.140910   \n",
       "\n",
       "   prop_location_score_diff_log  prop_location_score_sum_log  \\\n",
       "0                      6.540434                     0.779566   \n",
       "1                      8.358960                    -1.038960   \n",
       "\n",
       "   prop_location_score_mul_log  ratio_of_comp_with_lower_price_than_expedia  \\\n",
       "0                   -10.542389                                          NaN   \n",
       "1                   -17.198195                                          NaN   \n",
       "\n",
       "   comp5_rate_percent_diff_signed  comp8_rate_percent_diff_signed  \\\n",
       "0                             7.0                            <NA>   \n",
       "1                             NaN                            <NA>   \n",
       "\n",
       "   price_per_day_pow_2  price_per_day_log_10  price_per_day_reciprocal  \\\n",
       "0         20366.146484              2.154454                  0.007007   \n",
       "1         26334.798828              2.210265                  0.006162   \n",
       "\n",
       "   prop_log_historical_price_pow_0.33  prop_log_historical_price_log_10  \\\n",
       "0                            1.734927                          0.725095   \n",
       "1                            1.741372                          0.729974   \n",
       "\n",
       "   prop_log_historical_price_reciprocal  prop_historical_price  \\\n",
       "0                              0.188324             202.350220   \n",
       "1                              0.186220             214.862854   \n",
       "\n",
       "   price_diff_to_usr_hist  price_ratio_to_usr_hist  \\\n",
       "0                     NaN                      NaN   \n",
       "1                     NaN                      NaN   \n",
       "\n",
       "   price_per_day_diff_to_usr_hist  price_per_day_ratio_to_usr_hist  \\\n",
       "0                             NaN                              NaN   \n",
       "1                             NaN                              NaN   \n",
       "\n",
       "   price_per_trip_diff_to_usr_hist  price_per_trip_ratio_to_usr_hist  \\\n",
       "0                              NaN                               NaN   \n",
       "1                              NaN                               NaN   \n",
       "\n",
       "   price_diff_to_place_hist_price  price_per_day_diff_to_place_hist_price  \\\n",
       "0                      -59.640213                              -59.640213   \n",
       "1                      -52.582855                              -52.582855   \n",
       "\n",
       "   price_per_trip_diff_to_place_hist_price  place_hist_price_diff_usr_hist  \\\n",
       "0                                83.069794                             NaN   \n",
       "1                               271.977142                             NaN   \n",
       "\n",
       "   prop_star_usr_hist_diff  prop_review_usr_hist_diff  \\\n",
       "0                      NaN                        NaN   \n",
       "1                      NaN                        NaN   \n",
       "\n",
       "   prop_starrating_bonus_chain  prop_star_review_sum  prop_star_review_diff  \\\n",
       "0                          4.0                   8.5                   -0.5   \n",
       "1                          4.0                   8.5                   -0.5   \n",
       "\n",
       "   prop_star_review_min  prop_star_review_max  prop_star_review_mean  \\\n",
       "0                   4.0                   4.5                   4.25   \n",
       "1                   4.0                   4.5                   4.25   \n",
       "\n",
       "   price_per_star  price_per_review_score  price_per_star_log_10  \\\n",
       "0       35.677493               31.713328               1.552394   \n",
       "1       40.569990               36.062214               1.608205   \n",
       "\n",
       "   price_per_review_score_log_10  booking_weeks_ahead  \\\n",
       "0                       1.501242             2.285714   \n",
       "1                       1.557052             6.428571   \n",
       "\n",
       "   len_of_stay_to_booking_ahead_ratio       date trip_start_date  \\\n",
       "0                                 8.0 2012-11-01      2012-11-17   \n",
       "1                                15.0 2013-05-30      2013-07-14   \n",
       "\n",
       "  trip_end_date  trip_start_date_week  trip_start_date_week_mid_summer_index  \\\n",
       "0    2012-11-19                    46                                      8   \n",
       "1    2013-07-17                    28                                     25   \n",
       "\n",
       "   trip_start_date_month  trip_start_date_days_in_month  \\\n",
       "0                     11                             30   \n",
       "1                      7                             31   \n",
       "\n",
       "   trip_start_date_quarter  trip_start_date_season_num  trip_start_date_year  \\\n",
       "0                        4                           4                  2012   \n",
       "1                        3                           3                  2013   \n",
       "\n",
       "   trip_start_date_week_id  trip_end_date_week  \\\n",
       "0                   201246                  47   \n",
       "1                   201328                  29   \n",
       "\n",
       "   trip_end_date_week_mid_summer_index  trip_end_date_month  \\\n",
       "0                                    7                   11   \n",
       "1                                   25                    7   \n",
       "\n",
       "   trip_end_date_days_in_month  trip_end_date_quarter  \\\n",
       "0                           30                      4   \n",
       "1                           31                      3   \n",
       "\n",
       "   trip_end_date_season_num  trip_end_date_year  trip_end_date_week_id  \\\n",
       "0                         4                2012                 201247   \n",
       "1                         3                2013                 201329   \n",
       "\n",
       "   children_per_adult  total_people  people_per_room  separate_children_room  \\\n",
       "0                 0.0             1              1.0                   False   \n",
       "1                 0.5             3              3.0                   False   \n",
       "\n",
       "   price_usd_log10_norm_by_srch_id  price_usd_log10_norm_by_prop_id  \n",
       "0                         0.208951                        -0.180289  \n",
       "1                         1.774799                         0.728419  "
      ]
     },
     "execution_count": 85,
     "metadata": {},
     "output_type": "execute_result"
    }
   ],
   "source": [
    "df = normalize_features(df, group_key=\"prop_id\", \n",
    "                        target_column=\"price_usd\",\n",
    "                        take_log10=True,\n",
    "                       )\n",
    "df.head(2)"
   ]
  },
  {
   "cell_type": "code",
   "execution_count": 86,
   "id": "605b002d",
   "metadata": {
    "ExecuteTime": {
     "end_time": "2022-05-27T14:27:38.113282Z",
     "start_time": "2022-05-27T14:27:37.998948Z"
    }
   },
   "outputs": [
    {
     "data": {
      "text/plain": [
       "0.0012430514452691345"
      ]
     },
     "execution_count": 86,
     "metadata": {},
     "output_type": "execute_result"
    }
   ],
   "source": [
    "df['price_usd_log10_norm_by_prop_id'].isna().mean()"
   ]
  },
  {
   "cell_type": "code",
   "execution_count": 87,
   "id": "798a6711",
   "metadata": {
    "ExecuteTime": {
     "end_time": "2022-05-27T14:29:56.260105Z",
     "start_time": "2022-05-27T14:27:38.115957Z"
    }
   },
   "outputs": [
    {
     "data": {
      "text/html": [
       "<div>\n",
       "<style scoped>\n",
       "    .dataframe tbody tr th:only-of-type {\n",
       "        vertical-align: middle;\n",
       "    }\n",
       "\n",
       "    .dataframe tbody tr th {\n",
       "        vertical-align: top;\n",
       "    }\n",
       "\n",
       "    .dataframe thead th {\n",
       "        text-align: right;\n",
       "    }\n",
       "</style>\n",
       "<table border=\"1\" class=\"dataframe\">\n",
       "  <thead>\n",
       "    <tr style=\"text-align: right;\">\n",
       "      <th></th>\n",
       "      <th>srch_id</th>\n",
       "      <th>date_time</th>\n",
       "      <th>site_id</th>\n",
       "      <th>visitor_location_country_id</th>\n",
       "      <th>visitor_hist_starrating</th>\n",
       "      <th>visitor_hist_adr_usd</th>\n",
       "      <th>prop_country_id</th>\n",
       "      <th>prop_id</th>\n",
       "      <th>prop_starrating</th>\n",
       "      <th>prop_review_score</th>\n",
       "      <th>prop_brand_bool</th>\n",
       "      <th>prop_location_score1</th>\n",
       "      <th>prop_location_score2</th>\n",
       "      <th>prop_log_historical_price</th>\n",
       "      <th>position</th>\n",
       "      <th>price_usd</th>\n",
       "      <th>promotion_flag</th>\n",
       "      <th>srch_destination_id</th>\n",
       "      <th>srch_length_of_stay</th>\n",
       "      <th>srch_booking_window</th>\n",
       "      <th>srch_adults_count</th>\n",
       "      <th>srch_children_count</th>\n",
       "      <th>srch_room_count</th>\n",
       "      <th>srch_saturday_night_bool</th>\n",
       "      <th>srch_query_affinity_score</th>\n",
       "      <th>orig_destination_distance</th>\n",
       "      <th>random_bool</th>\n",
       "      <th>comp3_rate_percent_diff</th>\n",
       "      <th>click_bool</th>\n",
       "      <th>gross_bookings_usd</th>\n",
       "      <th>booking_bool</th>\n",
       "      <th>test</th>\n",
       "      <th>val</th>\n",
       "      <th>train</th>\n",
       "      <th>subm</th>\n",
       "      <th>price_per_day</th>\n",
       "      <th>price_per_trip</th>\n",
       "      <th>date_time_ordinal</th>\n",
       "      <th>prop_location_score_diff</th>\n",
       "      <th>prop_location_score_sum</th>\n",
       "      <th>prop_location_score_mul</th>\n",
       "      <th>prop_location_score_diff_log</th>\n",
       "      <th>prop_location_score_sum_log</th>\n",
       "      <th>prop_location_score_mul_log</th>\n",
       "      <th>ratio_of_comp_with_lower_price_than_expedia</th>\n",
       "      <th>comp5_rate_percent_diff_signed</th>\n",
       "      <th>comp8_rate_percent_diff_signed</th>\n",
       "      <th>price_per_day_pow_2</th>\n",
       "      <th>price_per_day_log_10</th>\n",
       "      <th>price_per_day_reciprocal</th>\n",
       "      <th>prop_log_historical_price_pow_0.33</th>\n",
       "      <th>prop_log_historical_price_log_10</th>\n",
       "      <th>prop_log_historical_price_reciprocal</th>\n",
       "      <th>prop_historical_price</th>\n",
       "      <th>price_diff_to_usr_hist</th>\n",
       "      <th>price_ratio_to_usr_hist</th>\n",
       "      <th>price_per_day_diff_to_usr_hist</th>\n",
       "      <th>price_per_day_ratio_to_usr_hist</th>\n",
       "      <th>price_per_trip_diff_to_usr_hist</th>\n",
       "      <th>price_per_trip_ratio_to_usr_hist</th>\n",
       "      <th>price_diff_to_place_hist_price</th>\n",
       "      <th>price_per_day_diff_to_place_hist_price</th>\n",
       "      <th>price_per_trip_diff_to_place_hist_price</th>\n",
       "      <th>place_hist_price_diff_usr_hist</th>\n",
       "      <th>prop_star_usr_hist_diff</th>\n",
       "      <th>prop_review_usr_hist_diff</th>\n",
       "      <th>prop_starrating_bonus_chain</th>\n",
       "      <th>prop_star_review_sum</th>\n",
       "      <th>prop_star_review_diff</th>\n",
       "      <th>prop_star_review_min</th>\n",
       "      <th>prop_star_review_max</th>\n",
       "      <th>prop_star_review_mean</th>\n",
       "      <th>price_per_star</th>\n",
       "      <th>price_per_review_score</th>\n",
       "      <th>price_per_star_log_10</th>\n",
       "      <th>price_per_review_score_log_10</th>\n",
       "      <th>booking_weeks_ahead</th>\n",
       "      <th>len_of_stay_to_booking_ahead_ratio</th>\n",
       "      <th>date</th>\n",
       "      <th>trip_start_date</th>\n",
       "      <th>trip_end_date</th>\n",
       "      <th>trip_start_date_week</th>\n",
       "      <th>trip_start_date_week_mid_summer_index</th>\n",
       "      <th>trip_start_date_month</th>\n",
       "      <th>trip_start_date_days_in_month</th>\n",
       "      <th>trip_start_date_quarter</th>\n",
       "      <th>trip_start_date_season_num</th>\n",
       "      <th>trip_start_date_year</th>\n",
       "      <th>trip_start_date_week_id</th>\n",
       "      <th>trip_end_date_week</th>\n",
       "      <th>trip_end_date_week_mid_summer_index</th>\n",
       "      <th>trip_end_date_month</th>\n",
       "      <th>trip_end_date_days_in_month</th>\n",
       "      <th>trip_end_date_quarter</th>\n",
       "      <th>trip_end_date_season_num</th>\n",
       "      <th>trip_end_date_year</th>\n",
       "      <th>trip_end_date_week_id</th>\n",
       "      <th>children_per_adult</th>\n",
       "      <th>total_people</th>\n",
       "      <th>people_per_room</th>\n",
       "      <th>separate_children_room</th>\n",
       "      <th>price_usd_log10_norm_by_srch_id</th>\n",
       "      <th>price_usd_log10_norm_by_prop_id</th>\n",
       "      <th>prop_starrating_norm_by_srch_id</th>\n",
       "    </tr>\n",
       "  </thead>\n",
       "  <tbody>\n",
       "    <tr>\n",
       "      <th>0</th>\n",
       "      <td>32491</td>\n",
       "      <td>2012-11-01 00:01:37</td>\n",
       "      <td>24</td>\n",
       "      <td>216</td>\n",
       "      <td>NaN</td>\n",
       "      <td>NaN</td>\n",
       "      <td>225</td>\n",
       "      <td>327</td>\n",
       "      <td>4.0</td>\n",
       "      <td>4.5</td>\n",
       "      <td>0</td>\n",
       "      <td>3.66</td>\n",
       "      <td>0.1358</td>\n",
       "      <td>5.31</td>\n",
       "      <td>NaN</td>\n",
       "      <td>142.710007</td>\n",
       "      <td>0</td>\n",
       "      <td>14083</td>\n",
       "      <td>2</td>\n",
       "      <td>16</td>\n",
       "      <td>1</td>\n",
       "      <td>0</td>\n",
       "      <td>1</td>\n",
       "      <td>1</td>\n",
       "      <td>NaN</td>\n",
       "      <td>NaN</td>\n",
       "      <td>0</td>\n",
       "      <td>4.0</td>\n",
       "      <td>NaN</td>\n",
       "      <td>NaN</td>\n",
       "      <td>NaN</td>\n",
       "      <td>False</td>\n",
       "      <td>False</td>\n",
       "      <td>False</td>\n",
       "      <td>True</td>\n",
       "      <td>142.710007</td>\n",
       "      <td>285.420013</td>\n",
       "      <td>1</td>\n",
       "      <td>3.5242</td>\n",
       "      <td>3.7958</td>\n",
       "      <td>0.497028</td>\n",
       "      <td>6.540434</td>\n",
       "      <td>0.779566</td>\n",
       "      <td>-10.542389</td>\n",
       "      <td>NaN</td>\n",
       "      <td>7.0</td>\n",
       "      <td>&lt;NA&gt;</td>\n",
       "      <td>20366.146484</td>\n",
       "      <td>2.154454</td>\n",
       "      <td>0.007007</td>\n",
       "      <td>1.734927</td>\n",
       "      <td>0.725095</td>\n",
       "      <td>0.188324</td>\n",
       "      <td>202.350220</td>\n",
       "      <td>NaN</td>\n",
       "      <td>NaN</td>\n",
       "      <td>NaN</td>\n",
       "      <td>NaN</td>\n",
       "      <td>NaN</td>\n",
       "      <td>NaN</td>\n",
       "      <td>-59.640213</td>\n",
       "      <td>-59.640213</td>\n",
       "      <td>83.069794</td>\n",
       "      <td>NaN</td>\n",
       "      <td>NaN</td>\n",
       "      <td>NaN</td>\n",
       "      <td>4.0</td>\n",
       "      <td>8.5</td>\n",
       "      <td>-0.5</td>\n",
       "      <td>4.0</td>\n",
       "      <td>4.5</td>\n",
       "      <td>4.25</td>\n",
       "      <td>35.677493</td>\n",
       "      <td>31.713328</td>\n",
       "      <td>1.552394</td>\n",
       "      <td>1.501242</td>\n",
       "      <td>2.285714</td>\n",
       "      <td>8.0</td>\n",
       "      <td>2012-11-01</td>\n",
       "      <td>2012-11-17</td>\n",
       "      <td>2012-11-19</td>\n",
       "      <td>46</td>\n",
       "      <td>8</td>\n",
       "      <td>11</td>\n",
       "      <td>30</td>\n",
       "      <td>4</td>\n",
       "      <td>4</td>\n",
       "      <td>2012</td>\n",
       "      <td>201246</td>\n",
       "      <td>47</td>\n",
       "      <td>7</td>\n",
       "      <td>11</td>\n",
       "      <td>30</td>\n",
       "      <td>4</td>\n",
       "      <td>4</td>\n",
       "      <td>2012</td>\n",
       "      <td>201247</td>\n",
       "      <td>0.0</td>\n",
       "      <td>1</td>\n",
       "      <td>1.0</td>\n",
       "      <td>False</td>\n",
       "      <td>0.208951</td>\n",
       "      <td>-0.180289</td>\n",
       "      <td>0.568731</td>\n",
       "    </tr>\n",
       "    <tr>\n",
       "      <th>1</th>\n",
       "      <td>32491</td>\n",
       "      <td>2012-11-01 00:01:37</td>\n",
       "      <td>24</td>\n",
       "      <td>216</td>\n",
       "      <td>NaN</td>\n",
       "      <td>NaN</td>\n",
       "      <td>225</td>\n",
       "      <td>20797</td>\n",
       "      <td>3.0</td>\n",
       "      <td>3.0</td>\n",
       "      <td>0</td>\n",
       "      <td>4.65</td>\n",
       "      <td>0.1955</td>\n",
       "      <td>4.97</td>\n",
       "      <td>NaN</td>\n",
       "      <td>79.220001</td>\n",
       "      <td>0</td>\n",
       "      <td>14083</td>\n",
       "      <td>2</td>\n",
       "      <td>16</td>\n",
       "      <td>1</td>\n",
       "      <td>0</td>\n",
       "      <td>1</td>\n",
       "      <td>1</td>\n",
       "      <td>NaN</td>\n",
       "      <td>NaN</td>\n",
       "      <td>0</td>\n",
       "      <td>2.0</td>\n",
       "      <td>NaN</td>\n",
       "      <td>NaN</td>\n",
       "      <td>NaN</td>\n",
       "      <td>False</td>\n",
       "      <td>False</td>\n",
       "      <td>False</td>\n",
       "      <td>True</td>\n",
       "      <td>79.220001</td>\n",
       "      <td>158.440002</td>\n",
       "      <td>1</td>\n",
       "      <td>4.4545</td>\n",
       "      <td>4.8455</td>\n",
       "      <td>0.909075</td>\n",
       "      <td>7.004752</td>\n",
       "      <td>2.295248</td>\n",
       "      <td>-10.949597</td>\n",
       "      <td>0.333333</td>\n",
       "      <td>&lt;NA&gt;</td>\n",
       "      <td>&lt;NA&gt;</td>\n",
       "      <td>6275.808594</td>\n",
       "      <td>1.898835</td>\n",
       "      <td>0.012623</td>\n",
       "      <td>1.697452</td>\n",
       "      <td>0.696356</td>\n",
       "      <td>0.201207</td>\n",
       "      <td>144.026855</td>\n",
       "      <td>NaN</td>\n",
       "      <td>NaN</td>\n",
       "      <td>NaN</td>\n",
       "      <td>NaN</td>\n",
       "      <td>NaN</td>\n",
       "      <td>NaN</td>\n",
       "      <td>-64.806854</td>\n",
       "      <td>-64.806854</td>\n",
       "      <td>14.413147</td>\n",
       "      <td>NaN</td>\n",
       "      <td>NaN</td>\n",
       "      <td>NaN</td>\n",
       "      <td>3.0</td>\n",
       "      <td>6.0</td>\n",
       "      <td>0.0</td>\n",
       "      <td>3.0</td>\n",
       "      <td>3.0</td>\n",
       "      <td>3.00</td>\n",
       "      <td>26.406658</td>\n",
       "      <td>26.406658</td>\n",
       "      <td>1.421713</td>\n",
       "      <td>1.421713</td>\n",
       "      <td>2.285714</td>\n",
       "      <td>8.0</td>\n",
       "      <td>2012-11-01</td>\n",
       "      <td>2012-11-17</td>\n",
       "      <td>2012-11-19</td>\n",
       "      <td>46</td>\n",
       "      <td>8</td>\n",
       "      <td>11</td>\n",
       "      <td>30</td>\n",
       "      <td>4</td>\n",
       "      <td>4</td>\n",
       "      <td>2012</td>\n",
       "      <td>201246</td>\n",
       "      <td>47</td>\n",
       "      <td>7</td>\n",
       "      <td>11</td>\n",
       "      <td>30</td>\n",
       "      <td>4</td>\n",
       "      <td>4</td>\n",
       "      <td>2012</td>\n",
       "      <td>201247</td>\n",
       "      <td>0.0</td>\n",
       "      <td>1</td>\n",
       "      <td>1.0</td>\n",
       "      <td>False</td>\n",
       "      <td>-0.773198</td>\n",
       "      <td>-0.359120</td>\n",
       "      <td>-0.731226</td>\n",
       "    </tr>\n",
       "  </tbody>\n",
       "</table>\n",
       "</div>"
      ],
      "text/plain": [
       "   srch_id           date_time  site_id  visitor_location_country_id  \\\n",
       "0    32491 2012-11-01 00:01:37       24                          216   \n",
       "1    32491 2012-11-01 00:01:37       24                          216   \n",
       "\n",
       "   visitor_hist_starrating  visitor_hist_adr_usd  prop_country_id  prop_id  \\\n",
       "0                      NaN                   NaN              225      327   \n",
       "1                      NaN                   NaN              225    20797   \n",
       "\n",
       "   prop_starrating  prop_review_score  prop_brand_bool  prop_location_score1  \\\n",
       "0              4.0                4.5                0                  3.66   \n",
       "1              3.0                3.0                0                  4.65   \n",
       "\n",
       "   prop_location_score2  prop_log_historical_price  position   price_usd  \\\n",
       "0                0.1358                       5.31       NaN  142.710007   \n",
       "1                0.1955                       4.97       NaN   79.220001   \n",
       "\n",
       "   promotion_flag  srch_destination_id  srch_length_of_stay  \\\n",
       "0               0                14083                    2   \n",
       "1               0                14083                    2   \n",
       "\n",
       "   srch_booking_window  srch_adults_count  srch_children_count  \\\n",
       "0                   16                  1                    0   \n",
       "1                   16                  1                    0   \n",
       "\n",
       "   srch_room_count  srch_saturday_night_bool  srch_query_affinity_score  \\\n",
       "0                1                         1                        NaN   \n",
       "1                1                         1                        NaN   \n",
       "\n",
       "   orig_destination_distance  random_bool  comp3_rate_percent_diff  \\\n",
       "0                        NaN            0                      4.0   \n",
       "1                        NaN            0                      2.0   \n",
       "\n",
       "   click_bool  gross_bookings_usd  booking_bool   test    val  train  subm  \\\n",
       "0         NaN                 NaN           NaN  False  False  False  True   \n",
       "1         NaN                 NaN           NaN  False  False  False  True   \n",
       "\n",
       "   price_per_day  price_per_trip  date_time_ordinal  prop_location_score_diff  \\\n",
       "0     142.710007      285.420013                  1                    3.5242   \n",
       "1      79.220001      158.440002                  1                    4.4545   \n",
       "\n",
       "   prop_location_score_sum  prop_location_score_mul  \\\n",
       "0                   3.7958                 0.497028   \n",
       "1                   4.8455                 0.909075   \n",
       "\n",
       "   prop_location_score_diff_log  prop_location_score_sum_log  \\\n",
       "0                      6.540434                     0.779566   \n",
       "1                      7.004752                     2.295248   \n",
       "\n",
       "   prop_location_score_mul_log  ratio_of_comp_with_lower_price_than_expedia  \\\n",
       "0                   -10.542389                                          NaN   \n",
       "1                   -10.949597                                     0.333333   \n",
       "\n",
       "   comp5_rate_percent_diff_signed  comp8_rate_percent_diff_signed  \\\n",
       "0                             7.0                            <NA>   \n",
       "1                            <NA>                            <NA>   \n",
       "\n",
       "   price_per_day_pow_2  price_per_day_log_10  price_per_day_reciprocal  \\\n",
       "0         20366.146484              2.154454                  0.007007   \n",
       "1          6275.808594              1.898835                  0.012623   \n",
       "\n",
       "   prop_log_historical_price_pow_0.33  prop_log_historical_price_log_10  \\\n",
       "0                            1.734927                          0.725095   \n",
       "1                            1.697452                          0.696356   \n",
       "\n",
       "   prop_log_historical_price_reciprocal  prop_historical_price  \\\n",
       "0                              0.188324             202.350220   \n",
       "1                              0.201207             144.026855   \n",
       "\n",
       "   price_diff_to_usr_hist  price_ratio_to_usr_hist  \\\n",
       "0                     NaN                      NaN   \n",
       "1                     NaN                      NaN   \n",
       "\n",
       "   price_per_day_diff_to_usr_hist  price_per_day_ratio_to_usr_hist  \\\n",
       "0                             NaN                              NaN   \n",
       "1                             NaN                              NaN   \n",
       "\n",
       "   price_per_trip_diff_to_usr_hist  price_per_trip_ratio_to_usr_hist  \\\n",
       "0                              NaN                               NaN   \n",
       "1                              NaN                               NaN   \n",
       "\n",
       "   price_diff_to_place_hist_price  price_per_day_diff_to_place_hist_price  \\\n",
       "0                      -59.640213                              -59.640213   \n",
       "1                      -64.806854                              -64.806854   \n",
       "\n",
       "   price_per_trip_diff_to_place_hist_price  place_hist_price_diff_usr_hist  \\\n",
       "0                                83.069794                             NaN   \n",
       "1                                14.413147                             NaN   \n",
       "\n",
       "   prop_star_usr_hist_diff  prop_review_usr_hist_diff  \\\n",
       "0                      NaN                        NaN   \n",
       "1                      NaN                        NaN   \n",
       "\n",
       "   prop_starrating_bonus_chain  prop_star_review_sum  prop_star_review_diff  \\\n",
       "0                          4.0                   8.5                   -0.5   \n",
       "1                          3.0                   6.0                    0.0   \n",
       "\n",
       "   prop_star_review_min  prop_star_review_max  prop_star_review_mean  \\\n",
       "0                   4.0                   4.5                   4.25   \n",
       "1                   3.0                   3.0                   3.00   \n",
       "\n",
       "   price_per_star  price_per_review_score  price_per_star_log_10  \\\n",
       "0       35.677493               31.713328               1.552394   \n",
       "1       26.406658               26.406658               1.421713   \n",
       "\n",
       "   price_per_review_score_log_10  booking_weeks_ahead  \\\n",
       "0                       1.501242             2.285714   \n",
       "1                       1.421713             2.285714   \n",
       "\n",
       "   len_of_stay_to_booking_ahead_ratio       date trip_start_date  \\\n",
       "0                                 8.0 2012-11-01      2012-11-17   \n",
       "1                                 8.0 2012-11-01      2012-11-17   \n",
       "\n",
       "  trip_end_date  trip_start_date_week  trip_start_date_week_mid_summer_index  \\\n",
       "0    2012-11-19                    46                                      8   \n",
       "1    2012-11-19                    46                                      8   \n",
       "\n",
       "   trip_start_date_month  trip_start_date_days_in_month  \\\n",
       "0                     11                             30   \n",
       "1                     11                             30   \n",
       "\n",
       "   trip_start_date_quarter  trip_start_date_season_num  trip_start_date_year  \\\n",
       "0                        4                           4                  2012   \n",
       "1                        4                           4                  2012   \n",
       "\n",
       "   trip_start_date_week_id  trip_end_date_week  \\\n",
       "0                   201246                  47   \n",
       "1                   201246                  47   \n",
       "\n",
       "   trip_end_date_week_mid_summer_index  trip_end_date_month  \\\n",
       "0                                    7                   11   \n",
       "1                                    7                   11   \n",
       "\n",
       "   trip_end_date_days_in_month  trip_end_date_quarter  \\\n",
       "0                           30                      4   \n",
       "1                           30                      4   \n",
       "\n",
       "   trip_end_date_season_num  trip_end_date_year  trip_end_date_week_id  \\\n",
       "0                         4                2012                 201247   \n",
       "1                         4                2012                 201247   \n",
       "\n",
       "   children_per_adult  total_people  people_per_room  separate_children_room  \\\n",
       "0                 0.0             1              1.0                   False   \n",
       "1                 0.0             1              1.0                   False   \n",
       "\n",
       "   price_usd_log10_norm_by_srch_id  price_usd_log10_norm_by_prop_id  \\\n",
       "0                         0.208951                        -0.180289   \n",
       "1                        -0.773198                        -0.359120   \n",
       "\n",
       "   prop_starrating_norm_by_srch_id  \n",
       "0                         0.568731  \n",
       "1                        -0.731226  "
      ]
     },
     "execution_count": 87,
     "metadata": {},
     "output_type": "execute_result"
    }
   ],
   "source": [
    "df = normalize_features(df, group_key=\"srch_id\", \n",
    "                        target_column=\"prop_starrating\")\n",
    "df.head(2)"
   ]
  },
  {
   "cell_type": "code",
   "execution_count": 88,
   "id": "b7019f7d",
   "metadata": {
    "ExecuteTime": {
     "end_time": "2022-05-27T14:29:56.753336Z",
     "start_time": "2022-05-27T14:29:56.440200Z"
    }
   },
   "outputs": [
    {
     "data": {
      "text/plain": [
       "0.042211619223738166"
      ]
     },
     "execution_count": 88,
     "metadata": {},
     "output_type": "execute_result"
    }
   ],
   "source": [
    "df['prop_starrating_norm_by_srch_id'].isna().mean()"
   ]
  },
  {
   "cell_type": "code",
   "execution_count": 89,
   "id": "8fb2c5b1",
   "metadata": {
    "ExecuteTime": {
     "end_time": "2022-05-27T14:29:56.895014Z",
     "start_time": "2022-05-27T14:29:56.765545Z"
    }
   },
   "outputs": [
    {
     "data": {
      "text/plain": [
       "(9917530, 104)"
      ]
     },
     "execution_count": 89,
     "metadata": {},
     "output_type": "execute_result"
    }
   ],
   "source": [
    "df.shape"
   ]
  },
  {
   "cell_type": "code",
   "execution_count": 90,
   "id": "fab08ad8",
   "metadata": {
    "ExecuteTime": {
     "end_time": "2022-05-27T14:29:59.984211Z",
     "start_time": "2022-05-27T14:29:56.902949Z"
    }
   },
   "outputs": [],
   "source": [
    "# some of the columns commented in features_dict\n",
    "df.drop([\n",
    "    'trip_end_date_days_in_month',\n",
    "    'trip_start_date_days_in_month',\n",
    "    'trip_start_date',\n",
    "    'trip_end_date',\n",
    "    'prop_review_usr_hist_diff',\n",
    "    'place_hist_price_diff_usr_hist',\n",
    "    'prop_review_usr_hist_diff',\n",
    "    'price_per_day_diff_to_place_hist_price',\n",
    "    'price_per_trip_diff_to_place_hist_price',\n",
    "    'price_per_trip_ratio_to_usr_hist',\n",
    "    'price_per_trip_diff_to_usr_hist',\n",
    "    'price_per_day_ratio_to_usr_hist',\n",
    "    'price_per_day_diff_to_usr_hist'\n",
    "],\n",
    "        axis=1,\n",
    "        inplace=True)"
   ]
  },
  {
   "cell_type": "code",
   "execution_count": 91,
   "id": "21794eec",
   "metadata": {
    "ExecuteTime": {
     "end_time": "2022-05-27T14:30:00.023134Z",
     "start_time": "2022-05-27T14:29:59.987003Z"
    }
   },
   "outputs": [
    {
     "data": {
      "text/plain": [
       "(9917530, 92)"
      ]
     },
     "execution_count": 91,
     "metadata": {},
     "output_type": "execute_result"
    }
   ],
   "source": [
    "df.shape"
   ]
  },
  {
   "cell_type": "markdown",
   "id": "934c3fc8",
   "metadata": {},
   "source": [
    "## Order price per category and add position per category \n",
    "\n",
    "TODO:\\\n",
    "add price per prop_id and month/season\\\n",
    "add price per destination_id and month/season"
   ]
  },
  {
   "cell_type": "markdown",
   "id": "e8226323",
   "metadata": {},
   "source": [
    "totally safe as we always have srch_id granularity"
   ]
  },
  {
   "cell_type": "code",
   "execution_count": 92,
   "id": "4634101d",
   "metadata": {
    "ExecuteTime": {
     "end_time": "2022-05-27T14:30:28.740643Z",
     "start_time": "2022-05-27T14:30:00.025715Z"
    }
   },
   "outputs": [
    {
     "data": {
      "text/html": [
       "<div>\n",
       "<style scoped>\n",
       "    .dataframe tbody tr th:only-of-type {\n",
       "        vertical-align: middle;\n",
       "    }\n",
       "\n",
       "    .dataframe tbody tr th {\n",
       "        vertical-align: top;\n",
       "    }\n",
       "\n",
       "    .dataframe thead th {\n",
       "        text-align: right;\n",
       "    }\n",
       "</style>\n",
       "<table border=\"1\" class=\"dataframe\">\n",
       "  <thead>\n",
       "    <tr style=\"text-align: right;\">\n",
       "      <th></th>\n",
       "      <th>price_usd</th>\n",
       "      <th>price_index_per_srch_id</th>\n",
       "    </tr>\n",
       "  </thead>\n",
       "  <tbody>\n",
       "    <tr>\n",
       "      <th>947644</th>\n",
       "      <td>70.0</td>\n",
       "      <td>0</td>\n",
       "    </tr>\n",
       "    <tr>\n",
       "      <th>947654</th>\n",
       "      <td>79.0</td>\n",
       "      <td>1</td>\n",
       "    </tr>\n",
       "    <tr>\n",
       "      <th>947655</th>\n",
       "      <td>129.0</td>\n",
       "      <td>2</td>\n",
       "    </tr>\n",
       "    <tr>\n",
       "      <th>947648</th>\n",
       "      <td>135.0</td>\n",
       "      <td>3</td>\n",
       "    </tr>\n",
       "    <tr>\n",
       "      <th>947660</th>\n",
       "      <td>139.0</td>\n",
       "      <td>5</td>\n",
       "    </tr>\n",
       "    <tr>\n",
       "      <th>947656</th>\n",
       "      <td>139.0</td>\n",
       "      <td>4</td>\n",
       "    </tr>\n",
       "    <tr>\n",
       "      <th>947653</th>\n",
       "      <td>159.0</td>\n",
       "      <td>6</td>\n",
       "    </tr>\n",
       "    <tr>\n",
       "      <th>947661</th>\n",
       "      <td>160.0</td>\n",
       "      <td>7</td>\n",
       "    </tr>\n",
       "    <tr>\n",
       "      <th>947649</th>\n",
       "      <td>169.0</td>\n",
       "      <td>8</td>\n",
       "    </tr>\n",
       "    <tr>\n",
       "      <th>947663</th>\n",
       "      <td>181.0</td>\n",
       "      <td>9</td>\n",
       "    </tr>\n",
       "  </tbody>\n",
       "</table>\n",
       "</div>"
      ],
      "text/plain": [
       "        price_usd  price_index_per_srch_id\n",
       "947644       70.0                        0\n",
       "947654       79.0                        1\n",
       "947655      129.0                        2\n",
       "947648      135.0                        3\n",
       "947660      139.0                        5\n",
       "947656      139.0                        4\n",
       "947653      159.0                        6\n",
       "947661      160.0                        7\n",
       "947649      169.0                        8\n",
       "947663      181.0                        9"
      ]
     },
     "execution_count": 92,
     "metadata": {},
     "output_type": "execute_result"
    }
   ],
   "source": [
    "# Order price per srch_id \n",
    "df.sort_values(['srch_id', 'price_usd'], inplace=True)\n",
    "df['price_index_per_srch_id'] = df.groupby(['srch_id']).cumcount()\n",
    "df.sort_index(inplace=True)\n",
    "df[df['srch_id'] == 4][['price_usd', 'price_index_per_srch_id']].sort_values('price_usd').head(10)"
   ]
  },
  {
   "cell_type": "markdown",
   "id": "f7e0fdcd",
   "metadata": {},
   "source": [
    "TODO: check if not leaky"
   ]
  },
  {
   "cell_type": "code",
   "execution_count": 93,
   "id": "3cc8da17",
   "metadata": {
    "ExecuteTime": {
     "end_time": "2022-05-27T14:30:54.616434Z",
     "start_time": "2022-05-27T14:30:28.743673Z"
    }
   },
   "outputs": [],
   "source": [
    "# Order price per srch_destination_id \n",
    "df.sort_values(['srch_destination_id', 'price_usd'], inplace=True)\n",
    "df['price_index_per_srch_destination_id'] = df.groupby(['srch_destination_id']).cumcount()\n",
    "df.sort_index(inplace=True)"
   ]
  },
  {
   "cell_type": "code",
   "execution_count": 94,
   "id": "f7854df6",
   "metadata": {
    "ExecuteTime": {
     "end_time": "2022-05-27T14:30:55.014672Z",
     "start_time": "2022-05-27T14:30:54.625067Z"
    }
   },
   "outputs": [
    {
     "data": {
      "image/png": "[encoded data removed]",
      "text/plain": [
       "<Figure size 432x288 with 1 Axes>"
      ]
     },
     "metadata": {
      "needs_background": "light"
     },
     "output_type": "display_data"
    }
   ],
   "source": [
    "df.loc[df['train'] & (df['srch_destination_id'] == 11197), 'price_usd'].hist(density=True, alpha=0.3, label='train')\n",
    "df.loc[df['val'] & (df['srch_destination_id'] == 11197), 'price_usd'].hist(density=True, alpha=0.3, label='val')\n",
    "df.loc[df['test'] & (df['srch_destination_id'] == 11197), 'price_usd'].hist(density=True, alpha=0.3, label='test')\n",
    "df.loc[df['subm'] & (df['srch_destination_id'] == 11197), 'price_usd'].hist(density=True, alpha=0.3, label='subm')\n",
    "# df.loc[df['subm'] & (df['srch_destination_id'] == 11197), 'price_usd'].hist(density=True, alpha=0.3)\n",
    "plt.legend();"
   ]
  },
  {
   "cell_type": "markdown",
   "id": "2494457a",
   "metadata": {},
   "source": [
    "the hists are not perfectly the same but price is known in advance in this competition. "
   ]
  },
  {
   "cell_type": "markdown",
   "id": "038b0652",
   "metadata": {},
   "source": [
    "this is tricky. but if we know the price in advance, why not"
   ]
  },
  {
   "cell_type": "code",
   "execution_count": 95,
   "id": "c4b9a0c9",
   "metadata": {
    "ExecuteTime": {
     "end_time": "2022-05-27T14:31:30.656157Z",
     "start_time": "2022-05-27T14:30:55.016932Z"
    }
   },
   "outputs": [],
   "source": [
    "# Order price per prop_id \n",
    "df.sort_values(['prop_id', 'price_usd'], inplace=True)\n",
    "df['price_index_per_prop_id'] = df.groupby(['prop_id']).cumcount()\n",
    "df.sort_index(inplace=True)"
   ]
  },
  {
   "cell_type": "markdown",
   "id": "b86e3e8e",
   "metadata": {},
   "source": [
    "## Others"
   ]
  },
  {
   "cell_type": "markdown",
   "id": "5125d2c6",
   "metadata": {},
   "source": [
    "**srch_query_affinity_score** - The log of the probability a hotel will be clicked on in Internet searches (hence the values are negative)  A null signifies there are no data (i.e. hotel did not register in any searches)"
   ]
  },
  {
   "cell_type": "code",
   "execution_count": 96,
   "id": "1341416d",
   "metadata": {
    "ExecuteTime": {
     "end_time": "2022-05-27T14:31:31.018419Z",
     "start_time": "2022-05-27T14:31:30.671617Z"
    }
   },
   "outputs": [],
   "source": [
    "df['srch_query_affinity_score_prob'] = np.exp(df['srch_query_affinity_score'])"
   ]
  },
  {
   "cell_type": "markdown",
   "id": "df33ab60",
   "metadata": {},
   "source": [
    "# Feature engineering with respect to the time "
   ]
  },
  {
   "cell_type": "markdown",
   "id": "5e9996c6",
   "metadata": {},
   "source": [
    "## prop_starrating_monotonic (feature from winner)"
   ]
  },
  {
   "cell_type": "code",
   "execution_count": 97,
   "id": "e4f5132c",
   "metadata": {
    "ExecuteTime": {
     "end_time": "2022-05-27T14:31:31.103368Z",
     "start_time": "2022-05-27T14:31:31.043513Z"
    }
   },
   "outputs": [],
   "source": [
    "# mean_booking_starrating = df[df['train'] & df['booking_bool']]['prop_starrating'].mean()\n",
    "# print(mean_booking_starrating)\n",
    "\n",
    "# df['prop_starrating_monotonic'] = abs(df['prop_starrating'] - mean_booking_starrating) \n",
    "# df['prop_starrating_monotonic'].hist();"
   ]
  },
  {
   "cell_type": "markdown",
   "id": "daf37b99",
   "metadata": {},
   "source": [
    "## Booking and clicking probs during train"
   ]
  },
  {
   "cell_type": "code",
   "execution_count": 98,
   "id": "7d3f3828",
   "metadata": {
    "ExecuteTime": {
     "end_time": "2022-05-27T14:31:35.993592Z",
     "start_time": "2022-05-27T14:31:31.107008Z"
    }
   },
   "outputs": [
    {
     "data": {
      "text/html": [
       "<div>\n",
       "<style scoped>\n",
       "    .dataframe tbody tr th:only-of-type {\n",
       "        vertical-align: middle;\n",
       "    }\n",
       "\n",
       "    .dataframe tbody tr th {\n",
       "        vertical-align: top;\n",
       "    }\n",
       "\n",
       "    .dataframe thead th {\n",
       "        text-align: right;\n",
       "    }\n",
       "</style>\n",
       "<table border=\"1\" class=\"dataframe\">\n",
       "  <thead>\n",
       "    <tr style=\"text-align: right;\">\n",
       "      <th></th>\n",
       "      <th>booking_prob_train</th>\n",
       "      <th>click_prob_train</th>\n",
       "    </tr>\n",
       "    <tr>\n",
       "      <th>prop_id</th>\n",
       "      <th></th>\n",
       "      <th></th>\n",
       "    </tr>\n",
       "  </thead>\n",
       "  <tbody>\n",
       "    <tr>\n",
       "      <th>1</th>\n",
       "      <td>0.000000</td>\n",
       "      <td>0.020408</td>\n",
       "    </tr>\n",
       "    <tr>\n",
       "      <th>2</th>\n",
       "      <td>0.125000</td>\n",
       "      <td>0.125000</td>\n",
       "    </tr>\n",
       "    <tr>\n",
       "      <th>3</th>\n",
       "      <td>0.031250</td>\n",
       "      <td>0.031250</td>\n",
       "    </tr>\n",
       "    <tr>\n",
       "      <th>4</th>\n",
       "      <td>0.055556</td>\n",
       "      <td>0.055556</td>\n",
       "    </tr>\n",
       "    <tr>\n",
       "      <th>5</th>\n",
       "      <td>0.000000</td>\n",
       "      <td>0.040000</td>\n",
       "    </tr>\n",
       "    <tr>\n",
       "      <th>...</th>\n",
       "      <td>...</td>\n",
       "      <td>...</td>\n",
       "    </tr>\n",
       "    <tr>\n",
       "      <th>140817</th>\n",
       "      <td>0.000000</td>\n",
       "      <td>0.000000</td>\n",
       "    </tr>\n",
       "    <tr>\n",
       "      <th>140818</th>\n",
       "      <td>0.000000</td>\n",
       "      <td>0.000000</td>\n",
       "    </tr>\n",
       "    <tr>\n",
       "      <th>140819</th>\n",
       "      <td>0.000000</td>\n",
       "      <td>0.000000</td>\n",
       "    </tr>\n",
       "    <tr>\n",
       "      <th>140820</th>\n",
       "      <td>0.000000</td>\n",
       "      <td>0.000000</td>\n",
       "    </tr>\n",
       "    <tr>\n",
       "      <th>140821</th>\n",
       "      <td>0.166667</td>\n",
       "      <td>0.166667</td>\n",
       "    </tr>\n",
       "  </tbody>\n",
       "</table>\n",
       "<p>126031 rows × 2 columns</p>\n",
       "</div>"
      ],
      "text/plain": [
       "         booking_prob_train  click_prob_train\n",
       "prop_id                                      \n",
       "1                  0.000000          0.020408\n",
       "2                  0.125000          0.125000\n",
       "3                  0.031250          0.031250\n",
       "4                  0.055556          0.055556\n",
       "5                  0.000000          0.040000\n",
       "...                     ...               ...\n",
       "140817             0.000000          0.000000\n",
       "140818             0.000000          0.000000\n",
       "140819             0.000000          0.000000\n",
       "140820             0.000000          0.000000\n",
       "140821             0.166667          0.166667\n",
       "\n",
       "[126031 rows x 2 columns]"
      ]
     },
     "execution_count": 98,
     "metadata": {},
     "output_type": "execute_result"
    }
   ],
   "source": [
    "book_click_prob_per_prop = df[df['train']].groupby(['prop_id'])[['booking_bool', 'click_bool']].mean()\n",
    "book_click_prob_per_prop.rename(columns={'booking_bool': 'booking_prob_train',\n",
    "                                         'click_bool': 'click_prob_train'}, inplace=True)\n",
    "book_click_prob_per_prop"
   ]
  },
  {
   "cell_type": "code",
   "execution_count": 99,
   "id": "5872381c",
   "metadata": {
    "ExecuteTime": {
     "end_time": "2022-05-27T14:31:36.031227Z",
     "start_time": "2022-05-27T14:31:35.996468Z"
    }
   },
   "outputs": [],
   "source": [
    "book_click_prob_per_prop['book_per_click'] = book_click_prob_per_prop['booking_prob_train'] / \\\n",
    "    book_click_prob_per_prop['click_prob_train']  # 0/0 will be replaced with nans which is ok"
   ]
  },
  {
   "cell_type": "code",
   "execution_count": 100,
   "id": "ee201e0b",
   "metadata": {
    "ExecuteTime": {
     "end_time": "2022-05-27T14:32:32.444669Z",
     "start_time": "2022-05-27T14:31:36.033198Z"
    }
   },
   "outputs": [
    {
     "data": {
      "text/plain": [
       "(9917530, 99)"
      ]
     },
     "execution_count": 100,
     "metadata": {},
     "output_type": "execute_result"
    }
   ],
   "source": [
    "df = pd.merge(df, book_click_prob_per_prop.reset_index(), on='prop_id',\n",
    "              how='left')\n",
    "df.shape"
   ]
  },
  {
   "cell_type": "code",
   "execution_count": 101,
   "id": "9436a5ab",
   "metadata": {
    "ExecuteTime": {
     "end_time": "2022-05-27T14:32:32.714803Z",
     "start_time": "2022-05-27T14:32:32.453418Z"
    }
   },
   "outputs": [
    {
     "data": {
      "text/html": [
       "<div>\n",
       "<style scoped>\n",
       "    .dataframe tbody tr th:only-of-type {\n",
       "        vertical-align: middle;\n",
       "    }\n",
       "\n",
       "    .dataframe tbody tr th {\n",
       "        vertical-align: top;\n",
       "    }\n",
       "\n",
       "    .dataframe thead th {\n",
       "        text-align: right;\n",
       "    }\n",
       "</style>\n",
       "<table border=\"1\" class=\"dataframe\">\n",
       "  <thead>\n",
       "    <tr style=\"text-align: right;\">\n",
       "      <th></th>\n",
       "      <th>srch_id</th>\n",
       "      <th>date_time</th>\n",
       "      <th>site_id</th>\n",
       "      <th>visitor_location_country_id</th>\n",
       "      <th>visitor_hist_starrating</th>\n",
       "      <th>visitor_hist_adr_usd</th>\n",
       "      <th>prop_country_id</th>\n",
       "      <th>prop_id</th>\n",
       "      <th>prop_starrating</th>\n",
       "      <th>prop_review_score</th>\n",
       "      <th>prop_brand_bool</th>\n",
       "      <th>prop_location_score1</th>\n",
       "      <th>prop_location_score2</th>\n",
       "      <th>prop_log_historical_price</th>\n",
       "      <th>position</th>\n",
       "      <th>price_usd</th>\n",
       "      <th>promotion_flag</th>\n",
       "      <th>srch_destination_id</th>\n",
       "      <th>srch_length_of_stay</th>\n",
       "      <th>srch_booking_window</th>\n",
       "      <th>srch_adults_count</th>\n",
       "      <th>srch_children_count</th>\n",
       "      <th>srch_room_count</th>\n",
       "      <th>srch_saturday_night_bool</th>\n",
       "      <th>srch_query_affinity_score</th>\n",
       "      <th>orig_destination_distance</th>\n",
       "      <th>random_bool</th>\n",
       "      <th>comp3_rate_percent_diff</th>\n",
       "      <th>click_bool</th>\n",
       "      <th>gross_bookings_usd</th>\n",
       "      <th>booking_bool</th>\n",
       "      <th>test</th>\n",
       "      <th>val</th>\n",
       "      <th>train</th>\n",
       "      <th>subm</th>\n",
       "      <th>price_per_day</th>\n",
       "      <th>price_per_trip</th>\n",
       "      <th>date_time_ordinal</th>\n",
       "      <th>prop_location_score_diff</th>\n",
       "      <th>prop_location_score_sum</th>\n",
       "      <th>prop_location_score_mul</th>\n",
       "      <th>prop_location_score_diff_log</th>\n",
       "      <th>prop_location_score_sum_log</th>\n",
       "      <th>prop_location_score_mul_log</th>\n",
       "      <th>ratio_of_comp_with_lower_price_than_expedia</th>\n",
       "      <th>comp5_rate_percent_diff_signed</th>\n",
       "      <th>comp8_rate_percent_diff_signed</th>\n",
       "      <th>price_per_day_pow_2</th>\n",
       "      <th>price_per_day_log_10</th>\n",
       "      <th>price_per_day_reciprocal</th>\n",
       "      <th>prop_log_historical_price_pow_0.33</th>\n",
       "      <th>prop_log_historical_price_log_10</th>\n",
       "      <th>prop_log_historical_price_reciprocal</th>\n",
       "      <th>prop_historical_price</th>\n",
       "      <th>price_diff_to_usr_hist</th>\n",
       "      <th>price_ratio_to_usr_hist</th>\n",
       "      <th>price_diff_to_place_hist_price</th>\n",
       "      <th>prop_star_usr_hist_diff</th>\n",
       "      <th>prop_starrating_bonus_chain</th>\n",
       "      <th>prop_star_review_sum</th>\n",
       "      <th>prop_star_review_diff</th>\n",
       "      <th>prop_star_review_min</th>\n",
       "      <th>prop_star_review_max</th>\n",
       "      <th>prop_star_review_mean</th>\n",
       "      <th>price_per_star</th>\n",
       "      <th>price_per_review_score</th>\n",
       "      <th>price_per_star_log_10</th>\n",
       "      <th>price_per_review_score_log_10</th>\n",
       "      <th>booking_weeks_ahead</th>\n",
       "      <th>len_of_stay_to_booking_ahead_ratio</th>\n",
       "      <th>date</th>\n",
       "      <th>trip_start_date_week</th>\n",
       "      <th>trip_start_date_week_mid_summer_index</th>\n",
       "      <th>trip_start_date_month</th>\n",
       "      <th>trip_start_date_quarter</th>\n",
       "      <th>trip_start_date_season_num</th>\n",
       "      <th>trip_start_date_year</th>\n",
       "      <th>trip_start_date_week_id</th>\n",
       "      <th>trip_end_date_week</th>\n",
       "      <th>trip_end_date_week_mid_summer_index</th>\n",
       "      <th>trip_end_date_month</th>\n",
       "      <th>trip_end_date_quarter</th>\n",
       "      <th>trip_end_date_season_num</th>\n",
       "      <th>trip_end_date_year</th>\n",
       "      <th>trip_end_date_week_id</th>\n",
       "      <th>children_per_adult</th>\n",
       "      <th>total_people</th>\n",
       "      <th>people_per_room</th>\n",
       "      <th>separate_children_room</th>\n",
       "      <th>price_usd_log10_norm_by_srch_id</th>\n",
       "      <th>price_usd_log10_norm_by_prop_id</th>\n",
       "      <th>prop_starrating_norm_by_srch_id</th>\n",
       "      <th>price_index_per_srch_id</th>\n",
       "      <th>price_index_per_srch_destination_id</th>\n",
       "      <th>price_index_per_prop_id</th>\n",
       "      <th>srch_query_affinity_score_prob</th>\n",
       "      <th>booking_prob_train</th>\n",
       "      <th>click_prob_train</th>\n",
       "      <th>book_per_click</th>\n",
       "    </tr>\n",
       "  </thead>\n",
       "  <tbody>\n",
       "    <tr>\n",
       "      <th>0</th>\n",
       "      <td>32491</td>\n",
       "      <td>2012-11-01 00:01:37</td>\n",
       "      <td>24</td>\n",
       "      <td>216</td>\n",
       "      <td>NaN</td>\n",
       "      <td>NaN</td>\n",
       "      <td>225</td>\n",
       "      <td>327</td>\n",
       "      <td>4.0</td>\n",
       "      <td>4.5</td>\n",
       "      <td>0</td>\n",
       "      <td>3.66</td>\n",
       "      <td>0.1358</td>\n",
       "      <td>5.31</td>\n",
       "      <td>NaN</td>\n",
       "      <td>142.710007</td>\n",
       "      <td>0</td>\n",
       "      <td>14083</td>\n",
       "      <td>2</td>\n",
       "      <td>16</td>\n",
       "      <td>1</td>\n",
       "      <td>0</td>\n",
       "      <td>1</td>\n",
       "      <td>1</td>\n",
       "      <td>NaN</td>\n",
       "      <td>NaN</td>\n",
       "      <td>0</td>\n",
       "      <td>4.0</td>\n",
       "      <td>NaN</td>\n",
       "      <td>NaN</td>\n",
       "      <td>NaN</td>\n",
       "      <td>False</td>\n",
       "      <td>False</td>\n",
       "      <td>False</td>\n",
       "      <td>True</td>\n",
       "      <td>142.710007</td>\n",
       "      <td>285.420013</td>\n",
       "      <td>1</td>\n",
       "      <td>3.5242</td>\n",
       "      <td>3.7958</td>\n",
       "      <td>0.497028</td>\n",
       "      <td>6.540434</td>\n",
       "      <td>0.779566</td>\n",
       "      <td>-10.542389</td>\n",
       "      <td>NaN</td>\n",
       "      <td>7.0</td>\n",
       "      <td>&lt;NA&gt;</td>\n",
       "      <td>20366.146484</td>\n",
       "      <td>2.154454</td>\n",
       "      <td>0.007007</td>\n",
       "      <td>1.734927</td>\n",
       "      <td>0.725095</td>\n",
       "      <td>0.188324</td>\n",
       "      <td>202.350220</td>\n",
       "      <td>NaN</td>\n",
       "      <td>NaN</td>\n",
       "      <td>-59.640213</td>\n",
       "      <td>NaN</td>\n",
       "      <td>4.0</td>\n",
       "      <td>8.5</td>\n",
       "      <td>-0.5</td>\n",
       "      <td>4.0</td>\n",
       "      <td>4.5</td>\n",
       "      <td>4.25</td>\n",
       "      <td>35.677493</td>\n",
       "      <td>3.171333e+01</td>\n",
       "      <td>1.552394</td>\n",
       "      <td>1.501242</td>\n",
       "      <td>2.285714</td>\n",
       "      <td>8.0</td>\n",
       "      <td>2012-11-01</td>\n",
       "      <td>46</td>\n",
       "      <td>8</td>\n",
       "      <td>11</td>\n",
       "      <td>4</td>\n",
       "      <td>4</td>\n",
       "      <td>2012</td>\n",
       "      <td>201246</td>\n",
       "      <td>47</td>\n",
       "      <td>7</td>\n",
       "      <td>11</td>\n",
       "      <td>4</td>\n",
       "      <td>4</td>\n",
       "      <td>2012</td>\n",
       "      <td>201247</td>\n",
       "      <td>0.0</td>\n",
       "      <td>1</td>\n",
       "      <td>1.0</td>\n",
       "      <td>False</td>\n",
       "      <td>0.208951</td>\n",
       "      <td>-0.180289</td>\n",
       "      <td>0.568731</td>\n",
       "      <td>37</td>\n",
       "      <td>988</td>\n",
       "      <td>143</td>\n",
       "      <td>NaN</td>\n",
       "      <td>0.028369</td>\n",
       "      <td>0.035461</td>\n",
       "      <td>0.800000</td>\n",
       "    </tr>\n",
       "    <tr>\n",
       "      <th>1</th>\n",
       "      <td>32491</td>\n",
       "      <td>2012-11-01 00:01:37</td>\n",
       "      <td>24</td>\n",
       "      <td>216</td>\n",
       "      <td>NaN</td>\n",
       "      <td>NaN</td>\n",
       "      <td>225</td>\n",
       "      <td>20797</td>\n",
       "      <td>3.0</td>\n",
       "      <td>3.0</td>\n",
       "      <td>0</td>\n",
       "      <td>4.65</td>\n",
       "      <td>0.1955</td>\n",
       "      <td>4.97</td>\n",
       "      <td>NaN</td>\n",
       "      <td>79.220001</td>\n",
       "      <td>0</td>\n",
       "      <td>14083</td>\n",
       "      <td>2</td>\n",
       "      <td>16</td>\n",
       "      <td>1</td>\n",
       "      <td>0</td>\n",
       "      <td>1</td>\n",
       "      <td>1</td>\n",
       "      <td>NaN</td>\n",
       "      <td>NaN</td>\n",
       "      <td>0</td>\n",
       "      <td>2.0</td>\n",
       "      <td>NaN</td>\n",
       "      <td>NaN</td>\n",
       "      <td>NaN</td>\n",
       "      <td>False</td>\n",
       "      <td>False</td>\n",
       "      <td>False</td>\n",
       "      <td>True</td>\n",
       "      <td>79.220001</td>\n",
       "      <td>158.440002</td>\n",
       "      <td>1</td>\n",
       "      <td>4.4545</td>\n",
       "      <td>4.8455</td>\n",
       "      <td>0.909075</td>\n",
       "      <td>7.004752</td>\n",
       "      <td>2.295248</td>\n",
       "      <td>-10.949597</td>\n",
       "      <td>0.333333</td>\n",
       "      <td>&lt;NA&gt;</td>\n",
       "      <td>&lt;NA&gt;</td>\n",
       "      <td>6275.808594</td>\n",
       "      <td>1.898835</td>\n",
       "      <td>0.012623</td>\n",
       "      <td>1.697452</td>\n",
       "      <td>0.696356</td>\n",
       "      <td>0.201207</td>\n",
       "      <td>144.026855</td>\n",
       "      <td>NaN</td>\n",
       "      <td>NaN</td>\n",
       "      <td>-64.806854</td>\n",
       "      <td>NaN</td>\n",
       "      <td>3.0</td>\n",
       "      <td>6.0</td>\n",
       "      <td>0.0</td>\n",
       "      <td>3.0</td>\n",
       "      <td>3.0</td>\n",
       "      <td>3.00</td>\n",
       "      <td>26.406658</td>\n",
       "      <td>2.640666e+01</td>\n",
       "      <td>1.421713</td>\n",
       "      <td>1.421713</td>\n",
       "      <td>2.285714</td>\n",
       "      <td>8.0</td>\n",
       "      <td>2012-11-01</td>\n",
       "      <td>46</td>\n",
       "      <td>8</td>\n",
       "      <td>11</td>\n",
       "      <td>4</td>\n",
       "      <td>4</td>\n",
       "      <td>2012</td>\n",
       "      <td>201246</td>\n",
       "      <td>47</td>\n",
       "      <td>7</td>\n",
       "      <td>11</td>\n",
       "      <td>4</td>\n",
       "      <td>4</td>\n",
       "      <td>2012</td>\n",
       "      <td>201247</td>\n",
       "      <td>0.0</td>\n",
       "      <td>1</td>\n",
       "      <td>1.0</td>\n",
       "      <td>False</td>\n",
       "      <td>-0.773198</td>\n",
       "      <td>-0.359120</td>\n",
       "      <td>-0.731226</td>\n",
       "      <td>9</td>\n",
       "      <td>196</td>\n",
       "      <td>24</td>\n",
       "      <td>NaN</td>\n",
       "      <td>0.000000</td>\n",
       "      <td>0.076923</td>\n",
       "      <td>0.000000</td>\n",
       "    </tr>\n",
       "    <tr>\n",
       "      <th>2</th>\n",
       "      <td>32491</td>\n",
       "      <td>2012-11-01 00:01:37</td>\n",
       "      <td>24</td>\n",
       "      <td>216</td>\n",
       "      <td>NaN</td>\n",
       "      <td>NaN</td>\n",
       "      <td>225</td>\n",
       "      <td>24202</td>\n",
       "      <td>3.0</td>\n",
       "      <td>0.0</td>\n",
       "      <td>0</td>\n",
       "      <td>4.73</td>\n",
       "      <td>0.3831</td>\n",
       "      <td>4.97</td>\n",
       "      <td>NaN</td>\n",
       "      <td>93.070000</td>\n",
       "      <td>1</td>\n",
       "      <td>14083</td>\n",
       "      <td>2</td>\n",
       "      <td>16</td>\n",
       "      <td>1</td>\n",
       "      <td>0</td>\n",
       "      <td>1</td>\n",
       "      <td>1</td>\n",
       "      <td>NaN</td>\n",
       "      <td>NaN</td>\n",
       "      <td>0</td>\n",
       "      <td>NaN</td>\n",
       "      <td>NaN</td>\n",
       "      <td>NaN</td>\n",
       "      <td>NaN</td>\n",
       "      <td>False</td>\n",
       "      <td>False</td>\n",
       "      <td>False</td>\n",
       "      <td>True</td>\n",
       "      <td>93.070000</td>\n",
       "      <td>186.139999</td>\n",
       "      <td>1</td>\n",
       "      <td>4.3469</td>\n",
       "      <td>5.1131</td>\n",
       "      <td>1.812063</td>\n",
       "      <td>6.114203</td>\n",
       "      <td>3.345797</td>\n",
       "      <td>-6.547282</td>\n",
       "      <td>NaN</td>\n",
       "      <td>&lt;NA&gt;</td>\n",
       "      <td>&lt;NA&gt;</td>\n",
       "      <td>8662.024414</td>\n",
       "      <td>1.968810</td>\n",
       "      <td>0.010745</td>\n",
       "      <td>1.697452</td>\n",
       "      <td>0.696356</td>\n",
       "      <td>0.201207</td>\n",
       "      <td>144.026855</td>\n",
       "      <td>NaN</td>\n",
       "      <td>NaN</td>\n",
       "      <td>-50.956856</td>\n",
       "      <td>NaN</td>\n",
       "      <td>3.0</td>\n",
       "      <td>3.0</td>\n",
       "      <td>3.0</td>\n",
       "      <td>0.0</td>\n",
       "      <td>3.0</td>\n",
       "      <td>1.50</td>\n",
       "      <td>31.023323</td>\n",
       "      <td>9.307000e+07</td>\n",
       "      <td>1.491688</td>\n",
       "      <td>7.968810</td>\n",
       "      <td>2.285714</td>\n",
       "      <td>8.0</td>\n",
       "      <td>2012-11-01</td>\n",
       "      <td>46</td>\n",
       "      <td>8</td>\n",
       "      <td>11</td>\n",
       "      <td>4</td>\n",
       "      <td>4</td>\n",
       "      <td>2012</td>\n",
       "      <td>201246</td>\n",
       "      <td>47</td>\n",
       "      <td>7</td>\n",
       "      <td>11</td>\n",
       "      <td>4</td>\n",
       "      <td>4</td>\n",
       "      <td>2012</td>\n",
       "      <td>201247</td>\n",
       "      <td>0.0</td>\n",
       "      <td>1</td>\n",
       "      <td>1.0</td>\n",
       "      <td>False</td>\n",
       "      <td>-0.504344</td>\n",
       "      <td>-0.968217</td>\n",
       "      <td>-0.731226</td>\n",
       "      <td>21</td>\n",
       "      <td>442</td>\n",
       "      <td>10</td>\n",
       "      <td>NaN</td>\n",
       "      <td>0.000000</td>\n",
       "      <td>0.000000</td>\n",
       "      <td>NaN</td>\n",
       "    </tr>\n",
       "    <tr>\n",
       "      <th>3</th>\n",
       "      <td>32491</td>\n",
       "      <td>2012-11-01 00:01:37</td>\n",
       "      <td>24</td>\n",
       "      <td>216</td>\n",
       "      <td>NaN</td>\n",
       "      <td>NaN</td>\n",
       "      <td>225</td>\n",
       "      <td>33813</td>\n",
       "      <td>5.0</td>\n",
       "      <td>4.5</td>\n",
       "      <td>1</td>\n",
       "      <td>4.76</td>\n",
       "      <td>0.3524</td>\n",
       "      <td>6.13</td>\n",
       "      <td>NaN</td>\n",
       "      <td>278.630005</td>\n",
       "      <td>0</td>\n",
       "      <td>14083</td>\n",
       "      <td>2</td>\n",
       "      <td>16</td>\n",
       "      <td>1</td>\n",
       "      <td>0</td>\n",
       "      <td>1</td>\n",
       "      <td>1</td>\n",
       "      <td>NaN</td>\n",
       "      <td>NaN</td>\n",
       "      <td>0</td>\n",
       "      <td>3.0</td>\n",
       "      <td>NaN</td>\n",
       "      <td>NaN</td>\n",
       "      <td>NaN</td>\n",
       "      <td>False</td>\n",
       "      <td>False</td>\n",
       "      <td>False</td>\n",
       "      <td>True</td>\n",
       "      <td>278.630005</td>\n",
       "      <td>557.260010</td>\n",
       "      <td>1</td>\n",
       "      <td>4.4076</td>\n",
       "      <td>5.1124</td>\n",
       "      <td>1.677424</td>\n",
       "      <td>6.264710</td>\n",
       "      <td>3.255290</td>\n",
       "      <td>-7.162420</td>\n",
       "      <td>NaN</td>\n",
       "      <td>0.0</td>\n",
       "      <td>&lt;NA&gt;</td>\n",
       "      <td>77634.679688</td>\n",
       "      <td>2.445028</td>\n",
       "      <td>0.003589</td>\n",
       "      <td>1.819123</td>\n",
       "      <td>0.787461</td>\n",
       "      <td>0.163132</td>\n",
       "      <td>459.436249</td>\n",
       "      <td>NaN</td>\n",
       "      <td>NaN</td>\n",
       "      <td>-180.806244</td>\n",
       "      <td>NaN</td>\n",
       "      <td>6.0</td>\n",
       "      <td>9.5</td>\n",
       "      <td>0.5</td>\n",
       "      <td>4.5</td>\n",
       "      <td>5.0</td>\n",
       "      <td>4.75</td>\n",
       "      <td>55.725990</td>\n",
       "      <td>6.191777e+01</td>\n",
       "      <td>1.746058</td>\n",
       "      <td>1.791815</td>\n",
       "      <td>2.285714</td>\n",
       "      <td>8.0</td>\n",
       "      <td>2012-11-01</td>\n",
       "      <td>46</td>\n",
       "      <td>8</td>\n",
       "      <td>11</td>\n",
       "      <td>4</td>\n",
       "      <td>4</td>\n",
       "      <td>2012</td>\n",
       "      <td>201246</td>\n",
       "      <td>47</td>\n",
       "      <td>7</td>\n",
       "      <td>11</td>\n",
       "      <td>4</td>\n",
       "      <td>4</td>\n",
       "      <td>2012</td>\n",
       "      <td>201247</td>\n",
       "      <td>0.0</td>\n",
       "      <td>1</td>\n",
       "      <td>1.0</td>\n",
       "      <td>False</td>\n",
       "      <td>1.325450</td>\n",
       "      <td>0.011149</td>\n",
       "      <td>1.868688</td>\n",
       "      <td>45</td>\n",
       "      <td>1430</td>\n",
       "      <td>198</td>\n",
       "      <td>NaN</td>\n",
       "      <td>0.000000</td>\n",
       "      <td>0.014184</td>\n",
       "      <td>0.000000</td>\n",
       "    </tr>\n",
       "    <tr>\n",
       "      <th>4</th>\n",
       "      <td>32491</td>\n",
       "      <td>2012-11-01 00:01:37</td>\n",
       "      <td>24</td>\n",
       "      <td>216</td>\n",
       "      <td>NaN</td>\n",
       "      <td>NaN</td>\n",
       "      <td>225</td>\n",
       "      <td>36599</td>\n",
       "      <td>3.0</td>\n",
       "      <td>4.0</td>\n",
       "      <td>0</td>\n",
       "      <td>4.64</td>\n",
       "      <td>0.3488</td>\n",
       "      <td>5.13</td>\n",
       "      <td>NaN</td>\n",
       "      <td>100.919998</td>\n",
       "      <td>1</td>\n",
       "      <td>14083</td>\n",
       "      <td>2</td>\n",
       "      <td>16</td>\n",
       "      <td>1</td>\n",
       "      <td>0</td>\n",
       "      <td>1</td>\n",
       "      <td>1</td>\n",
       "      <td>NaN</td>\n",
       "      <td>NaN</td>\n",
       "      <td>0</td>\n",
       "      <td>8.0</td>\n",
       "      <td>NaN</td>\n",
       "      <td>NaN</td>\n",
       "      <td>NaN</td>\n",
       "      <td>False</td>\n",
       "      <td>False</td>\n",
       "      <td>False</td>\n",
       "      <td>True</td>\n",
       "      <td>100.919998</td>\n",
       "      <td>201.839996</td>\n",
       "      <td>1</td>\n",
       "      <td>4.2912</td>\n",
       "      <td>4.9888</td>\n",
       "      <td>1.618432</td>\n",
       "      <td>6.159524</td>\n",
       "      <td>3.120476</td>\n",
       "      <td>-7.050591</td>\n",
       "      <td>NaN</td>\n",
       "      <td>2.0</td>\n",
       "      <td>&lt;NA&gt;</td>\n",
       "      <td>10184.845703</td>\n",
       "      <td>2.003977</td>\n",
       "      <td>0.009909</td>\n",
       "      <td>1.715295</td>\n",
       "      <td>0.710117</td>\n",
       "      <td>0.194932</td>\n",
       "      <td>169.017136</td>\n",
       "      <td>NaN</td>\n",
       "      <td>NaN</td>\n",
       "      <td>-68.097137</td>\n",
       "      <td>NaN</td>\n",
       "      <td>3.0</td>\n",
       "      <td>7.0</td>\n",
       "      <td>-1.0</td>\n",
       "      <td>3.0</td>\n",
       "      <td>4.0</td>\n",
       "      <td>3.50</td>\n",
       "      <td>33.639988</td>\n",
       "      <td>2.522999e+01</td>\n",
       "      <td>1.526856</td>\n",
       "      <td>1.401917</td>\n",
       "      <td>2.285714</td>\n",
       "      <td>8.0</td>\n",
       "      <td>2012-11-01</td>\n",
       "      <td>46</td>\n",
       "      <td>8</td>\n",
       "      <td>11</td>\n",
       "      <td>4</td>\n",
       "      <td>4</td>\n",
       "      <td>2012</td>\n",
       "      <td>201246</td>\n",
       "      <td>47</td>\n",
       "      <td>7</td>\n",
       "      <td>11</td>\n",
       "      <td>4</td>\n",
       "      <td>4</td>\n",
       "      <td>2012</td>\n",
       "      <td>201247</td>\n",
       "      <td>0.0</td>\n",
       "      <td>1</td>\n",
       "      <td>1.0</td>\n",
       "      <td>False</td>\n",
       "      <td>-0.369224</td>\n",
       "      <td>-0.090546</td>\n",
       "      <td>-0.731226</td>\n",
       "      <td>24</td>\n",
       "      <td>535</td>\n",
       "      <td>211</td>\n",
       "      <td>NaN</td>\n",
       "      <td>0.054422</td>\n",
       "      <td>0.061224</td>\n",
       "      <td>0.888889</td>\n",
       "    </tr>\n",
       "  </tbody>\n",
       "</table>\n",
       "</div>"
      ],
      "text/plain": [
       "   srch_id           date_time  site_id  visitor_location_country_id  \\\n",
       "0    32491 2012-11-01 00:01:37       24                          216   \n",
       "1    32491 2012-11-01 00:01:37       24                          216   \n",
       "2    32491 2012-11-01 00:01:37       24                          216   \n",
       "3    32491 2012-11-01 00:01:37       24                          216   \n",
       "4    32491 2012-11-01 00:01:37       24                          216   \n",
       "\n",
       "   visitor_hist_starrating  visitor_hist_adr_usd  prop_country_id  prop_id  \\\n",
       "0                      NaN                   NaN              225      327   \n",
       "1                      NaN                   NaN              225    20797   \n",
       "2                      NaN                   NaN              225    24202   \n",
       "3                      NaN                   NaN              225    33813   \n",
       "4                      NaN                   NaN              225    36599   \n",
       "\n",
       "   prop_starrating  prop_review_score  prop_brand_bool  prop_location_score1  \\\n",
       "0              4.0                4.5                0                  3.66   \n",
       "1              3.0                3.0                0                  4.65   \n",
       "2              3.0                0.0                0                  4.73   \n",
       "3              5.0                4.5                1                  4.76   \n",
       "4              3.0                4.0                0                  4.64   \n",
       "\n",
       "   prop_location_score2  prop_log_historical_price  position   price_usd  \\\n",
       "0                0.1358                       5.31       NaN  142.710007   \n",
       "1                0.1955                       4.97       NaN   79.220001   \n",
       "2                0.3831                       4.97       NaN   93.070000   \n",
       "3                0.3524                       6.13       NaN  278.630005   \n",
       "4                0.3488                       5.13       NaN  100.919998   \n",
       "\n",
       "   promotion_flag  srch_destination_id  srch_length_of_stay  \\\n",
       "0               0                14083                    2   \n",
       "1               0                14083                    2   \n",
       "2               1                14083                    2   \n",
       "3               0                14083                    2   \n",
       "4               1                14083                    2   \n",
       "\n",
       "   srch_booking_window  srch_adults_count  srch_children_count  \\\n",
       "0                   16                  1                    0   \n",
       "1                   16                  1                    0   \n",
       "2                   16                  1                    0   \n",
       "3                   16                  1                    0   \n",
       "4                   16                  1                    0   \n",
       "\n",
       "   srch_room_count  srch_saturday_night_bool  srch_query_affinity_score  \\\n",
       "0                1                         1                        NaN   \n",
       "1                1                         1                        NaN   \n",
       "2                1                         1                        NaN   \n",
       "3                1                         1                        NaN   \n",
       "4                1                         1                        NaN   \n",
       "\n",
       "   orig_destination_distance  random_bool  comp3_rate_percent_diff  \\\n",
       "0                        NaN            0                      4.0   \n",
       "1                        NaN            0                      2.0   \n",
       "2                        NaN            0                      NaN   \n",
       "3                        NaN            0                      3.0   \n",
       "4                        NaN            0                      8.0   \n",
       "\n",
       "   click_bool  gross_bookings_usd  booking_bool   test    val  train  subm  \\\n",
       "0         NaN                 NaN           NaN  False  False  False  True   \n",
       "1         NaN                 NaN           NaN  False  False  False  True   \n",
       "2         NaN                 NaN           NaN  False  False  False  True   \n",
       "3         NaN                 NaN           NaN  False  False  False  True   \n",
       "4         NaN                 NaN           NaN  False  False  False  True   \n",
       "\n",
       "   price_per_day  price_per_trip  date_time_ordinal  prop_location_score_diff  \\\n",
       "0     142.710007      285.420013                  1                    3.5242   \n",
       "1      79.220001      158.440002                  1                    4.4545   \n",
       "2      93.070000      186.139999                  1                    4.3469   \n",
       "3     278.630005      557.260010                  1                    4.4076   \n",
       "4     100.919998      201.839996                  1                    4.2912   \n",
       "\n",
       "   prop_location_score_sum  prop_location_score_mul  \\\n",
       "0                   3.7958                 0.497028   \n",
       "1                   4.8455                 0.909075   \n",
       "2                   5.1131                 1.812063   \n",
       "3                   5.1124                 1.677424   \n",
       "4                   4.9888                 1.618432   \n",
       "\n",
       "   prop_location_score_diff_log  prop_location_score_sum_log  \\\n",
       "0                      6.540434                     0.779566   \n",
       "1                      7.004752                     2.295248   \n",
       "2                      6.114203                     3.345797   \n",
       "3                      6.264710                     3.255290   \n",
       "4                      6.159524                     3.120476   \n",
       "\n",
       "   prop_location_score_mul_log  ratio_of_comp_with_lower_price_than_expedia  \\\n",
       "0                   -10.542389                                          NaN   \n",
       "1                   -10.949597                                     0.333333   \n",
       "2                    -6.547282                                          NaN   \n",
       "3                    -7.162420                                          NaN   \n",
       "4                    -7.050591                                          NaN   \n",
       "\n",
       "   comp5_rate_percent_diff_signed  comp8_rate_percent_diff_signed  \\\n",
       "0                             7.0                            <NA>   \n",
       "1                            <NA>                            <NA>   \n",
       "2                            <NA>                            <NA>   \n",
       "3                             0.0                            <NA>   \n",
       "4                             2.0                            <NA>   \n",
       "\n",
       "   price_per_day_pow_2  price_per_day_log_10  price_per_day_reciprocal  \\\n",
       "0         20366.146484              2.154454                  0.007007   \n",
       "1          6275.808594              1.898835                  0.012623   \n",
       "2          8662.024414              1.968810                  0.010745   \n",
       "3         77634.679688              2.445028                  0.003589   \n",
       "4         10184.845703              2.003977                  0.009909   \n",
       "\n",
       "   prop_log_historical_price_pow_0.33  prop_log_historical_price_log_10  \\\n",
       "0                            1.734927                          0.725095   \n",
       "1                            1.697452                          0.696356   \n",
       "2                            1.697452                          0.696356   \n",
       "3                            1.819123                          0.787461   \n",
       "4                            1.715295                          0.710117   \n",
       "\n",
       "   prop_log_historical_price_reciprocal  prop_historical_price  \\\n",
       "0                              0.188324             202.350220   \n",
       "1                              0.201207             144.026855   \n",
       "2                              0.201207             144.026855   \n",
       "3                              0.163132             459.436249   \n",
       "4                              0.194932             169.017136   \n",
       "\n",
       "   price_diff_to_usr_hist  price_ratio_to_usr_hist  \\\n",
       "0                     NaN                      NaN   \n",
       "1                     NaN                      NaN   \n",
       "2                     NaN                      NaN   \n",
       "3                     NaN                      NaN   \n",
       "4                     NaN                      NaN   \n",
       "\n",
       "   price_diff_to_place_hist_price  prop_star_usr_hist_diff  \\\n",
       "0                      -59.640213                      NaN   \n",
       "1                      -64.806854                      NaN   \n",
       "2                      -50.956856                      NaN   \n",
       "3                     -180.806244                      NaN   \n",
       "4                      -68.097137                      NaN   \n",
       "\n",
       "   prop_starrating_bonus_chain  prop_star_review_sum  prop_star_review_diff  \\\n",
       "0                          4.0                   8.5                   -0.5   \n",
       "1                          3.0                   6.0                    0.0   \n",
       "2                          3.0                   3.0                    3.0   \n",
       "3                          6.0                   9.5                    0.5   \n",
       "4                          3.0                   7.0                   -1.0   \n",
       "\n",
       "   prop_star_review_min  prop_star_review_max  prop_star_review_mean  \\\n",
       "0                   4.0                   4.5                   4.25   \n",
       "1                   3.0                   3.0                   3.00   \n",
       "2                   0.0                   3.0                   1.50   \n",
       "3                   4.5                   5.0                   4.75   \n",
       "4                   3.0                   4.0                   3.50   \n",
       "\n",
       "   price_per_star  price_per_review_score  price_per_star_log_10  \\\n",
       "0       35.677493            3.171333e+01               1.552394   \n",
       "1       26.406658            2.640666e+01               1.421713   \n",
       "2       31.023323            9.307000e+07               1.491688   \n",
       "3       55.725990            6.191777e+01               1.746058   \n",
       "4       33.639988            2.522999e+01               1.526856   \n",
       "\n",
       "   price_per_review_score_log_10  booking_weeks_ahead  \\\n",
       "0                       1.501242             2.285714   \n",
       "1                       1.421713             2.285714   \n",
       "2                       7.968810             2.285714   \n",
       "3                       1.791815             2.285714   \n",
       "4                       1.401917             2.285714   \n",
       "\n",
       "   len_of_stay_to_booking_ahead_ratio       date  trip_start_date_week  \\\n",
       "0                                 8.0 2012-11-01                    46   \n",
       "1                                 8.0 2012-11-01                    46   \n",
       "2                                 8.0 2012-11-01                    46   \n",
       "3                                 8.0 2012-11-01                    46   \n",
       "4                                 8.0 2012-11-01                    46   \n",
       "\n",
       "   trip_start_date_week_mid_summer_index  trip_start_date_month  \\\n",
       "0                                      8                     11   \n",
       "1                                      8                     11   \n",
       "2                                      8                     11   \n",
       "3                                      8                     11   \n",
       "4                                      8                     11   \n",
       "\n",
       "   trip_start_date_quarter  trip_start_date_season_num  trip_start_date_year  \\\n",
       "0                        4                           4                  2012   \n",
       "1                        4                           4                  2012   \n",
       "2                        4                           4                  2012   \n",
       "3                        4                           4                  2012   \n",
       "4                        4                           4                  2012   \n",
       "\n",
       "   trip_start_date_week_id  trip_end_date_week  \\\n",
       "0                   201246                  47   \n",
       "1                   201246                  47   \n",
       "2                   201246                  47   \n",
       "3                   201246                  47   \n",
       "4                   201246                  47   \n",
       "\n",
       "   trip_end_date_week_mid_summer_index  trip_end_date_month  \\\n",
       "0                                    7                   11   \n",
       "1                                    7                   11   \n",
       "2                                    7                   11   \n",
       "3                                    7                   11   \n",
       "4                                    7                   11   \n",
       "\n",
       "   trip_end_date_quarter  trip_end_date_season_num  trip_end_date_year  \\\n",
       "0                      4                         4                2012   \n",
       "1                      4                         4                2012   \n",
       "2                      4                         4                2012   \n",
       "3                      4                         4                2012   \n",
       "4                      4                         4                2012   \n",
       "\n",
       "   trip_end_date_week_id  children_per_adult  total_people  people_per_room  \\\n",
       "0                 201247                 0.0             1              1.0   \n",
       "1                 201247                 0.0             1              1.0   \n",
       "2                 201247                 0.0             1              1.0   \n",
       "3                 201247                 0.0             1              1.0   \n",
       "4                 201247                 0.0             1              1.0   \n",
       "\n",
       "   separate_children_room  price_usd_log10_norm_by_srch_id  \\\n",
       "0                   False                         0.208951   \n",
       "1                   False                        -0.773198   \n",
       "2                   False                        -0.504344   \n",
       "3                   False                         1.325450   \n",
       "4                   False                        -0.369224   \n",
       "\n",
       "   price_usd_log10_norm_by_prop_id  prop_starrating_norm_by_srch_id  \\\n",
       "0                        -0.180289                         0.568731   \n",
       "1                        -0.359120                        -0.731226   \n",
       "2                        -0.968217                        -0.731226   \n",
       "3                         0.011149                         1.868688   \n",
       "4                        -0.090546                        -0.731226   \n",
       "\n",
       "   price_index_per_srch_id  price_index_per_srch_destination_id  \\\n",
       "0                       37                                  988   \n",
       "1                        9                                  196   \n",
       "2                       21                                  442   \n",
       "3                       45                                 1430   \n",
       "4                       24                                  535   \n",
       "\n",
       "   price_index_per_prop_id  srch_query_affinity_score_prob  \\\n",
       "0                      143                             NaN   \n",
       "1                       24                             NaN   \n",
       "2                       10                             NaN   \n",
       "3                      198                             NaN   \n",
       "4                      211                             NaN   \n",
       "\n",
       "   booking_prob_train  click_prob_train  book_per_click  \n",
       "0            0.028369          0.035461        0.800000  \n",
       "1            0.000000          0.076923        0.000000  \n",
       "2            0.000000          0.000000             NaN  \n",
       "3            0.000000          0.014184        0.000000  \n",
       "4            0.054422          0.061224        0.888889  "
      ]
     },
     "execution_count": 101,
     "metadata": {},
     "output_type": "execute_result"
    }
   ],
   "source": [
    "df.head()"
   ]
  },
  {
   "cell_type": "markdown",
   "id": "892ffd63",
   "metadata": {},
   "source": [
    "## Position during train"
   ]
  },
  {
   "cell_type": "code",
   "execution_count": 102,
   "id": "62ec73a5",
   "metadata": {
    "ExecuteTime": {
     "end_time": "2022-05-27T14:32:50.407270Z",
     "start_time": "2022-05-27T14:32:32.732582Z"
    }
   },
   "outputs": [
    {
     "data": {
      "text/html": [
       "<div>\n",
       "<style scoped>\n",
       "    .dataframe tbody tr th:only-of-type {\n",
       "        vertical-align: middle;\n",
       "    }\n",
       "\n",
       "    .dataframe tbody tr th {\n",
       "        vertical-align: top;\n",
       "    }\n",
       "\n",
       "    .dataframe thead th {\n",
       "        text-align: right;\n",
       "    }\n",
       "</style>\n",
       "<table border=\"1\" class=\"dataframe\">\n",
       "  <thead>\n",
       "    <tr style=\"text-align: right;\">\n",
       "      <th></th>\n",
       "      <th>mean_position_train</th>\n",
       "    </tr>\n",
       "    <tr>\n",
       "      <th>prop_id</th>\n",
       "      <th></th>\n",
       "    </tr>\n",
       "  </thead>\n",
       "  <tbody>\n",
       "    <tr>\n",
       "      <th>1</th>\n",
       "      <td>28.326531</td>\n",
       "    </tr>\n",
       "    <tr>\n",
       "      <th>2</th>\n",
       "      <td>16.000000</td>\n",
       "    </tr>\n",
       "    <tr>\n",
       "      <th>3</th>\n",
       "      <td>19.125000</td>\n",
       "    </tr>\n",
       "    <tr>\n",
       "      <th>4</th>\n",
       "      <td>12.666667</td>\n",
       "    </tr>\n",
       "    <tr>\n",
       "      <th>5</th>\n",
       "      <td>22.000000</td>\n",
       "    </tr>\n",
       "    <tr>\n",
       "      <th>...</th>\n",
       "      <td>...</td>\n",
       "    </tr>\n",
       "    <tr>\n",
       "      <th>140817</th>\n",
       "      <td>11.000000</td>\n",
       "    </tr>\n",
       "    <tr>\n",
       "      <th>140818</th>\n",
       "      <td>20.000000</td>\n",
       "    </tr>\n",
       "    <tr>\n",
       "      <th>140819</th>\n",
       "      <td>30.500000</td>\n",
       "    </tr>\n",
       "    <tr>\n",
       "      <th>140820</th>\n",
       "      <td>19.200000</td>\n",
       "    </tr>\n",
       "    <tr>\n",
       "      <th>140821</th>\n",
       "      <td>10.833333</td>\n",
       "    </tr>\n",
       "  </tbody>\n",
       "</table>\n",
       "<p>126031 rows × 1 columns</p>\n",
       "</div>"
      ],
      "text/plain": [
       "         mean_position_train\n",
       "prop_id                     \n",
       "1                  28.326531\n",
       "2                  16.000000\n",
       "3                  19.125000\n",
       "4                  12.666667\n",
       "5                  22.000000\n",
       "...                      ...\n",
       "140817             11.000000\n",
       "140818             20.000000\n",
       "140819             30.500000\n",
       "140820             19.200000\n",
       "140821             10.833333\n",
       "\n",
       "[126031 rows x 1 columns]"
      ]
     },
     "execution_count": 102,
     "metadata": {},
     "output_type": "execute_result"
    }
   ],
   "source": [
    "position_per_prop = df[df['train']].groupby(['prop_id'])[['position']].mean()\n",
    "position_per_prop.rename(columns={'position': 'mean_position_train'}, inplace=True)\n",
    "position_per_prop"
   ]
  },
  {
   "cell_type": "code",
   "execution_count": 103,
   "id": "0d602f5d",
   "metadata": {
    "ExecuteTime": {
     "end_time": "2022-05-27T14:32:53.741286Z",
     "start_time": "2022-05-27T14:32:50.425304Z"
    }
   },
   "outputs": [
    {
     "data": {
      "text/html": [
       "<div>\n",
       "<style scoped>\n",
       "    .dataframe tbody tr th:only-of-type {\n",
       "        vertical-align: middle;\n",
       "    }\n",
       "\n",
       "    .dataframe tbody tr th {\n",
       "        vertical-align: top;\n",
       "    }\n",
       "\n",
       "    .dataframe thead th {\n",
       "        text-align: right;\n",
       "    }\n",
       "</style>\n",
       "<table border=\"1\" class=\"dataframe\">\n",
       "  <thead>\n",
       "    <tr style=\"text-align: right;\">\n",
       "      <th></th>\n",
       "      <th>mean_position_train_when_not_random</th>\n",
       "    </tr>\n",
       "    <tr>\n",
       "      <th>prop_id</th>\n",
       "      <th></th>\n",
       "    </tr>\n",
       "  </thead>\n",
       "  <tbody>\n",
       "    <tr>\n",
       "      <th>1</th>\n",
       "      <td>30.527778</td>\n",
       "    </tr>\n",
       "    <tr>\n",
       "      <th>2</th>\n",
       "      <td>16.000000</td>\n",
       "    </tr>\n",
       "    <tr>\n",
       "      <th>3</th>\n",
       "      <td>18.692308</td>\n",
       "    </tr>\n",
       "    <tr>\n",
       "      <th>4</th>\n",
       "      <td>17.000000</td>\n",
       "    </tr>\n",
       "    <tr>\n",
       "      <th>5</th>\n",
       "      <td>24.384615</td>\n",
       "    </tr>\n",
       "    <tr>\n",
       "      <th>...</th>\n",
       "      <td>...</td>\n",
       "    </tr>\n",
       "    <tr>\n",
       "      <th>140816</th>\n",
       "      <td>19.582609</td>\n",
       "    </tr>\n",
       "    <tr>\n",
       "      <th>140817</th>\n",
       "      <td>8.000000</td>\n",
       "    </tr>\n",
       "    <tr>\n",
       "      <th>140818</th>\n",
       "      <td>25.000000</td>\n",
       "    </tr>\n",
       "    <tr>\n",
       "      <th>140820</th>\n",
       "      <td>18.076923</td>\n",
       "    </tr>\n",
       "    <tr>\n",
       "      <th>140821</th>\n",
       "      <td>8.000000</td>\n",
       "    </tr>\n",
       "  </tbody>\n",
       "</table>\n",
       "<p>116104 rows × 1 columns</p>\n",
       "</div>"
      ],
      "text/plain": [
       "         mean_position_train_when_not_random\n",
       "prop_id                                     \n",
       "1                                  30.527778\n",
       "2                                  16.000000\n",
       "3                                  18.692308\n",
       "4                                  17.000000\n",
       "5                                  24.384615\n",
       "...                                      ...\n",
       "140816                             19.582609\n",
       "140817                              8.000000\n",
       "140818                             25.000000\n",
       "140820                             18.076923\n",
       "140821                              8.000000\n",
       "\n",
       "[116104 rows x 1 columns]"
      ]
     },
     "execution_count": 103,
     "metadata": {},
     "output_type": "execute_result"
    }
   ],
   "source": [
    "position_no_random_per_prop = df[df['train'] & (~df['random_bool'])].groupby(['prop_id'])[['position']].mean()\n",
    "position_no_random_per_prop.rename(columns={'position': 'mean_position_train_when_not_random'}, inplace=True)\n",
    "position_no_random_per_prop"
   ]
  },
  {
   "cell_type": "code",
   "execution_count": 104,
   "id": "6e2b2742",
   "metadata": {
    "ExecuteTime": {
     "end_time": "2022-05-27T14:34:07.246201Z",
     "start_time": "2022-05-27T14:32:53.758814Z"
    }
   },
   "outputs": [
    {
     "data": {
      "text/plain": [
       "(9917530, 101)"
      ]
     },
     "execution_count": 104,
     "metadata": {},
     "output_type": "execute_result"
    }
   ],
   "source": [
    "df = pd.merge(df, pd.concat([position_per_prop, position_no_random_per_prop], axis=1).reset_index(), \n",
    "              on='prop_id',\n",
    "              how='left')\n",
    "df.shape"
   ]
  },
  {
   "cell_type": "markdown",
   "id": "7d5a72bc",
   "metadata": {},
   "source": [
    "## Aggregations"
   ]
  },
  {
   "cell_type": "code",
   "execution_count": 105,
   "id": "4617e5ca",
   "metadata": {
    "ExecuteTime": {
     "end_time": "2022-05-27T14:34:07.497218Z",
     "start_time": "2022-05-27T14:34:07.251438Z"
    }
   },
   "outputs": [],
   "source": [
    "from features import apply_composite_for_splits"
   ]
  },
  {
   "cell_type": "markdown",
   "id": "4ca2cc62",
   "metadata": {},
   "source": [
    "### Price aggregations"
   ]
  },
  {
   "cell_type": "markdown",
   "id": "55b11002",
   "metadata": {},
   "source": [
    "#### srch_id"
   ]
  },
  {
   "cell_type": "code",
   "execution_count": 106,
   "id": "8f908f99",
   "metadata": {
    "ExecuteTime": {
     "end_time": "2022-05-27T14:34:26.687540Z",
     "start_time": "2022-05-27T14:34:07.558562Z"
    },
    "scrolled": true
   },
   "outputs": [
    {
     "name": "stdout",
     "output_type": "stream",
     "text": [
      "279430 groups when aggregation by ['srch_id']\n"
     ]
    },
    {
     "data": {
      "text/plain": [
       "(9917530, 113)"
      ]
     },
     "execution_count": 106,
     "metadata": {},
     "output_type": "execute_result"
    }
   ],
   "source": [
    "# prices from the country of user for the destination country\n",
    "groupby_cols = ['srch_id']\n",
    "feature_value_col = 'prop_starrating'\n",
    "agg_methods = [\"mean\", \"median\", \"min\", \"max\"]\n",
    "\n",
    "df = apply_composite_for_splits(df, \n",
    "                                split_cols=None,  # srch_id is independent on split\n",
    "                                groupby_cols=groupby_cols,\n",
    "                                feature_value_col=feature_value_col,\n",
    "                                agg_methods=agg_methods)\n",
    "df.shape"
   ]
  },
  {
   "cell_type": "code",
   "execution_count": 107,
   "id": "ca70acbd",
   "metadata": {
    "ExecuteTime": {
     "end_time": "2022-05-27T14:34:46.711994Z",
     "start_time": "2022-05-27T14:34:26.700394Z"
    }
   },
   "outputs": [
    {
     "name": "stdout",
     "output_type": "stream",
     "text": [
      "279430 groups when aggregation by ['srch_id']\n"
     ]
    },
    {
     "data": {
      "text/plain": [
       "(9917530, 125)"
      ]
     },
     "execution_count": 107,
     "metadata": {},
     "output_type": "execute_result"
    }
   ],
   "source": [
    "# prices from the country of user for the destination country\n",
    "groupby_cols = ['srch_id']\n",
    "feature_value_col = 'prop_location_score2'\n",
    "agg_methods = [\"mean\", \"median\", \"min\", \"max\"]\n",
    "\n",
    "df = apply_composite_for_splits(df, \n",
    "                                split_cols=None,\n",
    "                                groupby_cols=groupby_cols,\n",
    "                                feature_value_col=feature_value_col,\n",
    "                                agg_methods=agg_methods)\n",
    "df.shape"
   ]
  },
  {
   "cell_type": "code",
   "execution_count": 108,
   "id": "c59dc647",
   "metadata": {
    "ExecuteTime": {
     "end_time": "2022-05-27T14:35:15.220593Z",
     "start_time": "2022-05-27T14:34:46.733267Z"
    }
   },
   "outputs": [
    {
     "name": "stdout",
     "output_type": "stream",
     "text": [
      "279430 groups when aggregation by ['srch_id']\n"
     ]
    },
    {
     "data": {
      "text/plain": [
       "(9917530, 137)"
      ]
     },
     "execution_count": 108,
     "metadata": {},
     "output_type": "execute_result"
    }
   ],
   "source": [
    "# prices from the country of user for the destination country\n",
    "groupby_cols = ['srch_id']\n",
    "feature_value_col = 'prop_location_score1'\n",
    "agg_methods = [\"mean\", \"median\", \"min\", \"max\"]\n",
    "\n",
    "df = apply_composite_for_splits(df, \n",
    "                                split_cols=None,\n",
    "                                groupby_cols=groupby_cols,\n",
    "                                feature_value_col=feature_value_col,\n",
    "                                agg_methods=agg_methods)\n",
    "df.shape"
   ]
  },
  {
   "cell_type": "code",
   "execution_count": 109,
   "id": "0f1ed52b",
   "metadata": {
    "ExecuteTime": {
     "end_time": "2022-05-27T14:35:36.507878Z",
     "start_time": "2022-05-27T14:35:15.225038Z"
    }
   },
   "outputs": [
    {
     "name": "stdout",
     "output_type": "stream",
     "text": [
      "279430 groups when aggregation by ['srch_id']\n"
     ]
    },
    {
     "data": {
      "text/plain": [
       "(9917530, 149)"
      ]
     },
     "execution_count": 109,
     "metadata": {},
     "output_type": "execute_result"
    }
   ],
   "source": [
    "# prices from the country of user for the destination country\n",
    "groupby_cols = ['srch_id']\n",
    "feature_value_col = 'price_usd'\n",
    "agg_methods = [\"mean\", \"median\", \"min\", \"max\"]\n",
    "\n",
    "df = apply_composite_for_splits(df, \n",
    "                                split_cols=None,\n",
    "                                groupby_cols=groupby_cols,\n",
    "                                feature_value_col=feature_value_col,\n",
    "                                agg_methods=agg_methods)\n",
    "df.shape"
   ]
  },
  {
   "cell_type": "code",
   "execution_count": 110,
   "id": "2cc37f62",
   "metadata": {
    "ExecuteTime": {
     "end_time": "2022-05-27T14:36:12.060812Z",
     "start_time": "2022-05-27T14:35:36.514849Z"
    }
   },
   "outputs": [
    {
     "name": "stdout",
     "output_type": "stream",
     "text": [
      "279430 groups when aggregation by ['srch_id']\n"
     ]
    },
    {
     "data": {
      "text/plain": [
       "(9917530, 158)"
      ]
     },
     "execution_count": 110,
     "metadata": {},
     "output_type": "execute_result"
    }
   ],
   "source": [
    "# prices from the country of user for the destination country\n",
    "groupby_cols = ['srch_id']\n",
    "feature_value_col = 'prop_review_score'\n",
    "agg_methods = [\"mean\", \"min\", \"max\"]\n",
    "\n",
    "df = apply_composite_for_splits(df, \n",
    "                                split_cols=None,\n",
    "                                groupby_cols=groupby_cols,\n",
    "                                feature_value_col=feature_value_col,\n",
    "                                agg_methods=agg_methods)\n",
    "df.shape"
   ]
  },
  {
   "cell_type": "code",
   "execution_count": 111,
   "id": "491175fd",
   "metadata": {
    "ExecuteTime": {
     "end_time": "2022-05-27T14:36:12.107106Z",
     "start_time": "2022-05-27T14:36:12.066089Z"
    },
    "scrolled": true
   },
   "outputs": [],
   "source": [
    "# df.drop(['mean_promotion_flag_per_srch_id', \n",
    "#          'promotion_flag_diff_to_mean_promotion_flag_per_srch_id'\n",
    "#         ], axis=1, inplace=True)\n",
    "\n",
    "\n",
    "# df = df.join(df.groupby('srch_id')['promotion_flag'].mean().rename('mean_promotion_flag_per_srch_id'), \n",
    "#              on='srch_id', how='left')\n",
    "# df['promotion_flag_diff_to_mean_promotion_flag_per_srch_id'] = df['promotion_flag'] - df['mean_promotion_flag_per_srch_id']\n"
   ]
  },
  {
   "cell_type": "code",
   "execution_count": 112,
   "id": "d371cd47",
   "metadata": {
    "ExecuteTime": {
     "end_time": "2022-05-27T14:37:02.176744Z",
     "start_time": "2022-05-27T14:36:12.112322Z"
    }
   },
   "outputs": [
    {
     "name": "stdout",
     "output_type": "stream",
     "text": [
      "279430 groups when aggregation by ['srch_id']\n"
     ]
    },
    {
     "data": {
      "text/plain": [
       "(9917530, 160)"
      ]
     },
     "execution_count": 112,
     "metadata": {},
     "output_type": "execute_result"
    }
   ],
   "source": [
    "groupby_cols = ['srch_id']\n",
    "feature_value_col = 'promotion_flag'\n",
    "agg_methods = [\"mean\"]\n",
    "\n",
    "df['promotion_flag'] = df['promotion_flag'].astype('uint8')\n",
    "\n",
    "df = apply_composite_for_splits(df, \n",
    "                                split_cols=None,\n",
    "                                groupby_cols=groupby_cols,\n",
    "                                feature_value_col=feature_value_col,\n",
    "                                agg_methods=agg_methods,\n",
    "                                relative_diff=False)\n",
    "df.shape"
   ]
  },
  {
   "cell_type": "code",
   "execution_count": 113,
   "id": "e20217b3",
   "metadata": {
    "ExecuteTime": {
     "end_time": "2022-05-27T14:37:19.007907Z",
     "start_time": "2022-05-27T14:37:02.182929Z"
    }
   },
   "outputs": [
    {
     "data": {
      "text/html": [
       "<div>\n",
       "<style scoped>\n",
       "    .dataframe tbody tr th:only-of-type {\n",
       "        vertical-align: middle;\n",
       "    }\n",
       "\n",
       "    .dataframe tbody tr th {\n",
       "        vertical-align: top;\n",
       "    }\n",
       "\n",
       "    .dataframe thead th {\n",
       "        text-align: right;\n",
       "    }\n",
       "</style>\n",
       "<table border=\"1\" class=\"dataframe\">\n",
       "  <thead>\n",
       "    <tr style=\"text-align: right;\">\n",
       "      <th></th>\n",
       "      <th>promotion_flag</th>\n",
       "      <th>mean_promotion_flag_per_srch_id</th>\n",
       "      <th>promotion_flag_diff_to_mean_promotion_flag_per_srch_id</th>\n",
       "    </tr>\n",
       "  </thead>\n",
       "  <tbody>\n",
       "    <tr>\n",
       "      <th>2</th>\n",
       "      <td>1</td>\n",
       "      <td>0.294118</td>\n",
       "      <td>0.705882</td>\n",
       "    </tr>\n",
       "    <tr>\n",
       "      <th>4</th>\n",
       "      <td>1</td>\n",
       "      <td>0.294118</td>\n",
       "      <td>0.705882</td>\n",
       "    </tr>\n",
       "    <tr>\n",
       "      <th>6</th>\n",
       "      <td>1</td>\n",
       "      <td>0.294118</td>\n",
       "      <td>0.705882</td>\n",
       "    </tr>\n",
       "    <tr>\n",
       "      <th>8</th>\n",
       "      <td>1</td>\n",
       "      <td>0.294118</td>\n",
       "      <td>0.705882</td>\n",
       "    </tr>\n",
       "    <tr>\n",
       "      <th>11</th>\n",
       "      <td>1</td>\n",
       "      <td>0.294118</td>\n",
       "      <td>0.705882</td>\n",
       "    </tr>\n",
       "    <tr>\n",
       "      <th>...</th>\n",
       "      <td>...</td>\n",
       "      <td>...</td>\n",
       "      <td>...</td>\n",
       "    </tr>\n",
       "    <tr>\n",
       "      <th>9917446</th>\n",
       "      <td>1</td>\n",
       "      <td>0.272727</td>\n",
       "      <td>0.727273</td>\n",
       "    </tr>\n",
       "    <tr>\n",
       "      <th>9917486</th>\n",
       "      <td>1</td>\n",
       "      <td>0.111111</td>\n",
       "      <td>0.888889</td>\n",
       "    </tr>\n",
       "    <tr>\n",
       "      <th>9917498</th>\n",
       "      <td>1</td>\n",
       "      <td>0.285714</td>\n",
       "      <td>0.714286</td>\n",
       "    </tr>\n",
       "    <tr>\n",
       "      <th>9917501</th>\n",
       "      <td>1</td>\n",
       "      <td>0.285714</td>\n",
       "      <td>0.714286</td>\n",
       "    </tr>\n",
       "    <tr>\n",
       "      <th>9917520</th>\n",
       "      <td>1</td>\n",
       "      <td>0.062500</td>\n",
       "      <td>0.937500</td>\n",
       "    </tr>\n",
       "  </tbody>\n",
       "</table>\n",
       "<p>2139822 rows × 3 columns</p>\n",
       "</div>"
      ],
      "text/plain": [
       "         promotion_flag  mean_promotion_flag_per_srch_id  \\\n",
       "2                     1                         0.294118   \n",
       "4                     1                         0.294118   \n",
       "6                     1                         0.294118   \n",
       "8                     1                         0.294118   \n",
       "11                    1                         0.294118   \n",
       "...                 ...                              ...   \n",
       "9917446               1                         0.272727   \n",
       "9917486               1                         0.111111   \n",
       "9917498               1                         0.285714   \n",
       "9917501               1                         0.285714   \n",
       "9917520               1                         0.062500   \n",
       "\n",
       "         promotion_flag_diff_to_mean_promotion_flag_per_srch_id  \n",
       "2                                                 0.705882       \n",
       "4                                                 0.705882       \n",
       "6                                                 0.705882       \n",
       "8                                                 0.705882       \n",
       "11                                                0.705882       \n",
       "...                                                    ...       \n",
       "9917446                                           0.727273       \n",
       "9917486                                           0.888889       \n",
       "9917498                                           0.714286       \n",
       "9917501                                           0.714286       \n",
       "9917520                                           0.937500       \n",
       "\n",
       "[2139822 rows x 3 columns]"
      ]
     },
     "execution_count": 113,
     "metadata": {},
     "output_type": "execute_result"
    }
   ],
   "source": [
    "df[df['promotion_flag'] == 1][['promotion_flag', 'mean_promotion_flag_per_srch_id',\n",
    "                               'promotion_flag_diff_to_mean_promotion_flag_per_srch_id']]"
   ]
  },
  {
   "cell_type": "code",
   "execution_count": 114,
   "id": "cbc016e6",
   "metadata": {
    "ExecuteTime": {
     "end_time": "2022-05-27T14:37:19.119562Z",
     "start_time": "2022-05-27T14:37:19.012730Z"
    },
    "scrolled": false
   },
   "outputs": [
    {
     "data": {
      "text/html": [
       "<div>\n",
       "<style scoped>\n",
       "    .dataframe tbody tr th:only-of-type {\n",
       "        vertical-align: middle;\n",
       "    }\n",
       "\n",
       "    .dataframe tbody tr th {\n",
       "        vertical-align: top;\n",
       "    }\n",
       "\n",
       "    .dataframe thead th {\n",
       "        text-align: right;\n",
       "    }\n",
       "</style>\n",
       "<table border=\"1\" class=\"dataframe\">\n",
       "  <thead>\n",
       "    <tr style=\"text-align: right;\">\n",
       "      <th></th>\n",
       "      <th>srch_id</th>\n",
       "      <th>date_time</th>\n",
       "      <th>site_id</th>\n",
       "      <th>visitor_location_country_id</th>\n",
       "      <th>visitor_hist_starrating</th>\n",
       "      <th>visitor_hist_adr_usd</th>\n",
       "      <th>prop_country_id</th>\n",
       "      <th>prop_id</th>\n",
       "      <th>prop_starrating</th>\n",
       "      <th>prop_review_score</th>\n",
       "      <th>prop_brand_bool</th>\n",
       "      <th>prop_location_score1</th>\n",
       "      <th>prop_location_score2</th>\n",
       "      <th>prop_log_historical_price</th>\n",
       "      <th>position</th>\n",
       "      <th>price_usd</th>\n",
       "      <th>promotion_flag</th>\n",
       "      <th>srch_destination_id</th>\n",
       "      <th>srch_length_of_stay</th>\n",
       "      <th>srch_booking_window</th>\n",
       "      <th>srch_adults_count</th>\n",
       "      <th>srch_children_count</th>\n",
       "      <th>srch_room_count</th>\n",
       "      <th>srch_saturday_night_bool</th>\n",
       "      <th>srch_query_affinity_score</th>\n",
       "      <th>orig_destination_distance</th>\n",
       "      <th>random_bool</th>\n",
       "      <th>comp3_rate_percent_diff</th>\n",
       "      <th>click_bool</th>\n",
       "      <th>gross_bookings_usd</th>\n",
       "      <th>booking_bool</th>\n",
       "      <th>test</th>\n",
       "      <th>val</th>\n",
       "      <th>train</th>\n",
       "      <th>subm</th>\n",
       "      <th>price_per_day</th>\n",
       "      <th>price_per_trip</th>\n",
       "      <th>date_time_ordinal</th>\n",
       "      <th>prop_location_score_diff</th>\n",
       "      <th>prop_location_score_sum</th>\n",
       "      <th>prop_location_score_mul</th>\n",
       "      <th>prop_location_score_diff_log</th>\n",
       "      <th>prop_location_score_sum_log</th>\n",
       "      <th>prop_location_score_mul_log</th>\n",
       "      <th>ratio_of_comp_with_lower_price_than_expedia</th>\n",
       "      <th>comp5_rate_percent_diff_signed</th>\n",
       "      <th>comp8_rate_percent_diff_signed</th>\n",
       "      <th>price_per_day_pow_2</th>\n",
       "      <th>price_per_day_log_10</th>\n",
       "      <th>price_per_day_reciprocal</th>\n",
       "      <th>prop_log_historical_price_pow_0.33</th>\n",
       "      <th>prop_log_historical_price_log_10</th>\n",
       "      <th>prop_log_historical_price_reciprocal</th>\n",
       "      <th>prop_historical_price</th>\n",
       "      <th>price_diff_to_usr_hist</th>\n",
       "      <th>price_ratio_to_usr_hist</th>\n",
       "      <th>price_diff_to_place_hist_price</th>\n",
       "      <th>prop_star_usr_hist_diff</th>\n",
       "      <th>prop_starrating_bonus_chain</th>\n",
       "      <th>prop_star_review_sum</th>\n",
       "      <th>prop_star_review_diff</th>\n",
       "      <th>prop_star_review_min</th>\n",
       "      <th>prop_star_review_max</th>\n",
       "      <th>prop_star_review_mean</th>\n",
       "      <th>price_per_star</th>\n",
       "      <th>price_per_review_score</th>\n",
       "      <th>price_per_star_log_10</th>\n",
       "      <th>price_per_review_score_log_10</th>\n",
       "      <th>booking_weeks_ahead</th>\n",
       "      <th>len_of_stay_to_booking_ahead_ratio</th>\n",
       "      <th>date</th>\n",
       "      <th>trip_start_date_week</th>\n",
       "      <th>trip_start_date_week_mid_summer_index</th>\n",
       "      <th>trip_start_date_month</th>\n",
       "      <th>trip_start_date_quarter</th>\n",
       "      <th>trip_start_date_season_num</th>\n",
       "      <th>trip_start_date_year</th>\n",
       "      <th>trip_start_date_week_id</th>\n",
       "      <th>trip_end_date_week</th>\n",
       "      <th>trip_end_date_week_mid_summer_index</th>\n",
       "      <th>trip_end_date_month</th>\n",
       "      <th>trip_end_date_quarter</th>\n",
       "      <th>trip_end_date_season_num</th>\n",
       "      <th>trip_end_date_year</th>\n",
       "      <th>trip_end_date_week_id</th>\n",
       "      <th>children_per_adult</th>\n",
       "      <th>total_people</th>\n",
       "      <th>people_per_room</th>\n",
       "      <th>separate_children_room</th>\n",
       "      <th>price_usd_log10_norm_by_srch_id</th>\n",
       "      <th>price_usd_log10_norm_by_prop_id</th>\n",
       "      <th>prop_starrating_norm_by_srch_id</th>\n",
       "      <th>price_index_per_srch_id</th>\n",
       "      <th>price_index_per_srch_destination_id</th>\n",
       "      <th>price_index_per_prop_id</th>\n",
       "      <th>srch_query_affinity_score_prob</th>\n",
       "      <th>booking_prob_train</th>\n",
       "      <th>click_prob_train</th>\n",
       "      <th>book_per_click</th>\n",
       "      <th>mean_position_train</th>\n",
       "      <th>mean_position_train_when_not_random</th>\n",
       "      <th>mean_prop_starrating_per_srch_id</th>\n",
       "      <th>median_prop_starrating_per_srch_id</th>\n",
       "      <th>min_prop_starrating_per_srch_id</th>\n",
       "      <th>max_prop_starrating_per_srch_id</th>\n",
       "      <th>prop_starrating_diff_to_mean_prop_starrating_per_srch_id</th>\n",
       "      <th>prop_starrating_rel_diff_to_mean_prop_starrating_per_srch_id</th>\n",
       "      <th>prop_starrating_diff_to_median_prop_starrating_per_srch_id</th>\n",
       "      <th>prop_starrating_rel_diff_to_median_prop_starrating_per_srch_id</th>\n",
       "      <th>prop_starrating_diff_to_min_prop_starrating_per_srch_id</th>\n",
       "      <th>prop_starrating_rel_diff_to_min_prop_starrating_per_srch_id</th>\n",
       "      <th>prop_starrating_diff_to_max_prop_starrating_per_srch_id</th>\n",
       "      <th>prop_starrating_rel_diff_to_max_prop_starrating_per_srch_id</th>\n",
       "      <th>mean_prop_location_score2_per_srch_id</th>\n",
       "      <th>median_prop_location_score2_per_srch_id</th>\n",
       "      <th>min_prop_location_score2_per_srch_id</th>\n",
       "      <th>max_prop_location_score2_per_srch_id</th>\n",
       "      <th>prop_location_score2_diff_to_mean_prop_location_score2_per_srch_id</th>\n",
       "      <th>prop_location_score2_rel_diff_to_mean_prop_location_score2_per_srch_id</th>\n",
       "      <th>prop_location_score2_diff_to_median_prop_location_score2_per_srch_id</th>\n",
       "      <th>prop_location_score2_rel_diff_to_median_prop_location_score2_per_srch_id</th>\n",
       "      <th>prop_location_score2_diff_to_min_prop_location_score2_per_srch_id</th>\n",
       "      <th>prop_location_score2_rel_diff_to_min_prop_location_score2_per_srch_id</th>\n",
       "      <th>prop_location_score2_diff_to_max_prop_location_score2_per_srch_id</th>\n",
       "      <th>prop_location_score2_rel_diff_to_max_prop_location_score2_per_srch_id</th>\n",
       "      <th>mean_prop_location_score1_per_srch_id</th>\n",
       "      <th>median_prop_location_score1_per_srch_id</th>\n",
       "      <th>min_prop_location_score1_per_srch_id</th>\n",
       "      <th>max_prop_location_score1_per_srch_id</th>\n",
       "      <th>prop_location_score1_diff_to_mean_prop_location_score1_per_srch_id</th>\n",
       "      <th>prop_location_score1_rel_diff_to_mean_prop_location_score1_per_srch_id</th>\n",
       "      <th>prop_location_score1_diff_to_median_prop_location_score1_per_srch_id</th>\n",
       "      <th>prop_location_score1_rel_diff_to_median_prop_location_score1_per_srch_id</th>\n",
       "      <th>prop_location_score1_diff_to_min_prop_location_score1_per_srch_id</th>\n",
       "      <th>prop_location_score1_rel_diff_to_min_prop_location_score1_per_srch_id</th>\n",
       "      <th>prop_location_score1_diff_to_max_prop_location_score1_per_srch_id</th>\n",
       "      <th>prop_location_score1_rel_diff_to_max_prop_location_score1_per_srch_id</th>\n",
       "      <th>mean_price_usd_per_srch_id</th>\n",
       "      <th>median_price_usd_per_srch_id</th>\n",
       "      <th>min_price_usd_per_srch_id</th>\n",
       "      <th>max_price_usd_per_srch_id</th>\n",
       "      <th>price_usd_diff_to_mean_price_usd_per_srch_id</th>\n",
       "      <th>price_usd_rel_diff_to_mean_price_usd_per_srch_id</th>\n",
       "      <th>price_usd_diff_to_median_price_usd_per_srch_id</th>\n",
       "      <th>price_usd_rel_diff_to_median_price_usd_per_srch_id</th>\n",
       "      <th>price_usd_diff_to_min_price_usd_per_srch_id</th>\n",
       "      <th>price_usd_rel_diff_to_min_price_usd_per_srch_id</th>\n",
       "      <th>price_usd_diff_to_max_price_usd_per_srch_id</th>\n",
       "      <th>price_usd_rel_diff_to_max_price_usd_per_srch_id</th>\n",
       "      <th>mean_prop_review_score_per_srch_id</th>\n",
       "      <th>min_prop_review_score_per_srch_id</th>\n",
       "      <th>max_prop_review_score_per_srch_id</th>\n",
       "      <th>prop_review_score_diff_to_mean_prop_review_score_per_srch_id</th>\n",
       "      <th>prop_review_score_rel_diff_to_mean_prop_review_score_per_srch_id</th>\n",
       "      <th>prop_review_score_diff_to_min_prop_review_score_per_srch_id</th>\n",
       "      <th>prop_review_score_rel_diff_to_min_prop_review_score_per_srch_id</th>\n",
       "      <th>prop_review_score_diff_to_max_prop_review_score_per_srch_id</th>\n",
       "      <th>prop_review_score_rel_diff_to_max_prop_review_score_per_srch_id</th>\n",
       "      <th>mean_promotion_flag_per_srch_id</th>\n",
       "      <th>promotion_flag_diff_to_mean_promotion_flag_per_srch_id</th>\n",
       "    </tr>\n",
       "  </thead>\n",
       "  <tbody>\n",
       "    <tr>\n",
       "      <th>0</th>\n",
       "      <td>32491</td>\n",
       "      <td>2012-11-01 00:01:37</td>\n",
       "      <td>24</td>\n",
       "      <td>216</td>\n",
       "      <td>NaN</td>\n",
       "      <td>NaN</td>\n",
       "      <td>225</td>\n",
       "      <td>327</td>\n",
       "      <td>4.0</td>\n",
       "      <td>4.5</td>\n",
       "      <td>0</td>\n",
       "      <td>3.66</td>\n",
       "      <td>0.1358</td>\n",
       "      <td>5.31</td>\n",
       "      <td>NaN</td>\n",
       "      <td>142.710007</td>\n",
       "      <td>0</td>\n",
       "      <td>14083</td>\n",
       "      <td>2</td>\n",
       "      <td>16</td>\n",
       "      <td>1</td>\n",
       "      <td>0</td>\n",
       "      <td>1</td>\n",
       "      <td>1</td>\n",
       "      <td>NaN</td>\n",
       "      <td>NaN</td>\n",
       "      <td>0</td>\n",
       "      <td>4.0</td>\n",
       "      <td>NaN</td>\n",
       "      <td>NaN</td>\n",
       "      <td>NaN</td>\n",
       "      <td>False</td>\n",
       "      <td>False</td>\n",
       "      <td>False</td>\n",
       "      <td>True</td>\n",
       "      <td>142.710007</td>\n",
       "      <td>285.420013</td>\n",
       "      <td>1</td>\n",
       "      <td>3.5242</td>\n",
       "      <td>3.7958</td>\n",
       "      <td>0.497028</td>\n",
       "      <td>6.540434</td>\n",
       "      <td>0.779566</td>\n",
       "      <td>-10.542389</td>\n",
       "      <td>NaN</td>\n",
       "      <td>7.0</td>\n",
       "      <td>&lt;NA&gt;</td>\n",
       "      <td>20366.146484</td>\n",
       "      <td>2.154454</td>\n",
       "      <td>0.007007</td>\n",
       "      <td>1.734927</td>\n",
       "      <td>0.725095</td>\n",
       "      <td>0.188324</td>\n",
       "      <td>202.350220</td>\n",
       "      <td>NaN</td>\n",
       "      <td>NaN</td>\n",
       "      <td>-59.640213</td>\n",
       "      <td>NaN</td>\n",
       "      <td>4.0</td>\n",
       "      <td>8.5</td>\n",
       "      <td>-0.5</td>\n",
       "      <td>4.0</td>\n",
       "      <td>4.5</td>\n",
       "      <td>4.25</td>\n",
       "      <td>35.677493</td>\n",
       "      <td>31.713328</td>\n",
       "      <td>1.552394</td>\n",
       "      <td>1.501242</td>\n",
       "      <td>2.285714</td>\n",
       "      <td>8.0</td>\n",
       "      <td>2012-11-01</td>\n",
       "      <td>46</td>\n",
       "      <td>8</td>\n",
       "      <td>11</td>\n",
       "      <td>4</td>\n",
       "      <td>4</td>\n",
       "      <td>2012</td>\n",
       "      <td>201246</td>\n",
       "      <td>47</td>\n",
       "      <td>7</td>\n",
       "      <td>11</td>\n",
       "      <td>4</td>\n",
       "      <td>4</td>\n",
       "      <td>2012</td>\n",
       "      <td>201247</td>\n",
       "      <td>0.0</td>\n",
       "      <td>1</td>\n",
       "      <td>1.0</td>\n",
       "      <td>False</td>\n",
       "      <td>0.208951</td>\n",
       "      <td>-0.180289</td>\n",
       "      <td>0.568731</td>\n",
       "      <td>37</td>\n",
       "      <td>988</td>\n",
       "      <td>143</td>\n",
       "      <td>NaN</td>\n",
       "      <td>0.028369</td>\n",
       "      <td>0.035461</td>\n",
       "      <td>0.8</td>\n",
       "      <td>16.063830</td>\n",
       "      <td>15.683761</td>\n",
       "      <td>3.5625</td>\n",
       "      <td>4.0</td>\n",
       "      <td>1.0</td>\n",
       "      <td>5.0</td>\n",
       "      <td>0.4375</td>\n",
       "      <td>0.109102</td>\n",
       "      <td>0.0</td>\n",
       "      <td>0.000000</td>\n",
       "      <td>3.0</td>\n",
       "      <td>0.748130</td>\n",
       "      <td>-1.0</td>\n",
       "      <td>-0.249377</td>\n",
       "      <td>0.196628</td>\n",
       "      <td>0.1686</td>\n",
       "      <td>0.0048</td>\n",
       "      <td>0.3862</td>\n",
       "      <td>-0.060828</td>\n",
       "      <td>-0.417199</td>\n",
       "      <td>-0.0328</td>\n",
       "      <td>-0.224966</td>\n",
       "      <td>0.1310</td>\n",
       "      <td>0.898491</td>\n",
       "      <td>-0.2504</td>\n",
       "      <td>-1.717421</td>\n",
       "      <td>2.893137</td>\n",
       "      <td>2.48</td>\n",
       "      <td>0.0</td>\n",
       "      <td>4.77</td>\n",
       "      <td>0.766863</td>\n",
       "      <td>0.208954</td>\n",
       "      <td>1.18</td>\n",
       "      <td>0.321526</td>\n",
       "      <td>3.66</td>\n",
       "      <td>0.997275</td>\n",
       "      <td>-1.11</td>\n",
       "      <td>-0.302452</td>\n",
       "      <td>158.900986</td>\n",
       "      <td>103.419998</td>\n",
       "      <td>54.459999</td>\n",
       "      <td>1063.719971</td>\n",
       "      <td>-16.190979</td>\n",
       "      <td>-0.113446</td>\n",
       "      <td>39.290009</td>\n",
       "      <td>0.275294</td>\n",
       "      <td>88.250008</td>\n",
       "      <td>0.618344</td>\n",
       "      <td>-921.009949</td>\n",
       "      <td>-6.453264</td>\n",
       "      <td>3.460784</td>\n",
       "      <td>0.0</td>\n",
       "      <td>5.0</td>\n",
       "      <td>1.039216</td>\n",
       "      <td>0.230425</td>\n",
       "      <td>4.5</td>\n",
       "      <td>0.997783</td>\n",
       "      <td>-0.5</td>\n",
       "      <td>-0.110865</td>\n",
       "      <td>0.294118</td>\n",
       "      <td>-0.294118</td>\n",
       "    </tr>\n",
       "    <tr>\n",
       "      <th>1</th>\n",
       "      <td>32491</td>\n",
       "      <td>2012-11-01 00:01:37</td>\n",
       "      <td>24</td>\n",
       "      <td>216</td>\n",
       "      <td>NaN</td>\n",
       "      <td>NaN</td>\n",
       "      <td>225</td>\n",
       "      <td>20797</td>\n",
       "      <td>3.0</td>\n",
       "      <td>3.0</td>\n",
       "      <td>0</td>\n",
       "      <td>4.65</td>\n",
       "      <td>0.1955</td>\n",
       "      <td>4.97</td>\n",
       "      <td>NaN</td>\n",
       "      <td>79.220001</td>\n",
       "      <td>0</td>\n",
       "      <td>14083</td>\n",
       "      <td>2</td>\n",
       "      <td>16</td>\n",
       "      <td>1</td>\n",
       "      <td>0</td>\n",
       "      <td>1</td>\n",
       "      <td>1</td>\n",
       "      <td>NaN</td>\n",
       "      <td>NaN</td>\n",
       "      <td>0</td>\n",
       "      <td>2.0</td>\n",
       "      <td>NaN</td>\n",
       "      <td>NaN</td>\n",
       "      <td>NaN</td>\n",
       "      <td>False</td>\n",
       "      <td>False</td>\n",
       "      <td>False</td>\n",
       "      <td>True</td>\n",
       "      <td>79.220001</td>\n",
       "      <td>158.440002</td>\n",
       "      <td>1</td>\n",
       "      <td>4.4545</td>\n",
       "      <td>4.8455</td>\n",
       "      <td>0.909075</td>\n",
       "      <td>7.004752</td>\n",
       "      <td>2.295248</td>\n",
       "      <td>-10.949597</td>\n",
       "      <td>0.333333</td>\n",
       "      <td>&lt;NA&gt;</td>\n",
       "      <td>&lt;NA&gt;</td>\n",
       "      <td>6275.808594</td>\n",
       "      <td>1.898835</td>\n",
       "      <td>0.012623</td>\n",
       "      <td>1.697452</td>\n",
       "      <td>0.696356</td>\n",
       "      <td>0.201207</td>\n",
       "      <td>144.026855</td>\n",
       "      <td>NaN</td>\n",
       "      <td>NaN</td>\n",
       "      <td>-64.806854</td>\n",
       "      <td>NaN</td>\n",
       "      <td>3.0</td>\n",
       "      <td>6.0</td>\n",
       "      <td>0.0</td>\n",
       "      <td>3.0</td>\n",
       "      <td>3.0</td>\n",
       "      <td>3.00</td>\n",
       "      <td>26.406658</td>\n",
       "      <td>26.406658</td>\n",
       "      <td>1.421713</td>\n",
       "      <td>1.421713</td>\n",
       "      <td>2.285714</td>\n",
       "      <td>8.0</td>\n",
       "      <td>2012-11-01</td>\n",
       "      <td>46</td>\n",
       "      <td>8</td>\n",
       "      <td>11</td>\n",
       "      <td>4</td>\n",
       "      <td>4</td>\n",
       "      <td>2012</td>\n",
       "      <td>201246</td>\n",
       "      <td>47</td>\n",
       "      <td>7</td>\n",
       "      <td>11</td>\n",
       "      <td>4</td>\n",
       "      <td>4</td>\n",
       "      <td>2012</td>\n",
       "      <td>201247</td>\n",
       "      <td>0.0</td>\n",
       "      <td>1</td>\n",
       "      <td>1.0</td>\n",
       "      <td>False</td>\n",
       "      <td>-0.773198</td>\n",
       "      <td>-0.359120</td>\n",
       "      <td>-0.731226</td>\n",
       "      <td>9</td>\n",
       "      <td>196</td>\n",
       "      <td>24</td>\n",
       "      <td>NaN</td>\n",
       "      <td>0.000000</td>\n",
       "      <td>0.076923</td>\n",
       "      <td>0.0</td>\n",
       "      <td>15.923077</td>\n",
       "      <td>14.062500</td>\n",
       "      <td>3.5625</td>\n",
       "      <td>4.0</td>\n",
       "      <td>1.0</td>\n",
       "      <td>5.0</td>\n",
       "      <td>-0.5625</td>\n",
       "      <td>-0.186877</td>\n",
       "      <td>-1.0</td>\n",
       "      <td>-0.332226</td>\n",
       "      <td>2.0</td>\n",
       "      <td>0.664452</td>\n",
       "      <td>-2.0</td>\n",
       "      <td>-0.664452</td>\n",
       "      <td>0.196628</td>\n",
       "      <td>0.1686</td>\n",
       "      <td>0.0048</td>\n",
       "      <td>0.3862</td>\n",
       "      <td>-0.001128</td>\n",
       "      <td>-0.005487</td>\n",
       "      <td>0.0269</td>\n",
       "      <td>0.130900</td>\n",
       "      <td>0.1907</td>\n",
       "      <td>0.927981</td>\n",
       "      <td>-0.1907</td>\n",
       "      <td>-0.927981</td>\n",
       "      <td>2.893137</td>\n",
       "      <td>2.48</td>\n",
       "      <td>0.0</td>\n",
       "      <td>4.77</td>\n",
       "      <td>1.756863</td>\n",
       "      <td>0.377009</td>\n",
       "      <td>2.17</td>\n",
       "      <td>0.465665</td>\n",
       "      <td>4.65</td>\n",
       "      <td>0.997854</td>\n",
       "      <td>-0.12</td>\n",
       "      <td>-0.025751</td>\n",
       "      <td>158.900986</td>\n",
       "      <td>103.419998</td>\n",
       "      <td>54.459999</td>\n",
       "      <td>1063.719971</td>\n",
       "      <td>-79.680984</td>\n",
       "      <td>-1.005692</td>\n",
       "      <td>-24.199997</td>\n",
       "      <td>-0.305440</td>\n",
       "      <td>24.760002</td>\n",
       "      <td>0.312508</td>\n",
       "      <td>-984.500000</td>\n",
       "      <td>-12.425849</td>\n",
       "      <td>3.460784</td>\n",
       "      <td>0.0</td>\n",
       "      <td>5.0</td>\n",
       "      <td>-0.460784</td>\n",
       "      <td>-0.153084</td>\n",
       "      <td>3.0</td>\n",
       "      <td>0.996678</td>\n",
       "      <td>-2.0</td>\n",
       "      <td>-0.664452</td>\n",
       "      <td>0.294118</td>\n",
       "      <td>-0.294118</td>\n",
       "    </tr>\n",
       "  </tbody>\n",
       "</table>\n",
       "</div>"
      ],
      "text/plain": [
       "   srch_id           date_time  site_id  visitor_location_country_id  \\\n",
       "0    32491 2012-11-01 00:01:37       24                          216   \n",
       "1    32491 2012-11-01 00:01:37       24                          216   \n",
       "\n",
       "   visitor_hist_starrating  visitor_hist_adr_usd  prop_country_id  prop_id  \\\n",
       "0                      NaN                   NaN              225      327   \n",
       "1                      NaN                   NaN              225    20797   \n",
       "\n",
       "   prop_starrating  prop_review_score  prop_brand_bool  prop_location_score1  \\\n",
       "0              4.0                4.5                0                  3.66   \n",
       "1              3.0                3.0                0                  4.65   \n",
       "\n",
       "   prop_location_score2  prop_log_historical_price  position   price_usd  \\\n",
       "0                0.1358                       5.31       NaN  142.710007   \n",
       "1                0.1955                       4.97       NaN   79.220001   \n",
       "\n",
       "   promotion_flag  srch_destination_id  srch_length_of_stay  \\\n",
       "0               0                14083                    2   \n",
       "1               0                14083                    2   \n",
       "\n",
       "   srch_booking_window  srch_adults_count  srch_children_count  \\\n",
       "0                   16                  1                    0   \n",
       "1                   16                  1                    0   \n",
       "\n",
       "   srch_room_count  srch_saturday_night_bool  srch_query_affinity_score  \\\n",
       "0                1                         1                        NaN   \n",
       "1                1                         1                        NaN   \n",
       "\n",
       "   orig_destination_distance  random_bool  comp3_rate_percent_diff  \\\n",
       "0                        NaN            0                      4.0   \n",
       "1                        NaN            0                      2.0   \n",
       "\n",
       "   click_bool  gross_bookings_usd  booking_bool   test    val  train  subm  \\\n",
       "0         NaN                 NaN           NaN  False  False  False  True   \n",
       "1         NaN                 NaN           NaN  False  False  False  True   \n",
       "\n",
       "   price_per_day  price_per_trip  date_time_ordinal  prop_location_score_diff  \\\n",
       "0     142.710007      285.420013                  1                    3.5242   \n",
       "1      79.220001      158.440002                  1                    4.4545   \n",
       "\n",
       "   prop_location_score_sum  prop_location_score_mul  \\\n",
       "0                   3.7958                 0.497028   \n",
       "1                   4.8455                 0.909075   \n",
       "\n",
       "   prop_location_score_diff_log  prop_location_score_sum_log  \\\n",
       "0                      6.540434                     0.779566   \n",
       "1                      7.004752                     2.295248   \n",
       "\n",
       "   prop_location_score_mul_log  ratio_of_comp_with_lower_price_than_expedia  \\\n",
       "0                   -10.542389                                          NaN   \n",
       "1                   -10.949597                                     0.333333   \n",
       "\n",
       "   comp5_rate_percent_diff_signed  comp8_rate_percent_diff_signed  \\\n",
       "0                             7.0                            <NA>   \n",
       "1                            <NA>                            <NA>   \n",
       "\n",
       "   price_per_day_pow_2  price_per_day_log_10  price_per_day_reciprocal  \\\n",
       "0         20366.146484              2.154454                  0.007007   \n",
       "1          6275.808594              1.898835                  0.012623   \n",
       "\n",
       "   prop_log_historical_price_pow_0.33  prop_log_historical_price_log_10  \\\n",
       "0                            1.734927                          0.725095   \n",
       "1                            1.697452                          0.696356   \n",
       "\n",
       "   prop_log_historical_price_reciprocal  prop_historical_price  \\\n",
       "0                              0.188324             202.350220   \n",
       "1                              0.201207             144.026855   \n",
       "\n",
       "   price_diff_to_usr_hist  price_ratio_to_usr_hist  \\\n",
       "0                     NaN                      NaN   \n",
       "1                     NaN                      NaN   \n",
       "\n",
       "   price_diff_to_place_hist_price  prop_star_usr_hist_diff  \\\n",
       "0                      -59.640213                      NaN   \n",
       "1                      -64.806854                      NaN   \n",
       "\n",
       "   prop_starrating_bonus_chain  prop_star_review_sum  prop_star_review_diff  \\\n",
       "0                          4.0                   8.5                   -0.5   \n",
       "1                          3.0                   6.0                    0.0   \n",
       "\n",
       "   prop_star_review_min  prop_star_review_max  prop_star_review_mean  \\\n",
       "0                   4.0                   4.5                   4.25   \n",
       "1                   3.0                   3.0                   3.00   \n",
       "\n",
       "   price_per_star  price_per_review_score  price_per_star_log_10  \\\n",
       "0       35.677493               31.713328               1.552394   \n",
       "1       26.406658               26.406658               1.421713   \n",
       "\n",
       "   price_per_review_score_log_10  booking_weeks_ahead  \\\n",
       "0                       1.501242             2.285714   \n",
       "1                       1.421713             2.285714   \n",
       "\n",
       "   len_of_stay_to_booking_ahead_ratio       date  trip_start_date_week  \\\n",
       "0                                 8.0 2012-11-01                    46   \n",
       "1                                 8.0 2012-11-01                    46   \n",
       "\n",
       "   trip_start_date_week_mid_summer_index  trip_start_date_month  \\\n",
       "0                                      8                     11   \n",
       "1                                      8                     11   \n",
       "\n",
       "   trip_start_date_quarter  trip_start_date_season_num  trip_start_date_year  \\\n",
       "0                        4                           4                  2012   \n",
       "1                        4                           4                  2012   \n",
       "\n",
       "   trip_start_date_week_id  trip_end_date_week  \\\n",
       "0                   201246                  47   \n",
       "1                   201246                  47   \n",
       "\n",
       "   trip_end_date_week_mid_summer_index  trip_end_date_month  \\\n",
       "0                                    7                   11   \n",
       "1                                    7                   11   \n",
       "\n",
       "   trip_end_date_quarter  trip_end_date_season_num  trip_end_date_year  \\\n",
       "0                      4                         4                2012   \n",
       "1                      4                         4                2012   \n",
       "\n",
       "   trip_end_date_week_id  children_per_adult  total_people  people_per_room  \\\n",
       "0                 201247                 0.0             1              1.0   \n",
       "1                 201247                 0.0             1              1.0   \n",
       "\n",
       "   separate_children_room  price_usd_log10_norm_by_srch_id  \\\n",
       "0                   False                         0.208951   \n",
       "1                   False                        -0.773198   \n",
       "\n",
       "   price_usd_log10_norm_by_prop_id  prop_starrating_norm_by_srch_id  \\\n",
       "0                        -0.180289                         0.568731   \n",
       "1                        -0.359120                        -0.731226   \n",
       "\n",
       "   price_index_per_srch_id  price_index_per_srch_destination_id  \\\n",
       "0                       37                                  988   \n",
       "1                        9                                  196   \n",
       "\n",
       "   price_index_per_prop_id  srch_query_affinity_score_prob  \\\n",
       "0                      143                             NaN   \n",
       "1                       24                             NaN   \n",
       "\n",
       "   booking_prob_train  click_prob_train  book_per_click  mean_position_train  \\\n",
       "0            0.028369          0.035461             0.8            16.063830   \n",
       "1            0.000000          0.076923             0.0            15.923077   \n",
       "\n",
       "   mean_position_train_when_not_random  mean_prop_starrating_per_srch_id  \\\n",
       "0                            15.683761                            3.5625   \n",
       "1                            14.062500                            3.5625   \n",
       "\n",
       "   median_prop_starrating_per_srch_id  min_prop_starrating_per_srch_id  \\\n",
       "0                                 4.0                              1.0   \n",
       "1                                 4.0                              1.0   \n",
       "\n",
       "   max_prop_starrating_per_srch_id  \\\n",
       "0                              5.0   \n",
       "1                              5.0   \n",
       "\n",
       "   prop_starrating_diff_to_mean_prop_starrating_per_srch_id  \\\n",
       "0                                             0.4375          \n",
       "1                                            -0.5625          \n",
       "\n",
       "   prop_starrating_rel_diff_to_mean_prop_starrating_per_srch_id  \\\n",
       "0                                           0.109102              \n",
       "1                                          -0.186877              \n",
       "\n",
       "   prop_starrating_diff_to_median_prop_starrating_per_srch_id  \\\n",
       "0                                                0.0            \n",
       "1                                               -1.0            \n",
       "\n",
       "   prop_starrating_rel_diff_to_median_prop_starrating_per_srch_id  \\\n",
       "0                                           0.000000                \n",
       "1                                          -0.332226                \n",
       "\n",
       "   prop_starrating_diff_to_min_prop_starrating_per_srch_id  \\\n",
       "0                                                3.0         \n",
       "1                                                2.0         \n",
       "\n",
       "   prop_starrating_rel_diff_to_min_prop_starrating_per_srch_id  \\\n",
       "0                                           0.748130             \n",
       "1                                           0.664452             \n",
       "\n",
       "   prop_starrating_diff_to_max_prop_starrating_per_srch_id  \\\n",
       "0                                               -1.0         \n",
       "1                                               -2.0         \n",
       "\n",
       "   prop_starrating_rel_diff_to_max_prop_starrating_per_srch_id  \\\n",
       "0                                          -0.249377             \n",
       "1                                          -0.664452             \n",
       "\n",
       "   mean_prop_location_score2_per_srch_id  \\\n",
       "0                               0.196628   \n",
       "1                               0.196628   \n",
       "\n",
       "   median_prop_location_score2_per_srch_id  \\\n",
       "0                                   0.1686   \n",
       "1                                   0.1686   \n",
       "\n",
       "   min_prop_location_score2_per_srch_id  max_prop_location_score2_per_srch_id  \\\n",
       "0                                0.0048                                0.3862   \n",
       "1                                0.0048                                0.3862   \n",
       "\n",
       "   prop_location_score2_diff_to_mean_prop_location_score2_per_srch_id  \\\n",
       "0                                          -0.060828                    \n",
       "1                                          -0.001128                    \n",
       "\n",
       "   prop_location_score2_rel_diff_to_mean_prop_location_score2_per_srch_id  \\\n",
       "0                                          -0.417199                        \n",
       "1                                          -0.005487                        \n",
       "\n",
       "   prop_location_score2_diff_to_median_prop_location_score2_per_srch_id  \\\n",
       "0                                            -0.0328                      \n",
       "1                                             0.0269                      \n",
       "\n",
       "   prop_location_score2_rel_diff_to_median_prop_location_score2_per_srch_id  \\\n",
       "0                                          -0.224966                          \n",
       "1                                           0.130900                          \n",
       "\n",
       "   prop_location_score2_diff_to_min_prop_location_score2_per_srch_id  \\\n",
       "0                                             0.1310                   \n",
       "1                                             0.1907                   \n",
       "\n",
       "   prop_location_score2_rel_diff_to_min_prop_location_score2_per_srch_id  \\\n",
       "0                                           0.898491                       \n",
       "1                                           0.927981                       \n",
       "\n",
       "   prop_location_score2_diff_to_max_prop_location_score2_per_srch_id  \\\n",
       "0                                            -0.2504                   \n",
       "1                                            -0.1907                   \n",
       "\n",
       "   prop_location_score2_rel_diff_to_max_prop_location_score2_per_srch_id  \\\n",
       "0                                          -1.717421                       \n",
       "1                                          -0.927981                       \n",
       "\n",
       "   mean_prop_location_score1_per_srch_id  \\\n",
       "0                               2.893137   \n",
       "1                               2.893137   \n",
       "\n",
       "   median_prop_location_score1_per_srch_id  \\\n",
       "0                                     2.48   \n",
       "1                                     2.48   \n",
       "\n",
       "   min_prop_location_score1_per_srch_id  max_prop_location_score1_per_srch_id  \\\n",
       "0                                   0.0                                  4.77   \n",
       "1                                   0.0                                  4.77   \n",
       "\n",
       "   prop_location_score1_diff_to_mean_prop_location_score1_per_srch_id  \\\n",
       "0                                           0.766863                    \n",
       "1                                           1.756863                    \n",
       "\n",
       "   prop_location_score1_rel_diff_to_mean_prop_location_score1_per_srch_id  \\\n",
       "0                                           0.208954                        \n",
       "1                                           0.377009                        \n",
       "\n",
       "   prop_location_score1_diff_to_median_prop_location_score1_per_srch_id  \\\n",
       "0                                               1.18                      \n",
       "1                                               2.17                      \n",
       "\n",
       "   prop_location_score1_rel_diff_to_median_prop_location_score1_per_srch_id  \\\n",
       "0                                           0.321526                          \n",
       "1                                           0.465665                          \n",
       "\n",
       "   prop_location_score1_diff_to_min_prop_location_score1_per_srch_id  \\\n",
       "0                                               3.66                   \n",
       "1                                               4.65                   \n",
       "\n",
       "   prop_location_score1_rel_diff_to_min_prop_location_score1_per_srch_id  \\\n",
       "0                                           0.997275                       \n",
       "1                                           0.997854                       \n",
       "\n",
       "   prop_location_score1_diff_to_max_prop_location_score1_per_srch_id  \\\n",
       "0                                              -1.11                   \n",
       "1                                              -0.12                   \n",
       "\n",
       "   prop_location_score1_rel_diff_to_max_prop_location_score1_per_srch_id  \\\n",
       "0                                          -0.302452                       \n",
       "1                                          -0.025751                       \n",
       "\n",
       "   mean_price_usd_per_srch_id  median_price_usd_per_srch_id  \\\n",
       "0                  158.900986                    103.419998   \n",
       "1                  158.900986                    103.419998   \n",
       "\n",
       "   min_price_usd_per_srch_id  max_price_usd_per_srch_id  \\\n",
       "0                  54.459999                1063.719971   \n",
       "1                  54.459999                1063.719971   \n",
       "\n",
       "   price_usd_diff_to_mean_price_usd_per_srch_id  \\\n",
       "0                                    -16.190979   \n",
       "1                                    -79.680984   \n",
       "\n",
       "   price_usd_rel_diff_to_mean_price_usd_per_srch_id  \\\n",
       "0                                         -0.113446   \n",
       "1                                         -1.005692   \n",
       "\n",
       "   price_usd_diff_to_median_price_usd_per_srch_id  \\\n",
       "0                                       39.290009   \n",
       "1                                      -24.199997   \n",
       "\n",
       "   price_usd_rel_diff_to_median_price_usd_per_srch_id  \\\n",
       "0                                           0.275294    \n",
       "1                                          -0.305440    \n",
       "\n",
       "   price_usd_diff_to_min_price_usd_per_srch_id  \\\n",
       "0                                    88.250008   \n",
       "1                                    24.760002   \n",
       "\n",
       "   price_usd_rel_diff_to_min_price_usd_per_srch_id  \\\n",
       "0                                         0.618344   \n",
       "1                                         0.312508   \n",
       "\n",
       "   price_usd_diff_to_max_price_usd_per_srch_id  \\\n",
       "0                                  -921.009949   \n",
       "1                                  -984.500000   \n",
       "\n",
       "   price_usd_rel_diff_to_max_price_usd_per_srch_id  \\\n",
       "0                                        -6.453264   \n",
       "1                                       -12.425849   \n",
       "\n",
       "   mean_prop_review_score_per_srch_id  min_prop_review_score_per_srch_id  \\\n",
       "0                            3.460784                                0.0   \n",
       "1                            3.460784                                0.0   \n",
       "\n",
       "   max_prop_review_score_per_srch_id  \\\n",
       "0                                5.0   \n",
       "1                                5.0   \n",
       "\n",
       "   prop_review_score_diff_to_mean_prop_review_score_per_srch_id  \\\n",
       "0                                           1.039216              \n",
       "1                                          -0.460784              \n",
       "\n",
       "   prop_review_score_rel_diff_to_mean_prop_review_score_per_srch_id  \\\n",
       "0                                           0.230425                  \n",
       "1                                          -0.153084                  \n",
       "\n",
       "   prop_review_score_diff_to_min_prop_review_score_per_srch_id  \\\n",
       "0                                                4.5             \n",
       "1                                                3.0             \n",
       "\n",
       "   prop_review_score_rel_diff_to_min_prop_review_score_per_srch_id  \\\n",
       "0                                           0.997783                 \n",
       "1                                           0.996678                 \n",
       "\n",
       "   prop_review_score_diff_to_max_prop_review_score_per_srch_id  \\\n",
       "0                                               -0.5             \n",
       "1                                               -2.0             \n",
       "\n",
       "   prop_review_score_rel_diff_to_max_prop_review_score_per_srch_id  \\\n",
       "0                                          -0.110865                 \n",
       "1                                          -0.664452                 \n",
       "\n",
       "   mean_promotion_flag_per_srch_id  \\\n",
       "0                         0.294118   \n",
       "1                         0.294118   \n",
       "\n",
       "   promotion_flag_diff_to_mean_promotion_flag_per_srch_id  \n",
       "0                                          -0.294118       \n",
       "1                                          -0.294118       "
      ]
     },
     "execution_count": 114,
     "metadata": {},
     "output_type": "execute_result"
    }
   ],
   "source": [
    "df.head(2)"
   ]
  },
  {
   "cell_type": "markdown",
   "id": "030428c0",
   "metadata": {},
   "source": [
    "#### prop_country_id"
   ]
  },
  {
   "cell_type": "code",
   "execution_count": 115,
   "id": "6d5a5d39",
   "metadata": {
    "ExecuteTime": {
     "end_time": "2022-05-27T14:37:19.153632Z",
     "start_time": "2022-05-27T14:37:19.122629Z"
    }
   },
   "outputs": [
    {
     "data": {
      "text/plain": [
       "(9917530, 160)"
      ]
     },
     "execution_count": 115,
     "metadata": {},
     "output_type": "execute_result"
    }
   ],
   "source": [
    "df.shape"
   ]
  },
  {
   "cell_type": "code",
   "execution_count": 116,
   "id": "8afa1094",
   "metadata": {
    "ExecuteTime": {
     "end_time": "2022-05-27T14:38:14.191259Z",
     "start_time": "2022-05-27T14:37:19.157282Z"
    }
   },
   "outputs": [
    {
     "name": "stdout",
     "output_type": "stream",
     "text": [
      "172 groups when aggregation by ['prop_country_id']\n",
      "145 groups when aggregation by ['prop_country_id']\n",
      "144 groups when aggregation by ['prop_country_id']\n",
      "167 groups when aggregation by ['prop_country_id']\n"
     ]
    }
   ],
   "source": [
    "# was removed. return back\n",
    "# prices for the hotel country\n",
    "groupby_cols = ['prop_country_id']\n",
    "feature_value_col = 'price_per_day'\n",
    "df = apply_composite_for_splits(df, split_cols=['train', 'val', 'test', 'subm'],\n",
    "                                groupby_cols=groupby_cols,\n",
    "                                feature_value_col=feature_value_col,\n",
    "                                agg_methods=[\"min\", \"max\"])\n",
    "\n",
    "# # prices for the hotel country for the season of trip for specific number of rooms\n",
    "# groupby_cols = ['prop_country_id', 'srch_room_count', 'trip_start_date_quarter']\n",
    "# feature_value_col = 'price_per_day'\n",
    "# df = apply_composite_for_splits(deepcopy(df), split_cols=['train', 'val', 'test', 'subm'],\n",
    "#                                 groupby_cols=groupby_cols,\n",
    "#                                 feature_value_col=feature_value_col,\n",
    "#                                 agg_methods=[\"mean\", \"median\", \"min\", \"max\"])"
   ]
  },
  {
   "cell_type": "code",
   "execution_count": 117,
   "id": "fcfb376c",
   "metadata": {
    "ExecuteTime": {
     "end_time": "2022-05-27T14:40:26.706990Z",
     "start_time": "2022-05-27T14:38:14.202743Z"
    }
   },
   "outputs": [
    {
     "name": "stdout",
     "output_type": "stream",
     "text": [
      "3712 groups when aggregation by ['visitor_location_country_id', 'prop_country_id']\n"
     ]
    },
    {
     "name": "stderr",
     "output_type": "stream",
     "text": [
      "/Users/Oleg_Litvinov1/Documents/Code/Expedia_HTTPS/features.py:144: PerformanceWarning: DataFrame is highly fragmented.  This is usually the result of calling `frame.insert` many times, which has poor performance.  Consider joining all columns at once using pd.concat(axis=1) instead.  To get a de-fragmented frame, use `newframe = frame.copy()`\n",
      "  input_df[feature_value_col + '_rel_diff_to_' + new_feature_name] = (input_df[feature_value_col] - input_df[\n"
     ]
    },
    {
     "name": "stdout",
     "output_type": "stream",
     "text": [
      "1377 groups when aggregation by ['visitor_location_country_id', 'prop_country_id']\n",
      "1380 groups when aggregation by ['visitor_location_country_id', 'prop_country_id']\n",
      "4001 groups when aggregation by ['visitor_location_country_id', 'prop_country_id']\n"
     ]
    },
    {
     "data": {
      "text/plain": [
       "(9917530, 178)"
      ]
     },
     "execution_count": 117,
     "metadata": {},
     "output_type": "execute_result"
    }
   ],
   "source": [
    "# prices from the country of user for the destination country\n",
    "groupby_cols = ['visitor_location_country_id', 'prop_country_id']\n",
    "feature_value_col = 'price_per_day'\n",
    "agg_methods = [\"mean\", \"median\", \"min\", \"max\"]\n",
    "\n",
    "df = apply_composite_for_splits(df, split_cols=['train', 'val', 'test', 'subm'],\n",
    "                                groupby_cols=groupby_cols,\n",
    "                                feature_value_col=feature_value_col,\n",
    "                                agg_methods=[\"mean\", \"median\", \"min\", \"max\"])\n",
    "df.shape"
   ]
  },
  {
   "cell_type": "code",
   "execution_count": 118,
   "id": "523ef735",
   "metadata": {
    "ExecuteTime": {
     "end_time": "2022-05-27T14:42:33.625220Z",
     "start_time": "2022-05-27T14:40:26.717500Z"
    },
    "scrolled": true
   },
   "outputs": [
    {
     "name": "stdout",
     "output_type": "stream",
     "text": [
      "7528 groups when aggregation by ['visitor_location_country_id', 'prop_country_id', 'trip_start_date_quarter']\n"
     ]
    },
    {
     "name": "stderr",
     "output_type": "stream",
     "text": [
      "/Users/Oleg_Litvinov1/Documents/Code/Expedia_HTTPS/features.py:141: PerformanceWarning: DataFrame is highly fragmented.  This is usually the result of calling `frame.insert` many times, which has poor performance.  Consider joining all columns at once using pd.concat(axis=1) instead.  To get a de-fragmented frame, use `newframe = frame.copy()`\n",
      "  input_df[feature_value_col + '_diff_to_' + new_feature_name] = input_df[feature_value_col] - input_df[\n"
     ]
    },
    {
     "name": "stdout",
     "output_type": "stream",
     "text": [
      "2449 groups when aggregation by ['visitor_location_country_id', 'prop_country_id', 'trip_start_date_quarter']\n",
      "2504 groups when aggregation by ['visitor_location_country_id', 'prop_country_id', 'trip_start_date_quarter']\n",
      "8233 groups when aggregation by ['visitor_location_country_id', 'prop_country_id', 'trip_start_date_quarter']\n"
     ]
    },
    {
     "data": {
      "text/plain": [
       "(9917530, 190)"
      ]
     },
     "execution_count": 118,
     "metadata": {},
     "output_type": "execute_result"
    }
   ],
   "source": [
    "# prices from the country of user for the destination country for the season of trip\n",
    "groupby_cols = ['visitor_location_country_id', 'prop_country_id', 'trip_start_date_quarter']\n",
    "feature_value_col = 'price_per_day'\n",
    "df = apply_composite_for_splits(df, split_cols=['train', 'val', 'test', 'subm'],\n",
    "                                groupby_cols=groupby_cols,\n",
    "                                feature_value_col=feature_value_col,\n",
    "                                agg_methods=[\"mean\", \"median\", \"min\", \"max\"])\n",
    "df.shape"
   ]
  },
  {
   "cell_type": "code",
   "execution_count": 119,
   "id": "5f97cc77",
   "metadata": {
    "ExecuteTime": {
     "end_time": "2022-05-27T14:42:33.864625Z",
     "start_time": "2022-05-27T14:42:33.638121Z"
    },
    "scrolled": true
   },
   "outputs": [],
   "source": [
    "# \n",
    "\n",
    "# # prices for the hotel country for the season of trip\n",
    "# groupby_cols = ['prop_country_id', 'trip_start_date_quarter']\n",
    "# feature_value_col = 'price_per_day'\n",
    "# df = apply_composite_for_splits(deepcopy(df), split_cols=['train', 'val', 'test', 'subm'],\n",
    "#                                 groupby_cols=groupby_cols,\n",
    "#                                 feature_value_col=feature_value_col,\n",
    "#                                 agg_methods=[\"mean\", \"median\", \"min\", \"max\"])"
   ]
  },
  {
   "cell_type": "code",
   "execution_count": 120,
   "id": "8ca2ffb8",
   "metadata": {
    "ExecuteTime": {
     "end_time": "2022-05-27T14:42:34.023888Z",
     "start_time": "2022-05-27T14:42:33.867258Z"
    }
   },
   "outputs": [
    {
     "data": {
      "text/html": [
       "<div>\n",
       "<style scoped>\n",
       "    .dataframe tbody tr th:only-of-type {\n",
       "        vertical-align: middle;\n",
       "    }\n",
       "\n",
       "    .dataframe tbody tr th {\n",
       "        vertical-align: top;\n",
       "    }\n",
       "\n",
       "    .dataframe thead th {\n",
       "        text-align: right;\n",
       "    }\n",
       "</style>\n",
       "<table border=\"1\" class=\"dataframe\">\n",
       "  <thead>\n",
       "    <tr style=\"text-align: right;\">\n",
       "      <th></th>\n",
       "      <th>srch_id</th>\n",
       "      <th>date_time</th>\n",
       "      <th>site_id</th>\n",
       "      <th>visitor_location_country_id</th>\n",
       "      <th>visitor_hist_starrating</th>\n",
       "      <th>visitor_hist_adr_usd</th>\n",
       "      <th>prop_country_id</th>\n",
       "      <th>prop_id</th>\n",
       "      <th>prop_starrating</th>\n",
       "      <th>prop_review_score</th>\n",
       "      <th>prop_brand_bool</th>\n",
       "      <th>prop_location_score1</th>\n",
       "      <th>prop_location_score2</th>\n",
       "      <th>prop_log_historical_price</th>\n",
       "      <th>position</th>\n",
       "      <th>price_usd</th>\n",
       "      <th>promotion_flag</th>\n",
       "      <th>srch_destination_id</th>\n",
       "      <th>srch_length_of_stay</th>\n",
       "      <th>srch_booking_window</th>\n",
       "      <th>srch_adults_count</th>\n",
       "      <th>srch_children_count</th>\n",
       "      <th>srch_room_count</th>\n",
       "      <th>srch_saturday_night_bool</th>\n",
       "      <th>srch_query_affinity_score</th>\n",
       "      <th>orig_destination_distance</th>\n",
       "      <th>random_bool</th>\n",
       "      <th>comp3_rate_percent_diff</th>\n",
       "      <th>click_bool</th>\n",
       "      <th>gross_bookings_usd</th>\n",
       "      <th>booking_bool</th>\n",
       "      <th>test</th>\n",
       "      <th>val</th>\n",
       "      <th>train</th>\n",
       "      <th>subm</th>\n",
       "      <th>price_per_day</th>\n",
       "      <th>price_per_trip</th>\n",
       "      <th>date_time_ordinal</th>\n",
       "      <th>prop_location_score_diff</th>\n",
       "      <th>prop_location_score_sum</th>\n",
       "      <th>prop_location_score_mul</th>\n",
       "      <th>prop_location_score_diff_log</th>\n",
       "      <th>prop_location_score_sum_log</th>\n",
       "      <th>prop_location_score_mul_log</th>\n",
       "      <th>ratio_of_comp_with_lower_price_than_expedia</th>\n",
       "      <th>comp5_rate_percent_diff_signed</th>\n",
       "      <th>comp8_rate_percent_diff_signed</th>\n",
       "      <th>price_per_day_pow_2</th>\n",
       "      <th>price_per_day_log_10</th>\n",
       "      <th>price_per_day_reciprocal</th>\n",
       "      <th>prop_log_historical_price_pow_0.33</th>\n",
       "      <th>prop_log_historical_price_log_10</th>\n",
       "      <th>prop_log_historical_price_reciprocal</th>\n",
       "      <th>prop_historical_price</th>\n",
       "      <th>price_diff_to_usr_hist</th>\n",
       "      <th>price_ratio_to_usr_hist</th>\n",
       "      <th>price_diff_to_place_hist_price</th>\n",
       "      <th>prop_star_usr_hist_diff</th>\n",
       "      <th>prop_starrating_bonus_chain</th>\n",
       "      <th>prop_star_review_sum</th>\n",
       "      <th>prop_star_review_diff</th>\n",
       "      <th>prop_star_review_min</th>\n",
       "      <th>prop_star_review_max</th>\n",
       "      <th>prop_star_review_mean</th>\n",
       "      <th>price_per_star</th>\n",
       "      <th>price_per_review_score</th>\n",
       "      <th>price_per_star_log_10</th>\n",
       "      <th>price_per_review_score_log_10</th>\n",
       "      <th>booking_weeks_ahead</th>\n",
       "      <th>len_of_stay_to_booking_ahead_ratio</th>\n",
       "      <th>date</th>\n",
       "      <th>trip_start_date_week</th>\n",
       "      <th>trip_start_date_week_mid_summer_index</th>\n",
       "      <th>trip_start_date_month</th>\n",
       "      <th>trip_start_date_quarter</th>\n",
       "      <th>trip_start_date_season_num</th>\n",
       "      <th>trip_start_date_year</th>\n",
       "      <th>trip_start_date_week_id</th>\n",
       "      <th>trip_end_date_week</th>\n",
       "      <th>trip_end_date_week_mid_summer_index</th>\n",
       "      <th>trip_end_date_month</th>\n",
       "      <th>trip_end_date_quarter</th>\n",
       "      <th>trip_end_date_season_num</th>\n",
       "      <th>trip_end_date_year</th>\n",
       "      <th>trip_end_date_week_id</th>\n",
       "      <th>children_per_adult</th>\n",
       "      <th>total_people</th>\n",
       "      <th>people_per_room</th>\n",
       "      <th>separate_children_room</th>\n",
       "      <th>price_usd_log10_norm_by_srch_id</th>\n",
       "      <th>price_usd_log10_norm_by_prop_id</th>\n",
       "      <th>prop_starrating_norm_by_srch_id</th>\n",
       "      <th>price_index_per_srch_id</th>\n",
       "      <th>price_index_per_srch_destination_id</th>\n",
       "      <th>price_index_per_prop_id</th>\n",
       "      <th>srch_query_affinity_score_prob</th>\n",
       "      <th>booking_prob_train</th>\n",
       "      <th>click_prob_train</th>\n",
       "      <th>book_per_click</th>\n",
       "      <th>mean_position_train</th>\n",
       "      <th>mean_position_train_when_not_random</th>\n",
       "      <th>mean_prop_starrating_per_srch_id</th>\n",
       "      <th>median_prop_starrating_per_srch_id</th>\n",
       "      <th>min_prop_starrating_per_srch_id</th>\n",
       "      <th>max_prop_starrating_per_srch_id</th>\n",
       "      <th>prop_starrating_diff_to_mean_prop_starrating_per_srch_id</th>\n",
       "      <th>prop_starrating_rel_diff_to_mean_prop_starrating_per_srch_id</th>\n",
       "      <th>prop_starrating_diff_to_median_prop_starrating_per_srch_id</th>\n",
       "      <th>prop_starrating_rel_diff_to_median_prop_starrating_per_srch_id</th>\n",
       "      <th>prop_starrating_diff_to_min_prop_starrating_per_srch_id</th>\n",
       "      <th>prop_starrating_rel_diff_to_min_prop_starrating_per_srch_id</th>\n",
       "      <th>prop_starrating_diff_to_max_prop_starrating_per_srch_id</th>\n",
       "      <th>prop_starrating_rel_diff_to_max_prop_starrating_per_srch_id</th>\n",
       "      <th>mean_prop_location_score2_per_srch_id</th>\n",
       "      <th>median_prop_location_score2_per_srch_id</th>\n",
       "      <th>min_prop_location_score2_per_srch_id</th>\n",
       "      <th>max_prop_location_score2_per_srch_id</th>\n",
       "      <th>prop_location_score2_diff_to_mean_prop_location_score2_per_srch_id</th>\n",
       "      <th>prop_location_score2_rel_diff_to_mean_prop_location_score2_per_srch_id</th>\n",
       "      <th>prop_location_score2_diff_to_median_prop_location_score2_per_srch_id</th>\n",
       "      <th>prop_location_score2_rel_diff_to_median_prop_location_score2_per_srch_id</th>\n",
       "      <th>prop_location_score2_diff_to_min_prop_location_score2_per_srch_id</th>\n",
       "      <th>prop_location_score2_rel_diff_to_min_prop_location_score2_per_srch_id</th>\n",
       "      <th>prop_location_score2_diff_to_max_prop_location_score2_per_srch_id</th>\n",
       "      <th>prop_location_score2_rel_diff_to_max_prop_location_score2_per_srch_id</th>\n",
       "      <th>mean_prop_location_score1_per_srch_id</th>\n",
       "      <th>median_prop_location_score1_per_srch_id</th>\n",
       "      <th>min_prop_location_score1_per_srch_id</th>\n",
       "      <th>max_prop_location_score1_per_srch_id</th>\n",
       "      <th>prop_location_score1_diff_to_mean_prop_location_score1_per_srch_id</th>\n",
       "      <th>prop_location_score1_rel_diff_to_mean_prop_location_score1_per_srch_id</th>\n",
       "      <th>prop_location_score1_diff_to_median_prop_location_score1_per_srch_id</th>\n",
       "      <th>prop_location_score1_rel_diff_to_median_prop_location_score1_per_srch_id</th>\n",
       "      <th>prop_location_score1_diff_to_min_prop_location_score1_per_srch_id</th>\n",
       "      <th>prop_location_score1_rel_diff_to_min_prop_location_score1_per_srch_id</th>\n",
       "      <th>prop_location_score1_diff_to_max_prop_location_score1_per_srch_id</th>\n",
       "      <th>prop_location_score1_rel_diff_to_max_prop_location_score1_per_srch_id</th>\n",
       "      <th>mean_price_usd_per_srch_id</th>\n",
       "      <th>median_price_usd_per_srch_id</th>\n",
       "      <th>min_price_usd_per_srch_id</th>\n",
       "      <th>max_price_usd_per_srch_id</th>\n",
       "      <th>price_usd_diff_to_mean_price_usd_per_srch_id</th>\n",
       "      <th>price_usd_rel_diff_to_mean_price_usd_per_srch_id</th>\n",
       "      <th>price_usd_diff_to_median_price_usd_per_srch_id</th>\n",
       "      <th>price_usd_rel_diff_to_median_price_usd_per_srch_id</th>\n",
       "      <th>price_usd_diff_to_min_price_usd_per_srch_id</th>\n",
       "      <th>price_usd_rel_diff_to_min_price_usd_per_srch_id</th>\n",
       "      <th>price_usd_diff_to_max_price_usd_per_srch_id</th>\n",
       "      <th>price_usd_rel_diff_to_max_price_usd_per_srch_id</th>\n",
       "      <th>mean_prop_review_score_per_srch_id</th>\n",
       "      <th>min_prop_review_score_per_srch_id</th>\n",
       "      <th>max_prop_review_score_per_srch_id</th>\n",
       "      <th>prop_review_score_diff_to_mean_prop_review_score_per_srch_id</th>\n",
       "      <th>prop_review_score_rel_diff_to_mean_prop_review_score_per_srch_id</th>\n",
       "      <th>prop_review_score_diff_to_min_prop_review_score_per_srch_id</th>\n",
       "      <th>prop_review_score_rel_diff_to_min_prop_review_score_per_srch_id</th>\n",
       "      <th>prop_review_score_diff_to_max_prop_review_score_per_srch_id</th>\n",
       "      <th>prop_review_score_rel_diff_to_max_prop_review_score_per_srch_id</th>\n",
       "      <th>mean_promotion_flag_per_srch_id</th>\n",
       "      <th>promotion_flag_diff_to_mean_promotion_flag_per_srch_id</th>\n",
       "      <th>min_price_per_day_per_prop_country_id</th>\n",
       "      <th>max_price_per_day_per_prop_country_id</th>\n",
       "      <th>price_per_day_diff_to_min_price_per_day_per_prop_country_id</th>\n",
       "      <th>price_per_day_rel_diff_to_min_price_per_day_per_prop_country_id</th>\n",
       "      <th>price_per_day_diff_to_max_price_per_day_per_prop_country_id</th>\n",
       "      <th>price_per_day_rel_diff_to_max_price_per_day_per_prop_country_id</th>\n",
       "      <th>mean_price_per_day_per_visitor_location_country_id_per_prop_country_id</th>\n",
       "      <th>median_price_per_day_per_visitor_location_country_id_per_prop_country_id</th>\n",
       "      <th>min_price_per_day_per_visitor_location_country_id_per_prop_country_id</th>\n",
       "      <th>max_price_per_day_per_visitor_location_country_id_per_prop_country_id</th>\n",
       "      <th>price_per_day_diff_to_mean_price_per_day_per_visitor_location_country_id_per_prop_country_id</th>\n",
       "      <th>price_per_day_rel_diff_to_mean_price_per_day_per_visitor_location_country_id_per_prop_country_id</th>\n",
       "      <th>price_per_day_diff_to_median_price_per_day_per_visitor_location_country_id_per_prop_country_id</th>\n",
       "      <th>price_per_day_rel_diff_to_median_price_per_day_per_visitor_location_country_id_per_prop_country_id</th>\n",
       "      <th>price_per_day_diff_to_min_price_per_day_per_visitor_location_country_id_per_prop_country_id</th>\n",
       "      <th>price_per_day_rel_diff_to_min_price_per_day_per_visitor_location_country_id_per_prop_country_id</th>\n",
       "      <th>price_per_day_diff_to_max_price_per_day_per_visitor_location_country_id_per_prop_country_id</th>\n",
       "      <th>price_per_day_rel_diff_to_max_price_per_day_per_visitor_location_country_id_per_prop_country_id</th>\n",
       "      <th>mean_price_per_day_per_visitor_location_country_id_per_prop_country_id_per_trip_start_date_quarter</th>\n",
       "      <th>median_price_per_day_per_visitor_location_country_id_per_prop_country_id_per_trip_start_date_quarter</th>\n",
       "      <th>min_price_per_day_per_visitor_location_country_id_per_prop_country_id_per_trip_start_date_quarter</th>\n",
       "      <th>max_price_per_day_per_visitor_location_country_id_per_prop_country_id_per_trip_start_date_quarter</th>\n",
       "      <th>price_per_day_diff_to_mean_price_per_day_per_visitor_location_country_id_per_prop_country_id_per_trip_start_date_quarter</th>\n",
       "      <th>price_per_day_rel_diff_to_mean_price_per_day_per_visitor_location_country_id_per_prop_country_id_per_trip_start_date_quarter</th>\n",
       "      <th>price_per_day_diff_to_median_price_per_day_per_visitor_location_country_id_per_prop_country_id_per_trip_start_date_quarter</th>\n",
       "      <th>price_per_day_rel_diff_to_median_price_per_day_per_visitor_location_country_id_per_prop_country_id_per_trip_start_date_quarter</th>\n",
       "      <th>price_per_day_diff_to_min_price_per_day_per_visitor_location_country_id_per_prop_country_id_per_trip_start_date_quarter</th>\n",
       "      <th>price_per_day_rel_diff_to_min_price_per_day_per_visitor_location_country_id_per_prop_country_id_per_trip_start_date_quarter</th>\n",
       "      <th>price_per_day_diff_to_max_price_per_day_per_visitor_location_country_id_per_prop_country_id_per_trip_start_date_quarter</th>\n",
       "      <th>price_per_day_rel_diff_to_max_price_per_day_per_visitor_location_country_id_per_prop_country_id_per_trip_start_date_quarter</th>\n",
       "    </tr>\n",
       "  </thead>\n",
       "  <tbody>\n",
       "    <tr>\n",
       "      <th>51</th>\n",
       "      <td>84032</td>\n",
       "      <td>2013-05-30 14:07:47</td>\n",
       "      <td>24</td>\n",
       "      <td>216</td>\n",
       "      <td>NaN</td>\n",
       "      <td>NaN</td>\n",
       "      <td>225</td>\n",
       "      <td>327</td>\n",
       "      <td>4.0</td>\n",
       "      <td>4.5</td>\n",
       "      <td>0</td>\n",
       "      <td>3.66</td>\n",
       "      <td>0.0385</td>\n",
       "      <td>5.37</td>\n",
       "      <td>28.0</td>\n",
       "      <td>162.279999</td>\n",
       "      <td>1</td>\n",
       "      <td>11308</td>\n",
       "      <td>3</td>\n",
       "      <td>45</td>\n",
       "      <td>2</td>\n",
       "      <td>1</td>\n",
       "      <td>1</td>\n",
       "      <td>0</td>\n",
       "      <td>NaN</td>\n",
       "      <td>NaN</td>\n",
       "      <td>1</td>\n",
       "      <td>8.0</td>\n",
       "      <td>0.0</td>\n",
       "      <td>NaN</td>\n",
       "      <td>0.0</td>\n",
       "      <td>False</td>\n",
       "      <td>False</td>\n",
       "      <td>True</td>\n",
       "      <td>False</td>\n",
       "      <td>162.279999</td>\n",
       "      <td>486.839996</td>\n",
       "      <td>332340</td>\n",
       "      <td>3.6215</td>\n",
       "      <td>3.6985</td>\n",
       "      <td>0.14091</td>\n",
       "      <td>8.358960</td>\n",
       "      <td>-1.038960</td>\n",
       "      <td>-17.198195</td>\n",
       "      <td>NaN</td>\n",
       "      <td>NaN</td>\n",
       "      <td>&lt;NA&gt;</td>\n",
       "      <td>26334.798828</td>\n",
       "      <td>2.210265</td>\n",
       "      <td>0.006162</td>\n",
       "      <td>1.741372</td>\n",
       "      <td>0.729974</td>\n",
       "      <td>0.186220</td>\n",
       "      <td>214.862854</td>\n",
       "      <td>NaN</td>\n",
       "      <td>NaN</td>\n",
       "      <td>-52.582855</td>\n",
       "      <td>NaN</td>\n",
       "      <td>4.0</td>\n",
       "      <td>8.5</td>\n",
       "      <td>-0.5</td>\n",
       "      <td>4.0</td>\n",
       "      <td>4.5</td>\n",
       "      <td>4.25</td>\n",
       "      <td>40.569990</td>\n",
       "      <td>36.062214</td>\n",
       "      <td>1.608205</td>\n",
       "      <td>1.557052</td>\n",
       "      <td>6.428571</td>\n",
       "      <td>15.0</td>\n",
       "      <td>2013-05-30</td>\n",
       "      <td>28</td>\n",
       "      <td>25</td>\n",
       "      <td>7</td>\n",
       "      <td>3</td>\n",
       "      <td>3</td>\n",
       "      <td>2013</td>\n",
       "      <td>201328</td>\n",
       "      <td>29</td>\n",
       "      <td>25</td>\n",
       "      <td>7</td>\n",
       "      <td>3</td>\n",
       "      <td>3</td>\n",
       "      <td>2013</td>\n",
       "      <td>201329</td>\n",
       "      <td>0.5</td>\n",
       "      <td>3</td>\n",
       "      <td>3.0</td>\n",
       "      <td>False</td>\n",
       "      <td>1.774799</td>\n",
       "      <td>0.728419</td>\n",
       "      <td>0.169961</td>\n",
       "      <td>55</td>\n",
       "      <td>12027</td>\n",
       "      <td>267</td>\n",
       "      <td>NaN</td>\n",
       "      <td>0.028369</td>\n",
       "      <td>0.035461</td>\n",
       "      <td>0.8</td>\n",
       "      <td>16.063830</td>\n",
       "      <td>15.683761</td>\n",
       "      <td>3.864407</td>\n",
       "      <td>4.0</td>\n",
       "      <td>1.0</td>\n",
       "      <td>5.0</td>\n",
       "      <td>0.135593</td>\n",
       "      <td>0.033814</td>\n",
       "      <td>0.0</td>\n",
       "      <td>0.000000</td>\n",
       "      <td>3.0</td>\n",
       "      <td>0.748130</td>\n",
       "      <td>-1.0</td>\n",
       "      <td>-0.249377</td>\n",
       "      <td>0.082953</td>\n",
       "      <td>0.0757</td>\n",
       "      <td>0.0003</td>\n",
       "      <td>0.2227</td>\n",
       "      <td>-0.044453</td>\n",
       "      <td>-0.916555</td>\n",
       "      <td>-0.0372</td>\n",
       "      <td>-0.767010</td>\n",
       "      <td>0.0382</td>\n",
       "      <td>0.787629</td>\n",
       "      <td>-0.1842</td>\n",
       "      <td>-3.797938</td>\n",
       "      <td>3.814237</td>\n",
       "      <td>4.13</td>\n",
       "      <td>0.69</td>\n",
       "      <td>4.84</td>\n",
       "      <td>-0.154237</td>\n",
       "      <td>-0.042027</td>\n",
       "      <td>-0.47</td>\n",
       "      <td>-0.128065</td>\n",
       "      <td>2.97</td>\n",
       "      <td>0.809264</td>\n",
       "      <td>-1.18</td>\n",
       "      <td>-0.321526</td>\n",
       "      <td>94.789322</td>\n",
       "      <td>89.110001</td>\n",
       "      <td>47.0</td>\n",
       "      <td>229.509995</td>\n",
       "      <td>67.490677</td>\n",
       "      <td>0.415865</td>\n",
       "      <td>73.169998</td>\n",
       "      <td>0.450860</td>\n",
       "      <td>115.279999</td>\n",
       "      <td>0.710333</td>\n",
       "      <td>-67.229996</td>\n",
       "      <td>-0.414258</td>\n",
       "      <td>3.342105</td>\n",
       "      <td>0.0</td>\n",
       "      <td>5.0</td>\n",
       "      <td>1.157895</td>\n",
       "      <td>0.256739</td>\n",
       "      <td>4.5</td>\n",
       "      <td>0.997783</td>\n",
       "      <td>-0.5</td>\n",
       "      <td>-0.110865</td>\n",
       "      <td>0.271186</td>\n",
       "      <td>0.728814</td>\n",
       "      <td>11.21</td>\n",
       "      <td>75594.0</td>\n",
       "      <td>151.069992</td>\n",
       "      <td>0.930864</td>\n",
       "      <td>-75431.718750</td>\n",
       "      <td>-464.795855</td>\n",
       "      <td>129.73735</td>\n",
       "      <td>109.175003</td>\n",
       "      <td>25.32</td>\n",
       "      <td>3946.189941</td>\n",
       "      <td>32.542648</td>\n",
       "      <td>0.200522</td>\n",
       "      <td>53.104996</td>\n",
       "      <td>0.327223</td>\n",
       "      <td>136.959991</td>\n",
       "      <td>0.843921</td>\n",
       "      <td>-3783.909912</td>\n",
       "      <td>-23.315731</td>\n",
       "      <td>115.298416</td>\n",
       "      <td>102.239998</td>\n",
       "      <td>25.52</td>\n",
       "      <td>503.859985</td>\n",
       "      <td>46.981583</td>\n",
       "      <td>0.289492</td>\n",
       "      <td>60.040001</td>\n",
       "      <td>0.369955</td>\n",
       "      <td>136.759995</td>\n",
       "      <td>0.842689</td>\n",
       "      <td>-341.579987</td>\n",
       "      <td>-2.104751</td>\n",
       "    </tr>\n",
       "    <tr>\n",
       "      <th>52</th>\n",
       "      <td>84032</td>\n",
       "      <td>2013-05-30 14:07:47</td>\n",
       "      <td>24</td>\n",
       "      <td>216</td>\n",
       "      <td>NaN</td>\n",
       "      <td>NaN</td>\n",
       "      <td>225</td>\n",
       "      <td>20797</td>\n",
       "      <td>3.0</td>\n",
       "      <td>3.0</td>\n",
       "      <td>0</td>\n",
       "      <td>4.65</td>\n",
       "      <td>0.0576</td>\n",
       "      <td>5.09</td>\n",
       "      <td>2.0</td>\n",
       "      <td>92.930000</td>\n",
       "      <td>0</td>\n",
       "      <td>11308</td>\n",
       "      <td>3</td>\n",
       "      <td>45</td>\n",
       "      <td>2</td>\n",
       "      <td>1</td>\n",
       "      <td>1</td>\n",
       "      <td>0</td>\n",
       "      <td>NaN</td>\n",
       "      <td>NaN</td>\n",
       "      <td>1</td>\n",
       "      <td>6.0</td>\n",
       "      <td>0.0</td>\n",
       "      <td>NaN</td>\n",
       "      <td>0.0</td>\n",
       "      <td>False</td>\n",
       "      <td>False</td>\n",
       "      <td>True</td>\n",
       "      <td>False</td>\n",
       "      <td>92.930000</td>\n",
       "      <td>278.790009</td>\n",
       "      <td>332340</td>\n",
       "      <td>4.5924</td>\n",
       "      <td>4.7076</td>\n",
       "      <td>0.26784</td>\n",
       "      <td>8.767762</td>\n",
       "      <td>0.532238</td>\n",
       "      <td>-19.147595</td>\n",
       "      <td>0.5</td>\n",
       "      <td>NaN</td>\n",
       "      <td>&lt;NA&gt;</td>\n",
       "      <td>8635.985352</td>\n",
       "      <td>1.968156</td>\n",
       "      <td>0.010761</td>\n",
       "      <td>1.710869</td>\n",
       "      <td>0.706718</td>\n",
       "      <td>0.196464</td>\n",
       "      <td>162.389893</td>\n",
       "      <td>NaN</td>\n",
       "      <td>NaN</td>\n",
       "      <td>-69.459892</td>\n",
       "      <td>NaN</td>\n",
       "      <td>3.0</td>\n",
       "      <td>6.0</td>\n",
       "      <td>0.0</td>\n",
       "      <td>3.0</td>\n",
       "      <td>3.0</td>\n",
       "      <td>3.00</td>\n",
       "      <td>30.976656</td>\n",
       "      <td>30.976656</td>\n",
       "      <td>1.491035</td>\n",
       "      <td>1.491035</td>\n",
       "      <td>6.428571</td>\n",
       "      <td>15.0</td>\n",
       "      <td>2013-05-30</td>\n",
       "      <td>28</td>\n",
       "      <td>25</td>\n",
       "      <td>7</td>\n",
       "      <td>3</td>\n",
       "      <td>3</td>\n",
       "      <td>2013</td>\n",
       "      <td>201328</td>\n",
       "      <td>29</td>\n",
       "      <td>25</td>\n",
       "      <td>7</td>\n",
       "      <td>3</td>\n",
       "      <td>3</td>\n",
       "      <td>2013</td>\n",
       "      <td>201329</td>\n",
       "      <td>0.5</td>\n",
       "      <td>3</td>\n",
       "      <td>3.0</td>\n",
       "      <td>False</td>\n",
       "      <td>0.114392</td>\n",
       "      <td>-0.019426</td>\n",
       "      <td>-1.083501</td>\n",
       "      <td>32</td>\n",
       "      <td>5109</td>\n",
       "      <td>41</td>\n",
       "      <td>NaN</td>\n",
       "      <td>0.000000</td>\n",
       "      <td>0.076923</td>\n",
       "      <td>0.0</td>\n",
       "      <td>15.923077</td>\n",
       "      <td>14.062500</td>\n",
       "      <td>3.864407</td>\n",
       "      <td>4.0</td>\n",
       "      <td>1.0</td>\n",
       "      <td>5.0</td>\n",
       "      <td>-0.864407</td>\n",
       "      <td>-0.287178</td>\n",
       "      <td>-1.0</td>\n",
       "      <td>-0.332226</td>\n",
       "      <td>2.0</td>\n",
       "      <td>0.664452</td>\n",
       "      <td>-2.0</td>\n",
       "      <td>-0.664452</td>\n",
       "      <td>0.082953</td>\n",
       "      <td>0.0757</td>\n",
       "      <td>0.0003</td>\n",
       "      <td>0.2227</td>\n",
       "      <td>-0.025353</td>\n",
       "      <td>-0.375043</td>\n",
       "      <td>-0.0181</td>\n",
       "      <td>-0.267751</td>\n",
       "      <td>0.0573</td>\n",
       "      <td>0.847633</td>\n",
       "      <td>-0.1651</td>\n",
       "      <td>-2.442308</td>\n",
       "      <td>3.814237</td>\n",
       "      <td>4.13</td>\n",
       "      <td>0.69</td>\n",
       "      <td>4.84</td>\n",
       "      <td>0.835763</td>\n",
       "      <td>0.179348</td>\n",
       "      <td>0.52</td>\n",
       "      <td>0.111588</td>\n",
       "      <td>3.96</td>\n",
       "      <td>0.849785</td>\n",
       "      <td>-0.19</td>\n",
       "      <td>-0.040773</td>\n",
       "      <td>94.789322</td>\n",
       "      <td>89.110001</td>\n",
       "      <td>47.0</td>\n",
       "      <td>229.509995</td>\n",
       "      <td>-1.859322</td>\n",
       "      <td>-0.020006</td>\n",
       "      <td>3.820000</td>\n",
       "      <td>0.041102</td>\n",
       "      <td>45.930000</td>\n",
       "      <td>0.494190</td>\n",
       "      <td>-136.579987</td>\n",
       "      <td>-1.469550</td>\n",
       "      <td>3.342105</td>\n",
       "      <td>0.0</td>\n",
       "      <td>5.0</td>\n",
       "      <td>-0.342105</td>\n",
       "      <td>-0.113656</td>\n",
       "      <td>3.0</td>\n",
       "      <td>0.996678</td>\n",
       "      <td>-2.0</td>\n",
       "      <td>-0.664452</td>\n",
       "      <td>0.271186</td>\n",
       "      <td>-0.271186</td>\n",
       "      <td>11.21</td>\n",
       "      <td>75594.0</td>\n",
       "      <td>81.720001</td>\n",
       "      <td>0.879277</td>\n",
       "      <td>-75501.070312</td>\n",
       "      <td>-812.363569</td>\n",
       "      <td>129.73735</td>\n",
       "      <td>109.175003</td>\n",
       "      <td>25.32</td>\n",
       "      <td>3946.189941</td>\n",
       "      <td>-36.807350</td>\n",
       "      <td>-0.396033</td>\n",
       "      <td>-16.245003</td>\n",
       "      <td>-0.174790</td>\n",
       "      <td>67.610001</td>\n",
       "      <td>0.727459</td>\n",
       "      <td>-3853.260010</td>\n",
       "      <td>-41.459651</td>\n",
       "      <td>115.298416</td>\n",
       "      <td>102.239998</td>\n",
       "      <td>25.52</td>\n",
       "      <td>503.859985</td>\n",
       "      <td>-22.368416</td>\n",
       "      <td>-0.240676</td>\n",
       "      <td>-9.309998</td>\n",
       "      <td>-0.100172</td>\n",
       "      <td>67.410004</td>\n",
       "      <td>0.725307</td>\n",
       "      <td>-410.929993</td>\n",
       "      <td>-4.421455</td>\n",
       "    </tr>\n",
       "  </tbody>\n",
       "</table>\n",
       "</div>"
      ],
      "text/plain": [
       "    srch_id           date_time  site_id  visitor_location_country_id  \\\n",
       "51    84032 2013-05-30 14:07:47       24                          216   \n",
       "52    84032 2013-05-30 14:07:47       24                          216   \n",
       "\n",
       "    visitor_hist_starrating  visitor_hist_adr_usd  prop_country_id  prop_id  \\\n",
       "51                      NaN                   NaN              225      327   \n",
       "52                      NaN                   NaN              225    20797   \n",
       "\n",
       "    prop_starrating  prop_review_score  prop_brand_bool  prop_location_score1  \\\n",
       "51              4.0                4.5                0                  3.66   \n",
       "52              3.0                3.0                0                  4.65   \n",
       "\n",
       "    prop_location_score2  prop_log_historical_price  position   price_usd  \\\n",
       "51                0.0385                       5.37      28.0  162.279999   \n",
       "52                0.0576                       5.09       2.0   92.930000   \n",
       "\n",
       "    promotion_flag  srch_destination_id  srch_length_of_stay  \\\n",
       "51               1                11308                    3   \n",
       "52               0                11308                    3   \n",
       "\n",
       "    srch_booking_window  srch_adults_count  srch_children_count  \\\n",
       "51                   45                  2                    1   \n",
       "52                   45                  2                    1   \n",
       "\n",
       "    srch_room_count  srch_saturday_night_bool  srch_query_affinity_score  \\\n",
       "51                1                         0                        NaN   \n",
       "52                1                         0                        NaN   \n",
       "\n",
       "    orig_destination_distance  random_bool  comp3_rate_percent_diff  \\\n",
       "51                        NaN            1                      8.0   \n",
       "52                        NaN            1                      6.0   \n",
       "\n",
       "    click_bool  gross_bookings_usd  booking_bool   test    val  train   subm  \\\n",
       "51         0.0                 NaN           0.0  False  False   True  False   \n",
       "52         0.0                 NaN           0.0  False  False   True  False   \n",
       "\n",
       "    price_per_day  price_per_trip  date_time_ordinal  \\\n",
       "51     162.279999      486.839996             332340   \n",
       "52      92.930000      278.790009             332340   \n",
       "\n",
       "    prop_location_score_diff  prop_location_score_sum  \\\n",
       "51                    3.6215                   3.6985   \n",
       "52                    4.5924                   4.7076   \n",
       "\n",
       "    prop_location_score_mul  prop_location_score_diff_log  \\\n",
       "51                  0.14091                      8.358960   \n",
       "52                  0.26784                      8.767762   \n",
       "\n",
       "    prop_location_score_sum_log  prop_location_score_mul_log  \\\n",
       "51                    -1.038960                   -17.198195   \n",
       "52                     0.532238                   -19.147595   \n",
       "\n",
       "    ratio_of_comp_with_lower_price_than_expedia  \\\n",
       "51                                          NaN   \n",
       "52                                          0.5   \n",
       "\n",
       "    comp5_rate_percent_diff_signed  comp8_rate_percent_diff_signed  \\\n",
       "51                             NaN                            <NA>   \n",
       "52                             NaN                            <NA>   \n",
       "\n",
       "    price_per_day_pow_2  price_per_day_log_10  price_per_day_reciprocal  \\\n",
       "51         26334.798828              2.210265                  0.006162   \n",
       "52          8635.985352              1.968156                  0.010761   \n",
       "\n",
       "    prop_log_historical_price_pow_0.33  prop_log_historical_price_log_10  \\\n",
       "51                            1.741372                          0.729974   \n",
       "52                            1.710869                          0.706718   \n",
       "\n",
       "    prop_log_historical_price_reciprocal  prop_historical_price  \\\n",
       "51                              0.186220             214.862854   \n",
       "52                              0.196464             162.389893   \n",
       "\n",
       "    price_diff_to_usr_hist  price_ratio_to_usr_hist  \\\n",
       "51                     NaN                      NaN   \n",
       "52                     NaN                      NaN   \n",
       "\n",
       "    price_diff_to_place_hist_price  prop_star_usr_hist_diff  \\\n",
       "51                      -52.582855                      NaN   \n",
       "52                      -69.459892                      NaN   \n",
       "\n",
       "    prop_starrating_bonus_chain  prop_star_review_sum  prop_star_review_diff  \\\n",
       "51                          4.0                   8.5                   -0.5   \n",
       "52                          3.0                   6.0                    0.0   \n",
       "\n",
       "    prop_star_review_min  prop_star_review_max  prop_star_review_mean  \\\n",
       "51                   4.0                   4.5                   4.25   \n",
       "52                   3.0                   3.0                   3.00   \n",
       "\n",
       "    price_per_star  price_per_review_score  price_per_star_log_10  \\\n",
       "51       40.569990               36.062214               1.608205   \n",
       "52       30.976656               30.976656               1.491035   \n",
       "\n",
       "    price_per_review_score_log_10  booking_weeks_ahead  \\\n",
       "51                       1.557052             6.428571   \n",
       "52                       1.491035             6.428571   \n",
       "\n",
       "    len_of_stay_to_booking_ahead_ratio       date  trip_start_date_week  \\\n",
       "51                                15.0 2013-05-30                    28   \n",
       "52                                15.0 2013-05-30                    28   \n",
       "\n",
       "    trip_start_date_week_mid_summer_index  trip_start_date_month  \\\n",
       "51                                     25                      7   \n",
       "52                                     25                      7   \n",
       "\n",
       "    trip_start_date_quarter  trip_start_date_season_num  trip_start_date_year  \\\n",
       "51                        3                           3                  2013   \n",
       "52                        3                           3                  2013   \n",
       "\n",
       "    trip_start_date_week_id  trip_end_date_week  \\\n",
       "51                   201328                  29   \n",
       "52                   201328                  29   \n",
       "\n",
       "    trip_end_date_week_mid_summer_index  trip_end_date_month  \\\n",
       "51                                   25                    7   \n",
       "52                                   25                    7   \n",
       "\n",
       "    trip_end_date_quarter  trip_end_date_season_num  trip_end_date_year  \\\n",
       "51                      3                         3                2013   \n",
       "52                      3                         3                2013   \n",
       "\n",
       "    trip_end_date_week_id  children_per_adult  total_people  people_per_room  \\\n",
       "51                 201329                 0.5             3              3.0   \n",
       "52                 201329                 0.5             3              3.0   \n",
       "\n",
       "    separate_children_room  price_usd_log10_norm_by_srch_id  \\\n",
       "51                   False                         1.774799   \n",
       "52                   False                         0.114392   \n",
       "\n",
       "    price_usd_log10_norm_by_prop_id  prop_starrating_norm_by_srch_id  \\\n",
       "51                         0.728419                         0.169961   \n",
       "52                        -0.019426                        -1.083501   \n",
       "\n",
       "    price_index_per_srch_id  price_index_per_srch_destination_id  \\\n",
       "51                       55                                12027   \n",
       "52                       32                                 5109   \n",
       "\n",
       "    price_index_per_prop_id  srch_query_affinity_score_prob  \\\n",
       "51                      267                             NaN   \n",
       "52                       41                             NaN   \n",
       "\n",
       "    booking_prob_train  click_prob_train  book_per_click  mean_position_train  \\\n",
       "51            0.028369          0.035461             0.8            16.063830   \n",
       "52            0.000000          0.076923             0.0            15.923077   \n",
       "\n",
       "    mean_position_train_when_not_random  mean_prop_starrating_per_srch_id  \\\n",
       "51                            15.683761                          3.864407   \n",
       "52                            14.062500                          3.864407   \n",
       "\n",
       "    median_prop_starrating_per_srch_id  min_prop_starrating_per_srch_id  \\\n",
       "51                                 4.0                              1.0   \n",
       "52                                 4.0                              1.0   \n",
       "\n",
       "    max_prop_starrating_per_srch_id  \\\n",
       "51                              5.0   \n",
       "52                              5.0   \n",
       "\n",
       "    prop_starrating_diff_to_mean_prop_starrating_per_srch_id  \\\n",
       "51                                           0.135593          \n",
       "52                                          -0.864407          \n",
       "\n",
       "    prop_starrating_rel_diff_to_mean_prop_starrating_per_srch_id  \\\n",
       "51                                           0.033814              \n",
       "52                                          -0.287178              \n",
       "\n",
       "    prop_starrating_diff_to_median_prop_starrating_per_srch_id  \\\n",
       "51                                                0.0            \n",
       "52                                               -1.0            \n",
       "\n",
       "    prop_starrating_rel_diff_to_median_prop_starrating_per_srch_id  \\\n",
       "51                                           0.000000                \n",
       "52                                          -0.332226                \n",
       "\n",
       "    prop_starrating_diff_to_min_prop_starrating_per_srch_id  \\\n",
       "51                                                3.0         \n",
       "52                                                2.0         \n",
       "\n",
       "    prop_starrating_rel_diff_to_min_prop_starrating_per_srch_id  \\\n",
       "51                                           0.748130             \n",
       "52                                           0.664452             \n",
       "\n",
       "    prop_starrating_diff_to_max_prop_starrating_per_srch_id  \\\n",
       "51                                               -1.0         \n",
       "52                                               -2.0         \n",
       "\n",
       "    prop_starrating_rel_diff_to_max_prop_starrating_per_srch_id  \\\n",
       "51                                          -0.249377             \n",
       "52                                          -0.664452             \n",
       "\n",
       "    mean_prop_location_score2_per_srch_id  \\\n",
       "51                               0.082953   \n",
       "52                               0.082953   \n",
       "\n",
       "    median_prop_location_score2_per_srch_id  \\\n",
       "51                                   0.0757   \n",
       "52                                   0.0757   \n",
       "\n",
       "    min_prop_location_score2_per_srch_id  \\\n",
       "51                                0.0003   \n",
       "52                                0.0003   \n",
       "\n",
       "    max_prop_location_score2_per_srch_id  \\\n",
       "51                                0.2227   \n",
       "52                                0.2227   \n",
       "\n",
       "    prop_location_score2_diff_to_mean_prop_location_score2_per_srch_id  \\\n",
       "51                                          -0.044453                    \n",
       "52                                          -0.025353                    \n",
       "\n",
       "    prop_location_score2_rel_diff_to_mean_prop_location_score2_per_srch_id  \\\n",
       "51                                          -0.916555                        \n",
       "52                                          -0.375043                        \n",
       "\n",
       "    prop_location_score2_diff_to_median_prop_location_score2_per_srch_id  \\\n",
       "51                                            -0.0372                      \n",
       "52                                            -0.0181                      \n",
       "\n",
       "    prop_location_score2_rel_diff_to_median_prop_location_score2_per_srch_id  \\\n",
       "51                                          -0.767010                          \n",
       "52                                          -0.267751                          \n",
       "\n",
       "    prop_location_score2_diff_to_min_prop_location_score2_per_srch_id  \\\n",
       "51                                             0.0382                   \n",
       "52                                             0.0573                   \n",
       "\n",
       "    prop_location_score2_rel_diff_to_min_prop_location_score2_per_srch_id  \\\n",
       "51                                           0.787629                       \n",
       "52                                           0.847633                       \n",
       "\n",
       "    prop_location_score2_diff_to_max_prop_location_score2_per_srch_id  \\\n",
       "51                                            -0.1842                   \n",
       "52                                            -0.1651                   \n",
       "\n",
       "    prop_location_score2_rel_diff_to_max_prop_location_score2_per_srch_id  \\\n",
       "51                                          -3.797938                       \n",
       "52                                          -2.442308                       \n",
       "\n",
       "    mean_prop_location_score1_per_srch_id  \\\n",
       "51                               3.814237   \n",
       "52                               3.814237   \n",
       "\n",
       "    median_prop_location_score1_per_srch_id  \\\n",
       "51                                     4.13   \n",
       "52                                     4.13   \n",
       "\n",
       "    min_prop_location_score1_per_srch_id  \\\n",
       "51                                  0.69   \n",
       "52                                  0.69   \n",
       "\n",
       "    max_prop_location_score1_per_srch_id  \\\n",
       "51                                  4.84   \n",
       "52                                  4.84   \n",
       "\n",
       "    prop_location_score1_diff_to_mean_prop_location_score1_per_srch_id  \\\n",
       "51                                          -0.154237                    \n",
       "52                                           0.835763                    \n",
       "\n",
       "    prop_location_score1_rel_diff_to_mean_prop_location_score1_per_srch_id  \\\n",
       "51                                          -0.042027                        \n",
       "52                                           0.179348                        \n",
       "\n",
       "    prop_location_score1_diff_to_median_prop_location_score1_per_srch_id  \\\n",
       "51                                              -0.47                      \n",
       "52                                               0.52                      \n",
       "\n",
       "    prop_location_score1_rel_diff_to_median_prop_location_score1_per_srch_id  \\\n",
       "51                                          -0.128065                          \n",
       "52                                           0.111588                          \n",
       "\n",
       "    prop_location_score1_diff_to_min_prop_location_score1_per_srch_id  \\\n",
       "51                                               2.97                   \n",
       "52                                               3.96                   \n",
       "\n",
       "    prop_location_score1_rel_diff_to_min_prop_location_score1_per_srch_id  \\\n",
       "51                                           0.809264                       \n",
       "52                                           0.849785                       \n",
       "\n",
       "    prop_location_score1_diff_to_max_prop_location_score1_per_srch_id  \\\n",
       "51                                              -1.18                   \n",
       "52                                              -0.19                   \n",
       "\n",
       "    prop_location_score1_rel_diff_to_max_prop_location_score1_per_srch_id  \\\n",
       "51                                          -0.321526                       \n",
       "52                                          -0.040773                       \n",
       "\n",
       "    mean_price_usd_per_srch_id  median_price_usd_per_srch_id  \\\n",
       "51                   94.789322                     89.110001   \n",
       "52                   94.789322                     89.110001   \n",
       "\n",
       "    min_price_usd_per_srch_id  max_price_usd_per_srch_id  \\\n",
       "51                       47.0                 229.509995   \n",
       "52                       47.0                 229.509995   \n",
       "\n",
       "    price_usd_diff_to_mean_price_usd_per_srch_id  \\\n",
       "51                                     67.490677   \n",
       "52                                     -1.859322   \n",
       "\n",
       "    price_usd_rel_diff_to_mean_price_usd_per_srch_id  \\\n",
       "51                                          0.415865   \n",
       "52                                         -0.020006   \n",
       "\n",
       "    price_usd_diff_to_median_price_usd_per_srch_id  \\\n",
       "51                                       73.169998   \n",
       "52                                        3.820000   \n",
       "\n",
       "    price_usd_rel_diff_to_median_price_usd_per_srch_id  \\\n",
       "51                                           0.450860    \n",
       "52                                           0.041102    \n",
       "\n",
       "    price_usd_diff_to_min_price_usd_per_srch_id  \\\n",
       "51                                   115.279999   \n",
       "52                                    45.930000   \n",
       "\n",
       "    price_usd_rel_diff_to_min_price_usd_per_srch_id  \\\n",
       "51                                         0.710333   \n",
       "52                                         0.494190   \n",
       "\n",
       "    price_usd_diff_to_max_price_usd_per_srch_id  \\\n",
       "51                                   -67.229996   \n",
       "52                                  -136.579987   \n",
       "\n",
       "    price_usd_rel_diff_to_max_price_usd_per_srch_id  \\\n",
       "51                                        -0.414258   \n",
       "52                                        -1.469550   \n",
       "\n",
       "    mean_prop_review_score_per_srch_id  min_prop_review_score_per_srch_id  \\\n",
       "51                            3.342105                                0.0   \n",
       "52                            3.342105                                0.0   \n",
       "\n",
       "    max_prop_review_score_per_srch_id  \\\n",
       "51                                5.0   \n",
       "52                                5.0   \n",
       "\n",
       "    prop_review_score_diff_to_mean_prop_review_score_per_srch_id  \\\n",
       "51                                           1.157895              \n",
       "52                                          -0.342105              \n",
       "\n",
       "    prop_review_score_rel_diff_to_mean_prop_review_score_per_srch_id  \\\n",
       "51                                           0.256739                  \n",
       "52                                          -0.113656                  \n",
       "\n",
       "    prop_review_score_diff_to_min_prop_review_score_per_srch_id  \\\n",
       "51                                                4.5             \n",
       "52                                                3.0             \n",
       "\n",
       "    prop_review_score_rel_diff_to_min_prop_review_score_per_srch_id  \\\n",
       "51                                           0.997783                 \n",
       "52                                           0.996678                 \n",
       "\n",
       "    prop_review_score_diff_to_max_prop_review_score_per_srch_id  \\\n",
       "51                                               -0.5             \n",
       "52                                               -2.0             \n",
       "\n",
       "    prop_review_score_rel_diff_to_max_prop_review_score_per_srch_id  \\\n",
       "51                                          -0.110865                 \n",
       "52                                          -0.664452                 \n",
       "\n",
       "    mean_promotion_flag_per_srch_id  \\\n",
       "51                         0.271186   \n",
       "52                         0.271186   \n",
       "\n",
       "    promotion_flag_diff_to_mean_promotion_flag_per_srch_id  \\\n",
       "51                                           0.728814        \n",
       "52                                          -0.271186        \n",
       "\n",
       "    min_price_per_day_per_prop_country_id  \\\n",
       "51                                  11.21   \n",
       "52                                  11.21   \n",
       "\n",
       "    max_price_per_day_per_prop_country_id  \\\n",
       "51                                75594.0   \n",
       "52                                75594.0   \n",
       "\n",
       "    price_per_day_diff_to_min_price_per_day_per_prop_country_id  \\\n",
       "51                                         151.069992             \n",
       "52                                          81.720001             \n",
       "\n",
       "    price_per_day_rel_diff_to_min_price_per_day_per_prop_country_id  \\\n",
       "51                                           0.930864                 \n",
       "52                                           0.879277                 \n",
       "\n",
       "    price_per_day_diff_to_max_price_per_day_per_prop_country_id  \\\n",
       "51                                      -75431.718750             \n",
       "52                                      -75501.070312             \n",
       "\n",
       "    price_per_day_rel_diff_to_max_price_per_day_per_prop_country_id  \\\n",
       "51                                        -464.795855                 \n",
       "52                                        -812.363569                 \n",
       "\n",
       "    mean_price_per_day_per_visitor_location_country_id_per_prop_country_id  \\\n",
       "51                                          129.73735                        \n",
       "52                                          129.73735                        \n",
       "\n",
       "    median_price_per_day_per_visitor_location_country_id_per_prop_country_id  \\\n",
       "51                                         109.175003                          \n",
       "52                                         109.175003                          \n",
       "\n",
       "    min_price_per_day_per_visitor_location_country_id_per_prop_country_id  \\\n",
       "51                                              25.32                       \n",
       "52                                              25.32                       \n",
       "\n",
       "    max_price_per_day_per_visitor_location_country_id_per_prop_country_id  \\\n",
       "51                                        3946.189941                       \n",
       "52                                        3946.189941                       \n",
       "\n",
       "    price_per_day_diff_to_mean_price_per_day_per_visitor_location_country_id_per_prop_country_id  \\\n",
       "51                                          32.542648                                              \n",
       "52                                         -36.807350                                              \n",
       "\n",
       "    price_per_day_rel_diff_to_mean_price_per_day_per_visitor_location_country_id_per_prop_country_id  \\\n",
       "51                                           0.200522                                                  \n",
       "52                                          -0.396033                                                  \n",
       "\n",
       "    price_per_day_diff_to_median_price_per_day_per_visitor_location_country_id_per_prop_country_id  \\\n",
       "51                                          53.104996                                                \n",
       "52                                         -16.245003                                                \n",
       "\n",
       "    price_per_day_rel_diff_to_median_price_per_day_per_visitor_location_country_id_per_prop_country_id  \\\n",
       "51                                           0.327223                                                    \n",
       "52                                          -0.174790                                                    \n",
       "\n",
       "    price_per_day_diff_to_min_price_per_day_per_visitor_location_country_id_per_prop_country_id  \\\n",
       "51                                         136.959991                                             \n",
       "52                                          67.610001                                             \n",
       "\n",
       "    price_per_day_rel_diff_to_min_price_per_day_per_visitor_location_country_id_per_prop_country_id  \\\n",
       "51                                           0.843921                                                 \n",
       "52                                           0.727459                                                 \n",
       "\n",
       "    price_per_day_diff_to_max_price_per_day_per_visitor_location_country_id_per_prop_country_id  \\\n",
       "51                                       -3783.909912                                             \n",
       "52                                       -3853.260010                                             \n",
       "\n",
       "    price_per_day_rel_diff_to_max_price_per_day_per_visitor_location_country_id_per_prop_country_id  \\\n",
       "51                                         -23.315731                                                 \n",
       "52                                         -41.459651                                                 \n",
       "\n",
       "    mean_price_per_day_per_visitor_location_country_id_per_prop_country_id_per_trip_start_date_quarter  \\\n",
       "51                                         115.298416                                                    \n",
       "52                                         115.298416                                                    \n",
       "\n",
       "    median_price_per_day_per_visitor_location_country_id_per_prop_country_id_per_trip_start_date_quarter  \\\n",
       "51                                         102.239998                                                      \n",
       "52                                         102.239998                                                      \n",
       "\n",
       "    min_price_per_day_per_visitor_location_country_id_per_prop_country_id_per_trip_start_date_quarter  \\\n",
       "51                                              25.52                                                   \n",
       "52                                              25.52                                                   \n",
       "\n",
       "    max_price_per_day_per_visitor_location_country_id_per_prop_country_id_per_trip_start_date_quarter  \\\n",
       "51                                         503.859985                                                   \n",
       "52                                         503.859985                                                   \n",
       "\n",
       "    price_per_day_diff_to_mean_price_per_day_per_visitor_location_country_id_per_prop_country_id_per_trip_start_date_quarter  \\\n",
       "51                                          46.981583                                                                          \n",
       "52                                         -22.368416                                                                          \n",
       "\n",
       "    price_per_day_rel_diff_to_mean_price_per_day_per_visitor_location_country_id_per_prop_country_id_per_trip_start_date_quarter  \\\n",
       "51                                           0.289492                                                                              \n",
       "52                                          -0.240676                                                                              \n",
       "\n",
       "    price_per_day_diff_to_median_price_per_day_per_visitor_location_country_id_per_prop_country_id_per_trip_start_date_quarter  \\\n",
       "51                                          60.040001                                                                            \n",
       "52                                          -9.309998                                                                            \n",
       "\n",
       "    price_per_day_rel_diff_to_median_price_per_day_per_visitor_location_country_id_per_prop_country_id_per_trip_start_date_quarter  \\\n",
       "51                                           0.369955                                                                                \n",
       "52                                          -0.100172                                                                                \n",
       "\n",
       "    price_per_day_diff_to_min_price_per_day_per_visitor_location_country_id_per_prop_country_id_per_trip_start_date_quarter  \\\n",
       "51                                         136.759995                                                                         \n",
       "52                                          67.410004                                                                         \n",
       "\n",
       "    price_per_day_rel_diff_to_min_price_per_day_per_visitor_location_country_id_per_prop_country_id_per_trip_start_date_quarter  \\\n",
       "51                                           0.842689                                                                             \n",
       "52                                           0.725307                                                                             \n",
       "\n",
       "    price_per_day_diff_to_max_price_per_day_per_visitor_location_country_id_per_prop_country_id_per_trip_start_date_quarter  \\\n",
       "51                                        -341.579987                                                                         \n",
       "52                                        -410.929993                                                                         \n",
       "\n",
       "    price_per_day_rel_diff_to_max_price_per_day_per_visitor_location_country_id_per_prop_country_id_per_trip_start_date_quarter  \n",
       "51                                          -2.104751                                                                            \n",
       "52                                          -4.421455                                                                            "
      ]
     },
     "execution_count": 120,
     "metadata": {},
     "output_type": "execute_result"
    }
   ],
   "source": [
    "df.head(2)"
   ]
  },
  {
   "cell_type": "markdown",
   "id": "677a079c",
   "metadata": {},
   "source": [
    "#### srch_destination_id"
   ]
  },
  {
   "cell_type": "code",
   "execution_count": 121,
   "id": "3016c9da",
   "metadata": {
    "ExecuteTime": {
     "end_time": "2022-05-27T14:45:30.039421Z",
     "start_time": "2022-05-27T14:42:34.027758Z"
    }
   },
   "outputs": [
    {
     "name": "stdout",
     "output_type": "stream",
     "text": [
      "16445 groups when aggregation by ['srch_destination_id']\n"
     ]
    },
    {
     "name": "stderr",
     "output_type": "stream",
     "text": [
      "/Users/Oleg_Litvinov1/Documents/Code/Expedia_HTTPS/features.py:141: PerformanceWarning: DataFrame is highly fragmented.  This is usually the result of calling `frame.insert` many times, which has poor performance.  Consider joining all columns at once using pd.concat(axis=1) instead.  To get a de-fragmented frame, use `newframe = frame.copy()`\n",
      "  input_df[feature_value_col + '_diff_to_' + new_feature_name] = input_df[feature_value_col] - input_df[\n",
      "/Users/Oleg_Litvinov1/Documents/Code/Expedia_HTTPS/features.py:144: PerformanceWarning: DataFrame is highly fragmented.  This is usually the result of calling `frame.insert` many times, which has poor performance.  Consider joining all columns at once using pd.concat(axis=1) instead.  To get a de-fragmented frame, use `newframe = frame.copy()`\n",
      "  input_df[feature_value_col + '_rel_diff_to_' + new_feature_name] = (input_df[feature_value_col] - input_df[\n"
     ]
    },
    {
     "name": "stdout",
     "output_type": "stream",
     "text": [
      "5919 groups when aggregation by ['srch_destination_id']\n",
      "5857 groups when aggregation by ['srch_destination_id']\n",
      "18049 groups when aggregation by ['srch_destination_id']\n"
     ]
    }
   ],
   "source": [
    "# prices from the country of search\n",
    "groupby_cols = ['srch_destination_id']\n",
    "feature_value_col = 'price_per_day'\n",
    "df = apply_composite_for_splits(df, split_cols=['train', 'val', 'test', 'subm'],\n",
    "                                groupby_cols=groupby_cols,\n",
    "                                feature_value_col=feature_value_col,\n",
    "                                agg_methods=[\"mean\", \"median\", \"min\", \"max\"])"
   ]
  },
  {
   "cell_type": "code",
   "execution_count": 122,
   "id": "554ca07e",
   "metadata": {
    "ExecuteTime": {
     "end_time": "2022-05-27T14:49:10.083045Z",
     "start_time": "2022-05-27T14:45:30.052056Z"
    }
   },
   "outputs": [
    {
     "name": "stdout",
     "output_type": "stream",
     "text": [
      "56751 groups when aggregation by ['visitor_location_country_id', 'srch_destination_id', 'trip_start_date_quarter']\n",
      "12687 groups when aggregation by ['visitor_location_country_id', 'srch_destination_id', 'trip_start_date_quarter']\n",
      "12673 groups when aggregation by ['visitor_location_country_id', 'srch_destination_id', 'trip_start_date_quarter']\n",
      "65699 groups when aggregation by ['visitor_location_country_id', 'srch_destination_id', 'trip_start_date_quarter']\n"
     ]
    }
   ],
   "source": [
    "# prices from the country of user for the search country for the season of trip\n",
    "groupby_cols = ['visitor_location_country_id', 'srch_destination_id', 'trip_start_date_quarter']\n",
    "feature_value_col = 'price_per_day'\n",
    "df = apply_composite_for_splits(df, split_cols=['train', 'val', 'test', 'subm'],\n",
    "                                groupby_cols=groupby_cols,\n",
    "                                feature_value_col=feature_value_col,\n",
    "                                agg_methods=[\"mean\", \"median\", \"min\", \"max\"])"
   ]
  },
  {
   "cell_type": "code",
   "execution_count": 123,
   "id": "257a7e61",
   "metadata": {
    "ExecuteTime": {
     "end_time": "2022-05-27T14:53:32.380715Z",
     "start_time": "2022-05-27T14:49:10.091253Z"
    }
   },
   "outputs": [
    {
     "name": "stdout",
     "output_type": "stream",
     "text": [
      "39206 groups when aggregation by ['srch_destination_id', 'srch_room_count', 'trip_start_date_quarter']\n",
      "10557 groups when aggregation by ['srch_destination_id', 'srch_room_count', 'trip_start_date_quarter']\n",
      "10549 groups when aggregation by ['srch_destination_id', 'srch_room_count', 'trip_start_date_quarter']\n",
      "44420 groups when aggregation by ['srch_destination_id', 'srch_room_count', 'trip_start_date_quarter']\n"
     ]
    }
   ],
   "source": [
    "\n",
    "\n",
    "# # prices from the country of user for the search country\n",
    "# groupby_cols = ['visitor_location_country_id', 'srch_destination_id']\n",
    "# feature_value_col = 'price_per_day'\n",
    "# df = apply_composite_for_splits(deepcopy(df), split_cols=['train', 'val', 'test', 'subm'],\n",
    "#                                 groupby_cols=groupby_cols,\n",
    "#                                 feature_value_col=feature_value_col,\n",
    "#                                 agg_methods=[\"mean\", \"median\", \"min\", \"max\"])\n",
    "\n",
    "# # prices from the country of user for the season of trip\n",
    "# groupby_cols = ['srch_destination_id', 'trip_start_date_quarter']\n",
    "# feature_value_col = 'price_per_day'\n",
    "# df = apply_composite_for_splits(deepcopy(df), split_cols=['train', 'val', 'test', 'subm'],\n",
    "#                                 groupby_cols=groupby_cols,\n",
    "#                                 feature_value_col=feature_value_col,\n",
    "#                                 agg_methods=[\"mean\", \"median\", \"min\", \"max\"])\n",
    "\n",
    "\n",
    "# prices from the country of search for the specific number of rooms for the season of trip\n",
    "groupby_cols = ['srch_destination_id', 'srch_room_count', 'trip_start_date_quarter']\n",
    "feature_value_col = 'price_per_day'\n",
    "df = apply_composite_for_splits(df, split_cols=['train', 'val', 'test', 'subm'],\n",
    "                                groupby_cols=groupby_cols,\n",
    "                                feature_value_col=feature_value_col,\n",
    "                                agg_methods=[\"mean\", \"median\", \"min\", \"max\"])"
   ]
  },
  {
   "cell_type": "code",
   "execution_count": 124,
   "id": "8f8f4f92",
   "metadata": {
    "ExecuteTime": {
     "end_time": "2022-05-27T14:54:29.749700Z",
     "start_time": "2022-05-27T14:53:32.582186Z"
    }
   },
   "outputs": [
    {
     "data": {
      "application/vnd.jupyter.widget-view+json": {
       "model_id": "894954bb6ad345bf9b4ea721599397c1",
       "version_major": 2,
       "version_minor": 0
      },
      "text/plain": [
       "  0%|          | 0/226 [00:00<?, ?it/s]"
      ]
     },
     "metadata": {},
     "output_type": "display_data"
    },
    {
     "data": {
      "text/plain": [
       "7812.385349273682"
      ]
     },
     "execution_count": 124,
     "metadata": {},
     "output_type": "execute_result"
    }
   ],
   "source": [
    "gc.collect()\n",
    "df = downcast(df)\n",
    "df.memory_usage().sum() / 1024**2"
   ]
  },
  {
   "cell_type": "markdown",
   "id": "bf02bf0f",
   "metadata": {},
   "source": [
    "#### prop_id"
   ]
  },
  {
   "cell_type": "code",
   "execution_count": 125,
   "id": "5a039f29",
   "metadata": {
    "ExecuteTime": {
     "end_time": "2022-05-27T14:57:07.720160Z",
     "start_time": "2022-05-27T14:54:29.759801Z"
    }
   },
   "outputs": [
    {
     "name": "stdout",
     "output_type": "stream",
     "text": [
      "126031 groups when aggregation by ['prop_id']\n",
      "83184 groups when aggregation by ['prop_id']\n",
      "83489 groups when aggregation by ['prop_id']\n",
      "129438 groups when aggregation by ['prop_id']\n"
     ]
    },
    {
     "data": {
      "text/plain": [
       "(9917530, 238)"
      ]
     },
     "execution_count": 125,
     "metadata": {},
     "output_type": "execute_result"
    }
   ],
   "source": [
    "# prices for the hotel\n",
    "groupby_cols = ['prop_id']\n",
    "feature_value_col = 'price_per_day'\n",
    "df = apply_composite_for_splits(df, split_cols=['train', 'val', 'test', 'subm'],\n",
    "                                groupby_cols=groupby_cols,\n",
    "                                feature_value_col=feature_value_col,\n",
    "                                agg_methods=[\"mean\", \"median\", \"min\", \"max\"])\n",
    "df.shape"
   ]
  },
  {
   "cell_type": "code",
   "execution_count": 126,
   "id": "597d7d55",
   "metadata": {
    "ExecuteTime": {
     "end_time": "2022-05-27T14:57:08.064250Z",
     "start_time": "2022-05-27T14:57:07.886526Z"
    }
   },
   "outputs": [],
   "source": [
    "# CONSTANT\n",
    "# groupby_cols = ['prop_id']\n",
    "# feature_value_col = 'srch_query_affinity_score'\n",
    "# df = apply_composite_for_splits(df, split_cols=['train', 'val', 'test', 'subm'],\n",
    "#                                 groupby_cols=groupby_cols,\n",
    "#                                 feature_value_col=feature_value_col,\n",
    "#                                 agg_methods=[\"mean\", \"median\", \"min\", \"max\"])\n",
    "# df.shape"
   ]
  },
  {
   "cell_type": "code",
   "execution_count": 127,
   "id": "4587c167",
   "metadata": {
    "ExecuteTime": {
     "end_time": "2022-05-27T14:59:45.759810Z",
     "start_time": "2022-05-27T14:57:08.069862Z"
    }
   },
   "outputs": [
    {
     "name": "stdout",
     "output_type": "stream",
     "text": [
      "642449 groups when aggregation by ['visitor_location_country_id', 'prop_id']\n",
      "178791 groups when aggregation by ['visitor_location_country_id', 'prop_id']\n",
      "180326 groups when aggregation by ['visitor_location_country_id', 'prop_id']\n",
      "732271 groups when aggregation by ['visitor_location_country_id', 'prop_id']\n"
     ]
    }
   ],
   "source": [
    "# prices for the user country for specific hotel\n",
    "groupby_cols = ['visitor_location_country_id', 'prop_id']\n",
    "feature_value_col = 'price_per_day'\n",
    "df = apply_composite_for_splits(df, split_cols=['train', 'val', 'test', 'subm'],\n",
    "                                groupby_cols=groupby_cols,\n",
    "                                feature_value_col=feature_value_col,\n",
    "                                agg_methods=[\"mean\", \"median\", \"min\", \"max\"])"
   ]
  },
  {
   "cell_type": "code",
   "execution_count": 128,
   "id": "ef944a3d",
   "metadata": {
    "ExecuteTime": {
     "end_time": "2022-05-27T15:02:50.077364Z",
     "start_time": "2022-05-27T14:59:45.793785Z"
    },
    "scrolled": true
   },
   "outputs": [
    {
     "name": "stdout",
     "output_type": "stream",
     "text": [
      "1062592 groups when aggregation by ['visitor_location_country_id', 'prop_id', 'trip_start_date_quarter']\n",
      "269572 groups when aggregation by ['visitor_location_country_id', 'prop_id', 'trip_start_date_quarter']\n",
      "271465 groups when aggregation by ['visitor_location_country_id', 'prop_id', 'trip_start_date_quarter']\n",
      "1223937 groups when aggregation by ['visitor_location_country_id', 'prop_id', 'trip_start_date_quarter']\n"
     ]
    },
    {
     "data": {
      "text/plain": [
       "(9917530, 259)"
      ]
     },
     "execution_count": 128,
     "metadata": {},
     "output_type": "execute_result"
    }
   ],
   "source": [
    "# prices for the user country for specific hotel for the season of trip\n",
    "groupby_cols = ['visitor_location_country_id', 'prop_id', 'trip_start_date_quarter']\n",
    "feature_value_col = 'price_per_day'\n",
    "df = apply_composite_for_splits(df, split_cols=['train', 'val', 'test', 'subm'],\n",
    "                                groupby_cols=groupby_cols,\n",
    "                                feature_value_col=feature_value_col,\n",
    "                                agg_methods=[\"mean\", \"min\", \"max\"])\n",
    "\n",
    "df.shape"
   ]
  },
  {
   "cell_type": "code",
   "execution_count": 129,
   "id": "d80361cb",
   "metadata": {
    "ExecuteTime": {
     "end_time": "2022-05-27T15:05:49.866836Z",
     "start_time": "2022-05-27T15:02:50.083026Z"
    }
   },
   "outputs": [
    {
     "name": "stdout",
     "output_type": "stream",
     "text": [
      "372233 groups when aggregation by ['prop_id', 'trip_start_date_quarter']\n",
      "182681 groups when aggregation by ['prop_id', 'trip_start_date_quarter']\n",
      "182696 groups when aggregation by ['prop_id', 'trip_start_date_quarter']\n",
      "391532 groups when aggregation by ['prop_id', 'trip_start_date_quarter']\n"
     ]
    },
    {
     "data": {
      "text/plain": [
       "(9917530, 268)"
      ]
     },
     "execution_count": 129,
     "metadata": {},
     "output_type": "execute_result"
    }
   ],
   "source": [
    "# prices for specific hotel for the season of trip\n",
    "groupby_cols = ['prop_id', 'trip_start_date_quarter']\n",
    "feature_value_col = 'price_per_day'\n",
    "df = apply_composite_for_splits(df, split_cols=['train', 'val', 'test', 'subm'],\n",
    "                                groupby_cols=groupby_cols,\n",
    "                                feature_value_col=feature_value_col,\n",
    "                                agg_methods=[\"mean\", \"median\", \"max\"])\n",
    "\n",
    "df.shape"
   ]
  },
  {
   "cell_type": "code",
   "execution_count": 130,
   "id": "60d2515a",
   "metadata": {
    "ExecuteTime": {
     "end_time": "2022-05-27T15:08:48.971179Z",
     "start_time": "2022-05-27T15:05:49.876323Z"
    },
    "code_folding": []
   },
   "outputs": [
    {
     "name": "stdout",
     "output_type": "stream",
     "text": [
      "539023 groups when aggregation by ['prop_id', 'srch_room_count', 'trip_start_date_quarter']\n",
      "211909 groups when aggregation by ['prop_id', 'srch_room_count', 'trip_start_date_quarter']\n",
      "211311 groups when aggregation by ['prop_id', 'srch_room_count', 'trip_start_date_quarter']\n",
      "585170 groups when aggregation by ['prop_id', 'srch_room_count', 'trip_start_date_quarter']\n"
     ]
    },
    {
     "data": {
      "text/plain": [
       "(9917530, 274)"
      ]
     },
     "execution_count": 130,
     "metadata": {},
     "output_type": "execute_result"
    }
   ],
   "source": [
    "# prices for specific hotel with specific number of rooms for the season of trip\n",
    "groupby_cols = ['prop_id', 'srch_room_count','trip_start_date_quarter']\n",
    "feature_value_col = 'price_per_day'\n",
    "df = apply_composite_for_splits(df, split_cols=['train', 'val', 'test', 'subm'],\n",
    "                                groupby_cols=groupby_cols,\n",
    "                                feature_value_col=feature_value_col,\n",
    "                                agg_methods=[\"mean\", \"min\"])\n",
    "\n",
    "df.shape"
   ]
  },
  {
   "cell_type": "markdown",
   "id": "1fae2252",
   "metadata": {},
   "source": [
    "#### prop_starrating"
   ]
  },
  {
   "cell_type": "code",
   "execution_count": 131,
   "id": "c21cb432",
   "metadata": {
    "ExecuteTime": {
     "end_time": "2022-05-27T15:12:41.348152Z",
     "start_time": "2022-05-27T15:08:48.996028Z"
    }
   },
   "outputs": [
    {
     "name": "stdout",
     "output_type": "stream",
     "text": [
      "920 groups when aggregation by ['visitor_location_country_id', 'prop_starrating']\n",
      "613 groups when aggregation by ['visitor_location_country_id', 'prop_starrating']\n",
      "615 groups when aggregation by ['visitor_location_country_id', 'prop_starrating']\n",
      "943 groups when aggregation by ['visitor_location_country_id', 'prop_starrating']\n"
     ]
    },
    {
     "data": {
      "text/plain": [
       "(9917530, 283)"
      ]
     },
     "execution_count": 131,
     "metadata": {},
     "output_type": "execute_result"
    }
   ],
   "source": [
    "# prices for the location of user for the star rating of the hotel\n",
    "groupby_cols = ['visitor_location_country_id', 'prop_starrating']\n",
    "feature_value_col = 'price_per_day'\n",
    "df = apply_composite_for_splits(df, split_cols=['train', 'val', 'test', 'subm'],\n",
    "                                groupby_cols=groupby_cols,\n",
    "                                feature_value_col=feature_value_col,\n",
    "                                agg_methods=[\"mean\", \"median\", \"max\"])\n",
    "df.shape"
   ]
  },
  {
   "cell_type": "code",
   "execution_count": 132,
   "id": "515596ec",
   "metadata": {
    "ExecuteTime": {
     "end_time": "2022-05-27T15:17:04.576598Z",
     "start_time": "2022-05-27T15:12:41.367897Z"
    }
   },
   "outputs": [
    {
     "name": "stdout",
     "output_type": "stream",
     "text": [
      "177144 groups when aggregation by ['visitor_location_country_id', 'srch_destination_id', 'trip_start_date_quarter', 'prop_starrating']\n",
      "38683 groups when aggregation by ['visitor_location_country_id', 'srch_destination_id', 'trip_start_date_quarter', 'prop_starrating']\n",
      "38698 groups when aggregation by ['visitor_location_country_id', 'srch_destination_id', 'trip_start_date_quarter', 'prop_starrating']\n",
      "205853 groups when aggregation by ['visitor_location_country_id', 'srch_destination_id', 'trip_start_date_quarter', 'prop_starrating']\n"
     ]
    },
    {
     "data": {
      "text/plain": [
       "(9917530, 289)"
      ]
     },
     "execution_count": 132,
     "metadata": {},
     "output_type": "execute_result"
    }
   ],
   "source": [
    "# prices for the location of user for the search location for the star rating of the hotel for the season of trip\n",
    "groupby_cols = ['visitor_location_country_id', 'srch_destination_id', \n",
    "                'trip_start_date_quarter', 'prop_starrating']\n",
    "feature_value_col = 'price_per_day'\n",
    "df = apply_composite_for_splits(df, split_cols=['train', 'val', 'test', 'subm'],\n",
    "                                groupby_cols=groupby_cols,\n",
    "                                feature_value_col=feature_value_col,\n",
    "                                agg_methods=[\"median\", \"max\"])\n",
    "df.shape"
   ]
  },
  {
   "cell_type": "code",
   "execution_count": 133,
   "id": "cfe1f797",
   "metadata": {
    "ExecuteTime": {
     "end_time": "2022-05-27T15:22:47.667110Z",
     "start_time": "2022-05-27T15:17:04.585324Z"
    }
   },
   "outputs": [
    {
     "name": "stdout",
     "output_type": "stream",
     "text": [
      "114400 groups when aggregation by ['visitor_location_country_id', 'srch_destination_id', 'prop_starrating']\n",
      "28484 groups when aggregation by ['visitor_location_country_id', 'srch_destination_id', 'prop_starrating']\n",
      "28464 groups when aggregation by ['visitor_location_country_id', 'srch_destination_id', 'prop_starrating']\n",
      "131597 groups when aggregation by ['visitor_location_country_id', 'srch_destination_id', 'prop_starrating']\n"
     ]
    },
    {
     "data": {
      "text/plain": [
       "(9917530, 295)"
      ]
     },
     "execution_count": 133,
     "metadata": {},
     "output_type": "execute_result"
    }
   ],
   "source": [
    "# prices for the location of user for the search location for the star rating of the hotel\n",
    "groupby_cols = ['visitor_location_country_id', 'srch_destination_id', 'prop_starrating']\n",
    "feature_value_col = 'price_per_day'\n",
    "df = apply_composite_for_splits(df, split_cols=['train', 'val', 'test', 'subm'],\n",
    "                                groupby_cols=groupby_cols,\n",
    "                                feature_value_col=feature_value_col,\n",
    "                                agg_methods=[\"median\", \"max\"])\n",
    "df.shape"
   ]
  },
  {
   "cell_type": "code",
   "execution_count": 134,
   "id": "9b99bd8b",
   "metadata": {
    "ExecuteTime": {
     "end_time": "2022-05-27T15:29:30.723545Z",
     "start_time": "2022-05-27T15:22:47.746655Z"
    }
   },
   "outputs": [
    {
     "name": "stdout",
     "output_type": "stream",
     "text": [
      "51601 groups when aggregation by ['srch_destination_id', 'prop_starrating']\n",
      "18339 groups when aggregation by ['srch_destination_id', 'prop_starrating']\n",
      "18178 groups when aggregation by ['srch_destination_id', 'prop_starrating']\n",
      "56726 groups when aggregation by ['srch_destination_id', 'prop_starrating']\n"
     ]
    },
    {
     "data": {
      "text/plain": [
       "(9917530, 301)"
      ]
     },
     "execution_count": 134,
     "metadata": {},
     "output_type": "execute_result"
    }
   ],
   "source": [
    "# prices for the search location for the star rating of the hotel\n",
    "groupby_cols = ['srch_destination_id', 'prop_starrating']\n",
    "feature_value_col = 'price_per_day'\n",
    "df = apply_composite_for_splits(df, split_cols=['train', 'val', 'test', 'subm'],\n",
    "                                groupby_cols=groupby_cols,\n",
    "                                feature_value_col=feature_value_col,\n",
    "                                agg_methods=[\"min\", \"max\"])\n",
    "df.shape"
   ]
  },
  {
   "cell_type": "code",
   "execution_count": 135,
   "id": "9cd7d153",
   "metadata": {
    "ExecuteTime": {
     "end_time": "2022-05-27T15:34:55.552196Z",
     "start_time": "2022-05-27T15:29:30.752994Z"
    }
   },
   "outputs": [
    {
     "name": "stdout",
     "output_type": "stream",
     "text": [
      "100785 groups when aggregation by ['srch_destination_id', 'trip_start_date_quarter', 'prop_starrating']\n",
      "29543 groups when aggregation by ['srch_destination_id', 'trip_start_date_quarter', 'prop_starrating']\n",
      "29420 groups when aggregation by ['srch_destination_id', 'trip_start_date_quarter', 'prop_starrating']\n",
      "112590 groups when aggregation by ['srch_destination_id', 'trip_start_date_quarter', 'prop_starrating']\n"
     ]
    }
   ],
   "source": [
    "# prices for the search location for the star rating of the hotel for the season of trip\n",
    "groupby_cols = ['srch_destination_id', 'trip_start_date_quarter', 'prop_starrating']\n",
    "feature_value_col = 'price_per_day'\n",
    "df = apply_composite_for_splits(df, split_cols=['train', 'val', 'test', 'subm'],\n",
    "                                groupby_cols=groupby_cols,\n",
    "                                feature_value_col=feature_value_col,\n",
    "                                agg_methods=[\"mean\", \"median\", \"min\"])"
   ]
  },
  {
   "cell_type": "code",
   "execution_count": 136,
   "id": "0cf6e816",
   "metadata": {
    "ExecuteTime": {
     "end_time": "2022-05-27T15:41:07.211922Z",
     "start_time": "2022-05-27T15:34:55.566175Z"
    }
   },
   "outputs": [
    {
     "name": "stdout",
     "output_type": "stream",
     "text": [
      "67003 groups when aggregation by ['srch_destination_id', 'srch_room_count', 'prop_starrating']\n",
      "21232 groups when aggregation by ['srch_destination_id', 'srch_room_count', 'prop_starrating']\n",
      "21291 groups when aggregation by ['srch_destination_id', 'srch_room_count', 'prop_starrating']\n",
      "74771 groups when aggregation by ['srch_destination_id', 'srch_room_count', 'prop_starrating']\n"
     ]
    },
    {
     "data": {
      "text/plain": [
       "(9917530, 319)"
      ]
     },
     "execution_count": 136,
     "metadata": {},
     "output_type": "execute_result"
    }
   ],
   "source": [
    "groupby_cols = ['srch_destination_id', 'srch_room_count','prop_starrating']\n",
    "feature_value_col = 'price_per_day'\n",
    "df = apply_composite_for_splits(df, split_cols=['train', 'val', 'test', 'subm'],\n",
    "                                groupby_cols=groupby_cols,\n",
    "                                feature_value_col=feature_value_col,\n",
    "                                agg_methods=[\"mean\", \"min\", \"max\"])\n",
    "df.shape"
   ]
  },
  {
   "cell_type": "markdown",
   "id": "cb939a94",
   "metadata": {},
   "source": [
    "#### prop_review_score"
   ]
  },
  {
   "cell_type": "code",
   "execution_count": 137,
   "id": "28ae6e8b",
   "metadata": {
    "ExecuteTime": {
     "end_time": "2022-05-27T15:48:06.748320Z",
     "start_time": "2022-05-27T15:41:07.311254Z"
    }
   },
   "outputs": [
    {
     "name": "stdout",
     "output_type": "stream",
     "text": [
      "1780 groups when aggregation by ['visitor_location_country_id', 'prop_review_score']\n",
      "1175 groups when aggregation by ['visitor_location_country_id', 'prop_review_score']\n",
      "1147 groups when aggregation by ['visitor_location_country_id', 'prop_review_score']\n",
      "1833 groups when aggregation by ['visitor_location_country_id', 'prop_review_score']\n"
     ]
    },
    {
     "data": {
      "text/plain": [
       "(9917530, 325)"
      ]
     },
     "execution_count": 137,
     "metadata": {},
     "output_type": "execute_result"
    }
   ],
   "source": [
    "groupby_cols = ['visitor_location_country_id', 'prop_review_score']\n",
    "feature_value_col = 'price_per_day'\n",
    "df = apply_composite_for_splits(df, split_cols=['train', 'val', 'test', 'subm'],\n",
    "                                groupby_cols=groupby_cols,\n",
    "                                feature_value_col=feature_value_col,\n",
    "                                agg_methods=[\"mean\", \"median\"])\n",
    "df.shape"
   ]
  },
  {
   "cell_type": "code",
   "execution_count": 138,
   "id": "3a1835e2",
   "metadata": {
    "ExecuteTime": {
     "end_time": "2022-05-27T15:55:06.659068Z",
     "start_time": "2022-05-27T15:48:06.763298Z"
    }
   },
   "outputs": [
    {
     "name": "stdout",
     "output_type": "stream",
     "text": [
      "329251 groups when aggregation by ['visitor_location_country_id', 'srch_destination_id', 'trip_start_date_quarter', 'prop_review_score']\n",
      "71735 groups when aggregation by ['visitor_location_country_id', 'srch_destination_id', 'trip_start_date_quarter', 'prop_review_score']\n",
      "71288 groups when aggregation by ['visitor_location_country_id', 'srch_destination_id', 'trip_start_date_quarter', 'prop_review_score']\n",
      "382571 groups when aggregation by ['visitor_location_country_id', 'srch_destination_id', 'trip_start_date_quarter', 'prop_review_score']\n"
     ]
    }
   ],
   "source": [
    "groupby_cols = ['visitor_location_country_id', 'srch_destination_id', \n",
    "                'trip_start_date_quarter', 'prop_review_score']\n",
    "feature_value_col = 'price_per_day'\n",
    "df = apply_composite_for_splits(df, split_cols=['train', 'val', 'test', 'subm'],\n",
    "                                groupby_cols=groupby_cols,\n",
    "                                feature_value_col=feature_value_col,\n",
    "                                agg_methods=[\"median\", \"max\"])"
   ]
  },
  {
   "cell_type": "code",
   "execution_count": 139,
   "id": "96f17376",
   "metadata": {
    "ExecuteTime": {
     "end_time": "2022-05-27T16:01:19.579231Z",
     "start_time": "2022-05-27T15:55:06.683261Z"
    }
   },
   "outputs": [
    {
     "name": "stdout",
     "output_type": "stream",
     "text": [
      "212035 groups when aggregation by ['visitor_location_country_id', 'srch_destination_id', 'prop_review_score']\n",
      "53426 groups when aggregation by ['visitor_location_country_id', 'srch_destination_id', 'prop_review_score']\n",
      "52981 groups when aggregation by ['visitor_location_country_id', 'srch_destination_id', 'prop_review_score']\n",
      "244068 groups when aggregation by ['visitor_location_country_id', 'srch_destination_id', 'prop_review_score']\n"
     ]
    },
    {
     "data": {
      "text/plain": [
       "(9917530, 337)"
      ]
     },
     "execution_count": 139,
     "metadata": {},
     "output_type": "execute_result"
    }
   ],
   "source": [
    "groupby_cols = ['visitor_location_country_id', 'srch_destination_id', 'prop_review_score']\n",
    "feature_value_col = 'price_per_day'\n",
    "df = apply_composite_for_splits(df, split_cols=['train', 'val', 'test', 'subm'],\n",
    "                                groupby_cols=groupby_cols,\n",
    "                                feature_value_col=feature_value_col,\n",
    "                                agg_methods=[\"mean\", \"min\"])\n",
    "df.shape"
   ]
  },
  {
   "cell_type": "code",
   "execution_count": 140,
   "id": "a67a86a7",
   "metadata": {
    "ExecuteTime": {
     "end_time": "2022-05-27T16:01:20.152285Z",
     "start_time": "2022-05-27T16:01:19.590739Z"
    }
   },
   "outputs": [],
   "source": [
    "# \n",
    "\n",
    "# groupby_cols = ['srch_destination_id', 'prop_review_score']\n",
    "# feature_value_col = 'price_per_day'\n",
    "# df = apply_composite_for_splits(deepcopy(df), split_cols=['train', 'val', 'test', 'subm'],\n",
    "#                                 groupby_cols=groupby_cols,\n",
    "#                                 feature_value_col=feature_value_col,\n",
    "#                                 agg_methods=[\"mean\", \"median\", \"min\", \"max\"])\n",
    "# df.shape"
   ]
  },
  {
   "cell_type": "code",
   "execution_count": 141,
   "id": "d6a97299",
   "metadata": {
    "ExecuteTime": {
     "end_time": "2022-05-27T16:07:53.557716Z",
     "start_time": "2022-05-27T16:01:20.167570Z"
    }
   },
   "outputs": [
    {
     "name": "stdout",
     "output_type": "stream",
     "text": [
      "196547 groups when aggregation by ['srch_destination_id', 'trip_start_date_quarter', 'prop_review_score']\n",
      "56435 groups when aggregation by ['srch_destination_id', 'trip_start_date_quarter', 'prop_review_score']\n",
      "55887 groups when aggregation by ['srch_destination_id', 'trip_start_date_quarter', 'prop_review_score']\n",
      "220382 groups when aggregation by ['srch_destination_id', 'trip_start_date_quarter', 'prop_review_score']\n"
     ]
    }
   ],
   "source": [
    "groupby_cols = ['srch_destination_id', 'trip_start_date_quarter', 'prop_review_score']\n",
    "feature_value_col = 'price_per_day'\n",
    "df = apply_composite_for_splits(df, split_cols=['train', 'val', 'test', 'subm'],\n",
    "                                groupby_cols=groupby_cols,\n",
    "                                feature_value_col=feature_value_col,\n",
    "                                agg_methods=[\"mean\", \"median\", \"min\", \"max\"],\n",
    "                                relative_diff=False)"
   ]
  },
  {
   "cell_type": "code",
   "execution_count": 142,
   "id": "1c427a81",
   "metadata": {
    "ExecuteTime": {
     "end_time": "2022-05-27T16:12:38.870234Z",
     "start_time": "2022-05-27T16:07:53.573539Z"
    }
   },
   "outputs": [
    {
     "name": "stdout",
     "output_type": "stream",
     "text": [
      "128967 groups when aggregation by ['srch_destination_id', 'srch_room_count', 'prop_review_score']\n",
      "40992 groups when aggregation by ['srch_destination_id', 'srch_room_count', 'prop_review_score']\n",
      "40734 groups when aggregation by ['srch_destination_id', 'srch_room_count', 'prop_review_score']\n",
      "144251 groups when aggregation by ['srch_destination_id', 'srch_room_count', 'prop_review_score']\n"
     ]
    },
    {
     "data": {
      "text/plain": [
       "(9917530, 354)"
      ]
     },
     "execution_count": 142,
     "metadata": {},
     "output_type": "execute_result"
    }
   ],
   "source": [
    "groupby_cols = ['srch_destination_id', 'srch_room_count', 'prop_review_score']\n",
    "feature_value_col = 'price_per_day'\n",
    "df = apply_composite_for_splits(df, split_cols=['train', 'val', 'test', 'subm'],\n",
    "                                groupby_cols=groupby_cols,\n",
    "                                feature_value_col=feature_value_col,\n",
    "                                agg_methods=[\"mean\", \"min\", \"max\"])\n",
    "df.shape"
   ]
  },
  {
   "cell_type": "markdown",
   "id": "f97bc671",
   "metadata": {},
   "source": [
    "#### prop_location_score2 rounded"
   ]
  },
  {
   "cell_type": "code",
   "execution_count": 143,
   "id": "a0c482b6",
   "metadata": {
    "ExecuteTime": {
     "end_time": "2022-05-27T16:12:39.165449Z",
     "start_time": "2022-05-27T16:12:38.888216Z"
    }
   },
   "outputs": [
    {
     "name": "stderr",
     "output_type": "stream",
     "text": [
      "<ipython-input-143-bbe02a26d025>:1: PerformanceWarning: DataFrame is highly fragmented.  This is usually the result of calling `frame.insert` many times, which has poor performance.  Consider joining all columns at once using pd.concat(axis=1) instead.  To get a de-fragmented frame, use `newframe = frame.copy()`\n",
      "  df['prop_location_score2_round'] = df['prop_location_score2'].round(1)\n"
     ]
    }
   ],
   "source": [
    "df['prop_location_score2_round'] = df['prop_location_score2'].round(1)"
   ]
  },
  {
   "cell_type": "code",
   "execution_count": 144,
   "id": "81a65e93",
   "metadata": {
    "ExecuteTime": {
     "end_time": "2022-05-27T16:18:30.656188Z",
     "start_time": "2022-05-27T16:12:39.169376Z"
    }
   },
   "outputs": [
    {
     "name": "stdout",
     "output_type": "stream",
     "text": [
      "11 groups when aggregation by ['prop_location_score2_round']\n",
      "11 groups when aggregation by ['prop_location_score2_round']\n",
      "11 groups when aggregation by ['prop_location_score2_round']\n",
      "11 groups when aggregation by ['prop_location_score2_round']\n"
     ]
    },
    {
     "data": {
      "text/plain": [
       "(9917530, 367)"
      ]
     },
     "execution_count": 144,
     "metadata": {},
     "output_type": "execute_result"
    }
   ],
   "source": [
    "groupby_cols = ['prop_location_score2_round']\n",
    "feature_value_col = 'price_per_day'\n",
    "df = apply_composite_for_splits(deepcopy(df), split_cols=['train', 'val', 'test', 'subm'],\n",
    "                                groupby_cols=groupby_cols,\n",
    "                                feature_value_col=feature_value_col,\n",
    "                                agg_methods=[\"mean\", \"median\", \"min\", \"max\"])\n",
    "df.shape"
   ]
  },
  {
   "cell_type": "code",
   "execution_count": 145,
   "id": "8ec1a3c2",
   "metadata": {
    "ExecuteTime": {
     "end_time": "2022-05-27T16:24:33.059654Z",
     "start_time": "2022-05-27T16:18:30.664863Z"
    },
    "scrolled": true
   },
   "outputs": [
    {
     "name": "stdout",
     "output_type": "stream",
     "text": [
      "1532 groups when aggregation by ['visitor_location_country_id', 'prop_location_score2_round']\n",
      "893 groups when aggregation by ['visitor_location_country_id', 'prop_location_score2_round']\n",
      "887 groups when aggregation by ['visitor_location_country_id', 'prop_location_score2_round']\n",
      "1574 groups when aggregation by ['visitor_location_country_id', 'prop_location_score2_round']\n"
     ]
    },
    {
     "data": {
      "text/plain": [
       "(9917530, 379)"
      ]
     },
     "execution_count": 145,
     "metadata": {},
     "output_type": "execute_result"
    }
   ],
   "source": [
    "\n",
    "\n",
    "groupby_cols = ['visitor_location_country_id', 'prop_location_score2_round']\n",
    "feature_value_col = 'price_per_day'\n",
    "df = apply_composite_for_splits(df, split_cols=['train', 'val', 'test', 'subm'],\n",
    "                                groupby_cols=groupby_cols,\n",
    "                                feature_value_col=feature_value_col,\n",
    "                                agg_methods=[\"mean\", \"median\", \"min\", \"max\"])\n",
    "df.shape"
   ]
  },
  {
   "cell_type": "code",
   "execution_count": 146,
   "id": "16232a75",
   "metadata": {
    "ExecuteTime": {
     "end_time": "2022-05-27T16:32:03.564116Z",
     "start_time": "2022-05-27T16:24:33.073114Z"
    }
   },
   "outputs": [
    {
     "name": "stdout",
     "output_type": "stream",
     "text": [
      "171496 groups when aggregation by ['visitor_location_country_id', 'srch_destination_id', 'trip_start_date_quarter', 'prop_location_score2_round']\n",
      "38892 groups when aggregation by ['visitor_location_country_id', 'srch_destination_id', 'trip_start_date_quarter', 'prop_location_score2_round']\n",
      "38834 groups when aggregation by ['visitor_location_country_id', 'srch_destination_id', 'trip_start_date_quarter', 'prop_location_score2_round']\n",
      "197784 groups when aggregation by ['visitor_location_country_id', 'srch_destination_id', 'trip_start_date_quarter', 'prop_location_score2_round']\n"
     ]
    },
    {
     "data": {
      "text/plain": [
       "(9917530, 391)"
      ]
     },
     "execution_count": 146,
     "metadata": {},
     "output_type": "execute_result"
    }
   ],
   "source": [
    "groupby_cols = ['visitor_location_country_id', 'srch_destination_id', \n",
    "                'trip_start_date_quarter', 'prop_location_score2_round']\n",
    "feature_value_col = 'price_per_day'\n",
    "df = apply_composite_for_splits(deepcopy(df), split_cols=['train', 'val', 'test', 'subm'],\n",
    "                                groupby_cols=groupby_cols,\n",
    "                                feature_value_col=feature_value_col,\n",
    "                                agg_methods=[\"mean\", \"median\", \"min\", \"max\"])\n",
    "df.shape"
   ]
  },
  {
   "cell_type": "code",
   "execution_count": null,
   "id": "cb72fda9",
   "metadata": {
    "ExecuteTime": {
     "start_time": "2022-05-27T14:11:17.937Z"
    }
   },
   "outputs": [],
   "source": [
    "groupby_cols = ['visitor_location_country_id', 'srch_destination_id', 'prop_location_score2_round']\n",
    "feature_value_col = 'price_per_day'\n",
    "df = apply_composite_for_splits(df, split_cols=['train', 'val', 'test', 'subm'],\n",
    "                                groupby_cols=groupby_cols,\n",
    "                                feature_value_col=feature_value_col,\n",
    "                                agg_methods=[\"mean\", \"median\", \"min\", \"max\"])\n",
    "df.shape"
   ]
  },
  {
   "cell_type": "code",
   "execution_count": null,
   "id": "5610474d",
   "metadata": {
    "ExecuteTime": {
     "start_time": "2022-05-27T14:11:17.942Z"
    }
   },
   "outputs": [],
   "source": [
    "groupby_cols = ['srch_destination_id', 'prop_location_score2_round']\n",
    "feature_value_col = 'price_per_day'\n",
    "df = apply_composite_for_splits(df, split_cols=['train', 'val', 'test', 'subm'],\n",
    "                                groupby_cols=groupby_cols,\n",
    "                                feature_value_col=feature_value_col,\n",
    "                                agg_methods=[\"mean\", \"median\", \"min\", \"max\"])"
   ]
  },
  {
   "cell_type": "code",
   "execution_count": null,
   "id": "3a7a0b29",
   "metadata": {
    "ExecuteTime": {
     "start_time": "2022-05-27T14:11:17.946Z"
    }
   },
   "outputs": [],
   "source": [
    "groupby_cols = ['srch_destination_id', 'trip_start_date_quarter', 'prop_location_score2_round']\n",
    "feature_value_col = 'price_per_day'\n",
    "df = apply_composite_for_splits(df, split_cols=['train', 'val', 'test', 'subm'],\n",
    "                                groupby_cols=groupby_cols,\n",
    "                                feature_value_col=feature_value_col,\n",
    "                                agg_methods=[\"mean\", \"median\", \"min\", \"max\"])"
   ]
  },
  {
   "cell_type": "code",
   "execution_count": null,
   "id": "0794578d",
   "metadata": {
    "ExecuteTime": {
     "start_time": "2022-05-27T14:11:17.951Z"
    }
   },
   "outputs": [],
   "source": [
    "groupby_cols = ['srch_destination_id', 'srch_room_count', 'prop_location_score2_round']\n",
    "feature_value_col = 'price_per_day'\n",
    "df = apply_composite_for_splits(df, split_cols=['train', 'val', 'test', 'subm'],\n",
    "                                groupby_cols=groupby_cols,\n",
    "                                feature_value_col=feature_value_col,\n",
    "                                agg_methods=[\"mean\", \"median\", \"min\", \"max\"])\n",
    "\n",
    "df.shape"
   ]
  },
  {
   "cell_type": "markdown",
   "id": "0af6c2aa",
   "metadata": {},
   "source": [
    "#### Time aggregations \n",
    "Based on season\\month \n",
    "\n",
    "To calc based on weekday\\day), make day_features=True in start day of trip feature calculation"
   ]
  },
  {
   "cell_type": "code",
   "execution_count": null,
   "id": "09c3ae8c",
   "metadata": {
    "ExecuteTime": {
     "start_time": "2022-05-27T14:11:18.702Z"
    },
    "scrolled": false
   },
   "outputs": [],
   "source": [
    "df.shape"
   ]
  },
  {
   "cell_type": "code",
   "execution_count": null,
   "id": "42f3edad",
   "metadata": {
    "ExecuteTime": {
     "start_time": "2022-05-27T14:11:18.707Z"
    }
   },
   "outputs": [],
   "source": [
    "# \n",
    "\n",
    "# groupby_cols = ['trip_start_date_month']\n",
    "# feature_value_col = 'price_per_day'\n",
    "# comparison_cols = ['visitor_hist_adr_usd', 'prop_historical_price']\n",
    "# df = apply_composite_for_splits(deepcopy(df), split_cols=['train', 'val', 'test', 'subm'],\n",
    "#                                 groupby_cols=groupby_cols,\n",
    "#                                 feature_value_col=feature_value_col,\n",
    "#                                 agg_methods=[\"mean\", \"median\", \"min\", \"max\", 'sum'],\n",
    "#                                 comparison_cols=comparison_cols)"
   ]
  },
  {
   "cell_type": "code",
   "execution_count": null,
   "id": "6a78b4f2",
   "metadata": {
    "ExecuteTime": {
     "start_time": "2022-05-27T14:11:18.712Z"
    }
   },
   "outputs": [],
   "source": [
    "gc.collect()"
   ]
  },
  {
   "cell_type": "code",
   "execution_count": null,
   "id": "6c6986b2",
   "metadata": {
    "ExecuteTime": {
     "start_time": "2022-05-27T14:11:18.716Z"
    }
   },
   "outputs": [],
   "source": [
    "groupby_cols = ['trip_start_date_month', 'prop_id']\n",
    "feature_value_col = 'price_per_day'\n",
    "comparison_cols = ['visitor_hist_adr_usd', 'prop_historical_price']\n",
    "df = apply_composite_for_splits(df, split_cols=['train', 'val', 'test', 'subm'],\n",
    "                                groupby_cols=groupby_cols,\n",
    "                                feature_value_col=feature_value_col,\n",
    "                                agg_methods=[\"mean\", \"median\", \"min\", \"max\", 'sum'],\n",
    "                                comparison_cols=comparison_cols)\n",
    "df.shape"
   ]
  },
  {
   "cell_type": "code",
   "execution_count": null,
   "id": "5c6fb34a",
   "metadata": {
    "ExecuteTime": {
     "start_time": "2022-05-27T14:11:18.721Z"
    },
    "scrolled": true
   },
   "outputs": [],
   "source": [
    "gc.collect()"
   ]
  },
  {
   "cell_type": "code",
   "execution_count": null,
   "id": "8c81c5bf",
   "metadata": {
    "ExecuteTime": {
     "start_time": "2022-05-27T14:11:18.726Z"
    }
   },
   "outputs": [],
   "source": [
    "# \n",
    "\n",
    "# groupby_cols = ['trip_start_date_month', 'srch_destination_id']\n",
    "# feature_value_col = 'price_per_day'\n",
    "# comparison_cols = ['visitor_hist_adr_usd', 'prop_historical_price']\n",
    "# df = apply_composite_for_splits(deepcopy(df), split_cols=['train', 'val', 'test', 'subm'],\n",
    "#                                 groupby_cols=groupby_cols,\n",
    "#                                 feature_value_col=feature_value_col,\n",
    "#                                 agg_methods=[\"mean\", \"median\", \"min\", \"max\", 'sum'],\n",
    "#                                 comparison_cols=comparison_cols)\n",
    "\n",
    "# df.shape"
   ]
  },
  {
   "cell_type": "code",
   "execution_count": null,
   "id": "e1348d51",
   "metadata": {
    "ExecuteTime": {
     "start_time": "2022-05-27T14:11:18.730Z"
    }
   },
   "outputs": [],
   "source": [
    "# \n",
    "\n",
    "# groupby_cols = ['trip_start_date_quarter']\n",
    "# feature_value_col = 'price_per_day'\n",
    "# comparison_cols = ['visitor_hist_adr_usd', 'prop_historical_price']\n",
    "# df = apply_composite_for_splits(deepcopy(df), split_cols=['train', 'val', 'test', 'subm'],\n",
    "#                                 groupby_cols=groupby_cols,\n",
    "#                                 feature_value_col=feature_value_col,\n",
    "#                                 agg_methods=[\"mean\", \"median\", \"min\", \"max\", 'sum'],\n",
    "#                                 comparison_cols=comparison_cols)\n",
    "# df.shape"
   ]
  },
  {
   "cell_type": "code",
   "execution_count": null,
   "id": "50c64a05",
   "metadata": {
    "ExecuteTime": {
     "start_time": "2022-05-27T14:11:18.735Z"
    }
   },
   "outputs": [],
   "source": [
    "df.memory_usage().sum() / 1024**2"
   ]
  },
  {
   "cell_type": "markdown",
   "id": "6de05d2a",
   "metadata": {},
   "source": [
    "## Calculate position per prop_id"
   ]
  },
  {
   "cell_type": "code",
   "execution_count": null,
   "id": "cdd10dd7",
   "metadata": {
    "ExecuteTime": {
     "start_time": "2022-05-27T14:11:19.244Z"
    },
    "code_folding": []
   },
   "outputs": [],
   "source": [
    "# groupby_cols = ['prop_id']\n",
    "# feature_value_col = 'position'\n",
    "# df = apply_composite_for_splits(deepcopy(df), split_cols=['train', 'val', 'test', 'subm'],\n",
    "#                                  groupby_cols=groupby_cols,\n",
    "#                                  feature_value_col=feature_value_col,\n",
    "#                                  agg_methods=[\"mean\", \"median\", \"min\", \"max\"])\n",
    "\n",
    "# groupby_cols = ['trip_start_date_week', 'prop_id']\n",
    "# feature_value_col = 'position'\n",
    "# df = apply_composite_for_splits(deepcopy(df), split_cols=['train', 'val', 'test', 'subm'],\n",
    "#                                  groupby_cols=groupby_cols,\n",
    "#                                  feature_value_col=feature_value_col,\n",
    "#                                  agg_methods=[\"mean\", \"median\", \"min\", \"max\"])\n",
    "\n",
    "# groupby_cols = ['trip_start_date_month', 'prop_id']\n",
    "# feature_value_col = 'position'\n",
    "# df = apply_composite_for_splits(deepcopy(df), split_cols=['train', 'val', 'test', 'subm'],\n",
    "#                                  groupby_cols=groupby_cols,\n",
    "#                                  feature_value_col=feature_value_col,\n",
    "#                                  agg_methods=[\"mean\", \"median\", \"min\", \"max\"])\n",
    "\n",
    "# groupby_cols = ['trip_start_date_quarter', 'prop_id']\n",
    "# feature_value_col = 'position'\n",
    "# df = apply_composite_for_splits(deepcopy(df), split_cols=['train', 'val', 'test', 'subm'],\n",
    "#                                  groupby_cols=groupby_cols,\n",
    "#                                  feature_value_col=feature_value_col,\n",
    "#                                  agg_methods=[\"mean\", \"median\", \"min\", \"max\"])"
   ]
  },
  {
   "cell_type": "markdown",
   "id": "4b093231",
   "metadata": {},
   "source": [
    "## Hotel position in previous and next search + avg of those"
   ]
  },
  {
   "cell_type": "code",
   "execution_count": null,
   "id": "c6dbf83b",
   "metadata": {
    "ExecuteTime": {
     "start_time": "2022-05-27T14:11:19.672Z"
    }
   },
   "outputs": [],
   "source": [
    "# #order df by prop_id and time of viewing the website\n",
    "# df.sort_values(['prop_id','date_time'], inplace=True)\n",
    "\n",
    "# #shift position to find previous and next position\n",
    "# #shift prop_id to find where the prop_id changes by shifting and setting the position to nan there\n",
    "# #i.e if the next row is for an other prop_id the position from that row cannot be used and is replaced with a nan\n",
    "# #shift by multiple lines in order to skip missing data\n",
    "# df['pos_next'] = df['position'].shift(-1)\n",
    "# df.loc[df['prop_id'] != df['prop_id'].shift(-1), 'pos_next'] = np.nan\n",
    "# df['pos_next2'] = df['position'].shift(-2)\n",
    "# df.loc[df['prop_id'] != df['prop_id'].shift(-2), 'pos_next2'] = np.nan\n",
    "# df['pos_next3'] = df['position'].shift(-3)\n",
    "# df.loc[df['prop_id'] != df['prop_id'].shift(-3), 'pos_next3'] = np.nan\n",
    "\n",
    "# df['pos_prev'] = df['position'].shift(1)\n",
    "# df.loc[df['prop_id'] != df['prop_id'].shift(1), 'pos_prev'] = np.nan\n",
    "# df['pos_prev2'] = df['position'].shift(2)\n",
    "# df.loc[df['prop_id'] != df['prop_id'].shift(2), 'pos_prev2'] = np.nan\n",
    "# df['pos_prev3'] = df['position'].shift(3)\n",
    "# df.loc[df['prop_id'] != df['prop_id'].shift(3), 'pos_prev3'] = np.nan\n",
    "\n",
    "\n",
    "# #fill missing pos_next and pos_prev from columns shifted by multiple rows\n",
    "# df.loc[df['pos_next'].isna(), 'pos_next'] = df[df['pos_next'].isna()]['pos_next2']\n",
    "# df.loc[df['pos_next'].isna(), 'pos_next'] = df[df['pos_next'].isna()]['pos_next3']\n",
    "# df.loc[df['pos_prev'].isna(), 'pos_prev'] = df[df['pos_prev'].isna()]['pos_prev2']\n",
    "# df.loc[df['pos_prev'].isna(), 'pos_prev'] = df[df['pos_prev'].isna()]['pos_prev3']\n",
    "# df['pos_mean2'] = (df['pos_next'] + df['pos_prev']) / 2\n",
    "\n",
    "# df.drop(['pos_next2', 'pos_next3', 'pos_prev2', 'pos_prev3'], axis=1, inplace=True)\n",
    "# df.sort_index(inplace=True)"
   ]
  },
  {
   "cell_type": "code",
   "execution_count": null,
   "id": "69dbd871",
   "metadata": {
    "ExecuteTime": {
     "start_time": "2022-05-27T14:11:19.677Z"
    }
   },
   "outputs": [],
   "source": [
    "df.head()"
   ]
  },
  {
   "cell_type": "markdown",
   "id": "31e63db8",
   "metadata": {},
   "source": [
    "# Data split"
   ]
  },
  {
   "cell_type": "code",
   "execution_count": null,
   "id": "9e494b04",
   "metadata": {
    "ExecuteTime": {
     "start_time": "2022-05-27T14:11:19.985Z"
    }
   },
   "outputs": [],
   "source": [
    "from features_dict import CAT_FEATURES, BOOL_COLS"
   ]
  },
  {
   "cell_type": "code",
   "execution_count": null,
   "id": "212e3659",
   "metadata": {
    "ExecuteTime": {
     "start_time": "2022-05-27T14:11:19.993Z"
    },
    "scrolled": true
   },
   "outputs": [],
   "source": [
    "# for c in CAT_FEATURES:\n",
    "#     if c in df.columns:\n",
    "#         df[c] = df[c].astype('category')\n",
    "        \n",
    "# for c in BOOL_COLS:\n",
    "#     if c in df.columns:\n",
    "#         df[c] = df[c].astype(bool)"
   ]
  },
  {
   "cell_type": "code",
   "execution_count": null,
   "id": "66d6f1e7",
   "metadata": {
    "ExecuteTime": {
     "start_time": "2022-05-27T14:11:19.999Z"
    },
    "scrolled": true
   },
   "outputs": [],
   "source": [
    "df = downcast(df)"
   ]
  },
  {
   "cell_type": "code",
   "execution_count": null,
   "id": "9f635136",
   "metadata": {
    "ExecuteTime": {
     "start_time": "2022-05-27T14:11:20.006Z"
    },
    "scrolled": true
   },
   "outputs": [],
   "source": [
    "df.memory_usage().sum() / 1024**2"
   ]
  },
  {
   "cell_type": "code",
   "execution_count": null,
   "id": "0fd9e2b3",
   "metadata": {
    "ExecuteTime": {
     "start_time": "2022-05-27T14:11:20.010Z"
    },
    "scrolled": true
   },
   "outputs": [],
   "source": [
    "dtps_upd = df.dtypes.apply(lambda x: x.name).to_dict()\n",
    "\n",
    "for k in dtps_upd:\n",
    "    if (k in dtps) and (dtps[k] != dtps_upd[k]):\n",
    "        print(f\"{k} was: {dtps[k]}, become {dtps_upd[k]}\")"
   ]
  },
  {
   "cell_type": "code",
   "execution_count": null,
   "id": "202631ba",
   "metadata": {
    "ExecuteTime": {
     "start_time": "2022-05-27T14:11:20.018Z"
    },
    "scrolled": true
   },
   "outputs": [],
   "source": [
    "df.shape"
   ]
  },
  {
   "cell_type": "code",
   "execution_count": null,
   "id": "81997c5a",
   "metadata": {
    "ExecuteTime": {
     "start_time": "2022-05-27T14:11:20.024Z"
    }
   },
   "outputs": [],
   "source": [
    "# no need for that if we don't do time-series split\n",
    "df.sort_values([group_col, time_col, 'prop_id'], inplace=True)"
   ]
  },
  {
   "cell_type": "code",
   "execution_count": null,
   "id": "32940510",
   "metadata": {
    "ExecuteTime": {
     "start_time": "2022-05-27T14:11:20.031Z"
    }
   },
   "outputs": [],
   "source": [
    "data_path += '_27_may'"
   ]
  },
  {
   "cell_type": "code",
   "execution_count": null,
   "id": "91a8bc44",
   "metadata": {
    "ExecuteTime": {
     "start_time": "2022-05-27T14:11:20.036Z"
    }
   },
   "outputs": [],
   "source": [
    "df.to_pickle(os.path.join(data_path, 'full_df_26_may.pickle'))"
   ]
  },
  {
   "cell_type": "code",
   "execution_count": null,
   "id": "a9b659dc",
   "metadata": {
    "ExecuteTime": {
     "start_time": "2022-05-27T14:11:20.043Z"
    }
   },
   "outputs": [],
   "source": [
    "subm_df = deepcopy(df[df['subm'] == True])\n",
    "df = deepcopy(df[df['subm'] == False])\n",
    "\n",
    "subm_df.drop(['subm'] + ['train', 'test', 'val'] + drop_cols, axis=1, inplace=True)\n",
    "df.drop(['subm'], axis=1, inplace=True)\n",
    "\n",
    "df.shape, subm_df.shape"
   ]
  },
  {
   "cell_type": "code",
   "execution_count": null,
   "id": "867a0744",
   "metadata": {
    "ExecuteTime": {
     "start_time": "2022-05-27T14:11:20.048Z"
    },
    "scrolled": false
   },
   "outputs": [],
   "source": [
    "X = df.drop(drop_cols, axis=1)\n",
    "\n",
    "y = df[['booking_bool', 'click_bool']].parallel_apply(get_target, axis=1)"
   ]
  },
  {
   "cell_type": "code",
   "execution_count": null,
   "id": "5330f9aa",
   "metadata": {
    "ExecuteTime": {
     "start_time": "2022-05-27T14:11:20.054Z"
    },
    "scrolled": true
   },
   "outputs": [],
   "source": [
    "# split the data into separate dataframes\n",
    "# according to the paper https://arxiv.org/pdf/1311.7679v1.pdf\n",
    "\n",
    "X_test = X[X['test']].drop(['train', 'test', 'val'], axis=1)\n",
    "y_test = y.loc[X_test.index]\n",
    "\n",
    "X_val = X[X['val']].drop(['train', 'test', 'val'], axis=1)\n",
    "y_val = y.loc[X_val.index]\n",
    "\n",
    "X_train = X[~X.index.isin(X_test.index.union(X_val.index))].drop(['train', 'test', 'val'], axis=1)\n",
    "y_train = y.loc[X_train.index]\n",
    "\n",
    "# from sklearn.model_selection import GroupShuffleSplit\n",
    "\n",
    "# gss = GroupShuffleSplit(n_splits=1, train_size=.9, random_state=None)\n",
    "# train_val, test_idx = next(gss.split(X, y, groups=X[group_col]))\n",
    "# X_train_val = X.iloc[train_val, :]\n",
    "# y_train_val = y.iloc[train_val]\n",
    "# X_test = X.iloc[test_idx, :]\n",
    "# y_test = y.iloc[test_idx]\n",
    "\n",
    "# gss = GroupShuffleSplit(n_splits=1, train_size=.9, random_state=None)\n",
    "# train_idx, val_idx = next(gss.split(X_train_val, y_train_val, groups=X_train_val[group_col]))\n",
    "# X_train = X_train_val.iloc[train_idx, :]\n",
    "# y_train = y_train_val.iloc[train_idx]\n",
    "# X_val = X_train_val.iloc[val_idx, :]\n",
    "# y_val = y_train_val.iloc[val_idx]\n",
    "\n",
    "# X_train_val, X_test, y_train_val, y_test, groups_train_val, groups_test = GroupShuffleSplit(X, y, groups,\n",
    "#                                                                                                  group_array=groups,\n",
    "#                                                                                                  train_size=0.9)\n",
    "# # del X, y\n",
    "\n",
    "# X_train, X_val, y_train, y_val, groups_train, groups_val = train_test_group_split(X_train_val,\n",
    "#                                                                                   y_train_val,\n",
    "#                                                                                   groups_train_val,\n",
    "#                                                                                   group_array=groups_train_val,\n",
    "#                                                                                   train_size=0.9)"
   ]
  },
  {
   "cell_type": "code",
   "execution_count": null,
   "id": "6cab6d9b",
   "metadata": {
    "ExecuteTime": {
     "start_time": "2022-05-27T14:11:20.059Z"
    },
    "scrolled": false
   },
   "outputs": [],
   "source": [
    "X_train.shape, X_val.shape, X_test.shape, subm_df.shape"
   ]
  },
  {
   "cell_type": "code",
   "execution_count": null,
   "id": "4b5868af",
   "metadata": {
    "ExecuteTime": {
     "start_time": "2022-05-27T14:11:20.065Z"
    }
   },
   "outputs": [],
   "source": [
    "# make sure that this is empty\n",
    "assert set(X_train[group_col]).intersection(set(X_test[group_col])) == set()\n",
    "assert set(X_train[group_col]).intersection(set(X_val[group_col])) == set()\n",
    "\n",
    "\n",
    "assert X_train.shape[1] == X_val.shape[1]\n",
    "assert X_val.shape[1] == X_test.shape[1]\n",
    "assert X_test.shape[1] == subm_df.shape[1]"
   ]
  },
  {
   "cell_type": "markdown",
   "id": "a8eafb22",
   "metadata": {},
   "source": [
    "check that submission search ids are presented in both train, val, test"
   ]
  },
  {
   "cell_type": "code",
   "execution_count": null,
   "id": "6302d58d",
   "metadata": {
    "ExecuteTime": {
     "start_time": "2022-05-27T14:11:20.778Z"
    }
   },
   "outputs": [],
   "source": [
    "len(set(X_train[group_col]).intersection(set(subm_df[group_col])))/len(X_train)"
   ]
  },
  {
   "cell_type": "code",
   "execution_count": null,
   "id": "2de22536",
   "metadata": {
    "ExecuteTime": {
     "start_time": "2022-05-27T14:11:20.782Z"
    }
   },
   "outputs": [],
   "source": [
    "len(set(X_val[group_col]).intersection(set(subm_df[group_col])))/len(X_val)"
   ]
  },
  {
   "cell_type": "code",
   "execution_count": null,
   "id": "91eb9e1b",
   "metadata": {
    "ExecuteTime": {
     "start_time": "2022-05-27T14:11:20.787Z"
    }
   },
   "outputs": [],
   "source": [
    "len(set(X_test[group_col]).intersection(set(subm_df[group_col])))/len(X_test)"
   ]
  },
  {
   "cell_type": "code",
   "execution_count": null,
   "id": "d49df15d",
   "metadata": {
    "ExecuteTime": {
     "start_time": "2022-05-27T14:11:20.792Z"
    }
   },
   "outputs": [],
   "source": [
    "for df_hist, name in [(X_train, 'train'), (X_val, 'val'), (X_test, 'test'), (subm_df, 'subm')]:\n",
    "    plt.figure(figsize=(15, 1))\n",
    "    df_hist[group_col].hist(alpha=0.4, label=name, density=True, color='tab:blue')\n",
    "    plt.xlabel(group_col)\n",
    "    plt.legend()    "
   ]
  },
  {
   "cell_type": "code",
   "execution_count": null,
   "id": "5d07798b",
   "metadata": {
    "ExecuteTime": {
     "start_time": "2022-05-27T14:11:20.797Z"
    }
   },
   "outputs": [],
   "source": [
    "for df_hist, name in [(X_train, 'train'), (X_val, 'val'), (X_test, 'test'), (subm_df, 'subm')]:\n",
    "    plt.figure(figsize=(15, 1))\n",
    "    df_hist.groupby([group_col])['prop_id'].apply(len).hist(alpha=0.4, label=name, density=True, color='tab:blue')\n",
    "    plt.xlabel('props per srch')\n",
    "    plt.legend()    "
   ]
  },
  {
   "cell_type": "code",
   "execution_count": null,
   "id": "8e70fa57",
   "metadata": {
    "ExecuteTime": {
     "start_time": "2022-05-27T14:11:20.801Z"
    }
   },
   "outputs": [],
   "source": [
    "col = time_col\n",
    "for df_hist, name in [(X_train, 'train'), (X_val, 'val'), (X_test, 'test'), (subm_df, 'subm')]:\n",
    "    plt.figure(figsize=(15, 1))\n",
    "    df_hist[col].hist(alpha=0.4, label=name, density=True, color='tab:blue')\n",
    "    plt.xlabel(col)\n",
    "    plt.legend()    "
   ]
  },
  {
   "cell_type": "markdown",
   "id": "6964022a",
   "metadata": {},
   "source": [
    "# Correlations"
   ]
  },
  {
   "cell_type": "code",
   "execution_count": null,
   "id": "54b3e42c",
   "metadata": {
    "ExecuteTime": {
     "start_time": "2022-05-27T14:11:21.420Z"
    },
    "scrolled": true
   },
   "outputs": [],
   "source": [
    "# profile = ProfileReport(X_train.sample(10000), title=\"Pandas Profiling Report\", minimal=True)"
   ]
  },
  {
   "cell_type": "code",
   "execution_count": null,
   "id": "b00cd62d",
   "metadata": {
    "ExecuteTime": {
     "start_time": "2022-05-27T14:11:21.426Z"
    },
    "scrolled": true
   },
   "outputs": [],
   "source": [
    "# profile.to_notebook_iframe()"
   ]
  },
  {
   "cell_type": "code",
   "execution_count": null,
   "id": "eebc43e7",
   "metadata": {
    "ExecuteTime": {
     "start_time": "2022-05-27T14:11:21.431Z"
    },
    "scrolled": true
   },
   "outputs": [],
   "source": [
    "for c in subm_df.columns:\n",
    "    df_nans = df[c].isna().mean().round(4) * 100\n",
    "    subm_df_nans = subm_df[c].isna().mean().round(4) * 100\n",
    "    if df_nans == subm_df_nans == 0:\n",
    "        continue\n",
    "    print(f\"{round(df_nans, 2)} vs {round(subm_df_nans, 2)} | {c}\")\n",
    "    assert subm_df_nans != 100."
   ]
  },
  {
   "cell_type": "markdown",
   "id": "38c390a0",
   "metadata": {},
   "source": [
    "# Save tables"
   ]
  },
  {
   "cell_type": "code",
   "execution_count": null,
   "id": "6eff36f3",
   "metadata": {
    "ExecuteTime": {
     "start_time": "2022-05-27T14:11:21.899Z"
    },
    "scrolled": true
   },
   "outputs": [],
   "source": [
    "X_val.reset_index().to_feather(os.path.join(data_path, 'X_val.feather'))\n",
    "y_val.to_frame('target').reset_index().to_feather(os.path.join(data_path, 'y_val.feather'))\n",
    "# groups_val.reset_index().to_feather(os.path.join(data_path, 'groups_val.feather'))\n",
    "print('val is done')\n",
    "\n",
    "X_train.reset_index().to_feather(os.path.join(data_path, 'X_train.feather'))\n",
    "y_train.to_frame('target').reset_index().to_feather(os.path.join(data_path, 'y_train.feather'))\n",
    "# groups_train.reset_index().to_feather(os.path.join(data_path, 'groups_train.feather'))\n",
    "print('train is done')\n",
    "\n",
    "X_test.reset_index().to_feather(os.path.join(data_path, 'X_test.feather'))\n",
    "y_test.to_frame('target').reset_index().to_feather(os.path.join(data_path, 'y_test.feather'))\n",
    "# groups_test.reset_index().to_feather(os.path.join(data_path, 'groups_test.feather'))\n",
    "print('test is done')\n",
    "\n",
    "subm_df.reset_index().to_feather(os.path.join(data_path, 'submission_df_preprocessed.feather'))\n",
    "print('submission is done')"
   ]
  }
 ],
 "metadata": {
  "kernelspec": {
   "display_name": "Python 3",
   "language": "python",
   "name": "python3"
  },
  "language_info": {
   "codemirror_mode": {
    "name": "ipython",
    "version": 3
   },
   "file_extension": ".py",
   "mimetype": "text/x-python",
   "name": "python",
   "nbconvert_exporter": "python",
   "pygments_lexer": "ipython3",
   "version": "3.8.8"
  },
  "latex_envs": {
   "LaTeX_envs_menu_present": true,
   "autoclose": false,
   "autocomplete": true,
   "bibliofile": "biblio.bib",
   "cite_by": "apalike",
   "current_citInitial": 1,
   "eqLabelWithNumbers": true,
   "eqNumInitial": 1,
   "hotkeys": {
    "equation": "Ctrl-E",
    "itemize": "Ctrl-I"
   },
   "labels_anchors": false,
   "latex_user_defs": false,
   "report_style_numbering": false,
   "user_envs_cfg": false
  },
  "toc": {
   "base_numbering": 1,
   "nav_menu": {},
   "number_sections": true,
   "sideBar": true,
   "skip_h1_title": false,
   "title_cell": "Table of Contents",
   "title_sidebar": "Contents",
   "toc_cell": false,
   "toc_position": {
    "height": "calc(100% - 180px)",
    "left": "10px",
    "top": "150px",
    "width": "293px"
   },
   "toc_section_display": true,
   "toc_window_display": true
  }
 },
 "nbformat": 4,
 "nbformat_minor": 5
}
