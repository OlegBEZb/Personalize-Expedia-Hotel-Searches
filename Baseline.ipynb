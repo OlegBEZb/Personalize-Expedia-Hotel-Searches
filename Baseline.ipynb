{
 "cells": [
  {
   "cell_type": "code",
   "execution_count": 1,
   "id": "b4072603",
   "metadata": {},
   "outputs": [],
   "source": [
    "import pandas, pickle, numpy as np\n",
    "np.random.seed(42)"
   ]
  },
  {
   "cell_type": "markdown",
   "id": "d5b8d957",
   "metadata": {},
   "source": [
    "## Random Baseline"
   ]
  },
  {
   "cell_type": "code",
   "execution_count": 2,
   "id": "48a853a0",
   "metadata": {},
   "outputs": [],
   "source": [
    "with open('data/X_test.pickle', 'rb') as data:\n",
    "    df = pickle.load(data)"
   ]
  },
  {
   "cell_type": "code",
   "execution_count": 3,
   "id": "04c68128",
   "metadata": {},
   "outputs": [
    {
     "data": {
      "text/html": [
       "<div>\n",
       "<style scoped>\n",
       "    .dataframe tbody tr th:only-of-type {\n",
       "        vertical-align: middle;\n",
       "    }\n",
       "\n",
       "    .dataframe tbody tr th {\n",
       "        vertical-align: top;\n",
       "    }\n",
       "\n",
       "    .dataframe thead th {\n",
       "        text-align: right;\n",
       "    }\n",
       "</style>\n",
       "<table border=\"1\" class=\"dataframe\">\n",
       "  <thead>\n",
       "    <tr style=\"text-align: right;\">\n",
       "      <th></th>\n",
       "      <th>SearchId</th>\n",
       "      <th>PropertyId</th>\n",
       "    </tr>\n",
       "  </thead>\n",
       "  <tbody>\n",
       "    <tr>\n",
       "      <th>236</th>\n",
       "      <td>25</td>\n",
       "      <td>125384</td>\n",
       "    </tr>\n",
       "    <tr>\n",
       "      <th>229</th>\n",
       "      <td>25</td>\n",
       "      <td>88629</td>\n",
       "    </tr>\n",
       "    <tr>\n",
       "      <th>207</th>\n",
       "      <td>25</td>\n",
       "      <td>2863</td>\n",
       "    </tr>\n",
       "    <tr>\n",
       "      <th>234</th>\n",
       "      <td>25</td>\n",
       "      <td>120328</td>\n",
       "    </tr>\n",
       "    <tr>\n",
       "      <th>221</th>\n",
       "      <td>25</td>\n",
       "      <td>65623</td>\n",
       "    </tr>\n",
       "    <tr>\n",
       "      <th>...</th>\n",
       "      <td>...</td>\n",
       "      <td>...</td>\n",
       "    </tr>\n",
       "    <tr>\n",
       "      <th>4958342</th>\n",
       "      <td>332785</td>\n",
       "      <td>77700</td>\n",
       "    </tr>\n",
       "    <tr>\n",
       "      <th>4958345</th>\n",
       "      <td>332785</td>\n",
       "      <td>128360</td>\n",
       "    </tr>\n",
       "    <tr>\n",
       "      <th>4958344</th>\n",
       "      <td>332785</td>\n",
       "      <td>94508</td>\n",
       "    </tr>\n",
       "    <tr>\n",
       "      <th>4958346</th>\n",
       "      <td>332785</td>\n",
       "      <td>134949</td>\n",
       "    </tr>\n",
       "    <tr>\n",
       "      <th>4958341</th>\n",
       "      <td>332785</td>\n",
       "      <td>55110</td>\n",
       "    </tr>\n",
       "  </tbody>\n",
       "</table>\n",
       "<p>492432 rows × 2 columns</p>\n",
       "</div>"
      ],
      "text/plain": [
       "         SearchId  PropertyId\n",
       "236            25      125384\n",
       "229            25       88629\n",
       "207            25        2863\n",
       "234            25      120328\n",
       "221            25       65623\n",
       "...           ...         ...\n",
       "4958342    332785       77700\n",
       "4958345    332785      128360\n",
       "4958344    332785       94508\n",
       "4958346    332785      134949\n",
       "4958341    332785       55110\n",
       "\n",
       "[492432 rows x 2 columns]"
      ]
     },
     "execution_count": 3,
     "metadata": {},
     "output_type": "execute_result"
    }
   ],
   "source": [
    "ordinals = np.arange(len(df))\n",
    "np.random.shuffle(ordinals)\n",
    "\n",
    "predictions = pandas.DataFrame({'SearchId': df[\"srch_id\"], 'PropertyId': df[\"prop_id\"], 'ord': ordinals})\n",
    "\n",
    "predictions.sort_values(by=['SearchId', 'ord'], ascending=[True, False], inplace=True)\n",
    "predictions.drop(['ord'], axis=1, inplace=True)\n",
    "predictions"
   ]
  }
 ],
 "metadata": {
  "kernelspec": {
   "display_name": "venv",
   "language": "python",
   "name": "venv"
  },
  "language_info": {
   "codemirror_mode": {
    "name": "ipython",
    "version": 3
   },
   "file_extension": ".py",
   "mimetype": "text/x-python",
   "name": "python",
   "nbconvert_exporter": "python",
   "pygments_lexer": "ipython3",
   "version": "3.8.9"
  }
 },
 "nbformat": 4,
 "nbformat_minor": 5
}
