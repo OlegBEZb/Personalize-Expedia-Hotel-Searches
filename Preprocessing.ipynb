{
 "cells": [
  {
   "cell_type": "code",
   "execution_count": 1,
   "id": "52599131",
   "metadata": {
    "ExecuteTime": {
     "end_time": "2022-05-28T13:35:29.818605Z",
     "start_time": "2022-05-28T13:35:29.785739Z"
    },
    "scrolled": false
   },
   "outputs": [
    {
     "data": {
      "application/javascript": [
       "IPython.notebook.set_autosave_interval(180000)"
      ]
     },
     "metadata": {},
     "output_type": "display_data"
    },
    {
     "name": "stdout",
     "output_type": "stream",
     "text": [
      "Autosaving every 180 seconds\n"
     ]
    }
   ],
   "source": [
    "%autosave 180\n",
    "%load_ext autoreload\n",
    "%autoreload 2"
   ]
  },
  {
   "cell_type": "markdown",
   "id": "699b2d23",
   "metadata": {},
   "source": [
    "# Imports"
   ]
  },
  {
   "cell_type": "code",
   "execution_count": 2,
   "id": "e23a25c7",
   "metadata": {
    "ExecuteTime": {
     "end_time": "2022-05-28T13:35:34.688556Z",
     "start_time": "2022-05-28T13:35:29.858667Z"
    },
    "scrolled": true
   },
   "outputs": [
    {
     "name": "stdout",
     "output_type": "stream",
     "text": [
      "INFO: Pandarallel will run on 4 workers.\n",
      "INFO: Pandarallel will use standard multiprocessing data transfer (pipe) to transfer data between the main process and workers.\n"
     ]
    }
   ],
   "source": [
    "import random\n",
    "\n",
    "from features import get_time_features\n",
    "from utils import get_target\n",
    "import os\n",
    "import gc\n",
    "\n",
    "import pandas as pd\n",
    "pd.set_option('max_columns', None)\n",
    "\n",
    "import numpy as np\n",
    "from scipy import stats\n",
    "from copy import deepcopy\n",
    "import category_encoders as ce\n",
    "from feature_engine.creation import CyclicalTransformer\n",
    "from pandas_profiling import ProfileReport\n",
    "import matplotlib.pyplot as plt\n",
    "%matplotlib inline\n",
    "\n",
    "from reducing import Reducer\n",
    "from features import num_transformations\n",
    "from utils import downcast"
   ]
  },
  {
   "cell_type": "code",
   "execution_count": 3,
   "id": "e0a05b1f",
   "metadata": {
    "ExecuteTime": {
     "end_time": "2022-05-28T13:35:34.723538Z",
     "start_time": "2022-05-28T13:35:34.691591Z"
    }
   },
   "outputs": [
    {
     "name": "stdout",
     "output_type": "stream",
     "text": [
      "INFO: Pandarallel will run on 4 workers.\n",
      "INFO: Pandarallel will use standard multiprocessing data transfer (pipe) to transfer data between the main process and workers.\n"
     ]
    }
   ],
   "source": [
    "from pandarallel import pandarallel\n",
    "pandarallel.initialize(progress_bar=True)\n",
    "from utils import get_target"
   ]
  },
  {
   "cell_type": "markdown",
   "id": "081c4556",
   "metadata": {},
   "source": [
    "# Parameters"
   ]
  },
  {
   "cell_type": "code",
   "execution_count": 4,
   "id": "274a06ca",
   "metadata": {
    "ExecuteTime": {
     "end_time": "2022-05-28T13:35:34.758366Z",
     "start_time": "2022-05-28T13:35:34.725912Z"
    }
   },
   "outputs": [],
   "source": [
    "USE_FULL = True\n",
    "\n",
    "data_path = 'data'\n",
    "train_filename = 'training_set_VU_DM.csv'\n",
    "test_filename = 'test_set_VU_DM.csv'\n",
    "\n",
    "drop_cols = ['position', 'click_bool',\n",
    "             'gross_bookings_usd', 'booking_bool',\n",
    "#              'train', 'val', 'test', 'subm'\n",
    "             ]\n",
    "\n",
    "group_col = 'srch_id'\n",
    "time_col = 'date_time'\n",
    "\n",
    "CLIP_PRICE = 15000  # None\n",
    "FILTER_PRICE_SIGMA = 4  # 4 or None\n",
    "\n",
    "COMP_RATE_PERCENT_DIFF_SIGNED_FEATURES = True\n",
    "COMP_RATE_PERCENT_DIFF_TRANSFORMATION_FEATURES = False\n",
    "\n",
    "BOOKING_TIME_FEATURES = False\n",
    "BOOKING_TIME_CYCLICALS = False\n",
    "\n",
    "HOLIDAY_DURING_TRIP_FEATURE = False\n",
    "HOLIDAY_DURING_BOOKING_FEATURE = False\n",
    "if HOLIDAY_DURING_TRIP_FEATURE or HOLIDAY_DURING_BOOKING_FEATURE:\n",
    "    from pandas.tseries.holiday import USFederalHolidayCalendar as calendar"
   ]
  },
  {
   "cell_type": "markdown",
   "id": "6f33a398",
   "metadata": {},
   "source": [
    "# Data reading"
   ]
  },
  {
   "cell_type": "code",
   "execution_count": 5,
   "id": "d1bb70b4",
   "metadata": {
    "ExecuteTime": {
     "end_time": "2022-05-28T13:35:34.850253Z",
     "start_time": "2022-05-28T13:35:34.761438Z"
    },
    "code_folding": [
     0
    ]
   },
   "outputs": [],
   "source": [
    "dtps = {'srch_id': 'uint32',\n",
    "        'date_time': 'object',\n",
    "        'site_id': 'uint8',\n",
    "        'visitor_location_country_id': 'uint8',\n",
    "        'visitor_hist_starrating': 'float32',\n",
    "        'visitor_hist_adr_usd': 'float32',\n",
    "        'prop_country_id': 'uint8',\n",
    "        'prop_id': 'uint32',\n",
    "        'prop_starrating': 'float32',\n",
    "        'prop_review_score': 'float32',\n",
    "        'prop_brand_bool': 'uint8',\n",
    "        'prop_location_score1': 'float32',\n",
    "        'prop_location_score2': 'float32',\n",
    "        'prop_log_historical_price': 'float32',\n",
    "        'position': 'uint8',\n",
    "        'price_usd': 'float32',\n",
    "        'promotion_flag': 'uint8',\n",
    "        'srch_destination_id': 'uint16',\n",
    "        'srch_length_of_stay': 'uint8',\n",
    "        'srch_booking_window': 'uint16',\n",
    "        'srch_adults_count': 'uint8',\n",
    "        'srch_children_count': 'uint8',\n",
    "        'srch_room_count': 'uint8',\n",
    "        'srch_saturday_night_bool': 'uint8',\n",
    "        'srch_query_affinity_score': 'float32',\n",
    "        'orig_destination_distance': 'float32',\n",
    "        'random_bool': 'uint8',\n",
    "        'comp1_rate': 'Int8',\n",
    "        'comp1_inv': 'float32',\n",
    "        'comp1_rate_percent_diff': 'float32',\n",
    "        'comp2_rate': 'Int8',\n",
    "        'comp2_inv': 'float32',\n",
    "        'comp2_rate_percent_diff': 'float32',\n",
    "        'comp3_rate': 'Int8',\n",
    "        'comp3_inv': 'float32',\n",
    "        'comp3_rate_percent_diff': 'float32',\n",
    "        'comp4_rate': 'Int8',\n",
    "        'comp4_inv': 'float32',\n",
    "        'comp4_rate_percent_diff': 'float32',\n",
    "        'comp5_rate': 'Int8',\n",
    "        'comp5_inv': 'float32',\n",
    "        'comp5_rate_percent_diff': 'float32',\n",
    "        'comp6_rate': 'Int8',\n",
    "        'comp6_inv': 'float32',\n",
    "        'comp6_rate_percent_diff': 'float32',\n",
    "        'comp7_rate': 'Int8',\n",
    "        'comp7_inv': 'float32',\n",
    "        'comp7_rate_percent_diff': 'float32',\n",
    "        'comp8_rate': 'Int8',\n",
    "        'comp8_inv': 'float32',\n",
    "        'comp8_rate_percent_diff': 'float32',\n",
    "        'click_bool': 'uint8',\n",
    "        'gross_bookings_usd': 'float32',\n",
    "        'booking_bool': 'uint8'}"
   ]
  },
  {
   "cell_type": "code",
   "execution_count": 6,
   "id": "bad92bb1",
   "metadata": {
    "ExecuteTime": {
     "end_time": "2022-05-28T13:35:55.922685Z",
     "start_time": "2022-05-28T13:35:34.852529Z"
    },
    "scrolled": true
   },
   "outputs": [
    {
     "data": {
      "text/plain": [
       "(4958347, 54)"
      ]
     },
     "execution_count": 6,
     "metadata": {},
     "output_type": "execute_result"
    }
   ],
   "source": [
    "from features_dict import features\n",
    "\n",
    "if USE_FULL:\n",
    "    df = pd.read_csv(os.path.join(data_path, train_filename),\n",
    "                     dtype=dtps,\n",
    "                     )\n",
    "else:\n",
    "#     p = 0.01\n",
    "#     df = pd.read_csv(os.path.join(data_path, train_filename),\n",
    "#                      #                      usecols=features['original_cols'],\n",
    "#                      skiprows=lambda i: i > 0 and random.random() > p)\n",
    "    df = pd.read_csv(os.path.join(data_path, train_filename),\n",
    "                     dtype=dtps,\n",
    "                     )\n",
    "    df = df[df[group_col] < 33428]\n",
    "df.shape"
   ]
  },
  {
   "cell_type": "code",
   "execution_count": 7,
   "id": "63694caf",
   "metadata": {
    "ExecuteTime": {
     "end_time": "2022-05-28T13:35:55.978733Z",
     "start_time": "2022-05-28T13:35:55.924984Z"
    }
   },
   "outputs": [
    {
     "data": {
      "text/html": [
       "<div>\n",
       "<style scoped>\n",
       "    .dataframe tbody tr th:only-of-type {\n",
       "        vertical-align: middle;\n",
       "    }\n",
       "\n",
       "    .dataframe tbody tr th {\n",
       "        vertical-align: top;\n",
       "    }\n",
       "\n",
       "    .dataframe thead th {\n",
       "        text-align: right;\n",
       "    }\n",
       "</style>\n",
       "<table border=\"1\" class=\"dataframe\">\n",
       "  <thead>\n",
       "    <tr style=\"text-align: right;\">\n",
       "      <th></th>\n",
       "      <th>srch_id</th>\n",
       "      <th>date_time</th>\n",
       "      <th>site_id</th>\n",
       "      <th>visitor_location_country_id</th>\n",
       "      <th>visitor_hist_starrating</th>\n",
       "      <th>visitor_hist_adr_usd</th>\n",
       "      <th>prop_country_id</th>\n",
       "      <th>prop_id</th>\n",
       "      <th>prop_starrating</th>\n",
       "      <th>prop_review_score</th>\n",
       "      <th>prop_brand_bool</th>\n",
       "      <th>prop_location_score1</th>\n",
       "      <th>prop_location_score2</th>\n",
       "      <th>prop_log_historical_price</th>\n",
       "      <th>position</th>\n",
       "      <th>price_usd</th>\n",
       "      <th>promotion_flag</th>\n",
       "      <th>srch_destination_id</th>\n",
       "      <th>srch_length_of_stay</th>\n",
       "      <th>srch_booking_window</th>\n",
       "      <th>srch_adults_count</th>\n",
       "      <th>srch_children_count</th>\n",
       "      <th>srch_room_count</th>\n",
       "      <th>srch_saturday_night_bool</th>\n",
       "      <th>srch_query_affinity_score</th>\n",
       "      <th>orig_destination_distance</th>\n",
       "      <th>random_bool</th>\n",
       "      <th>comp1_rate</th>\n",
       "      <th>comp1_inv</th>\n",
       "      <th>comp1_rate_percent_diff</th>\n",
       "      <th>comp2_rate</th>\n",
       "      <th>comp2_inv</th>\n",
       "      <th>comp2_rate_percent_diff</th>\n",
       "      <th>comp3_rate</th>\n",
       "      <th>comp3_inv</th>\n",
       "      <th>comp3_rate_percent_diff</th>\n",
       "      <th>comp4_rate</th>\n",
       "      <th>comp4_inv</th>\n",
       "      <th>comp4_rate_percent_diff</th>\n",
       "      <th>comp5_rate</th>\n",
       "      <th>comp5_inv</th>\n",
       "      <th>comp5_rate_percent_diff</th>\n",
       "      <th>comp6_rate</th>\n",
       "      <th>comp6_inv</th>\n",
       "      <th>comp6_rate_percent_diff</th>\n",
       "      <th>comp7_rate</th>\n",
       "      <th>comp7_inv</th>\n",
       "      <th>comp7_rate_percent_diff</th>\n",
       "      <th>comp8_rate</th>\n",
       "      <th>comp8_inv</th>\n",
       "      <th>comp8_rate_percent_diff</th>\n",
       "      <th>click_bool</th>\n",
       "      <th>gross_bookings_usd</th>\n",
       "      <th>booking_bool</th>\n",
       "    </tr>\n",
       "  </thead>\n",
       "  <tbody>\n",
       "    <tr>\n",
       "      <th>0</th>\n",
       "      <td>1</td>\n",
       "      <td>2013-04-04 08:32:15</td>\n",
       "      <td>12</td>\n",
       "      <td>187</td>\n",
       "      <td>NaN</td>\n",
       "      <td>NaN</td>\n",
       "      <td>219</td>\n",
       "      <td>893</td>\n",
       "      <td>3.0</td>\n",
       "      <td>3.5</td>\n",
       "      <td>1</td>\n",
       "      <td>2.83</td>\n",
       "      <td>0.0438</td>\n",
       "      <td>4.95</td>\n",
       "      <td>27</td>\n",
       "      <td>104.769997</td>\n",
       "      <td>0</td>\n",
       "      <td>23246</td>\n",
       "      <td>1</td>\n",
       "      <td>0</td>\n",
       "      <td>4</td>\n",
       "      <td>0</td>\n",
       "      <td>1</td>\n",
       "      <td>1</td>\n",
       "      <td>NaN</td>\n",
       "      <td>NaN</td>\n",
       "      <td>1</td>\n",
       "      <td>&lt;NA&gt;</td>\n",
       "      <td>NaN</td>\n",
       "      <td>NaN</td>\n",
       "      <td>0</td>\n",
       "      <td>0.0</td>\n",
       "      <td>NaN</td>\n",
       "      <td>0</td>\n",
       "      <td>0.0</td>\n",
       "      <td>NaN</td>\n",
       "      <td>&lt;NA&gt;</td>\n",
       "      <td>NaN</td>\n",
       "      <td>NaN</td>\n",
       "      <td>0</td>\n",
       "      <td>0.0</td>\n",
       "      <td>NaN</td>\n",
       "      <td>&lt;NA&gt;</td>\n",
       "      <td>NaN</td>\n",
       "      <td>NaN</td>\n",
       "      <td>&lt;NA&gt;</td>\n",
       "      <td>NaN</td>\n",
       "      <td>NaN</td>\n",
       "      <td>0</td>\n",
       "      <td>0.0</td>\n",
       "      <td>NaN</td>\n",
       "      <td>0</td>\n",
       "      <td>NaN</td>\n",
       "      <td>0</td>\n",
       "    </tr>\n",
       "    <tr>\n",
       "      <th>1</th>\n",
       "      <td>1</td>\n",
       "      <td>2013-04-04 08:32:15</td>\n",
       "      <td>12</td>\n",
       "      <td>187</td>\n",
       "      <td>NaN</td>\n",
       "      <td>NaN</td>\n",
       "      <td>219</td>\n",
       "      <td>10404</td>\n",
       "      <td>4.0</td>\n",
       "      <td>4.0</td>\n",
       "      <td>1</td>\n",
       "      <td>2.20</td>\n",
       "      <td>0.0149</td>\n",
       "      <td>5.03</td>\n",
       "      <td>26</td>\n",
       "      <td>170.740005</td>\n",
       "      <td>0</td>\n",
       "      <td>23246</td>\n",
       "      <td>1</td>\n",
       "      <td>0</td>\n",
       "      <td>4</td>\n",
       "      <td>0</td>\n",
       "      <td>1</td>\n",
       "      <td>1</td>\n",
       "      <td>NaN</td>\n",
       "      <td>NaN</td>\n",
       "      <td>1</td>\n",
       "      <td>&lt;NA&gt;</td>\n",
       "      <td>NaN</td>\n",
       "      <td>NaN</td>\n",
       "      <td>&lt;NA&gt;</td>\n",
       "      <td>NaN</td>\n",
       "      <td>NaN</td>\n",
       "      <td>0</td>\n",
       "      <td>0.0</td>\n",
       "      <td>NaN</td>\n",
       "      <td>&lt;NA&gt;</td>\n",
       "      <td>NaN</td>\n",
       "      <td>NaN</td>\n",
       "      <td>0</td>\n",
       "      <td>1.0</td>\n",
       "      <td>NaN</td>\n",
       "      <td>&lt;NA&gt;</td>\n",
       "      <td>NaN</td>\n",
       "      <td>NaN</td>\n",
       "      <td>&lt;NA&gt;</td>\n",
       "      <td>NaN</td>\n",
       "      <td>NaN</td>\n",
       "      <td>0</td>\n",
       "      <td>0.0</td>\n",
       "      <td>NaN</td>\n",
       "      <td>0</td>\n",
       "      <td>NaN</td>\n",
       "      <td>0</td>\n",
       "    </tr>\n",
       "  </tbody>\n",
       "</table>\n",
       "</div>"
      ],
      "text/plain": [
       "   srch_id            date_time  site_id  visitor_location_country_id  \\\n",
       "0        1  2013-04-04 08:32:15       12                          187   \n",
       "1        1  2013-04-04 08:32:15       12                          187   \n",
       "\n",
       "   visitor_hist_starrating  visitor_hist_adr_usd  prop_country_id  prop_id  \\\n",
       "0                      NaN                   NaN              219      893   \n",
       "1                      NaN                   NaN              219    10404   \n",
       "\n",
       "   prop_starrating  prop_review_score  prop_brand_bool  prop_location_score1  \\\n",
       "0              3.0                3.5                1                  2.83   \n",
       "1              4.0                4.0                1                  2.20   \n",
       "\n",
       "   prop_location_score2  prop_log_historical_price  position   price_usd  \\\n",
       "0                0.0438                       4.95        27  104.769997   \n",
       "1                0.0149                       5.03        26  170.740005   \n",
       "\n",
       "   promotion_flag  srch_destination_id  srch_length_of_stay  \\\n",
       "0               0                23246                    1   \n",
       "1               0                23246                    1   \n",
       "\n",
       "   srch_booking_window  srch_adults_count  srch_children_count  \\\n",
       "0                    0                  4                    0   \n",
       "1                    0                  4                    0   \n",
       "\n",
       "   srch_room_count  srch_saturday_night_bool  srch_query_affinity_score  \\\n",
       "0                1                         1                        NaN   \n",
       "1                1                         1                        NaN   \n",
       "\n",
       "   orig_destination_distance  random_bool  comp1_rate  comp1_inv  \\\n",
       "0                        NaN            1        <NA>        NaN   \n",
       "1                        NaN            1        <NA>        NaN   \n",
       "\n",
       "   comp1_rate_percent_diff  comp2_rate  comp2_inv  comp2_rate_percent_diff  \\\n",
       "0                      NaN           0        0.0                      NaN   \n",
       "1                      NaN        <NA>        NaN                      NaN   \n",
       "\n",
       "   comp3_rate  comp3_inv  comp3_rate_percent_diff  comp4_rate  comp4_inv  \\\n",
       "0           0        0.0                      NaN        <NA>        NaN   \n",
       "1           0        0.0                      NaN        <NA>        NaN   \n",
       "\n",
       "   comp4_rate_percent_diff  comp5_rate  comp5_inv  comp5_rate_percent_diff  \\\n",
       "0                      NaN           0        0.0                      NaN   \n",
       "1                      NaN           0        1.0                      NaN   \n",
       "\n",
       "   comp6_rate  comp6_inv  comp6_rate_percent_diff  comp7_rate  comp7_inv  \\\n",
       "0        <NA>        NaN                      NaN        <NA>        NaN   \n",
       "1        <NA>        NaN                      NaN        <NA>        NaN   \n",
       "\n",
       "   comp7_rate_percent_diff  comp8_rate  comp8_inv  comp8_rate_percent_diff  \\\n",
       "0                      NaN           0        0.0                      NaN   \n",
       "1                      NaN           0        0.0                      NaN   \n",
       "\n",
       "   click_bool  gross_bookings_usd  booking_bool  \n",
       "0           0                 NaN             0  \n",
       "1           0                 NaN             0  "
      ]
     },
     "execution_count": 7,
     "metadata": {},
     "output_type": "execute_result"
    }
   ],
   "source": [
    "df.head(2)"
   ]
  },
  {
   "cell_type": "code",
   "execution_count": 8,
   "id": "1452047d",
   "metadata": {
    "ExecuteTime": {
     "end_time": "2022-05-28T13:36:14.993052Z",
     "start_time": "2022-05-28T13:35:55.980628Z"
    }
   },
   "outputs": [
    {
     "data": {
      "text/plain": [
       "(4959183, 50)"
      ]
     },
     "execution_count": 8,
     "metadata": {},
     "output_type": "execute_result"
    }
   ],
   "source": [
    "if USE_FULL:\n",
    "    subm_df = pd.read_csv(os.path.join(data_path, test_filename),\n",
    "                          dtype=dtps\n",
    "                          )\n",
    "else:\n",
    "    p = 0.01\n",
    "    subm_df = pd.read_csv(os.path.join(data_path, test_filename),\n",
    "#                           usecols=features['original_cols'],\n",
    "                          skiprows=lambda i: i > 0 and random.random() > p)\n",
    "subm_df.shape"
   ]
  },
  {
   "cell_type": "code",
   "execution_count": 9,
   "id": "717e2a8a",
   "metadata": {
    "ExecuteTime": {
     "end_time": "2022-05-28T13:36:15.745071Z",
     "start_time": "2022-05-28T13:36:14.996994Z"
    }
   },
   "outputs": [],
   "source": [
    "intersection_groups = set(df[group_col]).intersection(set(subm_df[group_col]))"
   ]
  },
  {
   "cell_type": "code",
   "execution_count": 10,
   "id": "0282dac9",
   "metadata": {
    "ExecuteTime": {
     "end_time": "2022-05-28T13:36:16.481426Z",
     "start_time": "2022-05-28T13:36:15.748430Z"
    }
   },
   "outputs": [
    {
     "data": {
      "text/plain": [
       "(119914, 0.600185189819565, 0.6009250860690858)"
      ]
     },
     "execution_count": 10,
     "metadata": {},
     "output_type": "execute_result"
    }
   ],
   "source": [
    "len(intersection_groups), len(intersection_groups)/len(set(df[group_col])), len(intersection_groups)/len(set(subm_df[group_col]))"
   ]
  },
  {
   "cell_type": "markdown",
   "id": "a6c72f98",
   "metadata": {},
   "source": [
    "# Split train, test, val (only add labels, keep the data in one df)"
   ]
  },
  {
   "cell_type": "code",
   "execution_count": 11,
   "id": "43a3e365",
   "metadata": {
    "ExecuteTime": {
     "end_time": "2022-05-28T13:36:16.611840Z",
     "start_time": "2022-05-28T13:36:16.483412Z"
    }
   },
   "outputs": [],
   "source": [
    "df['test'] = False\n",
    "df.loc[(df[group_col] % 100).isin([0,1,2,3,4,5]), 'test'] = True\n",
    "\n",
    "df['val'] = False\n",
    "df.loc[(df[group_col] % 100).isin([6,7,8,9,10]), 'val'] = True\n",
    "\n",
    "df['train'] = False\n",
    "df.loc[(~df['test']) & (~df['val']), 'train'] = True\n",
    "\n",
    "# df['test'] = False\n",
    "# df.loc[df[group_col] % 10 == 5, 'test'] = True\n",
    "\n",
    "# df['val'] = False\n",
    "# df.loc[df[group_col] % 10 == 1, 'val'] = True\n",
    "\n",
    "# df['train'] = False\n",
    "# df.loc[(~df['test']) & (~df['val']), 'train'] = True"
   ]
  },
  {
   "cell_type": "code",
   "execution_count": 12,
   "id": "fc2455c6",
   "metadata": {
    "ExecuteTime": {
     "end_time": "2022-05-28T13:36:17.559451Z",
     "start_time": "2022-05-28T13:36:16.613716Z"
    }
   },
   "outputs": [
    {
     "data": {
      "text/plain": [
       "(0.8893951956166036, 0.05057774294538079, 0.06002706143801553)"
      ]
     },
     "execution_count": 12,
     "metadata": {},
     "output_type": "execute_result"
    }
   ],
   "source": [
    "len_train = len(df[df['train']])\n",
    "len_val = len(df[df['val']])\n",
    "len_test = len(df[df['test']])\n",
    "\n",
    "total_len = len_train + len_val + len_test\n",
    "assert total_len == len(df)\n",
    "len_train/len(df), len_val/len(df), len_test/len(df)"
   ]
  },
  {
   "cell_type": "code",
   "execution_count": 13,
   "id": "9bb97135",
   "metadata": {
    "ExecuteTime": {
     "end_time": "2022-05-28T13:36:22.388445Z",
     "start_time": "2022-05-28T13:36:17.561815Z"
    },
    "scrolled": true
   },
   "outputs": [],
   "source": [
    "df['subm']= False\n",
    "subm_df['subm'] = True\n",
    "df = pd.concat([df, subm_df])\n",
    "\n",
    "df['date_time'] = pd.to_datetime(df['date_time'])\n",
    "\n",
    "df['train'].fillna(False, inplace=True)\n",
    "df['test'].fillna(False, inplace=True)\n",
    "df['val'].fillna(False, inplace=True)"
   ]
  },
  {
   "cell_type": "code",
   "execution_count": 14,
   "id": "933079e9",
   "metadata": {
    "ExecuteTime": {
     "end_time": "2022-05-28T13:36:22.468262Z",
     "start_time": "2022-05-28T13:36:22.391114Z"
    }
   },
   "outputs": [
    {
     "data": {
      "text/plain": [
       "True     4959183\n",
       "False    4958347\n",
       "Name: subm, dtype: int64"
      ]
     },
     "execution_count": 14,
     "metadata": {},
     "output_type": "execute_result"
    }
   ],
   "source": [
    "df['subm'].value_counts()"
   ]
  },
  {
   "cell_type": "code",
   "execution_count": 15,
   "id": "dcf9b70e",
   "metadata": {
    "ExecuteTime": {
     "end_time": "2022-05-28T13:36:24.696390Z",
     "start_time": "2022-05-28T13:36:22.470307Z"
    },
    "scrolled": true
   },
   "outputs": [
    {
     "data": {
      "text/html": [
       "<div>\n",
       "<style scoped>\n",
       "    .dataframe tbody tr th:only-of-type {\n",
       "        vertical-align: middle;\n",
       "    }\n",
       "\n",
       "    .dataframe tbody tr th {\n",
       "        vertical-align: top;\n",
       "    }\n",
       "\n",
       "    .dataframe thead th {\n",
       "        text-align: right;\n",
       "    }\n",
       "</style>\n",
       "<table border=\"1\" class=\"dataframe\">\n",
       "  <thead>\n",
       "    <tr style=\"text-align: right;\">\n",
       "      <th></th>\n",
       "      <th>srch_id</th>\n",
       "      <th>train</th>\n",
       "      <th>val</th>\n",
       "      <th>test</th>\n",
       "      <th>subm</th>\n",
       "    </tr>\n",
       "  </thead>\n",
       "  <tbody>\n",
       "    <tr>\n",
       "      <th>86</th>\n",
       "      <td>11</td>\n",
       "      <td>True</td>\n",
       "      <td>False</td>\n",
       "      <td>False</td>\n",
       "      <td>False</td>\n",
       "    </tr>\n",
       "    <tr>\n",
       "      <th>87</th>\n",
       "      <td>11</td>\n",
       "      <td>True</td>\n",
       "      <td>False</td>\n",
       "      <td>False</td>\n",
       "      <td>False</td>\n",
       "    </tr>\n",
       "    <tr>\n",
       "      <th>88</th>\n",
       "      <td>11</td>\n",
       "      <td>True</td>\n",
       "      <td>False</td>\n",
       "      <td>False</td>\n",
       "      <td>False</td>\n",
       "    </tr>\n",
       "    <tr>\n",
       "      <th>89</th>\n",
       "      <td>11</td>\n",
       "      <td>True</td>\n",
       "      <td>False</td>\n",
       "      <td>False</td>\n",
       "      <td>False</td>\n",
       "    </tr>\n",
       "    <tr>\n",
       "      <th>90</th>\n",
       "      <td>11</td>\n",
       "      <td>True</td>\n",
       "      <td>False</td>\n",
       "      <td>False</td>\n",
       "      <td>False</td>\n",
       "    </tr>\n",
       "    <tr>\n",
       "      <th>...</th>\n",
       "      <td>...</td>\n",
       "      <td>...</td>\n",
       "      <td>...</td>\n",
       "      <td>...</td>\n",
       "      <td>...</td>\n",
       "    </tr>\n",
       "    <tr>\n",
       "      <th>4956444</th>\n",
       "      <td>332611</td>\n",
       "      <td>False</td>\n",
       "      <td>False</td>\n",
       "      <td>False</td>\n",
       "      <td>True</td>\n",
       "    </tr>\n",
       "    <tr>\n",
       "      <th>4956445</th>\n",
       "      <td>332611</td>\n",
       "      <td>False</td>\n",
       "      <td>False</td>\n",
       "      <td>False</td>\n",
       "      <td>True</td>\n",
       "    </tr>\n",
       "    <tr>\n",
       "      <th>4956446</th>\n",
       "      <td>332611</td>\n",
       "      <td>False</td>\n",
       "      <td>False</td>\n",
       "      <td>False</td>\n",
       "      <td>True</td>\n",
       "    </tr>\n",
       "    <tr>\n",
       "      <th>4956447</th>\n",
       "      <td>332611</td>\n",
       "      <td>False</td>\n",
       "      <td>False</td>\n",
       "      <td>False</td>\n",
       "      <td>True</td>\n",
       "    </tr>\n",
       "    <tr>\n",
       "      <th>4956448</th>\n",
       "      <td>332611</td>\n",
       "      <td>False</td>\n",
       "      <td>False</td>\n",
       "      <td>False</td>\n",
       "      <td>True</td>\n",
       "    </tr>\n",
       "  </tbody>\n",
       "</table>\n",
       "<p>100250 rows × 5 columns</p>\n",
       "</div>"
      ],
      "text/plain": [
       "         srch_id  train    val   test   subm\n",
       "86            11   True  False  False  False\n",
       "87            11   True  False  False  False\n",
       "88            11   True  False  False  False\n",
       "89            11   True  False  False  False\n",
       "90            11   True  False  False  False\n",
       "...          ...    ...    ...    ...    ...\n",
       "4956444   332611  False  False  False   True\n",
       "4956445   332611  False  False  False   True\n",
       "4956446   332611  False  False  False   True\n",
       "4956447   332611  False  False  False   True\n",
       "4956448   332611  False  False  False   True\n",
       "\n",
       "[100250 rows x 5 columns]"
      ]
     },
     "execution_count": 15,
     "metadata": {},
     "output_type": "execute_result"
    }
   ],
   "source": [
    "df[(df[group_col] % 100) == 11][[group_col, 'train', 'val', 'test', 'subm']]"
   ]
  },
  {
   "cell_type": "code",
   "execution_count": 16,
   "id": "0c0dc1c0",
   "metadata": {
    "ExecuteTime": {
     "end_time": "2022-05-28T13:36:24.732982Z",
     "start_time": "2022-05-28T13:36:24.698551Z"
    }
   },
   "outputs": [
    {
     "data": {
      "text/plain": [
       "1806.495885848999"
      ]
     },
     "execution_count": 16,
     "metadata": {},
     "output_type": "execute_result"
    }
   ],
   "source": [
    "df.memory_usage().sum() / 1024**2"
   ]
  },
  {
   "cell_type": "code",
   "execution_count": 17,
   "id": "8d4e6717",
   "metadata": {
    "ExecuteTime": {
     "end_time": "2022-05-28T13:36:27.246533Z",
     "start_time": "2022-05-28T13:36:24.735060Z"
    },
    "scrolled": true
   },
   "outputs": [],
   "source": [
    "assert set(df[df['train']].index).intersection(set(df[df['val']].index)) == set()\n",
    "assert set(df[df['train']].index).intersection(set(df[df['test']].index)) == set()\n",
    "assert set(df[df['val']].index).intersection(set(df[df['test']].index)) == set()"
   ]
  },
  {
   "cell_type": "code",
   "execution_count": 18,
   "id": "e6741c2c",
   "metadata": {
    "ExecuteTime": {
     "end_time": "2022-05-28T13:36:27.356320Z",
     "start_time": "2022-05-28T13:36:27.249232Z"
    }
   },
   "outputs": [],
   "source": [
    "assert df[df[['train', 'val', 'test', 'subm']].sum(axis=1) != 1].empty"
   ]
  },
  {
   "cell_type": "markdown",
   "id": "3d88b240",
   "metadata": {},
   "source": [
    "# Missing values"
   ]
  },
  {
   "cell_type": "markdown",
   "id": "818a474f",
   "metadata": {},
   "source": [
    "**srch_query_affinity_score** - The log of the probability a hotel will be clicked on in Internet searches (hence the values are negative). A null signifies there are no data (i.e. hotel did not register in any searches)  \n",
    "NO ACTION REQUIRED - ALREADY HAS NANS"
   ]
  },
  {
   "cell_type": "markdown",
   "id": "18821a20",
   "metadata": {},
   "source": [
    "**prop_log_historical_price** - The log of the probability a hotel will be clicked on in Internet searches (hence the values are negative)  A null signifies there are no data (i.e. hotel did not register in any searches)"
   ]
  },
  {
   "cell_type": "code",
   "execution_count": 19,
   "id": "043a6cb9",
   "metadata": {
    "ExecuteTime": {
     "end_time": "2022-05-28T13:36:27.408683Z",
     "start_time": "2022-05-28T13:36:27.358858Z"
    }
   },
   "outputs": [],
   "source": [
    "# df['was_sold_in_that_period'] = df['prop_log_historical_price'].apply(bool)\n",
    "df['prop_log_historical_price'].replace(0, np.nan, inplace=True)"
   ]
  },
  {
   "cell_type": "code",
   "execution_count": 20,
   "id": "2e04f68e",
   "metadata": {
    "ExecuteTime": {
     "end_time": "2022-05-28T13:36:27.470082Z",
     "start_time": "2022-05-28T13:36:27.411397Z"
    }
   },
   "outputs": [],
   "source": [
    "df['prop_starrating'].replace(0, np.nan, inplace=True)\n",
    "df['visitor_hist_adr_usd'].replace(0, np.nan, inplace=True)"
   ]
  },
  {
   "cell_type": "code",
   "execution_count": 21,
   "id": "47591f61",
   "metadata": {
    "ExecuteTime": {
     "end_time": "2022-05-28T13:36:27.709296Z",
     "start_time": "2022-05-28T13:36:27.472246Z"
    },
    "scrolled": true
   },
   "outputs": [
    {
     "data": {
      "text/plain": [
       "srch_id                        False\n",
       "date_time                      False\n",
       "site_id                        False\n",
       "visitor_location_country_id    False\n",
       "visitor_hist_starrating         True\n",
       "visitor_hist_adr_usd            True\n",
       "prop_country_id                False\n",
       "prop_id                        False\n",
       "prop_starrating                 True\n",
       "prop_review_score               True\n",
       "prop_brand_bool                False\n",
       "prop_location_score1           False\n",
       "prop_location_score2            True\n",
       "prop_log_historical_price       True\n",
       "position                        True\n",
       "price_usd                      False\n",
       "promotion_flag                 False\n",
       "srch_destination_id            False\n",
       "srch_length_of_stay            False\n",
       "srch_booking_window            False\n",
       "srch_adults_count              False\n",
       "srch_children_count            False\n",
       "srch_room_count                False\n",
       "srch_saturday_night_bool       False\n",
       "srch_query_affinity_score       True\n",
       "orig_destination_distance       True\n",
       "random_bool                    False\n",
       "comp1_rate                      True\n",
       "comp1_inv                       True\n",
       "comp1_rate_percent_diff         True\n",
       "comp2_rate                      True\n",
       "comp2_inv                       True\n",
       "comp2_rate_percent_diff         True\n",
       "comp3_rate                      True\n",
       "comp3_inv                       True\n",
       "comp3_rate_percent_diff         True\n",
       "comp4_rate                      True\n",
       "comp4_inv                       True\n",
       "comp4_rate_percent_diff         True\n",
       "comp5_rate                      True\n",
       "comp5_inv                       True\n",
       "comp5_rate_percent_diff         True\n",
       "comp6_rate                      True\n",
       "comp6_inv                       True\n",
       "comp6_rate_percent_diff         True\n",
       "comp7_rate                      True\n",
       "comp7_inv                       True\n",
       "comp7_rate_percent_diff         True\n",
       "comp8_rate                      True\n",
       "comp8_inv                       True\n",
       "comp8_rate_percent_diff         True\n",
       "click_bool                      True\n",
       "gross_bookings_usd              True\n",
       "booking_bool                    True\n",
       "test                           False\n",
       "val                            False\n",
       "train                          False\n",
       "subm                           False\n",
       "dtype: bool"
      ]
     },
     "execution_count": 21,
     "metadata": {},
     "output_type": "execute_result"
    }
   ],
   "source": [
    "df.isna().any(axis=0)"
   ]
  },
  {
   "cell_type": "markdown",
   "id": "c6d4e7a6",
   "metadata": {},
   "source": [
    "# Money fix"
   ]
  },
  {
   "cell_type": "markdown",
   "id": "24c210e8",
   "metadata": {},
   "source": [
    "Some Hotels use price/day, other use price/trip  \n",
    "Try to find what price hotels showed and create features price_per_day and price_per_trip"
   ]
  },
  {
   "cell_type": "markdown",
   "id": "813c0a46",
   "metadata": {},
   "source": [
    "**gross_booking_usd** - Total value of the transaction.  This can differ from the price_usd due to taxes, fees, conventions on multiple day bookings and purchase of a room type other than the one shown in the search\n",
    "ID of the destination where the hotel search was performed"
   ]
  },
  {
   "cell_type": "code",
   "execution_count": 22,
   "id": "ed9769a8",
   "metadata": {
    "ExecuteTime": {
     "end_time": "2022-05-28T13:36:27.777611Z",
     "start_time": "2022-05-28T13:36:27.711619Z"
    }
   },
   "outputs": [],
   "source": [
    "# calculate difference between gross_bookings_usd and price_usd\n",
    "# also calculate difference between gross_bookings_usd and srch_length_of_stay * price_usd\n",
    "\n",
    "df['gross_price_diff'] = df['gross_bookings_usd'] - df['price_usd']\n",
    "df['adj_price_diff'] = df['gross_bookings_usd'] - (df['srch_length_of_stay'] * df['price_usd'])"
   ]
  },
  {
   "cell_type": "code",
   "execution_count": 23,
   "id": "587bee27",
   "metadata": {
    "ExecuteTime": {
     "end_time": "2022-05-28T13:36:27.833106Z",
     "start_time": "2022-05-28T13:36:27.780440Z"
    }
   },
   "outputs": [],
   "source": [
    "# price is given per day if srch_length_of_stay * price_usd is closer to gross_bookings_usd than\n",
    "# price_usd\n",
    "\n",
    "df['price_per_day_given'] = abs(df['adj_price_diff']) < abs(df['gross_price_diff'])"
   ]
  },
  {
   "cell_type": "code",
   "execution_count": 24,
   "id": "7d90eb6c",
   "metadata": {
    "ExecuteTime": {
     "end_time": "2022-05-28T13:36:27.912703Z",
     "start_time": "2022-05-28T13:36:27.839764Z"
    }
   },
   "outputs": [
    {
     "data": {
      "text/plain": [
       "False    9848896\n",
       "True       68634\n",
       "Name: price_per_day_given, dtype: int64"
      ]
     },
     "execution_count": 24,
     "metadata": {},
     "output_type": "execute_result"
    }
   ],
   "source": [
    "df['price_per_day_given'].value_counts()"
   ]
  },
  {
   "cell_type": "code",
   "execution_count": 25,
   "id": "db12a5db",
   "metadata": {
    "ExecuteTime": {
     "end_time": "2022-05-28T13:36:28.239062Z",
     "start_time": "2022-05-28T13:36:27.917749Z"
    }
   },
   "outputs": [],
   "source": [
    "# only prop_id is correlated with price_per_day_given, other columns did not give good results\n",
    "# so we find the prop_id that use price per day\n",
    "\n",
    "prop_id_with_price_per_day = df.groupby(\n",
    "    'prop_id')['price_per_day_given'].mean().apply(lambda x: x > 0.5).index"
   ]
  },
  {
   "cell_type": "code",
   "execution_count": 26,
   "id": "13132400",
   "metadata": {
    "ExecuteTime": {
     "end_time": "2022-05-28T13:36:28.685159Z",
     "start_time": "2022-05-28T13:36:28.241647Z"
    }
   },
   "outputs": [],
   "source": [
    "# adjust price_per_day where price is given for whole trip\n",
    "# and adjust price_per_trip where price is given per day\n",
    "\n",
    "df['price_per_day'] = df['price_usd']\n",
    "df['price_per_trip'] = df['price_usd']\n",
    "\n",
    "df.loc[df['prop_id'].isin(prop_id_with_price_per_day), 'price_per_trip'] = df['price_per_day'] * df['srch_length_of_stay']\n",
    "df.loc[~df['prop_id'].isin(prop_id_with_price_per_day), 'price_per_day'] = df['price_per_day'] / df['srch_length_of_stay']\n"
   ]
  },
  {
   "cell_type": "code",
   "execution_count": 27,
   "id": "015f6440",
   "metadata": {
    "ExecuteTime": {
     "end_time": "2022-05-28T13:36:31.203769Z",
     "start_time": "2022-05-28T13:36:28.687471Z"
    }
   },
   "outputs": [],
   "source": [
    "# drop columns that helped creating price_per_day and price_per_trip but are not useful anymore\n",
    "\n",
    "df.drop(['gross_price_diff', 'adj_price_diff', 'price_per_day_given'], axis=1, inplace=True)"
   ]
  },
  {
   "cell_type": "code",
   "execution_count": 28,
   "id": "eda3b5a6",
   "metadata": {
    "ExecuteTime": {
     "end_time": "2022-05-28T13:36:31.280469Z",
     "start_time": "2022-05-28T13:36:31.206728Z"
    }
   },
   "outputs": [
    {
     "data": {
      "text/plain": [
       "True     4959183\n",
       "False    4958347\n",
       "Name: subm, dtype: int64"
      ]
     },
     "execution_count": 28,
     "metadata": {},
     "output_type": "execute_result"
    }
   ],
   "source": [
    "df['subm'].value_counts()"
   ]
  },
  {
   "cell_type": "markdown",
   "id": "756ab202",
   "metadata": {},
   "source": [
    "# Outliers detection"
   ]
  },
  {
   "cell_type": "markdown",
   "id": "cfba2d52",
   "metadata": {},
   "source": [
    "## Filter price_usd"
   ]
  },
  {
   "cell_type": "code",
   "execution_count": 29,
   "id": "99a78e6d",
   "metadata": {
    "ExecuteTime": {
     "end_time": "2022-05-28T13:36:31.356609Z",
     "start_time": "2022-05-28T13:36:31.282572Z"
    },
    "scrolled": false
   },
   "outputs": [
    {
     "data": {
      "text/plain": [
       "True     4959183\n",
       "False    4958347\n",
       "Name: subm, dtype: int64"
      ]
     },
     "execution_count": 29,
     "metadata": {},
     "output_type": "execute_result"
    }
   ],
   "source": [
    "df['subm'].value_counts()"
   ]
  },
  {
   "cell_type": "code",
   "execution_count": 30,
   "id": "be928fee",
   "metadata": {
    "ExecuteTime": {
     "end_time": "2022-05-28T13:36:31.687489Z",
     "start_time": "2022-05-28T13:36:31.358944Z"
    },
    "scrolled": false
   },
   "outputs": [
    {
     "data": {
      "text/plain": [
       "<AxesSubplot:>"
      ]
     },
     "execution_count": 30,
     "metadata": {},
     "output_type": "execute_result"
    },
    {
     "data": {
      "image/png": "[encoded data removed]",
      "text/plain": [
       "<Figure size 432x288 with 1 Axes>"
      ]
     },
     "metadata": {
      "needs_background": "light"
     },
     "output_type": "display_data"
    }
   ],
   "source": [
    "df['price_usd'].hist()"
   ]
  },
  {
   "cell_type": "code",
   "execution_count": 31,
   "id": "2c4a836f",
   "metadata": {
    "ExecuteTime": {
     "end_time": "2022-05-28T13:36:31.793999Z",
     "start_time": "2022-05-28T13:36:31.689472Z"
    }
   },
   "outputs": [
    {
     "name": "stdout",
     "output_type": "stream",
     "text": [
      "ratio of 15000+ prices 0.0003066\n"
     ]
    }
   ],
   "source": [
    "if CLIP_PRICE:\n",
    "    print(f'ratio of {CLIP_PRICE}+ prices', round(len(df[df['price_usd'] > CLIP_PRICE])/len(df), 7))\n",
    "    df['price_usd'] = df['price_usd'].clip(0, CLIP_PRICE)"
   ]
  },
  {
   "cell_type": "code",
   "execution_count": 32,
   "id": "eb8ce047",
   "metadata": {
    "ExecuteTime": {
     "end_time": "2022-05-28T13:36:31.869602Z",
     "start_time": "2022-05-28T13:36:31.796510Z"
    }
   },
   "outputs": [
    {
     "data": {
      "text/plain": [
       "True     4959183\n",
       "False    4958347\n",
       "Name: subm, dtype: int64"
      ]
     },
     "execution_count": 32,
     "metadata": {},
     "output_type": "execute_result"
    }
   ],
   "source": [
    "df['subm'].value_counts()"
   ]
  },
  {
   "cell_type": "code",
   "execution_count": 33,
   "id": "853e67e9",
   "metadata": {
    "ExecuteTime": {
     "end_time": "2022-05-28T13:36:32.153482Z",
     "start_time": "2022-05-28T13:36:31.872048Z"
    }
   },
   "outputs": [
    {
     "data": {
      "text/plain": [
       "<AxesSubplot:>"
      ]
     },
     "execution_count": 33,
     "metadata": {},
     "output_type": "execute_result"
    },
    {
     "data": {
      "image/png": "[encoded data removed]",
      "text/plain": [
       "<Figure size 432x288 with 1 Axes>"
      ]
     },
     "metadata": {
      "needs_background": "light"
     },
     "output_type": "display_data"
    }
   ],
   "source": [
    "df['price_usd'].hist()"
   ]
  },
  {
   "cell_type": "code",
   "execution_count": 34,
   "id": "8e08e26c",
   "metadata": {
    "ExecuteTime": {
     "end_time": "2022-05-28T13:36:35.959209Z",
     "start_time": "2022-05-28T13:36:32.155610Z"
    },
    "scrolled": true
   },
   "outputs": [
    {
     "name": "stdout",
     "output_type": "stream",
     "text": [
      "num and ratio of outlier props: 38608 (0.2820449)\n"
     ]
    },
    {
     "data": {
      "text/html": [
       "<div>\n",
       "<style scoped>\n",
       "    .dataframe tbody tr th:only-of-type {\n",
       "        vertical-align: middle;\n",
       "    }\n",
       "\n",
       "    .dataframe tbody tr th {\n",
       "        vertical-align: top;\n",
       "    }\n",
       "\n",
       "    .dataframe thead th {\n",
       "        text-align: right;\n",
       "    }\n",
       "</style>\n",
       "<table border=\"1\" class=\"dataframe\">\n",
       "  <thead>\n",
       "    <tr style=\"text-align: right;\">\n",
       "      <th></th>\n",
       "      <th>prop_id</th>\n",
       "      <th>date_time</th>\n",
       "      <th>price_usd</th>\n",
       "      <th>sigma</th>\n",
       "    </tr>\n",
       "  </thead>\n",
       "  <tbody>\n",
       "    <tr>\n",
       "      <th>962236</th>\n",
       "      <td>100060</td>\n",
       "      <td>2012-11-01 15:18:52</td>\n",
       "      <td>125.0</td>\n",
       "      <td>1.355744</td>\n",
       "    </tr>\n",
       "    <tr>\n",
       "      <th>3828379</th>\n",
       "      <td>100060</td>\n",
       "      <td>2012-11-03 11:59:52</td>\n",
       "      <td>99.0</td>\n",
       "      <td>0.006083</td>\n",
       "    </tr>\n",
       "    <tr>\n",
       "      <th>1340007</th>\n",
       "      <td>100060</td>\n",
       "      <td>2012-11-20 20:55:08</td>\n",
       "      <td>112.0</td>\n",
       "      <td>0.680914</td>\n",
       "    </tr>\n",
       "    <tr>\n",
       "      <th>3796140</th>\n",
       "      <td>100060</td>\n",
       "      <td>2012-11-28 15:29:06</td>\n",
       "      <td>99.0</td>\n",
       "      <td>0.006083</td>\n",
       "    </tr>\n",
       "    <tr>\n",
       "      <th>4056611</th>\n",
       "      <td>100060</td>\n",
       "      <td>2012-11-30 08:11:23</td>\n",
       "      <td>110.0</td>\n",
       "      <td>0.577093</td>\n",
       "    </tr>\n",
       "    <tr>\n",
       "      <th>...</th>\n",
       "      <td>...</td>\n",
       "      <td>...</td>\n",
       "      <td>...</td>\n",
       "      <td>...</td>\n",
       "    </tr>\n",
       "    <tr>\n",
       "      <th>672511</th>\n",
       "      <td>100060</td>\n",
       "      <td>2013-06-25 02:47:43</td>\n",
       "      <td>95.0</td>\n",
       "      <td>0.201557</td>\n",
       "    </tr>\n",
       "    <tr>\n",
       "      <th>1361649</th>\n",
       "      <td>100060</td>\n",
       "      <td>2013-06-26 05:24:24</td>\n",
       "      <td>80.0</td>\n",
       "      <td>0.980207</td>\n",
       "    </tr>\n",
       "    <tr>\n",
       "      <th>4387472</th>\n",
       "      <td>100060</td>\n",
       "      <td>2013-06-26 17:25:57</td>\n",
       "      <td>75.0</td>\n",
       "      <td>1.239757</td>\n",
       "    </tr>\n",
       "    <tr>\n",
       "      <th>2663734</th>\n",
       "      <td>100060</td>\n",
       "      <td>2013-06-27 16:55:45</td>\n",
       "      <td>100.0</td>\n",
       "      <td>0.057993</td>\n",
       "    </tr>\n",
       "    <tr>\n",
       "      <th>1997049</th>\n",
       "      <td>100060</td>\n",
       "      <td>2013-06-28 10:24:14</td>\n",
       "      <td>100.0</td>\n",
       "      <td>0.057993</td>\n",
       "    </tr>\n",
       "  </tbody>\n",
       "</table>\n",
       "<p>160 rows × 4 columns</p>\n",
       "</div>"
      ],
      "text/plain": [
       "         prop_id           date_time  price_usd     sigma\n",
       "962236    100060 2012-11-01 15:18:52      125.0  1.355744\n",
       "3828379   100060 2012-11-03 11:59:52       99.0  0.006083\n",
       "1340007   100060 2012-11-20 20:55:08      112.0  0.680914\n",
       "3796140   100060 2012-11-28 15:29:06       99.0  0.006083\n",
       "4056611   100060 2012-11-30 08:11:23      110.0  0.577093\n",
       "...          ...                 ...        ...       ...\n",
       "672511    100060 2013-06-25 02:47:43       95.0  0.201557\n",
       "1361649   100060 2013-06-26 05:24:24       80.0  0.980207\n",
       "4387472   100060 2013-06-26 17:25:57       75.0  1.239757\n",
       "2663734   100060 2013-06-27 16:55:45      100.0  0.057993\n",
       "1997049   100060 2013-06-28 10:24:14      100.0  0.057993\n",
       "\n",
       "[160 rows x 4 columns]"
      ]
     },
     "metadata": {},
     "output_type": "display_data"
    }
   ],
   "source": [
    "if FILTER_PRICE_SIGMA:\n",
    "    # DANGEROUS to calculate statistics based on everything\n",
    "    # filter outlieing prices per prop_id\n",
    "    # still some outlier_prop_ids left\n",
    "    mean = df.groupby(['prop_id'])['price_usd'].transform('mean')    \n",
    "    std = df.groupby(['prop_id'])['price_usd'].transform('std')\n",
    "    \n",
    "#     subm_df = deepcopy(df[df['subm'] == True])\n",
    "#     df = deepcopy(df[df['subm'] == False])\n",
    "    \n",
    "    # find rows and prop_id with outlieing prices compared to other prices per prop_id\n",
    "    df['sigma'] = abs((df['price_usd'] - mean) / std)\n",
    "    outlier_prop_ids = df[df['sigma'] > FILTER_PRICE_SIGMA]['prop_id']\n",
    "    print(f\"num and ratio of outlier props: {len(outlier_prop_ids)} ({round(len(outlier_prop_ids)/df['prop_id'].nunique(), 7)})\")\n",
    "    correct_entries = df[abs((df['price_usd'] - mean) / std) <= 2]['prop_id']\n",
    "    \n",
    "    # show the prices for the first property with an outlier\n",
    "    display(df[df['prop_id'].isin(outlier_prop_ids.sample(1))][['prop_id', 'date_time', 'price_usd', 'sigma']].sort_values('date_time'))\n",
    "    df.drop('sigma', axis=1, inplace=True)"
   ]
  },
  {
   "cell_type": "code",
   "execution_count": 35,
   "id": "e0466f4f",
   "metadata": {
    "ExecuteTime": {
     "end_time": "2022-05-28T13:36:36.033728Z",
     "start_time": "2022-05-28T13:36:35.961853Z"
    }
   },
   "outputs": [
    {
     "data": {
      "text/plain": [
       "True     4959183\n",
       "False    4958347\n",
       "Name: subm, dtype: int64"
      ]
     },
     "execution_count": 35,
     "metadata": {},
     "output_type": "execute_result"
    }
   ],
   "source": [
    "df['subm'].value_counts()"
   ]
  },
  {
   "cell_type": "markdown",
   "id": "8800f6aa",
   "metadata": {},
   "source": [
    "if group is not in subm, if there is an outlier in a group, and the group is random, drop it"
   ]
  },
  {
   "cell_type": "code",
   "execution_count": 36,
   "id": "f3ca3a60",
   "metadata": {
    "ExecuteTime": {
     "end_time": "2022-05-28T13:36:39.787904Z",
     "start_time": "2022-05-28T13:36:36.035909Z"
    },
    "scrolled": true
   },
   "outputs": [
    {
     "name": "stdout",
     "output_type": "stream",
     "text": [
      "ratio of affected groups 0.19834305550585118\n",
      "ratio of affected non submission groups 0.2773993343176756\n",
      "ratio of affected train groups 0.31177678395634684\n",
      "ratio of affected non submission random groups 0.9122977399548978\n",
      "ratio of affected submission groups 0.27774130664648783\n"
     ]
    }
   ],
   "source": [
    "if FILTER_PRICE_SIGMA:\n",
    "    affected_train_groups = df[(df['subm'] == False) & (df['prop_id'].isin(outlier_prop_ids)) & (df['random_bool'] == True)][group_col]\n",
    "    print('ratio of affected groups', len(set(affected_train_groups)) / df[group_col].nunique())\n",
    "    print('ratio of affected non submission groups', len(set(affected_train_groups)) / df[df['subm'] == False][group_col].nunique())    \n",
    "    print('ratio of affected train groups', len(set(affected_train_groups)) / df[df['train'] == True][group_col].nunique())    \n",
    "    print('ratio of affected non submission random groups', len(set(affected_train_groups)) / df[(df['subm'] == False) & (df['random_bool'] == True)][group_col].nunique())    \n",
    "    print('ratio of affected submission groups', len(set(affected_train_groups)) / df[(df['subm'] == True)][group_col].nunique())    \n",
    "    "
   ]
  },
  {
   "cell_type": "code",
   "execution_count": 37,
   "id": "679d821f",
   "metadata": {
    "ExecuteTime": {
     "end_time": "2022-05-28T13:36:39.820785Z",
     "start_time": "2022-05-28T13:36:39.790070Z"
    }
   },
   "outputs": [
    {
     "data": {
      "text/plain": [
       "(9917530, 60)"
      ]
     },
     "execution_count": 37,
     "metadata": {},
     "output_type": "execute_result"
    }
   ],
   "source": [
    "df.shape"
   ]
  },
  {
   "cell_type": "code",
   "execution_count": 38,
   "id": "b9f2fadb",
   "metadata": {
    "ExecuteTime": {
     "end_time": "2022-05-28T13:36:39.898162Z",
     "start_time": "2022-05-28T13:36:39.822900Z"
    }
   },
   "outputs": [
    {
     "data": {
      "text/plain": [
       "0    6977878\n",
       "1    2939652\n",
       "Name: random_bool, dtype: int64"
      ]
     },
     "execution_count": 38,
     "metadata": {},
     "output_type": "execute_result"
    }
   ],
   "source": [
    "df['random_bool'].value_counts()"
   ]
  },
  {
   "cell_type": "code",
   "execution_count": 39,
   "id": "3be61f29",
   "metadata": {
    "ExecuteTime": {
     "end_time": "2022-05-28T13:36:39.967561Z",
     "start_time": "2022-05-28T13:36:39.900389Z"
    },
    "scrolled": true
   },
   "outputs": [
    {
     "data": {
      "text/plain": [
       "{262144,\n",
       " 1,\n",
       " 131073,\n",
       " 4,\n",
       " 262149,\n",
       " 131079,\n",
       " 262151,\n",
       " 11,\n",
       " 12,\n",
       " 131083,\n",
       " 131084,\n",
       " 131086,\n",
       " 17,\n",
       " 262167,\n",
       " 131100,\n",
       " 262173,\n",
       " 131102,\n",
       " 31,\n",
       " 40,\n",
       " 131113,\n",
       " 131114,\n",
       " 43,\n",
       " 262186,\n",
       " 131117,\n",
       " 262191,\n",
       " 262192,\n",
       " 262195,\n",
       " 262196,\n",
       " 131127,\n",
       " 56,\n",
       " 131128,\n",
       " 262199,\n",
       " 262201,\n",
       " 61,\n",
       " 131133,\n",
       " 63,\n",
       " 262212,\n",
       " 71,\n",
       " 262215,\n",
       " 75,\n",
       " 131148,\n",
       " 81,\n",
       " 131153,\n",
       " 83,\n",
       " 262229,\n",
       " 90,\n",
       " 96,\n",
       " 131171,\n",
       " 262243,\n",
       " 101,\n",
       " 103,\n",
       " 131178,\n",
       " 107,\n",
       " 108,\n",
       " 110,\n",
       " 131187,\n",
       " 117,\n",
       " 119,\n",
       " 131192,\n",
       " 131197,\n",
       " 126,\n",
       " 127,\n",
       " 131198,\n",
       " 131200,\n",
       " 131201,\n",
       " 131203,\n",
       " 262272,\n",
       " 133,\n",
       " 134,\n",
       " 131207,\n",
       " 136,\n",
       " 262277,\n",
       " 138,\n",
       " 139,\n",
       " 140,\n",
       " 131212,\n",
       " 131214,\n",
       " 262280,\n",
       " 145,\n",
       " 262289,\n",
       " 147,\n",
       " 148,\n",
       " 131220,\n",
       " 262291,\n",
       " 262295,\n",
       " 152,\n",
       " 131224,\n",
       " 131227,\n",
       " 157,\n",
       " 158,\n",
       " 262301,\n",
       " 160,\n",
       " 161,\n",
       " 131232,\n",
       " 262306,\n",
       " 131241,\n",
       " 262314,\n",
       " 131247,\n",
       " 176,\n",
       " 177,\n",
       " 178,\n",
       " 179,\n",
       " 180,\n",
       " 131251,\n",
       " 131253,\n",
       " 131256,\n",
       " 187,\n",
       " 262332,\n",
       " 131261,\n",
       " 191,\n",
       " 131263,\n",
       " 195,\n",
       " 262340,\n",
       " 131269,\n",
       " 207,\n",
       " 262352,\n",
       " 262355,\n",
       " 131284,\n",
       " 213,\n",
       " 131286,\n",
       " 262360,\n",
       " 218,\n",
       " 220,\n",
       " 221,\n",
       " 131294,\n",
       " 262366,\n",
       " 131297,\n",
       " 131300,\n",
       " 131303,\n",
       " 262377,\n",
       " 236,\n",
       " 262380,\n",
       " 240,\n",
       " 262388,\n",
       " 131318,\n",
       " 262396,\n",
       " 262399,\n",
       " 262402,\n",
       " 262404,\n",
       " 262406,\n",
       " 262407,\n",
       " 131337,\n",
       " 268,\n",
       " 131341,\n",
       " 131344,\n",
       " 131346,\n",
       " 262418,\n",
       " 131349,\n",
       " 131350,\n",
       " 131351,\n",
       " 262423,\n",
       " 131354,\n",
       " 131357,\n",
       " 290,\n",
       " 292,\n",
       " 293,\n",
       " 300,\n",
       " 131374,\n",
       " 131375,\n",
       " 131381,\n",
       " 262453,\n",
       " 131383,\n",
       " 262454,\n",
       " 313,\n",
       " 262458,\n",
       " 317,\n",
       " 131391,\n",
       " 262463,\n",
       " 321,\n",
       " 262467,\n",
       " 131396,\n",
       " 325,\n",
       " 131398,\n",
       " 262468,\n",
       " 328,\n",
       " 331,\n",
       " 335,\n",
       " 131407,\n",
       " 262480,\n",
       " 338,\n",
       " 131410,\n",
       " 131414,\n",
       " 262490,\n",
       " 262494,\n",
       " 131424,\n",
       " 131429,\n",
       " 131430,\n",
       " 359,\n",
       " 360,\n",
       " 361,\n",
       " 131434,\n",
       " 131435,\n",
       " 262504,\n",
       " 262505,\n",
       " 262510,\n",
       " 131440,\n",
       " 262512,\n",
       " 262513,\n",
       " 131443,\n",
       " 131445,\n",
       " 262517,\n",
       " 377,\n",
       " 262521,\n",
       " 382,\n",
       " 262527,\n",
       " 262529,\n",
       " 262530,\n",
       " 390,\n",
       " 131462,\n",
       " 392,\n",
       " 131463,\n",
       " 131466,\n",
       " 396,\n",
       " 262541,\n",
       " 399,\n",
       " 406,\n",
       " 131478,\n",
       " 412,\n",
       " 416,\n",
       " 262562,\n",
       " 419,\n",
       " 131493,\n",
       " 262566,\n",
       " 262567,\n",
       " 262568,\n",
       " 425,\n",
       " 427,\n",
       " 131499,\n",
       " 429,\n",
       " 131500,\n",
       " 131503,\n",
       " 131504,\n",
       " 131506,\n",
       " 262580,\n",
       " 442,\n",
       " 262588,\n",
       " 262590,\n",
       " 131519,\n",
       " 453,\n",
       " 262597,\n",
       " 262598,\n",
       " 131530,\n",
       " 262606,\n",
       " 131535,\n",
       " 466,\n",
       " 131539,\n",
       " 131540,\n",
       " 262614,\n",
       " 131547,\n",
       " 131548,\n",
       " 262623,\n",
       " 483,\n",
       " 484,\n",
       " 131556,\n",
       " 131557,\n",
       " 262628,\n",
       " 131561,\n",
       " 490,\n",
       " 131566,\n",
       " 262639,\n",
       " 500,\n",
       " 131574,\n",
       " 262653,\n",
       " 511,\n",
       " 131584,\n",
       " 513,\n",
       " 131586,\n",
       " 131587,\n",
       " 131588,\n",
       " 517,\n",
       " 131589,\n",
       " 262662,\n",
       " 131595,\n",
       " 131596,\n",
       " 262671,\n",
       " 262672,\n",
       " 262679,\n",
       " 131608,\n",
       " 262680,\n",
       " 262681,\n",
       " 131613,\n",
       " 262687,\n",
       " 131616,\n",
       " 262689,\n",
       " 131618,\n",
       " 549,\n",
       " 262694,\n",
       " 551,\n",
       " 262699,\n",
       " 131628,\n",
       " 262705,\n",
       " 562,\n",
       " 131635,\n",
       " 262713,\n",
       " 571,\n",
       " 574,\n",
       " 578,\n",
       " 580,\n",
       " 131657,\n",
       " 131659,\n",
       " 131660,\n",
       " 590,\n",
       " 262746,\n",
       " 131675,\n",
       " 605,\n",
       " 262753,\n",
       " 262754,\n",
       " 131684,\n",
       " 616,\n",
       " 131688,\n",
       " 262762,\n",
       " 620,\n",
       " 624,\n",
       " 262768,\n",
       " 262770,\n",
       " 131700,\n",
       " 631,\n",
       " 634,\n",
       " 262782,\n",
       " 131712,\n",
       " 131713,\n",
       " 262784,\n",
       " 643,\n",
       " 644,\n",
       " 646,\n",
       " 650,\n",
       " 262795,\n",
       " 131730,\n",
       " 262805,\n",
       " 663,\n",
       " 131739,\n",
       " 262813,\n",
       " 131742,\n",
       " 672,\n",
       " 675,\n",
       " 131750,\n",
       " 131752,\n",
       " 688,\n",
       " 262834,\n",
       " 131763,\n",
       " 693,\n",
       " 131767,\n",
       " 262840,\n",
       " 699,\n",
       " 700,\n",
       " 131773,\n",
       " 131775,\n",
       " 262848,\n",
       " 708,\n",
       " 709,\n",
       " 131786,\n",
       " 131788,\n",
       " 262864,\n",
       " 131793,\n",
       " 262866,\n",
       " 131795,\n",
       " 262869,\n",
       " 131799,\n",
       " 730,\n",
       " 262876,\n",
       " 733,\n",
       " 131813,\n",
       " 742,\n",
       " 743,\n",
       " 262886,\n",
       " 262887,\n",
       " 262891,\n",
       " 131826,\n",
       " 131829,\n",
       " 131831,\n",
       " 131833,\n",
       " 765,\n",
       " 767,\n",
       " 131841,\n",
       " 131844,\n",
       " 131850,\n",
       " 781,\n",
       " 782,\n",
       " 131853,\n",
       " 131856,\n",
       " 131858,\n",
       " 131863,\n",
       " 131866,\n",
       " 262938,\n",
       " 131870,\n",
       " 131871,\n",
       " 262942,\n",
       " 803,\n",
       " 262947,\n",
       " 262948,\n",
       " 262951,\n",
       " 808,\n",
       " 262952,\n",
       " 262953,\n",
       " 811,\n",
       " 131889,\n",
       " 131890,\n",
       " 821,\n",
       " 262966,\n",
       " 131897,\n",
       " 826,\n",
       " 262973,\n",
       " 832,\n",
       " 835,\n",
       " 262980,\n",
       " 837,\n",
       " 131909,\n",
       " 131911,\n",
       " 840,\n",
       " 262982,\n",
       " 262984,\n",
       " 844,\n",
       " 262989,\n",
       " 262991,\n",
       " 848,\n",
       " 131920,\n",
       " 131923,\n",
       " 853,\n",
       " 131925,\n",
       " 263000,\n",
       " 857,\n",
       " 131929,\n",
       " 862,\n",
       " 863,\n",
       " 131938,\n",
       " 867,\n",
       " 131939,\n",
       " 263017,\n",
       " 874,\n",
       " 875,\n",
       " 263020,\n",
       " 879,\n",
       " 131953,\n",
       " 888,\n",
       " 263033,\n",
       " 891,\n",
       " 131964,\n",
       " 263038,\n",
       " 131967,\n",
       " 263039,\n",
       " 263041,\n",
       " 263046,\n",
       " 131975,\n",
       " 905,\n",
       " 131977,\n",
       " 907,\n",
       " 263049,\n",
       " 131981,\n",
       " 263051,\n",
       " 263055,\n",
       " 913,\n",
       " 131989,\n",
       " 921,\n",
       " 922,\n",
       " 263065,\n",
       " 263067,\n",
       " 926,\n",
       " 927,\n",
       " 132000,\n",
       " 132001,\n",
       " 263070,\n",
       " 263073,\n",
       " 932,\n",
       " 132008,\n",
       " 938,\n",
       " 941,\n",
       " 942,\n",
       " 263087,\n",
       " 263088,\n",
       " 947,\n",
       " 950,\n",
       " 263095,\n",
       " 956,\n",
       " 263102,\n",
       " 961,\n",
       " 132033,\n",
       " 263109,\n",
       " 132039,\n",
       " 263114,\n",
       " 132043,\n",
       " 972,\n",
       " 263117,\n",
       " 132048,\n",
       " 132049,\n",
       " 978,\n",
       " 979,\n",
       " 981,\n",
       " 982,\n",
       " 983,\n",
       " 132055,\n",
       " 263130,\n",
       " 989,\n",
       " 132062,\n",
       " 132064,\n",
       " 132071,\n",
       " 132072,\n",
       " 132075,\n",
       " 1004,\n",
       " 132076,\n",
       " 132081,\n",
       " 132083,\n",
       " 263155,\n",
       " 1014,\n",
       " 132088,\n",
       " 1017,\n",
       " 132090,\n",
       " 132091,\n",
       " 263161,\n",
       " 263163,\n",
       " 132096,\n",
       " 263172,\n",
       " 132101,\n",
       " 132103,\n",
       " 263180,\n",
       " 132110,\n",
       " 132111,\n",
       " 1043,\n",
       " 1046,\n",
       " 132119,\n",
       " 1048,\n",
       " 132121,\n",
       " 132123,\n",
       " 1052,\n",
       " 132132,\n",
       " 1061,\n",
       " 132135,\n",
       " 1064,\n",
       " 263210,\n",
       " 1067,\n",
       " 1068,\n",
       " 1069,\n",
       " 263214,\n",
       " 263215,\n",
       " 263219,\n",
       " 263224,\n",
       " 132154,\n",
       " 263227,\n",
       " 132156,\n",
       " 132157,\n",
       " 263231,\n",
       " 263235,\n",
       " 1092,\n",
       " 1094,\n",
       " 1096,\n",
       " 263240,\n",
       " 132170,\n",
       " 1099,\n",
       " 263244,\n",
       " 1101,\n",
       " 1102,\n",
       " 132174,\n",
       " 263245,\n",
       " 1105,\n",
       " 263247,\n",
       " 263254,\n",
       " 1112,\n",
       " 1117,\n",
       " 263262,\n",
       " 1119,\n",
       " 132192,\n",
       " 263268,\n",
       " 1125,\n",
       " 132200,\n",
       " 263273,\n",
       " 1131,\n",
       " 132204,\n",
       " 263275,\n",
       " 1142,\n",
       " 1143,\n",
       " 263291,\n",
       " 132220,\n",
       " 132224,\n",
       " 132225,\n",
       " 263297,\n",
       " 1156,\n",
       " 1157,\n",
       " 132230,\n",
       " 1160,\n",
       " 263306,\n",
       " 132239,\n",
       " 263312,\n",
       " 1169,\n",
       " 1171,\n",
       " 263315,\n",
       " 132246,\n",
       " 263318,\n",
       " 132248,\n",
       " 263320,\n",
       " 132250,\n",
       " 132255,\n",
       " 263330,\n",
       " 263332,\n",
       " 263333,\n",
       " 132265,\n",
       " 263337,\n",
       " 263340,\n",
       " 132270,\n",
       " 132273,\n",
       " 263346,\n",
       " 263350,\n",
       " 1207,\n",
       " 263356,\n",
       " 132286,\n",
       " 1215,\n",
       " 263361,\n",
       " 132290,\n",
       " 263366,\n",
       " 1224,\n",
       " 132297,\n",
       " 132299,\n",
       " 1231,\n",
       " 1232,\n",
       " 1235,\n",
       " 1236,\n",
       " 132308,\n",
       " 1241,\n",
       " 263385,\n",
       " 263386,\n",
       " 132318,\n",
       " 1248,\n",
       " 1249,\n",
       " 263393,\n",
       " 263395,\n",
       " 263396,\n",
       " 1258,\n",
       " 132330,\n",
       " 1261,\n",
       " 132333,\n",
       " 263406,\n",
       " 132336,\n",
       " 132338,\n",
       " 263416,\n",
       " 1274,\n",
       " 1275,\n",
       " 132352,\n",
       " 1282,\n",
       " 132354,\n",
       " 263428,\n",
       " 1285,\n",
       " 263431,\n",
       " 263434,\n",
       " 263436,\n",
       " 132367,\n",
       " 132368,\n",
       " 1297,\n",
       " 263444,\n",
       " 1301,\n",
       " 263448,\n",
       " 1306,\n",
       " 132378,\n",
       " 132384,\n",
       " 1316,\n",
       " 263461,\n",
       " 263463,\n",
       " 132392,\n",
       " 132394,\n",
       " 1323,\n",
       " 263466,\n",
       " 1326,\n",
       " 132398,\n",
       " 1328,\n",
       " 1329,\n",
       " 132400,\n",
       " 132401,\n",
       " 1337,\n",
       " 1338,\n",
       " 132412,\n",
       " 132415,\n",
       " 1345,\n",
       " 132420,\n",
       " 263493,\n",
       " 1354,\n",
       " 1356,\n",
       " 132431,\n",
       " 263508,\n",
       " 263510,\n",
       " 1369,\n",
       " 132443,\n",
       " 263515,\n",
       " 1374,\n",
       " 1375,\n",
       " 132446,\n",
       " 263518,\n",
       " 1382,\n",
       " 263528,\n",
       " 132459,\n",
       " 1390,\n",
       " 132462,\n",
       " 132463,\n",
       " 263534,\n",
       " 263535,\n",
       " 263540,\n",
       " 1397,\n",
       " 132471,\n",
       " 132472,\n",
       " 132477,\n",
       " 132478,\n",
       " 263550,\n",
       " 263551,\n",
       " 263552,\n",
       " 132482,\n",
       " 132484,\n",
       " 132485,\n",
       " 1414,\n",
       " 263557,\n",
       " 263559,\n",
       " 263563,\n",
       " 1423,\n",
       " 1428,\n",
       " 1432,\n",
       " 132505,\n",
       " 263579,\n",
       " 263586,\n",
       " 132515,\n",
       " 132516,\n",
       " 132517,\n",
       " 263587,\n",
       " 1449,\n",
       " 1450,\n",
       " 1451,\n",
       " 132521,\n",
       " 132524,\n",
       " 263593,\n",
       " 263598,\n",
       " 1463,\n",
       " 263613,\n",
       " 263614,\n",
       " 1473,\n",
       " 1475,\n",
       " 132550,\n",
       " 1480,\n",
       " 132553,\n",
       " 132556,\n",
       " 1487,\n",
       " 132559,\n",
       " 1489,\n",
       " 132562,\n",
       " 263631,\n",
       " 132564,\n",
       " 132565,\n",
       " 263635,\n",
       " 1497,\n",
       " 132569,\n",
       " 132570,\n",
       " 1500,\n",
       " 263647,\n",
       " 132576,\n",
       " 1505,\n",
       " 132577,\n",
       " 1507,\n",
       " 1508,\n",
       " 132578,\n",
       " 132581,\n",
       " 1511,\n",
       " 263653,\n",
       " 1519,\n",
       " 132593,\n",
       " 263666,\n",
       " 132597,\n",
       " 1527,\n",
       " 1529,\n",
       " 1530,\n",
       " 1531,\n",
       " 1533,\n",
       " 132605,\n",
       " 132606,\n",
       " 263677,\n",
       " 1537,\n",
       " 132609,\n",
       " 263681,\n",
       " 1544,\n",
       " 263688,\n",
       " 1551,\n",
       " 1555,\n",
       " 263703,\n",
       " 263704,\n",
       " 263706,\n",
       " 1563,\n",
       " 263707,\n",
       " 1565,\n",
       " 132637,\n",
       " 263712,\n",
       " 1569,\n",
       " 132644,\n",
       " 132646,\n",
       " 263719,\n",
       " 132649,\n",
       " 1580,\n",
       " 1581,\n",
       " 132657,\n",
       " 263729,\n",
       " 1590,\n",
       " 1591,\n",
       " 132663,\n",
       " 132669,\n",
       " 263741,\n",
       " 263742,\n",
       " 1606,\n",
       " 132682,\n",
       " 263757,\n",
       " 1614,\n",
       " 132687,\n",
       " 263765,\n",
       " 263767,\n",
       " 132698,\n",
       " 1628,\n",
       " 1629,\n",
       " 132701,\n",
       " 1631,\n",
       " 263776,\n",
       " 1633,\n",
       " 132709,\n",
       " 263788,\n",
       " 132718,\n",
       " 1647,\n",
       " 1648,\n",
       " 263791,\n",
       " 1651,\n",
       " 263797,\n",
       " 1656,\n",
       " 263800,\n",
       " 1664,\n",
       " 263808,\n",
       " 1670,\n",
       " 1674,\n",
       " 263819,\n",
       " 263820,\n",
       " 1678,\n",
       " 263822,\n",
       " 1684,\n",
       " 132757,\n",
       " 132758,\n",
       " 263831,\n",
       " 132760,\n",
       " 1689,\n",
       " 263840,\n",
       " 1698,\n",
       " 1699,\n",
       " 263846,\n",
       " 1706,\n",
       " 263851,\n",
       " 1709,\n",
       " 1710,\n",
       " 132781,\n",
       " 132784,\n",
       " 1713,\n",
       " 132785,\n",
       " 263860,\n",
       " 1717,\n",
       " 132790,\n",
       " 1719,\n",
       " 132793,\n",
       " 132799,\n",
       " 132801,\n",
       " 263875,\n",
       " 132806,\n",
       " 132807,\n",
       " 1736,\n",
       " 1739,\n",
       " 1742,\n",
       " 132819,\n",
       " 1749,\n",
       " 263894,\n",
       " 132824,\n",
       " 1753,\n",
       " 263901,\n",
       " 132832,\n",
       " 1761,\n",
       " 132834,\n",
       " 263905,\n",
       " 263911,\n",
       " 1769,\n",
       " 263915,\n",
       " 263916,\n",
       " 1773,\n",
       " 132846,\n",
       " 263919,\n",
       " 132857,\n",
       " 263932,\n",
       " 263933,\n",
       " 1790,\n",
       " 263935,\n",
       " 1793,\n",
       " 1794,\n",
       " 132867,\n",
       " 1798,\n",
       " 1803,\n",
       " 263947,\n",
       " 263948,\n",
       " 263950,\n",
       " 132879,\n",
       " 263954,\n",
       " 263955,\n",
       " 263958,\n",
       " 263960,\n",
       " 132889,\n",
       " 132890,\n",
       " 1819,\n",
       " 263964,\n",
       " 263966,\n",
       " 263967,\n",
       " 263970,\n",
       " 1830,\n",
       " 132909,\n",
       " 1838,\n",
       " 263982,\n",
       " 1840,\n",
       " 132914,\n",
       " 132915,\n",
       " 263988,\n",
       " 1846,\n",
       " 263993,\n",
       " 1850,\n",
       " 132925,\n",
       " 1857,\n",
       " 132945,\n",
       " 264019,\n",
       " 1879,\n",
       " 1880,\n",
       " 264027,\n",
       " 132956,\n",
       " 132958,\n",
       " 1887,\n",
       " 1888,\n",
       " 1889,\n",
       " 1890,\n",
       " 132963,\n",
       " 1893,\n",
       " 264037,\n",
       " 1895,\n",
       " 1896,\n",
       " 132969,\n",
       " 1900,\n",
       " 1901,\n",
       " 1903,\n",
       " 1905,\n",
       " 264049,\n",
       " 132979,\n",
       " 132980,\n",
       " 132981,\n",
       " 132982,\n",
       " 264050,\n",
       " 264051,\n",
       " 264052,\n",
       " 132987,\n",
       " 264059,\n",
       " 132993,\n",
       " 264065,\n",
       " 1924,\n",
       " 132996,\n",
       " 1926,\n",
       " 264068,\n",
       " 264071,\n",
       " 264074,\n",
       " 133003,\n",
       " 1932,\n",
       " 264076,\n",
       " 133008,\n",
       " 1937,\n",
       " 133010,\n",
       " 1939,\n",
       " 1940,\n",
       " 133013,\n",
       " 264084,\n",
       " 1947,\n",
       " 133021,\n",
       " 133025,\n",
       " 264097,\n",
       " 1956,\n",
       " 133029,\n",
       " 264102,\n",
       " 1959,\n",
       " 1960,\n",
       " 1961,\n",
       " 1962,\n",
       " 1964,\n",
       " 133038,\n",
       " 133039,\n",
       " 1968,\n",
       " 264115,\n",
       " 1975,\n",
       " 264121,\n",
       " 133050,\n",
       " 1979,\n",
       " 264123,\n",
       " 133053,\n",
       " 1985,\n",
       " 1987,\n",
       " 133059,\n",
       " 264133,\n",
       " 1990,\n",
       " 133062,\n",
       " 1992,\n",
       " 133065,\n",
       " 264138,\n",
       " 133068,\n",
       " 264140,\n",
       " 133075,\n",
       " 2005,\n",
       " 2006,\n",
       " ...}"
      ]
     },
     "execution_count": 39,
     "metadata": {},
     "output_type": "execute_result"
    }
   ],
   "source": [
    "affected_train_groups = set(affected_train_groups.to_list())\n",
    "affected_train_groups"
   ]
  },
  {
   "cell_type": "code",
   "execution_count": 40,
   "id": "759e2acb",
   "metadata": {
    "ExecuteTime": {
     "end_time": "2022-05-28T13:36:40.011325Z",
     "start_time": "2022-05-28T13:36:39.969798Z"
    },
    "scrolled": true
   },
   "outputs": [
    {
     "data": {
      "text/html": [
       "<div>\n",
       "<style scoped>\n",
       "    .dataframe tbody tr th:only-of-type {\n",
       "        vertical-align: middle;\n",
       "    }\n",
       "\n",
       "    .dataframe tbody tr th {\n",
       "        vertical-align: top;\n",
       "    }\n",
       "\n",
       "    .dataframe thead th {\n",
       "        text-align: right;\n",
       "    }\n",
       "</style>\n",
       "<table border=\"1\" class=\"dataframe\">\n",
       "  <thead>\n",
       "    <tr style=\"text-align: right;\">\n",
       "      <th></th>\n",
       "      <th>srch_id</th>\n",
       "      <th>subm</th>\n",
       "    </tr>\n",
       "  </thead>\n",
       "  <tbody>\n",
       "    <tr>\n",
       "      <th>9948</th>\n",
       "      <td>700</td>\n",
       "      <td>False</td>\n",
       "    </tr>\n",
       "    <tr>\n",
       "      <th>9949</th>\n",
       "      <td>700</td>\n",
       "      <td>False</td>\n",
       "    </tr>\n",
       "    <tr>\n",
       "      <th>9950</th>\n",
       "      <td>700</td>\n",
       "      <td>False</td>\n",
       "    </tr>\n",
       "    <tr>\n",
       "      <th>9951</th>\n",
       "      <td>700</td>\n",
       "      <td>False</td>\n",
       "    </tr>\n",
       "    <tr>\n",
       "      <th>9952</th>\n",
       "      <td>700</td>\n",
       "      <td>False</td>\n",
       "    </tr>\n",
       "    <tr>\n",
       "      <th>9953</th>\n",
       "      <td>700</td>\n",
       "      <td>False</td>\n",
       "    </tr>\n",
       "    <tr>\n",
       "      <th>9954</th>\n",
       "      <td>700</td>\n",
       "      <td>False</td>\n",
       "    </tr>\n",
       "    <tr>\n",
       "      <th>9955</th>\n",
       "      <td>700</td>\n",
       "      <td>False</td>\n",
       "    </tr>\n",
       "    <tr>\n",
       "      <th>9956</th>\n",
       "      <td>700</td>\n",
       "      <td>False</td>\n",
       "    </tr>\n",
       "    <tr>\n",
       "      <th>9957</th>\n",
       "      <td>700</td>\n",
       "      <td>False</td>\n",
       "    </tr>\n",
       "    <tr>\n",
       "      <th>9958</th>\n",
       "      <td>700</td>\n",
       "      <td>False</td>\n",
       "    </tr>\n",
       "    <tr>\n",
       "      <th>9959</th>\n",
       "      <td>700</td>\n",
       "      <td>False</td>\n",
       "    </tr>\n",
       "    <tr>\n",
       "      <th>9960</th>\n",
       "      <td>700</td>\n",
       "      <td>False</td>\n",
       "    </tr>\n",
       "    <tr>\n",
       "      <th>9961</th>\n",
       "      <td>700</td>\n",
       "      <td>False</td>\n",
       "    </tr>\n",
       "    <tr>\n",
       "      <th>9962</th>\n",
       "      <td>700</td>\n",
       "      <td>False</td>\n",
       "    </tr>\n",
       "    <tr>\n",
       "      <th>9963</th>\n",
       "      <td>700</td>\n",
       "      <td>False</td>\n",
       "    </tr>\n",
       "    <tr>\n",
       "      <th>9964</th>\n",
       "      <td>700</td>\n",
       "      <td>False</td>\n",
       "    </tr>\n",
       "    <tr>\n",
       "      <th>9965</th>\n",
       "      <td>700</td>\n",
       "      <td>False</td>\n",
       "    </tr>\n",
       "    <tr>\n",
       "      <th>9966</th>\n",
       "      <td>700</td>\n",
       "      <td>False</td>\n",
       "    </tr>\n",
       "    <tr>\n",
       "      <th>9967</th>\n",
       "      <td>700</td>\n",
       "      <td>False</td>\n",
       "    </tr>\n",
       "    <tr>\n",
       "      <th>9968</th>\n",
       "      <td>700</td>\n",
       "      <td>False</td>\n",
       "    </tr>\n",
       "    <tr>\n",
       "      <th>9969</th>\n",
       "      <td>700</td>\n",
       "      <td>False</td>\n",
       "    </tr>\n",
       "    <tr>\n",
       "      <th>10768</th>\n",
       "      <td>700</td>\n",
       "      <td>True</td>\n",
       "    </tr>\n",
       "    <tr>\n",
       "      <th>10769</th>\n",
       "      <td>700</td>\n",
       "      <td>True</td>\n",
       "    </tr>\n",
       "    <tr>\n",
       "      <th>10770</th>\n",
       "      <td>700</td>\n",
       "      <td>True</td>\n",
       "    </tr>\n",
       "    <tr>\n",
       "      <th>10771</th>\n",
       "      <td>700</td>\n",
       "      <td>True</td>\n",
       "    </tr>\n",
       "    <tr>\n",
       "      <th>10772</th>\n",
       "      <td>700</td>\n",
       "      <td>True</td>\n",
       "    </tr>\n",
       "    <tr>\n",
       "      <th>10773</th>\n",
       "      <td>700</td>\n",
       "      <td>True</td>\n",
       "    </tr>\n",
       "    <tr>\n",
       "      <th>10774</th>\n",
       "      <td>700</td>\n",
       "      <td>True</td>\n",
       "    </tr>\n",
       "    <tr>\n",
       "      <th>10775</th>\n",
       "      <td>700</td>\n",
       "      <td>True</td>\n",
       "    </tr>\n",
       "    <tr>\n",
       "      <th>10776</th>\n",
       "      <td>700</td>\n",
       "      <td>True</td>\n",
       "    </tr>\n",
       "    <tr>\n",
       "      <th>10777</th>\n",
       "      <td>700</td>\n",
       "      <td>True</td>\n",
       "    </tr>\n",
       "    <tr>\n",
       "      <th>10778</th>\n",
       "      <td>700</td>\n",
       "      <td>True</td>\n",
       "    </tr>\n",
       "    <tr>\n",
       "      <th>10779</th>\n",
       "      <td>700</td>\n",
       "      <td>True</td>\n",
       "    </tr>\n",
       "    <tr>\n",
       "      <th>10780</th>\n",
       "      <td>700</td>\n",
       "      <td>True</td>\n",
       "    </tr>\n",
       "    <tr>\n",
       "      <th>10781</th>\n",
       "      <td>700</td>\n",
       "      <td>True</td>\n",
       "    </tr>\n",
       "    <tr>\n",
       "      <th>10782</th>\n",
       "      <td>700</td>\n",
       "      <td>True</td>\n",
       "    </tr>\n",
       "    <tr>\n",
       "      <th>10783</th>\n",
       "      <td>700</td>\n",
       "      <td>True</td>\n",
       "    </tr>\n",
       "    <tr>\n",
       "      <th>10784</th>\n",
       "      <td>700</td>\n",
       "      <td>True</td>\n",
       "    </tr>\n",
       "  </tbody>\n",
       "</table>\n",
       "</div>"
      ],
      "text/plain": [
       "       srch_id   subm\n",
       "9948       700  False\n",
       "9949       700  False\n",
       "9950       700  False\n",
       "9951       700  False\n",
       "9952       700  False\n",
       "9953       700  False\n",
       "9954       700  False\n",
       "9955       700  False\n",
       "9956       700  False\n",
       "9957       700  False\n",
       "9958       700  False\n",
       "9959       700  False\n",
       "9960       700  False\n",
       "9961       700  False\n",
       "9962       700  False\n",
       "9963       700  False\n",
       "9964       700  False\n",
       "9965       700  False\n",
       "9966       700  False\n",
       "9967       700  False\n",
       "9968       700  False\n",
       "9969       700  False\n",
       "10768      700   True\n",
       "10769      700   True\n",
       "10770      700   True\n",
       "10771      700   True\n",
       "10772      700   True\n",
       "10773      700   True\n",
       "10774      700   True\n",
       "10775      700   True\n",
       "10776      700   True\n",
       "10777      700   True\n",
       "10778      700   True\n",
       "10779      700   True\n",
       "10780      700   True\n",
       "10781      700   True\n",
       "10782      700   True\n",
       "10783      700   True\n",
       "10784      700   True"
      ]
     },
     "execution_count": 40,
     "metadata": {},
     "output_type": "execute_result"
    }
   ],
   "source": [
    "df[df[group_col] == 700][[group_col, 'subm']]"
   ]
  },
  {
   "cell_type": "code",
   "execution_count": 41,
   "id": "830c77e8",
   "metadata": {
    "ExecuteTime": {
     "end_time": "2022-05-28T13:36:41.861591Z",
     "start_time": "2022-05-28T13:36:40.013557Z"
    }
   },
   "outputs": [
    {
     "data": {
      "text/plain": [
       "(8526686, 60)"
      ]
     },
     "execution_count": 41,
     "metadata": {},
     "output_type": "execute_result"
    }
   ],
   "source": [
    "if FILTER_PRICE_SIGMA:\n",
    "    df = df[~((df[group_col].isin(affected_train_groups)) & (df['subm'] == False))]\n",
    "df.shape"
   ]
  },
  {
   "cell_type": "code",
   "execution_count": 42,
   "id": "c071d879",
   "metadata": {
    "ExecuteTime": {
     "end_time": "2022-05-28T13:36:41.934271Z",
     "start_time": "2022-05-28T13:36:41.864121Z"
    }
   },
   "outputs": [
    {
     "data": {
      "text/plain": [
       "True     4959183\n",
       "False    3567503\n",
       "Name: subm, dtype: int64"
      ]
     },
     "execution_count": 42,
     "metadata": {},
     "output_type": "execute_result"
    }
   ],
   "source": [
    "df['subm'].value_counts()"
   ]
  },
  {
   "cell_type": "code",
   "execution_count": 43,
   "id": "4a4c4c4e",
   "metadata": {
    "ExecuteTime": {
     "end_time": "2022-05-28T13:36:42.006682Z",
     "start_time": "2022-05-28T13:36:41.936755Z"
    }
   },
   "outputs": [
    {
     "data": {
      "text/plain": [
       "0    6977878\n",
       "1    1548808\n",
       "Name: random_bool, dtype: int64"
      ]
     },
     "execution_count": 43,
     "metadata": {},
     "output_type": "execute_result"
    }
   ],
   "source": [
    "df['random_bool'].value_counts()"
   ]
  },
  {
   "cell_type": "code",
   "execution_count": 44,
   "id": "34a224e6",
   "metadata": {
    "ExecuteTime": {
     "end_time": "2022-05-28T13:36:42.286878Z",
     "start_time": "2022-05-28T13:36:42.009010Z"
    },
    "scrolled": false
   },
   "outputs": [
    {
     "data": {
      "text/plain": [
       "<AxesSubplot:>"
      ]
     },
     "execution_count": 44,
     "metadata": {},
     "output_type": "execute_result"
    },
    {
     "data": {
      "image/png": "[encoded data removed]",
      "text/plain": [
       "<Figure size 432x288 with 1 Axes>"
      ]
     },
     "metadata": {
      "needs_background": "light"
     },
     "output_type": "display_data"
    }
   ],
   "source": [
    "df['price_usd'].hist()"
   ]
  },
  {
   "cell_type": "code",
   "execution_count": 45,
   "id": "e7ddd90f",
   "metadata": {
    "ExecuteTime": {
     "end_time": "2022-05-28T13:36:44.352325Z",
     "start_time": "2022-05-28T13:36:42.289116Z"
    }
   },
   "outputs": [
    {
     "data": {
      "text/plain": [
       "<AxesSubplot:>"
      ]
     },
     "execution_count": 45,
     "metadata": {},
     "output_type": "execute_result"
    },
    {
     "data": {
      "image/png": "[encoded data removed]",
      "text/plain": [
       "<Figure size 432x288 with 1 Axes>"
      ]
     },
     "metadata": {
      "needs_background": "light"
     },
     "output_type": "display_data"
    }
   ],
   "source": [
    "df[df['price_usd'] < 1000]['price_usd'].hist()"
   ]
  },
  {
   "cell_type": "code",
   "execution_count": 46,
   "id": "5ffb7fd2",
   "metadata": {
    "ExecuteTime": {
     "end_time": "2022-05-28T13:36:44.669062Z",
     "start_time": "2022-05-28T13:36:44.354569Z"
    },
    "scrolled": false
   },
   "outputs": [
    {
     "data": {
      "text/plain": [
       "<AxesSubplot:>"
      ]
     },
     "execution_count": 46,
     "metadata": {},
     "output_type": "execute_result"
    },
    {
     "data": {
      "image/png": "[encoded data removed]",
      "text/plain": [
       "<Figure size 432x288 with 1 Axes>"
      ]
     },
     "metadata": {
      "needs_background": "light"
     },
     "output_type": "display_data"
    }
   ],
   "source": [
    "df['price_usd'].apply(np.log1p).hist()"
   ]
  },
  {
   "cell_type": "code",
   "execution_count": 47,
   "id": "b9b38ca8",
   "metadata": {
    "ExecuteTime": {
     "end_time": "2022-05-28T13:36:44.700236Z",
     "start_time": "2022-05-28T13:36:44.671153Z"
    },
    "code_folding": []
   },
   "outputs": [],
   "source": [
    "# if FILTER_PRICE_SIGMA:\n",
    "#     # show the prices for the first property after removing the outlier\n",
    "# #     df[df['prop_id'].isin(outliers.values[:1])][df[df['prop_id'].isin(\n",
    "# #         outliers.values[:1])]['price_usd'].index.isin(correct_entries.index)][['prop_id','price_usd']].head()\n",
    "\n",
    "#     # calculate the mean price for properties with an outlier without the outlier\n",
    "#     mean_price_per_prop_id = df[df['prop_id'].isin(outliers.values)][df[df['prop_id'].isin(outliers.values)]['price_usd'].index.isin(\n",
    "#         correct_entries.index)][['prop_id','price_usd']].groupby('prop_id').mean()\n",
    "\n",
    "#     df2 = pd.merge(df.loc[outliers.index], mean_price_per_prop_id, right_index=True, left_on = 'prop_id', how='left')\n",
    "    \n",
    "#     # outliers within the first prop_id \n",
    "#     # price_usd_x: original\n",
    "#     # price_usd_y: after replaceing with mean\n",
    "#     df2[df2['prop_id'].isin(outliers.values[:1])][['prop_id','price_usd_x', 'price_usd_y']]\n",
    "    \n",
    "#     # keep only price_usd_y, drop price_usd_x\n",
    "#     df2 = df2.rename(columns={'price_usd_y': 'price_usd'}).drop('price_usd_x', axis=1)\n",
    "    \n",
    "#     # correct the outlieing prices in the original df\n",
    "#     df.loc[outliers.index, 'price_usd'] = df2['price_usd']\n",
    "    \n",
    "# #     df['price_usd'].hist(bins=100, log=True)\n",
    "\n",
    "#     assert df['price_usd'].isna().sum() == 0\n",
    "    \n",
    "#     # fill missing prices with mean\n",
    "#     df['price_usd'].fillna(df['price_usd'].mean(), inplace=True)\n",
    "    \n",
    "#     df.loc[stats.zscore(df['price_usd']) > 3, 'price_usd'] = df['price_usd'].mean()\n",
    "    \n",
    "#     # filter outlieing prices overall (based on train here)\n",
    "#     # the limit is around 20.000 USD, above that there is only 1 entry per price bracket -> mistake\n",
    "#     df['price_usd'].hist(bins=100, log=True)\n",
    "    \n",
    "#     df = pd.concat([df, subm_df])"
   ]
  },
  {
   "cell_type": "code",
   "execution_count": 48,
   "id": "19455c4b",
   "metadata": {
    "ExecuteTime": {
     "end_time": "2022-05-28T13:36:44.774173Z",
     "start_time": "2022-05-28T13:36:44.703313Z"
    }
   },
   "outputs": [
    {
     "data": {
      "text/plain": [
       "True     4959183\n",
       "False    3567503\n",
       "Name: subm, dtype: int64"
      ]
     },
     "execution_count": 48,
     "metadata": {},
     "output_type": "execute_result"
    }
   ],
   "source": [
    "df['subm'].value_counts()"
   ]
  },
  {
   "cell_type": "markdown",
   "id": "844c97e5",
   "metadata": {},
   "source": [
    "# Time-independent feature engineering"
   ]
  },
  {
   "cell_type": "markdown",
   "id": "5bcdde8f",
   "metadata": {},
   "source": [
    "## Booking time decomposition"
   ]
  },
  {
   "cell_type": "code",
   "execution_count": 49,
   "id": "9ca3c5bd",
   "metadata": {
    "ExecuteTime": {
     "end_time": "2022-05-28T13:36:48.459312Z",
     "start_time": "2022-05-28T13:36:44.776884Z"
    }
   },
   "outputs": [],
   "source": [
    "df.sort_values([time_col], inplace=True)"
   ]
  },
  {
   "cell_type": "code",
   "execution_count": 50,
   "id": "d1090f88",
   "metadata": {
    "ExecuteTime": {
     "end_time": "2022-05-28T13:36:48.491750Z",
     "start_time": "2022-05-28T13:36:48.462100Z"
    },
    "scrolled": true
   },
   "outputs": [],
   "source": [
    "if BOOKING_TIME_FEATURES:\n",
    "    booking_time_prefix = 'booking_time_'\n",
    "\n",
    "    # various time-related columns are added to the df\n",
    "    time_df = get_time_features(deepcopy(df[['date_time']]), time_col='date_time',\n",
    "                                prefix=booking_time_prefix,\n",
    "                                within_hour_features=False,\n",
    "                                hour_features=False,\n",
    "                                day_features=True,\n",
    "                                week_features=True,\n",
    "                                month_features=True,\n",
    "                                season_features=True,\n",
    "                                year_features=True,)\n",
    "\n",
    "    display(time_df.head(2))"
   ]
  },
  {
   "cell_type": "code",
   "execution_count": 51,
   "id": "fb026cba",
   "metadata": {
    "ExecuteTime": {
     "end_time": "2022-05-28T13:37:27.338004Z",
     "start_time": "2022-05-28T13:36:48.494875Z"
    }
   },
   "outputs": [
    {
     "data": {
      "text/html": [
       "<div>\n",
       "<style scoped>\n",
       "    .dataframe tbody tr th:only-of-type {\n",
       "        vertical-align: middle;\n",
       "    }\n",
       "\n",
       "    .dataframe tbody tr th {\n",
       "        vertical-align: top;\n",
       "    }\n",
       "\n",
       "    .dataframe thead th {\n",
       "        text-align: right;\n",
       "    }\n",
       "</style>\n",
       "<table border=\"1\" class=\"dataframe\">\n",
       "  <thead>\n",
       "    <tr style=\"text-align: right;\">\n",
       "      <th></th>\n",
       "      <th>srch_id</th>\n",
       "      <th>date_time</th>\n",
       "      <th>site_id</th>\n",
       "      <th>visitor_location_country_id</th>\n",
       "      <th>visitor_hist_starrating</th>\n",
       "      <th>visitor_hist_adr_usd</th>\n",
       "      <th>prop_country_id</th>\n",
       "      <th>prop_id</th>\n",
       "      <th>prop_starrating</th>\n",
       "      <th>prop_review_score</th>\n",
       "      <th>prop_brand_bool</th>\n",
       "      <th>prop_location_score1</th>\n",
       "      <th>prop_location_score2</th>\n",
       "      <th>prop_log_historical_price</th>\n",
       "      <th>position</th>\n",
       "      <th>price_usd</th>\n",
       "      <th>promotion_flag</th>\n",
       "      <th>srch_destination_id</th>\n",
       "      <th>srch_length_of_stay</th>\n",
       "      <th>srch_booking_window</th>\n",
       "      <th>srch_adults_count</th>\n",
       "      <th>srch_children_count</th>\n",
       "      <th>srch_room_count</th>\n",
       "      <th>srch_saturday_night_bool</th>\n",
       "      <th>srch_query_affinity_score</th>\n",
       "      <th>orig_destination_distance</th>\n",
       "      <th>random_bool</th>\n",
       "      <th>comp1_rate</th>\n",
       "      <th>comp1_inv</th>\n",
       "      <th>comp1_rate_percent_diff</th>\n",
       "      <th>comp2_rate</th>\n",
       "      <th>comp2_inv</th>\n",
       "      <th>comp2_rate_percent_diff</th>\n",
       "      <th>comp3_rate</th>\n",
       "      <th>comp3_inv</th>\n",
       "      <th>comp3_rate_percent_diff</th>\n",
       "      <th>comp4_rate</th>\n",
       "      <th>comp4_inv</th>\n",
       "      <th>comp4_rate_percent_diff</th>\n",
       "      <th>comp5_rate</th>\n",
       "      <th>comp5_inv</th>\n",
       "      <th>comp5_rate_percent_diff</th>\n",
       "      <th>comp6_rate</th>\n",
       "      <th>comp6_inv</th>\n",
       "      <th>comp6_rate_percent_diff</th>\n",
       "      <th>comp7_rate</th>\n",
       "      <th>comp7_inv</th>\n",
       "      <th>comp7_rate_percent_diff</th>\n",
       "      <th>comp8_rate</th>\n",
       "      <th>comp8_inv</th>\n",
       "      <th>comp8_rate_percent_diff</th>\n",
       "      <th>click_bool</th>\n",
       "      <th>gross_bookings_usd</th>\n",
       "      <th>booking_bool</th>\n",
       "      <th>test</th>\n",
       "      <th>val</th>\n",
       "      <th>train</th>\n",
       "      <th>subm</th>\n",
       "      <th>price_per_day</th>\n",
       "      <th>price_per_trip</th>\n",
       "      <th>date_time_ordinal</th>\n",
       "    </tr>\n",
       "  </thead>\n",
       "  <tbody>\n",
       "    <tr>\n",
       "      <th>485256</th>\n",
       "      <td>32491</td>\n",
       "      <td>2012-11-01 00:01:37</td>\n",
       "      <td>24</td>\n",
       "      <td>216</td>\n",
       "      <td>NaN</td>\n",
       "      <td>NaN</td>\n",
       "      <td>225</td>\n",
       "      <td>84277</td>\n",
       "      <td>4.0</td>\n",
       "      <td>3.5</td>\n",
       "      <td>0</td>\n",
       "      <td>4.72</td>\n",
       "      <td>0.3862</td>\n",
       "      <td>5.06</td>\n",
       "      <td>NaN</td>\n",
       "      <td>76.820000</td>\n",
       "      <td>1</td>\n",
       "      <td>14083</td>\n",
       "      <td>2</td>\n",
       "      <td>16</td>\n",
       "      <td>1</td>\n",
       "      <td>0</td>\n",
       "      <td>1</td>\n",
       "      <td>1</td>\n",
       "      <td>NaN</td>\n",
       "      <td>NaN</td>\n",
       "      <td>0</td>\n",
       "      <td>&lt;NA&gt;</td>\n",
       "      <td>NaN</td>\n",
       "      <td>NaN</td>\n",
       "      <td>&lt;NA&gt;</td>\n",
       "      <td>NaN</td>\n",
       "      <td>NaN</td>\n",
       "      <td>&lt;NA&gt;</td>\n",
       "      <td>NaN</td>\n",
       "      <td>NaN</td>\n",
       "      <td>&lt;NA&gt;</td>\n",
       "      <td>NaN</td>\n",
       "      <td>NaN</td>\n",
       "      <td>&lt;NA&gt;</td>\n",
       "      <td>NaN</td>\n",
       "      <td>NaN</td>\n",
       "      <td>&lt;NA&gt;</td>\n",
       "      <td>NaN</td>\n",
       "      <td>NaN</td>\n",
       "      <td>&lt;NA&gt;</td>\n",
       "      <td>NaN</td>\n",
       "      <td>NaN</td>\n",
       "      <td>&lt;NA&gt;</td>\n",
       "      <td>NaN</td>\n",
       "      <td>NaN</td>\n",
       "      <td>NaN</td>\n",
       "      <td>NaN</td>\n",
       "      <td>NaN</td>\n",
       "      <td>False</td>\n",
       "      <td>False</td>\n",
       "      <td>False</td>\n",
       "      <td>True</td>\n",
       "      <td>76.820000</td>\n",
       "      <td>153.639999</td>\n",
       "      <td>1</td>\n",
       "    </tr>\n",
       "    <tr>\n",
       "      <th>485253</th>\n",
       "      <td>32491</td>\n",
       "      <td>2012-11-01 00:01:37</td>\n",
       "      <td>24</td>\n",
       "      <td>216</td>\n",
       "      <td>NaN</td>\n",
       "      <td>NaN</td>\n",
       "      <td>225</td>\n",
       "      <td>69323</td>\n",
       "      <td>3.0</td>\n",
       "      <td>4.5</td>\n",
       "      <td>0</td>\n",
       "      <td>4.70</td>\n",
       "      <td>0.1667</td>\n",
       "      <td>4.85</td>\n",
       "      <td>NaN</td>\n",
       "      <td>84.209999</td>\n",
       "      <td>0</td>\n",
       "      <td>14083</td>\n",
       "      <td>2</td>\n",
       "      <td>16</td>\n",
       "      <td>1</td>\n",
       "      <td>0</td>\n",
       "      <td>1</td>\n",
       "      <td>1</td>\n",
       "      <td>NaN</td>\n",
       "      <td>NaN</td>\n",
       "      <td>0</td>\n",
       "      <td>&lt;NA&gt;</td>\n",
       "      <td>NaN</td>\n",
       "      <td>NaN</td>\n",
       "      <td>&lt;NA&gt;</td>\n",
       "      <td>NaN</td>\n",
       "      <td>NaN</td>\n",
       "      <td>&lt;NA&gt;</td>\n",
       "      <td>NaN</td>\n",
       "      <td>NaN</td>\n",
       "      <td>1</td>\n",
       "      <td>0.0</td>\n",
       "      <td>9.0</td>\n",
       "      <td>0</td>\n",
       "      <td>0.0</td>\n",
       "      <td>30.0</td>\n",
       "      <td>&lt;NA&gt;</td>\n",
       "      <td>NaN</td>\n",
       "      <td>NaN</td>\n",
       "      <td>&lt;NA&gt;</td>\n",
       "      <td>NaN</td>\n",
       "      <td>NaN</td>\n",
       "      <td>&lt;NA&gt;</td>\n",
       "      <td>NaN</td>\n",
       "      <td>NaN</td>\n",
       "      <td>NaN</td>\n",
       "      <td>NaN</td>\n",
       "      <td>NaN</td>\n",
       "      <td>False</td>\n",
       "      <td>False</td>\n",
       "      <td>False</td>\n",
       "      <td>True</td>\n",
       "      <td>84.209999</td>\n",
       "      <td>168.419998</td>\n",
       "      <td>1</td>\n",
       "    </tr>\n",
       "    <tr>\n",
       "      <th>485252</th>\n",
       "      <td>32491</td>\n",
       "      <td>2012-11-01 00:01:37</td>\n",
       "      <td>24</td>\n",
       "      <td>216</td>\n",
       "      <td>NaN</td>\n",
       "      <td>NaN</td>\n",
       "      <td>225</td>\n",
       "      <td>61600</td>\n",
       "      <td>5.0</td>\n",
       "      <td>4.5</td>\n",
       "      <td>1</td>\n",
       "      <td>4.30</td>\n",
       "      <td>NaN</td>\n",
       "      <td>6.10</td>\n",
       "      <td>NaN</td>\n",
       "      <td>293.579987</td>\n",
       "      <td>0</td>\n",
       "      <td>14083</td>\n",
       "      <td>2</td>\n",
       "      <td>16</td>\n",
       "      <td>1</td>\n",
       "      <td>0</td>\n",
       "      <td>1</td>\n",
       "      <td>1</td>\n",
       "      <td>NaN</td>\n",
       "      <td>NaN</td>\n",
       "      <td>0</td>\n",
       "      <td>&lt;NA&gt;</td>\n",
       "      <td>NaN</td>\n",
       "      <td>NaN</td>\n",
       "      <td>&lt;NA&gt;</td>\n",
       "      <td>NaN</td>\n",
       "      <td>NaN</td>\n",
       "      <td>&lt;NA&gt;</td>\n",
       "      <td>NaN</td>\n",
       "      <td>NaN</td>\n",
       "      <td>&lt;NA&gt;</td>\n",
       "      <td>NaN</td>\n",
       "      <td>NaN</td>\n",
       "      <td>&lt;NA&gt;</td>\n",
       "      <td>NaN</td>\n",
       "      <td>NaN</td>\n",
       "      <td>&lt;NA&gt;</td>\n",
       "      <td>NaN</td>\n",
       "      <td>NaN</td>\n",
       "      <td>&lt;NA&gt;</td>\n",
       "      <td>NaN</td>\n",
       "      <td>NaN</td>\n",
       "      <td>&lt;NA&gt;</td>\n",
       "      <td>NaN</td>\n",
       "      <td>NaN</td>\n",
       "      <td>NaN</td>\n",
       "      <td>NaN</td>\n",
       "      <td>NaN</td>\n",
       "      <td>False</td>\n",
       "      <td>False</td>\n",
       "      <td>False</td>\n",
       "      <td>True</td>\n",
       "      <td>293.579987</td>\n",
       "      <td>587.159973</td>\n",
       "      <td>1</td>\n",
       "    </tr>\n",
       "    <tr>\n",
       "      <th>485251</th>\n",
       "      <td>32491</td>\n",
       "      <td>2012-11-01 00:01:37</td>\n",
       "      <td>24</td>\n",
       "      <td>216</td>\n",
       "      <td>NaN</td>\n",
       "      <td>NaN</td>\n",
       "      <td>225</td>\n",
       "      <td>57269</td>\n",
       "      <td>4.0</td>\n",
       "      <td>4.5</td>\n",
       "      <td>0</td>\n",
       "      <td>4.62</td>\n",
       "      <td>0.1302</td>\n",
       "      <td>5.26</td>\n",
       "      <td>NaN</td>\n",
       "      <td>433.390015</td>\n",
       "      <td>1</td>\n",
       "      <td>14083</td>\n",
       "      <td>2</td>\n",
       "      <td>16</td>\n",
       "      <td>1</td>\n",
       "      <td>0</td>\n",
       "      <td>1</td>\n",
       "      <td>1</td>\n",
       "      <td>NaN</td>\n",
       "      <td>NaN</td>\n",
       "      <td>0</td>\n",
       "      <td>&lt;NA&gt;</td>\n",
       "      <td>NaN</td>\n",
       "      <td>NaN</td>\n",
       "      <td>&lt;NA&gt;</td>\n",
       "      <td>1.0</td>\n",
       "      <td>NaN</td>\n",
       "      <td>1</td>\n",
       "      <td>0.0</td>\n",
       "      <td>3.0</td>\n",
       "      <td>1</td>\n",
       "      <td>0.0</td>\n",
       "      <td>12.0</td>\n",
       "      <td>1</td>\n",
       "      <td>0.0</td>\n",
       "      <td>2.0</td>\n",
       "      <td>&lt;NA&gt;</td>\n",
       "      <td>NaN</td>\n",
       "      <td>NaN</td>\n",
       "      <td>&lt;NA&gt;</td>\n",
       "      <td>NaN</td>\n",
       "      <td>NaN</td>\n",
       "      <td>&lt;NA&gt;</td>\n",
       "      <td>NaN</td>\n",
       "      <td>NaN</td>\n",
       "      <td>NaN</td>\n",
       "      <td>NaN</td>\n",
       "      <td>NaN</td>\n",
       "      <td>False</td>\n",
       "      <td>False</td>\n",
       "      <td>False</td>\n",
       "      <td>True</td>\n",
       "      <td>433.390015</td>\n",
       "      <td>866.780029</td>\n",
       "      <td>1</td>\n",
       "    </tr>\n",
       "    <tr>\n",
       "      <th>485250</th>\n",
       "      <td>32491</td>\n",
       "      <td>2012-11-01 00:01:37</td>\n",
       "      <td>24</td>\n",
       "      <td>216</td>\n",
       "      <td>NaN</td>\n",
       "      <td>NaN</td>\n",
       "      <td>225</td>\n",
       "      <td>53733</td>\n",
       "      <td>3.0</td>\n",
       "      <td>3.0</td>\n",
       "      <td>0</td>\n",
       "      <td>4.49</td>\n",
       "      <td>0.1079</td>\n",
       "      <td>4.97</td>\n",
       "      <td>NaN</td>\n",
       "      <td>74.199997</td>\n",
       "      <td>0</td>\n",
       "      <td>14083</td>\n",
       "      <td>2</td>\n",
       "      <td>16</td>\n",
       "      <td>1</td>\n",
       "      <td>0</td>\n",
       "      <td>1</td>\n",
       "      <td>1</td>\n",
       "      <td>NaN</td>\n",
       "      <td>NaN</td>\n",
       "      <td>0</td>\n",
       "      <td>&lt;NA&gt;</td>\n",
       "      <td>NaN</td>\n",
       "      <td>NaN</td>\n",
       "      <td>&lt;NA&gt;</td>\n",
       "      <td>NaN</td>\n",
       "      <td>NaN</td>\n",
       "      <td>&lt;NA&gt;</td>\n",
       "      <td>NaN</td>\n",
       "      <td>NaN</td>\n",
       "      <td>&lt;NA&gt;</td>\n",
       "      <td>NaN</td>\n",
       "      <td>NaN</td>\n",
       "      <td>0</td>\n",
       "      <td>0.0</td>\n",
       "      <td>NaN</td>\n",
       "      <td>&lt;NA&gt;</td>\n",
       "      <td>NaN</td>\n",
       "      <td>NaN</td>\n",
       "      <td>&lt;NA&gt;</td>\n",
       "      <td>NaN</td>\n",
       "      <td>NaN</td>\n",
       "      <td>&lt;NA&gt;</td>\n",
       "      <td>NaN</td>\n",
       "      <td>NaN</td>\n",
       "      <td>NaN</td>\n",
       "      <td>NaN</td>\n",
       "      <td>NaN</td>\n",
       "      <td>False</td>\n",
       "      <td>False</td>\n",
       "      <td>False</td>\n",
       "      <td>True</td>\n",
       "      <td>74.199997</td>\n",
       "      <td>148.399994</td>\n",
       "      <td>1</td>\n",
       "    </tr>\n",
       "  </tbody>\n",
       "</table>\n",
       "</div>"
      ],
      "text/plain": [
       "        srch_id           date_time  site_id  visitor_location_country_id  \\\n",
       "485256    32491 2012-11-01 00:01:37       24                          216   \n",
       "485253    32491 2012-11-01 00:01:37       24                          216   \n",
       "485252    32491 2012-11-01 00:01:37       24                          216   \n",
       "485251    32491 2012-11-01 00:01:37       24                          216   \n",
       "485250    32491 2012-11-01 00:01:37       24                          216   \n",
       "\n",
       "        visitor_hist_starrating  visitor_hist_adr_usd  prop_country_id  \\\n",
       "485256                      NaN                   NaN              225   \n",
       "485253                      NaN                   NaN              225   \n",
       "485252                      NaN                   NaN              225   \n",
       "485251                      NaN                   NaN              225   \n",
       "485250                      NaN                   NaN              225   \n",
       "\n",
       "        prop_id  prop_starrating  prop_review_score  prop_brand_bool  \\\n",
       "485256    84277              4.0                3.5                0   \n",
       "485253    69323              3.0                4.5                0   \n",
       "485252    61600              5.0                4.5                1   \n",
       "485251    57269              4.0                4.5                0   \n",
       "485250    53733              3.0                3.0                0   \n",
       "\n",
       "        prop_location_score1  prop_location_score2  prop_log_historical_price  \\\n",
       "485256                  4.72                0.3862                       5.06   \n",
       "485253                  4.70                0.1667                       4.85   \n",
       "485252                  4.30                   NaN                       6.10   \n",
       "485251                  4.62                0.1302                       5.26   \n",
       "485250                  4.49                0.1079                       4.97   \n",
       "\n",
       "        position   price_usd  promotion_flag  srch_destination_id  \\\n",
       "485256       NaN   76.820000               1                14083   \n",
       "485253       NaN   84.209999               0                14083   \n",
       "485252       NaN  293.579987               0                14083   \n",
       "485251       NaN  433.390015               1                14083   \n",
       "485250       NaN   74.199997               0                14083   \n",
       "\n",
       "        srch_length_of_stay  srch_booking_window  srch_adults_count  \\\n",
       "485256                    2                   16                  1   \n",
       "485253                    2                   16                  1   \n",
       "485252                    2                   16                  1   \n",
       "485251                    2                   16                  1   \n",
       "485250                    2                   16                  1   \n",
       "\n",
       "        srch_children_count  srch_room_count  srch_saturday_night_bool  \\\n",
       "485256                    0                1                         1   \n",
       "485253                    0                1                         1   \n",
       "485252                    0                1                         1   \n",
       "485251                    0                1                         1   \n",
       "485250                    0                1                         1   \n",
       "\n",
       "        srch_query_affinity_score  orig_destination_distance  random_bool  \\\n",
       "485256                        NaN                        NaN            0   \n",
       "485253                        NaN                        NaN            0   \n",
       "485252                        NaN                        NaN            0   \n",
       "485251                        NaN                        NaN            0   \n",
       "485250                        NaN                        NaN            0   \n",
       "\n",
       "        comp1_rate  comp1_inv  comp1_rate_percent_diff  comp2_rate  comp2_inv  \\\n",
       "485256        <NA>        NaN                      NaN        <NA>        NaN   \n",
       "485253        <NA>        NaN                      NaN        <NA>        NaN   \n",
       "485252        <NA>        NaN                      NaN        <NA>        NaN   \n",
       "485251        <NA>        NaN                      NaN        <NA>        1.0   \n",
       "485250        <NA>        NaN                      NaN        <NA>        NaN   \n",
       "\n",
       "        comp2_rate_percent_diff  comp3_rate  comp3_inv  \\\n",
       "485256                      NaN        <NA>        NaN   \n",
       "485253                      NaN        <NA>        NaN   \n",
       "485252                      NaN        <NA>        NaN   \n",
       "485251                      NaN           1        0.0   \n",
       "485250                      NaN        <NA>        NaN   \n",
       "\n",
       "        comp3_rate_percent_diff  comp4_rate  comp4_inv  \\\n",
       "485256                      NaN        <NA>        NaN   \n",
       "485253                      NaN           1        0.0   \n",
       "485252                      NaN        <NA>        NaN   \n",
       "485251                      3.0           1        0.0   \n",
       "485250                      NaN        <NA>        NaN   \n",
       "\n",
       "        comp4_rate_percent_diff  comp5_rate  comp5_inv  \\\n",
       "485256                      NaN        <NA>        NaN   \n",
       "485253                      9.0           0        0.0   \n",
       "485252                      NaN        <NA>        NaN   \n",
       "485251                     12.0           1        0.0   \n",
       "485250                      NaN           0        0.0   \n",
       "\n",
       "        comp5_rate_percent_diff  comp6_rate  comp6_inv  \\\n",
       "485256                      NaN        <NA>        NaN   \n",
       "485253                     30.0        <NA>        NaN   \n",
       "485252                      NaN        <NA>        NaN   \n",
       "485251                      2.0        <NA>        NaN   \n",
       "485250                      NaN        <NA>        NaN   \n",
       "\n",
       "        comp6_rate_percent_diff  comp7_rate  comp7_inv  \\\n",
       "485256                      NaN        <NA>        NaN   \n",
       "485253                      NaN        <NA>        NaN   \n",
       "485252                      NaN        <NA>        NaN   \n",
       "485251                      NaN        <NA>        NaN   \n",
       "485250                      NaN        <NA>        NaN   \n",
       "\n",
       "        comp7_rate_percent_diff  comp8_rate  comp8_inv  \\\n",
       "485256                      NaN        <NA>        NaN   \n",
       "485253                      NaN        <NA>        NaN   \n",
       "485252                      NaN        <NA>        NaN   \n",
       "485251                      NaN        <NA>        NaN   \n",
       "485250                      NaN        <NA>        NaN   \n",
       "\n",
       "        comp8_rate_percent_diff  click_bool  gross_bookings_usd  booking_bool  \\\n",
       "485256                      NaN         NaN                 NaN           NaN   \n",
       "485253                      NaN         NaN                 NaN           NaN   \n",
       "485252                      NaN         NaN                 NaN           NaN   \n",
       "485251                      NaN         NaN                 NaN           NaN   \n",
       "485250                      NaN         NaN                 NaN           NaN   \n",
       "\n",
       "         test    val  train  subm  price_per_day  price_per_trip  \\\n",
       "485256  False  False  False  True      76.820000      153.639999   \n",
       "485253  False  False  False  True      84.209999      168.419998   \n",
       "485252  False  False  False  True     293.579987      587.159973   \n",
       "485251  False  False  False  True     433.390015      866.780029   \n",
       "485250  False  False  False  True      74.199997      148.399994   \n",
       "\n",
       "        date_time_ordinal  \n",
       "485256                  1  \n",
       "485253                  1  \n",
       "485252                  1  \n",
       "485251                  1  \n",
       "485250                  1  "
      ]
     },
     "execution_count": 51,
     "metadata": {},
     "output_type": "execute_result"
    }
   ],
   "source": [
    "enc = ce.OrdinalEncoder(cols=['date_time'])\n",
    "\n",
    "if BOOKING_TIME_FEATURES:\n",
    "    # time column is encoded as some algorithms don't work with datetime. \n",
    "    # keep both. each specific model may load needed columns\n",
    "    time_df = enc.fit_transform(time_df)\n",
    "else:\n",
    "    time_df = enc.fit_transform(df['date_time'])\n",
    "\n",
    "time_df.rename(columns={\"date_time\": \"date_time_ordinal\"}, inplace=True)\n",
    "df = pd.concat([df, time_df], axis=1)\n",
    "    \n",
    "df.head()"
   ]
  },
  {
   "cell_type": "code",
   "execution_count": 52,
   "id": "95a45ebc",
   "metadata": {
    "ExecuteTime": {
     "end_time": "2022-05-28T13:37:27.370869Z",
     "start_time": "2022-05-28T13:37:27.339921Z"
    }
   },
   "outputs": [
    {
     "data": {
      "text/plain": [
       "(8526686, 61)"
      ]
     },
     "execution_count": 52,
     "metadata": {},
     "output_type": "execute_result"
    }
   ],
   "source": [
    "df.shape"
   ]
  },
  {
   "cell_type": "markdown",
   "id": "399c6428",
   "metadata": {},
   "source": [
    "### Time cyclicals"
   ]
  },
  {
   "cell_type": "code",
   "execution_count": 53,
   "id": "465e80c0",
   "metadata": {
    "ExecuteTime": {
     "end_time": "2022-05-28T13:37:27.403208Z",
     "start_time": "2022-05-28T13:37:27.373024Z"
    },
    "scrolled": true
   },
   "outputs": [],
   "source": [
    "if BOOKING_TIME_CYCLICALS:\n",
    "    max_values_dict = {\n",
    "        booking_time_prefix + 'day': 31,\n",
    "        booking_time_prefix + 'month': 12,\n",
    "        booking_time_prefix + 'quarter': 4,\n",
    "        booking_time_prefix + 'week': 52,\n",
    "        booking_time_prefix + 'dow': 7,\n",
    "        booking_time_prefix + 'doy': 366,\n",
    "        booking_time_prefix + 'season_num': 4\n",
    "    }\n",
    "\n",
    "    cyclical = CyclicalTransformer(variables=list(max_values_dict.keys()),\n",
    "                                   drop_original=False,\n",
    "                                   max_values=max_values_dict)\n",
    "\n",
    "    df = cyclical.fit_transform(df)\n",
    "    df.head()"
   ]
  },
  {
   "cell_type": "markdown",
   "id": "309b9ee9",
   "metadata": {},
   "source": [
    "## Distance and locations"
   ]
  },
  {
   "cell_type": "code",
   "execution_count": 54,
   "id": "26591375",
   "metadata": {
    "ExecuteTime": {
     "end_time": "2022-05-28T13:37:27.435028Z",
     "start_time": "2022-05-28T13:37:27.405501Z"
    }
   },
   "outputs": [],
   "source": [
    "# df['trans_ocean'] = df['orig_destination_distance'] > 3000\n",
    "# df['travel_inside'] = df['visitor_location_country_id'] == df['prop_country_id']"
   ]
  },
  {
   "cell_type": "code",
   "execution_count": 55,
   "id": "ce66ad0d",
   "metadata": {
    "ExecuteTime": {
     "end_time": "2022-05-28T13:37:27.529385Z",
     "start_time": "2022-05-28T13:37:27.437563Z"
    }
   },
   "outputs": [],
   "source": [
    "df['prop_location_score_diff'] = df['prop_location_score1'] - df['prop_location_score2']\n",
    "# df['prop_location_score_diff_7'] = df['prop_location_score1'] - df['prop_location_score2'] * 7\n",
    "df['prop_location_score_sum'] = df['prop_location_score1'] + df['prop_location_score2']\n",
    "# df['prop_location_score_sum_7'] = df['prop_location_score1'] + df['prop_location_score2'] * 7\n",
    "df['prop_location_score_mul'] = df['prop_location_score1'] * df['prop_location_score2']"
   ]
  },
  {
   "cell_type": "code",
   "execution_count": 56,
   "id": "caefd46f",
   "metadata": {
    "ExecuteTime": {
     "end_time": "2022-05-28T13:37:27.863626Z",
     "start_time": "2022-05-28T13:37:27.532093Z"
    }
   },
   "outputs": [],
   "source": [
    "df['prop_location_score_diff_log'] = df['prop_location_score1'] - (np.log(df['prop_location_score2'] + 1e-6) / np.log(2))\n",
    "df['prop_location_score_sum_log'] = df['prop_location_score1'] + (np.log(df['prop_location_score2'] + 1e-6) / np.log(2))\n",
    "df['prop_location_score_mul_log'] = df['prop_location_score1'] * (np.log(df['prop_location_score2'] + 1e-6) / np.log(2))"
   ]
  },
  {
   "cell_type": "markdown",
   "id": "ac06ba32",
   "metadata": {},
   "source": [
    "## Competitors"
   ]
  },
  {
   "cell_type": "markdown",
   "id": "92929e70",
   "metadata": {},
   "source": [
    "**comp1_rate** - +1 if Expedia has a lower price than competitor 1 for the hotel; 0 if the same; -1 if Expedia’s price is higher than competitor 1; null signifies there is no competitive data  \n",
    "\n",
    "**comp1_inv** - +1 if competitor 1 does not have availability in the hotel; 0 if both Expedia and competitor 1 have availability; null signifies there is no competitive data\n",
    "\n",
    "**comp1_rate_percent_diff** - The absolute percentage difference (if one exists) between Expedia and competitor 1’s price (Expedia’s price the denominator); null signifies there is no competitive data"
   ]
  },
  {
   "cell_type": "code",
   "execution_count": 57,
   "id": "2e9ef1fc",
   "metadata": {
    "ExecuteTime": {
     "end_time": "2022-05-28T13:37:27.896724Z",
     "start_time": "2022-05-28T13:37:27.866482Z"
    },
    "scrolled": true
   },
   "outputs": [],
   "source": [
    "# for i in range(1, 9):\n",
    "#     print(df[df[f'comp{i}_rate'] == 0][f'comp{i}_rate_percent_diff'].value_counts(dropna=False))"
   ]
  },
  {
   "cell_type": "code",
   "execution_count": 58,
   "id": "5b59daf7",
   "metadata": {
    "ExecuteTime": {
     "end_time": "2022-05-28T13:37:37.279393Z",
     "start_time": "2022-05-28T13:37:27.898888Z"
    },
    "scrolled": true
   },
   "outputs": [],
   "source": [
    "df['higher_price_than_expedia'] = 0  # 0 to nan\n",
    "df['lower_price_than_expedia'] = 0  # 0 to nan\n",
    "df['same_price_as_expedia'] = 0  # 0 to nan\n",
    "df['comp_num_avail'] = 0\n",
    "df['comp_num_avail_nan'] = 0\n",
    "\n",
    "for i in range(1, 9):\n",
    "    df.loc[df[f'comp{i}_rate'] == 1, 'higher_price_than_expedia'] += 1\n",
    "    df.loc[df[f'comp{i}_rate'] == -1, 'lower_price_than_expedia'] += 1\n",
    "    df.loc[df[f'comp{i}_rate'] == 0, 'same_price_as_expedia'] += 1 \n",
    "    \n",
    "    df.loc[df[f'comp{i}_inv'] == 0, 'comp_num_avail'] += 1 \n",
    "    df.loc[df[f'comp{i}_inv'].isna(), 'comp_num_avail_nan'] += 1 \n",
    "    \n",
    "df.loc[df['comp_num_avail_nan'] == 8, 'comp_num_avail'] = np.nan\n",
    "df.drop(['comp_num_avail_nan'], axis=1, inplace=True)\n",
    "\n",
    "df['higher_price_than_expedia'].replace(0, np.nan, inplace=True)\n",
    "df['lower_price_than_expedia'].replace(0, np.nan, inplace=True)\n",
    "df['same_price_as_expedia'].replace(0, np.nan, inplace=True)\n",
    "\n",
    "df['ratio_of_comp_with_higher_price_than_expedia'] = df['higher_price_than_expedia'] / df['comp_num_avail']\n",
    "df['ratio_of_comp_with_lower_price_than_expedia'] = df['lower_price_than_expedia'] / df['comp_num_avail']"
   ]
  },
  {
   "cell_type": "code",
   "execution_count": 59,
   "id": "9dfbaa1e",
   "metadata": {
    "ExecuteTime": {
     "end_time": "2022-05-28T13:37:49.352953Z",
     "start_time": "2022-05-28T13:37:37.281520Z"
    },
    "scrolled": true
   },
   "outputs": [],
   "source": [
    "if COMP_RATE_PERCENT_DIFF_SIGNED_FEATURES:\n",
    "    for i in range(1, 9):\n",
    "        df[f'comp{i}_rate_percent_diff_signed'] = df[f'comp{i}_rate'] * df[f'comp{i}_rate_percent_diff']\n",
    "        df.drop([f'comp{i}_rate'], axis=1, inplace=True)"
   ]
  },
  {
   "cell_type": "code",
   "execution_count": 60,
   "id": "8b449a0e",
   "metadata": {
    "ExecuteTime": {
     "end_time": "2022-05-28T13:37:49.389219Z",
     "start_time": "2022-05-28T13:37:49.355636Z"
    }
   },
   "outputs": [],
   "source": [
    "# if COMP_RATE_PERCENT_DIFF_TRANSFORMATION_FEATURES:\n",
    "#     df = num_transformations(df,\n",
    "#                          [f'comp{i}_rate_percent_diff' for i in range(1, 9)],\n",
    "#                          powers=[],\n",
    "#                          log_bases=[2, 10], \n",
    "#                          do_reciprocal=False,\n",
    "#                          do_exp=False)\n",
    "# else:\n",
    "#     for i in range(1, 9):\n",
    "#         df.drop([f'comp{i}_rate_percent_diff'], axis=1, inplace=True)  # bcs it's just a sign for the new feature"
   ]
  },
  {
   "cell_type": "code",
   "execution_count": 61,
   "id": "b3012c1b",
   "metadata": {
    "ExecuteTime": {
     "end_time": "2022-05-28T13:37:49.425542Z",
     "start_time": "2022-05-28T13:37:49.391291Z"
    }
   },
   "outputs": [
    {
     "data": {
      "text/plain": [
       "(8526686, 73)"
      ]
     },
     "execution_count": 61,
     "metadata": {},
     "output_type": "execute_result"
    }
   ],
   "source": [
    "df.shape"
   ]
  },
  {
   "cell_type": "code",
   "execution_count": 62,
   "id": "75b22955",
   "metadata": {
    "ExecuteTime": {
     "end_time": "2022-05-28T13:37:50.295419Z",
     "start_time": "2022-05-28T13:37:49.427677Z"
    },
    "scrolled": true
   },
   "outputs": [],
   "source": [
    "df.drop([\n",
    "    'comp1_inv',\n",
    "    'comp1_rate_percent_diff',\n",
    "    'comp2_inv',\n",
    "    'comp2_rate_percent_diff',\n",
    "    'comp3_inv',\n",
    "#     'comp3_rate_percent_diff',\n",
    "    'comp4_inv',\n",
    "    'comp4_rate_percent_diff',\n",
    "    'comp5_inv',\n",
    "    'comp5_rate_percent_diff',\n",
    "    'comp6_inv',\n",
    "    'comp6_rate_percent_diff',\n",
    "    'comp7_inv',\n",
    "    'comp7_rate_percent_diff',\n",
    "    'comp8_inv',\n",
    "    'comp8_rate_percent_diff',\n",
    "    'higher_price_than_expedia',\n",
    "    'lower_price_than_expedia',\n",
    "    'same_price_as_expedia',\n",
    "    'comp_num_avail',\n",
    "    'ratio_of_comp_with_higher_price_than_expedia',\n",
    "    'comp1_rate_percent_diff_signed',\n",
    "    'comp2_rate_percent_diff_signed',\n",
    "    'comp3_rate_percent_diff_signed',\n",
    "    'comp4_rate_percent_diff_signed',\n",
    "    'comp6_rate_percent_diff_signed',\n",
    "    'comp7_rate_percent_diff_signed',\n",
    "],\n",
    "        axis=1,\n",
    "        inplace=True)"
   ]
  },
  {
   "cell_type": "code",
   "execution_count": 63,
   "id": "7bdd19b0",
   "metadata": {
    "ExecuteTime": {
     "end_time": "2022-05-28T13:37:50.358968Z",
     "start_time": "2022-05-28T13:37:50.297580Z"
    },
    "scrolled": false
   },
   "outputs": [
    {
     "data": {
      "text/html": [
       "<div>\n",
       "<style scoped>\n",
       "    .dataframe tbody tr th:only-of-type {\n",
       "        vertical-align: middle;\n",
       "    }\n",
       "\n",
       "    .dataframe tbody tr th {\n",
       "        vertical-align: top;\n",
       "    }\n",
       "\n",
       "    .dataframe thead th {\n",
       "        text-align: right;\n",
       "    }\n",
       "</style>\n",
       "<table border=\"1\" class=\"dataframe\">\n",
       "  <thead>\n",
       "    <tr style=\"text-align: right;\">\n",
       "      <th></th>\n",
       "      <th>srch_id</th>\n",
       "      <th>date_time</th>\n",
       "      <th>site_id</th>\n",
       "      <th>visitor_location_country_id</th>\n",
       "      <th>visitor_hist_starrating</th>\n",
       "      <th>visitor_hist_adr_usd</th>\n",
       "      <th>prop_country_id</th>\n",
       "      <th>prop_id</th>\n",
       "      <th>prop_starrating</th>\n",
       "      <th>prop_review_score</th>\n",
       "      <th>prop_brand_bool</th>\n",
       "      <th>prop_location_score1</th>\n",
       "      <th>prop_location_score2</th>\n",
       "      <th>prop_log_historical_price</th>\n",
       "      <th>position</th>\n",
       "      <th>price_usd</th>\n",
       "      <th>promotion_flag</th>\n",
       "      <th>srch_destination_id</th>\n",
       "      <th>srch_length_of_stay</th>\n",
       "      <th>srch_booking_window</th>\n",
       "      <th>srch_adults_count</th>\n",
       "      <th>srch_children_count</th>\n",
       "      <th>srch_room_count</th>\n",
       "      <th>srch_saturday_night_bool</th>\n",
       "      <th>srch_query_affinity_score</th>\n",
       "      <th>orig_destination_distance</th>\n",
       "      <th>random_bool</th>\n",
       "      <th>comp3_rate_percent_diff</th>\n",
       "      <th>click_bool</th>\n",
       "      <th>gross_bookings_usd</th>\n",
       "      <th>booking_bool</th>\n",
       "      <th>test</th>\n",
       "      <th>val</th>\n",
       "      <th>train</th>\n",
       "      <th>subm</th>\n",
       "      <th>price_per_day</th>\n",
       "      <th>price_per_trip</th>\n",
       "      <th>date_time_ordinal</th>\n",
       "      <th>prop_location_score_diff</th>\n",
       "      <th>prop_location_score_sum</th>\n",
       "      <th>prop_location_score_mul</th>\n",
       "      <th>prop_location_score_diff_log</th>\n",
       "      <th>prop_location_score_sum_log</th>\n",
       "      <th>prop_location_score_mul_log</th>\n",
       "      <th>ratio_of_comp_with_lower_price_than_expedia</th>\n",
       "      <th>comp5_rate_percent_diff_signed</th>\n",
       "      <th>comp8_rate_percent_diff_signed</th>\n",
       "    </tr>\n",
       "  </thead>\n",
       "  <tbody>\n",
       "    <tr>\n",
       "      <th>485256</th>\n",
       "      <td>32491</td>\n",
       "      <td>2012-11-01 00:01:37</td>\n",
       "      <td>24</td>\n",
       "      <td>216</td>\n",
       "      <td>NaN</td>\n",
       "      <td>NaN</td>\n",
       "      <td>225</td>\n",
       "      <td>84277</td>\n",
       "      <td>4.0</td>\n",
       "      <td>3.5</td>\n",
       "      <td>0</td>\n",
       "      <td>4.72</td>\n",
       "      <td>0.3862</td>\n",
       "      <td>5.06</td>\n",
       "      <td>NaN</td>\n",
       "      <td>76.820000</td>\n",
       "      <td>1</td>\n",
       "      <td>14083</td>\n",
       "      <td>2</td>\n",
       "      <td>16</td>\n",
       "      <td>1</td>\n",
       "      <td>0</td>\n",
       "      <td>1</td>\n",
       "      <td>1</td>\n",
       "      <td>NaN</td>\n",
       "      <td>NaN</td>\n",
       "      <td>0</td>\n",
       "      <td>NaN</td>\n",
       "      <td>NaN</td>\n",
       "      <td>NaN</td>\n",
       "      <td>NaN</td>\n",
       "      <td>False</td>\n",
       "      <td>False</td>\n",
       "      <td>False</td>\n",
       "      <td>True</td>\n",
       "      <td>76.820000</td>\n",
       "      <td>153.639999</td>\n",
       "      <td>1</td>\n",
       "      <td>4.3338</td>\n",
       "      <td>5.1062</td>\n",
       "      <td>1.822864</td>\n",
       "      <td>6.092576</td>\n",
       "      <td>3.347424</td>\n",
       "      <td>-6.478559</td>\n",
       "      <td>NaN</td>\n",
       "      <td>&lt;NA&gt;</td>\n",
       "      <td>&lt;NA&gt;</td>\n",
       "    </tr>\n",
       "    <tr>\n",
       "      <th>485253</th>\n",
       "      <td>32491</td>\n",
       "      <td>2012-11-01 00:01:37</td>\n",
       "      <td>24</td>\n",
       "      <td>216</td>\n",
       "      <td>NaN</td>\n",
       "      <td>NaN</td>\n",
       "      <td>225</td>\n",
       "      <td>69323</td>\n",
       "      <td>3.0</td>\n",
       "      <td>4.5</td>\n",
       "      <td>0</td>\n",
       "      <td>4.70</td>\n",
       "      <td>0.1667</td>\n",
       "      <td>4.85</td>\n",
       "      <td>NaN</td>\n",
       "      <td>84.209999</td>\n",
       "      <td>0</td>\n",
       "      <td>14083</td>\n",
       "      <td>2</td>\n",
       "      <td>16</td>\n",
       "      <td>1</td>\n",
       "      <td>0</td>\n",
       "      <td>1</td>\n",
       "      <td>1</td>\n",
       "      <td>NaN</td>\n",
       "      <td>NaN</td>\n",
       "      <td>0</td>\n",
       "      <td>NaN</td>\n",
       "      <td>NaN</td>\n",
       "      <td>NaN</td>\n",
       "      <td>NaN</td>\n",
       "      <td>False</td>\n",
       "      <td>False</td>\n",
       "      <td>False</td>\n",
       "      <td>True</td>\n",
       "      <td>84.209999</td>\n",
       "      <td>168.419998</td>\n",
       "      <td>1</td>\n",
       "      <td>4.5333</td>\n",
       "      <td>4.8667</td>\n",
       "      <td>0.783490</td>\n",
       "      <td>7.284665</td>\n",
       "      <td>2.115335</td>\n",
       "      <td>-12.147926</td>\n",
       "      <td>NaN</td>\n",
       "      <td>0.0</td>\n",
       "      <td>&lt;NA&gt;</td>\n",
       "    </tr>\n",
       "    <tr>\n",
       "      <th>485252</th>\n",
       "      <td>32491</td>\n",
       "      <td>2012-11-01 00:01:37</td>\n",
       "      <td>24</td>\n",
       "      <td>216</td>\n",
       "      <td>NaN</td>\n",
       "      <td>NaN</td>\n",
       "      <td>225</td>\n",
       "      <td>61600</td>\n",
       "      <td>5.0</td>\n",
       "      <td>4.5</td>\n",
       "      <td>1</td>\n",
       "      <td>4.30</td>\n",
       "      <td>NaN</td>\n",
       "      <td>6.10</td>\n",
       "      <td>NaN</td>\n",
       "      <td>293.579987</td>\n",
       "      <td>0</td>\n",
       "      <td>14083</td>\n",
       "      <td>2</td>\n",
       "      <td>16</td>\n",
       "      <td>1</td>\n",
       "      <td>0</td>\n",
       "      <td>1</td>\n",
       "      <td>1</td>\n",
       "      <td>NaN</td>\n",
       "      <td>NaN</td>\n",
       "      <td>0</td>\n",
       "      <td>NaN</td>\n",
       "      <td>NaN</td>\n",
       "      <td>NaN</td>\n",
       "      <td>NaN</td>\n",
       "      <td>False</td>\n",
       "      <td>False</td>\n",
       "      <td>False</td>\n",
       "      <td>True</td>\n",
       "      <td>293.579987</td>\n",
       "      <td>587.159973</td>\n",
       "      <td>1</td>\n",
       "      <td>NaN</td>\n",
       "      <td>NaN</td>\n",
       "      <td>NaN</td>\n",
       "      <td>NaN</td>\n",
       "      <td>NaN</td>\n",
       "      <td>NaN</td>\n",
       "      <td>NaN</td>\n",
       "      <td>&lt;NA&gt;</td>\n",
       "      <td>&lt;NA&gt;</td>\n",
       "    </tr>\n",
       "    <tr>\n",
       "      <th>485251</th>\n",
       "      <td>32491</td>\n",
       "      <td>2012-11-01 00:01:37</td>\n",
       "      <td>24</td>\n",
       "      <td>216</td>\n",
       "      <td>NaN</td>\n",
       "      <td>NaN</td>\n",
       "      <td>225</td>\n",
       "      <td>57269</td>\n",
       "      <td>4.0</td>\n",
       "      <td>4.5</td>\n",
       "      <td>0</td>\n",
       "      <td>4.62</td>\n",
       "      <td>0.1302</td>\n",
       "      <td>5.26</td>\n",
       "      <td>NaN</td>\n",
       "      <td>433.390015</td>\n",
       "      <td>1</td>\n",
       "      <td>14083</td>\n",
       "      <td>2</td>\n",
       "      <td>16</td>\n",
       "      <td>1</td>\n",
       "      <td>0</td>\n",
       "      <td>1</td>\n",
       "      <td>1</td>\n",
       "      <td>NaN</td>\n",
       "      <td>NaN</td>\n",
       "      <td>0</td>\n",
       "      <td>3.0</td>\n",
       "      <td>NaN</td>\n",
       "      <td>NaN</td>\n",
       "      <td>NaN</td>\n",
       "      <td>False</td>\n",
       "      <td>False</td>\n",
       "      <td>False</td>\n",
       "      <td>True</td>\n",
       "      <td>433.390015</td>\n",
       "      <td>866.780029</td>\n",
       "      <td>1</td>\n",
       "      <td>4.4898</td>\n",
       "      <td>4.7502</td>\n",
       "      <td>0.601524</td>\n",
       "      <td>7.561187</td>\n",
       "      <td>1.678812</td>\n",
       "      <td>-13.588286</td>\n",
       "      <td>NaN</td>\n",
       "      <td>2.0</td>\n",
       "      <td>&lt;NA&gt;</td>\n",
       "    </tr>\n",
       "    <tr>\n",
       "      <th>485250</th>\n",
       "      <td>32491</td>\n",
       "      <td>2012-11-01 00:01:37</td>\n",
       "      <td>24</td>\n",
       "      <td>216</td>\n",
       "      <td>NaN</td>\n",
       "      <td>NaN</td>\n",
       "      <td>225</td>\n",
       "      <td>53733</td>\n",
       "      <td>3.0</td>\n",
       "      <td>3.0</td>\n",
       "      <td>0</td>\n",
       "      <td>4.49</td>\n",
       "      <td>0.1079</td>\n",
       "      <td>4.97</td>\n",
       "      <td>NaN</td>\n",
       "      <td>74.199997</td>\n",
       "      <td>0</td>\n",
       "      <td>14083</td>\n",
       "      <td>2</td>\n",
       "      <td>16</td>\n",
       "      <td>1</td>\n",
       "      <td>0</td>\n",
       "      <td>1</td>\n",
       "      <td>1</td>\n",
       "      <td>NaN</td>\n",
       "      <td>NaN</td>\n",
       "      <td>0</td>\n",
       "      <td>NaN</td>\n",
       "      <td>NaN</td>\n",
       "      <td>NaN</td>\n",
       "      <td>NaN</td>\n",
       "      <td>False</td>\n",
       "      <td>False</td>\n",
       "      <td>False</td>\n",
       "      <td>True</td>\n",
       "      <td>74.199997</td>\n",
       "      <td>148.399994</td>\n",
       "      <td>1</td>\n",
       "      <td>4.3821</td>\n",
       "      <td>4.5979</td>\n",
       "      <td>0.484471</td>\n",
       "      <td>7.702220</td>\n",
       "      <td>1.277780</td>\n",
       "      <td>-14.422866</td>\n",
       "      <td>NaN</td>\n",
       "      <td>NaN</td>\n",
       "      <td>&lt;NA&gt;</td>\n",
       "    </tr>\n",
       "  </tbody>\n",
       "</table>\n",
       "</div>"
      ],
      "text/plain": [
       "        srch_id           date_time  site_id  visitor_location_country_id  \\\n",
       "485256    32491 2012-11-01 00:01:37       24                          216   \n",
       "485253    32491 2012-11-01 00:01:37       24                          216   \n",
       "485252    32491 2012-11-01 00:01:37       24                          216   \n",
       "485251    32491 2012-11-01 00:01:37       24                          216   \n",
       "485250    32491 2012-11-01 00:01:37       24                          216   \n",
       "\n",
       "        visitor_hist_starrating  visitor_hist_adr_usd  prop_country_id  \\\n",
       "485256                      NaN                   NaN              225   \n",
       "485253                      NaN                   NaN              225   \n",
       "485252                      NaN                   NaN              225   \n",
       "485251                      NaN                   NaN              225   \n",
       "485250                      NaN                   NaN              225   \n",
       "\n",
       "        prop_id  prop_starrating  prop_review_score  prop_brand_bool  \\\n",
       "485256    84277              4.0                3.5                0   \n",
       "485253    69323              3.0                4.5                0   \n",
       "485252    61600              5.0                4.5                1   \n",
       "485251    57269              4.0                4.5                0   \n",
       "485250    53733              3.0                3.0                0   \n",
       "\n",
       "        prop_location_score1  prop_location_score2  prop_log_historical_price  \\\n",
       "485256                  4.72                0.3862                       5.06   \n",
       "485253                  4.70                0.1667                       4.85   \n",
       "485252                  4.30                   NaN                       6.10   \n",
       "485251                  4.62                0.1302                       5.26   \n",
       "485250                  4.49                0.1079                       4.97   \n",
       "\n",
       "        position   price_usd  promotion_flag  srch_destination_id  \\\n",
       "485256       NaN   76.820000               1                14083   \n",
       "485253       NaN   84.209999               0                14083   \n",
       "485252       NaN  293.579987               0                14083   \n",
       "485251       NaN  433.390015               1                14083   \n",
       "485250       NaN   74.199997               0                14083   \n",
       "\n",
       "        srch_length_of_stay  srch_booking_window  srch_adults_count  \\\n",
       "485256                    2                   16                  1   \n",
       "485253                    2                   16                  1   \n",
       "485252                    2                   16                  1   \n",
       "485251                    2                   16                  1   \n",
       "485250                    2                   16                  1   \n",
       "\n",
       "        srch_children_count  srch_room_count  srch_saturday_night_bool  \\\n",
       "485256                    0                1                         1   \n",
       "485253                    0                1                         1   \n",
       "485252                    0                1                         1   \n",
       "485251                    0                1                         1   \n",
       "485250                    0                1                         1   \n",
       "\n",
       "        srch_query_affinity_score  orig_destination_distance  random_bool  \\\n",
       "485256                        NaN                        NaN            0   \n",
       "485253                        NaN                        NaN            0   \n",
       "485252                        NaN                        NaN            0   \n",
       "485251                        NaN                        NaN            0   \n",
       "485250                        NaN                        NaN            0   \n",
       "\n",
       "        comp3_rate_percent_diff  click_bool  gross_bookings_usd  booking_bool  \\\n",
       "485256                      NaN         NaN                 NaN           NaN   \n",
       "485253                      NaN         NaN                 NaN           NaN   \n",
       "485252                      NaN         NaN                 NaN           NaN   \n",
       "485251                      3.0         NaN                 NaN           NaN   \n",
       "485250                      NaN         NaN                 NaN           NaN   \n",
       "\n",
       "         test    val  train  subm  price_per_day  price_per_trip  \\\n",
       "485256  False  False  False  True      76.820000      153.639999   \n",
       "485253  False  False  False  True      84.209999      168.419998   \n",
       "485252  False  False  False  True     293.579987      587.159973   \n",
       "485251  False  False  False  True     433.390015      866.780029   \n",
       "485250  False  False  False  True      74.199997      148.399994   \n",
       "\n",
       "        date_time_ordinal  prop_location_score_diff  prop_location_score_sum  \\\n",
       "485256                  1                    4.3338                   5.1062   \n",
       "485253                  1                    4.5333                   4.8667   \n",
       "485252                  1                       NaN                      NaN   \n",
       "485251                  1                    4.4898                   4.7502   \n",
       "485250                  1                    4.3821                   4.5979   \n",
       "\n",
       "        prop_location_score_mul  prop_location_score_diff_log  \\\n",
       "485256                 1.822864                      6.092576   \n",
       "485253                 0.783490                      7.284665   \n",
       "485252                      NaN                           NaN   \n",
       "485251                 0.601524                      7.561187   \n",
       "485250                 0.484471                      7.702220   \n",
       "\n",
       "        prop_location_score_sum_log  prop_location_score_mul_log  \\\n",
       "485256                     3.347424                    -6.478559   \n",
       "485253                     2.115335                   -12.147926   \n",
       "485252                          NaN                          NaN   \n",
       "485251                     1.678812                   -13.588286   \n",
       "485250                     1.277780                   -14.422866   \n",
       "\n",
       "        ratio_of_comp_with_lower_price_than_expedia  \\\n",
       "485256                                          NaN   \n",
       "485253                                          NaN   \n",
       "485252                                          NaN   \n",
       "485251                                          NaN   \n",
       "485250                                          NaN   \n",
       "\n",
       "        comp5_rate_percent_diff_signed  comp8_rate_percent_diff_signed  \n",
       "485256                            <NA>                            <NA>  \n",
       "485253                             0.0                            <NA>  \n",
       "485252                            <NA>                            <NA>  \n",
       "485251                             2.0                            <NA>  \n",
       "485250                             NaN                            <NA>  "
      ]
     },
     "execution_count": 63,
     "metadata": {},
     "output_type": "execute_result"
    }
   ],
   "source": [
    "df.head()"
   ]
  },
  {
   "cell_type": "code",
   "execution_count": 64,
   "id": "627ce6f3",
   "metadata": {
    "ExecuteTime": {
     "end_time": "2022-05-28T13:37:50.395023Z",
     "start_time": "2022-05-28T13:37:50.362020Z"
    }
   },
   "outputs": [
    {
     "data": {
      "text/plain": [
       "(8526686, 47)"
      ]
     },
     "execution_count": 64,
     "metadata": {},
     "output_type": "execute_result"
    }
   ],
   "source": [
    "df.shape"
   ]
  },
  {
   "cell_type": "markdown",
   "id": "1d8d52f2",
   "metadata": {},
   "source": [
    "## Money features"
   ]
  },
  {
   "cell_type": "markdown",
   "id": "a2d317cb",
   "metadata": {},
   "source": [
    "### Money transformations"
   ]
  },
  {
   "cell_type": "code",
   "execution_count": 65,
   "id": "358822ec",
   "metadata": {
    "ExecuteTime": {
     "end_time": "2022-05-28T13:37:50.559957Z",
     "start_time": "2022-05-28T13:37:50.398765Z"
    }
   },
   "outputs": [],
   "source": [
    "df = num_transformations(df,\n",
    "                         [\n",
    "#                              'price_usd', \n",
    "                          'price_per_day'],\n",
    "                         powers=[2, 3],\n",
    "                         log_bases=[10])"
   ]
  },
  {
   "cell_type": "code",
   "execution_count": 66,
   "id": "bf32b279",
   "metadata": {
    "ExecuteTime": {
     "end_time": "2022-05-28T13:37:50.599712Z",
     "start_time": "2022-05-28T13:37:50.562287Z"
    }
   },
   "outputs": [],
   "source": [
    "# df = num_transformations(df,\n",
    "#                          [\n",
    "# #                              'visitor_hist_adr_usd',\n",
    "# #                           'price_per_trip'\n",
    "#                          ],\n",
    "#                          powers=[0.33, 0.5, 2, 3],\n",
    "#                          log_bases=[2, 10, round(np.e, 2)])"
   ]
  },
  {
   "cell_type": "code",
   "execution_count": 67,
   "id": "7a5ed7a4",
   "metadata": {
    "ExecuteTime": {
     "end_time": "2022-05-28T13:37:50.778033Z",
     "start_time": "2022-05-28T13:37:50.601606Z"
    }
   },
   "outputs": [],
   "source": [
    "df = num_transformations(df, ['prop_log_historical_price'],\n",
    "                         powers=[0.33],\n",
    "                         log_bases=[10],\n",
    "                         do_exp=False)"
   ]
  },
  {
   "cell_type": "markdown",
   "id": "3dcf40fb",
   "metadata": {},
   "source": [
    "**prop_log_historical_price** - The logarithm of the mean price of the hotel over the last trading period. A 0 will occur if the hotel was not sold in that period.  "
   ]
  },
  {
   "cell_type": "code",
   "execution_count": 68,
   "id": "96bce4f4",
   "metadata": {
    "ExecuteTime": {
     "end_time": "2022-05-28T13:37:50.829852Z",
     "start_time": "2022-05-28T13:37:50.779797Z"
    }
   },
   "outputs": [],
   "source": [
    "df['prop_historical_price'] = np.exp(df['prop_log_historical_price'])"
   ]
  },
  {
   "cell_type": "markdown",
   "id": "399971c7",
   "metadata": {},
   "source": [
    "**visitor_hist_adr_usd** - The mean price per night (in US$) of the hotels the customer has previously purchased; null signifies there is no purchase history on the customer  \n",
    "\n",
    "**price_usd** - Displayed price of the hotel for the given search.  Note that different countries have different conventions regarding displaying taxes and fees and the value may be per night or for the whole stay"
   ]
  },
  {
   "cell_type": "code",
   "execution_count": 69,
   "id": "d916c4ca",
   "metadata": {
    "ExecuteTime": {
     "end_time": "2022-05-28T13:37:51.108722Z",
     "start_time": "2022-05-28T13:37:50.843782Z"
    }
   },
   "outputs": [],
   "source": [
    "df['price_diff_to_usr_hist'] = df['price_usd'] - df['visitor_hist_adr_usd']\n",
    "df['price_ratio_to_usr_hist'] = df['price_usd'] / (df['visitor_hist_adr_usd'] + 1e-2)\n",
    "\n",
    "df['price_per_day_diff_to_usr_hist'] = df['price_per_day'] - df['visitor_hist_adr_usd']\n",
    "df['price_per_day_ratio_to_usr_hist'] = df['price_per_day'] / (df['visitor_hist_adr_usd'] + 1e-2)\n",
    "\n",
    "df['price_per_trip_diff_to_usr_hist'] = df['price_per_trip'] - df['visitor_hist_adr_usd']\n",
    "df['price_per_trip_ratio_to_usr_hist'] = df['price_per_trip'] / (df['visitor_hist_adr_usd'] + 1e-2)\n",
    "\n",
    "df['price_diff_to_place_hist_price'] = df['price_usd'] - np.exp(df['prop_log_historical_price'])\n",
    "df['price_per_day_diff_to_place_hist_price'] = df['price_per_day'] - np.exp(df['prop_log_historical_price'])\n",
    "df['price_per_trip_diff_to_place_hist_price'] = df['price_per_trip'] - np.exp(df['prop_log_historical_price'])\n",
    "df['place_hist_price_diff_usr_hist'] = np.exp(df['prop_log_historical_price']) - df['visitor_hist_adr_usd']"
   ]
  },
  {
   "cell_type": "code",
   "execution_count": 70,
   "id": "b30c9962",
   "metadata": {
    "ExecuteTime": {
     "end_time": "2022-05-28T13:37:51.145160Z",
     "start_time": "2022-05-28T13:37:51.116165Z"
    },
    "scrolled": true
   },
   "outputs": [],
   "source": [
    "# totally missed in submission df\n",
    "# df['usr_extra_pay'] = df['gross_bookings_usd'] - df['price_usd']"
   ]
  },
  {
   "cell_type": "markdown",
   "id": "39180d97",
   "metadata": {},
   "source": [
    "## Stars"
   ]
  },
  {
   "cell_type": "markdown",
   "id": "29eaf204",
   "metadata": {},
   "source": [
    "**visitor_hist_starrating** - The mean star rating of hotels the customer has previously purchased; null signifies there is no purchase history on the customer\n",
    "\n",
    "**prop_starrating** - The star rating of the hotel, from 1 to 5, in increments of 1.  A 0 indicates the property has no stars, the star rating is not known or cannot be publicized.\n",
    "\n",
    "**prop_review_score** - The mean customer review score for the hotel on a scale out of 5, rounded to 0.5 increments. A 0 means there have been no reviews, null that the information is not available."
   ]
  },
  {
   "cell_type": "code",
   "execution_count": 71,
   "id": "442b2aa5",
   "metadata": {
    "ExecuteTime": {
     "end_time": "2022-05-28T13:37:51.250944Z",
     "start_time": "2022-05-28T13:37:51.147648Z"
    }
   },
   "outputs": [],
   "source": [
    "df['prop_star_usr_hist_diff'] = df['prop_starrating'] - df['visitor_hist_starrating']\n",
    "df['prop_review_usr_hist_diff'] = df['prop_review_score'] - df['visitor_hist_starrating']\n",
    "\n",
    "df['prop_starrating_bonus_chain'] = df['prop_starrating'] + df['prop_brand_bool']"
   ]
  },
  {
   "cell_type": "code",
   "execution_count": 72,
   "id": "2464e390",
   "metadata": {
    "ExecuteTime": {
     "end_time": "2022-05-28T13:39:41.041151Z",
     "start_time": "2022-05-28T13:37:51.253305Z"
    },
    "scrolled": true
   },
   "outputs": [
    {
     "data": {
      "application/vnd.jupyter.widget-view+json": {
       "model_id": "a2f1944b25dc4f1a95c1fc0694b92856",
       "version_major": 2,
       "version_minor": 0
      },
      "text/plain": [
       "VBox(children=(HBox(children=(IntProgress(value=0, description='0.00%', max=2131672), Label(value='0 / 2131672…"
      ]
     },
     "metadata": {},
     "output_type": "display_data"
    },
    {
     "data": {
      "application/vnd.jupyter.widget-view+json": {
       "model_id": "2cfb0d79e1d94880ac6bd3fc20928731",
       "version_major": 2,
       "version_minor": 0
      },
      "text/plain": [
       "VBox(children=(HBox(children=(IntProgress(value=0, description='0.00%', max=2131672), Label(value='0 / 2131672…"
      ]
     },
     "metadata": {},
     "output_type": "display_data"
    },
    {
     "data": {
      "application/vnd.jupyter.widget-view+json": {
       "model_id": "8466a82b1d314fc98f8d5c010ae21a39",
       "version_major": 2,
       "version_minor": 0
      },
      "text/plain": [
       "VBox(children=(HBox(children=(IntProgress(value=0, description='0.00%', max=2131672), Label(value='0 / 2131672…"
      ]
     },
     "metadata": {},
     "output_type": "display_data"
    }
   ],
   "source": [
    "df['prop_star_review_sum'] = df['prop_starrating'] + df['prop_review_score']\n",
    "df['prop_star_review_diff'] = df['prop_starrating'] - df['prop_review_score']\n",
    "df['prop_star_review_min'] = df[['prop_starrating', 'prop_review_score']].parallel_apply(min, axis=1)\n",
    "df['prop_star_review_max'] = df[['prop_starrating', 'prop_review_score']].parallel_apply(max, axis=1)\n",
    "df['prop_star_review_mean'] = df[['prop_starrating', 'prop_review_score']].parallel_apply(np.mean, axis=1)"
   ]
  },
  {
   "cell_type": "markdown",
   "id": "91fe5529",
   "metadata": {},
   "source": [
    "### Price\\star"
   ]
  },
  {
   "cell_type": "code",
   "execution_count": 73,
   "id": "32192ee2",
   "metadata": {
    "ExecuteTime": {
     "end_time": "2022-05-28T13:39:41.147253Z",
     "start_time": "2022-05-28T13:39:41.044589Z"
    }
   },
   "outputs": [],
   "source": [
    "df['price_per_star'] = df['price_per_day'] / (df['prop_starrating'] + 1e-6)\n",
    "df['price_per_review_score'] = df['price_per_day'] / (df['prop_review_score'] + 1e-6)\n",
    "\n",
    "# df['usr_price_per_star'] = df['visitor_hist_adr_usd'] / df['visitor_hist_starrating']\n",
    "\n",
    "# df['price_per_star_diff_with_usr'] = df['price_per_star'] - df['usr_price_per_star']\n",
    "# df['price_per_review_diff_with_usr'] = df['price_per_review_score'] - df['usr_price_per_star']"
   ]
  },
  {
   "cell_type": "code",
   "execution_count": 74,
   "id": "3647251a",
   "metadata": {
    "ExecuteTime": {
     "end_time": "2022-05-28T13:39:41.354169Z",
     "start_time": "2022-05-28T13:39:41.149884Z"
    }
   },
   "outputs": [],
   "source": [
    "df = num_transformations(df,\n",
    "                         ['price_per_star', 'price_per_review_score', \n",
    "#                           'usr_price_per_star'\n",
    "                         ],\n",
    "                         powers=[],\n",
    "                         log_bases=[10], \n",
    "                         do_reciprocal=False,\n",
    "                         do_exp=False)"
   ]
  },
  {
   "cell_type": "code",
   "execution_count": 75,
   "id": "0e7a0f64",
   "metadata": {
    "ExecuteTime": {
     "end_time": "2022-05-28T13:39:41.413642Z",
     "start_time": "2022-05-28T13:39:41.357363Z"
    }
   },
   "outputs": [
    {
     "data": {
      "text/html": [
       "<div>\n",
       "<style scoped>\n",
       "    .dataframe tbody tr th:only-of-type {\n",
       "        vertical-align: middle;\n",
       "    }\n",
       "\n",
       "    .dataframe tbody tr th {\n",
       "        vertical-align: top;\n",
       "    }\n",
       "\n",
       "    .dataframe thead th {\n",
       "        text-align: right;\n",
       "    }\n",
       "</style>\n",
       "<table border=\"1\" class=\"dataframe\">\n",
       "  <thead>\n",
       "    <tr style=\"text-align: right;\">\n",
       "      <th></th>\n",
       "      <th>srch_id</th>\n",
       "      <th>date_time</th>\n",
       "      <th>site_id</th>\n",
       "      <th>visitor_location_country_id</th>\n",
       "      <th>visitor_hist_starrating</th>\n",
       "      <th>visitor_hist_adr_usd</th>\n",
       "      <th>prop_country_id</th>\n",
       "      <th>prop_id</th>\n",
       "      <th>prop_starrating</th>\n",
       "      <th>prop_review_score</th>\n",
       "      <th>prop_brand_bool</th>\n",
       "      <th>prop_location_score1</th>\n",
       "      <th>prop_location_score2</th>\n",
       "      <th>prop_log_historical_price</th>\n",
       "      <th>position</th>\n",
       "      <th>price_usd</th>\n",
       "      <th>promotion_flag</th>\n",
       "      <th>srch_destination_id</th>\n",
       "      <th>srch_length_of_stay</th>\n",
       "      <th>srch_booking_window</th>\n",
       "      <th>srch_adults_count</th>\n",
       "      <th>srch_children_count</th>\n",
       "      <th>srch_room_count</th>\n",
       "      <th>srch_saturday_night_bool</th>\n",
       "      <th>srch_query_affinity_score</th>\n",
       "      <th>orig_destination_distance</th>\n",
       "      <th>random_bool</th>\n",
       "      <th>comp3_rate_percent_diff</th>\n",
       "      <th>click_bool</th>\n",
       "      <th>gross_bookings_usd</th>\n",
       "      <th>booking_bool</th>\n",
       "      <th>test</th>\n",
       "      <th>val</th>\n",
       "      <th>train</th>\n",
       "      <th>subm</th>\n",
       "      <th>price_per_day</th>\n",
       "      <th>price_per_trip</th>\n",
       "      <th>date_time_ordinal</th>\n",
       "      <th>prop_location_score_diff</th>\n",
       "      <th>prop_location_score_sum</th>\n",
       "      <th>prop_location_score_mul</th>\n",
       "      <th>prop_location_score_diff_log</th>\n",
       "      <th>prop_location_score_sum_log</th>\n",
       "      <th>prop_location_score_mul_log</th>\n",
       "      <th>ratio_of_comp_with_lower_price_than_expedia</th>\n",
       "      <th>comp5_rate_percent_diff_signed</th>\n",
       "      <th>comp8_rate_percent_diff_signed</th>\n",
       "      <th>price_per_day_pow_2</th>\n",
       "      <th>price_per_day_log_10</th>\n",
       "      <th>price_per_day_reciprocal</th>\n",
       "      <th>prop_log_historical_price_pow_0.33</th>\n",
       "      <th>prop_log_historical_price_log_10</th>\n",
       "      <th>prop_log_historical_price_reciprocal</th>\n",
       "      <th>prop_historical_price</th>\n",
       "      <th>price_diff_to_usr_hist</th>\n",
       "      <th>price_ratio_to_usr_hist</th>\n",
       "      <th>price_per_day_diff_to_usr_hist</th>\n",
       "      <th>price_per_day_ratio_to_usr_hist</th>\n",
       "      <th>price_per_trip_diff_to_usr_hist</th>\n",
       "      <th>price_per_trip_ratio_to_usr_hist</th>\n",
       "      <th>price_diff_to_place_hist_price</th>\n",
       "      <th>price_per_day_diff_to_place_hist_price</th>\n",
       "      <th>price_per_trip_diff_to_place_hist_price</th>\n",
       "      <th>place_hist_price_diff_usr_hist</th>\n",
       "      <th>prop_star_usr_hist_diff</th>\n",
       "      <th>prop_review_usr_hist_diff</th>\n",
       "      <th>prop_starrating_bonus_chain</th>\n",
       "      <th>prop_star_review_sum</th>\n",
       "      <th>prop_star_review_diff</th>\n",
       "      <th>prop_star_review_min</th>\n",
       "      <th>prop_star_review_max</th>\n",
       "      <th>prop_star_review_mean</th>\n",
       "      <th>price_per_star</th>\n",
       "      <th>price_per_review_score</th>\n",
       "      <th>price_per_star_log_10</th>\n",
       "      <th>price_per_review_score_log_10</th>\n",
       "    </tr>\n",
       "  </thead>\n",
       "  <tbody>\n",
       "    <tr>\n",
       "      <th>485256</th>\n",
       "      <td>32491</td>\n",
       "      <td>2012-11-01 00:01:37</td>\n",
       "      <td>24</td>\n",
       "      <td>216</td>\n",
       "      <td>NaN</td>\n",
       "      <td>NaN</td>\n",
       "      <td>225</td>\n",
       "      <td>84277</td>\n",
       "      <td>4.0</td>\n",
       "      <td>3.5</td>\n",
       "      <td>0</td>\n",
       "      <td>4.72</td>\n",
       "      <td>0.3862</td>\n",
       "      <td>5.06</td>\n",
       "      <td>NaN</td>\n",
       "      <td>76.820000</td>\n",
       "      <td>1</td>\n",
       "      <td>14083</td>\n",
       "      <td>2</td>\n",
       "      <td>16</td>\n",
       "      <td>1</td>\n",
       "      <td>0</td>\n",
       "      <td>1</td>\n",
       "      <td>1</td>\n",
       "      <td>NaN</td>\n",
       "      <td>NaN</td>\n",
       "      <td>0</td>\n",
       "      <td>NaN</td>\n",
       "      <td>NaN</td>\n",
       "      <td>NaN</td>\n",
       "      <td>NaN</td>\n",
       "      <td>False</td>\n",
       "      <td>False</td>\n",
       "      <td>False</td>\n",
       "      <td>True</td>\n",
       "      <td>76.820000</td>\n",
       "      <td>153.639999</td>\n",
       "      <td>1</td>\n",
       "      <td>4.3338</td>\n",
       "      <td>5.1062</td>\n",
       "      <td>1.822864</td>\n",
       "      <td>6.092576</td>\n",
       "      <td>3.347424</td>\n",
       "      <td>-6.478559</td>\n",
       "      <td>NaN</td>\n",
       "      <td>&lt;NA&gt;</td>\n",
       "      <td>&lt;NA&gt;</td>\n",
       "      <td>5901.31250</td>\n",
       "      <td>1.885474</td>\n",
       "      <td>0.013017</td>\n",
       "      <td>1.707535</td>\n",
       "      <td>0.704151</td>\n",
       "      <td>0.197628</td>\n",
       "      <td>157.590500</td>\n",
       "      <td>NaN</td>\n",
       "      <td>NaN</td>\n",
       "      <td>NaN</td>\n",
       "      <td>NaN</td>\n",
       "      <td>NaN</td>\n",
       "      <td>NaN</td>\n",
       "      <td>-80.770500</td>\n",
       "      <td>-80.770500</td>\n",
       "      <td>-3.950500</td>\n",
       "      <td>NaN</td>\n",
       "      <td>NaN</td>\n",
       "      <td>NaN</td>\n",
       "      <td>4.0</td>\n",
       "      <td>7.5</td>\n",
       "      <td>0.5</td>\n",
       "      <td>3.5</td>\n",
       "      <td>4.0</td>\n",
       "      <td>3.75</td>\n",
       "      <td>19.204995</td>\n",
       "      <td>21.948565</td>\n",
       "      <td>1.283414</td>\n",
       "      <td>1.341406</td>\n",
       "    </tr>\n",
       "    <tr>\n",
       "      <th>485253</th>\n",
       "      <td>32491</td>\n",
       "      <td>2012-11-01 00:01:37</td>\n",
       "      <td>24</td>\n",
       "      <td>216</td>\n",
       "      <td>NaN</td>\n",
       "      <td>NaN</td>\n",
       "      <td>225</td>\n",
       "      <td>69323</td>\n",
       "      <td>3.0</td>\n",
       "      <td>4.5</td>\n",
       "      <td>0</td>\n",
       "      <td>4.70</td>\n",
       "      <td>0.1667</td>\n",
       "      <td>4.85</td>\n",
       "      <td>NaN</td>\n",
       "      <td>84.209999</td>\n",
       "      <td>0</td>\n",
       "      <td>14083</td>\n",
       "      <td>2</td>\n",
       "      <td>16</td>\n",
       "      <td>1</td>\n",
       "      <td>0</td>\n",
       "      <td>1</td>\n",
       "      <td>1</td>\n",
       "      <td>NaN</td>\n",
       "      <td>NaN</td>\n",
       "      <td>0</td>\n",
       "      <td>NaN</td>\n",
       "      <td>NaN</td>\n",
       "      <td>NaN</td>\n",
       "      <td>NaN</td>\n",
       "      <td>False</td>\n",
       "      <td>False</td>\n",
       "      <td>False</td>\n",
       "      <td>True</td>\n",
       "      <td>84.209999</td>\n",
       "      <td>168.419998</td>\n",
       "      <td>1</td>\n",
       "      <td>4.5333</td>\n",
       "      <td>4.8667</td>\n",
       "      <td>0.783490</td>\n",
       "      <td>7.284665</td>\n",
       "      <td>2.115335</td>\n",
       "      <td>-12.147926</td>\n",
       "      <td>NaN</td>\n",
       "      <td>0.0</td>\n",
       "      <td>&lt;NA&gt;</td>\n",
       "      <td>7091.32373</td>\n",
       "      <td>1.925364</td>\n",
       "      <td>0.011875</td>\n",
       "      <td>1.683817</td>\n",
       "      <td>0.685742</td>\n",
       "      <td>0.206186</td>\n",
       "      <td>127.740387</td>\n",
       "      <td>NaN</td>\n",
       "      <td>NaN</td>\n",
       "      <td>NaN</td>\n",
       "      <td>NaN</td>\n",
       "      <td>NaN</td>\n",
       "      <td>NaN</td>\n",
       "      <td>-43.530388</td>\n",
       "      <td>-43.530388</td>\n",
       "      <td>40.679611</td>\n",
       "      <td>NaN</td>\n",
       "      <td>NaN</td>\n",
       "      <td>NaN</td>\n",
       "      <td>3.0</td>\n",
       "      <td>7.5</td>\n",
       "      <td>-1.5</td>\n",
       "      <td>3.0</td>\n",
       "      <td>4.5</td>\n",
       "      <td>3.75</td>\n",
       "      <td>28.069990</td>\n",
       "      <td>18.713329</td>\n",
       "      <td>1.448242</td>\n",
       "      <td>1.272151</td>\n",
       "    </tr>\n",
       "  </tbody>\n",
       "</table>\n",
       "</div>"
      ],
      "text/plain": [
       "        srch_id           date_time  site_id  visitor_location_country_id  \\\n",
       "485256    32491 2012-11-01 00:01:37       24                          216   \n",
       "485253    32491 2012-11-01 00:01:37       24                          216   \n",
       "\n",
       "        visitor_hist_starrating  visitor_hist_adr_usd  prop_country_id  \\\n",
       "485256                      NaN                   NaN              225   \n",
       "485253                      NaN                   NaN              225   \n",
       "\n",
       "        prop_id  prop_starrating  prop_review_score  prop_brand_bool  \\\n",
       "485256    84277              4.0                3.5                0   \n",
       "485253    69323              3.0                4.5                0   \n",
       "\n",
       "        prop_location_score1  prop_location_score2  prop_log_historical_price  \\\n",
       "485256                  4.72                0.3862                       5.06   \n",
       "485253                  4.70                0.1667                       4.85   \n",
       "\n",
       "        position  price_usd  promotion_flag  srch_destination_id  \\\n",
       "485256       NaN  76.820000               1                14083   \n",
       "485253       NaN  84.209999               0                14083   \n",
       "\n",
       "        srch_length_of_stay  srch_booking_window  srch_adults_count  \\\n",
       "485256                    2                   16                  1   \n",
       "485253                    2                   16                  1   \n",
       "\n",
       "        srch_children_count  srch_room_count  srch_saturday_night_bool  \\\n",
       "485256                    0                1                         1   \n",
       "485253                    0                1                         1   \n",
       "\n",
       "        srch_query_affinity_score  orig_destination_distance  random_bool  \\\n",
       "485256                        NaN                        NaN            0   \n",
       "485253                        NaN                        NaN            0   \n",
       "\n",
       "        comp3_rate_percent_diff  click_bool  gross_bookings_usd  booking_bool  \\\n",
       "485256                      NaN         NaN                 NaN           NaN   \n",
       "485253                      NaN         NaN                 NaN           NaN   \n",
       "\n",
       "         test    val  train  subm  price_per_day  price_per_trip  \\\n",
       "485256  False  False  False  True      76.820000      153.639999   \n",
       "485253  False  False  False  True      84.209999      168.419998   \n",
       "\n",
       "        date_time_ordinal  prop_location_score_diff  prop_location_score_sum  \\\n",
       "485256                  1                    4.3338                   5.1062   \n",
       "485253                  1                    4.5333                   4.8667   \n",
       "\n",
       "        prop_location_score_mul  prop_location_score_diff_log  \\\n",
       "485256                 1.822864                      6.092576   \n",
       "485253                 0.783490                      7.284665   \n",
       "\n",
       "        prop_location_score_sum_log  prop_location_score_mul_log  \\\n",
       "485256                     3.347424                    -6.478559   \n",
       "485253                     2.115335                   -12.147926   \n",
       "\n",
       "        ratio_of_comp_with_lower_price_than_expedia  \\\n",
       "485256                                          NaN   \n",
       "485253                                          NaN   \n",
       "\n",
       "        comp5_rate_percent_diff_signed  comp8_rate_percent_diff_signed  \\\n",
       "485256                            <NA>                            <NA>   \n",
       "485253                             0.0                            <NA>   \n",
       "\n",
       "        price_per_day_pow_2  price_per_day_log_10  price_per_day_reciprocal  \\\n",
       "485256           5901.31250              1.885474                  0.013017   \n",
       "485253           7091.32373              1.925364                  0.011875   \n",
       "\n",
       "        prop_log_historical_price_pow_0.33  prop_log_historical_price_log_10  \\\n",
       "485256                            1.707535                          0.704151   \n",
       "485253                            1.683817                          0.685742   \n",
       "\n",
       "        prop_log_historical_price_reciprocal  prop_historical_price  \\\n",
       "485256                              0.197628             157.590500   \n",
       "485253                              0.206186             127.740387   \n",
       "\n",
       "        price_diff_to_usr_hist  price_ratio_to_usr_hist  \\\n",
       "485256                     NaN                      NaN   \n",
       "485253                     NaN                      NaN   \n",
       "\n",
       "        price_per_day_diff_to_usr_hist  price_per_day_ratio_to_usr_hist  \\\n",
       "485256                             NaN                              NaN   \n",
       "485253                             NaN                              NaN   \n",
       "\n",
       "        price_per_trip_diff_to_usr_hist  price_per_trip_ratio_to_usr_hist  \\\n",
       "485256                              NaN                               NaN   \n",
       "485253                              NaN                               NaN   \n",
       "\n",
       "        price_diff_to_place_hist_price  \\\n",
       "485256                      -80.770500   \n",
       "485253                      -43.530388   \n",
       "\n",
       "        price_per_day_diff_to_place_hist_price  \\\n",
       "485256                              -80.770500   \n",
       "485253                              -43.530388   \n",
       "\n",
       "        price_per_trip_diff_to_place_hist_price  \\\n",
       "485256                                -3.950500   \n",
       "485253                                40.679611   \n",
       "\n",
       "        place_hist_price_diff_usr_hist  prop_star_usr_hist_diff  \\\n",
       "485256                             NaN                      NaN   \n",
       "485253                             NaN                      NaN   \n",
       "\n",
       "        prop_review_usr_hist_diff  prop_starrating_bonus_chain  \\\n",
       "485256                        NaN                          4.0   \n",
       "485253                        NaN                          3.0   \n",
       "\n",
       "        prop_star_review_sum  prop_star_review_diff  prop_star_review_min  \\\n",
       "485256                   7.5                    0.5                   3.5   \n",
       "485253                   7.5                   -1.5                   3.0   \n",
       "\n",
       "        prop_star_review_max  prop_star_review_mean  price_per_star  \\\n",
       "485256                   4.0                   3.75       19.204995   \n",
       "485253                   4.5                   3.75       28.069990   \n",
       "\n",
       "        price_per_review_score  price_per_star_log_10  \\\n",
       "485256               21.948565               1.283414   \n",
       "485253               18.713329               1.448242   \n",
       "\n",
       "        price_per_review_score_log_10  \n",
       "485256                       1.341406  \n",
       "485253                       1.272151  "
      ]
     },
     "execution_count": 75,
     "metadata": {},
     "output_type": "execute_result"
    }
   ],
   "source": [
    "df.head(2)"
   ]
  },
  {
   "cell_type": "code",
   "execution_count": 76,
   "id": "6de5c51a",
   "metadata": {
    "ExecuteTime": {
     "end_time": "2022-05-28T13:39:41.465398Z",
     "start_time": "2022-05-28T13:39:41.415630Z"
    }
   },
   "outputs": [
    {
     "data": {
      "text/plain": [
       "(8526686, 76)"
      ]
     },
     "execution_count": 76,
     "metadata": {},
     "output_type": "execute_result"
    }
   ],
   "source": [
    "df.shape"
   ]
  },
  {
   "cell_type": "markdown",
   "id": "d6bc9646",
   "metadata": {},
   "source": [
    "## Days of staying"
   ]
  },
  {
   "cell_type": "markdown",
   "id": "6ea4bec3",
   "metadata": {},
   "source": [
    "**srch_length_of_stay** - Number of nights stay that was searched\n",
    "\n",
    "\n",
    "**srch_booking_window** - Number of days in the future the hotel stay started from the search date"
   ]
  },
  {
   "cell_type": "code",
   "execution_count": 77,
   "id": "a4e948c5",
   "metadata": {
    "ExecuteTime": {
     "end_time": "2022-05-28T13:39:41.605795Z",
     "start_time": "2022-05-28T13:39:41.467818Z"
    }
   },
   "outputs": [],
   "source": [
    "df['booking_weeks_ahead'] = df['srch_booking_window'] / 7\n",
    "# df['booking_months_ahead'] = df['srch_booking_window'] / 30\n",
    "\n",
    "df['len_of_stay_to_booking_ahead_ratio'] = df['srch_booking_window'] / df['srch_length_of_stay']\n",
    "# df['len_of_stay_to_booking_ahead_diff'] = df['srch_booking_window'] - df['srch_length_of_stay']"
   ]
  },
  {
   "cell_type": "code",
   "execution_count": 78,
   "id": "41a7a50c",
   "metadata": {
    "ExecuteTime": {
     "end_time": "2022-05-28T13:39:41.637486Z",
     "start_time": "2022-05-28T13:39:41.608299Z"
    }
   },
   "outputs": [],
   "source": [
    "# df['srch_length_of_stay_in_weeks'] = df['srch_length_of_stay'] // 7\n",
    "# df['srch_length_of_stay_in_weeks'].value_counts()"
   ]
  },
  {
   "cell_type": "markdown",
   "id": "995b9b71",
   "metadata": {},
   "source": [
    "### Calculate date of trip\n",
    "from: date_time + srch_booking_window\\\n",
    "until: date_time + srch_booking_window + srch_length_of_stay"
   ]
  },
  {
   "cell_type": "code",
   "execution_count": 79,
   "id": "35e30599",
   "metadata": {
    "ExecuteTime": {
     "end_time": "2022-05-28T13:39:47.772141Z",
     "start_time": "2022-05-28T13:39:41.639903Z"
    }
   },
   "outputs": [],
   "source": [
    "df['date'] = df['date_time'].dt.floor('D')\n",
    "df['days_until_trip'] = pd.to_timedelta(df['srch_booking_window'], unit='D')\n",
    "\n",
    "df['trip_start_date'] = df['date'] + df['days_until_trip']\n",
    "df['trip_end_date'] = df['date'] + df['days_until_trip'] + pd.to_timedelta(df['srch_length_of_stay'], unit='D')\n",
    "\n",
    "df.drop(['days_until_trip'], axis=1, inplace=True)"
   ]
  },
  {
   "cell_type": "code",
   "execution_count": 80,
   "id": "221b58e6",
   "metadata": {
    "ExecuteTime": {
     "end_time": "2022-05-28T13:40:28.507492Z",
     "start_time": "2022-05-28T13:39:47.774697Z"
    },
    "scrolled": true
   },
   "outputs": [
    {
     "data": {
      "application/vnd.jupyter.widget-view+json": {
       "model_id": "95a36e0f7256402f9c07615b7fb541d3",
       "version_major": 2,
       "version_minor": 0
      },
      "text/plain": [
       "VBox(children=(HBox(children=(IntProgress(value=0, description='0.00%', max=2131672), Label(value='0 / 2131672…"
      ]
     },
     "metadata": {},
     "output_type": "display_data"
    },
    {
     "data": {
      "application/vnd.jupyter.widget-view+json": {
       "model_id": "297c2090a0db4508b77a0f9f20791175",
       "version_major": 2,
       "version_minor": 0
      },
      "text/plain": [
       "VBox(children=(HBox(children=(IntProgress(value=0, description='0.00%', max=2131672), Label(value='0 / 2131672…"
      ]
     },
     "metadata": {},
     "output_type": "display_data"
    },
    {
     "data": {
      "text/html": [
       "<div>\n",
       "<style scoped>\n",
       "    .dataframe tbody tr th:only-of-type {\n",
       "        vertical-align: middle;\n",
       "    }\n",
       "\n",
       "    .dataframe tbody tr th {\n",
       "        vertical-align: top;\n",
       "    }\n",
       "\n",
       "    .dataframe thead th {\n",
       "        text-align: right;\n",
       "    }\n",
       "</style>\n",
       "<table border=\"1\" class=\"dataframe\">\n",
       "  <thead>\n",
       "    <tr style=\"text-align: right;\">\n",
       "      <th></th>\n",
       "      <th>trip_start_date_week</th>\n",
       "      <th>trip_start_date_week_mid_summer_index</th>\n",
       "      <th>trip_start_date_month</th>\n",
       "      <th>trip_start_date_days_in_month</th>\n",
       "      <th>trip_start_date_quarter</th>\n",
       "      <th>trip_start_date_season_num</th>\n",
       "      <th>trip_start_date_year</th>\n",
       "      <th>trip_start_date_week_id</th>\n",
       "    </tr>\n",
       "  </thead>\n",
       "  <tbody>\n",
       "    <tr>\n",
       "      <th>485256</th>\n",
       "      <td>46</td>\n",
       "      <td>8</td>\n",
       "      <td>11</td>\n",
       "      <td>30</td>\n",
       "      <td>4</td>\n",
       "      <td>4</td>\n",
       "      <td>2012</td>\n",
       "      <td>201246</td>\n",
       "    </tr>\n",
       "    <tr>\n",
       "      <th>485253</th>\n",
       "      <td>46</td>\n",
       "      <td>8</td>\n",
       "      <td>11</td>\n",
       "      <td>30</td>\n",
       "      <td>4</td>\n",
       "      <td>4</td>\n",
       "      <td>2012</td>\n",
       "      <td>201246</td>\n",
       "    </tr>\n",
       "  </tbody>\n",
       "</table>\n",
       "</div>"
      ],
      "text/plain": [
       "        trip_start_date_week  trip_start_date_week_mid_summer_index  \\\n",
       "485256                    46                                      8   \n",
       "485253                    46                                      8   \n",
       "\n",
       "        trip_start_date_month  trip_start_date_days_in_month  \\\n",
       "485256                     11                             30   \n",
       "485253                     11                             30   \n",
       "\n",
       "        trip_start_date_quarter  trip_start_date_season_num  \\\n",
       "485256                        4                           4   \n",
       "485253                        4                           4   \n",
       "\n",
       "        trip_start_date_year  trip_start_date_week_id  \n",
       "485256                  2012                   201246  \n",
       "485253                  2012                   201246  "
      ]
     },
     "execution_count": 80,
     "metadata": {},
     "output_type": "execute_result"
    }
   ],
   "source": [
    "trip_start = get_time_features(deepcopy(df[['trip_start_date']]), time_col='trip_start_date', \n",
    "                               prefix='trip_start_date_', \n",
    "                               within_hour_features=False, hour_features=False,\n",
    "                               day_features=False, week_features=True, month_features=True, \n",
    "                               season_features=True, year_features=True)\n",
    "trip_start.drop('trip_start_date', axis=1, inplace=True)\n",
    "# trip_start.drop([c for c in trip_start.columns if 'week' not in c], axis=1, inplace=True)\n",
    "trip_start.head(2)"
   ]
  },
  {
   "cell_type": "code",
   "execution_count": 81,
   "id": "dbf82e81",
   "metadata": {
    "ExecuteTime": {
     "end_time": "2022-05-28T13:41:09.127492Z",
     "start_time": "2022-05-28T13:40:28.510111Z"
    }
   },
   "outputs": [
    {
     "data": {
      "application/vnd.jupyter.widget-view+json": {
       "model_id": "4ed08747c8c04b599f6bfab3433d9102",
       "version_major": 2,
       "version_minor": 0
      },
      "text/plain": [
       "VBox(children=(HBox(children=(IntProgress(value=0, description='0.00%', max=2131672), Label(value='0 / 2131672…"
      ]
     },
     "metadata": {},
     "output_type": "display_data"
    },
    {
     "data": {
      "application/vnd.jupyter.widget-view+json": {
       "model_id": "9cd7dffe1a214b13bf0d21001a753aee",
       "version_major": 2,
       "version_minor": 0
      },
      "text/plain": [
       "VBox(children=(HBox(children=(IntProgress(value=0, description='0.00%', max=2131672), Label(value='0 / 2131672…"
      ]
     },
     "metadata": {},
     "output_type": "display_data"
    },
    {
     "data": {
      "text/html": [
       "<div>\n",
       "<style scoped>\n",
       "    .dataframe tbody tr th:only-of-type {\n",
       "        vertical-align: middle;\n",
       "    }\n",
       "\n",
       "    .dataframe tbody tr th {\n",
       "        vertical-align: top;\n",
       "    }\n",
       "\n",
       "    .dataframe thead th {\n",
       "        text-align: right;\n",
       "    }\n",
       "</style>\n",
       "<table border=\"1\" class=\"dataframe\">\n",
       "  <thead>\n",
       "    <tr style=\"text-align: right;\">\n",
       "      <th></th>\n",
       "      <th>trip_end_date_week</th>\n",
       "      <th>trip_end_date_week_mid_summer_index</th>\n",
       "      <th>trip_end_date_month</th>\n",
       "      <th>trip_end_date_days_in_month</th>\n",
       "      <th>trip_end_date_quarter</th>\n",
       "      <th>trip_end_date_season_num</th>\n",
       "      <th>trip_end_date_year</th>\n",
       "      <th>trip_end_date_week_id</th>\n",
       "    </tr>\n",
       "  </thead>\n",
       "  <tbody>\n",
       "    <tr>\n",
       "      <th>485256</th>\n",
       "      <td>47</td>\n",
       "      <td>7</td>\n",
       "      <td>11</td>\n",
       "      <td>30</td>\n",
       "      <td>4</td>\n",
       "      <td>4</td>\n",
       "      <td>2012</td>\n",
       "      <td>201247</td>\n",
       "    </tr>\n",
       "    <tr>\n",
       "      <th>485253</th>\n",
       "      <td>47</td>\n",
       "      <td>7</td>\n",
       "      <td>11</td>\n",
       "      <td>30</td>\n",
       "      <td>4</td>\n",
       "      <td>4</td>\n",
       "      <td>2012</td>\n",
       "      <td>201247</td>\n",
       "    </tr>\n",
       "  </tbody>\n",
       "</table>\n",
       "</div>"
      ],
      "text/plain": [
       "        trip_end_date_week  trip_end_date_week_mid_summer_index  \\\n",
       "485256                  47                                    7   \n",
       "485253                  47                                    7   \n",
       "\n",
       "        trip_end_date_month  trip_end_date_days_in_month  \\\n",
       "485256                   11                           30   \n",
       "485253                   11                           30   \n",
       "\n",
       "        trip_end_date_quarter  trip_end_date_season_num  trip_end_date_year  \\\n",
       "485256                      4                         4                2012   \n",
       "485253                      4                         4                2012   \n",
       "\n",
       "        trip_end_date_week_id  \n",
       "485256                 201247  \n",
       "485253                 201247  "
      ]
     },
     "execution_count": 81,
     "metadata": {},
     "output_type": "execute_result"
    }
   ],
   "source": [
    "trip_end = get_time_features(deepcopy(df[['trip_end_date']]), time_col='trip_end_date', \n",
    "                               prefix='trip_end_date_', \n",
    "                               within_hour_features=False, hour_features=False,\n",
    "                               day_features=False, week_features=True, month_features=True, \n",
    "                               season_features=True, year_features=True)\n",
    "trip_end.drop('trip_end_date', axis=1, inplace=True)\n",
    "# trip_end.drop([c for c in trip_end.columns if 'week' not in c], axis=1, inplace=True)\n",
    "trip_end.head(2)"
   ]
  },
  {
   "cell_type": "code",
   "execution_count": 82,
   "id": "8991be48",
   "metadata": {
    "ExecuteTime": {
     "end_time": "2022-05-28T13:41:13.650964Z",
     "start_time": "2022-05-28T13:41:09.130603Z"
    }
   },
   "outputs": [],
   "source": [
    "df = pd.concat([df, trip_start, trip_end], axis=1)"
   ]
  },
  {
   "cell_type": "code",
   "execution_count": 83,
   "id": "362cfff4",
   "metadata": {
    "ExecuteTime": {
     "end_time": "2022-05-28T13:41:13.686871Z",
     "start_time": "2022-05-28T13:41:13.653025Z"
    }
   },
   "outputs": [
    {
     "data": {
      "text/plain": [
       "(8526686, 97)"
      ]
     },
     "execution_count": 83,
     "metadata": {},
     "output_type": "execute_result"
    }
   ],
   "source": [
    "df.shape"
   ]
  },
  {
   "cell_type": "markdown",
   "id": "a9e78fe5",
   "metadata": {},
   "source": [
    "### Count holidays (work free day) during the trip"
   ]
  },
  {
   "cell_type": "code",
   "execution_count": 84,
   "id": "d861febd",
   "metadata": {
    "ExecuteTime": {
     "end_time": "2022-05-28T13:41:13.721791Z",
     "start_time": "2022-05-28T13:41:13.689344Z"
    },
    "code_folding": []
   },
   "outputs": [],
   "source": [
    "if HOLIDAY_DURING_TRIP_FEATURE:\n",
    "    cal = calendar()\n",
    "    # holidays = cal.holidays(start=min(df['trip_start_date']), end=max(df['trip_end_date']))\n",
    "\n",
    "    holidays = cal.holidays(start=min(df['trip_start_date']), end=max(df['trip_end_date']), return_name=True)\n",
    "   \n",
    "    df['holidays_during_trip'] = np.nan\n",
    "    # for holiday in holidays:\n",
    "    #     df['holidays_during_trip'] += (df['trip_start_date'] <= holiday) & (df['trip_end_date'] >= holiday)\n",
    "\n",
    "    for holiday in holidays.items():\n",
    "        print(holiday[0], holiday[1])\n",
    "        df.loc[(df['trip_start_date'] <= holiday[0]) & (df['trip_end_date'] >= holiday[0]), 'holiday_during_trip'] = holiday[1]"
   ]
  },
  {
   "cell_type": "code",
   "execution_count": 85,
   "id": "ef562cb8",
   "metadata": {
    "ExecuteTime": {
     "end_time": "2022-05-28T13:41:13.753872Z",
     "start_time": "2022-05-28T13:41:13.724257Z"
    }
   },
   "outputs": [],
   "source": [
    "if HOLIDAY_DURING_TRIP_FEATURE:\n",
    "    df['holiday_during_trip'].value_counts(dropna=False)"
   ]
  },
  {
   "cell_type": "markdown",
   "id": "8fbaf7c7",
   "metadata": {},
   "source": [
    "add some number of days before and after. weight them"
   ]
  },
  {
   "cell_type": "markdown",
   "id": "66a106c7",
   "metadata": {},
   "source": [
    "### Holidays during the day of booking"
   ]
  },
  {
   "cell_type": "code",
   "execution_count": 86,
   "id": "38ea3f63",
   "metadata": {
    "ExecuteTime": {
     "end_time": "2022-05-28T13:41:13.786943Z",
     "start_time": "2022-05-28T13:41:13.756161Z"
    },
    "code_folding": []
   },
   "outputs": [],
   "source": [
    "if HOLIDAY_DURING_BOOKING_FEATURE:\n",
    "    df['holiday_during_booking'] = np.nan\n",
    "\n",
    "    for holiday in holidays.items():\n",
    "        print(holiday[0], holiday[1])\n",
    "        df.loc[(df['date'] == holiday[0]), 'holiday_during_booking'] = holiday[1]        "
   ]
  },
  {
   "cell_type": "code",
   "execution_count": 87,
   "id": "12ebd0f0",
   "metadata": {
    "ExecuteTime": {
     "end_time": "2022-05-28T13:41:13.819697Z",
     "start_time": "2022-05-28T13:41:13.789498Z"
    }
   },
   "outputs": [],
   "source": [
    "if HOLIDAY_DURING_BOOKING_FEATURE:\n",
    "    df['holiday_during_booking'].value_counts(dropna=False)"
   ]
  },
  {
   "cell_type": "markdown",
   "id": "60ff2206",
   "metadata": {},
   "source": [
    "### Try to separate business trips from holidays\n",
    "\n",
    "sign for worktrip:\\\n",
    "srch_children_count = 0\\\n",
    "srch_adults_count = 1\\\n",
    "srch_saturday_night_bool = False\\\n",
    "srch_length_of_stay < avg\\\n",
    "orig_destination_distance < avg\\\n",
    "srch_booking_window < avg"
   ]
  },
  {
   "cell_type": "code",
   "execution_count": 88,
   "id": "b62348d7",
   "metadata": {
    "ExecuteTime": {
     "end_time": "2022-05-28T13:41:13.851024Z",
     "start_time": "2022-05-28T13:41:13.821967Z"
    }
   },
   "outputs": [],
   "source": [
    "# df['business_trip'] = False\n",
    "# df.loc[(df['srch_children_count'] == 0) & (df['srch_adults_count'] == 1) &\n",
    "#        (~df['srch_saturday_night_bool']) & (df['srch_length_of_stay'] <= 5), 'business_trip'] = True"
   ]
  },
  {
   "cell_type": "markdown",
   "id": "9101dd81",
   "metadata": {},
   "source": [
    "## Family"
   ]
  },
  {
   "cell_type": "markdown",
   "id": "3ab5ffd9",
   "metadata": {},
   "source": [
    "**srch_adults_count** - The number of adults specified in the hotel room\n",
    "\n",
    " \n",
    "**srch_children_count** - The number of (extra occupancy) children specified in the hotel room\n",
    "\n",
    " \n",
    "**srch_room_count** - Number of hotel rooms specified in the search"
   ]
  },
  {
   "cell_type": "code",
   "execution_count": 89,
   "id": "2aae3c34",
   "metadata": {
    "ExecuteTime": {
     "end_time": "2022-05-28T13:41:14.045829Z",
     "start_time": "2022-05-28T13:41:13.853202Z"
    }
   },
   "outputs": [],
   "source": [
    "df['children_per_adult'] = df['srch_children_count'] / df['srch_adults_count']\n",
    "df['total_people'] = df['srch_children_count'] + df['srch_adults_count']\n",
    "df['people_per_room'] = df['total_people'] / df['srch_room_count']\n",
    "\n",
    "df['separate_children_room'] = df['srch_children_count'] & (df['srch_room_count'] > 1)"
   ]
  },
  {
   "cell_type": "markdown",
   "id": "ebbbd545",
   "metadata": {},
   "source": [
    "## Normalize"
   ]
  },
  {
   "cell_type": "code",
   "execution_count": 90,
   "id": "52e7fd28",
   "metadata": {
    "ExecuteTime": {
     "end_time": "2022-05-28T13:41:14.087744Z",
     "start_time": "2022-05-28T13:41:14.048405Z"
    }
   },
   "outputs": [],
   "source": [
    "from features import normalize_features"
   ]
  },
  {
   "cell_type": "code",
   "execution_count": 91,
   "id": "5793cdfc",
   "metadata": {
    "ExecuteTime": {
     "end_time": "2022-05-28T13:41:19.022660Z",
     "start_time": "2022-05-28T13:41:14.090460Z"
    },
    "scrolled": false
   },
   "outputs": [
    {
     "data": {
      "text/plain": [
       "Series([], Name: price_usd, dtype: float32)"
      ]
     },
     "execution_count": 91,
     "metadata": {},
     "output_type": "execute_result"
    }
   ],
   "source": [
    "df[df['price_usd'] < 0]['price_usd']"
   ]
  },
  {
   "cell_type": "code",
   "execution_count": 92,
   "id": "30270ead",
   "metadata": {
    "ExecuteTime": {
     "end_time": "2022-05-28T13:42:06.928094Z",
     "start_time": "2022-05-28T13:41:19.024978Z"
    },
    "scrolled": true
   },
   "outputs": [
    {
     "data": {
      "text/html": [
       "<div>\n",
       "<style scoped>\n",
       "    .dataframe tbody tr th:only-of-type {\n",
       "        vertical-align: middle;\n",
       "    }\n",
       "\n",
       "    .dataframe tbody tr th {\n",
       "        vertical-align: top;\n",
       "    }\n",
       "\n",
       "    .dataframe thead th {\n",
       "        text-align: right;\n",
       "    }\n",
       "</style>\n",
       "<table border=\"1\" class=\"dataframe\">\n",
       "  <thead>\n",
       "    <tr style=\"text-align: right;\">\n",
       "      <th></th>\n",
       "      <th>srch_id</th>\n",
       "      <th>date_time</th>\n",
       "      <th>site_id</th>\n",
       "      <th>visitor_location_country_id</th>\n",
       "      <th>visitor_hist_starrating</th>\n",
       "      <th>visitor_hist_adr_usd</th>\n",
       "      <th>prop_country_id</th>\n",
       "      <th>prop_id</th>\n",
       "      <th>prop_starrating</th>\n",
       "      <th>prop_review_score</th>\n",
       "      <th>prop_brand_bool</th>\n",
       "      <th>prop_location_score1</th>\n",
       "      <th>prop_location_score2</th>\n",
       "      <th>prop_log_historical_price</th>\n",
       "      <th>position</th>\n",
       "      <th>price_usd</th>\n",
       "      <th>promotion_flag</th>\n",
       "      <th>srch_destination_id</th>\n",
       "      <th>srch_length_of_stay</th>\n",
       "      <th>srch_booking_window</th>\n",
       "      <th>srch_adults_count</th>\n",
       "      <th>srch_children_count</th>\n",
       "      <th>srch_room_count</th>\n",
       "      <th>srch_saturday_night_bool</th>\n",
       "      <th>srch_query_affinity_score</th>\n",
       "      <th>orig_destination_distance</th>\n",
       "      <th>random_bool</th>\n",
       "      <th>comp3_rate_percent_diff</th>\n",
       "      <th>click_bool</th>\n",
       "      <th>gross_bookings_usd</th>\n",
       "      <th>booking_bool</th>\n",
       "      <th>test</th>\n",
       "      <th>val</th>\n",
       "      <th>train</th>\n",
       "      <th>subm</th>\n",
       "      <th>price_per_day</th>\n",
       "      <th>price_per_trip</th>\n",
       "      <th>date_time_ordinal</th>\n",
       "      <th>prop_location_score_diff</th>\n",
       "      <th>prop_location_score_sum</th>\n",
       "      <th>prop_location_score_mul</th>\n",
       "      <th>prop_location_score_diff_log</th>\n",
       "      <th>prop_location_score_sum_log</th>\n",
       "      <th>prop_location_score_mul_log</th>\n",
       "      <th>ratio_of_comp_with_lower_price_than_expedia</th>\n",
       "      <th>comp5_rate_percent_diff_signed</th>\n",
       "      <th>comp8_rate_percent_diff_signed</th>\n",
       "      <th>price_per_day_pow_2</th>\n",
       "      <th>price_per_day_log_10</th>\n",
       "      <th>price_per_day_reciprocal</th>\n",
       "      <th>prop_log_historical_price_pow_0.33</th>\n",
       "      <th>prop_log_historical_price_log_10</th>\n",
       "      <th>prop_log_historical_price_reciprocal</th>\n",
       "      <th>prop_historical_price</th>\n",
       "      <th>price_diff_to_usr_hist</th>\n",
       "      <th>price_ratio_to_usr_hist</th>\n",
       "      <th>price_per_day_diff_to_usr_hist</th>\n",
       "      <th>price_per_day_ratio_to_usr_hist</th>\n",
       "      <th>price_per_trip_diff_to_usr_hist</th>\n",
       "      <th>price_per_trip_ratio_to_usr_hist</th>\n",
       "      <th>price_diff_to_place_hist_price</th>\n",
       "      <th>price_per_day_diff_to_place_hist_price</th>\n",
       "      <th>price_per_trip_diff_to_place_hist_price</th>\n",
       "      <th>place_hist_price_diff_usr_hist</th>\n",
       "      <th>prop_star_usr_hist_diff</th>\n",
       "      <th>prop_review_usr_hist_diff</th>\n",
       "      <th>prop_starrating_bonus_chain</th>\n",
       "      <th>prop_star_review_sum</th>\n",
       "      <th>prop_star_review_diff</th>\n",
       "      <th>prop_star_review_min</th>\n",
       "      <th>prop_star_review_max</th>\n",
       "      <th>prop_star_review_mean</th>\n",
       "      <th>price_per_star</th>\n",
       "      <th>price_per_review_score</th>\n",
       "      <th>price_per_star_log_10</th>\n",
       "      <th>price_per_review_score_log_10</th>\n",
       "      <th>booking_weeks_ahead</th>\n",
       "      <th>len_of_stay_to_booking_ahead_ratio</th>\n",
       "      <th>date</th>\n",
       "      <th>trip_start_date</th>\n",
       "      <th>trip_end_date</th>\n",
       "      <th>trip_start_date_week</th>\n",
       "      <th>trip_start_date_week_mid_summer_index</th>\n",
       "      <th>trip_start_date_month</th>\n",
       "      <th>trip_start_date_days_in_month</th>\n",
       "      <th>trip_start_date_quarter</th>\n",
       "      <th>trip_start_date_season_num</th>\n",
       "      <th>trip_start_date_year</th>\n",
       "      <th>trip_start_date_week_id</th>\n",
       "      <th>trip_end_date_week</th>\n",
       "      <th>trip_end_date_week_mid_summer_index</th>\n",
       "      <th>trip_end_date_month</th>\n",
       "      <th>trip_end_date_days_in_month</th>\n",
       "      <th>trip_end_date_quarter</th>\n",
       "      <th>trip_end_date_season_num</th>\n",
       "      <th>trip_end_date_year</th>\n",
       "      <th>trip_end_date_week_id</th>\n",
       "      <th>children_per_adult</th>\n",
       "      <th>total_people</th>\n",
       "      <th>people_per_room</th>\n",
       "      <th>separate_children_room</th>\n",
       "      <th>price_usd_log10_norm_by_srch_id</th>\n",
       "    </tr>\n",
       "  </thead>\n",
       "  <tbody>\n",
       "    <tr>\n",
       "      <th>0</th>\n",
       "      <td>32491</td>\n",
       "      <td>2012-11-01 00:01:37</td>\n",
       "      <td>24</td>\n",
       "      <td>216</td>\n",
       "      <td>NaN</td>\n",
       "      <td>NaN</td>\n",
       "      <td>225</td>\n",
       "      <td>84277</td>\n",
       "      <td>4.0</td>\n",
       "      <td>3.5</td>\n",
       "      <td>0</td>\n",
       "      <td>4.72</td>\n",
       "      <td>0.3862</td>\n",
       "      <td>5.06</td>\n",
       "      <td>NaN</td>\n",
       "      <td>76.820000</td>\n",
       "      <td>1</td>\n",
       "      <td>14083</td>\n",
       "      <td>2</td>\n",
       "      <td>16</td>\n",
       "      <td>1</td>\n",
       "      <td>0</td>\n",
       "      <td>1</td>\n",
       "      <td>1</td>\n",
       "      <td>NaN</td>\n",
       "      <td>NaN</td>\n",
       "      <td>0</td>\n",
       "      <td>NaN</td>\n",
       "      <td>NaN</td>\n",
       "      <td>NaN</td>\n",
       "      <td>NaN</td>\n",
       "      <td>False</td>\n",
       "      <td>False</td>\n",
       "      <td>False</td>\n",
       "      <td>True</td>\n",
       "      <td>76.820000</td>\n",
       "      <td>153.639999</td>\n",
       "      <td>1</td>\n",
       "      <td>4.3338</td>\n",
       "      <td>5.1062</td>\n",
       "      <td>1.822864</td>\n",
       "      <td>6.092576</td>\n",
       "      <td>3.347424</td>\n",
       "      <td>-6.478559</td>\n",
       "      <td>NaN</td>\n",
       "      <td>&lt;NA&gt;</td>\n",
       "      <td>&lt;NA&gt;</td>\n",
       "      <td>5901.31250</td>\n",
       "      <td>1.885474</td>\n",
       "      <td>0.013017</td>\n",
       "      <td>1.707535</td>\n",
       "      <td>0.704151</td>\n",
       "      <td>0.197628</td>\n",
       "      <td>157.590500</td>\n",
       "      <td>NaN</td>\n",
       "      <td>NaN</td>\n",
       "      <td>NaN</td>\n",
       "      <td>NaN</td>\n",
       "      <td>NaN</td>\n",
       "      <td>NaN</td>\n",
       "      <td>-80.770500</td>\n",
       "      <td>-80.770500</td>\n",
       "      <td>-3.950500</td>\n",
       "      <td>NaN</td>\n",
       "      <td>NaN</td>\n",
       "      <td>NaN</td>\n",
       "      <td>4.0</td>\n",
       "      <td>7.5</td>\n",
       "      <td>0.5</td>\n",
       "      <td>3.5</td>\n",
       "      <td>4.0</td>\n",
       "      <td>3.75</td>\n",
       "      <td>19.204995</td>\n",
       "      <td>21.948565</td>\n",
       "      <td>1.283414</td>\n",
       "      <td>1.341406</td>\n",
       "      <td>2.285714</td>\n",
       "      <td>8.0</td>\n",
       "      <td>2012-11-01</td>\n",
       "      <td>2012-11-17</td>\n",
       "      <td>2012-11-19</td>\n",
       "      <td>46</td>\n",
       "      <td>8</td>\n",
       "      <td>11</td>\n",
       "      <td>30</td>\n",
       "      <td>4</td>\n",
       "      <td>4</td>\n",
       "      <td>2012</td>\n",
       "      <td>201246</td>\n",
       "      <td>47</td>\n",
       "      <td>7</td>\n",
       "      <td>11</td>\n",
       "      <td>30</td>\n",
       "      <td>4</td>\n",
       "      <td>4</td>\n",
       "      <td>2012</td>\n",
       "      <td>201247</td>\n",
       "      <td>0.0</td>\n",
       "      <td>1</td>\n",
       "      <td>1.0</td>\n",
       "      <td>False</td>\n",
       "      <td>-0.824531</td>\n",
       "    </tr>\n",
       "    <tr>\n",
       "      <th>1</th>\n",
       "      <td>32491</td>\n",
       "      <td>2012-11-01 00:01:37</td>\n",
       "      <td>24</td>\n",
       "      <td>216</td>\n",
       "      <td>NaN</td>\n",
       "      <td>NaN</td>\n",
       "      <td>225</td>\n",
       "      <td>69323</td>\n",
       "      <td>3.0</td>\n",
       "      <td>4.5</td>\n",
       "      <td>0</td>\n",
       "      <td>4.70</td>\n",
       "      <td>0.1667</td>\n",
       "      <td>4.85</td>\n",
       "      <td>NaN</td>\n",
       "      <td>84.209999</td>\n",
       "      <td>0</td>\n",
       "      <td>14083</td>\n",
       "      <td>2</td>\n",
       "      <td>16</td>\n",
       "      <td>1</td>\n",
       "      <td>0</td>\n",
       "      <td>1</td>\n",
       "      <td>1</td>\n",
       "      <td>NaN</td>\n",
       "      <td>NaN</td>\n",
       "      <td>0</td>\n",
       "      <td>NaN</td>\n",
       "      <td>NaN</td>\n",
       "      <td>NaN</td>\n",
       "      <td>NaN</td>\n",
       "      <td>False</td>\n",
       "      <td>False</td>\n",
       "      <td>False</td>\n",
       "      <td>True</td>\n",
       "      <td>84.209999</td>\n",
       "      <td>168.419998</td>\n",
       "      <td>1</td>\n",
       "      <td>4.5333</td>\n",
       "      <td>4.8667</td>\n",
       "      <td>0.783490</td>\n",
       "      <td>7.284665</td>\n",
       "      <td>2.115335</td>\n",
       "      <td>-12.147926</td>\n",
       "      <td>NaN</td>\n",
       "      <td>0.0</td>\n",
       "      <td>&lt;NA&gt;</td>\n",
       "      <td>7091.32373</td>\n",
       "      <td>1.925364</td>\n",
       "      <td>0.011875</td>\n",
       "      <td>1.683817</td>\n",
       "      <td>0.685742</td>\n",
       "      <td>0.206186</td>\n",
       "      <td>127.740387</td>\n",
       "      <td>NaN</td>\n",
       "      <td>NaN</td>\n",
       "      <td>NaN</td>\n",
       "      <td>NaN</td>\n",
       "      <td>NaN</td>\n",
       "      <td>NaN</td>\n",
       "      <td>-43.530388</td>\n",
       "      <td>-43.530388</td>\n",
       "      <td>40.679611</td>\n",
       "      <td>NaN</td>\n",
       "      <td>NaN</td>\n",
       "      <td>NaN</td>\n",
       "      <td>3.0</td>\n",
       "      <td>7.5</td>\n",
       "      <td>-1.5</td>\n",
       "      <td>3.0</td>\n",
       "      <td>4.5</td>\n",
       "      <td>3.75</td>\n",
       "      <td>28.069990</td>\n",
       "      <td>18.713329</td>\n",
       "      <td>1.448242</td>\n",
       "      <td>1.272151</td>\n",
       "      <td>2.285714</td>\n",
       "      <td>8.0</td>\n",
       "      <td>2012-11-01</td>\n",
       "      <td>2012-11-17</td>\n",
       "      <td>2012-11-19</td>\n",
       "      <td>46</td>\n",
       "      <td>8</td>\n",
       "      <td>11</td>\n",
       "      <td>30</td>\n",
       "      <td>4</td>\n",
       "      <td>4</td>\n",
       "      <td>2012</td>\n",
       "      <td>201246</td>\n",
       "      <td>47</td>\n",
       "      <td>7</td>\n",
       "      <td>11</td>\n",
       "      <td>30</td>\n",
       "      <td>4</td>\n",
       "      <td>4</td>\n",
       "      <td>2012</td>\n",
       "      <td>201247</td>\n",
       "      <td>0.0</td>\n",
       "      <td>1</td>\n",
       "      <td>1.0</td>\n",
       "      <td>False</td>\n",
       "      <td>-0.671271</td>\n",
       "    </tr>\n",
       "  </tbody>\n",
       "</table>\n",
       "</div>"
      ],
      "text/plain": [
       "   srch_id           date_time  site_id  visitor_location_country_id  \\\n",
       "0    32491 2012-11-01 00:01:37       24                          216   \n",
       "1    32491 2012-11-01 00:01:37       24                          216   \n",
       "\n",
       "   visitor_hist_starrating  visitor_hist_adr_usd  prop_country_id  prop_id  \\\n",
       "0                      NaN                   NaN              225    84277   \n",
       "1                      NaN                   NaN              225    69323   \n",
       "\n",
       "   prop_starrating  prop_review_score  prop_brand_bool  prop_location_score1  \\\n",
       "0              4.0                3.5                0                  4.72   \n",
       "1              3.0                4.5                0                  4.70   \n",
       "\n",
       "   prop_location_score2  prop_log_historical_price  position  price_usd  \\\n",
       "0                0.3862                       5.06       NaN  76.820000   \n",
       "1                0.1667                       4.85       NaN  84.209999   \n",
       "\n",
       "   promotion_flag  srch_destination_id  srch_length_of_stay  \\\n",
       "0               1                14083                    2   \n",
       "1               0                14083                    2   \n",
       "\n",
       "   srch_booking_window  srch_adults_count  srch_children_count  \\\n",
       "0                   16                  1                    0   \n",
       "1                   16                  1                    0   \n",
       "\n",
       "   srch_room_count  srch_saturday_night_bool  srch_query_affinity_score  \\\n",
       "0                1                         1                        NaN   \n",
       "1                1                         1                        NaN   \n",
       "\n",
       "   orig_destination_distance  random_bool  comp3_rate_percent_diff  \\\n",
       "0                        NaN            0                      NaN   \n",
       "1                        NaN            0                      NaN   \n",
       "\n",
       "   click_bool  gross_bookings_usd  booking_bool   test    val  train  subm  \\\n",
       "0         NaN                 NaN           NaN  False  False  False  True   \n",
       "1         NaN                 NaN           NaN  False  False  False  True   \n",
       "\n",
       "   price_per_day  price_per_trip  date_time_ordinal  prop_location_score_diff  \\\n",
       "0      76.820000      153.639999                  1                    4.3338   \n",
       "1      84.209999      168.419998                  1                    4.5333   \n",
       "\n",
       "   prop_location_score_sum  prop_location_score_mul  \\\n",
       "0                   5.1062                 1.822864   \n",
       "1                   4.8667                 0.783490   \n",
       "\n",
       "   prop_location_score_diff_log  prop_location_score_sum_log  \\\n",
       "0                      6.092576                     3.347424   \n",
       "1                      7.284665                     2.115335   \n",
       "\n",
       "   prop_location_score_mul_log  ratio_of_comp_with_lower_price_than_expedia  \\\n",
       "0                    -6.478559                                          NaN   \n",
       "1                   -12.147926                                          NaN   \n",
       "\n",
       "   comp5_rate_percent_diff_signed  comp8_rate_percent_diff_signed  \\\n",
       "0                            <NA>                            <NA>   \n",
       "1                             0.0                            <NA>   \n",
       "\n",
       "   price_per_day_pow_2  price_per_day_log_10  price_per_day_reciprocal  \\\n",
       "0           5901.31250              1.885474                  0.013017   \n",
       "1           7091.32373              1.925364                  0.011875   \n",
       "\n",
       "   prop_log_historical_price_pow_0.33  prop_log_historical_price_log_10  \\\n",
       "0                            1.707535                          0.704151   \n",
       "1                            1.683817                          0.685742   \n",
       "\n",
       "   prop_log_historical_price_reciprocal  prop_historical_price  \\\n",
       "0                              0.197628             157.590500   \n",
       "1                              0.206186             127.740387   \n",
       "\n",
       "   price_diff_to_usr_hist  price_ratio_to_usr_hist  \\\n",
       "0                     NaN                      NaN   \n",
       "1                     NaN                      NaN   \n",
       "\n",
       "   price_per_day_diff_to_usr_hist  price_per_day_ratio_to_usr_hist  \\\n",
       "0                             NaN                              NaN   \n",
       "1                             NaN                              NaN   \n",
       "\n",
       "   price_per_trip_diff_to_usr_hist  price_per_trip_ratio_to_usr_hist  \\\n",
       "0                              NaN                               NaN   \n",
       "1                              NaN                               NaN   \n",
       "\n",
       "   price_diff_to_place_hist_price  price_per_day_diff_to_place_hist_price  \\\n",
       "0                      -80.770500                              -80.770500   \n",
       "1                      -43.530388                              -43.530388   \n",
       "\n",
       "   price_per_trip_diff_to_place_hist_price  place_hist_price_diff_usr_hist  \\\n",
       "0                                -3.950500                             NaN   \n",
       "1                                40.679611                             NaN   \n",
       "\n",
       "   prop_star_usr_hist_diff  prop_review_usr_hist_diff  \\\n",
       "0                      NaN                        NaN   \n",
       "1                      NaN                        NaN   \n",
       "\n",
       "   prop_starrating_bonus_chain  prop_star_review_sum  prop_star_review_diff  \\\n",
       "0                          4.0                   7.5                    0.5   \n",
       "1                          3.0                   7.5                   -1.5   \n",
       "\n",
       "   prop_star_review_min  prop_star_review_max  prop_star_review_mean  \\\n",
       "0                   3.5                   4.0                   3.75   \n",
       "1                   3.0                   4.5                   3.75   \n",
       "\n",
       "   price_per_star  price_per_review_score  price_per_star_log_10  \\\n",
       "0       19.204995               21.948565               1.283414   \n",
       "1       28.069990               18.713329               1.448242   \n",
       "\n",
       "   price_per_review_score_log_10  booking_weeks_ahead  \\\n",
       "0                       1.341406             2.285714   \n",
       "1                       1.272151             2.285714   \n",
       "\n",
       "   len_of_stay_to_booking_ahead_ratio       date trip_start_date  \\\n",
       "0                                 8.0 2012-11-01      2012-11-17   \n",
       "1                                 8.0 2012-11-01      2012-11-17   \n",
       "\n",
       "  trip_end_date  trip_start_date_week  trip_start_date_week_mid_summer_index  \\\n",
       "0    2012-11-19                    46                                      8   \n",
       "1    2012-11-19                    46                                      8   \n",
       "\n",
       "   trip_start_date_month  trip_start_date_days_in_month  \\\n",
       "0                     11                             30   \n",
       "1                     11                             30   \n",
       "\n",
       "   trip_start_date_quarter  trip_start_date_season_num  trip_start_date_year  \\\n",
       "0                        4                           4                  2012   \n",
       "1                        4                           4                  2012   \n",
       "\n",
       "   trip_start_date_week_id  trip_end_date_week  \\\n",
       "0                   201246                  47   \n",
       "1                   201246                  47   \n",
       "\n",
       "   trip_end_date_week_mid_summer_index  trip_end_date_month  \\\n",
       "0                                    7                   11   \n",
       "1                                    7                   11   \n",
       "\n",
       "   trip_end_date_days_in_month  trip_end_date_quarter  \\\n",
       "0                           30                      4   \n",
       "1                           30                      4   \n",
       "\n",
       "   trip_end_date_season_num  trip_end_date_year  trip_end_date_week_id  \\\n",
       "0                         4                2012                 201247   \n",
       "1                         4                2012                 201247   \n",
       "\n",
       "   children_per_adult  total_people  people_per_room  separate_children_room  \\\n",
       "0                 0.0             1              1.0                   False   \n",
       "1                 0.0             1              1.0                   False   \n",
       "\n",
       "   price_usd_log10_norm_by_srch_id  \n",
       "0                        -0.824531  \n",
       "1                        -0.671271  "
      ]
     },
     "execution_count": 92,
     "metadata": {},
     "output_type": "execute_result"
    }
   ],
   "source": [
    "df = normalize_features(df, group_key=\"srch_id\", \n",
    "                        target_column=\"price_usd\",\n",
    "                        take_log10=True,\n",
    "                       )\n",
    "df.head(2)"
   ]
  },
  {
   "cell_type": "code",
   "execution_count": 93,
   "id": "b6de83fd",
   "metadata": {
    "ExecuteTime": {
     "end_time": "2022-05-28T13:42:07.011578Z",
     "start_time": "2022-05-28T13:42:06.932865Z"
    }
   },
   "outputs": [
    {
     "data": {
      "text/plain": [
       "0.00010777927086795503"
      ]
     },
     "execution_count": 93,
     "metadata": {},
     "output_type": "execute_result"
    }
   ],
   "source": [
    "df['price_usd_log10_norm_by_srch_id'].isna().mean()"
   ]
  },
  {
   "cell_type": "code",
   "execution_count": 94,
   "id": "76490843",
   "metadata": {
    "ExecuteTime": {
     "end_time": "2022-05-28T13:43:12.684347Z",
     "start_time": "2022-05-28T13:42:07.016134Z"
    }
   },
   "outputs": [
    {
     "data": {
      "text/html": [
       "<div>\n",
       "<style scoped>\n",
       "    .dataframe tbody tr th:only-of-type {\n",
       "        vertical-align: middle;\n",
       "    }\n",
       "\n",
       "    .dataframe tbody tr th {\n",
       "        vertical-align: top;\n",
       "    }\n",
       "\n",
       "    .dataframe thead th {\n",
       "        text-align: right;\n",
       "    }\n",
       "</style>\n",
       "<table border=\"1\" class=\"dataframe\">\n",
       "  <thead>\n",
       "    <tr style=\"text-align: right;\">\n",
       "      <th></th>\n",
       "      <th>srch_id</th>\n",
       "      <th>date_time</th>\n",
       "      <th>site_id</th>\n",
       "      <th>visitor_location_country_id</th>\n",
       "      <th>visitor_hist_starrating</th>\n",
       "      <th>visitor_hist_adr_usd</th>\n",
       "      <th>prop_country_id</th>\n",
       "      <th>prop_id</th>\n",
       "      <th>prop_starrating</th>\n",
       "      <th>prop_review_score</th>\n",
       "      <th>prop_brand_bool</th>\n",
       "      <th>prop_location_score1</th>\n",
       "      <th>prop_location_score2</th>\n",
       "      <th>prop_log_historical_price</th>\n",
       "      <th>position</th>\n",
       "      <th>price_usd</th>\n",
       "      <th>promotion_flag</th>\n",
       "      <th>srch_destination_id</th>\n",
       "      <th>srch_length_of_stay</th>\n",
       "      <th>srch_booking_window</th>\n",
       "      <th>srch_adults_count</th>\n",
       "      <th>srch_children_count</th>\n",
       "      <th>srch_room_count</th>\n",
       "      <th>srch_saturday_night_bool</th>\n",
       "      <th>srch_query_affinity_score</th>\n",
       "      <th>orig_destination_distance</th>\n",
       "      <th>random_bool</th>\n",
       "      <th>comp3_rate_percent_diff</th>\n",
       "      <th>click_bool</th>\n",
       "      <th>gross_bookings_usd</th>\n",
       "      <th>booking_bool</th>\n",
       "      <th>test</th>\n",
       "      <th>val</th>\n",
       "      <th>train</th>\n",
       "      <th>subm</th>\n",
       "      <th>price_per_day</th>\n",
       "      <th>price_per_trip</th>\n",
       "      <th>date_time_ordinal</th>\n",
       "      <th>prop_location_score_diff</th>\n",
       "      <th>prop_location_score_sum</th>\n",
       "      <th>prop_location_score_mul</th>\n",
       "      <th>prop_location_score_diff_log</th>\n",
       "      <th>prop_location_score_sum_log</th>\n",
       "      <th>prop_location_score_mul_log</th>\n",
       "      <th>ratio_of_comp_with_lower_price_than_expedia</th>\n",
       "      <th>comp5_rate_percent_diff_signed</th>\n",
       "      <th>comp8_rate_percent_diff_signed</th>\n",
       "      <th>price_per_day_pow_2</th>\n",
       "      <th>price_per_day_log_10</th>\n",
       "      <th>price_per_day_reciprocal</th>\n",
       "      <th>prop_log_historical_price_pow_0.33</th>\n",
       "      <th>prop_log_historical_price_log_10</th>\n",
       "      <th>prop_log_historical_price_reciprocal</th>\n",
       "      <th>prop_historical_price</th>\n",
       "      <th>price_diff_to_usr_hist</th>\n",
       "      <th>price_ratio_to_usr_hist</th>\n",
       "      <th>price_per_day_diff_to_usr_hist</th>\n",
       "      <th>price_per_day_ratio_to_usr_hist</th>\n",
       "      <th>price_per_trip_diff_to_usr_hist</th>\n",
       "      <th>price_per_trip_ratio_to_usr_hist</th>\n",
       "      <th>price_diff_to_place_hist_price</th>\n",
       "      <th>price_per_day_diff_to_place_hist_price</th>\n",
       "      <th>price_per_trip_diff_to_place_hist_price</th>\n",
       "      <th>place_hist_price_diff_usr_hist</th>\n",
       "      <th>prop_star_usr_hist_diff</th>\n",
       "      <th>prop_review_usr_hist_diff</th>\n",
       "      <th>prop_starrating_bonus_chain</th>\n",
       "      <th>prop_star_review_sum</th>\n",
       "      <th>prop_star_review_diff</th>\n",
       "      <th>prop_star_review_min</th>\n",
       "      <th>prop_star_review_max</th>\n",
       "      <th>prop_star_review_mean</th>\n",
       "      <th>price_per_star</th>\n",
       "      <th>price_per_review_score</th>\n",
       "      <th>price_per_star_log_10</th>\n",
       "      <th>price_per_review_score_log_10</th>\n",
       "      <th>booking_weeks_ahead</th>\n",
       "      <th>len_of_stay_to_booking_ahead_ratio</th>\n",
       "      <th>date</th>\n",
       "      <th>trip_start_date</th>\n",
       "      <th>trip_end_date</th>\n",
       "      <th>trip_start_date_week</th>\n",
       "      <th>trip_start_date_week_mid_summer_index</th>\n",
       "      <th>trip_start_date_month</th>\n",
       "      <th>trip_start_date_days_in_month</th>\n",
       "      <th>trip_start_date_quarter</th>\n",
       "      <th>trip_start_date_season_num</th>\n",
       "      <th>trip_start_date_year</th>\n",
       "      <th>trip_start_date_week_id</th>\n",
       "      <th>trip_end_date_week</th>\n",
       "      <th>trip_end_date_week_mid_summer_index</th>\n",
       "      <th>trip_end_date_month</th>\n",
       "      <th>trip_end_date_days_in_month</th>\n",
       "      <th>trip_end_date_quarter</th>\n",
       "      <th>trip_end_date_season_num</th>\n",
       "      <th>trip_end_date_year</th>\n",
       "      <th>trip_end_date_week_id</th>\n",
       "      <th>children_per_adult</th>\n",
       "      <th>total_people</th>\n",
       "      <th>people_per_room</th>\n",
       "      <th>separate_children_room</th>\n",
       "      <th>price_usd_log10_norm_by_srch_id</th>\n",
       "      <th>price_usd_log10_norm_by_prop_id</th>\n",
       "    </tr>\n",
       "  </thead>\n",
       "  <tbody>\n",
       "    <tr>\n",
       "      <th>0</th>\n",
       "      <td>32491</td>\n",
       "      <td>2012-11-01 00:01:37</td>\n",
       "      <td>24</td>\n",
       "      <td>216</td>\n",
       "      <td>NaN</td>\n",
       "      <td>NaN</td>\n",
       "      <td>225</td>\n",
       "      <td>84277</td>\n",
       "      <td>4.0</td>\n",
       "      <td>3.5</td>\n",
       "      <td>0</td>\n",
       "      <td>4.72</td>\n",
       "      <td>0.3862</td>\n",
       "      <td>5.06</td>\n",
       "      <td>NaN</td>\n",
       "      <td>76.82</td>\n",
       "      <td>1</td>\n",
       "      <td>14083</td>\n",
       "      <td>2</td>\n",
       "      <td>16</td>\n",
       "      <td>1</td>\n",
       "      <td>0</td>\n",
       "      <td>1</td>\n",
       "      <td>1</td>\n",
       "      <td>NaN</td>\n",
       "      <td>NaN</td>\n",
       "      <td>0</td>\n",
       "      <td>NaN</td>\n",
       "      <td>NaN</td>\n",
       "      <td>NaN</td>\n",
       "      <td>NaN</td>\n",
       "      <td>False</td>\n",
       "      <td>False</td>\n",
       "      <td>False</td>\n",
       "      <td>True</td>\n",
       "      <td>76.82</td>\n",
       "      <td>153.639999</td>\n",
       "      <td>1</td>\n",
       "      <td>4.3338</td>\n",
       "      <td>5.1062</td>\n",
       "      <td>1.822864</td>\n",
       "      <td>6.092576</td>\n",
       "      <td>3.347424</td>\n",
       "      <td>-6.478559</td>\n",
       "      <td>NaN</td>\n",
       "      <td>&lt;NA&gt;</td>\n",
       "      <td>&lt;NA&gt;</td>\n",
       "      <td>5901.3125</td>\n",
       "      <td>1.885474</td>\n",
       "      <td>0.013017</td>\n",
       "      <td>1.707535</td>\n",
       "      <td>0.704151</td>\n",
       "      <td>0.197628</td>\n",
       "      <td>157.5905</td>\n",
       "      <td>NaN</td>\n",
       "      <td>NaN</td>\n",
       "      <td>NaN</td>\n",
       "      <td>NaN</td>\n",
       "      <td>NaN</td>\n",
       "      <td>NaN</td>\n",
       "      <td>-80.7705</td>\n",
       "      <td>-80.7705</td>\n",
       "      <td>-3.9505</td>\n",
       "      <td>NaN</td>\n",
       "      <td>NaN</td>\n",
       "      <td>NaN</td>\n",
       "      <td>4.0</td>\n",
       "      <td>7.5</td>\n",
       "      <td>0.5</td>\n",
       "      <td>3.5</td>\n",
       "      <td>4.0</td>\n",
       "      <td>3.75</td>\n",
       "      <td>19.204995</td>\n",
       "      <td>21.948565</td>\n",
       "      <td>1.283414</td>\n",
       "      <td>1.341406</td>\n",
       "      <td>2.285714</td>\n",
       "      <td>8.0</td>\n",
       "      <td>2012-11-01</td>\n",
       "      <td>2012-11-17</td>\n",
       "      <td>2012-11-19</td>\n",
       "      <td>46</td>\n",
       "      <td>8</td>\n",
       "      <td>11</td>\n",
       "      <td>30</td>\n",
       "      <td>4</td>\n",
       "      <td>4</td>\n",
       "      <td>2012</td>\n",
       "      <td>201246</td>\n",
       "      <td>47</td>\n",
       "      <td>7</td>\n",
       "      <td>11</td>\n",
       "      <td>30</td>\n",
       "      <td>4</td>\n",
       "      <td>4</td>\n",
       "      <td>2012</td>\n",
       "      <td>201247</td>\n",
       "      <td>0.0</td>\n",
       "      <td>1</td>\n",
       "      <td>1.0</td>\n",
       "      <td>False</td>\n",
       "      <td>-0.824531</td>\n",
       "      <td>-0.245700</td>\n",
       "    </tr>\n",
       "    <tr>\n",
       "      <th>1</th>\n",
       "      <td>206851</td>\n",
       "      <td>2012-11-02 09:17:45</td>\n",
       "      <td>26</td>\n",
       "      <td>39</td>\n",
       "      <td>NaN</td>\n",
       "      <td>NaN</td>\n",
       "      <td>225</td>\n",
       "      <td>84277</td>\n",
       "      <td>4.0</td>\n",
       "      <td>3.5</td>\n",
       "      <td>0</td>\n",
       "      <td>4.72</td>\n",
       "      <td>0.1324</td>\n",
       "      <td>5.06</td>\n",
       "      <td>NaN</td>\n",
       "      <td>76.75</td>\n",
       "      <td>1</td>\n",
       "      <td>11308</td>\n",
       "      <td>4</td>\n",
       "      <td>22</td>\n",
       "      <td>2</td>\n",
       "      <td>0</td>\n",
       "      <td>1</td>\n",
       "      <td>1</td>\n",
       "      <td>NaN</td>\n",
       "      <td>NaN</td>\n",
       "      <td>0</td>\n",
       "      <td>NaN</td>\n",
       "      <td>NaN</td>\n",
       "      <td>NaN</td>\n",
       "      <td>NaN</td>\n",
       "      <td>False</td>\n",
       "      <td>False</td>\n",
       "      <td>False</td>\n",
       "      <td>True</td>\n",
       "      <td>76.75</td>\n",
       "      <td>307.000000</td>\n",
       "      <td>1516</td>\n",
       "      <td>4.5876</td>\n",
       "      <td>4.8524</td>\n",
       "      <td>0.624928</td>\n",
       "      <td>7.637014</td>\n",
       "      <td>1.802986</td>\n",
       "      <td>-13.768306</td>\n",
       "      <td>NaN</td>\n",
       "      <td>&lt;NA&gt;</td>\n",
       "      <td>&lt;NA&gt;</td>\n",
       "      <td>5890.5625</td>\n",
       "      <td>1.885078</td>\n",
       "      <td>0.013029</td>\n",
       "      <td>1.707535</td>\n",
       "      <td>0.704151</td>\n",
       "      <td>0.197628</td>\n",
       "      <td>157.5905</td>\n",
       "      <td>NaN</td>\n",
       "      <td>NaN</td>\n",
       "      <td>NaN</td>\n",
       "      <td>NaN</td>\n",
       "      <td>NaN</td>\n",
       "      <td>NaN</td>\n",
       "      <td>-80.8405</td>\n",
       "      <td>-80.8405</td>\n",
       "      <td>149.4095</td>\n",
       "      <td>NaN</td>\n",
       "      <td>NaN</td>\n",
       "      <td>NaN</td>\n",
       "      <td>4.0</td>\n",
       "      <td>7.5</td>\n",
       "      <td>0.5</td>\n",
       "      <td>3.5</td>\n",
       "      <td>4.0</td>\n",
       "      <td>3.75</td>\n",
       "      <td>19.187495</td>\n",
       "      <td>21.928565</td>\n",
       "      <td>1.283018</td>\n",
       "      <td>1.341010</td>\n",
       "      <td>3.142857</td>\n",
       "      <td>5.5</td>\n",
       "      <td>2012-11-02</td>\n",
       "      <td>2012-11-24</td>\n",
       "      <td>2012-11-28</td>\n",
       "      <td>47</td>\n",
       "      <td>7</td>\n",
       "      <td>11</td>\n",
       "      <td>30</td>\n",
       "      <td>4</td>\n",
       "      <td>4</td>\n",
       "      <td>2012</td>\n",
       "      <td>201247</td>\n",
       "      <td>48</td>\n",
       "      <td>6</td>\n",
       "      <td>11</td>\n",
       "      <td>30</td>\n",
       "      <td>4</td>\n",
       "      <td>4</td>\n",
       "      <td>2012</td>\n",
       "      <td>201248</td>\n",
       "      <td>0.0</td>\n",
       "      <td>2</td>\n",
       "      <td>2.0</td>\n",
       "      <td>False</td>\n",
       "      <td>-1.415146</td>\n",
       "      <td>-0.252332</td>\n",
       "    </tr>\n",
       "  </tbody>\n",
       "</table>\n",
       "</div>"
      ],
      "text/plain": [
       "   srch_id           date_time  site_id  visitor_location_country_id  \\\n",
       "0    32491 2012-11-01 00:01:37       24                          216   \n",
       "1   206851 2012-11-02 09:17:45       26                           39   \n",
       "\n",
       "   visitor_hist_starrating  visitor_hist_adr_usd  prop_country_id  prop_id  \\\n",
       "0                      NaN                   NaN              225    84277   \n",
       "1                      NaN                   NaN              225    84277   \n",
       "\n",
       "   prop_starrating  prop_review_score  prop_brand_bool  prop_location_score1  \\\n",
       "0              4.0                3.5                0                  4.72   \n",
       "1              4.0                3.5                0                  4.72   \n",
       "\n",
       "   prop_location_score2  prop_log_historical_price  position  price_usd  \\\n",
       "0                0.3862                       5.06       NaN      76.82   \n",
       "1                0.1324                       5.06       NaN      76.75   \n",
       "\n",
       "   promotion_flag  srch_destination_id  srch_length_of_stay  \\\n",
       "0               1                14083                    2   \n",
       "1               1                11308                    4   \n",
       "\n",
       "   srch_booking_window  srch_adults_count  srch_children_count  \\\n",
       "0                   16                  1                    0   \n",
       "1                   22                  2                    0   \n",
       "\n",
       "   srch_room_count  srch_saturday_night_bool  srch_query_affinity_score  \\\n",
       "0                1                         1                        NaN   \n",
       "1                1                         1                        NaN   \n",
       "\n",
       "   orig_destination_distance  random_bool  comp3_rate_percent_diff  \\\n",
       "0                        NaN            0                      NaN   \n",
       "1                        NaN            0                      NaN   \n",
       "\n",
       "   click_bool  gross_bookings_usd  booking_bool   test    val  train  subm  \\\n",
       "0         NaN                 NaN           NaN  False  False  False  True   \n",
       "1         NaN                 NaN           NaN  False  False  False  True   \n",
       "\n",
       "   price_per_day  price_per_trip  date_time_ordinal  prop_location_score_diff  \\\n",
       "0          76.82      153.639999                  1                    4.3338   \n",
       "1          76.75      307.000000               1516                    4.5876   \n",
       "\n",
       "   prop_location_score_sum  prop_location_score_mul  \\\n",
       "0                   5.1062                 1.822864   \n",
       "1                   4.8524                 0.624928   \n",
       "\n",
       "   prop_location_score_diff_log  prop_location_score_sum_log  \\\n",
       "0                      6.092576                     3.347424   \n",
       "1                      7.637014                     1.802986   \n",
       "\n",
       "   prop_location_score_mul_log  ratio_of_comp_with_lower_price_than_expedia  \\\n",
       "0                    -6.478559                                          NaN   \n",
       "1                   -13.768306                                          NaN   \n",
       "\n",
       "   comp5_rate_percent_diff_signed  comp8_rate_percent_diff_signed  \\\n",
       "0                            <NA>                            <NA>   \n",
       "1                            <NA>                            <NA>   \n",
       "\n",
       "   price_per_day_pow_2  price_per_day_log_10  price_per_day_reciprocal  \\\n",
       "0            5901.3125              1.885474                  0.013017   \n",
       "1            5890.5625              1.885078                  0.013029   \n",
       "\n",
       "   prop_log_historical_price_pow_0.33  prop_log_historical_price_log_10  \\\n",
       "0                            1.707535                          0.704151   \n",
       "1                            1.707535                          0.704151   \n",
       "\n",
       "   prop_log_historical_price_reciprocal  prop_historical_price  \\\n",
       "0                              0.197628               157.5905   \n",
       "1                              0.197628               157.5905   \n",
       "\n",
       "   price_diff_to_usr_hist  price_ratio_to_usr_hist  \\\n",
       "0                     NaN                      NaN   \n",
       "1                     NaN                      NaN   \n",
       "\n",
       "   price_per_day_diff_to_usr_hist  price_per_day_ratio_to_usr_hist  \\\n",
       "0                             NaN                              NaN   \n",
       "1                             NaN                              NaN   \n",
       "\n",
       "   price_per_trip_diff_to_usr_hist  price_per_trip_ratio_to_usr_hist  \\\n",
       "0                              NaN                               NaN   \n",
       "1                              NaN                               NaN   \n",
       "\n",
       "   price_diff_to_place_hist_price  price_per_day_diff_to_place_hist_price  \\\n",
       "0                        -80.7705                                -80.7705   \n",
       "1                        -80.8405                                -80.8405   \n",
       "\n",
       "   price_per_trip_diff_to_place_hist_price  place_hist_price_diff_usr_hist  \\\n",
       "0                                  -3.9505                             NaN   \n",
       "1                                 149.4095                             NaN   \n",
       "\n",
       "   prop_star_usr_hist_diff  prop_review_usr_hist_diff  \\\n",
       "0                      NaN                        NaN   \n",
       "1                      NaN                        NaN   \n",
       "\n",
       "   prop_starrating_bonus_chain  prop_star_review_sum  prop_star_review_diff  \\\n",
       "0                          4.0                   7.5                    0.5   \n",
       "1                          4.0                   7.5                    0.5   \n",
       "\n",
       "   prop_star_review_min  prop_star_review_max  prop_star_review_mean  \\\n",
       "0                   3.5                   4.0                   3.75   \n",
       "1                   3.5                   4.0                   3.75   \n",
       "\n",
       "   price_per_star  price_per_review_score  price_per_star_log_10  \\\n",
       "0       19.204995               21.948565               1.283414   \n",
       "1       19.187495               21.928565               1.283018   \n",
       "\n",
       "   price_per_review_score_log_10  booking_weeks_ahead  \\\n",
       "0                       1.341406             2.285714   \n",
       "1                       1.341010             3.142857   \n",
       "\n",
       "   len_of_stay_to_booking_ahead_ratio       date trip_start_date  \\\n",
       "0                                 8.0 2012-11-01      2012-11-17   \n",
       "1                                 5.5 2012-11-02      2012-11-24   \n",
       "\n",
       "  trip_end_date  trip_start_date_week  trip_start_date_week_mid_summer_index  \\\n",
       "0    2012-11-19                    46                                      8   \n",
       "1    2012-11-28                    47                                      7   \n",
       "\n",
       "   trip_start_date_month  trip_start_date_days_in_month  \\\n",
       "0                     11                             30   \n",
       "1                     11                             30   \n",
       "\n",
       "   trip_start_date_quarter  trip_start_date_season_num  trip_start_date_year  \\\n",
       "0                        4                           4                  2012   \n",
       "1                        4                           4                  2012   \n",
       "\n",
       "   trip_start_date_week_id  trip_end_date_week  \\\n",
       "0                   201246                  47   \n",
       "1                   201247                  48   \n",
       "\n",
       "   trip_end_date_week_mid_summer_index  trip_end_date_month  \\\n",
       "0                                    7                   11   \n",
       "1                                    6                   11   \n",
       "\n",
       "   trip_end_date_days_in_month  trip_end_date_quarter  \\\n",
       "0                           30                      4   \n",
       "1                           30                      4   \n",
       "\n",
       "   trip_end_date_season_num  trip_end_date_year  trip_end_date_week_id  \\\n",
       "0                         4                2012                 201247   \n",
       "1                         4                2012                 201248   \n",
       "\n",
       "   children_per_adult  total_people  people_per_room  separate_children_room  \\\n",
       "0                 0.0             1              1.0                   False   \n",
       "1                 0.0             2              2.0                   False   \n",
       "\n",
       "   price_usd_log10_norm_by_srch_id  price_usd_log10_norm_by_prop_id  \n",
       "0                        -0.824531                        -0.245700  \n",
       "1                        -1.415146                        -0.252332  "
      ]
     },
     "execution_count": 94,
     "metadata": {},
     "output_type": "execute_result"
    }
   ],
   "source": [
    "df = normalize_features(df, group_key=\"prop_id\", \n",
    "                        target_column=\"price_usd\",\n",
    "                        take_log10=True,\n",
    "                       )\n",
    "df.head(2)"
   ]
  },
  {
   "cell_type": "code",
   "execution_count": 95,
   "id": "605b002d",
   "metadata": {
    "ExecuteTime": {
     "end_time": "2022-05-28T13:43:12.734733Z",
     "start_time": "2022-05-28T13:43:12.686893Z"
    }
   },
   "outputs": [
    {
     "data": {
      "text/plain": [
       "0.001510317138452149"
      ]
     },
     "execution_count": 95,
     "metadata": {},
     "output_type": "execute_result"
    }
   ],
   "source": [
    "df['price_usd_log10_norm_by_prop_id'].isna().mean()"
   ]
  },
  {
   "cell_type": "code",
   "execution_count": 96,
   "id": "798a6711",
   "metadata": {
    "ExecuteTime": {
     "end_time": "2022-05-28T13:44:16.332817Z",
     "start_time": "2022-05-28T13:43:12.738113Z"
    }
   },
   "outputs": [
    {
     "data": {
      "text/html": [
       "<div>\n",
       "<style scoped>\n",
       "    .dataframe tbody tr th:only-of-type {\n",
       "        vertical-align: middle;\n",
       "    }\n",
       "\n",
       "    .dataframe tbody tr th {\n",
       "        vertical-align: top;\n",
       "    }\n",
       "\n",
       "    .dataframe thead th {\n",
       "        text-align: right;\n",
       "    }\n",
       "</style>\n",
       "<table border=\"1\" class=\"dataframe\">\n",
       "  <thead>\n",
       "    <tr style=\"text-align: right;\">\n",
       "      <th></th>\n",
       "      <th>srch_id</th>\n",
       "      <th>date_time</th>\n",
       "      <th>site_id</th>\n",
       "      <th>visitor_location_country_id</th>\n",
       "      <th>visitor_hist_starrating</th>\n",
       "      <th>visitor_hist_adr_usd</th>\n",
       "      <th>prop_country_id</th>\n",
       "      <th>prop_id</th>\n",
       "      <th>prop_starrating</th>\n",
       "      <th>prop_review_score</th>\n",
       "      <th>prop_brand_bool</th>\n",
       "      <th>prop_location_score1</th>\n",
       "      <th>prop_location_score2</th>\n",
       "      <th>prop_log_historical_price</th>\n",
       "      <th>position</th>\n",
       "      <th>price_usd</th>\n",
       "      <th>promotion_flag</th>\n",
       "      <th>srch_destination_id</th>\n",
       "      <th>srch_length_of_stay</th>\n",
       "      <th>srch_booking_window</th>\n",
       "      <th>srch_adults_count</th>\n",
       "      <th>srch_children_count</th>\n",
       "      <th>srch_room_count</th>\n",
       "      <th>srch_saturday_night_bool</th>\n",
       "      <th>srch_query_affinity_score</th>\n",
       "      <th>orig_destination_distance</th>\n",
       "      <th>random_bool</th>\n",
       "      <th>comp3_rate_percent_diff</th>\n",
       "      <th>click_bool</th>\n",
       "      <th>gross_bookings_usd</th>\n",
       "      <th>booking_bool</th>\n",
       "      <th>test</th>\n",
       "      <th>val</th>\n",
       "      <th>train</th>\n",
       "      <th>subm</th>\n",
       "      <th>price_per_day</th>\n",
       "      <th>price_per_trip</th>\n",
       "      <th>date_time_ordinal</th>\n",
       "      <th>prop_location_score_diff</th>\n",
       "      <th>prop_location_score_sum</th>\n",
       "      <th>prop_location_score_mul</th>\n",
       "      <th>prop_location_score_diff_log</th>\n",
       "      <th>prop_location_score_sum_log</th>\n",
       "      <th>prop_location_score_mul_log</th>\n",
       "      <th>ratio_of_comp_with_lower_price_than_expedia</th>\n",
       "      <th>comp5_rate_percent_diff_signed</th>\n",
       "      <th>comp8_rate_percent_diff_signed</th>\n",
       "      <th>price_per_day_pow_2</th>\n",
       "      <th>price_per_day_log_10</th>\n",
       "      <th>price_per_day_reciprocal</th>\n",
       "      <th>prop_log_historical_price_pow_0.33</th>\n",
       "      <th>prop_log_historical_price_log_10</th>\n",
       "      <th>prop_log_historical_price_reciprocal</th>\n",
       "      <th>prop_historical_price</th>\n",
       "      <th>price_diff_to_usr_hist</th>\n",
       "      <th>price_ratio_to_usr_hist</th>\n",
       "      <th>price_per_day_diff_to_usr_hist</th>\n",
       "      <th>price_per_day_ratio_to_usr_hist</th>\n",
       "      <th>price_per_trip_diff_to_usr_hist</th>\n",
       "      <th>price_per_trip_ratio_to_usr_hist</th>\n",
       "      <th>price_diff_to_place_hist_price</th>\n",
       "      <th>price_per_day_diff_to_place_hist_price</th>\n",
       "      <th>price_per_trip_diff_to_place_hist_price</th>\n",
       "      <th>place_hist_price_diff_usr_hist</th>\n",
       "      <th>prop_star_usr_hist_diff</th>\n",
       "      <th>prop_review_usr_hist_diff</th>\n",
       "      <th>prop_starrating_bonus_chain</th>\n",
       "      <th>prop_star_review_sum</th>\n",
       "      <th>prop_star_review_diff</th>\n",
       "      <th>prop_star_review_min</th>\n",
       "      <th>prop_star_review_max</th>\n",
       "      <th>prop_star_review_mean</th>\n",
       "      <th>price_per_star</th>\n",
       "      <th>price_per_review_score</th>\n",
       "      <th>price_per_star_log_10</th>\n",
       "      <th>price_per_review_score_log_10</th>\n",
       "      <th>booking_weeks_ahead</th>\n",
       "      <th>len_of_stay_to_booking_ahead_ratio</th>\n",
       "      <th>date</th>\n",
       "      <th>trip_start_date</th>\n",
       "      <th>trip_end_date</th>\n",
       "      <th>trip_start_date_week</th>\n",
       "      <th>trip_start_date_week_mid_summer_index</th>\n",
       "      <th>trip_start_date_month</th>\n",
       "      <th>trip_start_date_days_in_month</th>\n",
       "      <th>trip_start_date_quarter</th>\n",
       "      <th>trip_start_date_season_num</th>\n",
       "      <th>trip_start_date_year</th>\n",
       "      <th>trip_start_date_week_id</th>\n",
       "      <th>trip_end_date_week</th>\n",
       "      <th>trip_end_date_week_mid_summer_index</th>\n",
       "      <th>trip_end_date_month</th>\n",
       "      <th>trip_end_date_days_in_month</th>\n",
       "      <th>trip_end_date_quarter</th>\n",
       "      <th>trip_end_date_season_num</th>\n",
       "      <th>trip_end_date_year</th>\n",
       "      <th>trip_end_date_week_id</th>\n",
       "      <th>children_per_adult</th>\n",
       "      <th>total_people</th>\n",
       "      <th>people_per_room</th>\n",
       "      <th>separate_children_room</th>\n",
       "      <th>price_usd_log10_norm_by_srch_id</th>\n",
       "      <th>price_usd_log10_norm_by_prop_id</th>\n",
       "      <th>prop_starrating_norm_by_srch_id</th>\n",
       "    </tr>\n",
       "  </thead>\n",
       "  <tbody>\n",
       "    <tr>\n",
       "      <th>0</th>\n",
       "      <td>32491</td>\n",
       "      <td>2012-11-01 00:01:37</td>\n",
       "      <td>24</td>\n",
       "      <td>216</td>\n",
       "      <td>NaN</td>\n",
       "      <td>NaN</td>\n",
       "      <td>225</td>\n",
       "      <td>84277</td>\n",
       "      <td>4.0</td>\n",
       "      <td>3.5</td>\n",
       "      <td>0</td>\n",
       "      <td>4.72</td>\n",
       "      <td>0.3862</td>\n",
       "      <td>5.06</td>\n",
       "      <td>NaN</td>\n",
       "      <td>76.820000</td>\n",
       "      <td>1</td>\n",
       "      <td>14083</td>\n",
       "      <td>2</td>\n",
       "      <td>16</td>\n",
       "      <td>1</td>\n",
       "      <td>0</td>\n",
       "      <td>1</td>\n",
       "      <td>1</td>\n",
       "      <td>NaN</td>\n",
       "      <td>NaN</td>\n",
       "      <td>0</td>\n",
       "      <td>NaN</td>\n",
       "      <td>NaN</td>\n",
       "      <td>NaN</td>\n",
       "      <td>NaN</td>\n",
       "      <td>False</td>\n",
       "      <td>False</td>\n",
       "      <td>False</td>\n",
       "      <td>True</td>\n",
       "      <td>76.820000</td>\n",
       "      <td>153.639999</td>\n",
       "      <td>1</td>\n",
       "      <td>4.3338</td>\n",
       "      <td>5.1062</td>\n",
       "      <td>1.822864</td>\n",
       "      <td>6.092576</td>\n",
       "      <td>3.347424</td>\n",
       "      <td>-6.478559</td>\n",
       "      <td>NaN</td>\n",
       "      <td>&lt;NA&gt;</td>\n",
       "      <td>&lt;NA&gt;</td>\n",
       "      <td>5901.31250</td>\n",
       "      <td>1.885474</td>\n",
       "      <td>0.013017</td>\n",
       "      <td>1.707535</td>\n",
       "      <td>0.704151</td>\n",
       "      <td>0.197628</td>\n",
       "      <td>157.590500</td>\n",
       "      <td>NaN</td>\n",
       "      <td>NaN</td>\n",
       "      <td>NaN</td>\n",
       "      <td>NaN</td>\n",
       "      <td>NaN</td>\n",
       "      <td>NaN</td>\n",
       "      <td>-80.770500</td>\n",
       "      <td>-80.770500</td>\n",
       "      <td>-3.950500</td>\n",
       "      <td>NaN</td>\n",
       "      <td>NaN</td>\n",
       "      <td>NaN</td>\n",
       "      <td>4.0</td>\n",
       "      <td>7.5</td>\n",
       "      <td>0.5</td>\n",
       "      <td>3.5</td>\n",
       "      <td>4.0</td>\n",
       "      <td>3.75</td>\n",
       "      <td>19.204995</td>\n",
       "      <td>21.948565</td>\n",
       "      <td>1.283414</td>\n",
       "      <td>1.341406</td>\n",
       "      <td>2.285714</td>\n",
       "      <td>8.0</td>\n",
       "      <td>2012-11-01</td>\n",
       "      <td>2012-11-17</td>\n",
       "      <td>2012-11-19</td>\n",
       "      <td>46</td>\n",
       "      <td>8</td>\n",
       "      <td>11</td>\n",
       "      <td>30</td>\n",
       "      <td>4</td>\n",
       "      <td>4</td>\n",
       "      <td>2012</td>\n",
       "      <td>201246</td>\n",
       "      <td>47</td>\n",
       "      <td>7</td>\n",
       "      <td>11</td>\n",
       "      <td>30</td>\n",
       "      <td>4</td>\n",
       "      <td>4</td>\n",
       "      <td>2012</td>\n",
       "      <td>201247</td>\n",
       "      <td>0.0</td>\n",
       "      <td>1</td>\n",
       "      <td>1.0</td>\n",
       "      <td>False</td>\n",
       "      <td>-0.824531</td>\n",
       "      <td>-0.245700</td>\n",
       "      <td>0.568731</td>\n",
       "    </tr>\n",
       "    <tr>\n",
       "      <th>1</th>\n",
       "      <td>32491</td>\n",
       "      <td>2012-11-01 00:01:37</td>\n",
       "      <td>24</td>\n",
       "      <td>216</td>\n",
       "      <td>NaN</td>\n",
       "      <td>NaN</td>\n",
       "      <td>225</td>\n",
       "      <td>69323</td>\n",
       "      <td>3.0</td>\n",
       "      <td>4.5</td>\n",
       "      <td>0</td>\n",
       "      <td>4.70</td>\n",
       "      <td>0.1667</td>\n",
       "      <td>4.85</td>\n",
       "      <td>NaN</td>\n",
       "      <td>84.209999</td>\n",
       "      <td>0</td>\n",
       "      <td>14083</td>\n",
       "      <td>2</td>\n",
       "      <td>16</td>\n",
       "      <td>1</td>\n",
       "      <td>0</td>\n",
       "      <td>1</td>\n",
       "      <td>1</td>\n",
       "      <td>NaN</td>\n",
       "      <td>NaN</td>\n",
       "      <td>0</td>\n",
       "      <td>NaN</td>\n",
       "      <td>NaN</td>\n",
       "      <td>NaN</td>\n",
       "      <td>NaN</td>\n",
       "      <td>False</td>\n",
       "      <td>False</td>\n",
       "      <td>False</td>\n",
       "      <td>True</td>\n",
       "      <td>84.209999</td>\n",
       "      <td>168.419998</td>\n",
       "      <td>1</td>\n",
       "      <td>4.5333</td>\n",
       "      <td>4.8667</td>\n",
       "      <td>0.783490</td>\n",
       "      <td>7.284665</td>\n",
       "      <td>2.115335</td>\n",
       "      <td>-12.147926</td>\n",
       "      <td>NaN</td>\n",
       "      <td>0.0</td>\n",
       "      <td>&lt;NA&gt;</td>\n",
       "      <td>7091.32373</td>\n",
       "      <td>1.925364</td>\n",
       "      <td>0.011875</td>\n",
       "      <td>1.683817</td>\n",
       "      <td>0.685742</td>\n",
       "      <td>0.206186</td>\n",
       "      <td>127.740387</td>\n",
       "      <td>NaN</td>\n",
       "      <td>NaN</td>\n",
       "      <td>NaN</td>\n",
       "      <td>NaN</td>\n",
       "      <td>NaN</td>\n",
       "      <td>NaN</td>\n",
       "      <td>-43.530388</td>\n",
       "      <td>-43.530388</td>\n",
       "      <td>40.679611</td>\n",
       "      <td>NaN</td>\n",
       "      <td>NaN</td>\n",
       "      <td>NaN</td>\n",
       "      <td>3.0</td>\n",
       "      <td>7.5</td>\n",
       "      <td>-1.5</td>\n",
       "      <td>3.0</td>\n",
       "      <td>4.5</td>\n",
       "      <td>3.75</td>\n",
       "      <td>28.069990</td>\n",
       "      <td>18.713329</td>\n",
       "      <td>1.448242</td>\n",
       "      <td>1.272151</td>\n",
       "      <td>2.285714</td>\n",
       "      <td>8.0</td>\n",
       "      <td>2012-11-01</td>\n",
       "      <td>2012-11-17</td>\n",
       "      <td>2012-11-19</td>\n",
       "      <td>46</td>\n",
       "      <td>8</td>\n",
       "      <td>11</td>\n",
       "      <td>30</td>\n",
       "      <td>4</td>\n",
       "      <td>4</td>\n",
       "      <td>2012</td>\n",
       "      <td>201246</td>\n",
       "      <td>47</td>\n",
       "      <td>7</td>\n",
       "      <td>11</td>\n",
       "      <td>30</td>\n",
       "      <td>4</td>\n",
       "      <td>4</td>\n",
       "      <td>2012</td>\n",
       "      <td>201247</td>\n",
       "      <td>0.0</td>\n",
       "      <td>1</td>\n",
       "      <td>1.0</td>\n",
       "      <td>False</td>\n",
       "      <td>-0.671271</td>\n",
       "      <td>-1.183756</td>\n",
       "      <td>-0.731226</td>\n",
       "    </tr>\n",
       "  </tbody>\n",
       "</table>\n",
       "</div>"
      ],
      "text/plain": [
       "   srch_id           date_time  site_id  visitor_location_country_id  \\\n",
       "0    32491 2012-11-01 00:01:37       24                          216   \n",
       "1    32491 2012-11-01 00:01:37       24                          216   \n",
       "\n",
       "   visitor_hist_starrating  visitor_hist_adr_usd  prop_country_id  prop_id  \\\n",
       "0                      NaN                   NaN              225    84277   \n",
       "1                      NaN                   NaN              225    69323   \n",
       "\n",
       "   prop_starrating  prop_review_score  prop_brand_bool  prop_location_score1  \\\n",
       "0              4.0                3.5                0                  4.72   \n",
       "1              3.0                4.5                0                  4.70   \n",
       "\n",
       "   prop_location_score2  prop_log_historical_price  position  price_usd  \\\n",
       "0                0.3862                       5.06       NaN  76.820000   \n",
       "1                0.1667                       4.85       NaN  84.209999   \n",
       "\n",
       "   promotion_flag  srch_destination_id  srch_length_of_stay  \\\n",
       "0               1                14083                    2   \n",
       "1               0                14083                    2   \n",
       "\n",
       "   srch_booking_window  srch_adults_count  srch_children_count  \\\n",
       "0                   16                  1                    0   \n",
       "1                   16                  1                    0   \n",
       "\n",
       "   srch_room_count  srch_saturday_night_bool  srch_query_affinity_score  \\\n",
       "0                1                         1                        NaN   \n",
       "1                1                         1                        NaN   \n",
       "\n",
       "   orig_destination_distance  random_bool  comp3_rate_percent_diff  \\\n",
       "0                        NaN            0                      NaN   \n",
       "1                        NaN            0                      NaN   \n",
       "\n",
       "   click_bool  gross_bookings_usd  booking_bool   test    val  train  subm  \\\n",
       "0         NaN                 NaN           NaN  False  False  False  True   \n",
       "1         NaN                 NaN           NaN  False  False  False  True   \n",
       "\n",
       "   price_per_day  price_per_trip  date_time_ordinal  prop_location_score_diff  \\\n",
       "0      76.820000      153.639999                  1                    4.3338   \n",
       "1      84.209999      168.419998                  1                    4.5333   \n",
       "\n",
       "   prop_location_score_sum  prop_location_score_mul  \\\n",
       "0                   5.1062                 1.822864   \n",
       "1                   4.8667                 0.783490   \n",
       "\n",
       "   prop_location_score_diff_log  prop_location_score_sum_log  \\\n",
       "0                      6.092576                     3.347424   \n",
       "1                      7.284665                     2.115335   \n",
       "\n",
       "   prop_location_score_mul_log  ratio_of_comp_with_lower_price_than_expedia  \\\n",
       "0                    -6.478559                                          NaN   \n",
       "1                   -12.147926                                          NaN   \n",
       "\n",
       "   comp5_rate_percent_diff_signed  comp8_rate_percent_diff_signed  \\\n",
       "0                            <NA>                            <NA>   \n",
       "1                             0.0                            <NA>   \n",
       "\n",
       "   price_per_day_pow_2  price_per_day_log_10  price_per_day_reciprocal  \\\n",
       "0           5901.31250              1.885474                  0.013017   \n",
       "1           7091.32373              1.925364                  0.011875   \n",
       "\n",
       "   prop_log_historical_price_pow_0.33  prop_log_historical_price_log_10  \\\n",
       "0                            1.707535                          0.704151   \n",
       "1                            1.683817                          0.685742   \n",
       "\n",
       "   prop_log_historical_price_reciprocal  prop_historical_price  \\\n",
       "0                              0.197628             157.590500   \n",
       "1                              0.206186             127.740387   \n",
       "\n",
       "   price_diff_to_usr_hist  price_ratio_to_usr_hist  \\\n",
       "0                     NaN                      NaN   \n",
       "1                     NaN                      NaN   \n",
       "\n",
       "   price_per_day_diff_to_usr_hist  price_per_day_ratio_to_usr_hist  \\\n",
       "0                             NaN                              NaN   \n",
       "1                             NaN                              NaN   \n",
       "\n",
       "   price_per_trip_diff_to_usr_hist  price_per_trip_ratio_to_usr_hist  \\\n",
       "0                              NaN                               NaN   \n",
       "1                              NaN                               NaN   \n",
       "\n",
       "   price_diff_to_place_hist_price  price_per_day_diff_to_place_hist_price  \\\n",
       "0                      -80.770500                              -80.770500   \n",
       "1                      -43.530388                              -43.530388   \n",
       "\n",
       "   price_per_trip_diff_to_place_hist_price  place_hist_price_diff_usr_hist  \\\n",
       "0                                -3.950500                             NaN   \n",
       "1                                40.679611                             NaN   \n",
       "\n",
       "   prop_star_usr_hist_diff  prop_review_usr_hist_diff  \\\n",
       "0                      NaN                        NaN   \n",
       "1                      NaN                        NaN   \n",
       "\n",
       "   prop_starrating_bonus_chain  prop_star_review_sum  prop_star_review_diff  \\\n",
       "0                          4.0                   7.5                    0.5   \n",
       "1                          3.0                   7.5                   -1.5   \n",
       "\n",
       "   prop_star_review_min  prop_star_review_max  prop_star_review_mean  \\\n",
       "0                   3.5                   4.0                   3.75   \n",
       "1                   3.0                   4.5                   3.75   \n",
       "\n",
       "   price_per_star  price_per_review_score  price_per_star_log_10  \\\n",
       "0       19.204995               21.948565               1.283414   \n",
       "1       28.069990               18.713329               1.448242   \n",
       "\n",
       "   price_per_review_score_log_10  booking_weeks_ahead  \\\n",
       "0                       1.341406             2.285714   \n",
       "1                       1.272151             2.285714   \n",
       "\n",
       "   len_of_stay_to_booking_ahead_ratio       date trip_start_date  \\\n",
       "0                                 8.0 2012-11-01      2012-11-17   \n",
       "1                                 8.0 2012-11-01      2012-11-17   \n",
       "\n",
       "  trip_end_date  trip_start_date_week  trip_start_date_week_mid_summer_index  \\\n",
       "0    2012-11-19                    46                                      8   \n",
       "1    2012-11-19                    46                                      8   \n",
       "\n",
       "   trip_start_date_month  trip_start_date_days_in_month  \\\n",
       "0                     11                             30   \n",
       "1                     11                             30   \n",
       "\n",
       "   trip_start_date_quarter  trip_start_date_season_num  trip_start_date_year  \\\n",
       "0                        4                           4                  2012   \n",
       "1                        4                           4                  2012   \n",
       "\n",
       "   trip_start_date_week_id  trip_end_date_week  \\\n",
       "0                   201246                  47   \n",
       "1                   201246                  47   \n",
       "\n",
       "   trip_end_date_week_mid_summer_index  trip_end_date_month  \\\n",
       "0                                    7                   11   \n",
       "1                                    7                   11   \n",
       "\n",
       "   trip_end_date_days_in_month  trip_end_date_quarter  \\\n",
       "0                           30                      4   \n",
       "1                           30                      4   \n",
       "\n",
       "   trip_end_date_season_num  trip_end_date_year  trip_end_date_week_id  \\\n",
       "0                         4                2012                 201247   \n",
       "1                         4                2012                 201247   \n",
       "\n",
       "   children_per_adult  total_people  people_per_room  separate_children_room  \\\n",
       "0                 0.0             1              1.0                   False   \n",
       "1                 0.0             1              1.0                   False   \n",
       "\n",
       "   price_usd_log10_norm_by_srch_id  price_usd_log10_norm_by_prop_id  \\\n",
       "0                        -0.824531                        -0.245700   \n",
       "1                        -0.671271                        -1.183756   \n",
       "\n",
       "   prop_starrating_norm_by_srch_id  \n",
       "0                         0.568731  \n",
       "1                        -0.731226  "
      ]
     },
     "execution_count": 96,
     "metadata": {},
     "output_type": "execute_result"
    }
   ],
   "source": [
    "df = normalize_features(df, group_key=\"srch_id\", \n",
    "                        target_column=\"prop_starrating\")\n",
    "df.head(2)"
   ]
  },
  {
   "cell_type": "code",
   "execution_count": 97,
   "id": "b7019f7d",
   "metadata": {
    "ExecuteTime": {
     "end_time": "2022-05-28T13:44:16.394018Z",
     "start_time": "2022-05-28T13:44:16.335905Z"
    }
   },
   "outputs": [
    {
     "data": {
      "text/plain": [
       "0.04410752313384121"
      ]
     },
     "execution_count": 97,
     "metadata": {},
     "output_type": "execute_result"
    }
   ],
   "source": [
    "df['prop_starrating_norm_by_srch_id'].isna().mean()"
   ]
  },
  {
   "cell_type": "code",
   "execution_count": 98,
   "id": "8fb2c5b1",
   "metadata": {
    "ExecuteTime": {
     "end_time": "2022-05-28T13:44:16.429426Z",
     "start_time": "2022-05-28T13:44:16.397727Z"
    }
   },
   "outputs": [
    {
     "data": {
      "text/plain": [
       "(8526686, 104)"
      ]
     },
     "execution_count": 98,
     "metadata": {},
     "output_type": "execute_result"
    }
   ],
   "source": [
    "df.shape"
   ]
  },
  {
   "cell_type": "code",
   "execution_count": 99,
   "id": "fab08ad8",
   "metadata": {
    "ExecuteTime": {
     "end_time": "2022-05-28T13:44:17.868038Z",
     "start_time": "2022-05-28T13:44:16.431609Z"
    }
   },
   "outputs": [],
   "source": [
    "# some of the columns commented in features_dict\n",
    "df.drop([\n",
    "    'trip_end_date_days_in_month',\n",
    "    'trip_start_date_days_in_month',\n",
    "    'trip_start_date',\n",
    "    'trip_end_date',\n",
    "    'prop_review_usr_hist_diff',\n",
    "    'place_hist_price_diff_usr_hist',\n",
    "    'prop_review_usr_hist_diff',\n",
    "    'price_per_day_diff_to_place_hist_price',\n",
    "    'price_per_trip_diff_to_place_hist_price',\n",
    "    'price_per_trip_ratio_to_usr_hist',\n",
    "    'price_per_trip_diff_to_usr_hist',\n",
    "    'price_per_day_ratio_to_usr_hist',\n",
    "    'price_per_day_diff_to_usr_hist'\n",
    "],\n",
    "        axis=1,\n",
    "        inplace=True)"
   ]
  },
  {
   "cell_type": "code",
   "execution_count": 100,
   "id": "21794eec",
   "metadata": {
    "ExecuteTime": {
     "end_time": "2022-05-28T13:44:17.903381Z",
     "start_time": "2022-05-28T13:44:17.871032Z"
    }
   },
   "outputs": [
    {
     "data": {
      "text/plain": [
       "(8526686, 92)"
      ]
     },
     "execution_count": 100,
     "metadata": {},
     "output_type": "execute_result"
    }
   ],
   "source": [
    "df.shape"
   ]
  },
  {
   "cell_type": "markdown",
   "id": "934c3fc8",
   "metadata": {},
   "source": [
    "## Order price per category and add position per category \n",
    "\n",
    "TODO:\\\n",
    "add price per prop_id and month/season\\\n",
    "add price per destination_id and month/season"
   ]
  },
  {
   "cell_type": "markdown",
   "id": "e8226323",
   "metadata": {},
   "source": [
    "totally safe as we always have srch_id granularity"
   ]
  },
  {
   "cell_type": "code",
   "execution_count": 101,
   "id": "4634101d",
   "metadata": {
    "ExecuteTime": {
     "end_time": "2022-05-28T13:44:30.972276Z",
     "start_time": "2022-05-28T13:44:17.906848Z"
    }
   },
   "outputs": [
    {
     "data": {
      "text/html": [
       "<div>\n",
       "<style scoped>\n",
       "    .dataframe tbody tr th:only-of-type {\n",
       "        vertical-align: middle;\n",
       "    }\n",
       "\n",
       "    .dataframe tbody tr th {\n",
       "        vertical-align: top;\n",
       "    }\n",
       "\n",
       "    .dataframe thead th {\n",
       "        text-align: right;\n",
       "    }\n",
       "</style>\n",
       "<table border=\"1\" class=\"dataframe\">\n",
       "  <thead>\n",
       "    <tr style=\"text-align: right;\">\n",
       "      <th></th>\n",
       "      <th>price_usd</th>\n",
       "      <th>price_index_per_srch_id</th>\n",
       "    </tr>\n",
       "  </thead>\n",
       "  <tbody>\n",
       "  </tbody>\n",
       "</table>\n",
       "</div>"
      ],
      "text/plain": [
       "Empty DataFrame\n",
       "Columns: [price_usd, price_index_per_srch_id]\n",
       "Index: []"
      ]
     },
     "execution_count": 101,
     "metadata": {},
     "output_type": "execute_result"
    }
   ],
   "source": [
    "# Order price per srch_id \n",
    "df.sort_values(['srch_id', 'price_usd'], inplace=True)\n",
    "df['price_index_per_srch_id'] = df.groupby(['srch_id']).cumcount()\n",
    "df.sort_index(inplace=True)\n",
    "df[df['srch_id'] == 4][['price_usd', 'price_index_per_srch_id']].sort_values('price_usd').head(10)"
   ]
  },
  {
   "cell_type": "markdown",
   "id": "f7e0fdcd",
   "metadata": {},
   "source": [
    "TODO: check if not leaky"
   ]
  },
  {
   "cell_type": "code",
   "execution_count": 102,
   "id": "3cc8da17",
   "metadata": {
    "ExecuteTime": {
     "end_time": "2022-05-28T13:44:42.960751Z",
     "start_time": "2022-05-28T13:44:30.978805Z"
    }
   },
   "outputs": [],
   "source": [
    "# Order price per srch_destination_id \n",
    "df.sort_values(['srch_destination_id', 'price_usd'], inplace=True)\n",
    "df['price_index_per_srch_destination_id'] = df.groupby(['srch_destination_id']).cumcount()\n",
    "df.sort_index(inplace=True)"
   ]
  },
  {
   "cell_type": "code",
   "execution_count": 103,
   "id": "f7854df6",
   "metadata": {
    "ExecuteTime": {
     "end_time": "2022-05-28T13:44:43.279300Z",
     "start_time": "2022-05-28T13:44:42.965084Z"
    }
   },
   "outputs": [
    {
     "data": {
      "image/png": "[encoded data removed]",
      "text/plain": [
       "<Figure size 432x288 with 1 Axes>"
      ]
     },
     "metadata": {
      "needs_background": "light"
     },
     "output_type": "display_data"
    }
   ],
   "source": [
    "df.loc[df['train'] & (df['srch_destination_id'] == 11197), 'price_usd'].hist(density=True, alpha=0.3, label='train')\n",
    "df.loc[df['val'] & (df['srch_destination_id'] == 11197), 'price_usd'].hist(density=True, alpha=0.3, label='val')\n",
    "df.loc[df['test'] & (df['srch_destination_id'] == 11197), 'price_usd'].hist(density=True, alpha=0.3, label='test')\n",
    "df.loc[df['subm'] & (df['srch_destination_id'] == 11197), 'price_usd'].hist(density=True, alpha=0.3, label='subm')\n",
    "# df.loc[df['subm'] & (df['srch_destination_id'] == 11197), 'price_usd'].hist(density=True, alpha=0.3)\n",
    "plt.legend();"
   ]
  },
  {
   "cell_type": "markdown",
   "id": "2494457a",
   "metadata": {},
   "source": [
    "the hists are not perfectly the same but price is known in advance in this competition. "
   ]
  },
  {
   "cell_type": "markdown",
   "id": "038b0652",
   "metadata": {},
   "source": [
    "this is tricky. but if we know the price in advance, why not"
   ]
  },
  {
   "cell_type": "code",
   "execution_count": 104,
   "id": "c4b9a0c9",
   "metadata": {
    "ExecuteTime": {
     "end_time": "2022-05-28T13:45:00.942714Z",
     "start_time": "2022-05-28T13:44:43.282633Z"
    }
   },
   "outputs": [],
   "source": [
    "# Order price per prop_id \n",
    "df.sort_values(['prop_id', 'price_usd'], inplace=True)\n",
    "df['price_index_per_prop_id'] = df.groupby(['prop_id']).cumcount()\n",
    "df.sort_index(inplace=True)"
   ]
  },
  {
   "cell_type": "markdown",
   "id": "b86e3e8e",
   "metadata": {},
   "source": [
    "## Others"
   ]
  },
  {
   "cell_type": "markdown",
   "id": "5125d2c6",
   "metadata": {},
   "source": [
    "**srch_query_affinity_score** - The log of the probability a hotel will be clicked on in Internet searches (hence the values are negative)  A null signifies there are no data (i.e. hotel did not register in any searches)"
   ]
  },
  {
   "cell_type": "code",
   "execution_count": 105,
   "id": "1341416d",
   "metadata": {
    "ExecuteTime": {
     "end_time": "2022-05-28T13:45:00.997308Z",
     "start_time": "2022-05-28T13:45:00.945483Z"
    }
   },
   "outputs": [],
   "source": [
    "df['srch_query_affinity_score_prob'] = np.exp(df['srch_query_affinity_score'])"
   ]
  },
  {
   "cell_type": "markdown",
   "id": "df33ab60",
   "metadata": {},
   "source": [
    "# Feature engineering with respect to the time "
   ]
  },
  {
   "cell_type": "markdown",
   "id": "5e9996c6",
   "metadata": {},
   "source": [
    "## prop_starrating_monotonic (feature from winner)"
   ]
  },
  {
   "cell_type": "code",
   "execution_count": 106,
   "id": "e4f5132c",
   "metadata": {
    "ExecuteTime": {
     "end_time": "2022-05-28T13:45:01.032406Z",
     "start_time": "2022-05-28T13:45:01.001995Z"
    }
   },
   "outputs": [],
   "source": [
    "# mean_booking_starrating = df[df['train'] & df['booking_bool']]['prop_starrating'].mean()\n",
    "# print(mean_booking_starrating)\n",
    "\n",
    "# df['prop_starrating_monotonic'] = abs(df['prop_starrating'] - mean_booking_starrating) \n",
    "# df['prop_starrating_monotonic'].hist();"
   ]
  },
  {
   "cell_type": "markdown",
   "id": "daf37b99",
   "metadata": {},
   "source": [
    "## Booking and clicking probs during train"
   ]
  },
  {
   "cell_type": "code",
   "execution_count": 107,
   "id": "7d3f3828",
   "metadata": {
    "ExecuteTime": {
     "end_time": "2022-05-28T13:45:03.232168Z",
     "start_time": "2022-05-28T13:45:01.038591Z"
    }
   },
   "outputs": [
    {
     "data": {
      "text/html": [
       "<div>\n",
       "<style scoped>\n",
       "    .dataframe tbody tr th:only-of-type {\n",
       "        vertical-align: middle;\n",
       "    }\n",
       "\n",
       "    .dataframe tbody tr th {\n",
       "        vertical-align: top;\n",
       "    }\n",
       "\n",
       "    .dataframe thead th {\n",
       "        text-align: right;\n",
       "    }\n",
       "</style>\n",
       "<table border=\"1\" class=\"dataframe\">\n",
       "  <thead>\n",
       "    <tr style=\"text-align: right;\">\n",
       "      <th></th>\n",
       "      <th>booking_prob_train</th>\n",
       "      <th>click_prob_train</th>\n",
       "    </tr>\n",
       "    <tr>\n",
       "      <th>prop_id</th>\n",
       "      <th></th>\n",
       "      <th></th>\n",
       "    </tr>\n",
       "  </thead>\n",
       "  <tbody>\n",
       "    <tr>\n",
       "      <th>1</th>\n",
       "      <td>0.000000</td>\n",
       "      <td>0.000000</td>\n",
       "    </tr>\n",
       "    <tr>\n",
       "      <th>2</th>\n",
       "      <td>0.100000</td>\n",
       "      <td>0.100000</td>\n",
       "    </tr>\n",
       "    <tr>\n",
       "      <th>3</th>\n",
       "      <td>0.033333</td>\n",
       "      <td>0.033333</td>\n",
       "    </tr>\n",
       "    <tr>\n",
       "      <th>4</th>\n",
       "      <td>0.100000</td>\n",
       "      <td>0.100000</td>\n",
       "    </tr>\n",
       "    <tr>\n",
       "      <th>5</th>\n",
       "      <td>0.000000</td>\n",
       "      <td>0.000000</td>\n",
       "    </tr>\n",
       "    <tr>\n",
       "      <th>...</th>\n",
       "      <td>...</td>\n",
       "      <td>...</td>\n",
       "    </tr>\n",
       "    <tr>\n",
       "      <th>140816</th>\n",
       "      <td>0.117647</td>\n",
       "      <td>0.125000</td>\n",
       "    </tr>\n",
       "    <tr>\n",
       "      <th>140817</th>\n",
       "      <td>0.000000</td>\n",
       "      <td>0.000000</td>\n",
       "    </tr>\n",
       "    <tr>\n",
       "      <th>140818</th>\n",
       "      <td>0.000000</td>\n",
       "      <td>0.000000</td>\n",
       "    </tr>\n",
       "    <tr>\n",
       "      <th>140820</th>\n",
       "      <td>0.000000</td>\n",
       "      <td>0.000000</td>\n",
       "    </tr>\n",
       "    <tr>\n",
       "      <th>140821</th>\n",
       "      <td>0.142857</td>\n",
       "      <td>0.142857</td>\n",
       "    </tr>\n",
       "  </tbody>\n",
       "</table>\n",
       "<p>124137 rows × 2 columns</p>\n",
       "</div>"
      ],
      "text/plain": [
       "         booking_prob_train  click_prob_train\n",
       "prop_id                                      \n",
       "1                  0.000000          0.000000\n",
       "2                  0.100000          0.100000\n",
       "3                  0.033333          0.033333\n",
       "4                  0.100000          0.100000\n",
       "5                  0.000000          0.000000\n",
       "...                     ...               ...\n",
       "140816             0.117647          0.125000\n",
       "140817             0.000000          0.000000\n",
       "140818             0.000000          0.000000\n",
       "140820             0.000000          0.000000\n",
       "140821             0.142857          0.142857\n",
       "\n",
       "[124137 rows x 2 columns]"
      ]
     },
     "execution_count": 107,
     "metadata": {},
     "output_type": "execute_result"
    }
   ],
   "source": [
    "book_click_prob_per_prop = df[df['train']].groupby(['prop_id'])[['booking_bool', 'click_bool']].mean()\n",
    "book_click_prob_per_prop.rename(columns={'booking_bool': 'booking_prob_train',\n",
    "                                         'click_bool': 'click_prob_train'}, inplace=True)\n",
    "book_click_prob_per_prop"
   ]
  },
  {
   "cell_type": "code",
   "execution_count": 108,
   "id": "5872381c",
   "metadata": {
    "ExecuteTime": {
     "end_time": "2022-05-28T13:45:03.268635Z",
     "start_time": "2022-05-28T13:45:03.234351Z"
    }
   },
   "outputs": [],
   "source": [
    "book_click_prob_per_prop['book_per_click'] = book_click_prob_per_prop['booking_prob_train'] / \\\n",
    "    book_click_prob_per_prop['click_prob_train']  # 0/0 will be replaced with nans which is ok"
   ]
  },
  {
   "cell_type": "code",
   "execution_count": 109,
   "id": "ee201e0b",
   "metadata": {
    "ExecuteTime": {
     "end_time": "2022-05-28T13:45:25.774247Z",
     "start_time": "2022-05-28T13:45:03.270767Z"
    }
   },
   "outputs": [
    {
     "data": {
      "text/plain": [
       "(8526686, 99)"
      ]
     },
     "execution_count": 109,
     "metadata": {},
     "output_type": "execute_result"
    }
   ],
   "source": [
    "df = pd.merge(df, book_click_prob_per_prop.reset_index(), on='prop_id',\n",
    "              how='left')\n",
    "df.shape"
   ]
  },
  {
   "cell_type": "code",
   "execution_count": 110,
   "id": "9436a5ab",
   "metadata": {
    "ExecuteTime": {
     "end_time": "2022-05-28T13:45:25.860571Z",
     "start_time": "2022-05-28T13:45:25.778324Z"
    }
   },
   "outputs": [
    {
     "data": {
      "text/html": [
       "<div>\n",
       "<style scoped>\n",
       "    .dataframe tbody tr th:only-of-type {\n",
       "        vertical-align: middle;\n",
       "    }\n",
       "\n",
       "    .dataframe tbody tr th {\n",
       "        vertical-align: top;\n",
       "    }\n",
       "\n",
       "    .dataframe thead th {\n",
       "        text-align: right;\n",
       "    }\n",
       "</style>\n",
       "<table border=\"1\" class=\"dataframe\">\n",
       "  <thead>\n",
       "    <tr style=\"text-align: right;\">\n",
       "      <th></th>\n",
       "      <th>srch_id</th>\n",
       "      <th>date_time</th>\n",
       "      <th>site_id</th>\n",
       "      <th>visitor_location_country_id</th>\n",
       "      <th>visitor_hist_starrating</th>\n",
       "      <th>visitor_hist_adr_usd</th>\n",
       "      <th>prop_country_id</th>\n",
       "      <th>prop_id</th>\n",
       "      <th>prop_starrating</th>\n",
       "      <th>prop_review_score</th>\n",
       "      <th>prop_brand_bool</th>\n",
       "      <th>prop_location_score1</th>\n",
       "      <th>prop_location_score2</th>\n",
       "      <th>prop_log_historical_price</th>\n",
       "      <th>position</th>\n",
       "      <th>price_usd</th>\n",
       "      <th>promotion_flag</th>\n",
       "      <th>srch_destination_id</th>\n",
       "      <th>srch_length_of_stay</th>\n",
       "      <th>srch_booking_window</th>\n",
       "      <th>srch_adults_count</th>\n",
       "      <th>srch_children_count</th>\n",
       "      <th>srch_room_count</th>\n",
       "      <th>srch_saturday_night_bool</th>\n",
       "      <th>srch_query_affinity_score</th>\n",
       "      <th>orig_destination_distance</th>\n",
       "      <th>random_bool</th>\n",
       "      <th>comp3_rate_percent_diff</th>\n",
       "      <th>click_bool</th>\n",
       "      <th>gross_bookings_usd</th>\n",
       "      <th>booking_bool</th>\n",
       "      <th>test</th>\n",
       "      <th>val</th>\n",
       "      <th>train</th>\n",
       "      <th>subm</th>\n",
       "      <th>price_per_day</th>\n",
       "      <th>price_per_trip</th>\n",
       "      <th>date_time_ordinal</th>\n",
       "      <th>prop_location_score_diff</th>\n",
       "      <th>prop_location_score_sum</th>\n",
       "      <th>prop_location_score_mul</th>\n",
       "      <th>prop_location_score_diff_log</th>\n",
       "      <th>prop_location_score_sum_log</th>\n",
       "      <th>prop_location_score_mul_log</th>\n",
       "      <th>ratio_of_comp_with_lower_price_than_expedia</th>\n",
       "      <th>comp5_rate_percent_diff_signed</th>\n",
       "      <th>comp8_rate_percent_diff_signed</th>\n",
       "      <th>price_per_day_pow_2</th>\n",
       "      <th>price_per_day_log_10</th>\n",
       "      <th>price_per_day_reciprocal</th>\n",
       "      <th>prop_log_historical_price_pow_0.33</th>\n",
       "      <th>prop_log_historical_price_log_10</th>\n",
       "      <th>prop_log_historical_price_reciprocal</th>\n",
       "      <th>prop_historical_price</th>\n",
       "      <th>price_diff_to_usr_hist</th>\n",
       "      <th>price_ratio_to_usr_hist</th>\n",
       "      <th>price_diff_to_place_hist_price</th>\n",
       "      <th>prop_star_usr_hist_diff</th>\n",
       "      <th>prop_starrating_bonus_chain</th>\n",
       "      <th>prop_star_review_sum</th>\n",
       "      <th>prop_star_review_diff</th>\n",
       "      <th>prop_star_review_min</th>\n",
       "      <th>prop_star_review_max</th>\n",
       "      <th>prop_star_review_mean</th>\n",
       "      <th>price_per_star</th>\n",
       "      <th>price_per_review_score</th>\n",
       "      <th>price_per_star_log_10</th>\n",
       "      <th>price_per_review_score_log_10</th>\n",
       "      <th>booking_weeks_ahead</th>\n",
       "      <th>len_of_stay_to_booking_ahead_ratio</th>\n",
       "      <th>date</th>\n",
       "      <th>trip_start_date_week</th>\n",
       "      <th>trip_start_date_week_mid_summer_index</th>\n",
       "      <th>trip_start_date_month</th>\n",
       "      <th>trip_start_date_quarter</th>\n",
       "      <th>trip_start_date_season_num</th>\n",
       "      <th>trip_start_date_year</th>\n",
       "      <th>trip_start_date_week_id</th>\n",
       "      <th>trip_end_date_week</th>\n",
       "      <th>trip_end_date_week_mid_summer_index</th>\n",
       "      <th>trip_end_date_month</th>\n",
       "      <th>trip_end_date_quarter</th>\n",
       "      <th>trip_end_date_season_num</th>\n",
       "      <th>trip_end_date_year</th>\n",
       "      <th>trip_end_date_week_id</th>\n",
       "      <th>children_per_adult</th>\n",
       "      <th>total_people</th>\n",
       "      <th>people_per_room</th>\n",
       "      <th>separate_children_room</th>\n",
       "      <th>price_usd_log10_norm_by_srch_id</th>\n",
       "      <th>price_usd_log10_norm_by_prop_id</th>\n",
       "      <th>prop_starrating_norm_by_srch_id</th>\n",
       "      <th>price_index_per_srch_id</th>\n",
       "      <th>price_index_per_srch_destination_id</th>\n",
       "      <th>price_index_per_prop_id</th>\n",
       "      <th>srch_query_affinity_score_prob</th>\n",
       "      <th>booking_prob_train</th>\n",
       "      <th>click_prob_train</th>\n",
       "      <th>book_per_click</th>\n",
       "    </tr>\n",
       "  </thead>\n",
       "  <tbody>\n",
       "    <tr>\n",
       "      <th>0</th>\n",
       "      <td>32491</td>\n",
       "      <td>2012-11-01 00:01:37</td>\n",
       "      <td>24</td>\n",
       "      <td>216</td>\n",
       "      <td>NaN</td>\n",
       "      <td>NaN</td>\n",
       "      <td>225</td>\n",
       "      <td>84277</td>\n",
       "      <td>4.0</td>\n",
       "      <td>3.5</td>\n",
       "      <td>0</td>\n",
       "      <td>4.72</td>\n",
       "      <td>0.3862</td>\n",
       "      <td>5.06</td>\n",
       "      <td>NaN</td>\n",
       "      <td>76.820000</td>\n",
       "      <td>1</td>\n",
       "      <td>14083</td>\n",
       "      <td>2</td>\n",
       "      <td>16</td>\n",
       "      <td>1</td>\n",
       "      <td>0</td>\n",
       "      <td>1</td>\n",
       "      <td>1</td>\n",
       "      <td>NaN</td>\n",
       "      <td>NaN</td>\n",
       "      <td>0</td>\n",
       "      <td>NaN</td>\n",
       "      <td>NaN</td>\n",
       "      <td>NaN</td>\n",
       "      <td>NaN</td>\n",
       "      <td>False</td>\n",
       "      <td>False</td>\n",
       "      <td>False</td>\n",
       "      <td>True</td>\n",
       "      <td>76.820000</td>\n",
       "      <td>153.639999</td>\n",
       "      <td>1</td>\n",
       "      <td>4.3338</td>\n",
       "      <td>5.1062</td>\n",
       "      <td>1.822864</td>\n",
       "      <td>6.092576</td>\n",
       "      <td>3.347424</td>\n",
       "      <td>-6.478559</td>\n",
       "      <td>NaN</td>\n",
       "      <td>&lt;NA&gt;</td>\n",
       "      <td>&lt;NA&gt;</td>\n",
       "      <td>5901.312500</td>\n",
       "      <td>1.885474</td>\n",
       "      <td>0.013017</td>\n",
       "      <td>1.707535</td>\n",
       "      <td>0.704151</td>\n",
       "      <td>0.197628</td>\n",
       "      <td>157.590500</td>\n",
       "      <td>NaN</td>\n",
       "      <td>NaN</td>\n",
       "      <td>-80.770500</td>\n",
       "      <td>NaN</td>\n",
       "      <td>4.0</td>\n",
       "      <td>7.5</td>\n",
       "      <td>0.5</td>\n",
       "      <td>3.5</td>\n",
       "      <td>4.0</td>\n",
       "      <td>3.75</td>\n",
       "      <td>19.204995</td>\n",
       "      <td>21.948565</td>\n",
       "      <td>1.283414</td>\n",
       "      <td>1.341406</td>\n",
       "      <td>2.285714</td>\n",
       "      <td>8.0</td>\n",
       "      <td>2012-11-01</td>\n",
       "      <td>46</td>\n",
       "      <td>8</td>\n",
       "      <td>11</td>\n",
       "      <td>4</td>\n",
       "      <td>4</td>\n",
       "      <td>2012</td>\n",
       "      <td>201246</td>\n",
       "      <td>47</td>\n",
       "      <td>7</td>\n",
       "      <td>11</td>\n",
       "      <td>4</td>\n",
       "      <td>4</td>\n",
       "      <td>2012</td>\n",
       "      <td>201247</td>\n",
       "      <td>0.0</td>\n",
       "      <td>1</td>\n",
       "      <td>1.0</td>\n",
       "      <td>False</td>\n",
       "      <td>-0.824531</td>\n",
       "      <td>-0.245700</td>\n",
       "      <td>0.568731</td>\n",
       "      <td>8</td>\n",
       "      <td>151</td>\n",
       "      <td>56</td>\n",
       "      <td>NaN</td>\n",
       "      <td>0.105263</td>\n",
       "      <td>0.157895</td>\n",
       "      <td>0.666667</td>\n",
       "    </tr>\n",
       "    <tr>\n",
       "      <th>1</th>\n",
       "      <td>32491</td>\n",
       "      <td>2012-11-01 00:01:37</td>\n",
       "      <td>24</td>\n",
       "      <td>216</td>\n",
       "      <td>NaN</td>\n",
       "      <td>NaN</td>\n",
       "      <td>225</td>\n",
       "      <td>69323</td>\n",
       "      <td>3.0</td>\n",
       "      <td>4.5</td>\n",
       "      <td>0</td>\n",
       "      <td>4.70</td>\n",
       "      <td>0.1667</td>\n",
       "      <td>4.85</td>\n",
       "      <td>NaN</td>\n",
       "      <td>84.209999</td>\n",
       "      <td>0</td>\n",
       "      <td>14083</td>\n",
       "      <td>2</td>\n",
       "      <td>16</td>\n",
       "      <td>1</td>\n",
       "      <td>0</td>\n",
       "      <td>1</td>\n",
       "      <td>1</td>\n",
       "      <td>NaN</td>\n",
       "      <td>NaN</td>\n",
       "      <td>0</td>\n",
       "      <td>NaN</td>\n",
       "      <td>NaN</td>\n",
       "      <td>NaN</td>\n",
       "      <td>NaN</td>\n",
       "      <td>False</td>\n",
       "      <td>False</td>\n",
       "      <td>False</td>\n",
       "      <td>True</td>\n",
       "      <td>84.209999</td>\n",
       "      <td>168.419998</td>\n",
       "      <td>1</td>\n",
       "      <td>4.5333</td>\n",
       "      <td>4.8667</td>\n",
       "      <td>0.783490</td>\n",
       "      <td>7.284665</td>\n",
       "      <td>2.115335</td>\n",
       "      <td>-12.147926</td>\n",
       "      <td>NaN</td>\n",
       "      <td>0.0</td>\n",
       "      <td>&lt;NA&gt;</td>\n",
       "      <td>7091.323730</td>\n",
       "      <td>1.925364</td>\n",
       "      <td>0.011875</td>\n",
       "      <td>1.683817</td>\n",
       "      <td>0.685742</td>\n",
       "      <td>0.206186</td>\n",
       "      <td>127.740387</td>\n",
       "      <td>NaN</td>\n",
       "      <td>NaN</td>\n",
       "      <td>-43.530388</td>\n",
       "      <td>NaN</td>\n",
       "      <td>3.0</td>\n",
       "      <td>7.5</td>\n",
       "      <td>-1.5</td>\n",
       "      <td>3.0</td>\n",
       "      <td>4.5</td>\n",
       "      <td>3.75</td>\n",
       "      <td>28.069990</td>\n",
       "      <td>18.713329</td>\n",
       "      <td>1.448242</td>\n",
       "      <td>1.272151</td>\n",
       "      <td>2.285714</td>\n",
       "      <td>8.0</td>\n",
       "      <td>2012-11-01</td>\n",
       "      <td>46</td>\n",
       "      <td>8</td>\n",
       "      <td>11</td>\n",
       "      <td>4</td>\n",
       "      <td>4</td>\n",
       "      <td>2012</td>\n",
       "      <td>201246</td>\n",
       "      <td>47</td>\n",
       "      <td>7</td>\n",
       "      <td>11</td>\n",
       "      <td>4</td>\n",
       "      <td>4</td>\n",
       "      <td>2012</td>\n",
       "      <td>201247</td>\n",
       "      <td>0.0</td>\n",
       "      <td>1</td>\n",
       "      <td>1.0</td>\n",
       "      <td>False</td>\n",
       "      <td>-0.671271</td>\n",
       "      <td>-1.183756</td>\n",
       "      <td>-0.731226</td>\n",
       "      <td>14</td>\n",
       "      <td>277</td>\n",
       "      <td>0</td>\n",
       "      <td>NaN</td>\n",
       "      <td>0.000000</td>\n",
       "      <td>0.000000</td>\n",
       "      <td>NaN</td>\n",
       "    </tr>\n",
       "    <tr>\n",
       "      <th>2</th>\n",
       "      <td>32491</td>\n",
       "      <td>2012-11-01 00:01:37</td>\n",
       "      <td>24</td>\n",
       "      <td>216</td>\n",
       "      <td>NaN</td>\n",
       "      <td>NaN</td>\n",
       "      <td>225</td>\n",
       "      <td>61600</td>\n",
       "      <td>5.0</td>\n",
       "      <td>4.5</td>\n",
       "      <td>1</td>\n",
       "      <td>4.30</td>\n",
       "      <td>NaN</td>\n",
       "      <td>6.10</td>\n",
       "      <td>NaN</td>\n",
       "      <td>293.579987</td>\n",
       "      <td>0</td>\n",
       "      <td>14083</td>\n",
       "      <td>2</td>\n",
       "      <td>16</td>\n",
       "      <td>1</td>\n",
       "      <td>0</td>\n",
       "      <td>1</td>\n",
       "      <td>1</td>\n",
       "      <td>NaN</td>\n",
       "      <td>NaN</td>\n",
       "      <td>0</td>\n",
       "      <td>NaN</td>\n",
       "      <td>NaN</td>\n",
       "      <td>NaN</td>\n",
       "      <td>NaN</td>\n",
       "      <td>False</td>\n",
       "      <td>False</td>\n",
       "      <td>False</td>\n",
       "      <td>True</td>\n",
       "      <td>293.579987</td>\n",
       "      <td>587.159973</td>\n",
       "      <td>1</td>\n",
       "      <td>NaN</td>\n",
       "      <td>NaN</td>\n",
       "      <td>NaN</td>\n",
       "      <td>NaN</td>\n",
       "      <td>NaN</td>\n",
       "      <td>NaN</td>\n",
       "      <td>NaN</td>\n",
       "      <td>&lt;NA&gt;</td>\n",
       "      <td>&lt;NA&gt;</td>\n",
       "      <td>86189.210938</td>\n",
       "      <td>2.467726</td>\n",
       "      <td>0.003406</td>\n",
       "      <td>1.816180</td>\n",
       "      <td>0.785330</td>\n",
       "      <td>0.163934</td>\n",
       "      <td>445.857697</td>\n",
       "      <td>NaN</td>\n",
       "      <td>NaN</td>\n",
       "      <td>-152.277710</td>\n",
       "      <td>NaN</td>\n",
       "      <td>6.0</td>\n",
       "      <td>9.5</td>\n",
       "      <td>0.5</td>\n",
       "      <td>4.5</td>\n",
       "      <td>5.0</td>\n",
       "      <td>4.75</td>\n",
       "      <td>58.715986</td>\n",
       "      <td>65.239983</td>\n",
       "      <td>1.768756</td>\n",
       "      <td>1.814514</td>\n",
       "      <td>2.285714</td>\n",
       "      <td>8.0</td>\n",
       "      <td>2012-11-01</td>\n",
       "      <td>46</td>\n",
       "      <td>8</td>\n",
       "      <td>11</td>\n",
       "      <td>4</td>\n",
       "      <td>4</td>\n",
       "      <td>2012</td>\n",
       "      <td>201246</td>\n",
       "      <td>47</td>\n",
       "      <td>7</td>\n",
       "      <td>11</td>\n",
       "      <td>4</td>\n",
       "      <td>4</td>\n",
       "      <td>2012</td>\n",
       "      <td>201247</td>\n",
       "      <td>0.0</td>\n",
       "      <td>1</td>\n",
       "      <td>1.0</td>\n",
       "      <td>False</td>\n",
       "      <td>1.412668</td>\n",
       "      <td>-0.467286</td>\n",
       "      <td>1.868688</td>\n",
       "      <td>46</td>\n",
       "      <td>1329</td>\n",
       "      <td>27</td>\n",
       "      <td>NaN</td>\n",
       "      <td>0.023810</td>\n",
       "      <td>0.023810</td>\n",
       "      <td>1.000000</td>\n",
       "    </tr>\n",
       "    <tr>\n",
       "      <th>3</th>\n",
       "      <td>32491</td>\n",
       "      <td>2012-11-01 00:01:37</td>\n",
       "      <td>24</td>\n",
       "      <td>216</td>\n",
       "      <td>NaN</td>\n",
       "      <td>NaN</td>\n",
       "      <td>225</td>\n",
       "      <td>57269</td>\n",
       "      <td>4.0</td>\n",
       "      <td>4.5</td>\n",
       "      <td>0</td>\n",
       "      <td>4.62</td>\n",
       "      <td>0.1302</td>\n",
       "      <td>5.26</td>\n",
       "      <td>NaN</td>\n",
       "      <td>433.390015</td>\n",
       "      <td>1</td>\n",
       "      <td>14083</td>\n",
       "      <td>2</td>\n",
       "      <td>16</td>\n",
       "      <td>1</td>\n",
       "      <td>0</td>\n",
       "      <td>1</td>\n",
       "      <td>1</td>\n",
       "      <td>NaN</td>\n",
       "      <td>NaN</td>\n",
       "      <td>0</td>\n",
       "      <td>3.0</td>\n",
       "      <td>NaN</td>\n",
       "      <td>NaN</td>\n",
       "      <td>NaN</td>\n",
       "      <td>False</td>\n",
       "      <td>False</td>\n",
       "      <td>False</td>\n",
       "      <td>True</td>\n",
       "      <td>433.390015</td>\n",
       "      <td>866.780029</td>\n",
       "      <td>1</td>\n",
       "      <td>4.4898</td>\n",
       "      <td>4.7502</td>\n",
       "      <td>0.601524</td>\n",
       "      <td>7.561187</td>\n",
       "      <td>1.678812</td>\n",
       "      <td>-13.588286</td>\n",
       "      <td>NaN</td>\n",
       "      <td>2.0</td>\n",
       "      <td>&lt;NA&gt;</td>\n",
       "      <td>187826.906250</td>\n",
       "      <td>2.636879</td>\n",
       "      <td>0.002307</td>\n",
       "      <td>1.729519</td>\n",
       "      <td>0.720986</td>\n",
       "      <td>0.190114</td>\n",
       "      <td>192.481522</td>\n",
       "      <td>NaN</td>\n",
       "      <td>NaN</td>\n",
       "      <td>240.908493</td>\n",
       "      <td>NaN</td>\n",
       "      <td>4.0</td>\n",
       "      <td>8.5</td>\n",
       "      <td>-0.5</td>\n",
       "      <td>4.0</td>\n",
       "      <td>4.5</td>\n",
       "      <td>4.25</td>\n",
       "      <td>108.347477</td>\n",
       "      <td>96.308871</td>\n",
       "      <td>2.034819</td>\n",
       "      <td>1.983666</td>\n",
       "      <td>2.285714</td>\n",
       "      <td>8.0</td>\n",
       "      <td>2012-11-01</td>\n",
       "      <td>46</td>\n",
       "      <td>8</td>\n",
       "      <td>11</td>\n",
       "      <td>4</td>\n",
       "      <td>4</td>\n",
       "      <td>2012</td>\n",
       "      <td>201246</td>\n",
       "      <td>47</td>\n",
       "      <td>7</td>\n",
       "      <td>11</td>\n",
       "      <td>4</td>\n",
       "      <td>4</td>\n",
       "      <td>2012</td>\n",
       "      <td>201247</td>\n",
       "      <td>0.0</td>\n",
       "      <td>1</td>\n",
       "      <td>1.0</td>\n",
       "      <td>False</td>\n",
       "      <td>2.062634</td>\n",
       "      <td>3.613166</td>\n",
       "      <td>0.568731</td>\n",
       "      <td>49</td>\n",
       "      <td>1376</td>\n",
       "      <td>224</td>\n",
       "      <td>NaN</td>\n",
       "      <td>0.051020</td>\n",
       "      <td>0.051020</td>\n",
       "      <td>1.000000</td>\n",
       "    </tr>\n",
       "    <tr>\n",
       "      <th>4</th>\n",
       "      <td>32491</td>\n",
       "      <td>2012-11-01 00:01:37</td>\n",
       "      <td>24</td>\n",
       "      <td>216</td>\n",
       "      <td>NaN</td>\n",
       "      <td>NaN</td>\n",
       "      <td>225</td>\n",
       "      <td>53733</td>\n",
       "      <td>3.0</td>\n",
       "      <td>3.0</td>\n",
       "      <td>0</td>\n",
       "      <td>4.49</td>\n",
       "      <td>0.1079</td>\n",
       "      <td>4.97</td>\n",
       "      <td>NaN</td>\n",
       "      <td>74.199997</td>\n",
       "      <td>0</td>\n",
       "      <td>14083</td>\n",
       "      <td>2</td>\n",
       "      <td>16</td>\n",
       "      <td>1</td>\n",
       "      <td>0</td>\n",
       "      <td>1</td>\n",
       "      <td>1</td>\n",
       "      <td>NaN</td>\n",
       "      <td>NaN</td>\n",
       "      <td>0</td>\n",
       "      <td>NaN</td>\n",
       "      <td>NaN</td>\n",
       "      <td>NaN</td>\n",
       "      <td>NaN</td>\n",
       "      <td>False</td>\n",
       "      <td>False</td>\n",
       "      <td>False</td>\n",
       "      <td>True</td>\n",
       "      <td>74.199997</td>\n",
       "      <td>148.399994</td>\n",
       "      <td>1</td>\n",
       "      <td>4.3821</td>\n",
       "      <td>4.5979</td>\n",
       "      <td>0.484471</td>\n",
       "      <td>7.702220</td>\n",
       "      <td>1.277780</td>\n",
       "      <td>-14.422866</td>\n",
       "      <td>NaN</td>\n",
       "      <td>NaN</td>\n",
       "      <td>&lt;NA&gt;</td>\n",
       "      <td>5505.639648</td>\n",
       "      <td>1.870404</td>\n",
       "      <td>0.013477</td>\n",
       "      <td>1.697452</td>\n",
       "      <td>0.696356</td>\n",
       "      <td>0.201207</td>\n",
       "      <td>144.026855</td>\n",
       "      <td>NaN</td>\n",
       "      <td>NaN</td>\n",
       "      <td>-69.826859</td>\n",
       "      <td>NaN</td>\n",
       "      <td>3.0</td>\n",
       "      <td>6.0</td>\n",
       "      <td>0.0</td>\n",
       "      <td>3.0</td>\n",
       "      <td>3.0</td>\n",
       "      <td>3.00</td>\n",
       "      <td>24.733324</td>\n",
       "      <td>24.733324</td>\n",
       "      <td>1.393283</td>\n",
       "      <td>1.393283</td>\n",
       "      <td>2.285714</td>\n",
       "      <td>8.0</td>\n",
       "      <td>2012-11-01</td>\n",
       "      <td>46</td>\n",
       "      <td>8</td>\n",
       "      <td>11</td>\n",
       "      <td>4</td>\n",
       "      <td>4</td>\n",
       "      <td>2012</td>\n",
       "      <td>201246</td>\n",
       "      <td>47</td>\n",
       "      <td>7</td>\n",
       "      <td>11</td>\n",
       "      <td>4</td>\n",
       "      <td>4</td>\n",
       "      <td>2012</td>\n",
       "      <td>201247</td>\n",
       "      <td>0.0</td>\n",
       "      <td>1</td>\n",
       "      <td>1.0</td>\n",
       "      <td>False</td>\n",
       "      <td>-0.882433</td>\n",
       "      <td>-0.477128</td>\n",
       "      <td>-0.731226</td>\n",
       "      <td>3</td>\n",
       "      <td>109</td>\n",
       "      <td>13</td>\n",
       "      <td>NaN</td>\n",
       "      <td>0.000000</td>\n",
       "      <td>0.000000</td>\n",
       "      <td>NaN</td>\n",
       "    </tr>\n",
       "  </tbody>\n",
       "</table>\n",
       "</div>"
      ],
      "text/plain": [
       "   srch_id           date_time  site_id  visitor_location_country_id  \\\n",
       "0    32491 2012-11-01 00:01:37       24                          216   \n",
       "1    32491 2012-11-01 00:01:37       24                          216   \n",
       "2    32491 2012-11-01 00:01:37       24                          216   \n",
       "3    32491 2012-11-01 00:01:37       24                          216   \n",
       "4    32491 2012-11-01 00:01:37       24                          216   \n",
       "\n",
       "   visitor_hist_starrating  visitor_hist_adr_usd  prop_country_id  prop_id  \\\n",
       "0                      NaN                   NaN              225    84277   \n",
       "1                      NaN                   NaN              225    69323   \n",
       "2                      NaN                   NaN              225    61600   \n",
       "3                      NaN                   NaN              225    57269   \n",
       "4                      NaN                   NaN              225    53733   \n",
       "\n",
       "   prop_starrating  prop_review_score  prop_brand_bool  prop_location_score1  \\\n",
       "0              4.0                3.5                0                  4.72   \n",
       "1              3.0                4.5                0                  4.70   \n",
       "2              5.0                4.5                1                  4.30   \n",
       "3              4.0                4.5                0                  4.62   \n",
       "4              3.0                3.0                0                  4.49   \n",
       "\n",
       "   prop_location_score2  prop_log_historical_price  position   price_usd  \\\n",
       "0                0.3862                       5.06       NaN   76.820000   \n",
       "1                0.1667                       4.85       NaN   84.209999   \n",
       "2                   NaN                       6.10       NaN  293.579987   \n",
       "3                0.1302                       5.26       NaN  433.390015   \n",
       "4                0.1079                       4.97       NaN   74.199997   \n",
       "\n",
       "   promotion_flag  srch_destination_id  srch_length_of_stay  \\\n",
       "0               1                14083                    2   \n",
       "1               0                14083                    2   \n",
       "2               0                14083                    2   \n",
       "3               1                14083                    2   \n",
       "4               0                14083                    2   \n",
       "\n",
       "   srch_booking_window  srch_adults_count  srch_children_count  \\\n",
       "0                   16                  1                    0   \n",
       "1                   16                  1                    0   \n",
       "2                   16                  1                    0   \n",
       "3                   16                  1                    0   \n",
       "4                   16                  1                    0   \n",
       "\n",
       "   srch_room_count  srch_saturday_night_bool  srch_query_affinity_score  \\\n",
       "0                1                         1                        NaN   \n",
       "1                1                         1                        NaN   \n",
       "2                1                         1                        NaN   \n",
       "3                1                         1                        NaN   \n",
       "4                1                         1                        NaN   \n",
       "\n",
       "   orig_destination_distance  random_bool  comp3_rate_percent_diff  \\\n",
       "0                        NaN            0                      NaN   \n",
       "1                        NaN            0                      NaN   \n",
       "2                        NaN            0                      NaN   \n",
       "3                        NaN            0                      3.0   \n",
       "4                        NaN            0                      NaN   \n",
       "\n",
       "   click_bool  gross_bookings_usd  booking_bool   test    val  train  subm  \\\n",
       "0         NaN                 NaN           NaN  False  False  False  True   \n",
       "1         NaN                 NaN           NaN  False  False  False  True   \n",
       "2         NaN                 NaN           NaN  False  False  False  True   \n",
       "3         NaN                 NaN           NaN  False  False  False  True   \n",
       "4         NaN                 NaN           NaN  False  False  False  True   \n",
       "\n",
       "   price_per_day  price_per_trip  date_time_ordinal  prop_location_score_diff  \\\n",
       "0      76.820000      153.639999                  1                    4.3338   \n",
       "1      84.209999      168.419998                  1                    4.5333   \n",
       "2     293.579987      587.159973                  1                       NaN   \n",
       "3     433.390015      866.780029                  1                    4.4898   \n",
       "4      74.199997      148.399994                  1                    4.3821   \n",
       "\n",
       "   prop_location_score_sum  prop_location_score_mul  \\\n",
       "0                   5.1062                 1.822864   \n",
       "1                   4.8667                 0.783490   \n",
       "2                      NaN                      NaN   \n",
       "3                   4.7502                 0.601524   \n",
       "4                   4.5979                 0.484471   \n",
       "\n",
       "   prop_location_score_diff_log  prop_location_score_sum_log  \\\n",
       "0                      6.092576                     3.347424   \n",
       "1                      7.284665                     2.115335   \n",
       "2                           NaN                          NaN   \n",
       "3                      7.561187                     1.678812   \n",
       "4                      7.702220                     1.277780   \n",
       "\n",
       "   prop_location_score_mul_log  ratio_of_comp_with_lower_price_than_expedia  \\\n",
       "0                    -6.478559                                          NaN   \n",
       "1                   -12.147926                                          NaN   \n",
       "2                          NaN                                          NaN   \n",
       "3                   -13.588286                                          NaN   \n",
       "4                   -14.422866                                          NaN   \n",
       "\n",
       "   comp5_rate_percent_diff_signed  comp8_rate_percent_diff_signed  \\\n",
       "0                            <NA>                            <NA>   \n",
       "1                             0.0                            <NA>   \n",
       "2                            <NA>                            <NA>   \n",
       "3                             2.0                            <NA>   \n",
       "4                             NaN                            <NA>   \n",
       "\n",
       "   price_per_day_pow_2  price_per_day_log_10  price_per_day_reciprocal  \\\n",
       "0          5901.312500              1.885474                  0.013017   \n",
       "1          7091.323730              1.925364                  0.011875   \n",
       "2         86189.210938              2.467726                  0.003406   \n",
       "3        187826.906250              2.636879                  0.002307   \n",
       "4          5505.639648              1.870404                  0.013477   \n",
       "\n",
       "   prop_log_historical_price_pow_0.33  prop_log_historical_price_log_10  \\\n",
       "0                            1.707535                          0.704151   \n",
       "1                            1.683817                          0.685742   \n",
       "2                            1.816180                          0.785330   \n",
       "3                            1.729519                          0.720986   \n",
       "4                            1.697452                          0.696356   \n",
       "\n",
       "   prop_log_historical_price_reciprocal  prop_historical_price  \\\n",
       "0                              0.197628             157.590500   \n",
       "1                              0.206186             127.740387   \n",
       "2                              0.163934             445.857697   \n",
       "3                              0.190114             192.481522   \n",
       "4                              0.201207             144.026855   \n",
       "\n",
       "   price_diff_to_usr_hist  price_ratio_to_usr_hist  \\\n",
       "0                     NaN                      NaN   \n",
       "1                     NaN                      NaN   \n",
       "2                     NaN                      NaN   \n",
       "3                     NaN                      NaN   \n",
       "4                     NaN                      NaN   \n",
       "\n",
       "   price_diff_to_place_hist_price  prop_star_usr_hist_diff  \\\n",
       "0                      -80.770500                      NaN   \n",
       "1                      -43.530388                      NaN   \n",
       "2                     -152.277710                      NaN   \n",
       "3                      240.908493                      NaN   \n",
       "4                      -69.826859                      NaN   \n",
       "\n",
       "   prop_starrating_bonus_chain  prop_star_review_sum  prop_star_review_diff  \\\n",
       "0                          4.0                   7.5                    0.5   \n",
       "1                          3.0                   7.5                   -1.5   \n",
       "2                          6.0                   9.5                    0.5   \n",
       "3                          4.0                   8.5                   -0.5   \n",
       "4                          3.0                   6.0                    0.0   \n",
       "\n",
       "   prop_star_review_min  prop_star_review_max  prop_star_review_mean  \\\n",
       "0                   3.5                   4.0                   3.75   \n",
       "1                   3.0                   4.5                   3.75   \n",
       "2                   4.5                   5.0                   4.75   \n",
       "3                   4.0                   4.5                   4.25   \n",
       "4                   3.0                   3.0                   3.00   \n",
       "\n",
       "   price_per_star  price_per_review_score  price_per_star_log_10  \\\n",
       "0       19.204995               21.948565               1.283414   \n",
       "1       28.069990               18.713329               1.448242   \n",
       "2       58.715986               65.239983               1.768756   \n",
       "3      108.347477               96.308871               2.034819   \n",
       "4       24.733324               24.733324               1.393283   \n",
       "\n",
       "   price_per_review_score_log_10  booking_weeks_ahead  \\\n",
       "0                       1.341406             2.285714   \n",
       "1                       1.272151             2.285714   \n",
       "2                       1.814514             2.285714   \n",
       "3                       1.983666             2.285714   \n",
       "4                       1.393283             2.285714   \n",
       "\n",
       "   len_of_stay_to_booking_ahead_ratio       date  trip_start_date_week  \\\n",
       "0                                 8.0 2012-11-01                    46   \n",
       "1                                 8.0 2012-11-01                    46   \n",
       "2                                 8.0 2012-11-01                    46   \n",
       "3                                 8.0 2012-11-01                    46   \n",
       "4                                 8.0 2012-11-01                    46   \n",
       "\n",
       "   trip_start_date_week_mid_summer_index  trip_start_date_month  \\\n",
       "0                                      8                     11   \n",
       "1                                      8                     11   \n",
       "2                                      8                     11   \n",
       "3                                      8                     11   \n",
       "4                                      8                     11   \n",
       "\n",
       "   trip_start_date_quarter  trip_start_date_season_num  trip_start_date_year  \\\n",
       "0                        4                           4                  2012   \n",
       "1                        4                           4                  2012   \n",
       "2                        4                           4                  2012   \n",
       "3                        4                           4                  2012   \n",
       "4                        4                           4                  2012   \n",
       "\n",
       "   trip_start_date_week_id  trip_end_date_week  \\\n",
       "0                   201246                  47   \n",
       "1                   201246                  47   \n",
       "2                   201246                  47   \n",
       "3                   201246                  47   \n",
       "4                   201246                  47   \n",
       "\n",
       "   trip_end_date_week_mid_summer_index  trip_end_date_month  \\\n",
       "0                                    7                   11   \n",
       "1                                    7                   11   \n",
       "2                                    7                   11   \n",
       "3                                    7                   11   \n",
       "4                                    7                   11   \n",
       "\n",
       "   trip_end_date_quarter  trip_end_date_season_num  trip_end_date_year  \\\n",
       "0                      4                         4                2012   \n",
       "1                      4                         4                2012   \n",
       "2                      4                         4                2012   \n",
       "3                      4                         4                2012   \n",
       "4                      4                         4                2012   \n",
       "\n",
       "   trip_end_date_week_id  children_per_adult  total_people  people_per_room  \\\n",
       "0                 201247                 0.0             1              1.0   \n",
       "1                 201247                 0.0             1              1.0   \n",
       "2                 201247                 0.0             1              1.0   \n",
       "3                 201247                 0.0             1              1.0   \n",
       "4                 201247                 0.0             1              1.0   \n",
       "\n",
       "   separate_children_room  price_usd_log10_norm_by_srch_id  \\\n",
       "0                   False                        -0.824531   \n",
       "1                   False                        -0.671271   \n",
       "2                   False                         1.412668   \n",
       "3                   False                         2.062634   \n",
       "4                   False                        -0.882433   \n",
       "\n",
       "   price_usd_log10_norm_by_prop_id  prop_starrating_norm_by_srch_id  \\\n",
       "0                        -0.245700                         0.568731   \n",
       "1                        -1.183756                        -0.731226   \n",
       "2                        -0.467286                         1.868688   \n",
       "3                         3.613166                         0.568731   \n",
       "4                        -0.477128                        -0.731226   \n",
       "\n",
       "   price_index_per_srch_id  price_index_per_srch_destination_id  \\\n",
       "0                        8                                  151   \n",
       "1                       14                                  277   \n",
       "2                       46                                 1329   \n",
       "3                       49                                 1376   \n",
       "4                        3                                  109   \n",
       "\n",
       "   price_index_per_prop_id  srch_query_affinity_score_prob  \\\n",
       "0                       56                             NaN   \n",
       "1                        0                             NaN   \n",
       "2                       27                             NaN   \n",
       "3                      224                             NaN   \n",
       "4                       13                             NaN   \n",
       "\n",
       "   booking_prob_train  click_prob_train  book_per_click  \n",
       "0            0.105263          0.157895        0.666667  \n",
       "1            0.000000          0.000000             NaN  \n",
       "2            0.023810          0.023810        1.000000  \n",
       "3            0.051020          0.051020        1.000000  \n",
       "4            0.000000          0.000000             NaN  "
      ]
     },
     "execution_count": 110,
     "metadata": {},
     "output_type": "execute_result"
    }
   ],
   "source": [
    "df.head()"
   ]
  },
  {
   "cell_type": "markdown",
   "id": "892ffd63",
   "metadata": {},
   "source": [
    "## Position during train"
   ]
  },
  {
   "cell_type": "code",
   "execution_count": 111,
   "id": "62ec73a5",
   "metadata": {
    "ExecuteTime": {
     "end_time": "2022-05-28T13:45:30.825426Z",
     "start_time": "2022-05-28T13:45:25.867675Z"
    }
   },
   "outputs": [
    {
     "data": {
      "text/html": [
       "<div>\n",
       "<style scoped>\n",
       "    .dataframe tbody tr th:only-of-type {\n",
       "        vertical-align: middle;\n",
       "    }\n",
       "\n",
       "    .dataframe tbody tr th {\n",
       "        vertical-align: top;\n",
       "    }\n",
       "\n",
       "    .dataframe thead th {\n",
       "        text-align: right;\n",
       "    }\n",
       "</style>\n",
       "<table border=\"1\" class=\"dataframe\">\n",
       "  <thead>\n",
       "    <tr style=\"text-align: right;\">\n",
       "      <th></th>\n",
       "      <th>mean_position_train</th>\n",
       "    </tr>\n",
       "    <tr>\n",
       "      <th>prop_id</th>\n",
       "      <th></th>\n",
       "    </tr>\n",
       "  </thead>\n",
       "  <tbody>\n",
       "    <tr>\n",
       "      <th>1</th>\n",
       "      <td>30.068182</td>\n",
       "    </tr>\n",
       "    <tr>\n",
       "      <th>2</th>\n",
       "      <td>16.400000</td>\n",
       "    </tr>\n",
       "    <tr>\n",
       "      <th>3</th>\n",
       "      <td>19.966667</td>\n",
       "    </tr>\n",
       "    <tr>\n",
       "      <th>4</th>\n",
       "      <td>18.500000</td>\n",
       "    </tr>\n",
       "    <tr>\n",
       "      <th>5</th>\n",
       "      <td>23.818182</td>\n",
       "    </tr>\n",
       "    <tr>\n",
       "      <th>...</th>\n",
       "      <td>...</td>\n",
       "    </tr>\n",
       "    <tr>\n",
       "      <th>140816</th>\n",
       "      <td>18.970588</td>\n",
       "    </tr>\n",
       "    <tr>\n",
       "      <th>140817</th>\n",
       "      <td>8.000000</td>\n",
       "    </tr>\n",
       "    <tr>\n",
       "      <th>140818</th>\n",
       "      <td>25.000000</td>\n",
       "    </tr>\n",
       "    <tr>\n",
       "      <th>140820</th>\n",
       "      <td>20.857143</td>\n",
       "    </tr>\n",
       "    <tr>\n",
       "      <th>140821</th>\n",
       "      <td>10.571429</td>\n",
       "    </tr>\n",
       "  </tbody>\n",
       "</table>\n",
       "<p>124137 rows × 1 columns</p>\n",
       "</div>"
      ],
      "text/plain": [
       "         mean_position_train\n",
       "prop_id                     \n",
       "1                  30.068182\n",
       "2                  16.400000\n",
       "3                  19.966667\n",
       "4                  18.500000\n",
       "5                  23.818182\n",
       "...                      ...\n",
       "140816             18.970588\n",
       "140817              8.000000\n",
       "140818             25.000000\n",
       "140820             20.857143\n",
       "140821             10.571429\n",
       "\n",
       "[124137 rows x 1 columns]"
      ]
     },
     "execution_count": 111,
     "metadata": {},
     "output_type": "execute_result"
    }
   ],
   "source": [
    "position_per_prop = df[df['train']].groupby(['prop_id'])[['position']].mean()\n",
    "position_per_prop.rename(columns={'position': 'mean_position_train'}, inplace=True)\n",
    "position_per_prop"
   ]
  },
  {
   "cell_type": "code",
   "execution_count": 112,
   "id": "0d602f5d",
   "metadata": {
    "ExecuteTime": {
     "end_time": "2022-05-28T13:45:31.903696Z",
     "start_time": "2022-05-28T13:45:30.827582Z"
    }
   },
   "outputs": [
    {
     "data": {
      "text/html": [
       "<div>\n",
       "<style scoped>\n",
       "    .dataframe tbody tr th:only-of-type {\n",
       "        vertical-align: middle;\n",
       "    }\n",
       "\n",
       "    .dataframe tbody tr th {\n",
       "        vertical-align: top;\n",
       "    }\n",
       "\n",
       "    .dataframe thead th {\n",
       "        text-align: right;\n",
       "    }\n",
       "</style>\n",
       "<table border=\"1\" class=\"dataframe\">\n",
       "  <thead>\n",
       "    <tr style=\"text-align: right;\">\n",
       "      <th></th>\n",
       "      <th>mean_position_train_when_not_random</th>\n",
       "    </tr>\n",
       "    <tr>\n",
       "      <th>prop_id</th>\n",
       "      <th></th>\n",
       "    </tr>\n",
       "  </thead>\n",
       "  <tbody>\n",
       "    <tr>\n",
       "      <th>1</th>\n",
       "      <td>30.785714</td>\n",
       "    </tr>\n",
       "    <tr>\n",
       "      <th>2</th>\n",
       "      <td>16.400000</td>\n",
       "    </tr>\n",
       "    <tr>\n",
       "      <th>3</th>\n",
       "      <td>19.966667</td>\n",
       "    </tr>\n",
       "    <tr>\n",
       "      <th>4</th>\n",
       "      <td>17.333333</td>\n",
       "    </tr>\n",
       "    <tr>\n",
       "      <th>5</th>\n",
       "      <td>23.818182</td>\n",
       "    </tr>\n",
       "    <tr>\n",
       "      <th>...</th>\n",
       "      <td>...</td>\n",
       "    </tr>\n",
       "    <tr>\n",
       "      <th>140816</th>\n",
       "      <td>18.970588</td>\n",
       "    </tr>\n",
       "    <tr>\n",
       "      <th>140817</th>\n",
       "      <td>8.000000</td>\n",
       "    </tr>\n",
       "    <tr>\n",
       "      <th>140818</th>\n",
       "      <td>25.000000</td>\n",
       "    </tr>\n",
       "    <tr>\n",
       "      <th>140820</th>\n",
       "      <td>20.500000</td>\n",
       "    </tr>\n",
       "    <tr>\n",
       "      <th>140821</th>\n",
       "      <td>8.250000</td>\n",
       "    </tr>\n",
       "  </tbody>\n",
       "</table>\n",
       "<p>117856 rows × 1 columns</p>\n",
       "</div>"
      ],
      "text/plain": [
       "         mean_position_train_when_not_random\n",
       "prop_id                                     \n",
       "1                                  30.785714\n",
       "2                                  16.400000\n",
       "3                                  19.966667\n",
       "4                                  17.333333\n",
       "5                                  23.818182\n",
       "...                                      ...\n",
       "140816                             18.970588\n",
       "140817                              8.000000\n",
       "140818                             25.000000\n",
       "140820                             20.500000\n",
       "140821                              8.250000\n",
       "\n",
       "[117856 rows x 1 columns]"
      ]
     },
     "execution_count": 112,
     "metadata": {},
     "output_type": "execute_result"
    }
   ],
   "source": [
    "position_no_random_per_prop = df[df['train'] & (~df['random_bool'])].groupby(['prop_id'])[['position']].mean()\n",
    "position_no_random_per_prop.rename(columns={'position': 'mean_position_train_when_not_random'}, inplace=True)\n",
    "position_no_random_per_prop"
   ]
  },
  {
   "cell_type": "code",
   "execution_count": 113,
   "id": "6e2b2742",
   "metadata": {
    "ExecuteTime": {
     "end_time": "2022-05-28T13:45:59.200582Z",
     "start_time": "2022-05-28T13:45:31.905940Z"
    }
   },
   "outputs": [
    {
     "data": {
      "text/plain": [
       "(8526686, 101)"
      ]
     },
     "execution_count": 113,
     "metadata": {},
     "output_type": "execute_result"
    }
   ],
   "source": [
    "df = pd.merge(df, pd.concat([position_per_prop, position_no_random_per_prop], axis=1).reset_index(), \n",
    "              on='prop_id',\n",
    "              how='left')\n",
    "df.shape"
   ]
  },
  {
   "cell_type": "markdown",
   "id": "7d5a72bc",
   "metadata": {},
   "source": [
    "## Aggregations"
   ]
  },
  {
   "cell_type": "code",
   "execution_count": 114,
   "id": "4617e5ca",
   "metadata": {
    "ExecuteTime": {
     "end_time": "2022-05-28T13:45:59.241519Z",
     "start_time": "2022-05-28T13:45:59.205969Z"
    }
   },
   "outputs": [],
   "source": [
    "from features import apply_composite_for_splits"
   ]
  },
  {
   "cell_type": "markdown",
   "id": "4ca2cc62",
   "metadata": {},
   "source": [
    "### Price aggregations"
   ]
  },
  {
   "cell_type": "markdown",
   "id": "55b11002",
   "metadata": {},
   "source": [
    "#### srch_id"
   ]
  },
  {
   "cell_type": "code",
   "execution_count": 115,
   "id": "8f908f99",
   "metadata": {
    "ExecuteTime": {
     "end_time": "2022-05-28T13:46:09.762911Z",
     "start_time": "2022-05-28T13:45:59.246990Z"
    },
    "scrolled": true
   },
   "outputs": [
    {
     "name": "stdout",
     "output_type": "stream",
     "text": [
      "257103 groups when aggregation by ['srch_id']\n"
     ]
    },
    {
     "data": {
      "text/plain": [
       "(8526686, 113)"
      ]
     },
     "execution_count": 115,
     "metadata": {},
     "output_type": "execute_result"
    }
   ],
   "source": [
    "# prices from the country of user for the destination country\n",
    "groupby_cols = ['srch_id']\n",
    "feature_value_col = 'prop_starrating'\n",
    "agg_methods = [\"mean\", \"median\", \"min\", \"max\"]\n",
    "\n",
    "df = apply_composite_for_splits(df, \n",
    "                                split_cols=None,  # srch_id is independent on split\n",
    "                                groupby_cols=groupby_cols,\n",
    "                                feature_value_col=feature_value_col,\n",
    "                                agg_methods=agg_methods)\n",
    "df.shape"
   ]
  },
  {
   "cell_type": "code",
   "execution_count": 116,
   "id": "ca70acbd",
   "metadata": {
    "ExecuteTime": {
     "end_time": "2022-05-28T13:46:21.160964Z",
     "start_time": "2022-05-28T13:46:09.767790Z"
    }
   },
   "outputs": [
    {
     "name": "stdout",
     "output_type": "stream",
     "text": [
      "257103 groups when aggregation by ['srch_id']\n"
     ]
    },
    {
     "data": {
      "text/plain": [
       "(8526686, 125)"
      ]
     },
     "execution_count": 116,
     "metadata": {},
     "output_type": "execute_result"
    }
   ],
   "source": [
    "# prices from the country of user for the destination country\n",
    "groupby_cols = ['srch_id']\n",
    "feature_value_col = 'prop_location_score2'\n",
    "agg_methods = [\"mean\", \"median\", \"min\", \"max\"]\n",
    "\n",
    "df = apply_composite_for_splits(df, \n",
    "                                split_cols=None,\n",
    "                                groupby_cols=groupby_cols,\n",
    "                                feature_value_col=feature_value_col,\n",
    "                                agg_methods=agg_methods)\n",
    "df.shape"
   ]
  },
  {
   "cell_type": "code",
   "execution_count": 117,
   "id": "c59dc647",
   "metadata": {
    "ExecuteTime": {
     "end_time": "2022-05-28T13:46:31.437338Z",
     "start_time": "2022-05-28T13:46:21.164492Z"
    }
   },
   "outputs": [
    {
     "name": "stdout",
     "output_type": "stream",
     "text": [
      "257103 groups when aggregation by ['srch_id']\n"
     ]
    },
    {
     "data": {
      "text/plain": [
       "(8526686, 137)"
      ]
     },
     "execution_count": 117,
     "metadata": {},
     "output_type": "execute_result"
    }
   ],
   "source": [
    "# prices from the country of user for the destination country\n",
    "groupby_cols = ['srch_id']\n",
    "feature_value_col = 'prop_location_score1'\n",
    "agg_methods = [\"mean\", \"median\", \"min\", \"max\"]\n",
    "\n",
    "df = apply_composite_for_splits(df, \n",
    "                                split_cols=None,\n",
    "                                groupby_cols=groupby_cols,\n",
    "                                feature_value_col=feature_value_col,\n",
    "                                agg_methods=agg_methods)\n",
    "df.shape"
   ]
  },
  {
   "cell_type": "code",
   "execution_count": 118,
   "id": "0f1ed52b",
   "metadata": {
    "ExecuteTime": {
     "end_time": "2022-05-28T13:46:43.154491Z",
     "start_time": "2022-05-28T13:46:31.443455Z"
    }
   },
   "outputs": [
    {
     "name": "stdout",
     "output_type": "stream",
     "text": [
      "257103 groups when aggregation by ['srch_id']\n"
     ]
    },
    {
     "data": {
      "text/plain": [
       "(8526686, 149)"
      ]
     },
     "execution_count": 118,
     "metadata": {},
     "output_type": "execute_result"
    }
   ],
   "source": [
    "# prices from the country of user for the destination country\n",
    "groupby_cols = ['srch_id']\n",
    "feature_value_col = 'price_usd'\n",
    "agg_methods = [\"mean\", \"median\", \"min\", \"max\"]\n",
    "\n",
    "df = apply_composite_for_splits(df, \n",
    "                                split_cols=None,\n",
    "                                groupby_cols=groupby_cols,\n",
    "                                feature_value_col=feature_value_col,\n",
    "                                agg_methods=agg_methods)\n",
    "df.shape"
   ]
  },
  {
   "cell_type": "code",
   "execution_count": 119,
   "id": "2cc37f62",
   "metadata": {
    "ExecuteTime": {
     "end_time": "2022-05-28T13:46:55.764382Z",
     "start_time": "2022-05-28T13:46:43.157041Z"
    }
   },
   "outputs": [
    {
     "name": "stdout",
     "output_type": "stream",
     "text": [
      "257103 groups when aggregation by ['srch_id']\n"
     ]
    },
    {
     "data": {
      "text/plain": [
       "(8526686, 158)"
      ]
     },
     "execution_count": 119,
     "metadata": {},
     "output_type": "execute_result"
    }
   ],
   "source": [
    "# prices from the country of user for the destination country\n",
    "groupby_cols = ['srch_id']\n",
    "feature_value_col = 'prop_review_score'\n",
    "agg_methods = [\"mean\", \"min\", \"max\"]\n",
    "\n",
    "df = apply_composite_for_splits(df, \n",
    "                                split_cols=None,\n",
    "                                groupby_cols=groupby_cols,\n",
    "                                feature_value_col=feature_value_col,\n",
    "                                agg_methods=agg_methods)\n",
    "df.shape"
   ]
  },
  {
   "cell_type": "code",
   "execution_count": 120,
   "id": "491175fd",
   "metadata": {
    "ExecuteTime": {
     "end_time": "2022-05-28T13:46:55.803915Z",
     "start_time": "2022-05-28T13:46:55.768044Z"
    },
    "scrolled": true
   },
   "outputs": [],
   "source": [
    "# df.drop(['mean_promotion_flag_per_srch_id', \n",
    "#          'promotion_flag_diff_to_mean_promotion_flag_per_srch_id'\n",
    "#         ], axis=1, inplace=True)\n",
    "\n",
    "\n",
    "# df = df.join(df.groupby('srch_id')['promotion_flag'].mean().rename('mean_promotion_flag_per_srch_id'), \n",
    "#              on='srch_id', how='left')\n",
    "# df['promotion_flag_diff_to_mean_promotion_flag_per_srch_id'] = df['promotion_flag'] - df['mean_promotion_flag_per_srch_id']\n"
   ]
  },
  {
   "cell_type": "code",
   "execution_count": 121,
   "id": "d371cd47",
   "metadata": {
    "ExecuteTime": {
     "end_time": "2022-05-28T13:47:09.840703Z",
     "start_time": "2022-05-28T13:46:55.806437Z"
    }
   },
   "outputs": [
    {
     "name": "stdout",
     "output_type": "stream",
     "text": [
      "257103 groups when aggregation by ['srch_id']\n"
     ]
    },
    {
     "data": {
      "text/plain": [
       "(8526686, 160)"
      ]
     },
     "execution_count": 121,
     "metadata": {},
     "output_type": "execute_result"
    }
   ],
   "source": [
    "groupby_cols = ['srch_id']\n",
    "feature_value_col = 'promotion_flag'\n",
    "agg_methods = [\"mean\"]\n",
    "\n",
    "df['promotion_flag'] = df['promotion_flag'].astype('uint8')\n",
    "\n",
    "df = apply_composite_for_splits(df, \n",
    "                                split_cols=None,\n",
    "                                groupby_cols=groupby_cols,\n",
    "                                feature_value_col=feature_value_col,\n",
    "                                agg_methods=agg_methods,\n",
    "                                relative_diff=False)\n",
    "df.shape"
   ]
  },
  {
   "cell_type": "code",
   "execution_count": 122,
   "id": "e20217b3",
   "metadata": {
    "ExecuteTime": {
     "end_time": "2022-05-28T13:47:18.142879Z",
     "start_time": "2022-05-28T13:47:09.844134Z"
    }
   },
   "outputs": [
    {
     "data": {
      "text/html": [
       "<div>\n",
       "<style scoped>\n",
       "    .dataframe tbody tr th:only-of-type {\n",
       "        vertical-align: middle;\n",
       "    }\n",
       "\n",
       "    .dataframe tbody tr th {\n",
       "        vertical-align: top;\n",
       "    }\n",
       "\n",
       "    .dataframe thead th {\n",
       "        text-align: right;\n",
       "    }\n",
       "</style>\n",
       "<table border=\"1\" class=\"dataframe\">\n",
       "  <thead>\n",
       "    <tr style=\"text-align: right;\">\n",
       "      <th></th>\n",
       "      <th>promotion_flag</th>\n",
       "      <th>mean_promotion_flag_per_srch_id</th>\n",
       "      <th>promotion_flag_diff_to_mean_promotion_flag_per_srch_id</th>\n",
       "    </tr>\n",
       "  </thead>\n",
       "  <tbody>\n",
       "    <tr>\n",
       "      <th>0</th>\n",
       "      <td>1</td>\n",
       "      <td>0.294118</td>\n",
       "      <td>0.705882</td>\n",
       "    </tr>\n",
       "    <tr>\n",
       "      <th>3</th>\n",
       "      <td>1</td>\n",
       "      <td>0.294118</td>\n",
       "      <td>0.705882</td>\n",
       "    </tr>\n",
       "    <tr>\n",
       "      <th>5</th>\n",
       "      <td>1</td>\n",
       "      <td>0.294118</td>\n",
       "      <td>0.705882</td>\n",
       "    </tr>\n",
       "    <tr>\n",
       "      <th>6</th>\n",
       "      <td>1</td>\n",
       "      <td>0.294118</td>\n",
       "      <td>0.705882</td>\n",
       "    </tr>\n",
       "    <tr>\n",
       "      <th>7</th>\n",
       "      <td>1</td>\n",
       "      <td>0.294118</td>\n",
       "      <td>0.705882</td>\n",
       "    </tr>\n",
       "    <tr>\n",
       "      <th>...</th>\n",
       "      <td>...</td>\n",
       "      <td>...</td>\n",
       "      <td>...</td>\n",
       "    </tr>\n",
       "    <tr>\n",
       "      <th>8526604</th>\n",
       "      <td>1</td>\n",
       "      <td>0.200000</td>\n",
       "      <td>0.800000</td>\n",
       "    </tr>\n",
       "    <tr>\n",
       "      <th>8526627</th>\n",
       "      <td>1</td>\n",
       "      <td>0.111111</td>\n",
       "      <td>0.888889</td>\n",
       "    </tr>\n",
       "    <tr>\n",
       "      <th>8526640</th>\n",
       "      <td>1</td>\n",
       "      <td>0.285714</td>\n",
       "      <td>0.714286</td>\n",
       "    </tr>\n",
       "    <tr>\n",
       "      <th>8526643</th>\n",
       "      <td>1</td>\n",
       "      <td>0.285714</td>\n",
       "      <td>0.714286</td>\n",
       "    </tr>\n",
       "    <tr>\n",
       "      <th>8526675</th>\n",
       "      <td>1</td>\n",
       "      <td>0.062500</td>\n",
       "      <td>0.937500</td>\n",
       "    </tr>\n",
       "  </tbody>\n",
       "</table>\n",
       "<p>1850727 rows × 3 columns</p>\n",
       "</div>"
      ],
      "text/plain": [
       "         promotion_flag  mean_promotion_flag_per_srch_id  \\\n",
       "0                     1                         0.294118   \n",
       "3                     1                         0.294118   \n",
       "5                     1                         0.294118   \n",
       "6                     1                         0.294118   \n",
       "7                     1                         0.294118   \n",
       "...                 ...                              ...   \n",
       "8526604               1                         0.200000   \n",
       "8526627               1                         0.111111   \n",
       "8526640               1                         0.285714   \n",
       "8526643               1                         0.285714   \n",
       "8526675               1                         0.062500   \n",
       "\n",
       "         promotion_flag_diff_to_mean_promotion_flag_per_srch_id  \n",
       "0                                                 0.705882       \n",
       "3                                                 0.705882       \n",
       "5                                                 0.705882       \n",
       "6                                                 0.705882       \n",
       "7                                                 0.705882       \n",
       "...                                                    ...       \n",
       "8526604                                           0.800000       \n",
       "8526627                                           0.888889       \n",
       "8526640                                           0.714286       \n",
       "8526643                                           0.714286       \n",
       "8526675                                           0.937500       \n",
       "\n",
       "[1850727 rows x 3 columns]"
      ]
     },
     "execution_count": 122,
     "metadata": {},
     "output_type": "execute_result"
    }
   ],
   "source": [
    "df[df['promotion_flag'] == 1][['promotion_flag', 'mean_promotion_flag_per_srch_id',\n",
    "                               'promotion_flag_diff_to_mean_promotion_flag_per_srch_id']]"
   ]
  },
  {
   "cell_type": "code",
   "execution_count": 123,
   "id": "cbc016e6",
   "metadata": {
    "ExecuteTime": {
     "end_time": "2022-05-28T13:47:18.237073Z",
     "start_time": "2022-05-28T13:47:18.149281Z"
    },
    "scrolled": false
   },
   "outputs": [
    {
     "data": {
      "text/html": [
       "<div>\n",
       "<style scoped>\n",
       "    .dataframe tbody tr th:only-of-type {\n",
       "        vertical-align: middle;\n",
       "    }\n",
       "\n",
       "    .dataframe tbody tr th {\n",
       "        vertical-align: top;\n",
       "    }\n",
       "\n",
       "    .dataframe thead th {\n",
       "        text-align: right;\n",
       "    }\n",
       "</style>\n",
       "<table border=\"1\" class=\"dataframe\">\n",
       "  <thead>\n",
       "    <tr style=\"text-align: right;\">\n",
       "      <th></th>\n",
       "      <th>srch_id</th>\n",
       "      <th>date_time</th>\n",
       "      <th>site_id</th>\n",
       "      <th>visitor_location_country_id</th>\n",
       "      <th>visitor_hist_starrating</th>\n",
       "      <th>visitor_hist_adr_usd</th>\n",
       "      <th>prop_country_id</th>\n",
       "      <th>prop_id</th>\n",
       "      <th>prop_starrating</th>\n",
       "      <th>prop_review_score</th>\n",
       "      <th>prop_brand_bool</th>\n",
       "      <th>prop_location_score1</th>\n",
       "      <th>prop_location_score2</th>\n",
       "      <th>prop_log_historical_price</th>\n",
       "      <th>position</th>\n",
       "      <th>price_usd</th>\n",
       "      <th>promotion_flag</th>\n",
       "      <th>srch_destination_id</th>\n",
       "      <th>srch_length_of_stay</th>\n",
       "      <th>srch_booking_window</th>\n",
       "      <th>srch_adults_count</th>\n",
       "      <th>srch_children_count</th>\n",
       "      <th>srch_room_count</th>\n",
       "      <th>srch_saturday_night_bool</th>\n",
       "      <th>srch_query_affinity_score</th>\n",
       "      <th>orig_destination_distance</th>\n",
       "      <th>random_bool</th>\n",
       "      <th>comp3_rate_percent_diff</th>\n",
       "      <th>click_bool</th>\n",
       "      <th>gross_bookings_usd</th>\n",
       "      <th>booking_bool</th>\n",
       "      <th>test</th>\n",
       "      <th>val</th>\n",
       "      <th>train</th>\n",
       "      <th>subm</th>\n",
       "      <th>price_per_day</th>\n",
       "      <th>price_per_trip</th>\n",
       "      <th>date_time_ordinal</th>\n",
       "      <th>prop_location_score_diff</th>\n",
       "      <th>prop_location_score_sum</th>\n",
       "      <th>prop_location_score_mul</th>\n",
       "      <th>prop_location_score_diff_log</th>\n",
       "      <th>prop_location_score_sum_log</th>\n",
       "      <th>prop_location_score_mul_log</th>\n",
       "      <th>ratio_of_comp_with_lower_price_than_expedia</th>\n",
       "      <th>comp5_rate_percent_diff_signed</th>\n",
       "      <th>comp8_rate_percent_diff_signed</th>\n",
       "      <th>price_per_day_pow_2</th>\n",
       "      <th>price_per_day_log_10</th>\n",
       "      <th>price_per_day_reciprocal</th>\n",
       "      <th>prop_log_historical_price_pow_0.33</th>\n",
       "      <th>prop_log_historical_price_log_10</th>\n",
       "      <th>prop_log_historical_price_reciprocal</th>\n",
       "      <th>prop_historical_price</th>\n",
       "      <th>price_diff_to_usr_hist</th>\n",
       "      <th>price_ratio_to_usr_hist</th>\n",
       "      <th>price_diff_to_place_hist_price</th>\n",
       "      <th>prop_star_usr_hist_diff</th>\n",
       "      <th>prop_starrating_bonus_chain</th>\n",
       "      <th>prop_star_review_sum</th>\n",
       "      <th>prop_star_review_diff</th>\n",
       "      <th>prop_star_review_min</th>\n",
       "      <th>prop_star_review_max</th>\n",
       "      <th>prop_star_review_mean</th>\n",
       "      <th>price_per_star</th>\n",
       "      <th>price_per_review_score</th>\n",
       "      <th>price_per_star_log_10</th>\n",
       "      <th>price_per_review_score_log_10</th>\n",
       "      <th>booking_weeks_ahead</th>\n",
       "      <th>len_of_stay_to_booking_ahead_ratio</th>\n",
       "      <th>date</th>\n",
       "      <th>trip_start_date_week</th>\n",
       "      <th>trip_start_date_week_mid_summer_index</th>\n",
       "      <th>trip_start_date_month</th>\n",
       "      <th>trip_start_date_quarter</th>\n",
       "      <th>trip_start_date_season_num</th>\n",
       "      <th>trip_start_date_year</th>\n",
       "      <th>trip_start_date_week_id</th>\n",
       "      <th>trip_end_date_week</th>\n",
       "      <th>trip_end_date_week_mid_summer_index</th>\n",
       "      <th>trip_end_date_month</th>\n",
       "      <th>trip_end_date_quarter</th>\n",
       "      <th>trip_end_date_season_num</th>\n",
       "      <th>trip_end_date_year</th>\n",
       "      <th>trip_end_date_week_id</th>\n",
       "      <th>children_per_adult</th>\n",
       "      <th>total_people</th>\n",
       "      <th>people_per_room</th>\n",
       "      <th>separate_children_room</th>\n",
       "      <th>price_usd_log10_norm_by_srch_id</th>\n",
       "      <th>price_usd_log10_norm_by_prop_id</th>\n",
       "      <th>prop_starrating_norm_by_srch_id</th>\n",
       "      <th>price_index_per_srch_id</th>\n",
       "      <th>price_index_per_srch_destination_id</th>\n",
       "      <th>price_index_per_prop_id</th>\n",
       "      <th>srch_query_affinity_score_prob</th>\n",
       "      <th>booking_prob_train</th>\n",
       "      <th>click_prob_train</th>\n",
       "      <th>book_per_click</th>\n",
       "      <th>mean_position_train</th>\n",
       "      <th>mean_position_train_when_not_random</th>\n",
       "      <th>mean_prop_starrating_per_srch_id</th>\n",
       "      <th>median_prop_starrating_per_srch_id</th>\n",
       "      <th>min_prop_starrating_per_srch_id</th>\n",
       "      <th>max_prop_starrating_per_srch_id</th>\n",
       "      <th>prop_starrating_diff_to_mean_prop_starrating_per_srch_id</th>\n",
       "      <th>prop_starrating_rel_diff_to_mean_prop_starrating_per_srch_id</th>\n",
       "      <th>prop_starrating_diff_to_median_prop_starrating_per_srch_id</th>\n",
       "      <th>prop_starrating_rel_diff_to_median_prop_starrating_per_srch_id</th>\n",
       "      <th>prop_starrating_diff_to_min_prop_starrating_per_srch_id</th>\n",
       "      <th>prop_starrating_rel_diff_to_min_prop_starrating_per_srch_id</th>\n",
       "      <th>prop_starrating_diff_to_max_prop_starrating_per_srch_id</th>\n",
       "      <th>prop_starrating_rel_diff_to_max_prop_starrating_per_srch_id</th>\n",
       "      <th>mean_prop_location_score2_per_srch_id</th>\n",
       "      <th>median_prop_location_score2_per_srch_id</th>\n",
       "      <th>min_prop_location_score2_per_srch_id</th>\n",
       "      <th>max_prop_location_score2_per_srch_id</th>\n",
       "      <th>prop_location_score2_diff_to_mean_prop_location_score2_per_srch_id</th>\n",
       "      <th>prop_location_score2_rel_diff_to_mean_prop_location_score2_per_srch_id</th>\n",
       "      <th>prop_location_score2_diff_to_median_prop_location_score2_per_srch_id</th>\n",
       "      <th>prop_location_score2_rel_diff_to_median_prop_location_score2_per_srch_id</th>\n",
       "      <th>prop_location_score2_diff_to_min_prop_location_score2_per_srch_id</th>\n",
       "      <th>prop_location_score2_rel_diff_to_min_prop_location_score2_per_srch_id</th>\n",
       "      <th>prop_location_score2_diff_to_max_prop_location_score2_per_srch_id</th>\n",
       "      <th>prop_location_score2_rel_diff_to_max_prop_location_score2_per_srch_id</th>\n",
       "      <th>mean_prop_location_score1_per_srch_id</th>\n",
       "      <th>median_prop_location_score1_per_srch_id</th>\n",
       "      <th>min_prop_location_score1_per_srch_id</th>\n",
       "      <th>max_prop_location_score1_per_srch_id</th>\n",
       "      <th>prop_location_score1_diff_to_mean_prop_location_score1_per_srch_id</th>\n",
       "      <th>prop_location_score1_rel_diff_to_mean_prop_location_score1_per_srch_id</th>\n",
       "      <th>prop_location_score1_diff_to_median_prop_location_score1_per_srch_id</th>\n",
       "      <th>prop_location_score1_rel_diff_to_median_prop_location_score1_per_srch_id</th>\n",
       "      <th>prop_location_score1_diff_to_min_prop_location_score1_per_srch_id</th>\n",
       "      <th>prop_location_score1_rel_diff_to_min_prop_location_score1_per_srch_id</th>\n",
       "      <th>prop_location_score1_diff_to_max_prop_location_score1_per_srch_id</th>\n",
       "      <th>prop_location_score1_rel_diff_to_max_prop_location_score1_per_srch_id</th>\n",
       "      <th>mean_price_usd_per_srch_id</th>\n",
       "      <th>median_price_usd_per_srch_id</th>\n",
       "      <th>min_price_usd_per_srch_id</th>\n",
       "      <th>max_price_usd_per_srch_id</th>\n",
       "      <th>price_usd_diff_to_mean_price_usd_per_srch_id</th>\n",
       "      <th>price_usd_rel_diff_to_mean_price_usd_per_srch_id</th>\n",
       "      <th>price_usd_diff_to_median_price_usd_per_srch_id</th>\n",
       "      <th>price_usd_rel_diff_to_median_price_usd_per_srch_id</th>\n",
       "      <th>price_usd_diff_to_min_price_usd_per_srch_id</th>\n",
       "      <th>price_usd_rel_diff_to_min_price_usd_per_srch_id</th>\n",
       "      <th>price_usd_diff_to_max_price_usd_per_srch_id</th>\n",
       "      <th>price_usd_rel_diff_to_max_price_usd_per_srch_id</th>\n",
       "      <th>mean_prop_review_score_per_srch_id</th>\n",
       "      <th>min_prop_review_score_per_srch_id</th>\n",
       "      <th>max_prop_review_score_per_srch_id</th>\n",
       "      <th>prop_review_score_diff_to_mean_prop_review_score_per_srch_id</th>\n",
       "      <th>prop_review_score_rel_diff_to_mean_prop_review_score_per_srch_id</th>\n",
       "      <th>prop_review_score_diff_to_min_prop_review_score_per_srch_id</th>\n",
       "      <th>prop_review_score_rel_diff_to_min_prop_review_score_per_srch_id</th>\n",
       "      <th>prop_review_score_diff_to_max_prop_review_score_per_srch_id</th>\n",
       "      <th>prop_review_score_rel_diff_to_max_prop_review_score_per_srch_id</th>\n",
       "      <th>mean_promotion_flag_per_srch_id</th>\n",
       "      <th>promotion_flag_diff_to_mean_promotion_flag_per_srch_id</th>\n",
       "    </tr>\n",
       "  </thead>\n",
       "  <tbody>\n",
       "    <tr>\n",
       "      <th>0</th>\n",
       "      <td>32491</td>\n",
       "      <td>2012-11-01 00:01:37</td>\n",
       "      <td>24</td>\n",
       "      <td>216</td>\n",
       "      <td>NaN</td>\n",
       "      <td>NaN</td>\n",
       "      <td>225</td>\n",
       "      <td>84277</td>\n",
       "      <td>4.0</td>\n",
       "      <td>3.5</td>\n",
       "      <td>0</td>\n",
       "      <td>4.72</td>\n",
       "      <td>0.3862</td>\n",
       "      <td>5.06</td>\n",
       "      <td>NaN</td>\n",
       "      <td>76.820000</td>\n",
       "      <td>1</td>\n",
       "      <td>14083</td>\n",
       "      <td>2</td>\n",
       "      <td>16</td>\n",
       "      <td>1</td>\n",
       "      <td>0</td>\n",
       "      <td>1</td>\n",
       "      <td>1</td>\n",
       "      <td>NaN</td>\n",
       "      <td>NaN</td>\n",
       "      <td>0</td>\n",
       "      <td>NaN</td>\n",
       "      <td>NaN</td>\n",
       "      <td>NaN</td>\n",
       "      <td>NaN</td>\n",
       "      <td>False</td>\n",
       "      <td>False</td>\n",
       "      <td>False</td>\n",
       "      <td>True</td>\n",
       "      <td>76.820000</td>\n",
       "      <td>153.639999</td>\n",
       "      <td>1</td>\n",
       "      <td>4.3338</td>\n",
       "      <td>5.1062</td>\n",
       "      <td>1.822864</td>\n",
       "      <td>6.092576</td>\n",
       "      <td>3.347424</td>\n",
       "      <td>-6.478559</td>\n",
       "      <td>NaN</td>\n",
       "      <td>&lt;NA&gt;</td>\n",
       "      <td>&lt;NA&gt;</td>\n",
       "      <td>5901.31250</td>\n",
       "      <td>1.885474</td>\n",
       "      <td>0.013017</td>\n",
       "      <td>1.707535</td>\n",
       "      <td>0.704151</td>\n",
       "      <td>0.197628</td>\n",
       "      <td>157.590500</td>\n",
       "      <td>NaN</td>\n",
       "      <td>NaN</td>\n",
       "      <td>-80.770500</td>\n",
       "      <td>NaN</td>\n",
       "      <td>4.0</td>\n",
       "      <td>7.5</td>\n",
       "      <td>0.5</td>\n",
       "      <td>3.5</td>\n",
       "      <td>4.0</td>\n",
       "      <td>3.75</td>\n",
       "      <td>19.204995</td>\n",
       "      <td>21.948565</td>\n",
       "      <td>1.283414</td>\n",
       "      <td>1.341406</td>\n",
       "      <td>2.285714</td>\n",
       "      <td>8.0</td>\n",
       "      <td>2012-11-01</td>\n",
       "      <td>46</td>\n",
       "      <td>8</td>\n",
       "      <td>11</td>\n",
       "      <td>4</td>\n",
       "      <td>4</td>\n",
       "      <td>2012</td>\n",
       "      <td>201246</td>\n",
       "      <td>47</td>\n",
       "      <td>7</td>\n",
       "      <td>11</td>\n",
       "      <td>4</td>\n",
       "      <td>4</td>\n",
       "      <td>2012</td>\n",
       "      <td>201247</td>\n",
       "      <td>0.0</td>\n",
       "      <td>1</td>\n",
       "      <td>1.0</td>\n",
       "      <td>False</td>\n",
       "      <td>-0.824531</td>\n",
       "      <td>-0.245700</td>\n",
       "      <td>0.568731</td>\n",
       "      <td>8</td>\n",
       "      <td>151</td>\n",
       "      <td>56</td>\n",
       "      <td>NaN</td>\n",
       "      <td>0.105263</td>\n",
       "      <td>0.157895</td>\n",
       "      <td>0.666667</td>\n",
       "      <td>14.508772</td>\n",
       "      <td>14.508772</td>\n",
       "      <td>3.5625</td>\n",
       "      <td>4.0</td>\n",
       "      <td>1.0</td>\n",
       "      <td>5.0</td>\n",
       "      <td>0.4375</td>\n",
       "      <td>0.109102</td>\n",
       "      <td>0.0</td>\n",
       "      <td>0.000000</td>\n",
       "      <td>3.0</td>\n",
       "      <td>0.748130</td>\n",
       "      <td>-1.0</td>\n",
       "      <td>-0.249377</td>\n",
       "      <td>0.196628</td>\n",
       "      <td>0.1686</td>\n",
       "      <td>0.0048</td>\n",
       "      <td>0.3862</td>\n",
       "      <td>0.189572</td>\n",
       "      <td>0.478477</td>\n",
       "      <td>0.2176</td>\n",
       "      <td>0.549218</td>\n",
       "      <td>0.3814</td>\n",
       "      <td>0.962645</td>\n",
       "      <td>0.0000</td>\n",
       "      <td>0.000000</td>\n",
       "      <td>2.893137</td>\n",
       "      <td>2.48</td>\n",
       "      <td>0.0</td>\n",
       "      <td>4.77</td>\n",
       "      <td>1.826863</td>\n",
       "      <td>0.386229</td>\n",
       "      <td>2.24</td>\n",
       "      <td>0.473573</td>\n",
       "      <td>4.72</td>\n",
       "      <td>0.997886</td>\n",
       "      <td>-0.05</td>\n",
       "      <td>-0.010571</td>\n",
       "      <td>158.900986</td>\n",
       "      <td>103.419998</td>\n",
       "      <td>54.459999</td>\n",
       "      <td>1063.719971</td>\n",
       "      <td>-82.080986</td>\n",
       "      <td>-1.068346</td>\n",
       "      <td>-26.599998</td>\n",
       "      <td>-0.346219</td>\n",
       "      <td>22.360001</td>\n",
       "      <td>0.291032</td>\n",
       "      <td>-986.899963</td>\n",
       "      <td>-12.845242</td>\n",
       "      <td>3.460784</td>\n",
       "      <td>0.0</td>\n",
       "      <td>5.0</td>\n",
       "      <td>0.039216</td>\n",
       "      <td>0.011173</td>\n",
       "      <td>3.5</td>\n",
       "      <td>0.997151</td>\n",
       "      <td>-1.5</td>\n",
       "      <td>-0.427350</td>\n",
       "      <td>0.294118</td>\n",
       "      <td>0.705882</td>\n",
       "    </tr>\n",
       "    <tr>\n",
       "      <th>1</th>\n",
       "      <td>32491</td>\n",
       "      <td>2012-11-01 00:01:37</td>\n",
       "      <td>24</td>\n",
       "      <td>216</td>\n",
       "      <td>NaN</td>\n",
       "      <td>NaN</td>\n",
       "      <td>225</td>\n",
       "      <td>69323</td>\n",
       "      <td>3.0</td>\n",
       "      <td>4.5</td>\n",
       "      <td>0</td>\n",
       "      <td>4.70</td>\n",
       "      <td>0.1667</td>\n",
       "      <td>4.85</td>\n",
       "      <td>NaN</td>\n",
       "      <td>84.209999</td>\n",
       "      <td>0</td>\n",
       "      <td>14083</td>\n",
       "      <td>2</td>\n",
       "      <td>16</td>\n",
       "      <td>1</td>\n",
       "      <td>0</td>\n",
       "      <td>1</td>\n",
       "      <td>1</td>\n",
       "      <td>NaN</td>\n",
       "      <td>NaN</td>\n",
       "      <td>0</td>\n",
       "      <td>NaN</td>\n",
       "      <td>NaN</td>\n",
       "      <td>NaN</td>\n",
       "      <td>NaN</td>\n",
       "      <td>False</td>\n",
       "      <td>False</td>\n",
       "      <td>False</td>\n",
       "      <td>True</td>\n",
       "      <td>84.209999</td>\n",
       "      <td>168.419998</td>\n",
       "      <td>1</td>\n",
       "      <td>4.5333</td>\n",
       "      <td>4.8667</td>\n",
       "      <td>0.783490</td>\n",
       "      <td>7.284665</td>\n",
       "      <td>2.115335</td>\n",
       "      <td>-12.147926</td>\n",
       "      <td>NaN</td>\n",
       "      <td>0.0</td>\n",
       "      <td>&lt;NA&gt;</td>\n",
       "      <td>7091.32373</td>\n",
       "      <td>1.925364</td>\n",
       "      <td>0.011875</td>\n",
       "      <td>1.683817</td>\n",
       "      <td>0.685742</td>\n",
       "      <td>0.206186</td>\n",
       "      <td>127.740387</td>\n",
       "      <td>NaN</td>\n",
       "      <td>NaN</td>\n",
       "      <td>-43.530388</td>\n",
       "      <td>NaN</td>\n",
       "      <td>3.0</td>\n",
       "      <td>7.5</td>\n",
       "      <td>-1.5</td>\n",
       "      <td>3.0</td>\n",
       "      <td>4.5</td>\n",
       "      <td>3.75</td>\n",
       "      <td>28.069990</td>\n",
       "      <td>18.713329</td>\n",
       "      <td>1.448242</td>\n",
       "      <td>1.272151</td>\n",
       "      <td>2.285714</td>\n",
       "      <td>8.0</td>\n",
       "      <td>2012-11-01</td>\n",
       "      <td>46</td>\n",
       "      <td>8</td>\n",
       "      <td>11</td>\n",
       "      <td>4</td>\n",
       "      <td>4</td>\n",
       "      <td>2012</td>\n",
       "      <td>201246</td>\n",
       "      <td>47</td>\n",
       "      <td>7</td>\n",
       "      <td>11</td>\n",
       "      <td>4</td>\n",
       "      <td>4</td>\n",
       "      <td>2012</td>\n",
       "      <td>201247</td>\n",
       "      <td>0.0</td>\n",
       "      <td>1</td>\n",
       "      <td>1.0</td>\n",
       "      <td>False</td>\n",
       "      <td>-0.671271</td>\n",
       "      <td>-1.183756</td>\n",
       "      <td>-0.731226</td>\n",
       "      <td>14</td>\n",
       "      <td>277</td>\n",
       "      <td>0</td>\n",
       "      <td>NaN</td>\n",
       "      <td>0.000000</td>\n",
       "      <td>0.000000</td>\n",
       "      <td>NaN</td>\n",
       "      <td>18.000000</td>\n",
       "      <td>18.000000</td>\n",
       "      <td>3.5625</td>\n",
       "      <td>4.0</td>\n",
       "      <td>1.0</td>\n",
       "      <td>5.0</td>\n",
       "      <td>-0.5625</td>\n",
       "      <td>-0.186877</td>\n",
       "      <td>-1.0</td>\n",
       "      <td>-0.332226</td>\n",
       "      <td>2.0</td>\n",
       "      <td>0.664452</td>\n",
       "      <td>-2.0</td>\n",
       "      <td>-0.664452</td>\n",
       "      <td>0.196628</td>\n",
       "      <td>0.1686</td>\n",
       "      <td>0.0048</td>\n",
       "      <td>0.3862</td>\n",
       "      <td>-0.029928</td>\n",
       "      <td>-0.169369</td>\n",
       "      <td>-0.0019</td>\n",
       "      <td>-0.010753</td>\n",
       "      <td>0.1619</td>\n",
       "      <td>0.916242</td>\n",
       "      <td>-0.2195</td>\n",
       "      <td>-1.242218</td>\n",
       "      <td>2.893137</td>\n",
       "      <td>2.48</td>\n",
       "      <td>0.0</td>\n",
       "      <td>4.77</td>\n",
       "      <td>1.806863</td>\n",
       "      <td>0.383623</td>\n",
       "      <td>2.22</td>\n",
       "      <td>0.471338</td>\n",
       "      <td>4.70</td>\n",
       "      <td>0.997877</td>\n",
       "      <td>-0.07</td>\n",
       "      <td>-0.014862</td>\n",
       "      <td>158.900986</td>\n",
       "      <td>103.419998</td>\n",
       "      <td>54.459999</td>\n",
       "      <td>1063.719971</td>\n",
       "      <td>-74.690987</td>\n",
       "      <td>-0.886856</td>\n",
       "      <td>-19.209999</td>\n",
       "      <td>-0.228093</td>\n",
       "      <td>29.750000</td>\n",
       "      <td>0.353242</td>\n",
       "      <td>-979.509949</td>\n",
       "      <td>-11.630372</td>\n",
       "      <td>3.460784</td>\n",
       "      <td>0.0</td>\n",
       "      <td>5.0</td>\n",
       "      <td>1.039216</td>\n",
       "      <td>0.230425</td>\n",
       "      <td>4.5</td>\n",
       "      <td>0.997783</td>\n",
       "      <td>-0.5</td>\n",
       "      <td>-0.110865</td>\n",
       "      <td>0.294118</td>\n",
       "      <td>-0.294118</td>\n",
       "    </tr>\n",
       "  </tbody>\n",
       "</table>\n",
       "</div>"
      ],
      "text/plain": [
       "   srch_id           date_time  site_id  visitor_location_country_id  \\\n",
       "0    32491 2012-11-01 00:01:37       24                          216   \n",
       "1    32491 2012-11-01 00:01:37       24                          216   \n",
       "\n",
       "   visitor_hist_starrating  visitor_hist_adr_usd  prop_country_id  prop_id  \\\n",
       "0                      NaN                   NaN              225    84277   \n",
       "1                      NaN                   NaN              225    69323   \n",
       "\n",
       "   prop_starrating  prop_review_score  prop_brand_bool  prop_location_score1  \\\n",
       "0              4.0                3.5                0                  4.72   \n",
       "1              3.0                4.5                0                  4.70   \n",
       "\n",
       "   prop_location_score2  prop_log_historical_price  position  price_usd  \\\n",
       "0                0.3862                       5.06       NaN  76.820000   \n",
       "1                0.1667                       4.85       NaN  84.209999   \n",
       "\n",
       "   promotion_flag  srch_destination_id  srch_length_of_stay  \\\n",
       "0               1                14083                    2   \n",
       "1               0                14083                    2   \n",
       "\n",
       "   srch_booking_window  srch_adults_count  srch_children_count  \\\n",
       "0                   16                  1                    0   \n",
       "1                   16                  1                    0   \n",
       "\n",
       "   srch_room_count  srch_saturday_night_bool  srch_query_affinity_score  \\\n",
       "0                1                         1                        NaN   \n",
       "1                1                         1                        NaN   \n",
       "\n",
       "   orig_destination_distance  random_bool  comp3_rate_percent_diff  \\\n",
       "0                        NaN            0                      NaN   \n",
       "1                        NaN            0                      NaN   \n",
       "\n",
       "   click_bool  gross_bookings_usd  booking_bool   test    val  train  subm  \\\n",
       "0         NaN                 NaN           NaN  False  False  False  True   \n",
       "1         NaN                 NaN           NaN  False  False  False  True   \n",
       "\n",
       "   price_per_day  price_per_trip  date_time_ordinal  prop_location_score_diff  \\\n",
       "0      76.820000      153.639999                  1                    4.3338   \n",
       "1      84.209999      168.419998                  1                    4.5333   \n",
       "\n",
       "   prop_location_score_sum  prop_location_score_mul  \\\n",
       "0                   5.1062                 1.822864   \n",
       "1                   4.8667                 0.783490   \n",
       "\n",
       "   prop_location_score_diff_log  prop_location_score_sum_log  \\\n",
       "0                      6.092576                     3.347424   \n",
       "1                      7.284665                     2.115335   \n",
       "\n",
       "   prop_location_score_mul_log  ratio_of_comp_with_lower_price_than_expedia  \\\n",
       "0                    -6.478559                                          NaN   \n",
       "1                   -12.147926                                          NaN   \n",
       "\n",
       "   comp5_rate_percent_diff_signed  comp8_rate_percent_diff_signed  \\\n",
       "0                            <NA>                            <NA>   \n",
       "1                             0.0                            <NA>   \n",
       "\n",
       "   price_per_day_pow_2  price_per_day_log_10  price_per_day_reciprocal  \\\n",
       "0           5901.31250              1.885474                  0.013017   \n",
       "1           7091.32373              1.925364                  0.011875   \n",
       "\n",
       "   prop_log_historical_price_pow_0.33  prop_log_historical_price_log_10  \\\n",
       "0                            1.707535                          0.704151   \n",
       "1                            1.683817                          0.685742   \n",
       "\n",
       "   prop_log_historical_price_reciprocal  prop_historical_price  \\\n",
       "0                              0.197628             157.590500   \n",
       "1                              0.206186             127.740387   \n",
       "\n",
       "   price_diff_to_usr_hist  price_ratio_to_usr_hist  \\\n",
       "0                     NaN                      NaN   \n",
       "1                     NaN                      NaN   \n",
       "\n",
       "   price_diff_to_place_hist_price  prop_star_usr_hist_diff  \\\n",
       "0                      -80.770500                      NaN   \n",
       "1                      -43.530388                      NaN   \n",
       "\n",
       "   prop_starrating_bonus_chain  prop_star_review_sum  prop_star_review_diff  \\\n",
       "0                          4.0                   7.5                    0.5   \n",
       "1                          3.0                   7.5                   -1.5   \n",
       "\n",
       "   prop_star_review_min  prop_star_review_max  prop_star_review_mean  \\\n",
       "0                   3.5                   4.0                   3.75   \n",
       "1                   3.0                   4.5                   3.75   \n",
       "\n",
       "   price_per_star  price_per_review_score  price_per_star_log_10  \\\n",
       "0       19.204995               21.948565               1.283414   \n",
       "1       28.069990               18.713329               1.448242   \n",
       "\n",
       "   price_per_review_score_log_10  booking_weeks_ahead  \\\n",
       "0                       1.341406             2.285714   \n",
       "1                       1.272151             2.285714   \n",
       "\n",
       "   len_of_stay_to_booking_ahead_ratio       date  trip_start_date_week  \\\n",
       "0                                 8.0 2012-11-01                    46   \n",
       "1                                 8.0 2012-11-01                    46   \n",
       "\n",
       "   trip_start_date_week_mid_summer_index  trip_start_date_month  \\\n",
       "0                                      8                     11   \n",
       "1                                      8                     11   \n",
       "\n",
       "   trip_start_date_quarter  trip_start_date_season_num  trip_start_date_year  \\\n",
       "0                        4                           4                  2012   \n",
       "1                        4                           4                  2012   \n",
       "\n",
       "   trip_start_date_week_id  trip_end_date_week  \\\n",
       "0                   201246                  47   \n",
       "1                   201246                  47   \n",
       "\n",
       "   trip_end_date_week_mid_summer_index  trip_end_date_month  \\\n",
       "0                                    7                   11   \n",
       "1                                    7                   11   \n",
       "\n",
       "   trip_end_date_quarter  trip_end_date_season_num  trip_end_date_year  \\\n",
       "0                      4                         4                2012   \n",
       "1                      4                         4                2012   \n",
       "\n",
       "   trip_end_date_week_id  children_per_adult  total_people  people_per_room  \\\n",
       "0                 201247                 0.0             1              1.0   \n",
       "1                 201247                 0.0             1              1.0   \n",
       "\n",
       "   separate_children_room  price_usd_log10_norm_by_srch_id  \\\n",
       "0                   False                        -0.824531   \n",
       "1                   False                        -0.671271   \n",
       "\n",
       "   price_usd_log10_norm_by_prop_id  prop_starrating_norm_by_srch_id  \\\n",
       "0                        -0.245700                         0.568731   \n",
       "1                        -1.183756                        -0.731226   \n",
       "\n",
       "   price_index_per_srch_id  price_index_per_srch_destination_id  \\\n",
       "0                        8                                  151   \n",
       "1                       14                                  277   \n",
       "\n",
       "   price_index_per_prop_id  srch_query_affinity_score_prob  \\\n",
       "0                       56                             NaN   \n",
       "1                        0                             NaN   \n",
       "\n",
       "   booking_prob_train  click_prob_train  book_per_click  mean_position_train  \\\n",
       "0            0.105263          0.157895        0.666667            14.508772   \n",
       "1            0.000000          0.000000             NaN            18.000000   \n",
       "\n",
       "   mean_position_train_when_not_random  mean_prop_starrating_per_srch_id  \\\n",
       "0                            14.508772                            3.5625   \n",
       "1                            18.000000                            3.5625   \n",
       "\n",
       "   median_prop_starrating_per_srch_id  min_prop_starrating_per_srch_id  \\\n",
       "0                                 4.0                              1.0   \n",
       "1                                 4.0                              1.0   \n",
       "\n",
       "   max_prop_starrating_per_srch_id  \\\n",
       "0                              5.0   \n",
       "1                              5.0   \n",
       "\n",
       "   prop_starrating_diff_to_mean_prop_starrating_per_srch_id  \\\n",
       "0                                             0.4375          \n",
       "1                                            -0.5625          \n",
       "\n",
       "   prop_starrating_rel_diff_to_mean_prop_starrating_per_srch_id  \\\n",
       "0                                           0.109102              \n",
       "1                                          -0.186877              \n",
       "\n",
       "   prop_starrating_diff_to_median_prop_starrating_per_srch_id  \\\n",
       "0                                                0.0            \n",
       "1                                               -1.0            \n",
       "\n",
       "   prop_starrating_rel_diff_to_median_prop_starrating_per_srch_id  \\\n",
       "0                                           0.000000                \n",
       "1                                          -0.332226                \n",
       "\n",
       "   prop_starrating_diff_to_min_prop_starrating_per_srch_id  \\\n",
       "0                                                3.0         \n",
       "1                                                2.0         \n",
       "\n",
       "   prop_starrating_rel_diff_to_min_prop_starrating_per_srch_id  \\\n",
       "0                                           0.748130             \n",
       "1                                           0.664452             \n",
       "\n",
       "   prop_starrating_diff_to_max_prop_starrating_per_srch_id  \\\n",
       "0                                               -1.0         \n",
       "1                                               -2.0         \n",
       "\n",
       "   prop_starrating_rel_diff_to_max_prop_starrating_per_srch_id  \\\n",
       "0                                          -0.249377             \n",
       "1                                          -0.664452             \n",
       "\n",
       "   mean_prop_location_score2_per_srch_id  \\\n",
       "0                               0.196628   \n",
       "1                               0.196628   \n",
       "\n",
       "   median_prop_location_score2_per_srch_id  \\\n",
       "0                                   0.1686   \n",
       "1                                   0.1686   \n",
       "\n",
       "   min_prop_location_score2_per_srch_id  max_prop_location_score2_per_srch_id  \\\n",
       "0                                0.0048                                0.3862   \n",
       "1                                0.0048                                0.3862   \n",
       "\n",
       "   prop_location_score2_diff_to_mean_prop_location_score2_per_srch_id  \\\n",
       "0                                           0.189572                    \n",
       "1                                          -0.029928                    \n",
       "\n",
       "   prop_location_score2_rel_diff_to_mean_prop_location_score2_per_srch_id  \\\n",
       "0                                           0.478477                        \n",
       "1                                          -0.169369                        \n",
       "\n",
       "   prop_location_score2_diff_to_median_prop_location_score2_per_srch_id  \\\n",
       "0                                             0.2176                      \n",
       "1                                            -0.0019                      \n",
       "\n",
       "   prop_location_score2_rel_diff_to_median_prop_location_score2_per_srch_id  \\\n",
       "0                                           0.549218                          \n",
       "1                                          -0.010753                          \n",
       "\n",
       "   prop_location_score2_diff_to_min_prop_location_score2_per_srch_id  \\\n",
       "0                                             0.3814                   \n",
       "1                                             0.1619                   \n",
       "\n",
       "   prop_location_score2_rel_diff_to_min_prop_location_score2_per_srch_id  \\\n",
       "0                                           0.962645                       \n",
       "1                                           0.916242                       \n",
       "\n",
       "   prop_location_score2_diff_to_max_prop_location_score2_per_srch_id  \\\n",
       "0                                             0.0000                   \n",
       "1                                            -0.2195                   \n",
       "\n",
       "   prop_location_score2_rel_diff_to_max_prop_location_score2_per_srch_id  \\\n",
       "0                                           0.000000                       \n",
       "1                                          -1.242218                       \n",
       "\n",
       "   mean_prop_location_score1_per_srch_id  \\\n",
       "0                               2.893137   \n",
       "1                               2.893137   \n",
       "\n",
       "   median_prop_location_score1_per_srch_id  \\\n",
       "0                                     2.48   \n",
       "1                                     2.48   \n",
       "\n",
       "   min_prop_location_score1_per_srch_id  max_prop_location_score1_per_srch_id  \\\n",
       "0                                   0.0                                  4.77   \n",
       "1                                   0.0                                  4.77   \n",
       "\n",
       "   prop_location_score1_diff_to_mean_prop_location_score1_per_srch_id  \\\n",
       "0                                           1.826863                    \n",
       "1                                           1.806863                    \n",
       "\n",
       "   prop_location_score1_rel_diff_to_mean_prop_location_score1_per_srch_id  \\\n",
       "0                                           0.386229                        \n",
       "1                                           0.383623                        \n",
       "\n",
       "   prop_location_score1_diff_to_median_prop_location_score1_per_srch_id  \\\n",
       "0                                               2.24                      \n",
       "1                                               2.22                      \n",
       "\n",
       "   prop_location_score1_rel_diff_to_median_prop_location_score1_per_srch_id  \\\n",
       "0                                           0.473573                          \n",
       "1                                           0.471338                          \n",
       "\n",
       "   prop_location_score1_diff_to_min_prop_location_score1_per_srch_id  \\\n",
       "0                                               4.72                   \n",
       "1                                               4.70                   \n",
       "\n",
       "   prop_location_score1_rel_diff_to_min_prop_location_score1_per_srch_id  \\\n",
       "0                                           0.997886                       \n",
       "1                                           0.997877                       \n",
       "\n",
       "   prop_location_score1_diff_to_max_prop_location_score1_per_srch_id  \\\n",
       "0                                              -0.05                   \n",
       "1                                              -0.07                   \n",
       "\n",
       "   prop_location_score1_rel_diff_to_max_prop_location_score1_per_srch_id  \\\n",
       "0                                          -0.010571                       \n",
       "1                                          -0.014862                       \n",
       "\n",
       "   mean_price_usd_per_srch_id  median_price_usd_per_srch_id  \\\n",
       "0                  158.900986                    103.419998   \n",
       "1                  158.900986                    103.419998   \n",
       "\n",
       "   min_price_usd_per_srch_id  max_price_usd_per_srch_id  \\\n",
       "0                  54.459999                1063.719971   \n",
       "1                  54.459999                1063.719971   \n",
       "\n",
       "   price_usd_diff_to_mean_price_usd_per_srch_id  \\\n",
       "0                                    -82.080986   \n",
       "1                                    -74.690987   \n",
       "\n",
       "   price_usd_rel_diff_to_mean_price_usd_per_srch_id  \\\n",
       "0                                         -1.068346   \n",
       "1                                         -0.886856   \n",
       "\n",
       "   price_usd_diff_to_median_price_usd_per_srch_id  \\\n",
       "0                                      -26.599998   \n",
       "1                                      -19.209999   \n",
       "\n",
       "   price_usd_rel_diff_to_median_price_usd_per_srch_id  \\\n",
       "0                                          -0.346219    \n",
       "1                                          -0.228093    \n",
       "\n",
       "   price_usd_diff_to_min_price_usd_per_srch_id  \\\n",
       "0                                    22.360001   \n",
       "1                                    29.750000   \n",
       "\n",
       "   price_usd_rel_diff_to_min_price_usd_per_srch_id  \\\n",
       "0                                         0.291032   \n",
       "1                                         0.353242   \n",
       "\n",
       "   price_usd_diff_to_max_price_usd_per_srch_id  \\\n",
       "0                                  -986.899963   \n",
       "1                                  -979.509949   \n",
       "\n",
       "   price_usd_rel_diff_to_max_price_usd_per_srch_id  \\\n",
       "0                                       -12.845242   \n",
       "1                                       -11.630372   \n",
       "\n",
       "   mean_prop_review_score_per_srch_id  min_prop_review_score_per_srch_id  \\\n",
       "0                            3.460784                                0.0   \n",
       "1                            3.460784                                0.0   \n",
       "\n",
       "   max_prop_review_score_per_srch_id  \\\n",
       "0                                5.0   \n",
       "1                                5.0   \n",
       "\n",
       "   prop_review_score_diff_to_mean_prop_review_score_per_srch_id  \\\n",
       "0                                           0.039216              \n",
       "1                                           1.039216              \n",
       "\n",
       "   prop_review_score_rel_diff_to_mean_prop_review_score_per_srch_id  \\\n",
       "0                                           0.011173                  \n",
       "1                                           0.230425                  \n",
       "\n",
       "   prop_review_score_diff_to_min_prop_review_score_per_srch_id  \\\n",
       "0                                                3.5             \n",
       "1                                                4.5             \n",
       "\n",
       "   prop_review_score_rel_diff_to_min_prop_review_score_per_srch_id  \\\n",
       "0                                           0.997151                 \n",
       "1                                           0.997783                 \n",
       "\n",
       "   prop_review_score_diff_to_max_prop_review_score_per_srch_id  \\\n",
       "0                                               -1.5             \n",
       "1                                               -0.5             \n",
       "\n",
       "   prop_review_score_rel_diff_to_max_prop_review_score_per_srch_id  \\\n",
       "0                                          -0.427350                 \n",
       "1                                          -0.110865                 \n",
       "\n",
       "   mean_promotion_flag_per_srch_id  \\\n",
       "0                         0.294118   \n",
       "1                         0.294118   \n",
       "\n",
       "   promotion_flag_diff_to_mean_promotion_flag_per_srch_id  \n",
       "0                                           0.705882       \n",
       "1                                          -0.294118       "
      ]
     },
     "execution_count": 123,
     "metadata": {},
     "output_type": "execute_result"
    }
   ],
   "source": [
    "df.head(2)"
   ]
  },
  {
   "cell_type": "markdown",
   "id": "030428c0",
   "metadata": {},
   "source": [
    "#### prop_country_id"
   ]
  },
  {
   "cell_type": "code",
   "execution_count": 124,
   "id": "6d5a5d39",
   "metadata": {
    "ExecuteTime": {
     "end_time": "2022-05-28T13:47:18.273632Z",
     "start_time": "2022-05-28T13:47:18.240462Z"
    }
   },
   "outputs": [
    {
     "data": {
      "text/plain": [
       "(8526686, 160)"
      ]
     },
     "execution_count": 124,
     "metadata": {},
     "output_type": "execute_result"
    }
   ],
   "source": [
    "df.shape"
   ]
  },
  {
   "cell_type": "code",
   "execution_count": 125,
   "id": "8afa1094",
   "metadata": {
    "ExecuteTime": {
     "end_time": "2022-05-28T13:47:33.649112Z",
     "start_time": "2022-05-28T13:47:18.276540Z"
    }
   },
   "outputs": [
    {
     "name": "stdout",
     "output_type": "stream",
     "text": [
      "172 groups when aggregation by ['prop_country_id']\n",
      "118 groups when aggregation by ['prop_country_id']\n",
      "132 groups when aggregation by ['prop_country_id']\n",
      "167 groups when aggregation by ['prop_country_id']\n"
     ]
    }
   ],
   "source": [
    "# was removed. return back\n",
    "# prices for the hotel country\n",
    "groupby_cols = ['prop_country_id']\n",
    "feature_value_col = 'price_per_day'\n",
    "df = apply_composite_for_splits(df, split_cols=['train', 'val', 'test', 'subm'],\n",
    "                                groupby_cols=groupby_cols,\n",
    "                                feature_value_col=feature_value_col,\n",
    "                                agg_methods=[\"min\", \"max\"])\n",
    "\n",
    "# # prices for the hotel country for the season of trip for specific number of rooms\n",
    "# groupby_cols = ['prop_country_id', 'srch_room_count', 'trip_start_date_quarter']\n",
    "# feature_value_col = 'price_per_day'\n",
    "# df = apply_composite_for_splits(deepcopy(df), split_cols=['train', 'val', 'test', 'subm'],\n",
    "#                                 groupby_cols=groupby_cols,\n",
    "#                                 feature_value_col=feature_value_col,\n",
    "#                                 agg_methods=[\"mean\", \"median\", \"min\", \"max\"])"
   ]
  },
  {
   "cell_type": "code",
   "execution_count": 126,
   "id": "fcfb376c",
   "metadata": {
    "ExecuteTime": {
     "end_time": "2022-05-28T13:48:35.187721Z",
     "start_time": "2022-05-28T13:47:33.654703Z"
    }
   },
   "outputs": [
    {
     "name": "stdout",
     "output_type": "stream",
     "text": [
      "3399 groups when aggregation by ['visitor_location_country_id', 'prop_country_id']\n"
     ]
    },
    {
     "name": "stderr",
     "output_type": "stream",
     "text": [
      "/Users/Oleg_Litvinov1/Documents/Code/Expedia_HTTPS/features.py:143: PerformanceWarning: DataFrame is highly fragmented.  This is usually the result of calling `frame.insert` many times, which has poor performance.  Consider joining all columns at once using pd.concat(axis=1) instead.  To get a de-fragmented frame, use `newframe = frame.copy()`\n",
      "  input_df[feature_value_col + '_rel_diff_to_' + new_feature_name] = (input_df[feature_value_col] - input_df[\n"
     ]
    },
    {
     "name": "stdout",
     "output_type": "stream",
     "text": [
      "812 groups when aggregation by ['visitor_location_country_id', 'prop_country_id']\n",
      "872 groups when aggregation by ['visitor_location_country_id', 'prop_country_id']\n",
      "4001 groups when aggregation by ['visitor_location_country_id', 'prop_country_id']\n"
     ]
    },
    {
     "data": {
      "text/plain": [
       "(8526686, 178)"
      ]
     },
     "execution_count": 126,
     "metadata": {},
     "output_type": "execute_result"
    }
   ],
   "source": [
    "# prices from the country of user for the destination country\n",
    "groupby_cols = ['visitor_location_country_id', 'prop_country_id']\n",
    "feature_value_col = 'price_per_day'\n",
    "agg_methods = [\"mean\", \"median\", \"min\", \"max\"]\n",
    "\n",
    "df = apply_composite_for_splits(df, split_cols=['train', 'val', 'test', 'subm'],\n",
    "                                groupby_cols=groupby_cols,\n",
    "                                feature_value_col=feature_value_col,\n",
    "                                agg_methods=[\"mean\", \"median\", \"min\", \"max\"])\n",
    "df.shape"
   ]
  },
  {
   "cell_type": "code",
   "execution_count": 127,
   "id": "523ef735",
   "metadata": {
    "ExecuteTime": {
     "end_time": "2022-05-28T13:49:20.261196Z",
     "start_time": "2022-05-28T13:48:35.191972Z"
    },
    "scrolled": true
   },
   "outputs": [
    {
     "name": "stdout",
     "output_type": "stream",
     "text": [
      "6698 groups when aggregation by ['visitor_location_country_id', 'prop_country_id', 'trip_start_date_quarter']\n"
     ]
    },
    {
     "name": "stderr",
     "output_type": "stream",
     "text": [
      "/Users/Oleg_Litvinov1/Documents/Code/Expedia_HTTPS/features.py:140: PerformanceWarning: DataFrame is highly fragmented.  This is usually the result of calling `frame.insert` many times, which has poor performance.  Consider joining all columns at once using pd.concat(axis=1) instead.  To get a de-fragmented frame, use `newframe = frame.copy()`\n",
      "  input_df[feature_value_col + '_diff_to_' + new_feature_name] = input_df[feature_value_col] - input_df[\n"
     ]
    },
    {
     "name": "stdout",
     "output_type": "stream",
     "text": [
      "1303 groups when aggregation by ['visitor_location_country_id', 'prop_country_id', 'trip_start_date_quarter']\n",
      "1437 groups when aggregation by ['visitor_location_country_id', 'prop_country_id', 'trip_start_date_quarter']\n",
      "8233 groups when aggregation by ['visitor_location_country_id', 'prop_country_id', 'trip_start_date_quarter']\n"
     ]
    },
    {
     "data": {
      "text/plain": [
       "(8526686, 190)"
      ]
     },
     "execution_count": 127,
     "metadata": {},
     "output_type": "execute_result"
    }
   ],
   "source": [
    "# prices from the country of user for the destination country for the season of trip\n",
    "groupby_cols = ['visitor_location_country_id', 'prop_country_id', 'trip_start_date_quarter']\n",
    "feature_value_col = 'price_per_day'\n",
    "df = apply_composite_for_splits(df, split_cols=['train', 'val', 'test', 'subm'],\n",
    "                                groupby_cols=groupby_cols,\n",
    "                                feature_value_col=feature_value_col,\n",
    "                                agg_methods=[\"mean\", \"median\", \"min\", \"max\"])\n",
    "df.shape"
   ]
  },
  {
   "cell_type": "code",
   "execution_count": 128,
   "id": "5f97cc77",
   "metadata": {
    "ExecuteTime": {
     "end_time": "2022-05-28T13:49:20.327001Z",
     "start_time": "2022-05-28T13:49:20.264379Z"
    },
    "scrolled": true
   },
   "outputs": [],
   "source": [
    "# \n",
    "\n",
    "# # prices for the hotel country for the season of trip\n",
    "# groupby_cols = ['prop_country_id', 'trip_start_date_quarter']\n",
    "# feature_value_col = 'price_per_day'\n",
    "# df = apply_composite_for_splits(deepcopy(df), split_cols=['train', 'val', 'test', 'subm'],\n",
    "#                                 groupby_cols=groupby_cols,\n",
    "#                                 feature_value_col=feature_value_col,\n",
    "#                                 agg_methods=[\"mean\", \"median\", \"min\", \"max\"])"
   ]
  },
  {
   "cell_type": "code",
   "execution_count": 129,
   "id": "8ca2ffb8",
   "metadata": {
    "ExecuteTime": {
     "end_time": "2022-05-28T13:49:20.440126Z",
     "start_time": "2022-05-28T13:49:20.329568Z"
    }
   },
   "outputs": [
    {
     "data": {
      "text/html": [
       "<div>\n",
       "<style scoped>\n",
       "    .dataframe tbody tr th:only-of-type {\n",
       "        vertical-align: middle;\n",
       "    }\n",
       "\n",
       "    .dataframe tbody tr th {\n",
       "        vertical-align: top;\n",
       "    }\n",
       "\n",
       "    .dataframe thead th {\n",
       "        text-align: right;\n",
       "    }\n",
       "</style>\n",
       "<table border=\"1\" class=\"dataframe\">\n",
       "  <thead>\n",
       "    <tr style=\"text-align: right;\">\n",
       "      <th></th>\n",
       "      <th>srch_id</th>\n",
       "      <th>date_time</th>\n",
       "      <th>site_id</th>\n",
       "      <th>visitor_location_country_id</th>\n",
       "      <th>visitor_hist_starrating</th>\n",
       "      <th>visitor_hist_adr_usd</th>\n",
       "      <th>prop_country_id</th>\n",
       "      <th>prop_id</th>\n",
       "      <th>prop_starrating</th>\n",
       "      <th>prop_review_score</th>\n",
       "      <th>prop_brand_bool</th>\n",
       "      <th>prop_location_score1</th>\n",
       "      <th>prop_location_score2</th>\n",
       "      <th>prop_log_historical_price</th>\n",
       "      <th>position</th>\n",
       "      <th>price_usd</th>\n",
       "      <th>promotion_flag</th>\n",
       "      <th>srch_destination_id</th>\n",
       "      <th>srch_length_of_stay</th>\n",
       "      <th>srch_booking_window</th>\n",
       "      <th>srch_adults_count</th>\n",
       "      <th>srch_children_count</th>\n",
       "      <th>srch_room_count</th>\n",
       "      <th>srch_saturday_night_bool</th>\n",
       "      <th>srch_query_affinity_score</th>\n",
       "      <th>orig_destination_distance</th>\n",
       "      <th>random_bool</th>\n",
       "      <th>comp3_rate_percent_diff</th>\n",
       "      <th>click_bool</th>\n",
       "      <th>gross_bookings_usd</th>\n",
       "      <th>booking_bool</th>\n",
       "      <th>test</th>\n",
       "      <th>val</th>\n",
       "      <th>train</th>\n",
       "      <th>subm</th>\n",
       "      <th>price_per_day</th>\n",
       "      <th>price_per_trip</th>\n",
       "      <th>date_time_ordinal</th>\n",
       "      <th>prop_location_score_diff</th>\n",
       "      <th>prop_location_score_sum</th>\n",
       "      <th>prop_location_score_mul</th>\n",
       "      <th>prop_location_score_diff_log</th>\n",
       "      <th>prop_location_score_sum_log</th>\n",
       "      <th>prop_location_score_mul_log</th>\n",
       "      <th>ratio_of_comp_with_lower_price_than_expedia</th>\n",
       "      <th>comp5_rate_percent_diff_signed</th>\n",
       "      <th>comp8_rate_percent_diff_signed</th>\n",
       "      <th>price_per_day_pow_2</th>\n",
       "      <th>price_per_day_log_10</th>\n",
       "      <th>price_per_day_reciprocal</th>\n",
       "      <th>prop_log_historical_price_pow_0.33</th>\n",
       "      <th>prop_log_historical_price_log_10</th>\n",
       "      <th>prop_log_historical_price_reciprocal</th>\n",
       "      <th>prop_historical_price</th>\n",
       "      <th>price_diff_to_usr_hist</th>\n",
       "      <th>price_ratio_to_usr_hist</th>\n",
       "      <th>price_diff_to_place_hist_price</th>\n",
       "      <th>prop_star_usr_hist_diff</th>\n",
       "      <th>prop_starrating_bonus_chain</th>\n",
       "      <th>prop_star_review_sum</th>\n",
       "      <th>prop_star_review_diff</th>\n",
       "      <th>prop_star_review_min</th>\n",
       "      <th>prop_star_review_max</th>\n",
       "      <th>prop_star_review_mean</th>\n",
       "      <th>price_per_star</th>\n",
       "      <th>price_per_review_score</th>\n",
       "      <th>price_per_star_log_10</th>\n",
       "      <th>price_per_review_score_log_10</th>\n",
       "      <th>booking_weeks_ahead</th>\n",
       "      <th>len_of_stay_to_booking_ahead_ratio</th>\n",
       "      <th>date</th>\n",
       "      <th>trip_start_date_week</th>\n",
       "      <th>trip_start_date_week_mid_summer_index</th>\n",
       "      <th>trip_start_date_month</th>\n",
       "      <th>trip_start_date_quarter</th>\n",
       "      <th>trip_start_date_season_num</th>\n",
       "      <th>trip_start_date_year</th>\n",
       "      <th>trip_start_date_week_id</th>\n",
       "      <th>trip_end_date_week</th>\n",
       "      <th>trip_end_date_week_mid_summer_index</th>\n",
       "      <th>trip_end_date_month</th>\n",
       "      <th>trip_end_date_quarter</th>\n",
       "      <th>trip_end_date_season_num</th>\n",
       "      <th>trip_end_date_year</th>\n",
       "      <th>trip_end_date_week_id</th>\n",
       "      <th>children_per_adult</th>\n",
       "      <th>total_people</th>\n",
       "      <th>people_per_room</th>\n",
       "      <th>separate_children_room</th>\n",
       "      <th>price_usd_log10_norm_by_srch_id</th>\n",
       "      <th>price_usd_log10_norm_by_prop_id</th>\n",
       "      <th>prop_starrating_norm_by_srch_id</th>\n",
       "      <th>price_index_per_srch_id</th>\n",
       "      <th>price_index_per_srch_destination_id</th>\n",
       "      <th>price_index_per_prop_id</th>\n",
       "      <th>srch_query_affinity_score_prob</th>\n",
       "      <th>booking_prob_train</th>\n",
       "      <th>click_prob_train</th>\n",
       "      <th>book_per_click</th>\n",
       "      <th>mean_position_train</th>\n",
       "      <th>mean_position_train_when_not_random</th>\n",
       "      <th>mean_prop_starrating_per_srch_id</th>\n",
       "      <th>median_prop_starrating_per_srch_id</th>\n",
       "      <th>min_prop_starrating_per_srch_id</th>\n",
       "      <th>max_prop_starrating_per_srch_id</th>\n",
       "      <th>prop_starrating_diff_to_mean_prop_starrating_per_srch_id</th>\n",
       "      <th>prop_starrating_rel_diff_to_mean_prop_starrating_per_srch_id</th>\n",
       "      <th>prop_starrating_diff_to_median_prop_starrating_per_srch_id</th>\n",
       "      <th>prop_starrating_rel_diff_to_median_prop_starrating_per_srch_id</th>\n",
       "      <th>prop_starrating_diff_to_min_prop_starrating_per_srch_id</th>\n",
       "      <th>prop_starrating_rel_diff_to_min_prop_starrating_per_srch_id</th>\n",
       "      <th>prop_starrating_diff_to_max_prop_starrating_per_srch_id</th>\n",
       "      <th>prop_starrating_rel_diff_to_max_prop_starrating_per_srch_id</th>\n",
       "      <th>mean_prop_location_score2_per_srch_id</th>\n",
       "      <th>median_prop_location_score2_per_srch_id</th>\n",
       "      <th>min_prop_location_score2_per_srch_id</th>\n",
       "      <th>max_prop_location_score2_per_srch_id</th>\n",
       "      <th>prop_location_score2_diff_to_mean_prop_location_score2_per_srch_id</th>\n",
       "      <th>prop_location_score2_rel_diff_to_mean_prop_location_score2_per_srch_id</th>\n",
       "      <th>prop_location_score2_diff_to_median_prop_location_score2_per_srch_id</th>\n",
       "      <th>prop_location_score2_rel_diff_to_median_prop_location_score2_per_srch_id</th>\n",
       "      <th>prop_location_score2_diff_to_min_prop_location_score2_per_srch_id</th>\n",
       "      <th>prop_location_score2_rel_diff_to_min_prop_location_score2_per_srch_id</th>\n",
       "      <th>prop_location_score2_diff_to_max_prop_location_score2_per_srch_id</th>\n",
       "      <th>prop_location_score2_rel_diff_to_max_prop_location_score2_per_srch_id</th>\n",
       "      <th>mean_prop_location_score1_per_srch_id</th>\n",
       "      <th>median_prop_location_score1_per_srch_id</th>\n",
       "      <th>min_prop_location_score1_per_srch_id</th>\n",
       "      <th>max_prop_location_score1_per_srch_id</th>\n",
       "      <th>prop_location_score1_diff_to_mean_prop_location_score1_per_srch_id</th>\n",
       "      <th>prop_location_score1_rel_diff_to_mean_prop_location_score1_per_srch_id</th>\n",
       "      <th>prop_location_score1_diff_to_median_prop_location_score1_per_srch_id</th>\n",
       "      <th>prop_location_score1_rel_diff_to_median_prop_location_score1_per_srch_id</th>\n",
       "      <th>prop_location_score1_diff_to_min_prop_location_score1_per_srch_id</th>\n",
       "      <th>prop_location_score1_rel_diff_to_min_prop_location_score1_per_srch_id</th>\n",
       "      <th>prop_location_score1_diff_to_max_prop_location_score1_per_srch_id</th>\n",
       "      <th>prop_location_score1_rel_diff_to_max_prop_location_score1_per_srch_id</th>\n",
       "      <th>mean_price_usd_per_srch_id</th>\n",
       "      <th>median_price_usd_per_srch_id</th>\n",
       "      <th>min_price_usd_per_srch_id</th>\n",
       "      <th>max_price_usd_per_srch_id</th>\n",
       "      <th>price_usd_diff_to_mean_price_usd_per_srch_id</th>\n",
       "      <th>price_usd_rel_diff_to_mean_price_usd_per_srch_id</th>\n",
       "      <th>price_usd_diff_to_median_price_usd_per_srch_id</th>\n",
       "      <th>price_usd_rel_diff_to_median_price_usd_per_srch_id</th>\n",
       "      <th>price_usd_diff_to_min_price_usd_per_srch_id</th>\n",
       "      <th>price_usd_rel_diff_to_min_price_usd_per_srch_id</th>\n",
       "      <th>price_usd_diff_to_max_price_usd_per_srch_id</th>\n",
       "      <th>price_usd_rel_diff_to_max_price_usd_per_srch_id</th>\n",
       "      <th>mean_prop_review_score_per_srch_id</th>\n",
       "      <th>min_prop_review_score_per_srch_id</th>\n",
       "      <th>max_prop_review_score_per_srch_id</th>\n",
       "      <th>prop_review_score_diff_to_mean_prop_review_score_per_srch_id</th>\n",
       "      <th>prop_review_score_rel_diff_to_mean_prop_review_score_per_srch_id</th>\n",
       "      <th>prop_review_score_diff_to_min_prop_review_score_per_srch_id</th>\n",
       "      <th>prop_review_score_rel_diff_to_min_prop_review_score_per_srch_id</th>\n",
       "      <th>prop_review_score_diff_to_max_prop_review_score_per_srch_id</th>\n",
       "      <th>prop_review_score_rel_diff_to_max_prop_review_score_per_srch_id</th>\n",
       "      <th>mean_promotion_flag_per_srch_id</th>\n",
       "      <th>promotion_flag_diff_to_mean_promotion_flag_per_srch_id</th>\n",
       "      <th>min_price_per_day_per_prop_country_id</th>\n",
       "      <th>max_price_per_day_per_prop_country_id</th>\n",
       "      <th>price_per_day_diff_to_min_price_per_day_per_prop_country_id</th>\n",
       "      <th>price_per_day_rel_diff_to_min_price_per_day_per_prop_country_id</th>\n",
       "      <th>price_per_day_diff_to_max_price_per_day_per_prop_country_id</th>\n",
       "      <th>price_per_day_rel_diff_to_max_price_per_day_per_prop_country_id</th>\n",
       "      <th>mean_price_per_day_per_visitor_location_country_id_per_prop_country_id</th>\n",
       "      <th>median_price_per_day_per_visitor_location_country_id_per_prop_country_id</th>\n",
       "      <th>min_price_per_day_per_visitor_location_country_id_per_prop_country_id</th>\n",
       "      <th>max_price_per_day_per_visitor_location_country_id_per_prop_country_id</th>\n",
       "      <th>price_per_day_diff_to_mean_price_per_day_per_visitor_location_country_id_per_prop_country_id</th>\n",
       "      <th>price_per_day_rel_diff_to_mean_price_per_day_per_visitor_location_country_id_per_prop_country_id</th>\n",
       "      <th>price_per_day_diff_to_median_price_per_day_per_visitor_location_country_id_per_prop_country_id</th>\n",
       "      <th>price_per_day_rel_diff_to_median_price_per_day_per_visitor_location_country_id_per_prop_country_id</th>\n",
       "      <th>price_per_day_diff_to_min_price_per_day_per_visitor_location_country_id_per_prop_country_id</th>\n",
       "      <th>price_per_day_rel_diff_to_min_price_per_day_per_visitor_location_country_id_per_prop_country_id</th>\n",
       "      <th>price_per_day_diff_to_max_price_per_day_per_visitor_location_country_id_per_prop_country_id</th>\n",
       "      <th>price_per_day_rel_diff_to_max_price_per_day_per_visitor_location_country_id_per_prop_country_id</th>\n",
       "      <th>mean_price_per_day_per_visitor_location_country_id_per_prop_country_id_per_trip_start_date_quarter</th>\n",
       "      <th>median_price_per_day_per_visitor_location_country_id_per_prop_country_id_per_trip_start_date_quarter</th>\n",
       "      <th>min_price_per_day_per_visitor_location_country_id_per_prop_country_id_per_trip_start_date_quarter</th>\n",
       "      <th>max_price_per_day_per_visitor_location_country_id_per_prop_country_id_per_trip_start_date_quarter</th>\n",
       "      <th>price_per_day_diff_to_mean_price_per_day_per_visitor_location_country_id_per_prop_country_id_per_trip_start_date_quarter</th>\n",
       "      <th>price_per_day_rel_diff_to_mean_price_per_day_per_visitor_location_country_id_per_prop_country_id_per_trip_start_date_quarter</th>\n",
       "      <th>price_per_day_diff_to_median_price_per_day_per_visitor_location_country_id_per_prop_country_id_per_trip_start_date_quarter</th>\n",
       "      <th>price_per_day_rel_diff_to_median_price_per_day_per_visitor_location_country_id_per_prop_country_id_per_trip_start_date_quarter</th>\n",
       "      <th>price_per_day_diff_to_min_price_per_day_per_visitor_location_country_id_per_prop_country_id_per_trip_start_date_quarter</th>\n",
       "      <th>price_per_day_rel_diff_to_min_price_per_day_per_visitor_location_country_id_per_prop_country_id_per_trip_start_date_quarter</th>\n",
       "      <th>price_per_day_diff_to_max_price_per_day_per_visitor_location_country_id_per_prop_country_id_per_trip_start_date_quarter</th>\n",
       "      <th>price_per_day_rel_diff_to_max_price_per_day_per_visitor_location_country_id_per_prop_country_id_per_trip_start_date_quarter</th>\n",
       "    </tr>\n",
       "  </thead>\n",
       "  <tbody>\n",
       "    <tr>\n",
       "      <th>23</th>\n",
       "      <td>32491</td>\n",
       "      <td>2013-03-11 06:17:53</td>\n",
       "      <td>24</td>\n",
       "      <td>39</td>\n",
       "      <td>NaN</td>\n",
       "      <td>NaN</td>\n",
       "      <td>99</td>\n",
       "      <td>94617</td>\n",
       "      <td>4.0</td>\n",
       "      <td>5.0</td>\n",
       "      <td>0</td>\n",
       "      <td>1.1</td>\n",
       "      <td>0.0237</td>\n",
       "      <td>5.62</td>\n",
       "      <td>8.0</td>\n",
       "      <td>220.539993</td>\n",
       "      <td>1</td>\n",
       "      <td>21881</td>\n",
       "      <td>1</td>\n",
       "      <td>110</td>\n",
       "      <td>2</td>\n",
       "      <td>0</td>\n",
       "      <td>1</td>\n",
       "      <td>1</td>\n",
       "      <td>NaN</td>\n",
       "      <td>NaN</td>\n",
       "      <td>0</td>\n",
       "      <td>NaN</td>\n",
       "      <td>0.0</td>\n",
       "      <td>NaN</td>\n",
       "      <td>0.0</td>\n",
       "      <td>False</td>\n",
       "      <td>False</td>\n",
       "      <td>True</td>\n",
       "      <td>False</td>\n",
       "      <td>220.539993</td>\n",
       "      <td>220.539993</td>\n",
       "      <td>163353</td>\n",
       "      <td>1.0763</td>\n",
       "      <td>1.1237</td>\n",
       "      <td>0.02607</td>\n",
       "      <td>6.498908</td>\n",
       "      <td>-4.298908</td>\n",
       "      <td>-5.938799</td>\n",
       "      <td>NaN</td>\n",
       "      <td>&lt;NA&gt;</td>\n",
       "      <td>&lt;NA&gt;</td>\n",
       "      <td>48637.886719</td>\n",
       "      <td>2.343487</td>\n",
       "      <td>0.004534</td>\n",
       "      <td>1.767718</td>\n",
       "      <td>0.749736</td>\n",
       "      <td>0.177936</td>\n",
       "      <td>275.889343</td>\n",
       "      <td>NaN</td>\n",
       "      <td>NaN</td>\n",
       "      <td>-55.349350</td>\n",
       "      <td>NaN</td>\n",
       "      <td>4.0</td>\n",
       "      <td>9.0</td>\n",
       "      <td>-1.0</td>\n",
       "      <td>4.0</td>\n",
       "      <td>5.0</td>\n",
       "      <td>4.50</td>\n",
       "      <td>55.134985</td>\n",
       "      <td>44.107990</td>\n",
       "      <td>1.741427</td>\n",
       "      <td>1.644517</td>\n",
       "      <td>15.714286</td>\n",
       "      <td>110.0</td>\n",
       "      <td>2013-03-11</td>\n",
       "      <td>26</td>\n",
       "      <td>23</td>\n",
       "      <td>6</td>\n",
       "      <td>2</td>\n",
       "      <td>3</td>\n",
       "      <td>2013</td>\n",
       "      <td>201326</td>\n",
       "      <td>26</td>\n",
       "      <td>23</td>\n",
       "      <td>6</td>\n",
       "      <td>2</td>\n",
       "      <td>3</td>\n",
       "      <td>2013</td>\n",
       "      <td>201326</td>\n",
       "      <td>0.0</td>\n",
       "      <td>2</td>\n",
       "      <td>2.0</td>\n",
       "      <td>False</td>\n",
       "      <td>0.935287</td>\n",
       "      <td>0.295928</td>\n",
       "      <td>0.568731</td>\n",
       "      <td>41</td>\n",
       "      <td>459</td>\n",
       "      <td>41</td>\n",
       "      <td>NaN</td>\n",
       "      <td>0.095238</td>\n",
       "      <td>0.095238</td>\n",
       "      <td>1.0</td>\n",
       "      <td>8.380952</td>\n",
       "      <td>8.380952</td>\n",
       "      <td>3.5625</td>\n",
       "      <td>4.0</td>\n",
       "      <td>1.0</td>\n",
       "      <td>5.0</td>\n",
       "      <td>0.4375</td>\n",
       "      <td>0.109102</td>\n",
       "      <td>0.0</td>\n",
       "      <td>0.0</td>\n",
       "      <td>3.0</td>\n",
       "      <td>0.74813</td>\n",
       "      <td>-1.0</td>\n",
       "      <td>-0.249377</td>\n",
       "      <td>0.196628</td>\n",
       "      <td>0.1686</td>\n",
       "      <td>0.0048</td>\n",
       "      <td>0.3862</td>\n",
       "      <td>-0.172928</td>\n",
       "      <td>-5.131382</td>\n",
       "      <td>-0.1449</td>\n",
       "      <td>-4.299703</td>\n",
       "      <td>0.0189</td>\n",
       "      <td>0.560831</td>\n",
       "      <td>-0.3625</td>\n",
       "      <td>-10.756677</td>\n",
       "      <td>2.893137</td>\n",
       "      <td>2.48</td>\n",
       "      <td>0.0</td>\n",
       "      <td>4.77</td>\n",
       "      <td>-1.793137</td>\n",
       "      <td>-1.615439</td>\n",
       "      <td>-1.38</td>\n",
       "      <td>-1.243243</td>\n",
       "      <td>1.1</td>\n",
       "      <td>0.990991</td>\n",
       "      <td>-3.67</td>\n",
       "      <td>-3.306306</td>\n",
       "      <td>158.900986</td>\n",
       "      <td>103.419998</td>\n",
       "      <td>54.459999</td>\n",
       "      <td>1063.719971</td>\n",
       "      <td>61.639008</td>\n",
       "      <td>0.279479</td>\n",
       "      <td>117.119995</td>\n",
       "      <td>0.531036</td>\n",
       "      <td>166.079987</td>\n",
       "      <td>0.753026</td>\n",
       "      <td>-843.179993</td>\n",
       "      <td>-3.823079</td>\n",
       "      <td>3.460784</td>\n",
       "      <td>0.0</td>\n",
       "      <td>5.0</td>\n",
       "      <td>1.539216</td>\n",
       "      <td>0.307229</td>\n",
       "      <td>5.0</td>\n",
       "      <td>0.998004</td>\n",
       "      <td>0.0</td>\n",
       "      <td>0.000000</td>\n",
       "      <td>0.294118</td>\n",
       "      <td>0.705882</td>\n",
       "      <td>19.610001</td>\n",
       "      <td>18296.369141</td>\n",
       "      <td>200.929993</td>\n",
       "      <td>0.911041</td>\n",
       "      <td>-18075.830078</td>\n",
       "      <td>-81.957972</td>\n",
       "      <td>224.187088</td>\n",
       "      <td>190.759995</td>\n",
       "      <td>54.459999</td>\n",
       "      <td>1369.01001</td>\n",
       "      <td>-3.647095</td>\n",
       "      <td>-0.016536</td>\n",
       "      <td>29.779999</td>\n",
       "      <td>0.135026</td>\n",
       "      <td>166.079987</td>\n",
       "      <td>0.753026</td>\n",
       "      <td>-1148.469971</td>\n",
       "      <td>-5.207300</td>\n",
       "      <td>224.187088</td>\n",
       "      <td>190.759995</td>\n",
       "      <td>54.459999</td>\n",
       "      <td>1369.01001</td>\n",
       "      <td>-3.647095</td>\n",
       "      <td>-0.016536</td>\n",
       "      <td>29.779999</td>\n",
       "      <td>0.135026</td>\n",
       "      <td>166.079987</td>\n",
       "      <td>0.753026</td>\n",
       "      <td>-1148.469971</td>\n",
       "      <td>-5.207300</td>\n",
       "    </tr>\n",
       "    <tr>\n",
       "      <th>24</th>\n",
       "      <td>32491</td>\n",
       "      <td>2013-03-11 06:17:53</td>\n",
       "      <td>24</td>\n",
       "      <td>39</td>\n",
       "      <td>NaN</td>\n",
       "      <td>NaN</td>\n",
       "      <td>99</td>\n",
       "      <td>16506</td>\n",
       "      <td>4.0</td>\n",
       "      <td>4.5</td>\n",
       "      <td>1</td>\n",
       "      <td>0.0</td>\n",
       "      <td>NaN</td>\n",
       "      <td>4.99</td>\n",
       "      <td>24.0</td>\n",
       "      <td>90.769997</td>\n",
       "      <td>0</td>\n",
       "      <td>21881</td>\n",
       "      <td>1</td>\n",
       "      <td>110</td>\n",
       "      <td>2</td>\n",
       "      <td>0</td>\n",
       "      <td>1</td>\n",
       "      <td>1</td>\n",
       "      <td>NaN</td>\n",
       "      <td>NaN</td>\n",
       "      <td>0</td>\n",
       "      <td>NaN</td>\n",
       "      <td>0.0</td>\n",
       "      <td>NaN</td>\n",
       "      <td>0.0</td>\n",
       "      <td>False</td>\n",
       "      <td>False</td>\n",
       "      <td>True</td>\n",
       "      <td>False</td>\n",
       "      <td>90.769997</td>\n",
       "      <td>90.769997</td>\n",
       "      <td>163353</td>\n",
       "      <td>NaN</td>\n",
       "      <td>NaN</td>\n",
       "      <td>NaN</td>\n",
       "      <td>NaN</td>\n",
       "      <td>NaN</td>\n",
       "      <td>NaN</td>\n",
       "      <td>NaN</td>\n",
       "      <td>&lt;NA&gt;</td>\n",
       "      <td>&lt;NA&gt;</td>\n",
       "      <td>8239.192383</td>\n",
       "      <td>1.957942</td>\n",
       "      <td>0.011017</td>\n",
       "      <td>1.699704</td>\n",
       "      <td>0.698101</td>\n",
       "      <td>0.200401</td>\n",
       "      <td>146.936401</td>\n",
       "      <td>NaN</td>\n",
       "      <td>NaN</td>\n",
       "      <td>-56.166405</td>\n",
       "      <td>NaN</td>\n",
       "      <td>5.0</td>\n",
       "      <td>8.5</td>\n",
       "      <td>-0.5</td>\n",
       "      <td>4.0</td>\n",
       "      <td>4.5</td>\n",
       "      <td>4.25</td>\n",
       "      <td>22.692493</td>\n",
       "      <td>20.171106</td>\n",
       "      <td>1.355882</td>\n",
       "      <td>1.304730</td>\n",
       "      <td>15.714286</td>\n",
       "      <td>110.0</td>\n",
       "      <td>2013-03-11</td>\n",
       "      <td>26</td>\n",
       "      <td>23</td>\n",
       "      <td>6</td>\n",
       "      <td>2</td>\n",
       "      <td>3</td>\n",
       "      <td>2013</td>\n",
       "      <td>201326</td>\n",
       "      <td>26</td>\n",
       "      <td>23</td>\n",
       "      <td>6</td>\n",
       "      <td>2</td>\n",
       "      <td>3</td>\n",
       "      <td>2013</td>\n",
       "      <td>201326</td>\n",
       "      <td>0.0</td>\n",
       "      <td>2</td>\n",
       "      <td>2.0</td>\n",
       "      <td>False</td>\n",
       "      <td>-0.546099</td>\n",
       "      <td>-1.359162</td>\n",
       "      <td>0.568731</td>\n",
       "      <td>18</td>\n",
       "      <td>106</td>\n",
       "      <td>0</td>\n",
       "      <td>NaN</td>\n",
       "      <td>0.000000</td>\n",
       "      <td>0.000000</td>\n",
       "      <td>NaN</td>\n",
       "      <td>21.411765</td>\n",
       "      <td>21.411765</td>\n",
       "      <td>3.5625</td>\n",
       "      <td>4.0</td>\n",
       "      <td>1.0</td>\n",
       "      <td>5.0</td>\n",
       "      <td>0.4375</td>\n",
       "      <td>0.109102</td>\n",
       "      <td>0.0</td>\n",
       "      <td>0.0</td>\n",
       "      <td>3.0</td>\n",
       "      <td>0.74813</td>\n",
       "      <td>-1.0</td>\n",
       "      <td>-0.249377</td>\n",
       "      <td>0.196628</td>\n",
       "      <td>0.1686</td>\n",
       "      <td>0.0048</td>\n",
       "      <td>0.3862</td>\n",
       "      <td>NaN</td>\n",
       "      <td>NaN</td>\n",
       "      <td>NaN</td>\n",
       "      <td>NaN</td>\n",
       "      <td>NaN</td>\n",
       "      <td>NaN</td>\n",
       "      <td>NaN</td>\n",
       "      <td>NaN</td>\n",
       "      <td>2.893137</td>\n",
       "      <td>2.48</td>\n",
       "      <td>0.0</td>\n",
       "      <td>4.77</td>\n",
       "      <td>-2.893137</td>\n",
       "      <td>-289.313722</td>\n",
       "      <td>-2.48</td>\n",
       "      <td>-248.000002</td>\n",
       "      <td>0.0</td>\n",
       "      <td>0.000000</td>\n",
       "      <td>-4.77</td>\n",
       "      <td>-476.999998</td>\n",
       "      <td>158.900986</td>\n",
       "      <td>103.419998</td>\n",
       "      <td>54.459999</td>\n",
       "      <td>1063.719971</td>\n",
       "      <td>-68.130989</td>\n",
       "      <td>-0.750507</td>\n",
       "      <td>-12.650002</td>\n",
       "      <td>-0.139348</td>\n",
       "      <td>36.309998</td>\n",
       "      <td>0.399978</td>\n",
       "      <td>-972.949951</td>\n",
       "      <td>-10.717669</td>\n",
       "      <td>3.460784</td>\n",
       "      <td>0.0</td>\n",
       "      <td>5.0</td>\n",
       "      <td>1.039216</td>\n",
       "      <td>0.230425</td>\n",
       "      <td>4.5</td>\n",
       "      <td>0.997783</td>\n",
       "      <td>-0.5</td>\n",
       "      <td>-0.110865</td>\n",
       "      <td>0.294118</td>\n",
       "      <td>-0.294118</td>\n",
       "      <td>19.610001</td>\n",
       "      <td>18296.369141</td>\n",
       "      <td>71.159996</td>\n",
       "      <td>0.783873</td>\n",
       "      <td>-18205.599609</td>\n",
       "      <td>-200.546379</td>\n",
       "      <td>224.187088</td>\n",
       "      <td>190.759995</td>\n",
       "      <td>54.459999</td>\n",
       "      <td>1369.01001</td>\n",
       "      <td>-133.417084</td>\n",
       "      <td>-1.469675</td>\n",
       "      <td>-99.989998</td>\n",
       "      <td>-1.101454</td>\n",
       "      <td>36.309998</td>\n",
       "      <td>0.399978</td>\n",
       "      <td>-1278.239990</td>\n",
       "      <td>-14.080635</td>\n",
       "      <td>224.187088</td>\n",
       "      <td>190.759995</td>\n",
       "      <td>54.459999</td>\n",
       "      <td>1369.01001</td>\n",
       "      <td>-133.417084</td>\n",
       "      <td>-1.469675</td>\n",
       "      <td>-99.989998</td>\n",
       "      <td>-1.101454</td>\n",
       "      <td>36.309998</td>\n",
       "      <td>0.399978</td>\n",
       "      <td>-1278.239990</td>\n",
       "      <td>-14.080635</td>\n",
       "    </tr>\n",
       "  </tbody>\n",
       "</table>\n",
       "</div>"
      ],
      "text/plain": [
       "    srch_id           date_time  site_id  visitor_location_country_id  \\\n",
       "23    32491 2013-03-11 06:17:53       24                           39   \n",
       "24    32491 2013-03-11 06:17:53       24                           39   \n",
       "\n",
       "    visitor_hist_starrating  visitor_hist_adr_usd  prop_country_id  prop_id  \\\n",
       "23                      NaN                   NaN               99    94617   \n",
       "24                      NaN                   NaN               99    16506   \n",
       "\n",
       "    prop_starrating  prop_review_score  prop_brand_bool  prop_location_score1  \\\n",
       "23              4.0                5.0                0                   1.1   \n",
       "24              4.0                4.5                1                   0.0   \n",
       "\n",
       "    prop_location_score2  prop_log_historical_price  position   price_usd  \\\n",
       "23                0.0237                       5.62       8.0  220.539993   \n",
       "24                   NaN                       4.99      24.0   90.769997   \n",
       "\n",
       "    promotion_flag  srch_destination_id  srch_length_of_stay  \\\n",
       "23               1                21881                    1   \n",
       "24               0                21881                    1   \n",
       "\n",
       "    srch_booking_window  srch_adults_count  srch_children_count  \\\n",
       "23                  110                  2                    0   \n",
       "24                  110                  2                    0   \n",
       "\n",
       "    srch_room_count  srch_saturday_night_bool  srch_query_affinity_score  \\\n",
       "23                1                         1                        NaN   \n",
       "24                1                         1                        NaN   \n",
       "\n",
       "    orig_destination_distance  random_bool  comp3_rate_percent_diff  \\\n",
       "23                        NaN            0                      NaN   \n",
       "24                        NaN            0                      NaN   \n",
       "\n",
       "    click_bool  gross_bookings_usd  booking_bool   test    val  train   subm  \\\n",
       "23         0.0                 NaN           0.0  False  False   True  False   \n",
       "24         0.0                 NaN           0.0  False  False   True  False   \n",
       "\n",
       "    price_per_day  price_per_trip  date_time_ordinal  \\\n",
       "23     220.539993      220.539993             163353   \n",
       "24      90.769997       90.769997             163353   \n",
       "\n",
       "    prop_location_score_diff  prop_location_score_sum  \\\n",
       "23                    1.0763                   1.1237   \n",
       "24                       NaN                      NaN   \n",
       "\n",
       "    prop_location_score_mul  prop_location_score_diff_log  \\\n",
       "23                  0.02607                      6.498908   \n",
       "24                      NaN                           NaN   \n",
       "\n",
       "    prop_location_score_sum_log  prop_location_score_mul_log  \\\n",
       "23                    -4.298908                    -5.938799   \n",
       "24                          NaN                          NaN   \n",
       "\n",
       "    ratio_of_comp_with_lower_price_than_expedia  \\\n",
       "23                                          NaN   \n",
       "24                                          NaN   \n",
       "\n",
       "    comp5_rate_percent_diff_signed  comp8_rate_percent_diff_signed  \\\n",
       "23                            <NA>                            <NA>   \n",
       "24                            <NA>                            <NA>   \n",
       "\n",
       "    price_per_day_pow_2  price_per_day_log_10  price_per_day_reciprocal  \\\n",
       "23         48637.886719              2.343487                  0.004534   \n",
       "24          8239.192383              1.957942                  0.011017   \n",
       "\n",
       "    prop_log_historical_price_pow_0.33  prop_log_historical_price_log_10  \\\n",
       "23                            1.767718                          0.749736   \n",
       "24                            1.699704                          0.698101   \n",
       "\n",
       "    prop_log_historical_price_reciprocal  prop_historical_price  \\\n",
       "23                              0.177936             275.889343   \n",
       "24                              0.200401             146.936401   \n",
       "\n",
       "    price_diff_to_usr_hist  price_ratio_to_usr_hist  \\\n",
       "23                     NaN                      NaN   \n",
       "24                     NaN                      NaN   \n",
       "\n",
       "    price_diff_to_place_hist_price  prop_star_usr_hist_diff  \\\n",
       "23                      -55.349350                      NaN   \n",
       "24                      -56.166405                      NaN   \n",
       "\n",
       "    prop_starrating_bonus_chain  prop_star_review_sum  prop_star_review_diff  \\\n",
       "23                          4.0                   9.0                   -1.0   \n",
       "24                          5.0                   8.5                   -0.5   \n",
       "\n",
       "    prop_star_review_min  prop_star_review_max  prop_star_review_mean  \\\n",
       "23                   4.0                   5.0                   4.50   \n",
       "24                   4.0                   4.5                   4.25   \n",
       "\n",
       "    price_per_star  price_per_review_score  price_per_star_log_10  \\\n",
       "23       55.134985               44.107990               1.741427   \n",
       "24       22.692493               20.171106               1.355882   \n",
       "\n",
       "    price_per_review_score_log_10  booking_weeks_ahead  \\\n",
       "23                       1.644517            15.714286   \n",
       "24                       1.304730            15.714286   \n",
       "\n",
       "    len_of_stay_to_booking_ahead_ratio       date  trip_start_date_week  \\\n",
       "23                               110.0 2013-03-11                    26   \n",
       "24                               110.0 2013-03-11                    26   \n",
       "\n",
       "    trip_start_date_week_mid_summer_index  trip_start_date_month  \\\n",
       "23                                     23                      6   \n",
       "24                                     23                      6   \n",
       "\n",
       "    trip_start_date_quarter  trip_start_date_season_num  trip_start_date_year  \\\n",
       "23                        2                           3                  2013   \n",
       "24                        2                           3                  2013   \n",
       "\n",
       "    trip_start_date_week_id  trip_end_date_week  \\\n",
       "23                   201326                  26   \n",
       "24                   201326                  26   \n",
       "\n",
       "    trip_end_date_week_mid_summer_index  trip_end_date_month  \\\n",
       "23                                   23                    6   \n",
       "24                                   23                    6   \n",
       "\n",
       "    trip_end_date_quarter  trip_end_date_season_num  trip_end_date_year  \\\n",
       "23                      2                         3                2013   \n",
       "24                      2                         3                2013   \n",
       "\n",
       "    trip_end_date_week_id  children_per_adult  total_people  people_per_room  \\\n",
       "23                 201326                 0.0             2              2.0   \n",
       "24                 201326                 0.0             2              2.0   \n",
       "\n",
       "    separate_children_room  price_usd_log10_norm_by_srch_id  \\\n",
       "23                   False                         0.935287   \n",
       "24                   False                        -0.546099   \n",
       "\n",
       "    price_usd_log10_norm_by_prop_id  prop_starrating_norm_by_srch_id  \\\n",
       "23                         0.295928                         0.568731   \n",
       "24                        -1.359162                         0.568731   \n",
       "\n",
       "    price_index_per_srch_id  price_index_per_srch_destination_id  \\\n",
       "23                       41                                  459   \n",
       "24                       18                                  106   \n",
       "\n",
       "    price_index_per_prop_id  srch_query_affinity_score_prob  \\\n",
       "23                       41                             NaN   \n",
       "24                        0                             NaN   \n",
       "\n",
       "    booking_prob_train  click_prob_train  book_per_click  mean_position_train  \\\n",
       "23            0.095238          0.095238             1.0             8.380952   \n",
       "24            0.000000          0.000000             NaN            21.411765   \n",
       "\n",
       "    mean_position_train_when_not_random  mean_prop_starrating_per_srch_id  \\\n",
       "23                             8.380952                            3.5625   \n",
       "24                            21.411765                            3.5625   \n",
       "\n",
       "    median_prop_starrating_per_srch_id  min_prop_starrating_per_srch_id  \\\n",
       "23                                 4.0                              1.0   \n",
       "24                                 4.0                              1.0   \n",
       "\n",
       "    max_prop_starrating_per_srch_id  \\\n",
       "23                              5.0   \n",
       "24                              5.0   \n",
       "\n",
       "    prop_starrating_diff_to_mean_prop_starrating_per_srch_id  \\\n",
       "23                                             0.4375          \n",
       "24                                             0.4375          \n",
       "\n",
       "    prop_starrating_rel_diff_to_mean_prop_starrating_per_srch_id  \\\n",
       "23                                           0.109102              \n",
       "24                                           0.109102              \n",
       "\n",
       "    prop_starrating_diff_to_median_prop_starrating_per_srch_id  \\\n",
       "23                                                0.0            \n",
       "24                                                0.0            \n",
       "\n",
       "    prop_starrating_rel_diff_to_median_prop_starrating_per_srch_id  \\\n",
       "23                                                0.0                \n",
       "24                                                0.0                \n",
       "\n",
       "    prop_starrating_diff_to_min_prop_starrating_per_srch_id  \\\n",
       "23                                                3.0         \n",
       "24                                                3.0         \n",
       "\n",
       "    prop_starrating_rel_diff_to_min_prop_starrating_per_srch_id  \\\n",
       "23                                            0.74813             \n",
       "24                                            0.74813             \n",
       "\n",
       "    prop_starrating_diff_to_max_prop_starrating_per_srch_id  \\\n",
       "23                                               -1.0         \n",
       "24                                               -1.0         \n",
       "\n",
       "    prop_starrating_rel_diff_to_max_prop_starrating_per_srch_id  \\\n",
       "23                                          -0.249377             \n",
       "24                                          -0.249377             \n",
       "\n",
       "    mean_prop_location_score2_per_srch_id  \\\n",
       "23                               0.196628   \n",
       "24                               0.196628   \n",
       "\n",
       "    median_prop_location_score2_per_srch_id  \\\n",
       "23                                   0.1686   \n",
       "24                                   0.1686   \n",
       "\n",
       "    min_prop_location_score2_per_srch_id  \\\n",
       "23                                0.0048   \n",
       "24                                0.0048   \n",
       "\n",
       "    max_prop_location_score2_per_srch_id  \\\n",
       "23                                0.3862   \n",
       "24                                0.3862   \n",
       "\n",
       "    prop_location_score2_diff_to_mean_prop_location_score2_per_srch_id  \\\n",
       "23                                          -0.172928                    \n",
       "24                                                NaN                    \n",
       "\n",
       "    prop_location_score2_rel_diff_to_mean_prop_location_score2_per_srch_id  \\\n",
       "23                                          -5.131382                        \n",
       "24                                                NaN                        \n",
       "\n",
       "    prop_location_score2_diff_to_median_prop_location_score2_per_srch_id  \\\n",
       "23                                            -0.1449                      \n",
       "24                                                NaN                      \n",
       "\n",
       "    prop_location_score2_rel_diff_to_median_prop_location_score2_per_srch_id  \\\n",
       "23                                          -4.299703                          \n",
       "24                                                NaN                          \n",
       "\n",
       "    prop_location_score2_diff_to_min_prop_location_score2_per_srch_id  \\\n",
       "23                                             0.0189                   \n",
       "24                                                NaN                   \n",
       "\n",
       "    prop_location_score2_rel_diff_to_min_prop_location_score2_per_srch_id  \\\n",
       "23                                           0.560831                       \n",
       "24                                                NaN                       \n",
       "\n",
       "    prop_location_score2_diff_to_max_prop_location_score2_per_srch_id  \\\n",
       "23                                            -0.3625                   \n",
       "24                                                NaN                   \n",
       "\n",
       "    prop_location_score2_rel_diff_to_max_prop_location_score2_per_srch_id  \\\n",
       "23                                         -10.756677                       \n",
       "24                                                NaN                       \n",
       "\n",
       "    mean_prop_location_score1_per_srch_id  \\\n",
       "23                               2.893137   \n",
       "24                               2.893137   \n",
       "\n",
       "    median_prop_location_score1_per_srch_id  \\\n",
       "23                                     2.48   \n",
       "24                                     2.48   \n",
       "\n",
       "    min_prop_location_score1_per_srch_id  \\\n",
       "23                                   0.0   \n",
       "24                                   0.0   \n",
       "\n",
       "    max_prop_location_score1_per_srch_id  \\\n",
       "23                                  4.77   \n",
       "24                                  4.77   \n",
       "\n",
       "    prop_location_score1_diff_to_mean_prop_location_score1_per_srch_id  \\\n",
       "23                                          -1.793137                    \n",
       "24                                          -2.893137                    \n",
       "\n",
       "    prop_location_score1_rel_diff_to_mean_prop_location_score1_per_srch_id  \\\n",
       "23                                          -1.615439                        \n",
       "24                                        -289.313722                        \n",
       "\n",
       "    prop_location_score1_diff_to_median_prop_location_score1_per_srch_id  \\\n",
       "23                                              -1.38                      \n",
       "24                                              -2.48                      \n",
       "\n",
       "    prop_location_score1_rel_diff_to_median_prop_location_score1_per_srch_id  \\\n",
       "23                                          -1.243243                          \n",
       "24                                        -248.000002                          \n",
       "\n",
       "    prop_location_score1_diff_to_min_prop_location_score1_per_srch_id  \\\n",
       "23                                                1.1                   \n",
       "24                                                0.0                   \n",
       "\n",
       "    prop_location_score1_rel_diff_to_min_prop_location_score1_per_srch_id  \\\n",
       "23                                           0.990991                       \n",
       "24                                           0.000000                       \n",
       "\n",
       "    prop_location_score1_diff_to_max_prop_location_score1_per_srch_id  \\\n",
       "23                                              -3.67                   \n",
       "24                                              -4.77                   \n",
       "\n",
       "    prop_location_score1_rel_diff_to_max_prop_location_score1_per_srch_id  \\\n",
       "23                                          -3.306306                       \n",
       "24                                        -476.999998                       \n",
       "\n",
       "    mean_price_usd_per_srch_id  median_price_usd_per_srch_id  \\\n",
       "23                  158.900986                    103.419998   \n",
       "24                  158.900986                    103.419998   \n",
       "\n",
       "    min_price_usd_per_srch_id  max_price_usd_per_srch_id  \\\n",
       "23                  54.459999                1063.719971   \n",
       "24                  54.459999                1063.719971   \n",
       "\n",
       "    price_usd_diff_to_mean_price_usd_per_srch_id  \\\n",
       "23                                     61.639008   \n",
       "24                                    -68.130989   \n",
       "\n",
       "    price_usd_rel_diff_to_mean_price_usd_per_srch_id  \\\n",
       "23                                          0.279479   \n",
       "24                                         -0.750507   \n",
       "\n",
       "    price_usd_diff_to_median_price_usd_per_srch_id  \\\n",
       "23                                      117.119995   \n",
       "24                                      -12.650002   \n",
       "\n",
       "    price_usd_rel_diff_to_median_price_usd_per_srch_id  \\\n",
       "23                                           0.531036    \n",
       "24                                          -0.139348    \n",
       "\n",
       "    price_usd_diff_to_min_price_usd_per_srch_id  \\\n",
       "23                                   166.079987   \n",
       "24                                    36.309998   \n",
       "\n",
       "    price_usd_rel_diff_to_min_price_usd_per_srch_id  \\\n",
       "23                                         0.753026   \n",
       "24                                         0.399978   \n",
       "\n",
       "    price_usd_diff_to_max_price_usd_per_srch_id  \\\n",
       "23                                  -843.179993   \n",
       "24                                  -972.949951   \n",
       "\n",
       "    price_usd_rel_diff_to_max_price_usd_per_srch_id  \\\n",
       "23                                        -3.823079   \n",
       "24                                       -10.717669   \n",
       "\n",
       "    mean_prop_review_score_per_srch_id  min_prop_review_score_per_srch_id  \\\n",
       "23                            3.460784                                0.0   \n",
       "24                            3.460784                                0.0   \n",
       "\n",
       "    max_prop_review_score_per_srch_id  \\\n",
       "23                                5.0   \n",
       "24                                5.0   \n",
       "\n",
       "    prop_review_score_diff_to_mean_prop_review_score_per_srch_id  \\\n",
       "23                                           1.539216              \n",
       "24                                           1.039216              \n",
       "\n",
       "    prop_review_score_rel_diff_to_mean_prop_review_score_per_srch_id  \\\n",
       "23                                           0.307229                  \n",
       "24                                           0.230425                  \n",
       "\n",
       "    prop_review_score_diff_to_min_prop_review_score_per_srch_id  \\\n",
       "23                                                5.0             \n",
       "24                                                4.5             \n",
       "\n",
       "    prop_review_score_rel_diff_to_min_prop_review_score_per_srch_id  \\\n",
       "23                                           0.998004                 \n",
       "24                                           0.997783                 \n",
       "\n",
       "    prop_review_score_diff_to_max_prop_review_score_per_srch_id  \\\n",
       "23                                                0.0             \n",
       "24                                               -0.5             \n",
       "\n",
       "    prop_review_score_rel_diff_to_max_prop_review_score_per_srch_id  \\\n",
       "23                                           0.000000                 \n",
       "24                                          -0.110865                 \n",
       "\n",
       "    mean_promotion_flag_per_srch_id  \\\n",
       "23                         0.294118   \n",
       "24                         0.294118   \n",
       "\n",
       "    promotion_flag_diff_to_mean_promotion_flag_per_srch_id  \\\n",
       "23                                           0.705882        \n",
       "24                                          -0.294118        \n",
       "\n",
       "    min_price_per_day_per_prop_country_id  \\\n",
       "23                              19.610001   \n",
       "24                              19.610001   \n",
       "\n",
       "    max_price_per_day_per_prop_country_id  \\\n",
       "23                           18296.369141   \n",
       "24                           18296.369141   \n",
       "\n",
       "    price_per_day_diff_to_min_price_per_day_per_prop_country_id  \\\n",
       "23                                         200.929993             \n",
       "24                                          71.159996             \n",
       "\n",
       "    price_per_day_rel_diff_to_min_price_per_day_per_prop_country_id  \\\n",
       "23                                           0.911041                 \n",
       "24                                           0.783873                 \n",
       "\n",
       "    price_per_day_diff_to_max_price_per_day_per_prop_country_id  \\\n",
       "23                                      -18075.830078             \n",
       "24                                      -18205.599609             \n",
       "\n",
       "    price_per_day_rel_diff_to_max_price_per_day_per_prop_country_id  \\\n",
       "23                                         -81.957972                 \n",
       "24                                        -200.546379                 \n",
       "\n",
       "    mean_price_per_day_per_visitor_location_country_id_per_prop_country_id  \\\n",
       "23                                         224.187088                        \n",
       "24                                         224.187088                        \n",
       "\n",
       "    median_price_per_day_per_visitor_location_country_id_per_prop_country_id  \\\n",
       "23                                         190.759995                          \n",
       "24                                         190.759995                          \n",
       "\n",
       "    min_price_per_day_per_visitor_location_country_id_per_prop_country_id  \\\n",
       "23                                          54.459999                       \n",
       "24                                          54.459999                       \n",
       "\n",
       "    max_price_per_day_per_visitor_location_country_id_per_prop_country_id  \\\n",
       "23                                         1369.01001                       \n",
       "24                                         1369.01001                       \n",
       "\n",
       "    price_per_day_diff_to_mean_price_per_day_per_visitor_location_country_id_per_prop_country_id  \\\n",
       "23                                          -3.647095                                              \n",
       "24                                        -133.417084                                              \n",
       "\n",
       "    price_per_day_rel_diff_to_mean_price_per_day_per_visitor_location_country_id_per_prop_country_id  \\\n",
       "23                                          -0.016536                                                  \n",
       "24                                          -1.469675                                                  \n",
       "\n",
       "    price_per_day_diff_to_median_price_per_day_per_visitor_location_country_id_per_prop_country_id  \\\n",
       "23                                          29.779999                                                \n",
       "24                                         -99.989998                                                \n",
       "\n",
       "    price_per_day_rel_diff_to_median_price_per_day_per_visitor_location_country_id_per_prop_country_id  \\\n",
       "23                                           0.135026                                                    \n",
       "24                                          -1.101454                                                    \n",
       "\n",
       "    price_per_day_diff_to_min_price_per_day_per_visitor_location_country_id_per_prop_country_id  \\\n",
       "23                                         166.079987                                             \n",
       "24                                          36.309998                                             \n",
       "\n",
       "    price_per_day_rel_diff_to_min_price_per_day_per_visitor_location_country_id_per_prop_country_id  \\\n",
       "23                                           0.753026                                                 \n",
       "24                                           0.399978                                                 \n",
       "\n",
       "    price_per_day_diff_to_max_price_per_day_per_visitor_location_country_id_per_prop_country_id  \\\n",
       "23                                       -1148.469971                                             \n",
       "24                                       -1278.239990                                             \n",
       "\n",
       "    price_per_day_rel_diff_to_max_price_per_day_per_visitor_location_country_id_per_prop_country_id  \\\n",
       "23                                          -5.207300                                                 \n",
       "24                                         -14.080635                                                 \n",
       "\n",
       "    mean_price_per_day_per_visitor_location_country_id_per_prop_country_id_per_trip_start_date_quarter  \\\n",
       "23                                         224.187088                                                    \n",
       "24                                         224.187088                                                    \n",
       "\n",
       "    median_price_per_day_per_visitor_location_country_id_per_prop_country_id_per_trip_start_date_quarter  \\\n",
       "23                                         190.759995                                                      \n",
       "24                                         190.759995                                                      \n",
       "\n",
       "    min_price_per_day_per_visitor_location_country_id_per_prop_country_id_per_trip_start_date_quarter  \\\n",
       "23                                          54.459999                                                   \n",
       "24                                          54.459999                                                   \n",
       "\n",
       "    max_price_per_day_per_visitor_location_country_id_per_prop_country_id_per_trip_start_date_quarter  \\\n",
       "23                                         1369.01001                                                   \n",
       "24                                         1369.01001                                                   \n",
       "\n",
       "    price_per_day_diff_to_mean_price_per_day_per_visitor_location_country_id_per_prop_country_id_per_trip_start_date_quarter  \\\n",
       "23                                          -3.647095                                                                          \n",
       "24                                        -133.417084                                                                          \n",
       "\n",
       "    price_per_day_rel_diff_to_mean_price_per_day_per_visitor_location_country_id_per_prop_country_id_per_trip_start_date_quarter  \\\n",
       "23                                          -0.016536                                                                              \n",
       "24                                          -1.469675                                                                              \n",
       "\n",
       "    price_per_day_diff_to_median_price_per_day_per_visitor_location_country_id_per_prop_country_id_per_trip_start_date_quarter  \\\n",
       "23                                          29.779999                                                                            \n",
       "24                                         -99.989998                                                                            \n",
       "\n",
       "    price_per_day_rel_diff_to_median_price_per_day_per_visitor_location_country_id_per_prop_country_id_per_trip_start_date_quarter  \\\n",
       "23                                           0.135026                                                                                \n",
       "24                                          -1.101454                                                                                \n",
       "\n",
       "    price_per_day_diff_to_min_price_per_day_per_visitor_location_country_id_per_prop_country_id_per_trip_start_date_quarter  \\\n",
       "23                                         166.079987                                                                         \n",
       "24                                          36.309998                                                                         \n",
       "\n",
       "    price_per_day_rel_diff_to_min_price_per_day_per_visitor_location_country_id_per_prop_country_id_per_trip_start_date_quarter  \\\n",
       "23                                           0.753026                                                                             \n",
       "24                                           0.399978                                                                             \n",
       "\n",
       "    price_per_day_diff_to_max_price_per_day_per_visitor_location_country_id_per_prop_country_id_per_trip_start_date_quarter  \\\n",
       "23                                       -1148.469971                                                                         \n",
       "24                                       -1278.239990                                                                         \n",
       "\n",
       "    price_per_day_rel_diff_to_max_price_per_day_per_visitor_location_country_id_per_prop_country_id_per_trip_start_date_quarter  \n",
       "23                                          -5.207300                                                                            \n",
       "24                                         -14.080635                                                                            "
      ]
     },
     "execution_count": 129,
     "metadata": {},
     "output_type": "execute_result"
    }
   ],
   "source": [
    "df.head(2)"
   ]
  },
  {
   "cell_type": "markdown",
   "id": "677a079c",
   "metadata": {},
   "source": [
    "#### srch_destination_id"
   ]
  },
  {
   "cell_type": "code",
   "execution_count": 130,
   "id": "3016c9da",
   "metadata": {
    "ExecuteTime": {
     "end_time": "2022-05-28T13:50:54.177276Z",
     "start_time": "2022-05-28T13:49:20.444504Z"
    }
   },
   "outputs": [
    {
     "name": "stdout",
     "output_type": "stream",
     "text": [
      "15635 groups when aggregation by ['srch_destination_id']\n"
     ]
    },
    {
     "name": "stderr",
     "output_type": "stream",
     "text": [
      "/Users/Oleg_Litvinov1/Documents/Code/Expedia_HTTPS/features.py:140: PerformanceWarning: DataFrame is highly fragmented.  This is usually the result of calling `frame.insert` many times, which has poor performance.  Consider joining all columns at once using pd.concat(axis=1) instead.  To get a de-fragmented frame, use `newframe = frame.copy()`\n",
      "  input_df[feature_value_col + '_diff_to_' + new_feature_name] = input_df[feature_value_col] - input_df[\n",
      "/Users/Oleg_Litvinov1/Documents/Code/Expedia_HTTPS/features.py:143: PerformanceWarning: DataFrame is highly fragmented.  This is usually the result of calling `frame.insert` many times, which has poor performance.  Consider joining all columns at once using pd.concat(axis=1) instead.  To get a de-fragmented frame, use `newframe = frame.copy()`\n",
      "  input_df[feature_value_col + '_rel_diff_to_' + new_feature_name] = (input_df[feature_value_col] - input_df[\n"
     ]
    },
    {
     "name": "stdout",
     "output_type": "stream",
     "text": [
      "3323 groups when aggregation by ['srch_destination_id']\n",
      "3676 groups when aggregation by ['srch_destination_id']\n",
      "18049 groups when aggregation by ['srch_destination_id']\n"
     ]
    }
   ],
   "source": [
    "# prices from the country of search\n",
    "groupby_cols = ['srch_destination_id']\n",
    "feature_value_col = 'price_per_day'\n",
    "df = apply_composite_for_splits(df, split_cols=['train', 'val', 'test', 'subm'],\n",
    "                                groupby_cols=groupby_cols,\n",
    "                                feature_value_col=feature_value_col,\n",
    "                                agg_methods=[\"mean\", \"median\", \"min\", \"max\"])"
   ]
  },
  {
   "cell_type": "code",
   "execution_count": 131,
   "id": "554ca07e",
   "metadata": {
    "ExecuteTime": {
     "end_time": "2022-05-28T13:52:11.939082Z",
     "start_time": "2022-05-28T13:50:54.189627Z"
    }
   },
   "outputs": [
    {
     "name": "stdout",
     "output_type": "stream",
     "text": [
      "50084 groups when aggregation by ['visitor_location_country_id', 'srch_destination_id', 'trip_start_date_quarter']\n",
      "5586 groups when aggregation by ['visitor_location_country_id', 'srch_destination_id', 'trip_start_date_quarter']\n",
      "6515 groups when aggregation by ['visitor_location_country_id', 'srch_destination_id', 'trip_start_date_quarter']\n",
      "65699 groups when aggregation by ['visitor_location_country_id', 'srch_destination_id', 'trip_start_date_quarter']\n"
     ]
    }
   ],
   "source": [
    "# prices from the country of user for the search country for the season of trip\n",
    "groupby_cols = ['visitor_location_country_id', 'srch_destination_id', 'trip_start_date_quarter']\n",
    "feature_value_col = 'price_per_day'\n",
    "df = apply_composite_for_splits(df, split_cols=['train', 'val', 'test', 'subm'],\n",
    "                                groupby_cols=groupby_cols,\n",
    "                                feature_value_col=feature_value_col,\n",
    "                                agg_methods=[\"mean\", \"median\", \"min\", \"max\"])"
   ]
  },
  {
   "cell_type": "code",
   "execution_count": 132,
   "id": "257a7e61",
   "metadata": {
    "ExecuteTime": {
     "end_time": "2022-05-28T13:54:09.243504Z",
     "start_time": "2022-05-28T13:52:11.951539Z"
    }
   },
   "outputs": [
    {
     "name": "stdout",
     "output_type": "stream",
     "text": [
      "35946 groups when aggregation by ['srch_destination_id', 'srch_room_count', 'trip_start_date_quarter']\n",
      "5023 groups when aggregation by ['srch_destination_id', 'srch_room_count', 'trip_start_date_quarter']\n",
      "5783 groups when aggregation by ['srch_destination_id', 'srch_room_count', 'trip_start_date_quarter']\n",
      "44420 groups when aggregation by ['srch_destination_id', 'srch_room_count', 'trip_start_date_quarter']\n"
     ]
    }
   ],
   "source": [
    "\n",
    "\n",
    "# # prices from the country of user for the search country\n",
    "# groupby_cols = ['visitor_location_country_id', 'srch_destination_id']\n",
    "# feature_value_col = 'price_per_day'\n",
    "# df = apply_composite_for_splits(deepcopy(df), split_cols=['train', 'val', 'test', 'subm'],\n",
    "#                                 groupby_cols=groupby_cols,\n",
    "#                                 feature_value_col=feature_value_col,\n",
    "#                                 agg_methods=[\"mean\", \"median\", \"min\", \"max\"])\n",
    "\n",
    "# # prices from the country of user for the season of trip\n",
    "# groupby_cols = ['srch_destination_id', 'trip_start_date_quarter']\n",
    "# feature_value_col = 'price_per_day'\n",
    "# df = apply_composite_for_splits(deepcopy(df), split_cols=['train', 'val', 'test', 'subm'],\n",
    "#                                 groupby_cols=groupby_cols,\n",
    "#                                 feature_value_col=feature_value_col,\n",
    "#                                 agg_methods=[\"mean\", \"median\", \"min\", \"max\"])\n",
    "\n",
    "\n",
    "# prices from the country of search for the specific number of rooms for the season of trip\n",
    "groupby_cols = ['srch_destination_id', 'srch_room_count', 'trip_start_date_quarter']\n",
    "feature_value_col = 'price_per_day'\n",
    "df = apply_composite_for_splits(df, split_cols=['train', 'val', 'test', 'subm'],\n",
    "                                groupby_cols=groupby_cols,\n",
    "                                feature_value_col=feature_value_col,\n",
    "                                agg_methods=[\"mean\", \"median\", \"min\", \"max\"])"
   ]
  },
  {
   "cell_type": "code",
   "execution_count": 133,
   "id": "8f8f4f92",
   "metadata": {
    "ExecuteTime": {
     "end_time": "2022-05-28T13:54:24.335761Z",
     "start_time": "2022-05-28T13:54:09.250203Z"
    }
   },
   "outputs": [
    {
     "data": {
      "application/vnd.jupyter.widget-view+json": {
       "model_id": "28db966e61a549b58151fda91af01b2d",
       "version_major": 2,
       "version_minor": 0
      },
      "text/plain": [
       "  0%|          | 0/226 [00:00<?, ?it/s]"
      ]
     },
     "metadata": {},
     "output_type": "display_data"
    },
    {
     "data": {
      "text/plain": [
       "6716.768871307373"
      ]
     },
     "execution_count": 133,
     "metadata": {},
     "output_type": "execute_result"
    }
   ],
   "source": [
    "gc.collect()\n",
    "df = downcast(df)\n",
    "df.memory_usage().sum() / 1024**2"
   ]
  },
  {
   "cell_type": "markdown",
   "id": "bf02bf0f",
   "metadata": {},
   "source": [
    "#### prop_id"
   ]
  },
  {
   "cell_type": "code",
   "execution_count": 134,
   "id": "5a039f29",
   "metadata": {
    "ExecuteTime": {
     "end_time": "2022-05-28T13:55:24.676473Z",
     "start_time": "2022-05-28T13:54:24.338662Z"
    }
   },
   "outputs": [
    {
     "name": "stdout",
     "output_type": "stream",
     "text": [
      "124137 groups when aggregation by ['prop_id']\n",
      "57292 groups when aggregation by ['prop_id']\n",
      "61589 groups when aggregation by ['prop_id']\n",
      "129438 groups when aggregation by ['prop_id']\n"
     ]
    },
    {
     "data": {
      "text/plain": [
       "(8526686, 238)"
      ]
     },
     "execution_count": 134,
     "metadata": {},
     "output_type": "execute_result"
    }
   ],
   "source": [
    "# prices for the hotel\n",
    "groupby_cols = ['prop_id']\n",
    "feature_value_col = 'price_per_day'\n",
    "df = apply_composite_for_splits(df, split_cols=['train', 'val', 'test', 'subm'],\n",
    "                                groupby_cols=groupby_cols,\n",
    "                                feature_value_col=feature_value_col,\n",
    "                                agg_methods=[\"mean\", \"median\", \"min\", \"max\"])\n",
    "df.shape"
   ]
  },
  {
   "cell_type": "code",
   "execution_count": 135,
   "id": "597d7d55",
   "metadata": {
    "ExecuteTime": {
     "end_time": "2022-05-28T13:55:24.833516Z",
     "start_time": "2022-05-28T13:55:24.680605Z"
    }
   },
   "outputs": [],
   "source": [
    "# CONSTANT\n",
    "# groupby_cols = ['prop_id']\n",
    "# feature_value_col = 'srch_query_affinity_score'\n",
    "# df = apply_composite_for_splits(df, split_cols=['train', 'val', 'test', 'subm'],\n",
    "#                                 groupby_cols=groupby_cols,\n",
    "#                                 feature_value_col=feature_value_col,\n",
    "#                                 agg_methods=[\"mean\", \"median\", \"min\", \"max\"])\n",
    "# df.shape"
   ]
  },
  {
   "cell_type": "code",
   "execution_count": 136,
   "id": "4587c167",
   "metadata": {
    "ExecuteTime": {
     "end_time": "2022-05-28T13:56:42.753438Z",
     "start_time": "2022-05-28T13:55:24.836513Z"
    }
   },
   "outputs": [
    {
     "name": "stdout",
     "output_type": "stream",
     "text": [
      "557693 groups when aggregation by ['visitor_location_country_id', 'prop_id']\n",
      "91210 groups when aggregation by ['visitor_location_country_id', 'prop_id']\n",
      "102010 groups when aggregation by ['visitor_location_country_id', 'prop_id']\n",
      "732271 groups when aggregation by ['visitor_location_country_id', 'prop_id']\n"
     ]
    }
   ],
   "source": [
    "# prices for the user country for specific hotel\n",
    "groupby_cols = ['visitor_location_country_id', 'prop_id']\n",
    "feature_value_col = 'price_per_day'\n",
    "df = apply_composite_for_splits(df, split_cols=['train', 'val', 'test', 'subm'],\n",
    "                                groupby_cols=groupby_cols,\n",
    "                                feature_value_col=feature_value_col,\n",
    "                                agg_methods=[\"mean\", \"median\", \"min\", \"max\"])"
   ]
  },
  {
   "cell_type": "code",
   "execution_count": 137,
   "id": "ef944a3d",
   "metadata": {
    "ExecuteTime": {
     "end_time": "2022-05-28T13:58:10.068027Z",
     "start_time": "2022-05-28T13:56:42.758039Z"
    },
    "scrolled": true
   },
   "outputs": [
    {
     "name": "stdout",
     "output_type": "stream",
     "text": [
      "907794 groups when aggregation by ['visitor_location_country_id', 'prop_id', 'trip_start_date_quarter']\n",
      "126630 groups when aggregation by ['visitor_location_country_id', 'prop_id', 'trip_start_date_quarter']\n",
      "144564 groups when aggregation by ['visitor_location_country_id', 'prop_id', 'trip_start_date_quarter']\n",
      "1223937 groups when aggregation by ['visitor_location_country_id', 'prop_id', 'trip_start_date_quarter']\n"
     ]
    },
    {
     "data": {
      "text/plain": [
       "(8526686, 259)"
      ]
     },
     "execution_count": 137,
     "metadata": {},
     "output_type": "execute_result"
    }
   ],
   "source": [
    "# prices for the user country for specific hotel for the season of trip\n",
    "groupby_cols = ['visitor_location_country_id', 'prop_id', 'trip_start_date_quarter']\n",
    "feature_value_col = 'price_per_day'\n",
    "df = apply_composite_for_splits(df, split_cols=['train', 'val', 'test', 'subm'],\n",
    "                                groupby_cols=groupby_cols,\n",
    "                                feature_value_col=feature_value_col,\n",
    "                                agg_methods=[\"mean\", \"min\", \"max\"])\n",
    "\n",
    "df.shape"
   ]
  },
  {
   "cell_type": "code",
   "execution_count": 138,
   "id": "d80361cb",
   "metadata": {
    "ExecuteTime": {
     "end_time": "2022-05-28T13:59:51.103952Z",
     "start_time": "2022-05-28T13:58:10.073016Z"
    }
   },
   "outputs": [
    {
     "name": "stdout",
     "output_type": "stream",
     "text": [
      "353883 groups when aggregation by ['prop_id', 'trip_start_date_quarter']\n",
      "100789 groups when aggregation by ['prop_id', 'trip_start_date_quarter']\n",
      "112977 groups when aggregation by ['prop_id', 'trip_start_date_quarter']\n",
      "391532 groups when aggregation by ['prop_id', 'trip_start_date_quarter']\n"
     ]
    },
    {
     "data": {
      "text/plain": [
       "(8526686, 268)"
      ]
     },
     "execution_count": 138,
     "metadata": {},
     "output_type": "execute_result"
    }
   ],
   "source": [
    "# prices for specific hotel for the season of trip\n",
    "groupby_cols = ['prop_id', 'trip_start_date_quarter']\n",
    "feature_value_col = 'price_per_day'\n",
    "df = apply_composite_for_splits(df, split_cols=['train', 'val', 'test', 'subm'],\n",
    "                                groupby_cols=groupby_cols,\n",
    "                                feature_value_col=feature_value_col,\n",
    "                                agg_methods=[\"mean\", \"median\", \"max\"])\n",
    "\n",
    "df.shape"
   ]
  },
  {
   "cell_type": "code",
   "execution_count": 139,
   "id": "60d2515a",
   "metadata": {
    "ExecuteTime": {
     "end_time": "2022-05-28T14:01:38.823060Z",
     "start_time": "2022-05-28T13:59:51.115092Z"
    },
    "code_folding": []
   },
   "outputs": [
    {
     "name": "stdout",
     "output_type": "stream",
     "text": [
      "496892 groups when aggregation by ['prop_id', 'srch_room_count', 'trip_start_date_quarter']\n",
      "110288 groups when aggregation by ['prop_id', 'srch_room_count', 'trip_start_date_quarter']\n",
      "123742 groups when aggregation by ['prop_id', 'srch_room_count', 'trip_start_date_quarter']\n",
      "585170 groups when aggregation by ['prop_id', 'srch_room_count', 'trip_start_date_quarter']\n"
     ]
    },
    {
     "data": {
      "text/plain": [
       "(8526686, 274)"
      ]
     },
     "execution_count": 139,
     "metadata": {},
     "output_type": "execute_result"
    }
   ],
   "source": [
    "# prices for specific hotel with specific number of rooms for the season of trip\n",
    "groupby_cols = ['prop_id', 'srch_room_count','trip_start_date_quarter']\n",
    "feature_value_col = 'price_per_day'\n",
    "df = apply_composite_for_splits(df, split_cols=['train', 'val', 'test', 'subm'],\n",
    "                                groupby_cols=groupby_cols,\n",
    "                                feature_value_col=feature_value_col,\n",
    "                                agg_methods=[\"mean\", \"min\"])\n",
    "\n",
    "df.shape"
   ]
  },
  {
   "cell_type": "markdown",
   "id": "1fae2252",
   "metadata": {},
   "source": [
    "#### prop_starrating"
   ]
  },
  {
   "cell_type": "code",
   "execution_count": 140,
   "id": "c21cb432",
   "metadata": {
    "ExecuteTime": {
     "end_time": "2022-05-28T14:03:37.167856Z",
     "start_time": "2022-05-28T14:01:38.831371Z"
    }
   },
   "outputs": [
    {
     "name": "stdout",
     "output_type": "stream",
     "text": [
      "907 groups when aggregation by ['visitor_location_country_id', 'prop_starrating']\n",
      "456 groups when aggregation by ['visitor_location_country_id', 'prop_starrating']\n",
      "464 groups when aggregation by ['visitor_location_country_id', 'prop_starrating']\n",
      "943 groups when aggregation by ['visitor_location_country_id', 'prop_starrating']\n"
     ]
    },
    {
     "data": {
      "text/plain": [
       "(8526686, 283)"
      ]
     },
     "execution_count": 140,
     "metadata": {},
     "output_type": "execute_result"
    }
   ],
   "source": [
    "# prices for the location of user for the star rating of the hotel\n",
    "groupby_cols = ['visitor_location_country_id', 'prop_starrating']\n",
    "feature_value_col = 'price_per_day'\n",
    "df = apply_composite_for_splits(df, split_cols=['train', 'val', 'test', 'subm'],\n",
    "                                groupby_cols=groupby_cols,\n",
    "                                feature_value_col=feature_value_col,\n",
    "                                agg_methods=[\"mean\", \"median\", \"max\"])\n",
    "df.shape"
   ]
  },
  {
   "cell_type": "code",
   "execution_count": 141,
   "id": "515596ec",
   "metadata": {
    "ExecuteTime": {
     "end_time": "2022-05-28T14:05:56.170740Z",
     "start_time": "2022-05-28T14:03:37.173071Z"
    }
   },
   "outputs": [
    {
     "name": "stdout",
     "output_type": "stream",
     "text": [
      "154175 groups when aggregation by ['visitor_location_country_id', 'srch_destination_id', 'trip_start_date_quarter', 'prop_starrating']\n",
      "16805 groups when aggregation by ['visitor_location_country_id', 'srch_destination_id', 'trip_start_date_quarter', 'prop_starrating']\n",
      "19680 groups when aggregation by ['visitor_location_country_id', 'srch_destination_id', 'trip_start_date_quarter', 'prop_starrating']\n",
      "205853 groups when aggregation by ['visitor_location_country_id', 'srch_destination_id', 'trip_start_date_quarter', 'prop_starrating']\n"
     ]
    },
    {
     "data": {
      "text/plain": [
       "(8526686, 289)"
      ]
     },
     "execution_count": 141,
     "metadata": {},
     "output_type": "execute_result"
    }
   ],
   "source": [
    "# prices for the location of user for the search location for the star rating of the hotel for the season of trip\n",
    "groupby_cols = ['visitor_location_country_id', 'srch_destination_id', \n",
    "                'trip_start_date_quarter', 'prop_starrating']\n",
    "feature_value_col = 'price_per_day'\n",
    "df = apply_composite_for_splits(df, split_cols=['train', 'val', 'test', 'subm'],\n",
    "                                groupby_cols=groupby_cols,\n",
    "                                feature_value_col=feature_value_col,\n",
    "                                agg_methods=[\"median\", \"max\"])\n",
    "df.shape"
   ]
  },
  {
   "cell_type": "code",
   "execution_count": 142,
   "id": "cfe1f797",
   "metadata": {
    "ExecuteTime": {
     "end_time": "2022-05-28T14:08:26.361484Z",
     "start_time": "2022-05-28T14:05:56.176951Z"
    }
   },
   "outputs": [
    {
     "name": "stdout",
     "output_type": "stream",
     "text": [
      "101434 groups when aggregation by ['visitor_location_country_id', 'srch_destination_id', 'prop_starrating']\n",
      "13611 groups when aggregation by ['visitor_location_country_id', 'srch_destination_id', 'prop_starrating']\n",
      "15522 groups when aggregation by ['visitor_location_country_id', 'srch_destination_id', 'prop_starrating']\n",
      "131597 groups when aggregation by ['visitor_location_country_id', 'srch_destination_id', 'prop_starrating']\n"
     ]
    },
    {
     "data": {
      "text/plain": [
       "(8526686, 295)"
      ]
     },
     "execution_count": 142,
     "metadata": {},
     "output_type": "execute_result"
    }
   ],
   "source": [
    "# prices for the location of user for the search location for the star rating of the hotel\n",
    "groupby_cols = ['visitor_location_country_id', 'srch_destination_id', 'prop_starrating']\n",
    "feature_value_col = 'price_per_day'\n",
    "df = apply_composite_for_splits(df, split_cols=['train', 'val', 'test', 'subm'],\n",
    "                                groupby_cols=groupby_cols,\n",
    "                                feature_value_col=feature_value_col,\n",
    "                                agg_methods=[\"median\", \"max\"])\n",
    "df.shape"
   ]
  },
  {
   "cell_type": "code",
   "execution_count": 143,
   "id": "9b99bd8b",
   "metadata": {
    "ExecuteTime": {
     "end_time": "2022-05-28T14:11:14.427871Z",
     "start_time": "2022-05-28T14:08:26.367313Z"
    }
   },
   "outputs": [
    {
     "name": "stdout",
     "output_type": "stream",
     "text": [
      "48609 groups when aggregation by ['srch_destination_id', 'prop_starrating']\n",
      "10169 groups when aggregation by ['srch_destination_id', 'prop_starrating']\n",
      "11345 groups when aggregation by ['srch_destination_id', 'prop_starrating']\n",
      "56726 groups when aggregation by ['srch_destination_id', 'prop_starrating']\n"
     ]
    },
    {
     "data": {
      "text/plain": [
       "(8526686, 301)"
      ]
     },
     "execution_count": 143,
     "metadata": {},
     "output_type": "execute_result"
    }
   ],
   "source": [
    "# prices for the search location for the star rating of the hotel\n",
    "groupby_cols = ['srch_destination_id', 'prop_starrating']\n",
    "feature_value_col = 'price_per_day'\n",
    "df = apply_composite_for_splits(df, split_cols=['train', 'val', 'test', 'subm'],\n",
    "                                groupby_cols=groupby_cols,\n",
    "                                feature_value_col=feature_value_col,\n",
    "                                agg_methods=[\"min\", \"max\"])\n",
    "df.shape"
   ]
  },
  {
   "cell_type": "code",
   "execution_count": 144,
   "id": "9cd7d153",
   "metadata": {
    "ExecuteTime": {
     "end_time": "2022-05-28T14:14:19.401151Z",
     "start_time": "2022-05-28T14:11:14.435697Z"
    }
   },
   "outputs": [
    {
     "name": "stdout",
     "output_type": "stream",
     "text": [
      "92704 groups when aggregation by ['srch_destination_id', 'trip_start_date_quarter', 'prop_starrating']\n",
      "14226 groups when aggregation by ['srch_destination_id', 'trip_start_date_quarter', 'prop_starrating']\n",
      "16482 groups when aggregation by ['srch_destination_id', 'trip_start_date_quarter', 'prop_starrating']\n",
      "112590 groups when aggregation by ['srch_destination_id', 'trip_start_date_quarter', 'prop_starrating']\n"
     ]
    }
   ],
   "source": [
    "# prices for the search location for the star rating of the hotel for the season of trip\n",
    "groupby_cols = ['srch_destination_id', 'trip_start_date_quarter', 'prop_starrating']\n",
    "feature_value_col = 'price_per_day'\n",
    "df = apply_composite_for_splits(df, split_cols=['train', 'val', 'test', 'subm'],\n",
    "                                groupby_cols=groupby_cols,\n",
    "                                feature_value_col=feature_value_col,\n",
    "                                agg_methods=[\"mean\", \"median\", \"min\"])"
   ]
  },
  {
   "cell_type": "code",
   "execution_count": 145,
   "id": "0cf6e816",
   "metadata": {
    "ExecuteTime": {
     "end_time": "2022-05-28T14:17:37.146346Z",
     "start_time": "2022-05-28T14:14:19.413707Z"
    }
   },
   "outputs": [
    {
     "name": "stdout",
     "output_type": "stream",
     "text": [
      "62164 groups when aggregation by ['srch_destination_id', 'srch_room_count', 'prop_starrating']\n",
      "11306 groups when aggregation by ['srch_destination_id', 'srch_room_count', 'prop_starrating']\n",
      "12637 groups when aggregation by ['srch_destination_id', 'srch_room_count', 'prop_starrating']\n",
      "74771 groups when aggregation by ['srch_destination_id', 'srch_room_count', 'prop_starrating']\n"
     ]
    },
    {
     "data": {
      "text/plain": [
       "(8526686, 319)"
      ]
     },
     "execution_count": 145,
     "metadata": {},
     "output_type": "execute_result"
    }
   ],
   "source": [
    "groupby_cols = ['srch_destination_id', 'srch_room_count','prop_starrating']\n",
    "feature_value_col = 'price_per_day'\n",
    "df = apply_composite_for_splits(df, split_cols=['train', 'val', 'test', 'subm'],\n",
    "                                groupby_cols=groupby_cols,\n",
    "                                feature_value_col=feature_value_col,\n",
    "                                agg_methods=[\"mean\", \"min\", \"max\"])\n",
    "df.shape"
   ]
  },
  {
   "cell_type": "markdown",
   "id": "cb939a94",
   "metadata": {},
   "source": [
    "#### prop_review_score"
   ]
  },
  {
   "cell_type": "code",
   "execution_count": 146,
   "id": "28ae6e8b",
   "metadata": {
    "ExecuteTime": {
     "end_time": "2022-05-28T14:22:05.912820Z",
     "start_time": "2022-05-28T14:17:37.154021Z"
    }
   },
   "outputs": [
    {
     "name": "stdout",
     "output_type": "stream",
     "text": [
      "1758 groups when aggregation by ['visitor_location_country_id', 'prop_review_score']\n",
      "837 groups when aggregation by ['visitor_location_country_id', 'prop_review_score']\n",
      "866 groups when aggregation by ['visitor_location_country_id', 'prop_review_score']\n",
      "1833 groups when aggregation by ['visitor_location_country_id', 'prop_review_score']\n"
     ]
    },
    {
     "data": {
      "text/plain": [
       "(8526686, 325)"
      ]
     },
     "execution_count": 146,
     "metadata": {},
     "output_type": "execute_result"
    }
   ],
   "source": [
    "groupby_cols = ['visitor_location_country_id', 'prop_review_score']\n",
    "feature_value_col = 'price_per_day'\n",
    "df = apply_composite_for_splits(df, split_cols=['train', 'val', 'test', 'subm'],\n",
    "                                groupby_cols=groupby_cols,\n",
    "                                feature_value_col=feature_value_col,\n",
    "                                agg_methods=[\"mean\", \"median\"])\n",
    "df.shape"
   ]
  },
  {
   "cell_type": "code",
   "execution_count": 147,
   "id": "3a1835e2",
   "metadata": {
    "ExecuteTime": {
     "end_time": "2022-05-28T14:27:13.431830Z",
     "start_time": "2022-05-28T14:22:05.921695Z"
    }
   },
   "outputs": [
    {
     "name": "stdout",
     "output_type": "stream",
     "text": [
      "285973 groups when aggregation by ['visitor_location_country_id', 'srch_destination_id', 'trip_start_date_quarter', 'prop_review_score']\n",
      "30564 groups when aggregation by ['visitor_location_country_id', 'srch_destination_id', 'trip_start_date_quarter', 'prop_review_score']\n",
      "35626 groups when aggregation by ['visitor_location_country_id', 'srch_destination_id', 'trip_start_date_quarter', 'prop_review_score']\n",
      "382571 groups when aggregation by ['visitor_location_country_id', 'srch_destination_id', 'trip_start_date_quarter', 'prop_review_score']\n"
     ]
    }
   ],
   "source": [
    "groupby_cols = ['visitor_location_country_id', 'srch_destination_id', \n",
    "                'trip_start_date_quarter', 'prop_review_score']\n",
    "feature_value_col = 'price_per_day'\n",
    "df = apply_composite_for_splits(df, split_cols=['train', 'val', 'test', 'subm'],\n",
    "                                groupby_cols=groupby_cols,\n",
    "                                feature_value_col=feature_value_col,\n",
    "                                agg_methods=[\"median\", \"max\"])"
   ]
  },
  {
   "cell_type": "code",
   "execution_count": 148,
   "id": "96f17376",
   "metadata": {
    "ExecuteTime": {
     "end_time": "2022-05-28T14:32:35.912032Z",
     "start_time": "2022-05-28T14:27:13.443396Z"
    }
   },
   "outputs": [
    {
     "name": "stdout",
     "output_type": "stream",
     "text": [
      "187937 groups when aggregation by ['visitor_location_country_id', 'srch_destination_id', 'prop_review_score']\n",
      "25233 groups when aggregation by ['visitor_location_country_id', 'srch_destination_id', 'prop_review_score']\n",
      "28614 groups when aggregation by ['visitor_location_country_id', 'srch_destination_id', 'prop_review_score']\n",
      "244068 groups when aggregation by ['visitor_location_country_id', 'srch_destination_id', 'prop_review_score']\n"
     ]
    },
    {
     "data": {
      "text/plain": [
       "(8526686, 337)"
      ]
     },
     "execution_count": 148,
     "metadata": {},
     "output_type": "execute_result"
    }
   ],
   "source": [
    "groupby_cols = ['visitor_location_country_id', 'srch_destination_id', 'prop_review_score']\n",
    "feature_value_col = 'price_per_day'\n",
    "df = apply_composite_for_splits(df, split_cols=['train', 'val', 'test', 'subm'],\n",
    "                                groupby_cols=groupby_cols,\n",
    "                                feature_value_col=feature_value_col,\n",
    "                                agg_methods=[\"mean\", \"min\"])\n",
    "df.shape"
   ]
  },
  {
   "cell_type": "code",
   "execution_count": 149,
   "id": "a67a86a7",
   "metadata": {
    "ExecuteTime": {
     "end_time": "2022-05-28T14:32:36.262450Z",
     "start_time": "2022-05-28T14:32:35.918398Z"
    }
   },
   "outputs": [],
   "source": [
    "# \n",
    "\n",
    "# groupby_cols = ['srch_destination_id', 'prop_review_score']\n",
    "# feature_value_col = 'price_per_day'\n",
    "# df = apply_composite_for_splits(deepcopy(df), split_cols=['train', 'val', 'test', 'subm'],\n",
    "#                                 groupby_cols=groupby_cols,\n",
    "#                                 feature_value_col=feature_value_col,\n",
    "#                                 agg_methods=[\"mean\", \"median\", \"min\", \"max\"])\n",
    "# df.shape"
   ]
  },
  {
   "cell_type": "code",
   "execution_count": 150,
   "id": "d6a97299",
   "metadata": {
    "ExecuteTime": {
     "end_time": "2022-05-28T14:38:16.633640Z",
     "start_time": "2022-05-28T14:32:36.270359Z"
    }
   },
   "outputs": [
    {
     "name": "stdout",
     "output_type": "stream",
     "text": [
      "180416 groups when aggregation by ['srch_destination_id', 'trip_start_date_quarter', 'prop_review_score']\n",
      "26406 groups when aggregation by ['srch_destination_id', 'trip_start_date_quarter', 'prop_review_score']\n",
      "30592 groups when aggregation by ['srch_destination_id', 'trip_start_date_quarter', 'prop_review_score']\n",
      "220382 groups when aggregation by ['srch_destination_id', 'trip_start_date_quarter', 'prop_review_score']\n"
     ]
    }
   ],
   "source": [
    "groupby_cols = ['srch_destination_id', 'trip_start_date_quarter', 'prop_review_score']\n",
    "feature_value_col = 'price_per_day'\n",
    "df = apply_composite_for_splits(df, split_cols=['train', 'val', 'test', 'subm'],\n",
    "                                groupby_cols=groupby_cols,\n",
    "                                feature_value_col=feature_value_col,\n",
    "                                agg_methods=[\"mean\", \"median\", \"min\", \"max\"],\n",
    "                                relative_diff=False)"
   ]
  },
  {
   "cell_type": "code",
   "execution_count": 151,
   "id": "1c427a81",
   "metadata": {
    "ExecuteTime": {
     "end_time": "2022-05-28T14:44:17.740416Z",
     "start_time": "2022-05-28T14:38:16.644856Z"
    }
   },
   "outputs": [
    {
     "name": "stdout",
     "output_type": "stream",
     "text": [
      "119564 groups when aggregation by ['srch_destination_id', 'srch_room_count', 'prop_review_score']\n",
      "21431 groups when aggregation by ['srch_destination_id', 'srch_room_count', 'prop_review_score']\n",
      "23953 groups when aggregation by ['srch_destination_id', 'srch_room_count', 'prop_review_score']\n",
      "144251 groups when aggregation by ['srch_destination_id', 'srch_room_count', 'prop_review_score']\n"
     ]
    },
    {
     "data": {
      "text/plain": [
       "(8526686, 354)"
      ]
     },
     "execution_count": 151,
     "metadata": {},
     "output_type": "execute_result"
    }
   ],
   "source": [
    "groupby_cols = ['srch_destination_id', 'srch_room_count', 'prop_review_score']\n",
    "feature_value_col = 'price_per_day'\n",
    "df = apply_composite_for_splits(df, split_cols=['train', 'val', 'test', 'subm'],\n",
    "                                groupby_cols=groupby_cols,\n",
    "                                feature_value_col=feature_value_col,\n",
    "                                agg_methods=[\"mean\", \"min\", \"max\"])\n",
    "df.shape"
   ]
  },
  {
   "cell_type": "markdown",
   "id": "f97bc671",
   "metadata": {},
   "source": [
    "#### prop_location_score2 rounded"
   ]
  },
  {
   "cell_type": "code",
   "execution_count": 152,
   "id": "a0c482b6",
   "metadata": {
    "ExecuteTime": {
     "end_time": "2022-05-28T14:44:18.312002Z",
     "start_time": "2022-05-28T14:44:17.756352Z"
    }
   },
   "outputs": [
    {
     "name": "stderr",
     "output_type": "stream",
     "text": [
      "<ipython-input-152-bbe02a26d025>:1: PerformanceWarning: DataFrame is highly fragmented.  This is usually the result of calling `frame.insert` many times, which has poor performance.  Consider joining all columns at once using pd.concat(axis=1) instead.  To get a de-fragmented frame, use `newframe = frame.copy()`\n",
      "  df['prop_location_score2_round'] = df['prop_location_score2'].round(1)\n"
     ]
    }
   ],
   "source": [
    "df['prop_location_score2_round'] = df['prop_location_score2'].round(1)"
   ]
  },
  {
   "cell_type": "code",
   "execution_count": 153,
   "id": "81a65e93",
   "metadata": {
    "ExecuteTime": {
     "end_time": "2022-05-28T14:50:38.353646Z",
     "start_time": "2022-05-28T14:44:18.320276Z"
    }
   },
   "outputs": [
    {
     "name": "stdout",
     "output_type": "stream",
     "text": [
      "11 groups when aggregation by ['prop_location_score2_round']\n",
      "11 groups when aggregation by ['prop_location_score2_round']\n",
      "11 groups when aggregation by ['prop_location_score2_round']\n",
      "11 groups when aggregation by ['prop_location_score2_round']\n"
     ]
    },
    {
     "data": {
      "text/plain": [
       "(8526686, 367)"
      ]
     },
     "execution_count": 153,
     "metadata": {},
     "output_type": "execute_result"
    }
   ],
   "source": [
    "groupby_cols = ['prop_location_score2_round']\n",
    "feature_value_col = 'price_per_day'\n",
    "df = apply_composite_for_splits(deepcopy(df), split_cols=['train', 'val', 'test', 'subm'],\n",
    "                                groupby_cols=groupby_cols,\n",
    "                                feature_value_col=feature_value_col,\n",
    "                                agg_methods=[\"mean\", \"median\", \"min\", \"max\"])\n",
    "df.shape"
   ]
  },
  {
   "cell_type": "code",
   "execution_count": 154,
   "id": "8ec1a3c2",
   "metadata": {
    "ExecuteTime": {
     "end_time": "2022-05-28T14:54:58.388380Z",
     "start_time": "2022-05-28T14:50:38.365253Z"
    },
    "scrolled": true
   },
   "outputs": [
    {
     "name": "stdout",
     "output_type": "stream",
     "text": [
      "1463 groups when aggregation by ['visitor_location_country_id', 'prop_location_score2_round']\n",
      "632 groups when aggregation by ['visitor_location_country_id', 'prop_location_score2_round']\n",
      "646 groups when aggregation by ['visitor_location_country_id', 'prop_location_score2_round']\n",
      "1574 groups when aggregation by ['visitor_location_country_id', 'prop_location_score2_round']\n"
     ]
    },
    {
     "data": {
      "text/plain": [
       "(8526686, 379)"
      ]
     },
     "execution_count": 154,
     "metadata": {},
     "output_type": "execute_result"
    }
   ],
   "source": [
    "\n",
    "\n",
    "groupby_cols = ['visitor_location_country_id', 'prop_location_score2_round']\n",
    "feature_value_col = 'price_per_day'\n",
    "df = apply_composite_for_splits(df, split_cols=['train', 'val', 'test', 'subm'],\n",
    "                                groupby_cols=groupby_cols,\n",
    "                                feature_value_col=feature_value_col,\n",
    "                                agg_methods=[\"mean\", \"median\", \"min\", \"max\"])\n",
    "df.shape"
   ]
  },
  {
   "cell_type": "code",
   "execution_count": 155,
   "id": "16232a75",
   "metadata": {
    "ExecuteTime": {
     "end_time": "2022-05-28T15:01:00.773331Z",
     "start_time": "2022-05-28T14:54:58.399323Z"
    }
   },
   "outputs": [
    {
     "name": "stdout",
     "output_type": "stream",
     "text": [
      "151086 groups when aggregation by ['visitor_location_country_id', 'srch_destination_id', 'trip_start_date_quarter', 'prop_location_score2_round']\n",
      "17076 groups when aggregation by ['visitor_location_country_id', 'srch_destination_id', 'trip_start_date_quarter', 'prop_location_score2_round']\n",
      "20013 groups when aggregation by ['visitor_location_country_id', 'srch_destination_id', 'trip_start_date_quarter', 'prop_location_score2_round']\n",
      "197784 groups when aggregation by ['visitor_location_country_id', 'srch_destination_id', 'trip_start_date_quarter', 'prop_location_score2_round']\n"
     ]
    },
    {
     "data": {
      "text/plain": [
       "(8526686, 391)"
      ]
     },
     "execution_count": 155,
     "metadata": {},
     "output_type": "execute_result"
    }
   ],
   "source": [
    "groupby_cols = ['visitor_location_country_id', 'srch_destination_id', \n",
    "                'trip_start_date_quarter', 'prop_location_score2_round']\n",
    "feature_value_col = 'price_per_day'\n",
    "df = apply_composite_for_splits(deepcopy(df), split_cols=['train', 'val', 'test', 'subm'],\n",
    "                                groupby_cols=groupby_cols,\n",
    "                                feature_value_col=feature_value_col,\n",
    "                                agg_methods=[\"mean\", \"median\", \"min\", \"max\"])\n",
    "df.shape"
   ]
  },
  {
   "cell_type": "code",
   "execution_count": null,
   "id": "cb72fda9",
   "metadata": {
    "ExecuteTime": {
     "start_time": "2022-05-28T13:35:39.890Z"
    }
   },
   "outputs": [
    {
     "name": "stdout",
     "output_type": "stream",
     "text": [
      "95366 groups when aggregation by ['visitor_location_country_id', 'srch_destination_id', 'prop_location_score2_round']\n"
     ]
    }
   ],
   "source": [
    "groupby_cols = ['visitor_location_country_id', 'srch_destination_id', 'prop_location_score2_round']\n",
    "feature_value_col = 'price_per_day'\n",
    "df = apply_composite_for_splits(df, split_cols=['train', 'val', 'test', 'subm'],\n",
    "                                groupby_cols=groupby_cols,\n",
    "                                feature_value_col=feature_value_col,\n",
    "                                agg_methods=[\"mean\", \"median\", \"min\", \"max\"])\n",
    "df.shape"
   ]
  },
  {
   "cell_type": "code",
   "execution_count": null,
   "id": "5610474d",
   "metadata": {
    "ExecuteTime": {
     "start_time": "2022-05-28T13:35:39.894Z"
    }
   },
   "outputs": [],
   "source": [
    "groupby_cols = ['srch_destination_id', 'prop_location_score2_round']\n",
    "feature_value_col = 'price_per_day'\n",
    "df = apply_composite_for_splits(df, split_cols=['train', 'val', 'test', 'subm'],\n",
    "                                groupby_cols=groupby_cols,\n",
    "                                feature_value_col=feature_value_col,\n",
    "                                agg_methods=[\"mean\", \"median\", \"min\", \"max\"])"
   ]
  },
  {
   "cell_type": "code",
   "execution_count": null,
   "id": "3a7a0b29",
   "metadata": {
    "ExecuteTime": {
     "start_time": "2022-05-28T13:35:39.899Z"
    }
   },
   "outputs": [],
   "source": [
    "groupby_cols = ['srch_destination_id', 'trip_start_date_quarter', 'prop_location_score2_round']\n",
    "feature_value_col = 'price_per_day'\n",
    "df = apply_composite_for_splits(df, split_cols=['train', 'val', 'test', 'subm'],\n",
    "                                groupby_cols=groupby_cols,\n",
    "                                feature_value_col=feature_value_col,\n",
    "                                agg_methods=[\"mean\", \"median\", \"min\", \"max\"])"
   ]
  },
  {
   "cell_type": "code",
   "execution_count": null,
   "id": "0794578d",
   "metadata": {
    "ExecuteTime": {
     "start_time": "2022-05-28T13:35:39.903Z"
    }
   },
   "outputs": [],
   "source": [
    "groupby_cols = ['srch_destination_id', 'srch_room_count', 'prop_location_score2_round']\n",
    "feature_value_col = 'price_per_day'\n",
    "df = apply_composite_for_splits(df, split_cols=['train', 'val', 'test', 'subm'],\n",
    "                                groupby_cols=groupby_cols,\n",
    "                                feature_value_col=feature_value_col,\n",
    "                                agg_methods=[\"mean\", \"median\", \"min\", \"max\"])\n",
    "\n",
    "df.shape"
   ]
  },
  {
   "cell_type": "markdown",
   "id": "0af6c2aa",
   "metadata": {},
   "source": [
    "#### Time aggregations \n",
    "Based on season\\month \n",
    "\n",
    "To calc based on weekday\\day), make day_features=True in start day of trip feature calculation"
   ]
  },
  {
   "cell_type": "code",
   "execution_count": null,
   "id": "09c3ae8c",
   "metadata": {
    "ExecuteTime": {
     "start_time": "2022-05-28T13:35:40.199Z"
    },
    "scrolled": false
   },
   "outputs": [],
   "source": [
    "df.shape"
   ]
  },
  {
   "cell_type": "code",
   "execution_count": null,
   "id": "42f3edad",
   "metadata": {
    "ExecuteTime": {
     "start_time": "2022-05-28T13:35:40.204Z"
    }
   },
   "outputs": [],
   "source": [
    "# \n",
    "\n",
    "# groupby_cols = ['trip_start_date_month']\n",
    "# feature_value_col = 'price_per_day'\n",
    "# comparison_cols = ['visitor_hist_adr_usd', 'prop_historical_price']\n",
    "# df = apply_composite_for_splits(deepcopy(df), split_cols=['train', 'val', 'test', 'subm'],\n",
    "#                                 groupby_cols=groupby_cols,\n",
    "#                                 feature_value_col=feature_value_col,\n",
    "#                                 agg_methods=[\"mean\", \"median\", \"min\", \"max\", 'sum'],\n",
    "#                                 comparison_cols=comparison_cols)"
   ]
  },
  {
   "cell_type": "code",
   "execution_count": null,
   "id": "6a78b4f2",
   "metadata": {
    "ExecuteTime": {
     "start_time": "2022-05-28T13:35:40.214Z"
    }
   },
   "outputs": [],
   "source": [
    "gc.collect()"
   ]
  },
  {
   "cell_type": "code",
   "execution_count": null,
   "id": "6c6986b2",
   "metadata": {
    "ExecuteTime": {
     "start_time": "2022-05-28T13:35:40.252Z"
    }
   },
   "outputs": [],
   "source": [
    "groupby_cols = ['trip_start_date_month', 'prop_id']\n",
    "feature_value_col = 'price_per_day'\n",
    "comparison_cols = ['visitor_hist_adr_usd', 'prop_historical_price']\n",
    "df = apply_composite_for_splits(df, split_cols=['train', 'val', 'test', 'subm'],\n",
    "                                groupby_cols=groupby_cols,\n",
    "                                feature_value_col=feature_value_col,\n",
    "                                agg_methods=[\"mean\", \"median\", \"min\", \"max\", 'sum'],\n",
    "                                comparison_cols=comparison_cols)\n",
    "df.shape"
   ]
  },
  {
   "cell_type": "code",
   "execution_count": null,
   "id": "5c6fb34a",
   "metadata": {
    "ExecuteTime": {
     "start_time": "2022-05-28T13:35:40.296Z"
    },
    "scrolled": true
   },
   "outputs": [],
   "source": [
    "gc.collect()"
   ]
  },
  {
   "cell_type": "code",
   "execution_count": null,
   "id": "8c81c5bf",
   "metadata": {
    "ExecuteTime": {
     "start_time": "2022-05-28T13:35:40.308Z"
    }
   },
   "outputs": [],
   "source": [
    "# \n",
    "\n",
    "# groupby_cols = ['trip_start_date_month', 'srch_destination_id']\n",
    "# feature_value_col = 'price_per_day'\n",
    "# comparison_cols = ['visitor_hist_adr_usd', 'prop_historical_price']\n",
    "# df = apply_composite_for_splits(deepcopy(df), split_cols=['train', 'val', 'test', 'subm'],\n",
    "#                                 groupby_cols=groupby_cols,\n",
    "#                                 feature_value_col=feature_value_col,\n",
    "#                                 agg_methods=[\"mean\", \"median\", \"min\", \"max\", 'sum'],\n",
    "#                                 comparison_cols=comparison_cols)\n",
    "\n",
    "# df.shape"
   ]
  },
  {
   "cell_type": "code",
   "execution_count": null,
   "id": "e1348d51",
   "metadata": {
    "ExecuteTime": {
     "start_time": "2022-05-28T13:35:40.314Z"
    }
   },
   "outputs": [],
   "source": [
    "# \n",
    "\n",
    "# groupby_cols = ['trip_start_date_quarter']\n",
    "# feature_value_col = 'price_per_day'\n",
    "# comparison_cols = ['visitor_hist_adr_usd', 'prop_historical_price']\n",
    "# df = apply_composite_for_splits(deepcopy(df), split_cols=['train', 'val', 'test', 'subm'],\n",
    "#                                 groupby_cols=groupby_cols,\n",
    "#                                 feature_value_col=feature_value_col,\n",
    "#                                 agg_methods=[\"mean\", \"median\", \"min\", \"max\", 'sum'],\n",
    "#                                 comparison_cols=comparison_cols)\n",
    "# df.shape"
   ]
  },
  {
   "cell_type": "code",
   "execution_count": null,
   "id": "50c64a05",
   "metadata": {
    "ExecuteTime": {
     "start_time": "2022-05-28T13:35:40.320Z"
    }
   },
   "outputs": [],
   "source": [
    "df.memory_usage().sum() / 1024**2"
   ]
  },
  {
   "cell_type": "markdown",
   "id": "6de05d2a",
   "metadata": {},
   "source": [
    "## Calculate position per prop_id"
   ]
  },
  {
   "cell_type": "code",
   "execution_count": null,
   "id": "cdd10dd7",
   "metadata": {
    "ExecuteTime": {
     "start_time": "2022-05-28T13:35:40.650Z"
    },
    "code_folding": []
   },
   "outputs": [],
   "source": [
    "# groupby_cols = ['prop_id']\n",
    "# feature_value_col = 'position'\n",
    "# df = apply_composite_for_splits(deepcopy(df), split_cols=['train', 'val', 'test', 'subm'],\n",
    "#                                  groupby_cols=groupby_cols,\n",
    "#                                  feature_value_col=feature_value_col,\n",
    "#                                  agg_methods=[\"mean\", \"median\", \"min\", \"max\"])\n",
    "\n",
    "# groupby_cols = ['trip_start_date_week', 'prop_id']\n",
    "# feature_value_col = 'position'\n",
    "# df = apply_composite_for_splits(deepcopy(df), split_cols=['train', 'val', 'test', 'subm'],\n",
    "#                                  groupby_cols=groupby_cols,\n",
    "#                                  feature_value_col=feature_value_col,\n",
    "#                                  agg_methods=[\"mean\", \"median\", \"min\", \"max\"])\n",
    "\n",
    "# groupby_cols = ['trip_start_date_month', 'prop_id']\n",
    "# feature_value_col = 'position'\n",
    "# df = apply_composite_for_splits(deepcopy(df), split_cols=['train', 'val', 'test', 'subm'],\n",
    "#                                  groupby_cols=groupby_cols,\n",
    "#                                  feature_value_col=feature_value_col,\n",
    "#                                  agg_methods=[\"mean\", \"median\", \"min\", \"max\"])\n",
    "\n",
    "# groupby_cols = ['trip_start_date_quarter', 'prop_id']\n",
    "# feature_value_col = 'position'\n",
    "# df = apply_composite_for_splits(deepcopy(df), split_cols=['train', 'val', 'test', 'subm'],\n",
    "#                                  groupby_cols=groupby_cols,\n",
    "#                                  feature_value_col=feature_value_col,\n",
    "#                                  agg_methods=[\"mean\", \"median\", \"min\", \"max\"])"
   ]
  },
  {
   "cell_type": "markdown",
   "id": "4b093231",
   "metadata": {},
   "source": [
    "## Hotel position in previous and next search + avg of those"
   ]
  },
  {
   "cell_type": "code",
   "execution_count": null,
   "id": "c6dbf83b",
   "metadata": {
    "ExecuteTime": {
     "start_time": "2022-05-28T13:35:40.930Z"
    }
   },
   "outputs": [],
   "source": [
    "# #order df by prop_id and time of viewing the website\n",
    "# df.sort_values(['prop_id','date_time'], inplace=True)\n",
    "\n",
    "# #shift position to find previous and next position\n",
    "# #shift prop_id to find where the prop_id changes by shifting and setting the position to nan there\n",
    "# #i.e if the next row is for an other prop_id the position from that row cannot be used and is replaced with a nan\n",
    "# #shift by multiple lines in order to skip missing data\n",
    "# df['pos_next'] = df['position'].shift(-1)\n",
    "# df.loc[df['prop_id'] != df['prop_id'].shift(-1), 'pos_next'] = np.nan\n",
    "# df['pos_next2'] = df['position'].shift(-2)\n",
    "# df.loc[df['prop_id'] != df['prop_id'].shift(-2), 'pos_next2'] = np.nan\n",
    "# df['pos_next3'] = df['position'].shift(-3)\n",
    "# df.loc[df['prop_id'] != df['prop_id'].shift(-3), 'pos_next3'] = np.nan\n",
    "\n",
    "# df['pos_prev'] = df['position'].shift(1)\n",
    "# df.loc[df['prop_id'] != df['prop_id'].shift(1), 'pos_prev'] = np.nan\n",
    "# df['pos_prev2'] = df['position'].shift(2)\n",
    "# df.loc[df['prop_id'] != df['prop_id'].shift(2), 'pos_prev2'] = np.nan\n",
    "# df['pos_prev3'] = df['position'].shift(3)\n",
    "# df.loc[df['prop_id'] != df['prop_id'].shift(3), 'pos_prev3'] = np.nan\n",
    "\n",
    "\n",
    "# #fill missing pos_next and pos_prev from columns shifted by multiple rows\n",
    "# df.loc[df['pos_next'].isna(), 'pos_next'] = df[df['pos_next'].isna()]['pos_next2']\n",
    "# df.loc[df['pos_next'].isna(), 'pos_next'] = df[df['pos_next'].isna()]['pos_next3']\n",
    "# df.loc[df['pos_prev'].isna(), 'pos_prev'] = df[df['pos_prev'].isna()]['pos_prev2']\n",
    "# df.loc[df['pos_prev'].isna(), 'pos_prev'] = df[df['pos_prev'].isna()]['pos_prev3']\n",
    "# df['pos_mean2'] = (df['pos_next'] + df['pos_prev']) / 2\n",
    "\n",
    "# df.drop(['pos_next2', 'pos_next3', 'pos_prev2', 'pos_prev3'], axis=1, inplace=True)\n",
    "# df.sort_index(inplace=True)"
   ]
  },
  {
   "cell_type": "code",
   "execution_count": null,
   "id": "69dbd871",
   "metadata": {
    "ExecuteTime": {
     "start_time": "2022-05-28T13:35:40.934Z"
    }
   },
   "outputs": [],
   "source": [
    "df.head()"
   ]
  },
  {
   "cell_type": "markdown",
   "id": "31e63db8",
   "metadata": {},
   "source": [
    "# Data split"
   ]
  },
  {
   "cell_type": "code",
   "execution_count": null,
   "id": "9e494b04",
   "metadata": {
    "ExecuteTime": {
     "start_time": "2022-05-28T13:35:41.291Z"
    }
   },
   "outputs": [],
   "source": [
    "from features_dict import CAT_FEATURES, BOOL_COLS"
   ]
  },
  {
   "cell_type": "code",
   "execution_count": null,
   "id": "212e3659",
   "metadata": {
    "ExecuteTime": {
     "start_time": "2022-05-28T13:35:41.296Z"
    },
    "scrolled": true
   },
   "outputs": [],
   "source": [
    "# for c in CAT_FEATURES:\n",
    "#     if c in df.columns:\n",
    "#         df[c] = df[c].astype('category')\n",
    "        \n",
    "# for c in BOOL_COLS:\n",
    "#     if c in df.columns:\n",
    "#         df[c] = df[c].astype(bool)"
   ]
  },
  {
   "cell_type": "code",
   "execution_count": null,
   "id": "66d6f1e7",
   "metadata": {
    "ExecuteTime": {
     "start_time": "2022-05-28T13:35:41.300Z"
    },
    "scrolled": true
   },
   "outputs": [],
   "source": [
    "df = downcast(df)"
   ]
  },
  {
   "cell_type": "code",
   "execution_count": null,
   "id": "9f635136",
   "metadata": {
    "ExecuteTime": {
     "start_time": "2022-05-28T13:35:41.305Z"
    },
    "scrolled": true
   },
   "outputs": [],
   "source": [
    "df.memory_usage().sum() / 1024**2"
   ]
  },
  {
   "cell_type": "code",
   "execution_count": null,
   "id": "0fd9e2b3",
   "metadata": {
    "ExecuteTime": {
     "start_time": "2022-05-28T13:35:41.309Z"
    },
    "scrolled": true
   },
   "outputs": [],
   "source": [
    "dtps_upd = df.dtypes.apply(lambda x: x.name).to_dict()\n",
    "\n",
    "for k in dtps_upd:\n",
    "    if (k in dtps) and (dtps[k] != dtps_upd[k]):\n",
    "        print(f\"{k} was: {dtps[k]}, become {dtps_upd[k]}\")"
   ]
  },
  {
   "cell_type": "code",
   "execution_count": null,
   "id": "202631ba",
   "metadata": {
    "ExecuteTime": {
     "start_time": "2022-05-28T13:35:41.314Z"
    },
    "scrolled": true
   },
   "outputs": [],
   "source": [
    "df.shape"
   ]
  },
  {
   "cell_type": "code",
   "execution_count": null,
   "id": "81997c5a",
   "metadata": {
    "ExecuteTime": {
     "start_time": "2022-05-28T13:35:41.318Z"
    }
   },
   "outputs": [],
   "source": [
    "# no need for that if we don't do time-series split\n",
    "df.sort_values([group_col, time_col, 'prop_id'], inplace=True)"
   ]
  },
  {
   "cell_type": "code",
   "execution_count": null,
   "id": "32940510",
   "metadata": {
    "ExecuteTime": {
     "start_time": "2022-05-28T13:35:41.322Z"
    }
   },
   "outputs": [],
   "source": [
    "data_path += '_downsample_28_may'"
   ]
  },
  {
   "cell_type": "code",
   "execution_count": null,
   "id": "91a8bc44",
   "metadata": {
    "ExecuteTime": {
     "start_time": "2022-05-28T13:35:41.326Z"
    }
   },
   "outputs": [],
   "source": [
    "os.makedirs(data_path, exist_ok=True)\n",
    "df.to_pickle(os.path.join(data_path, 'full_df.pickle'))"
   ]
  },
  {
   "cell_type": "code",
   "execution_count": null,
   "id": "a9b659dc",
   "metadata": {
    "ExecuteTime": {
     "start_time": "2022-05-28T13:35:41.331Z"
    }
   },
   "outputs": [],
   "source": [
    "subm_df = deepcopy(df[df['subm'] == True])\n",
    "df = deepcopy(df[df['subm'] == False])\n",
    "\n",
    "subm_df.drop(['subm'] + ['train', 'test', 'val'] + drop_cols, axis=1, inplace=True)\n",
    "df.drop(['subm'], axis=1, inplace=True)\n",
    "\n",
    "df.shape, subm_df.shape"
   ]
  },
  {
   "cell_type": "code",
   "execution_count": null,
   "id": "867a0744",
   "metadata": {
    "ExecuteTime": {
     "start_time": "2022-05-28T13:35:41.335Z"
    },
    "scrolled": false
   },
   "outputs": [],
   "source": [
    "X = df.drop(drop_cols, axis=1)\n",
    "\n",
    "y = df[['booking_bool', 'click_bool']].parallel_apply(get_target, axis=1)"
   ]
  },
  {
   "cell_type": "code",
   "execution_count": null,
   "id": "5330f9aa",
   "metadata": {
    "ExecuteTime": {
     "start_time": "2022-05-28T13:35:41.339Z"
    },
    "scrolled": true
   },
   "outputs": [],
   "source": [
    "# split the data into separate dataframes\n",
    "# according to the paper https://arxiv.org/pdf/1311.7679v1.pdf\n",
    "\n",
    "X_test = X[X['test']].drop(['train', 'test', 'val'], axis=1)\n",
    "y_test = y.loc[X_test.index]\n",
    "\n",
    "X_val = X[X['val']].drop(['train', 'test', 'val'], axis=1)\n",
    "y_val = y.loc[X_val.index]\n",
    "\n",
    "X_train = X[~X.index.isin(X_test.index.union(X_val.index))].drop(['train', 'test', 'val'], axis=1)\n",
    "y_train = y.loc[X_train.index]\n",
    "\n",
    "# from sklearn.model_selection import GroupShuffleSplit\n",
    "\n",
    "# gss = GroupShuffleSplit(n_splits=1, train_size=.9, random_state=None)\n",
    "# train_val, test_idx = next(gss.split(X, y, groups=X[group_col]))\n",
    "# X_train_val = X.iloc[train_val, :]\n",
    "# y_train_val = y.iloc[train_val]\n",
    "# X_test = X.iloc[test_idx, :]\n",
    "# y_test = y.iloc[test_idx]\n",
    "\n",
    "# gss = GroupShuffleSplit(n_splits=1, train_size=.9, random_state=None)\n",
    "# train_idx, val_idx = next(gss.split(X_train_val, y_train_val, groups=X_train_val[group_col]))\n",
    "# X_train = X_train_val.iloc[train_idx, :]\n",
    "# y_train = y_train_val.iloc[train_idx]\n",
    "# X_val = X_train_val.iloc[val_idx, :]\n",
    "# y_val = y_train_val.iloc[val_idx]\n",
    "\n",
    "# X_train_val, X_test, y_train_val, y_test, groups_train_val, groups_test = GroupShuffleSplit(X, y, groups,\n",
    "#                                                                                                  group_array=groups,\n",
    "#                                                                                                  train_size=0.9)\n",
    "# # del X, y\n",
    "\n",
    "# X_train, X_val, y_train, y_val, groups_train, groups_val = train_test_group_split(X_train_val,\n",
    "#                                                                                   y_train_val,\n",
    "#                                                                                   groups_train_val,\n",
    "#                                                                                   group_array=groups_train_val,\n",
    "#                                                                                   train_size=0.9)"
   ]
  },
  {
   "cell_type": "code",
   "execution_count": null,
   "id": "6cab6d9b",
   "metadata": {
    "ExecuteTime": {
     "start_time": "2022-05-28T13:35:41.344Z"
    },
    "scrolled": false
   },
   "outputs": [],
   "source": [
    "X_train.shape, X_val.shape, X_test.shape, subm_df.shape"
   ]
  },
  {
   "cell_type": "code",
   "execution_count": null,
   "id": "4b5868af",
   "metadata": {
    "ExecuteTime": {
     "start_time": "2022-05-28T13:35:41.348Z"
    }
   },
   "outputs": [],
   "source": [
    "# make sure that this is empty\n",
    "assert set(X_train[group_col]).intersection(set(X_test[group_col])) == set()\n",
    "assert set(X_train[group_col]).intersection(set(X_val[group_col])) == set()\n",
    "\n",
    "\n",
    "assert X_train.shape[1] == X_val.shape[1]\n",
    "assert X_val.shape[1] == X_test.shape[1]\n",
    "assert X_test.shape[1] == subm_df.shape[1]"
   ]
  },
  {
   "cell_type": "markdown",
   "id": "a8eafb22",
   "metadata": {},
   "source": [
    "check that submission search ids are presented in both train, val, test"
   ]
  },
  {
   "cell_type": "code",
   "execution_count": null,
   "id": "6302d58d",
   "metadata": {
    "ExecuteTime": {
     "start_time": "2022-05-28T13:35:41.666Z"
    }
   },
   "outputs": [],
   "source": [
    "len(set(X_train[group_col]).intersection(set(subm_df[group_col])))/len(X_train)"
   ]
  },
  {
   "cell_type": "code",
   "execution_count": null,
   "id": "2de22536",
   "metadata": {
    "ExecuteTime": {
     "start_time": "2022-05-28T13:35:41.671Z"
    }
   },
   "outputs": [],
   "source": [
    "len(set(X_val[group_col]).intersection(set(subm_df[group_col])))/len(X_val)"
   ]
  },
  {
   "cell_type": "code",
   "execution_count": null,
   "id": "91eb9e1b",
   "metadata": {
    "ExecuteTime": {
     "start_time": "2022-05-28T13:35:41.675Z"
    }
   },
   "outputs": [],
   "source": [
    "len(set(X_test[group_col]).intersection(set(subm_df[group_col])))/len(X_test)"
   ]
  },
  {
   "cell_type": "code",
   "execution_count": null,
   "id": "d49df15d",
   "metadata": {
    "ExecuteTime": {
     "start_time": "2022-05-28T13:35:41.680Z"
    }
   },
   "outputs": [],
   "source": [
    "for df_hist, name in [(X_train, 'train'), (X_val, 'val'), (X_test, 'test'), (subm_df, 'subm')]:\n",
    "    plt.figure(figsize=(15, 1))\n",
    "    df_hist[group_col].hist(alpha=0.4, label=name, density=True, color='tab:blue')\n",
    "    plt.xlabel(group_col)\n",
    "    plt.legend()    "
   ]
  },
  {
   "cell_type": "code",
   "execution_count": null,
   "id": "5d07798b",
   "metadata": {
    "ExecuteTime": {
     "start_time": "2022-05-28T13:35:41.685Z"
    }
   },
   "outputs": [],
   "source": [
    "for df_hist, name in [(X_train, 'train'), (X_val, 'val'), (X_test, 'test'), (subm_df, 'subm')]:\n",
    "    plt.figure(figsize=(15, 1))\n",
    "    df_hist.groupby([group_col])['prop_id'].apply(len).hist(alpha=0.4, label=name, density=True, color='tab:blue')\n",
    "    plt.xlabel('props per srch')\n",
    "    plt.legend()    "
   ]
  },
  {
   "cell_type": "code",
   "execution_count": null,
   "id": "8e70fa57",
   "metadata": {
    "ExecuteTime": {
     "start_time": "2022-05-28T13:35:41.690Z"
    }
   },
   "outputs": [],
   "source": [
    "col = time_col\n",
    "for df_hist, name in [(X_train, 'train'), (X_val, 'val'), (X_test, 'test'), (subm_df, 'subm')]:\n",
    "    plt.figure(figsize=(15, 1))\n",
    "    df_hist[col].hist(alpha=0.4, label=name, density=True, color='tab:blue')\n",
    "    plt.xlabel(col)\n",
    "    plt.legend()    "
   ]
  },
  {
   "cell_type": "markdown",
   "id": "6964022a",
   "metadata": {},
   "source": [
    "# Correlations"
   ]
  },
  {
   "cell_type": "code",
   "execution_count": null,
   "id": "54b3e42c",
   "metadata": {
    "ExecuteTime": {
     "start_time": "2022-05-28T13:35:42.054Z"
    },
    "scrolled": true
   },
   "outputs": [],
   "source": [
    "profile = ProfileReport(X_train.sample(10000), title=\"Pandas Profiling Report\", minimal=True)"
   ]
  },
  {
   "cell_type": "code",
   "execution_count": null,
   "id": "b00cd62d",
   "metadata": {
    "ExecuteTime": {
     "start_time": "2022-05-28T13:35:42.059Z"
    },
    "scrolled": true
   },
   "outputs": [],
   "source": [
    "profile.to_notebook_iframe()"
   ]
  },
  {
   "cell_type": "code",
   "execution_count": null,
   "id": "eebc43e7",
   "metadata": {
    "ExecuteTime": {
     "start_time": "2022-05-28T13:35:42.063Z"
    },
    "scrolled": true
   },
   "outputs": [],
   "source": [
    "for c in subm_df.columns:\n",
    "    df_nans = df[c].isna().mean().round(4) * 100\n",
    "    subm_df_nans = subm_df[c].isna().mean().round(4) * 100\n",
    "    if df_nans == subm_df_nans == 0:\n",
    "        continue\n",
    "    print(f\"{round(df_nans, 2)} vs {round(subm_df_nans, 2)} | {c}\")\n",
    "    assert subm_df_nans != 100."
   ]
  },
  {
   "cell_type": "markdown",
   "id": "38c390a0",
   "metadata": {},
   "source": [
    "# Save tables"
   ]
  },
  {
   "cell_type": "code",
   "execution_count": null,
   "id": "6eff36f3",
   "metadata": {
    "ExecuteTime": {
     "start_time": "2022-05-28T13:35:42.382Z"
    },
    "scrolled": true
   },
   "outputs": [],
   "source": [
    "X_val.reset_index().to_feather(os.path.join(data_path, 'X_val.feather'))\n",
    "y_val.to_frame('target').reset_index().to_feather(os.path.join(data_path, 'y_val.feather'))\n",
    "# groups_val.reset_index().to_feather(os.path.join(data_path, 'groups_val.feather'))\n",
    "print('val is done')\n",
    "\n",
    "X_train.reset_index().to_feather(os.path.join(data_path, 'X_train.feather'))\n",
    "y_train.to_frame('target').reset_index().to_feather(os.path.join(data_path, 'y_train.feather'))\n",
    "# groups_train.reset_index().to_feather(os.path.join(data_path, 'groups_train.feather'))\n",
    "print('train is done')\n",
    "\n",
    "X_test.reset_index().to_feather(os.path.join(data_path, 'X_test.feather'))\n",
    "y_test.to_frame('target').reset_index().to_feather(os.path.join(data_path, 'y_test.feather'))\n",
    "# groups_test.reset_index().to_feather(os.path.join(data_path, 'groups_test.feather'))\n",
    "print('test is done')\n",
    "\n",
    "subm_df.reset_index().to_feather(os.path.join(data_path, 'submission_df_preprocessed.feather'))\n",
    "print('submission is done')"
   ]
  }
 ],
 "metadata": {
  "kernelspec": {
   "display_name": "Python 3",
   "language": "python",
   "name": "python3"
  },
  "language_info": {
   "codemirror_mode": {
    "name": "ipython",
    "version": 3
   },
   "file_extension": ".py",
   "mimetype": "text/x-python",
   "name": "python",
   "nbconvert_exporter": "python",
   "pygments_lexer": "ipython3",
   "version": "3.8.8"
  },
  "latex_envs": {
   "LaTeX_envs_menu_present": true,
   "autoclose": false,
   "autocomplete": true,
   "bibliofile": "biblio.bib",
   "cite_by": "apalike",
   "current_citInitial": 1,
   "eqLabelWithNumbers": true,
   "eqNumInitial": 1,
   "hotkeys": {
    "equation": "Ctrl-E",
    "itemize": "Ctrl-I"
   },
   "labels_anchors": false,
   "latex_user_defs": false,
   "report_style_numbering": false,
   "user_envs_cfg": false
  },
  "toc": {
   "base_numbering": 1,
   "nav_menu": {},
   "number_sections": true,
   "sideBar": true,
   "skip_h1_title": false,
   "title_cell": "Table of Contents",
   "title_sidebar": "Contents",
   "toc_cell": false,
   "toc_position": {
    "height": "calc(100% - 180px)",
    "left": "10px",
    "top": "150px",
    "width": "293px"
   },
   "toc_section_display": true,
   "toc_window_display": true
  }
 },
 "nbformat": 4,
 "nbformat_minor": 5
}
