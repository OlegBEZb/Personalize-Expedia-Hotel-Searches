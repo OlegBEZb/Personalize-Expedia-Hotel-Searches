{
 "cells": [
  {
   "cell_type": "code",
   "execution_count": 1,
   "id": "6f665cd8",
   "metadata": {},
   "outputs": [],
   "source": [
    "import pandas as pd\n",
    "import matplotlib.pyplot as plt\n",
    "import calendar\n",
    "from pandas_profiling import ProfileReport\n",
    "#import warnings; \n",
    "#warnings.simplefilter('ignore')\n",
    "import seaborn as sns\n",
    "import numpy as np\n",
    "\n",
    "%matplotlib inline\n",
    "plt.rcParams.update({'font.size': 16, 'figure.figsize': (16,6)})\n",
    "\n",
    "\n"
   ]
  },
  {
   "cell_type": "code",
   "execution_count": 2,
   "id": "5e32869f",
   "metadata": {},
   "outputs": [],
   "source": [
    "import random\n",
    "\n",
    "filename = 'data/training_set_VU_DM.csv'\n",
    "p = 1  # 1% of the lines\n",
    "# keep the header, then take only 1% of lines\n",
    "# if random from [0,1] interval is greater than 0.01 the row will be skipped\n",
    "df = pd.read_csv(\n",
    "         filename,\n",
    "         header=0, \n",
    "         skiprows=lambda i: i>0 and random.random() > p\n",
    ")\n",
    "\n",
    "#df = pd.read_csv(filename, nrows=1000)\n",
    "df['date_time'] = pd.to_datetime(df['date_time'])\n",
    "\n",
    "df_test = pd.read_csv('data/test_set_VU_DM.csv', header=0, skiprows=lambda i: i>0 and random.random() > p)\n",
    "df_test['date_time'] = pd.to_datetime(df_test['date_time'])"
   ]
  },
  {
   "cell_type": "code",
   "execution_count": 4,
   "id": "23f42eca",
   "metadata": {},
   "outputs": [
    {
     "data": {
      "text/plain": [
       "Index(['srch_id', 'date_time', 'site_id', 'visitor_location_country_id',\n",
       "       'visitor_hist_starrating', 'visitor_hist_adr_usd', 'prop_country_id',\n",
       "       'prop_id', 'prop_starrating', 'prop_review_score', 'prop_brand_bool',\n",
       "       'prop_location_score1', 'prop_location_score2',\n",
       "       'prop_log_historical_price', 'position', 'price_usd', 'promotion_flag',\n",
       "       'srch_destination_id', 'srch_length_of_stay', 'srch_booking_window',\n",
       "       'srch_adults_count', 'srch_children_count', 'srch_room_count',\n",
       "       'srch_saturday_night_bool', 'srch_query_affinity_score',\n",
       "       'orig_destination_distance', 'random_bool', 'comp1_rate', 'comp1_inv',\n",
       "       'comp1_rate_percent_diff', 'comp2_rate', 'comp2_inv',\n",
       "       'comp2_rate_percent_diff', 'comp3_rate', 'comp3_inv',\n",
       "       'comp3_rate_percent_diff', 'comp4_rate', 'comp4_inv',\n",
       "       'comp4_rate_percent_diff', 'comp5_rate', 'comp5_inv',\n",
       "       'comp5_rate_percent_diff', 'comp6_rate', 'comp6_inv',\n",
       "       'comp6_rate_percent_diff', 'comp7_rate', 'comp7_inv',\n",
       "       'comp7_rate_percent_diff', 'comp8_rate', 'comp8_inv',\n",
       "       'comp8_rate_percent_diff', 'click_bool', 'gross_bookings_usd',\n",
       "       'booking_bool'],\n",
       "      dtype='object')"
      ]
     },
     "execution_count": 4,
     "metadata": {},
     "output_type": "execute_result"
    }
   ],
   "source": [
    "df.columns"
   ]
  },
  {
   "cell_type": "markdown",
   "id": "e71e693f",
   "metadata": {},
   "source": [
    "### Average numeric features over:\n",
    "srch_id\\\n",
    "visitor_location_country_id\\\n",
    "prop_id\\\n",
    "srch_destination_id\\\n",
    "prop_starrating"
   ]
  },
  {
   "cell_type": "code",
   "execution_count": 4,
   "id": "8addffb9",
   "metadata": {},
   "outputs": [],
   "source": [
    "# add the average of these features over some column \n",
    "# for example: calc avg of these columns for every search_id\n",
    "numeric_features = ['visitor_hist_starrating', 'visitor_hist_adr_usd',\n",
    "       'prop_starrating', 'prop_review_score', 'prop_brand_bool',\n",
    "       'prop_location_score1', 'prop_location_score2',\n",
    "       'prop_log_historical_price', 'position', 'price_usd', 'promotion_flag',\n",
    "       'srch_destination_id', 'srch_length_of_stay', 'srch_booking_window',\n",
    "       'srch_adults_count', 'srch_children_count', 'srch_room_count',\n",
    "       'srch_saturday_night_bool', 'srch_query_affinity_score',\n",
    "       'orig_destination_distance', 'random_bool', 'click_bool', 'gross_bookings_usd',\n",
    "       'booking_bool']"
   ]
  },
  {
   "cell_type": "code",
   "execution_count": 5,
   "id": "24600970",
   "metadata": {},
   "outputs": [],
   "source": [
    "# groupy by these columns\n",
    "avg_over_columns = ['srch_id', 'visitor_location_country_id', 'prop_id', 'prop_starrating', 'srch_destination_id']\n",
    "df_groupbys = []\n",
    "\n",
    "# first create aggreagted all dataframes over specified columns, adjust column names\n",
    "for split_col in avg_over_columns:\n",
    "    df_groupby = df.groupby(split_col)[numeric_features].mean()\n",
    "\n",
    "    new_colnames = []\n",
    "    for i,col in enumerate(df_groupby.columns):\n",
    "        new_colnames.append('mean_' + col + '_over_' + split_col)\n",
    "    df_groupby.columns = new_colnames\n",
    "    df_groupbys.append(df_groupby)\n",
    "    \n",
    "# merge oridinal df with the aggregated dataframes\n",
    "for col, df_groupby in zip(avg_over_columns, df_groupbys):\n",
    "    df = pd.merge(df, df_groupby, right_index=True, left_on = col, how='left')"
   ]
  },
  {
   "cell_type": "code",
   "execution_count": null,
   "id": "f3baab7e",
   "metadata": {},
   "outputs": [],
   "source": []
  },
  {
   "cell_type": "code",
   "execution_count": null,
   "id": "3157e6fd",
   "metadata": {},
   "outputs": [],
   "source": [
    "#TODO\n",
    "#calculate diff between price_usd and gross_bookings_usd"
   ]
  }
 ],
 "metadata": {
  "kernelspec": {
   "display_name": "dm",
   "language": "python",
   "name": "dm"
  },
  "language_info": {
   "codemirror_mode": {
    "name": "ipython",
    "version": 3
   },
   "file_extension": ".py",
   "mimetype": "text/x-python",
   "name": "python",
   "nbconvert_exporter": "python",
   "pygments_lexer": "ipython3",
   "version": "3.8.10"
  }
 },
 "nbformat": 4,
 "nbformat_minor": 5
}
