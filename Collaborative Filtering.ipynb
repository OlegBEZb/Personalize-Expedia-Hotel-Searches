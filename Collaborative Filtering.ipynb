{
 "cells": [
  {
   "cell_type": "code",
   "execution_count": 1,
   "id": "7ec2fddf",
   "metadata": {},
   "outputs": [
    {
     "name": "stdout",
     "output_type": "stream",
     "text": [
      "Requirement already satisfied: scikit-surprise in /Users/nedim.azar/DM/Data_Mining_assignment_1/venv/lib/python3.8/site-packages (1.1.1)\n",
      "Requirement already satisfied: six>=1.10.0 in /Users/nedim.azar/DM/Data_Mining_assignment_1/venv/lib/python3.8/site-packages (from scikit-surprise) (1.16.0)\n",
      "Requirement already satisfied: numpy>=1.11.2 in /Users/nedim.azar/DM/Data_Mining_assignment_1/venv/lib/python3.8/site-packages (from scikit-surprise) (1.22.3)\n",
      "Requirement already satisfied: scipy>=1.0.0 in /Users/nedim.azar/DM/Data_Mining_assignment_1/venv/lib/python3.8/site-packages (from scikit-surprise) (1.8.0)\n",
      "Requirement already satisfied: joblib>=0.11 in /Users/nedim.azar/DM/Data_Mining_assignment_1/venv/lib/python3.8/site-packages (from scikit-surprise) (1.0.1)\n",
      "Note: you may need to restart the kernel to use updated packages.\n"
     ]
    }
   ],
   "source": [
    "%pip install scikit-surprise\n",
    "import numpy as np\n",
    "import pickle\n",
    "import pandas as pd\n",
    "from surprise import Dataset, Reader, KNNWithMeans\n",
    "pd.options.mode.chained_assignment = None  # default='warn'"
   ]
  },
  {
   "cell_type": "markdown",
   "id": "6a0fbd2e",
   "metadata": {},
   "source": [
    "### Creating Search-Property-Clicked formatted data for CF methods."
   ]
  },
  {
   "cell_type": "code",
   "execution_count": 2,
   "id": "c66f1bcd",
   "metadata": {},
   "outputs": [],
   "source": [
    "with open('data/X_train.pickle', 'rb') as data:\n",
    "    X_train = pickle.load(data)\n",
    "with open('data/Y_train.pickle', 'rb') as data:\n",
    "    Y_train = pickle.load(data)\n",
    "    \n",
    "with open('data/X_test.pickle', 'rb') as data:\n",
    "    X_test = pickle.load(data)\n",
    "with open('data/Y_test.pickle', 'rb') as data:\n",
    "    Y_test = pickle.load(data)\n",
    "    \n",
    "with open('data/X_val.pickle', 'rb') as data:\n",
    "    X_val = pickle.load(data)\n",
    "with open('data/Y_val.pickle', 'rb') as data:\n",
    "    Y_val = pickle.load(data)\n",
    "\n",
    "train = X_train[['srch_id', 'prop_id']]\n",
    "train['target'] = Y_train['target']\n",
    "\n",
    "test = X_test[['srch_id', 'prop_id']]\n",
    "test['target'] = Y_test['target']\n",
    "\n",
    "validate = X_val[['srch_id', 'prop_id']]\n",
    "validate['target'] = Y_val['target']\n",
    "\n"
   ]
  },
  {
   "cell_type": "code",
   "execution_count": 3,
   "id": "a871ee2e",
   "metadata": {},
   "outputs": [],
   "source": [
    "reader = Reader(rating_scale=(0, 5))\n",
    "data = Dataset.load_from_df(train[[\"srch_id\", \"prop_id\", \"target\"]], reader)"
   ]
  },
  {
   "cell_type": "code",
   "execution_count": 4,
   "id": "0af878fc",
   "metadata": {},
   "outputs": [],
   "source": [
    "# %time\n",
    "# # To use item-based cosine similarity\n",
    "# sim_options = {\n",
    "#     \"name\": \"cosine\",\n",
    "#     \"user_based\": False,  # Compute  similarities between items\n",
    "# }\n",
    "# algo = KNNWithMeans(sim_options=sim_options)\n",
    "\n",
    "# training_set = data.build_full_trainset()\n",
    "\n",
    "# algo.fit(training_set)"
   ]
  },
  {
   "cell_type": "code",
   "execution_count": 11,
   "id": "4f88bc3b",
   "metadata": {},
   "outputs": [
    {
     "data": {
      "text/html": [
       "<div>\n",
       "<style scoped>\n",
       "    .dataframe tbody tr th:only-of-type {\n",
       "        vertical-align: middle;\n",
       "    }\n",
       "\n",
       "    .dataframe tbody tr th {\n",
       "        vertical-align: top;\n",
       "    }\n",
       "\n",
       "    .dataframe thead th {\n",
       "        text-align: right;\n",
       "    }\n",
       "</style>\n",
       "<table border=\"1\" class=\"dataframe\">\n",
       "  <thead>\n",
       "    <tr style=\"text-align: right;\">\n",
       "      <th></th>\n",
       "      <th>srch_id</th>\n",
       "      <th>prop_id</th>\n",
       "      <th>target</th>\n",
       "    </tr>\n",
       "  </thead>\n",
       "  <tbody>\n",
       "    <tr>\n",
       "      <th>0</th>\n",
       "      <td>1</td>\n",
       "      <td>893</td>\n",
       "      <td>0</td>\n",
       "    </tr>\n",
       "    <tr>\n",
       "      <th>1</th>\n",
       "      <td>1</td>\n",
       "      <td>10404</td>\n",
       "      <td>0</td>\n",
       "    </tr>\n",
       "    <tr>\n",
       "      <th>2</th>\n",
       "      <td>1</td>\n",
       "      <td>21315</td>\n",
       "      <td>0</td>\n",
       "    </tr>\n",
       "    <tr>\n",
       "      <th>3</th>\n",
       "      <td>1</td>\n",
       "      <td>27348</td>\n",
       "      <td>0</td>\n",
       "    </tr>\n",
       "    <tr>\n",
       "      <th>4</th>\n",
       "      <td>1</td>\n",
       "      <td>29604</td>\n",
       "      <td>0</td>\n",
       "    </tr>\n",
       "    <tr>\n",
       "      <th>...</th>\n",
       "      <td>...</td>\n",
       "      <td>...</td>\n",
       "      <td>...</td>\n",
       "    </tr>\n",
       "    <tr>\n",
       "      <th>4958284</th>\n",
       "      <td>332781</td>\n",
       "      <td>101770</td>\n",
       "      <td>0</td>\n",
       "    </tr>\n",
       "    <tr>\n",
       "      <th>4958285</th>\n",
       "      <td>332781</td>\n",
       "      <td>115831</td>\n",
       "      <td>0</td>\n",
       "    </tr>\n",
       "    <tr>\n",
       "      <th>4958286</th>\n",
       "      <td>332781</td>\n",
       "      <td>120379</td>\n",
       "      <td>0</td>\n",
       "    </tr>\n",
       "    <tr>\n",
       "      <th>4958287</th>\n",
       "      <td>332781</td>\n",
       "      <td>132031</td>\n",
       "      <td>0</td>\n",
       "    </tr>\n",
       "    <tr>\n",
       "      <th>4958288</th>\n",
       "      <td>332781</td>\n",
       "      <td>133044</td>\n",
       "      <td>0</td>\n",
       "    </tr>\n",
       "  </tbody>\n",
       "</table>\n",
       "<p>496664 rows × 3 columns</p>\n",
       "</div>"
      ],
      "text/plain": [
       "         srch_id  prop_id  target\n",
       "0              1      893       0\n",
       "1              1    10404       0\n",
       "2              1    21315       0\n",
       "3              1    27348       0\n",
       "4              1    29604       0\n",
       "...          ...      ...     ...\n",
       "4958284   332781   101770       0\n",
       "4958285   332781   115831       0\n",
       "4958286   332781   120379       0\n",
       "4958287   332781   132031       0\n",
       "4958288   332781   133044       0\n",
       "\n",
       "[496664 rows x 3 columns]"
      ]
     },
     "execution_count": 11,
     "metadata": {},
     "output_type": "execute_result"
    }
   ],
   "source": [
    "validate"
   ]
  }
 ],
 "metadata": {
  "kernelspec": {
   "display_name": "venv",
   "language": "python",
   "name": "venv"
  },
  "language_info": {
   "codemirror_mode": {
    "name": "ipython",
    "version": 3
   },
   "file_extension": ".py",
   "mimetype": "text/x-python",
   "name": "python",
   "nbconvert_exporter": "python",
   "pygments_lexer": "ipython3",
   "version": "3.8.9"
  }
 },
 "nbformat": 4,
 "nbformat_minor": 5
}
