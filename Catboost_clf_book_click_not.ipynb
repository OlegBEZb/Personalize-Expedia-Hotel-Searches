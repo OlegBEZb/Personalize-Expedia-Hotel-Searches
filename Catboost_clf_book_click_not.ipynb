{
 "cells": [
  {
   "cell_type": "code",
   "execution_count": 1,
   "id": "ce532ad4",
   "metadata": {},
   "outputs": [],
   "source": [
    "# !pip install catboost"
   ]
  },
  {
   "cell_type": "code",
   "execution_count": 2,
   "id": "1bf6e733",
   "metadata": {},
   "outputs": [],
   "source": [
    "from catboost import CatBoostClassifier, Pool, MetricVisualizer, cv\n",
    "\n",
    "import pandas as pd\n",
    "import numpy as np"
   ]
  },
  {
   "cell_type": "markdown",
   "id": "0bebc8da",
   "metadata": {},
   "source": [
    "# Read data"
   ]
  },
  {
   "cell_type": "code",
   "execution_count": 3,
   "id": "1d71fbb4",
   "metadata": {
    "scrolled": true
   },
   "outputs": [
    {
     "data": {
      "text/plain": [
       "(4958347, 54)"
      ]
     },
     "execution_count": 3,
     "metadata": {},
     "output_type": "execute_result"
    }
   ],
   "source": [
    "USE_FULL = True\n",
    "\n",
    "filename = 'data/training_set_VU_DM.csv'\n",
    "\n",
    "if USE_FULL:\n",
    "    df = pd.read_csv(filename)\n",
    "else:\n",
    "    import random\n",
    "    p = 0.1\n",
    "    df = pd.read_csv(filename,\n",
    "                     header=0,\n",
    "                     skiprows=lambda i: i > 0 and random.random() > p)\n",
    "\n",
    "df['date_time'] = pd.to_datetime(df['date_time'])\n",
    "df.shape"
   ]
  },
  {
   "cell_type": "markdown",
   "id": "23afc417",
   "metadata": {},
   "source": [
    "# Simple preproc + split"
   ]
  },
  {
   "cell_type": "code",
   "execution_count": 4,
   "id": "071c0731",
   "metadata": {
    "scrolled": true
   },
   "outputs": [],
   "source": [
    "CAT_FEATURES = ['site_id',\n",
    "            'visitor_location_country_id',\n",
    "            'prop_country_id',\n",
    "            'prop_id',\n",
    "            'srch_destination_id']\n",
    "\n",
    "bool_cols = ['prop_brand_bool',\n",
    "             'promotion_flag',\n",
    "             'srch_saturday_night_bool',\n",
    "             'random_bool']\n",
    "\n",
    "group_col = 'srch_id'\n",
    "\n",
    "\n",
    "def get_target(row):\n",
    "    \"\"\"\n",
    "    0=not clicked at all, 1=clicked but not booked, 5=booked\n",
    "    \"\"\"\n",
    "    if row.booking_bool>0:\n",
    "        return 5\n",
    "    if row.click_bool>0 :\n",
    "        return 1\n",
    "    return 0\n",
    "\n",
    "clf_target = 'target'\n",
    "df[clf_target] = df.apply(get_target, axis=1)"
   ]
  },
  {
   "cell_type": "code",
   "execution_count": 5,
   "id": "25ab4126",
   "metadata": {
    "scrolled": true
   },
   "outputs": [],
   "source": [
    "from utils import train_test_group_split\n",
    "\n",
    "df.sort_values([group_col, 'date_time'], inplace=True)\n",
    "# .drop(['position', 'click_bool', 'gross_bookings_usd', 'booking_bool'], axis=1)\n",
    "X = df\n",
    "y = df[clf_target]\n",
    "groups = X[group_col]\n",
    "\n",
    "\n",
    "X_train, X_test, y_train, y_test, groups_train, groups_test = train_test_group_split(X, y, groups,\n",
    "                                                                                     group_array=groups,\n",
    "                                                                                     train_size=0.9)\n",
    "\n",
    "X_train, X_val, y_train, y_val, groups_train, groups_val = train_test_group_split(X_train, y_train,\n",
    "                                                                                  groups_train,\n",
    "                                                                                  group_array=groups_train,\n",
    "                                                                                  train_size=0.9)\n",
    "\n",
    "# from sklearn.model_selection import GroupShuffleSplit  # ignores time\n",
    "# gss = GroupShuffleSplit(n_splits=2, train_size=.7, random_state=42)\n",
    "# >>> gss.get_n_splits()\n",
    "# 2\n",
    "# >>> for train_idx, test_idx in gss.split(X, y, groups):\n",
    "# ...     print(\"TRAIN:\", train_idx, \"TEST:\", test_idx)"
   ]
  },
  {
   "cell_type": "code",
   "execution_count": 6,
   "id": "1d71e74e",
   "metadata": {},
   "outputs": [
    {
     "data": {
      "text/plain": [
       "((4016231, 55), (446260, 55), (495856, 55))"
      ]
     },
     "execution_count": 6,
     "metadata": {},
     "output_type": "execute_result"
    }
   ],
   "source": [
    "X_train.shape, X_val.shape, X_test.shape"
   ]
  },
  {
   "cell_type": "code",
   "execution_count": 7,
   "id": "ae150276",
   "metadata": {
    "scrolled": true
   },
   "outputs": [
    {
     "data": {
      "text/plain": [
       "set()"
      ]
     },
     "execution_count": 7,
     "metadata": {},
     "output_type": "execute_result"
    }
   ],
   "source": [
    "set(X_train[group_col]).intersection(set(X_test[group_col]))"
   ]
  },
  {
   "cell_type": "code",
   "execution_count": 8,
   "id": "3386bb2b",
   "metadata": {
    "scrolled": true
   },
   "outputs": [],
   "source": [
    "drop_cols = ['position', 'click_bool',\n",
    "             'gross_bookings_usd', 'booking_bool', clf_target]\n",
    "\n",
    "train_pool = Pool(data=X_train.drop(drop_cols, axis=1),\n",
    "                  label=y_train,\n",
    "                  group_id=groups_train,\n",
    "                  cat_features=CAT_FEATURES,\n",
    "                  )\n",
    "\n",
    "val_pool = Pool(data=X_val.drop(drop_cols, axis=1),\n",
    "                label=y_val,\n",
    "                group_id=groups_val,\n",
    "                cat_features=CAT_FEATURES,\n",
    "                )\n",
    "\n",
    "test_pool = Pool(\n",
    "    data=X_test.drop(drop_cols, axis=1),\n",
    "    label=y_test,\n",
    "    group_id=groups_test,\n",
    "    cat_features=CAT_FEATURES,\n",
    ")"
   ]
  },
  {
   "cell_type": "markdown",
   "id": "ebec2bf0",
   "metadata": {},
   "source": [
    "# Fit final model"
   ]
  },
  {
   "cell_type": "code",
   "execution_count": 9,
   "id": "a34b60b6",
   "metadata": {},
   "outputs": [],
   "source": [
    "params = {\n",
    "    \"iterations\": 100,\n",
    "    #           'loss_function': 'NDCG:top=5',\n",
    "    'loss_function': 'MultiClass',\n",
    "    'custom_metric': ['AUC'],\n",
    "    \"verbose\": False,\n",
    "    'early_stopping_rounds': 10,\n",
    "    #     'logging_level': 'Silent',\n",
    "    'task_type': \"CPU\",\n",
    "#     'auto_class_weights': 'Balanced',\n",
    "    \"use_best_model\": True\n",
    "}"
   ]
  },
  {
   "cell_type": "code",
   "execution_count": 10,
   "id": "4d97e9e4",
   "metadata": {
    "scrolled": true
   },
   "outputs": [
    {
     "data": {
      "text/plain": [
       "['site_id',\n",
       " 'visitor_location_country_id',\n",
       " 'prop_country_id',\n",
       " 'prop_id',\n",
       " 'srch_destination_id']"
      ]
     },
     "execution_count": 10,
     "metadata": {},
     "output_type": "execute_result"
    }
   ],
   "source": [
    "CAT_FEATURES"
   ]
  },
  {
   "cell_type": "code",
   "execution_count": 11,
   "id": "bb6c6eac",
   "metadata": {
    "scrolled": false
   },
   "outputs": [
    {
     "data": {
      "application/vnd.jupyter.widget-view+json": {
       "model_id": "2e8dbaee8df14085bf38c2c38ad97855",
       "version_major": 2,
       "version_minor": 0
      },
      "text/plain": [
       "MetricVisualizer(layout=Layout(align_self='stretch', height='500px'))"
      ]
     },
     "metadata": {},
     "output_type": "display_data"
    },
    {
     "data": {
      "text/plain": [
       "<catboost.core.CatBoostClassifier at 0x7f9118dc3af0>"
      ]
     },
     "execution_count": 11,
     "metadata": {},
     "output_type": "execute_result"
    }
   ],
   "source": [
    "model = CatBoostClassifier(**params)\n",
    "model.fit(train_pool, eval_set=val_pool, plot=True)"
   ]
  },
  {
   "cell_type": "markdown",
   "id": "be97223d",
   "metadata": {},
   "source": [
    "# Eval on test"
   ]
  },
  {
   "cell_type": "code",
   "execution_count": 12,
   "id": "c3fc968d",
   "metadata": {},
   "outputs": [],
   "source": [
    "test_preds = np.float32(np.squeeze(model.predict(test_pool)))\n",
    "test_preds[test_preds == 0.] = 0.01  # to make them orderable\n",
    "test_pred_probs = model.predict_proba(test_pool)"
   ]
  },
  {
   "cell_type": "code",
   "execution_count": 13,
   "id": "8b5ad9a5",
   "metadata": {
    "scrolled": true
   },
   "outputs": [
    {
     "data": {
      "text/plain": [
       "0    0.955286\n",
       "5    0.027861\n",
       "1    0.016853\n",
       "Name: target, dtype: float64"
      ]
     },
     "execution_count": 13,
     "metadata": {},
     "output_type": "execute_result"
    }
   ],
   "source": [
    "X_train[clf_target].value_counts(normalize=True)"
   ]
  },
  {
   "cell_type": "code",
   "execution_count": 14,
   "id": "dad0a9c5",
   "metadata": {
    "scrolled": false
   },
   "outputs": [
    {
     "data": {
      "text/plain": [
       "0.01    0.99972\n",
       "5.00    0.00027\n",
       "1.00    0.00001\n",
       "dtype: float64"
      ]
     },
     "execution_count": 14,
     "metadata": {},
     "output_type": "execute_result"
    }
   ],
   "source": [
    "pd.Series(np.squeeze(test_preds)).value_counts(normalize=True)"
   ]
  },
  {
   "cell_type": "code",
   "execution_count": 15,
   "id": "c5c0aa4e",
   "metadata": {},
   "outputs": [],
   "source": [
    "test_preds_weighted = np.max(test_pred_probs, axis=1) * np.squeeze(test_preds)"
   ]
  },
  {
   "cell_type": "code",
   "execution_count": 16,
   "id": "6753a8a8",
   "metadata": {
    "scrolled": false
   },
   "outputs": [
    {
     "data": {
      "text/plain": [
       "array([0, 1, 5])"
      ]
     },
     "execution_count": 16,
     "metadata": {},
     "output_type": "execute_result"
    }
   ],
   "source": [
    "model.classes_"
   ]
  },
  {
   "cell_type": "code",
   "execution_count": 17,
   "id": "517dd87f",
   "metadata": {
    "scrolled": true
   },
   "outputs": [
    {
     "data": {
      "text/html": [
       "<div>\n",
       "<style scoped>\n",
       "    .dataframe tbody tr th:only-of-type {\n",
       "        vertical-align: middle;\n",
       "    }\n",
       "\n",
       "    .dataframe tbody tr th {\n",
       "        vertical-align: top;\n",
       "    }\n",
       "\n",
       "    .dataframe thead th {\n",
       "        text-align: right;\n",
       "    }\n",
       "</style>\n",
       "<table border=\"1\" class=\"dataframe\">\n",
       "  <thead>\n",
       "    <tr style=\"text-align: right;\">\n",
       "      <th></th>\n",
       "      <th>srch_id</th>\n",
       "      <th>prop_id</th>\n",
       "      <th>target_pred</th>\n",
       "      <th>target_gt</th>\n",
       "    </tr>\n",
       "  </thead>\n",
       "  <tbody>\n",
       "    <tr>\n",
       "      <th>4462495</th>\n",
       "      <td>299424</td>\n",
       "      <td>19005</td>\n",
       "      <td>0.010525</td>\n",
       "      <td>0</td>\n",
       "    </tr>\n",
       "    <tr>\n",
       "      <th>4462515</th>\n",
       "      <td>299424</td>\n",
       "      <td>109781</td>\n",
       "      <td>0.010401</td>\n",
       "      <td>0</td>\n",
       "    </tr>\n",
       "    <tr>\n",
       "      <th>4462494</th>\n",
       "      <td>299424</td>\n",
       "      <td>18873</td>\n",
       "      <td>0.008357</td>\n",
       "      <td>0</td>\n",
       "    </tr>\n",
       "    <tr>\n",
       "      <th>4462506</th>\n",
       "      <td>299424</td>\n",
       "      <td>59976</td>\n",
       "      <td>0.008135</td>\n",
       "      <td>5</td>\n",
       "    </tr>\n",
       "    <tr>\n",
       "      <th>4462508</th>\n",
       "      <td>299424</td>\n",
       "      <td>67489</td>\n",
       "      <td>0.007943</td>\n",
       "      <td>0</td>\n",
       "    </tr>\n",
       "  </tbody>\n",
       "</table>\n",
       "</div>"
      ],
      "text/plain": [
       "         srch_id  prop_id  target_pred  target_gt\n",
       "4462495   299424    19005     0.010525          0\n",
       "4462515   299424   109781     0.010401          0\n",
       "4462494   299424    18873     0.008357          0\n",
       "4462506   299424    59976     0.008135          5\n",
       "4462508   299424    67489     0.007943          0"
      ]
     },
     "execution_count": 17,
     "metadata": {},
     "output_type": "execute_result"
    }
   ],
   "source": [
    "test_preds = model.predict_proba(test_pool)[:,1]\n",
    "\n",
    "test_results_df = pd.DataFrame({group_col: groups_test,\n",
    "                        'prop_id': X_test['prop_id'],\n",
    "                        clf_target+'_pred': test_preds,\n",
    "                        clf_target+'_gt': y_test,\n",
    "                         })\n",
    "test_results_df.sort_values(by=[group_col, clf_target+'_pred'],\n",
    "                            ascending=[True, False], inplace=True)\n",
    "\n",
    "test_results_df.head()"
   ]
  },
  {
   "cell_type": "code",
   "execution_count": 18,
   "id": "158e72f6",
   "metadata": {
    "scrolled": true
   },
   "outputs": [
    {
     "name": "stdout",
     "output_type": "stream",
     "text": [
      "NDCG which is used for competition evaluation\n"
     ]
    },
    {
     "data": {
      "text/plain": [
       "0.3548803135505235"
      ]
     },
     "execution_count": 18,
     "metadata": {},
     "output_type": "execute_result"
    }
   ],
   "source": [
    "from metrics import ndcg\n",
    "\n",
    "print('NDCG which is used for competition evaluation')\n",
    "test_results_df.groupby('srch_id')[clf_target+'_gt'].apply(ndcg, at=5).mean()"
   ]
  },
  {
   "cell_type": "code",
   "execution_count": 22,
   "id": "7292a74f",
   "metadata": {
    "scrolled": true
   },
   "outputs": [
    {
     "data": {
      "image/png": "[encoded data removed]",
      "text/plain": [
       "<Figure size 504x900 with 1 Axes>"
      ]
     },
     "metadata": {
      "needs_background": "light"
     },
     "output_type": "display_data"
    },
    {
     "data": {
      "image/png": "[encoded data removed]",
      "text/plain": [
       "<Figure size 504x900 with 1 Axes>"
      ]
     },
     "metadata": {
      "needs_background": "light"
     },
     "output_type": "display_data"
    }
   ],
   "source": [
    "import matplotlib.pyplot as plt\n",
    "\n",
    "for method in ['LossFunctionChange', 'PredictionValuesChange']:\n",
    "    fi = model.get_feature_importance(test_pool, type=method)\n",
    "    feature_score_raw = pd.DataFrame(list(zip(X_test.columns, fi)),\n",
    "                                     columns=['Feature', 'Score'])\n",
    "\n",
    "    feature_score = feature_score_raw.sort_values(\n",
    "        by='Score', ascending=False)\n",
    "\n",
    "    plt.rcParams[\"figure.figsize\"] = (7, len(feature_score) / 4)\n",
    "    ax = feature_score.plot('Feature', 'Score', kind='barh', color='c')\n",
    "    ax.set_title(\"Feature Importance using {}\".format(method), fontsize=14)\n",
    "    ax.set_xlabel(\"features\")\n",
    "    ax.invert_yaxis()\n",
    "    plt.show()"
   ]
  },
  {
   "cell_type": "markdown",
   "id": "b7ee9100",
   "metadata": {},
   "source": [
    "# Make preds"
   ]
  },
  {
   "cell_type": "code",
   "execution_count": 19,
   "id": "676ae149",
   "metadata": {
    "scrolled": true
   },
   "outputs": [],
   "source": [
    "# # subm_df = pd.read_csv('data/test_set_VU_DM.csv')\n",
    "# subm_df['date_time'] = pd.to_datetime(subm_df['date_time'])\n",
    "\n",
    "# subm_pool = Pool(\n",
    "#     data=subm_df,\n",
    "#     group_id=subm_df[group_col],\n",
    "#     cat_features=CAT_FEATURES,\n",
    "# )"
   ]
  },
  {
   "cell_type": "code",
   "execution_count": 20,
   "id": "5c4700ed",
   "metadata": {},
   "outputs": [],
   "source": [
    "# pred = model.predict(subm_pool)\n",
    "\n",
    "# output_df = pd.DataFrame({group_col: subm_df[group_col],\n",
    "#                         'prop_id': subm_df['prop_id'],\n",
    "#                         clf_target: pred,\n",
    "# #                         'gt': y_test\n",
    "#                          })\n",
    "\n",
    "# output_df.sort_values([group_col, 'position'], inplace=True)\n",
    "# output_df[[group_col, 'prop_id']].to_csv('sumbission.csv', index=False)\n",
    "# output_df.head(10)"
   ]
  },
  {
   "cell_type": "code",
   "execution_count": 21,
   "id": "79fec51f",
   "metadata": {},
   "outputs": [],
   "source": [
    "# pd.read_csv('sumbission.csv', nrows=10)"
   ]
  }
 ],
 "metadata": {
  "kernelspec": {
   "display_name": "Python 3",
   "language": "python",
   "name": "python3"
  },
  "language_info": {
   "codemirror_mode": {
    "name": "ipython",
    "version": 3
   },
   "file_extension": ".py",
   "mimetype": "text/x-python",
   "name": "python",
   "nbconvert_exporter": "python",
   "pygments_lexer": "ipython3",
   "version": "3.8.8"
  },
  "latex_envs": {
   "LaTeX_envs_menu_present": true,
   "autoclose": false,
   "autocomplete": true,
   "bibliofile": "biblio.bib",
   "cite_by": "apalike",
   "current_citInitial": 1,
   "eqLabelWithNumbers": true,
   "eqNumInitial": 1,
   "hotkeys": {
    "equation": "Ctrl-E",
    "itemize": "Ctrl-I"
   },
   "labels_anchors": false,
   "latex_user_defs": false,
   "report_style_numbering": false,
   "user_envs_cfg": false
  },
  "toc": {
   "base_numbering": 1,
   "nav_menu": {},
   "number_sections": true,
   "sideBar": true,
   "skip_h1_title": false,
   "title_cell": "Table of Contents",
   "title_sidebar": "Contents",
   "toc_cell": false,
   "toc_position": {},
   "toc_section_display": true,
   "toc_window_display": true
  }
 },
 "nbformat": 4,
 "nbformat_minor": 5
}
