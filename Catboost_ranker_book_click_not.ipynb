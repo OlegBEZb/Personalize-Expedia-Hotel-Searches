{
 "cells": [
  {
   "cell_type": "code",
   "execution_count": 1,
   "id": "ce532ad4",
   "metadata": {},
   "outputs": [],
   "source": [
    "# !pip install catboost"
   ]
  },
  {
   "cell_type": "code",
   "execution_count": 1,
   "id": "1bf6e733",
   "metadata": {},
   "outputs": [],
   "source": [
    "from catboost import CatBoostRanker, Pool, MetricVisualizer, cv\n",
    "\n",
    "import pandas as pd"
   ]
  },
  {
   "cell_type": "markdown",
   "id": "0bebc8da",
   "metadata": {},
   "source": [
    "# Read data"
   ]
  },
  {
   "cell_type": "code",
   "execution_count": 2,
   "id": "1d71fbb4",
   "metadata": {
    "scrolled": true
   },
   "outputs": [
    {
     "data": {
      "text/plain": [
       "(4958347, 54)"
      ]
     },
     "execution_count": 2,
     "metadata": {},
     "output_type": "execute_result"
    }
   ],
   "source": [
    "USE_FULL = True\n",
    "\n",
    "filename = 'data/training_set_VU_DM.csv'\n",
    "\n",
    "if USE_FULL:\n",
    "    df = pd.read_csv(filename)\n",
    "else:\n",
    "    import random\n",
    "    p = 0.1\n",
    "    df = pd.read_csv(filename,\n",
    "                     header=0,\n",
    "                     skiprows=lambda i: i > 0 and random.random() > p)\n",
    "\n",
    "df['date_time'] = pd.to_datetime(df['date_time'])\n",
    "df.shape"
   ]
  },
  {
   "cell_type": "markdown",
   "id": "23afc417",
   "metadata": {},
   "source": [
    "# Simple preproc + split"
   ]
  },
  {
   "cell_type": "code",
   "execution_count": 3,
   "id": "071c0731",
   "metadata": {},
   "outputs": [],
   "source": [
    "CAT_FEATURES = ['site_id',\n",
    "            'visitor_location_country_id',\n",
    "            'prop_country_id',\n",
    "            'prop_id',\n",
    "            'srch_destination_id']\n",
    "\n",
    "bool_cols = ['prop_brand_bool',\n",
    "             'promotion_flag',\n",
    "             'srch_saturday_night_bool',\n",
    "             'random_bool']\n",
    "\n",
    "group_col = 'srch_id'\n",
    "\n",
    "\n",
    "def get_target(row):\n",
    "    \"\"\"\n",
    "    0=not clicked at all, 1=clicked but not booked, 5=booked\n",
    "    \"\"\"\n",
    "    if row.booking_bool>0:\n",
    "        return 5\n",
    "    if row.click_bool>0 :\n",
    "        return 1\n",
    "    return 0\n",
    "\n",
    "ranking_target = 'target'\n",
    "df[ranking_target] = df.apply(get_target, axis=1)"
   ]
  },
  {
   "cell_type": "code",
   "execution_count": 8,
   "id": "25ab4126",
   "metadata": {
    "scrolled": true
   },
   "outputs": [],
   "source": [
    "from utils import train_test_group_split\n",
    "\n",
    "df.sort_values([group_col, 'date_time'], inplace=True)\n",
    "X = df#.drop(['position', 'click_bool', 'gross_bookings_usd', 'booking_bool'], axis=1)\n",
    "y = df[ranking_target]\n",
    "groups = X[group_col]\n",
    "\n",
    "\n",
    "X_train, X_test, y_train, y_test, groups_train, groups_test = train_test_group_split(X, y, groups, \n",
    "                                                                                     group_array=groups,\n",
    "                                                                                     train_size=0.9)\n",
    "X_train = X_train.drop(['position', 'click_bool', 'gross_bookings_usd', 'booking_bool', ranking_target], axis=1)\n",
    "\n",
    "# from sklearn.model_selection import GroupShuffleSplit  # ignores time\n",
    "# gss = GroupShuffleSplit(n_splits=2, train_size=.7, random_state=42)\n",
    "# >>> gss.get_n_splits()\n",
    "# 2\n",
    "# >>> for train_idx, test_idx in gss.split(X, y, groups):\n",
    "# ...     print(\"TRAIN:\", train_idx, \"TEST:\", test_idx)\n",
    "\n",
    "test_pool = Pool(\n",
    "    data=X_test.drop(['position', 'click_bool', 'gross_bookings_usd', 'booking_bool', ranking_target], axis=1),\n",
    "    label=y_test,\n",
    "    group_id=groups_test,\n",
    "    cat_features=CAT_FEATURES,\n",
    ")"
   ]
  },
  {
   "cell_type": "code",
   "execution_count": 9,
   "id": "6596bcd6",
   "metadata": {},
   "outputs": [
    {
     "data": {
      "text/plain": [
       "((4462491, 50), (495856, 55), (4462491,), (495856,), (4462491,), (495856,))"
      ]
     },
     "execution_count": 9,
     "metadata": {},
     "output_type": "execute_result"
    }
   ],
   "source": [
    "X_train.shape, X_test.shape, y_train.shape, y_test.shape, groups_train.shape, groups_test.shape"
   ]
  },
  {
   "cell_type": "code",
   "execution_count": 11,
   "id": "ae150276",
   "metadata": {
    "scrolled": true
   },
   "outputs": [
    {
     "data": {
      "text/plain": [
       "set()"
      ]
     },
     "execution_count": 11,
     "metadata": {},
     "output_type": "execute_result"
    }
   ],
   "source": [
    "set(X_train[group_col]).intersection(set(X_test[group_col]))"
   ]
  },
  {
   "cell_type": "code",
   "execution_count": 12,
   "id": "3386bb2b",
   "metadata": {
    "scrolled": true
   },
   "outputs": [],
   "source": [
    "train_pool = Pool(data=X_train,\n",
    "                  label=y_train,\n",
    "                  group_id=groups_train,\n",
    "                  cat_features=CAT_FEATURES,\n",
    "                  )"
   ]
  },
  {
   "cell_type": "markdown",
   "id": "99458011",
   "metadata": {},
   "source": [
    "# Cross-validation"
   ]
  },
  {
   "cell_type": "code",
   "execution_count": 42,
   "id": "192f596c",
   "metadata": {
    "scrolled": false
   },
   "outputs": [],
   "source": [
    "# %%time\n",
    "\n",
    "# params = {\n",
    "#     \"iterations\": 1000,\n",
    "#     #           'loss_function': 'NDCG:top=5',\n",
    "#     'loss_function': 'QueryRMSE',\n",
    "#     'custom_metric': [\n",
    "#         'NDCG:top=5;type=Base;denominator=LogPosition'\n",
    "#         #                       , 'PFound', 'AverageGain:top=10'\n",
    "#     ],\n",
    "#     \"verbose\": False,\n",
    "#     'early_stopping_rounds': 50,\n",
    "#     #     'logging_level': 'Silent',\n",
    "# }\n",
    "\n",
    "# cv_results, fitted_models = cv(train_pool, params, nfold=3, type='TimeSeries', plot=True,\n",
    "#                                return_models=True)"
   ]
  },
  {
   "cell_type": "code",
   "execution_count": 43,
   "id": "6ca97144",
   "metadata": {},
   "outputs": [],
   "source": [
    "# cv_results"
   ]
  },
  {
   "cell_type": "code",
   "execution_count": 46,
   "id": "a2ebc75e",
   "metadata": {},
   "outputs": [],
   "source": [
    "# model = fitted_models[-1]"
   ]
  },
  {
   "cell_type": "code",
   "execution_count": 44,
   "id": "238868f1",
   "metadata": {
    "scrolled": true
   },
   "outputs": [],
   "source": [
    "# import matplotlib.pyplot as plt\n",
    "\n",
    "# for method in ['LossFunctionChange', 'PredictionValuesChange']:\n",
    "#     fi = model.get_feature_importance(test_pool, type=method)\n",
    "#     feature_score_raw = pd.DataFrame(list(zip(X_test.columns, fi)),\n",
    "#                                      columns=['Feature', 'Score'])\n",
    "\n",
    "#     feature_score = feature_score_raw.sort_values(\n",
    "#         by='Score', ascending=False)\n",
    "\n",
    "#     plt.rcParams[\"figure.figsize\"] = (7, len(feature_score) / 4)\n",
    "#     ax = feature_score.plot('Feature', 'Score', kind='barh', color='c')\n",
    "#     ax.set_title(\"Feature Importance using {}\".format(method), fontsize=14)\n",
    "#     ax.set_xlabel(\"features\")\n",
    "#     ax.invert_yaxis()\n",
    "#     plt.show()"
   ]
  },
  {
   "cell_type": "code",
   "execution_count": 45,
   "id": "2ec9cffd",
   "metadata": {
    "scrolled": true
   },
   "outputs": [],
   "source": [
    "# model.get_all_params()"
   ]
  },
  {
   "cell_type": "markdown",
   "id": "ebec2bf0",
   "metadata": {},
   "source": [
    "# Fit final model"
   ]
  },
  {
   "cell_type": "code",
   "execution_count": 15,
   "id": "a34b60b6",
   "metadata": {},
   "outputs": [],
   "source": [
    "params = {\n",
    "    \"iterations\": 500,\n",
    "    #           'loss_function': 'NDCG:top=5',\n",
    "    'loss_function': 'QueryRMSE',\n",
    "    'custom_metric': [\n",
    "        'NDCG:top=5;type=Base;denominator=LogPosition'\n",
    "        #                       , 'PFound', 'AverageGain:top=10'\n",
    "    ],\n",
    "    \"verbose\": False,\n",
    "    'early_stopping_rounds': 50,\n",
    "    #     'logging_level': 'Silent',\n",
    "}"
   ]
  },
  {
   "cell_type": "code",
   "execution_count": 16,
   "id": "4d97e9e4",
   "metadata": {},
   "outputs": [
    {
     "data": {
      "text/plain": [
       "['site_id',\n",
       " 'visitor_location_country_id',\n",
       " 'prop_country_id',\n",
       " 'prop_id',\n",
       " 'srch_destination_id']"
      ]
     },
     "execution_count": 16,
     "metadata": {},
     "output_type": "execute_result"
    }
   ],
   "source": [
    "CAT_FEATURES"
   ]
  },
  {
   "cell_type": "code",
   "execution_count": 17,
   "id": "bb6c6eac",
   "metadata": {
    "scrolled": false
   },
   "outputs": [
    {
     "data": {
      "application/vnd.jupyter.widget-view+json": {
       "model_id": "9e0c6d9fbd5f49e78d0df0e6a75aa389",
       "version_major": 2,
       "version_minor": 0
      },
      "text/plain": [
       "MetricVisualizer(layout=Layout(align_self='stretch', height='500px'))"
      ]
     },
     "metadata": {},
     "output_type": "display_data"
    },
    {
     "data": {
      "text/plain": [
       "<catboost.core.CatBoostRanker at 0x7fb3a87abe80>"
      ]
     },
     "execution_count": 17,
     "metadata": {},
     "output_type": "execute_result"
    }
   ],
   "source": [
    "model = CatBoostRanker(**params)\n",
    "model.fit(train_pool, eval_set=test_pool, plot=True)"
   ]
  },
  {
   "cell_type": "markdown",
   "id": "be97223d",
   "metadata": {},
   "source": [
    "# Eval"
   ]
  },
  {
   "cell_type": "code",
   "execution_count": 35,
   "id": "517dd87f",
   "metadata": {
    "scrolled": true
   },
   "outputs": [
    {
     "data": {
      "text/html": [
       "<div>\n",
       "<style scoped>\n",
       "    .dataframe tbody tr th:only-of-type {\n",
       "        vertical-align: middle;\n",
       "    }\n",
       "\n",
       "    .dataframe tbody tr th {\n",
       "        vertical-align: top;\n",
       "    }\n",
       "\n",
       "    .dataframe thead th {\n",
       "        text-align: right;\n",
       "    }\n",
       "</style>\n",
       "<table border=\"1\" class=\"dataframe\">\n",
       "  <thead>\n",
       "    <tr style=\"text-align: right;\">\n",
       "      <th></th>\n",
       "      <th>srch_id</th>\n",
       "      <th>prop_id</th>\n",
       "      <th>target_pred</th>\n",
       "      <th>target_gt</th>\n",
       "    </tr>\n",
       "  </thead>\n",
       "  <tbody>\n",
       "    <tr>\n",
       "      <th>4462515</th>\n",
       "      <td>299424</td>\n",
       "      <td>109781</td>\n",
       "      <td>0.207417</td>\n",
       "      <td>0</td>\n",
       "    </tr>\n",
       "    <tr>\n",
       "      <th>4462508</th>\n",
       "      <td>299424</td>\n",
       "      <td>67489</td>\n",
       "      <td>0.151551</td>\n",
       "      <td>0</td>\n",
       "    </tr>\n",
       "    <tr>\n",
       "      <th>4462505</th>\n",
       "      <td>299424</td>\n",
       "      <td>58030</td>\n",
       "      <td>0.131362</td>\n",
       "      <td>0</td>\n",
       "    </tr>\n",
       "    <tr>\n",
       "      <th>4462506</th>\n",
       "      <td>299424</td>\n",
       "      <td>59976</td>\n",
       "      <td>0.089973</td>\n",
       "      <td>5</td>\n",
       "    </tr>\n",
       "    <tr>\n",
       "      <th>4462494</th>\n",
       "      <td>299424</td>\n",
       "      <td>18873</td>\n",
       "      <td>0.077576</td>\n",
       "      <td>0</td>\n",
       "    </tr>\n",
       "  </tbody>\n",
       "</table>\n",
       "</div>"
      ],
      "text/plain": [
       "         srch_id  prop_id  target_pred  target_gt\n",
       "4462515   299424   109781     0.207417          0\n",
       "4462508   299424    67489     0.151551          0\n",
       "4462505   299424    58030     0.131362          0\n",
       "4462506   299424    59976     0.089973          5\n",
       "4462494   299424    18873     0.077576          0"
      ]
     },
     "execution_count": 35,
     "metadata": {},
     "output_type": "execute_result"
    }
   ],
   "source": [
    "test_preds = model.predict(test_pool)\n",
    "\n",
    "test_results_df = pd.DataFrame({group_col: groups_test,\n",
    "                        'prop_id': X_test['prop_id'],\n",
    "                        ranking_target+'_pred': test_preds,\n",
    "                        ranking_target+'_gt': y_test,\n",
    "                         })\n",
    "test_results_df.sort_values(by=[group_col, ranking_target+'_pred'],\n",
    "                            ascending=[True, False], inplace=True)\n",
    "\n",
    "test_results_df.head()"
   ]
  },
  {
   "cell_type": "code",
   "execution_count": 38,
   "id": "158e72f6",
   "metadata": {
    "scrolled": true
   },
   "outputs": [
    {
     "name": "stdout",
     "output_type": "stream",
     "text": [
      "NDCG which is used for competition evaluation\n"
     ]
    },
    {
     "data": {
      "text/plain": [
       "0.37258898953021224"
      ]
     },
     "execution_count": 38,
     "metadata": {},
     "output_type": "execute_result"
    }
   ],
   "source": [
    "from metrics import ndcg\n",
    "\n",
    "print('NDCG which is used for competition evaluation')\n",
    "test_results_df.groupby('srch_id')[ranking_target+'_gt'].apply(ndcg, at=5).mean()"
   ]
  },
  {
   "cell_type": "markdown",
   "id": "b7ee9100",
   "metadata": {},
   "source": [
    "# Make preds"
   ]
  },
  {
   "cell_type": "code",
   "execution_count": 39,
   "id": "676ae149",
   "metadata": {
    "scrolled": true
   },
   "outputs": [],
   "source": [
    "# # subm_df = pd.read_csv('data/test_set_VU_DM.csv')\n",
    "# subm_df['date_time'] = pd.to_datetime(subm_df['date_time'])\n",
    "\n",
    "# subm_pool = Pool(\n",
    "#     data=subm_df,\n",
    "#     group_id=subm_df[group_col],\n",
    "#     cat_features=CAT_FEATURES,\n",
    "# )"
   ]
  },
  {
   "cell_type": "code",
   "execution_count": 40,
   "id": "5c4700ed",
   "metadata": {},
   "outputs": [],
   "source": [
    "# pred = model.predict(subm_pool)\n",
    "\n",
    "# output_df = pd.DataFrame({group_col: subm_df[group_col],\n",
    "#                         'prop_id': subm_df['prop_id'],\n",
    "#                         ranking_target: pred,\n",
    "# #                         'gt': y_test\n",
    "#                          })\n",
    "\n",
    "# output_df.sort_values([group_col, 'position'], inplace=True)\n",
    "# output_df[[group_col, 'prop_id']].to_csv('sumbission.csv', index=False)\n",
    "# output_df.head(10)"
   ]
  },
  {
   "cell_type": "code",
   "execution_count": 41,
   "id": "79fec51f",
   "metadata": {},
   "outputs": [],
   "source": [
    "# pd.read_csv('sumbission.csv', nrows=10)"
   ]
  }
 ],
 "metadata": {
  "kernelspec": {
   "display_name": "Python 3",
   "language": "python",
   "name": "python3"
  },
  "language_info": {
   "codemirror_mode": {
    "name": "ipython",
    "version": 3
   },
   "file_extension": ".py",
   "mimetype": "text/x-python",
   "name": "python",
   "nbconvert_exporter": "python",
   "pygments_lexer": "ipython3",
   "version": "3.8.8"
  },
  "latex_envs": {
   "LaTeX_envs_menu_present": true,
   "autoclose": false,
   "autocomplete": true,
   "bibliofile": "biblio.bib",
   "cite_by": "apalike",
   "current_citInitial": 1,
   "eqLabelWithNumbers": true,
   "eqNumInitial": 1,
   "hotkeys": {
    "equation": "Ctrl-E",
    "itemize": "Ctrl-I"
   },
   "labels_anchors": false,
   "latex_user_defs": false,
   "report_style_numbering": false,
   "user_envs_cfg": false
  },
  "toc": {
   "base_numbering": 1,
   "nav_menu": {},
   "number_sections": true,
   "sideBar": true,
   "skip_h1_title": false,
   "title_cell": "Table of Contents",
   "title_sidebar": "Contents",
   "toc_cell": false,
   "toc_position": {},
   "toc_section_display": true,
   "toc_window_display": true
  }
 },
 "nbformat": 4,
 "nbformat_minor": 5
}
